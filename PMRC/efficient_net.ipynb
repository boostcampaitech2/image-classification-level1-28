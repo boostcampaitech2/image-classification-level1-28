{
 "cells": [
  {
   "cell_type": "code",
   "execution_count": 1,
   "metadata": {},
   "outputs": [
    {
     "name": "stdout",
     "output_type": "stream",
     "text": [
      "CUDA GPU availalbe : True\n",
      "1 GPU(s) is(are) allocated\n"
     ]
    }
   ],
   "source": [
    "# GPU 할당확인 \n",
    "import torch\n",
    "\n",
    "print('CUDA GPU availalbe : {}'.format(torch.cuda.is_available()))\n",
    "try:\n",
    "    print('{} GPU(s) is(are) allocated'.format(torch.cuda.device_count()))\n",
    "except:\n",
    "    print('GPUs are not allocated. Current runtime is on CPU.')"
   ]
  },
  {
   "cell_type": "code",
   "execution_count": 2,
   "metadata": {},
   "outputs": [],
   "source": [
    "import numpy as np\n",
    "import pandas as pd\n",
    "import os\n",
    "from PIL import Image\n",
    "import matplotlib.pyplot as plt\n",
    "import random\n",
    "import cv2\n",
    "import copy\n",
    "\n",
    "import torch\n",
    "import torchvision\n",
    "from torchvision import datasets, models, transforms\n",
    "from torch.utils.data import Dataset, DataLoader\n",
    "import torch.nn as nn\n",
    "import torch.optim as optim\n",
    "from torch.optim import Adam, lr_scheduler\n",
    "import torch.nn.functional as F\n",
    "from efficientnet_pytorch import EfficientNet\n",
    "from torch.utils.tensorboard import SummaryWriter\n",
    "import time"
   ]
  },
  {
   "cell_type": "code",
   "execution_count": 3,
   "metadata": {},
   "outputs": [],
   "source": [
    "# import wandb\n",
    "\n",
    "\n",
    "\n",
    "# config = {\"epochs\":epochs, \"batch_size\":batch_size, \"learning_rate\":lr}\n",
    "# wandb.init(project=\"boost_2nd_pstage_1\",config=config)"
   ]
  },
  {
   "cell_type": "code",
   "execution_count": 4,
   "metadata": {},
   "outputs": [],
   "source": [
    "batch_size = 32\n",
    "epochs = 15\n",
    "lr = 3e-4\n",
    "model_name = \"argument_control\"\n",
    "seed = 42\n",
    "val_ratio = 0.2\n",
    "check_period = 40\n",
    "fullTrain = False\n",
    "\n",
    "csv_dir = '/tf/pstage_1/train/train.csv'\n",
    "train_dir = '/tf/pstage_1/train'\n",
    "root_dir = '/tf/pstage_1/train/images/'"
   ]
  },
  {
   "cell_type": "code",
   "execution_count": 5,
   "metadata": {},
   "outputs": [],
   "source": [
    "class MyDataset(Dataset):\n",
    "    def __init__(self, csv_file, root_dir, is_Train=True, val_ratio = 0.2, seed = 42, full_Train = False, transform=None):\n",
    "        \"\"\"\n",
    "        Args:\n",
    "            csv_file (string): csv 파일의 경로\n",
    "            img_dir (string): 모든 이미지가 존재하는 디렉토리 경로\n",
    "            transform (callable, optional): 샘플에 적용될 Optional transform\n",
    "        \"\"\"\n",
    "        super().__init__()\n",
    "\n",
    "        csv = pd.read_csv(csv_file)\n",
    "        self.root_dir = root_dir\n",
    "        self.transform = transform\n",
    "\n",
    "        self.img_path = []\n",
    "\n",
    "        if not full_Train:\n",
    "            path = csv.path.values\n",
    "            np.random.seed(seed) \n",
    "            np.random.shuffle(path)\n",
    "            n_val = int(len(path) * val_ratio)\n",
    "            \n",
    "            if is_Train:\n",
    "                people = path[n_val:]\n",
    "            else:\n",
    "                people = path[:n_val]\n",
    "        else:\n",
    "            people = csv.path.values\n",
    "\n",
    "        for person in people:\n",
    "            images = [root_dir + person + '/' + image for image in os.listdir(root_dir + person) if not image[:1] == '.']\n",
    "            for image in images:\n",
    "                self.img_path.append(image)\n",
    "\n",
    "        self.comb_dic = {}\n",
    "        comb = [(m, g, a) for m in ['m', 'i', 'n'] for g in ['male', 'female'] for a in [0, 1, 2]]\n",
    "        for i, (m, g, a) in enumerate(comb):\n",
    "            self.comb_dic[(m, g, a)] = i\n",
    "\n",
    "    def __len__(self):\n",
    "        return len(self.img_path)\n",
    "\n",
    "    def __getitem__(self, idx):\n",
    "        img_name = self.img_path[idx]\n",
    "\n",
    "        mask = img_name.split('/')[-1][:1]\n",
    "        features = img_name.split('/')[-2].split('_')\n",
    "        gender = features[1]\n",
    "        if features[3] in ['58', '59']:\n",
    "            age = 2\n",
    "        else:\n",
    "            age = int(features[3]) // 30\n",
    "        target = self.comb_dic[(mask, gender, age)]\n",
    "            \n",
    "        # Albumentations\n",
    "        img = cv2.imread(img_name)\n",
    "        img = cv2.cvtColor(img, cv2.COLOR_BGR2RGB)\n",
    "        if self.transform:\n",
    "\n",
    "            img = self.transform(image=img)[\"image\"]\n",
    "        # Albumentations\n",
    "        \n",
    "        return img, target"
   ]
  },
  {
   "cell_type": "code",
   "execution_count": 6,
   "metadata": {},
   "outputs": [],
   "source": [
    "class Net(nn.Module):\n",
    "    def __init__(self):\n",
    "        super().__init__()\n",
    "        self.model = EfficientNet.from_pretrained('efficientnet-b4', num_classes=18)\n",
    "        \n",
    "    def forward(self, x):\n",
    "        x = self.model(x)\n",
    "        return x"
   ]
  },
  {
   "cell_type": "code",
   "execution_count": 7,
   "metadata": {},
   "outputs": [
    {
     "name": "stdout",
     "output_type": "stream",
     "text": [
      "Loaded pretrained weights for efficientnet-b4\n"
     ]
    }
   ],
   "source": [
    "net = Net()"
   ]
  },
  {
   "cell_type": "code",
   "execution_count": 8,
   "metadata": {},
   "outputs": [],
   "source": [
    "from torch.utils.data.sampler import SubsetRandomSampler\n",
    "from torch.utils.data.dataset import random_split\n",
    "import albumentations as A\n",
    "from albumentations.pytorch import ToTensorV2\n",
    "\n",
    "transform_train = A.Compose([\n",
    "    A.RandomCrop(height = 450, width = 360),\n",
    "    A.ShiftScaleRotate(p=0.5),\n",
    "    A.RandomBrightnessContrast(p=0.5),\n",
    "#     A.CenterCrop(height=450, width=360),\n",
    "    A.SmallestMaxSize(max_size=160),\n",
    "    A.Normalize(mean=(0.485, 0.456, 0.406), std=(0.229, 0.224, 0.225)),\n",
    "    ToTensorV2()\n",
    "])\n",
    "\n",
    "transform_val = A.Compose([\n",
    "#     A.ShiftScaleRotate(p=0.5),\n",
    "    A.CenterCrop(height=450, width=360),\n",
    "    A.SmallestMaxSize(max_size=160),\n",
    "    A.Normalize(mean=(0.485, 0.456, 0.406), std=(0.229, 0.224, 0.225)),\n",
    "    ToTensorV2()\n",
    "])\n",
    "\n",
    "# Validation set generate\n",
    "if not fullTrain:\n",
    "    train_dataset = MyDataset(csv_dir, root_dir, is_Train=True, val_ratio = val_ratio, seed = seed, \n",
    "                             full_Train = fullTrain, transform=transform_train)\n",
    "    val_dataset = MyDataset(csv_dir, root_dir, is_Train=False, val_ratio = val_ratio, seed = seed, \n",
    "                             full_Train = fullTrain, transform=transform_val)\n",
    "    train_loader = DataLoader(train_dataset, batch_size=batch_size, pin_memory=True, num_workers=4)\n",
    "    val_loader = DataLoader(val_dataset, batch_size=batch_size, pin_memory=True, num_workers=4)\n",
    "\n",
    "# All training\n",
    "else:\n",
    "    dataset = MyDataset(csv_dir, root_dir, is_Train=True, full_Train = fullTrain, transform=transform_train)\n",
    "    train_loader = DataLoader(dataset, batch_size=batch_size, pin_memory=True, num_workers=1, shuffle=True)"
   ]
  },
  {
   "cell_type": "code",
   "execution_count": 9,
   "metadata": {},
   "outputs": [],
   "source": [
    "# idx = int(random.random()*len(train_dataset))\n",
    "# # idx = 1637\n",
    "# print(idx)\n",
    "\n",
    "# plt.imshow(train_dataset[idx][0])"
   ]
  },
  {
   "cell_type": "code",
   "execution_count": 10,
   "metadata": {},
   "outputs": [],
   "source": [
    "from torch.optim import AdamW"
   ]
  },
  {
   "cell_type": "code",
   "execution_count": 11,
   "metadata": {},
   "outputs": [],
   "source": [
    "# -- Focal Loss\n",
    "# https://discuss.pytorch.org/t/is-this-a-correct-implementation-for-focal-loss-in-pytorch/43327/8\n",
    "class FocalLoss(nn.Module):\n",
    "    def __init__(self, weight=None,\n",
    "                 gamma=0.8, reduction='mean'):\n",
    "        nn.Module.__init__(self)\n",
    "        self.weight = weight\n",
    "        self.gamma = gamma\n",
    "        self.reduction = reduction\n",
    "\n",
    "    def forward(self, input_tensor, target_tensor):\n",
    "        log_prob = F.log_softmax(input_tensor, dim=-1)\n",
    "        prob = torch.exp(log_prob)\n",
    "        return F.nll_loss(\n",
    "            ((1 - prob) ** self.gamma) * log_prob,\n",
    "            target_tensor,\n",
    "            weight=self.weight,\n",
    "            reduction=self.reduction\n",
    "        )"
   ]
  },
  {
   "cell_type": "code",
   "execution_count": 12,
   "metadata": {},
   "outputs": [],
   "source": [
    "#criterion = nn.CrossEntropyLoss()\n",
    "criterion = FocalLoss()\n",
    "optimizer = AdamW(net.parameters(), lr=lr)\n",
    "scheduler = lr_scheduler.StepLR(optimizer, step_size=2, gamma=0.2)"
   ]
  },
  {
   "cell_type": "code",
   "execution_count": 13,
   "metadata": {},
   "outputs": [],
   "source": [
    "class AverageMeter(object):\n",
    "    \"\"\"Computes and stores the average and current value\"\"\"\n",
    "    def __init__(self):\n",
    "        self.reset()\n",
    "\n",
    "    def reset(self):\n",
    "        self.val = 0\n",
    "        self.avg = 0\n",
    "        self.sum = 0\n",
    "        self.count = 0\n",
    "\n",
    "    def update(self, val, n=1):\n",
    "        self.val = val\n",
    "        self.sum += val * n\n",
    "        self.count += n\n",
    "        self.avg = self.sum / self.count"
   ]
  },
  {
   "cell_type": "code",
   "execution_count": null,
   "metadata": {
    "tags": []
   },
   "outputs": [
    {
     "name": "stdout",
     "output_type": "stream",
     "text": [
      "Epoch 1/15\n",
      "============\n",
      "Iter [  0/473] | Train Loss 2.8100 | Valid Loss 2.7869 | Valid Acc 0.0537 | Time(iter) 0.3265\n"
     ]
    }
   ],
   "source": [
    "net.cuda()\n",
    "# best_acc = 0.0\n",
    "os.makedirs('model', exist_ok=True)\n",
    "for epoch in range(epochs):\n",
    "    print('Epoch {}/{}'.format(epoch + 1, epochs))\n",
    "    print('='*12)\n",
    "    # Train\n",
    "    bestResult = 0.0\n",
    "    for iter, (img, label) in enumerate(train_loader):\n",
    "        start = time.time()\n",
    "        \n",
    "        # forward propagation\n",
    "        optimizer.zero_grad()\n",
    "        img, label = img.type(torch.FloatTensor).cuda(), label.cuda()\n",
    "        pred_logit = net(img)\n",
    "        loss = criterion(pred_logit, label)\n",
    "        \n",
    "        # backward propagation\n",
    "        loss.backward()\n",
    "        optimizer.step()\n",
    "        train_loss = loss.item()\n",
    "        \n",
    "        end = time.time()\n",
    "        \n",
    "        # Check\n",
    "        if (iter % check_period == 0) or (iter == len(train_loader)-1):\n",
    "            \n",
    "            # Validation            \n",
    "            if not fullTrain:\n",
    "                valid_loss, valid_acc = AverageMeter(), AverageMeter()\n",
    "\n",
    "                for img, label in val_loader:\n",
    "                    img, label = img.type(torch.FloatTensor).cuda(), label.cuda()\n",
    "                    with torch.no_grad():\n",
    "                        pred_logit = net(img)\n",
    "                    loss = criterion(pred_logit, label)\n",
    "\n",
    "                    # Accuracy 계산\n",
    "                    pred_label = torch.max(pred_logit, 1)[1]\n",
    "                    acc = (pred_label == label).sum() / np.float(len(img))\n",
    "\n",
    "                    valid_loss.update(loss.item(), len(img))\n",
    "                    valid_acc.update(acc, len(img))\n",
    "\n",
    "                valid_loss = valid_loss.avg\n",
    "                valid_acc = valid_acc.avg\n",
    "\n",
    "                print(\"Iter [%3d/%3d] | Train Loss %.4f | Valid Loss %.4f | Valid Acc %.4f | Time(iter) %.4f\"  %\n",
    "                    (iter, len(train_loader), train_loss, valid_loss, valid_acc, end - start))\n",
    "                if valid_acc > bestResult:\n",
    "                    bestResult = valid_acc\n",
    "                    best_model_weights = copy.deepcopy(net.state_dict())\n",
    "                    \n",
    "            # Full data training check    \n",
    "            else:\n",
    "                if train_loss < bestResult:\n",
    "                    bestResult = train_loss\n",
    "                    best_model_weights = copy.deepcopy(net.state_dict())\n",
    "                    \n",
    "                print(\"Iter [%3d/%3d] | Train Loss %.4f | Time(iter) %.4f\" %\n",
    "                    (iter, len(train_loader), train_loss, end-start))\n",
    "        # Check\n",
    "    # Train\n",
    "    if epoch < epochs:\n",
    "        scheduler.step()\n",
    "        \n",
    "    torch.save(best_model_weights, f'model/efficientnet_{model_name}_epoch{epoch + 1}.pth')\n",
    "    print(\"BEST in epoch {} | Acc {:.4f}\".format(epoch + 1, bestResult))\n",
    "    \n",
    "print('Finished training')"
   ]
  },
  {
   "cell_type": "markdown",
   "metadata": {},
   "source": [
    "# Inference"
   ]
  },
  {
   "cell_type": "code",
   "execution_count": null,
   "metadata": {},
   "outputs": [],
   "source": [
    "test_dir = '/tf/pstage_1/eval'\n",
    "\n",
    "class TestDataset(Dataset):\n",
    "    def __init__(self, img_paths, transform):\n",
    "        self.img_paths = img_paths\n",
    "        self.transform = transform\n",
    "\n",
    "    def __getitem__(self, index):\n",
    "#         image = Image.open(self.img_paths[index])\n",
    "        \n",
    "        # Albumentations\n",
    "        image = cv2.imread(self.img_paths[index])\n",
    "        image = cv2.cvtColor(image, cv2.COLOR_BGR2RGB)\n",
    "        if self.transform:\n",
    "            image = self.transform(image=image)[\"image\"]\n",
    "        # Albumentations\n",
    "        \n",
    "        # Ori\n",
    "#         if self.transform:\n",
    "#             image = self.transform(image)\n",
    "        # Ori\n",
    "        return image\n",
    "\n",
    "        \n",
    "    def __len__(self):\n",
    "        return len(self.img_paths)"
   ]
  },
  {
   "cell_type": "code",
   "execution_count": null,
   "metadata": {
    "tags": []
   },
   "outputs": [],
   "source": [
    "# meta 데이터와 이미지 경로를 불러옵니다.\n",
    "submission = pd.read_csv(os.path.join(test_dir, 'info.csv'))\n",
    "image_dir = os.path.join(test_dir, 'images')\n",
    "\n",
    "# Test Dataset 클래스 객체를 생성하고 DataLoader를 만듭니다.\n",
    "image_paths = [os.path.join(image_dir, img_id) for img_id in submission.ImageID]\n",
    "\n",
    "dataset = TestDataset(image_paths, transform_val)\n",
    "\n",
    "loader = DataLoader(\n",
    "    dataset,\n",
    "    batch_size=256,\n",
    "    shuffle=False,\n",
    "    num_workers=4\n",
    ")\n",
    "\n",
    "# 모델을 정의합니다. (학습한 모델이 있다면 torch.load로 모델을 불러주세요!)\n",
    "model = Net()\n",
    "model.load_state_dict(torch.load('model/efficientnet_argument_control_epoch1.pth'))\n",
    "model.eval()\n",
    "model.cuda()\n",
    "\n",
    "# 모델이 테스트 데이터셋을 예측하고 결과를 저장합니다.\n",
    "all_predictions = []\n",
    "for img in loader:\n",
    "    img = img.type(torch.FloatTensor).cuda()\n",
    "    with torch.no_grad():\n",
    "        pred_logit = model(img)\n",
    "        pred = pred_logit.argmax(dim=-1)\n",
    "        all_predictions.extend(pred.cpu().numpy())\n",
    "submission['ans'] = all_predictions\n",
    "\n",
    "# 제출할 파일을 저장합니다.\n",
    "submission.to_csv(os.path.join(test_dir, 'testest.csv'), index=False)\n",
    "print('test inference is done!')"
   ]
  },
  {
   "cell_type": "code",
   "execution_count": null,
   "metadata": {},
   "outputs": [],
   "source": []
  },
  {
   "cell_type": "code",
   "execution_count": null,
   "metadata": {},
   "outputs": [],
   "source": []
  }
 ],
 "metadata": {
  "kernelspec": {
   "display_name": "Python 3",
   "language": "python",
   "name": "python3"
  },
  "language_info": {
   "codemirror_mode": {
    "name": "ipython",
    "version": 3
   },
   "file_extension": ".py",
   "mimetype": "text/x-python",
   "name": "python",
   "nbconvert_exporter": "python",
   "pygments_lexer": "ipython3",
   "version": "3.6.8"
  }
 },
 "nbformat": 4,
 "nbformat_minor": 5
}
