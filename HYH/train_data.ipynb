{
 "cells": [
  {
   "cell_type": "code",
   "execution_count": 25,
   "id": "13e6de5a-5a96-4ebc-9b94-85cbe9c442a1",
   "metadata": {
    "tags": []
   },
   "outputs": [],
   "source": [
    "import os\n",
    "import sys\n",
    "import tarfile\n",
    "import platform\n",
    "from torch.utils.data import Dataset, DataLoader"
   ]
  },
  {
   "cell_type": "code",
   "execution_count": 88,
   "id": "3b9e3796-b3b5-4c09-b5fb-894ad98042cb",
   "metadata": {},
   "outputs": [],
   "source": [
    "import torch\n",
    "import torch.nn as nn\n",
    "import numpy as np\n",
    "import pandas as pd\n",
    "import torchvision\n",
    "from torchvision import transforms, utils"
   ]
  },
  {
   "cell_type": "code",
   "execution_count": 107,
   "id": "ad0ef2e9-5947-491b-842a-e7e7c3c11900",
   "metadata": {},
   "outputs": [],
   "source": [
    "from glob import glob\n",
    "from PIL import Image\n",
    "import re"
   ]
  },
  {
   "cell_type": "code",
   "execution_count": 30,
   "id": "77a6da46-d60d-4d83-ba48-09bc5d647d35",
   "metadata": {},
   "outputs": [
    {
     "name": "stdout",
     "output_type": "stream",
     "text": [
      "Current OS: Linux\n",
      "CUDA: True\n",
      "Python Version: 3.8.5\n",
      "torch Version: 1.7.1\n",
      "torchvision Version: 0.8.2\n"
     ]
    }
   ],
   "source": [
    "current_os = platform.system()\n",
    "print(f\"Current OS: {current_os}\")\n",
    "print(f\"CUDA: {torch.cuda.is_available()}\")\n",
    "print(f\"Python Version: {platform.python_version()}\")\n",
    "print(f\"torch Version: {torch.__version__}\")\n",
    "print(f\"torchvision Version: {torchvision.__version__}\")"
   ]
  },
  {
   "cell_type": "code",
   "execution_count": null,
   "id": "f8e099ae-b0ac-410c-be2e-05d7967ad980",
   "metadata": {},
   "outputs": [],
   "source": [
    "#!wget https://aistages-prod-server-public.s3.amazonaws.com/app/Competitions/000074/data/train.tar.gz"
   ]
  },
  {
   "cell_type": "code",
   "execution_count": 151,
   "id": "1698a567-f26a-495e-bf9e-676538ee0ad4",
   "metadata": {},
   "outputs": [],
   "source": [
    "p = re.compile('\\w+[^0-9.]')"
   ]
  },
  {
   "cell_type": "code",
   "execution_count": 154,
   "id": "5447055d-7ecb-4eb6-9d71-0ad197c35460",
   "metadata": {},
   "outputs": [
    {
     "data": {
      "text/plain": [
       "['incorrect_image', 'jpg']"
      ]
     },
     "execution_count": 154,
     "metadata": {},
     "output_type": "execute_result"
    }
   ],
   "source": [
    "p.findall('incorrect_image.jpg')"
   ]
  },
  {
   "cell_type": "code",
   "execution_count": 96,
   "id": "dc7faa99-ce12-47fe-bd52-2cd9025ec148",
   "metadata": {},
   "outputs": [
    {
     "data": {
      "text/plain": [
       "['._mask3.jpg',\n",
       " 'incorrect_mask.jpg',\n",
       " 'mask3.jpg',\n",
       " '._mask2.jpg',\n",
       " 'mask4.jpg',\n",
       " '._mask4.jpg',\n",
       " '._mask5.jpg',\n",
       " '._mask1.jpg',\n",
       " 'normal.jpg',\n",
       " 'mask2.jpg',\n",
       " '._normal.jpg',\n",
       " '._incorrect_mask.jpg',\n",
       " 'mask5.jpg',\n",
       " 'mask1.jpg']"
      ]
     },
     "execution_count": 96,
     "metadata": {},
     "output_type": "execute_result"
    }
   ],
   "source": [
    "path_dir = './input/data/train/'\n",
    "path_img = os.path.join(path_dir,'images')\n",
    "os.listdir(path_dir),os.listdir(path_img)[:5]\n",
    "os.listdir(os.path.join(path_img,'005254_male_Asian_21'))"
   ]
  },
  {
   "cell_type": "code",
   "execution_count": 93,
   "id": "1140248d-6733-4a6b-9089-5b74df27d378",
   "metadata": {},
   "outputs": [
    {
     "data": {
      "text/html": [
       "<div>\n",
       "<style scoped>\n",
       "    .dataframe tbody tr th:only-of-type {\n",
       "        vertical-align: middle;\n",
       "    }\n",
       "\n",
       "    .dataframe tbody tr th {\n",
       "        vertical-align: top;\n",
       "    }\n",
       "\n",
       "    .dataframe thead th {\n",
       "        text-align: right;\n",
       "    }\n",
       "</style>\n",
       "<table border=\"1\" class=\"dataframe\">\n",
       "  <thead>\n",
       "    <tr style=\"text-align: right;\">\n",
       "      <th></th>\n",
       "      <th>id</th>\n",
       "      <th>gender</th>\n",
       "      <th>race</th>\n",
       "      <th>age</th>\n",
       "      <th>path</th>\n",
       "    </tr>\n",
       "  </thead>\n",
       "  <tbody>\n",
       "    <tr>\n",
       "      <th>0</th>\n",
       "      <td>000001</td>\n",
       "      <td>female</td>\n",
       "      <td>Asian</td>\n",
       "      <td>45</td>\n",
       "      <td>000001_female_Asian_45</td>\n",
       "    </tr>\n",
       "    <tr>\n",
       "      <th>1</th>\n",
       "      <td>000002</td>\n",
       "      <td>female</td>\n",
       "      <td>Asian</td>\n",
       "      <td>52</td>\n",
       "      <td>000002_female_Asian_52</td>\n",
       "    </tr>\n",
       "    <tr>\n",
       "      <th>2</th>\n",
       "      <td>000004</td>\n",
       "      <td>male</td>\n",
       "      <td>Asian</td>\n",
       "      <td>54</td>\n",
       "      <td>000004_male_Asian_54</td>\n",
       "    </tr>\n",
       "    <tr>\n",
       "      <th>3</th>\n",
       "      <td>000005</td>\n",
       "      <td>female</td>\n",
       "      <td>Asian</td>\n",
       "      <td>58</td>\n",
       "      <td>000005_female_Asian_58</td>\n",
       "    </tr>\n",
       "    <tr>\n",
       "      <th>4</th>\n",
       "      <td>000006</td>\n",
       "      <td>female</td>\n",
       "      <td>Asian</td>\n",
       "      <td>59</td>\n",
       "      <td>000006_female_Asian_59</td>\n",
       "    </tr>\n",
       "  </tbody>\n",
       "</table>\n",
       "</div>"
      ],
      "text/plain": [
       "       id  gender   race  age                    path\n",
       "0  000001  female  Asian   45  000001_female_Asian_45\n",
       "1  000002  female  Asian   52  000002_female_Asian_52\n",
       "2  000004    male  Asian   54    000004_male_Asian_54\n",
       "3  000005  female  Asian   58  000005_female_Asian_58\n",
       "4  000006  female  Asian   59  000006_female_Asian_59"
      ]
     },
     "execution_count": 93,
     "metadata": {},
     "output_type": "execute_result"
    }
   ],
   "source": [
    "train_data = pd.read_csv(os.path.join(path_dir,'train.csv'))"
   ]
  },
  {
   "cell_type": "code",
   "execution_count": 157,
   "id": "1eba42c5-eb06-454c-a421-1d1b6694c570",
   "metadata": {},
   "outputs": [],
   "source": [
    "train_data = pd.read_csv('./input/data/train/train.csv')\n",
    "temp = pd.DataFrame(columns = ['id','path_img','Mask'])\n",
    "p = re.compile('\\w+[^0-9.]')\n",
    "\n",
    "for _id,_path in zip(train_data.id,train_data.path):\n",
    "    temp_path = os.path.join(path_img,_path)\n",
    "    for path in os.listdir(temp_path):\n",
    "        if path[0] != '.':\n",
    "            temp=temp.append(pd.DataFrame({'id' : [_id], 'path_img':[os.path.join(temp_path,path)],'Mask':[p.findall(path)[0]]},columns = ['id','path_img','Mask']))\n",
    "upd_train_data=pd.merge(train_data, temp, how='outer',on='id')"
   ]
  },
  {
   "cell_type": "code",
   "execution_count": 166,
   "id": "5e6d0d69-a88d-4d82-a015-1e0aece907f8",
   "metadata": {
    "collapsed": true,
    "jupyter": {
     "outputs_hidden": true
    },
    "tags": []
   },
   "outputs": [
    {
     "data": {
      "text/html": [
       "<div>\n",
       "<style scoped>\n",
       "    .dataframe tbody tr th:only-of-type {\n",
       "        vertical-align: middle;\n",
       "    }\n",
       "\n",
       "    .dataframe tbody tr th {\n",
       "        vertical-align: top;\n",
       "    }\n",
       "\n",
       "    .dataframe thead th {\n",
       "        text-align: right;\n",
       "    }\n",
       "</style>\n",
       "<table border=\"1\" class=\"dataframe\">\n",
       "  <thead>\n",
       "    <tr style=\"text-align: right;\">\n",
       "      <th></th>\n",
       "      <th>id</th>\n",
       "      <th>gender</th>\n",
       "      <th>race</th>\n",
       "      <th>age</th>\n",
       "      <th>path</th>\n",
       "      <th>path_img</th>\n",
       "      <th>Mask</th>\n",
       "      <th>cls</th>\n",
       "    </tr>\n",
       "  </thead>\n",
       "  <tbody>\n",
       "    <tr>\n",
       "      <th>0</th>\n",
       "      <td>000001</td>\n",
       "      <td>female</td>\n",
       "      <td>Asian</td>\n",
       "      <td>45</td>\n",
       "      <td>000001_female_Asian_45</td>\n",
       "      <td>./input/data/train/images/000001_female_Asian_...</td>\n",
       "      <td>incorrect_mask</td>\n",
       "      <td>NaN</td>\n",
       "    </tr>\n",
       "    <tr>\n",
       "      <th>1</th>\n",
       "      <td>000001</td>\n",
       "      <td>female</td>\n",
       "      <td>Asian</td>\n",
       "      <td>45</td>\n",
       "      <td>000001_female_Asian_45</td>\n",
       "      <td>./input/data/train/images/000001_female_Asian_...</td>\n",
       "      <td>mask</td>\n",
       "      <td>NaN</td>\n",
       "    </tr>\n",
       "    <tr>\n",
       "      <th>2</th>\n",
       "      <td>000001</td>\n",
       "      <td>female</td>\n",
       "      <td>Asian</td>\n",
       "      <td>45</td>\n",
       "      <td>000001_female_Asian_45</td>\n",
       "      <td>./input/data/train/images/000001_female_Asian_...</td>\n",
       "      <td>mask</td>\n",
       "      <td>NaN</td>\n",
       "    </tr>\n",
       "    <tr>\n",
       "      <th>3</th>\n",
       "      <td>000001</td>\n",
       "      <td>female</td>\n",
       "      <td>Asian</td>\n",
       "      <td>45</td>\n",
       "      <td>000001_female_Asian_45</td>\n",
       "      <td>./input/data/train/images/000001_female_Asian_...</td>\n",
       "      <td>normal</td>\n",
       "      <td>NaN</td>\n",
       "    </tr>\n",
       "    <tr>\n",
       "      <th>4</th>\n",
       "      <td>000001</td>\n",
       "      <td>female</td>\n",
       "      <td>Asian</td>\n",
       "      <td>45</td>\n",
       "      <td>000001_female_Asian_45</td>\n",
       "      <td>./input/data/train/images/000001_female_Asian_...</td>\n",
       "      <td>mask</td>\n",
       "      <td>NaN</td>\n",
       "    </tr>\n",
       "    <tr>\n",
       "      <th>...</th>\n",
       "      <td>...</td>\n",
       "      <td>...</td>\n",
       "      <td>...</td>\n",
       "      <td>...</td>\n",
       "      <td>...</td>\n",
       "      <td>...</td>\n",
       "      <td>...</td>\n",
       "      <td>...</td>\n",
       "    </tr>\n",
       "    <tr>\n",
       "      <th>18909</th>\n",
       "      <td>006959</td>\n",
       "      <td>male</td>\n",
       "      <td>Asian</td>\n",
       "      <td>19</td>\n",
       "      <td>006959_male_Asian_19</td>\n",
       "      <td>./input/data/train/images/006959_male_Asian_19...</td>\n",
       "      <td>mask</td>\n",
       "      <td>NaN</td>\n",
       "    </tr>\n",
       "    <tr>\n",
       "      <th>18910</th>\n",
       "      <td>006959</td>\n",
       "      <td>male</td>\n",
       "      <td>Asian</td>\n",
       "      <td>19</td>\n",
       "      <td>006959_male_Asian_19</td>\n",
       "      <td>./input/data/train/images/006959_male_Asian_19...</td>\n",
       "      <td>normal</td>\n",
       "      <td>NaN</td>\n",
       "    </tr>\n",
       "    <tr>\n",
       "      <th>18911</th>\n",
       "      <td>006959</td>\n",
       "      <td>male</td>\n",
       "      <td>Asian</td>\n",
       "      <td>19</td>\n",
       "      <td>006959_male_Asian_19</td>\n",
       "      <td>./input/data/train/images/006959_male_Asian_19...</td>\n",
       "      <td>mask</td>\n",
       "      <td>NaN</td>\n",
       "    </tr>\n",
       "    <tr>\n",
       "      <th>18912</th>\n",
       "      <td>006959</td>\n",
       "      <td>male</td>\n",
       "      <td>Asian</td>\n",
       "      <td>19</td>\n",
       "      <td>006959_male_Asian_19</td>\n",
       "      <td>./input/data/train/images/006959_male_Asian_19...</td>\n",
       "      <td>mask</td>\n",
       "      <td>NaN</td>\n",
       "    </tr>\n",
       "    <tr>\n",
       "      <th>18913</th>\n",
       "      <td>006959</td>\n",
       "      <td>male</td>\n",
       "      <td>Asian</td>\n",
       "      <td>19</td>\n",
       "      <td>006959_male_Asian_19</td>\n",
       "      <td>./input/data/train/images/006959_male_Asian_19...</td>\n",
       "      <td>mask</td>\n",
       "      <td>NaN</td>\n",
       "    </tr>\n",
       "  </tbody>\n",
       "</table>\n",
       "<p>18914 rows × 8 columns</p>\n",
       "</div>"
      ],
      "text/plain": [
       "           id  gender   race  age                    path  \\\n",
       "0      000001  female  Asian   45  000001_female_Asian_45   \n",
       "1      000001  female  Asian   45  000001_female_Asian_45   \n",
       "2      000001  female  Asian   45  000001_female_Asian_45   \n",
       "3      000001  female  Asian   45  000001_female_Asian_45   \n",
       "4      000001  female  Asian   45  000001_female_Asian_45   \n",
       "...       ...     ...    ...  ...                     ...   \n",
       "18909  006959    male  Asian   19    006959_male_Asian_19   \n",
       "18910  006959    male  Asian   19    006959_male_Asian_19   \n",
       "18911  006959    male  Asian   19    006959_male_Asian_19   \n",
       "18912  006959    male  Asian   19    006959_male_Asian_19   \n",
       "18913  006959    male  Asian   19    006959_male_Asian_19   \n",
       "\n",
       "                                                path_img            Mask  cls  \n",
       "0      ./input/data/train/images/000001_female_Asian_...  incorrect_mask  NaN  \n",
       "1      ./input/data/train/images/000001_female_Asian_...            mask  NaN  \n",
       "2      ./input/data/train/images/000001_female_Asian_...            mask  NaN  \n",
       "3      ./input/data/train/images/000001_female_Asian_...          normal  NaN  \n",
       "4      ./input/data/train/images/000001_female_Asian_...            mask  NaN  \n",
       "...                                                  ...             ...  ...  \n",
       "18909  ./input/data/train/images/006959_male_Asian_19...            mask  NaN  \n",
       "18910  ./input/data/train/images/006959_male_Asian_19...          normal  NaN  \n",
       "18911  ./input/data/train/images/006959_male_Asian_19...            mask  NaN  \n",
       "18912  ./input/data/train/images/006959_male_Asian_19...            mask  NaN  \n",
       "18913  ./input/data/train/images/006959_male_Asian_19...            mask  NaN  \n",
       "\n",
       "[18914 rows x 8 columns]"
      ]
     },
     "execution_count": 166,
     "metadata": {},
     "output_type": "execute_result"
    }
   ],
   "source": [
    "upd_train_data['cls'] = 'NaN'\n",
    "upd_train_data['cls']= upd_train_data.apply(outputClasses, axis =1)\n",
    "upd_train_data"
   ]
  },
  {
   "cell_type": "code",
   "execution_count": 213,
   "id": "3ed1ab35-4120-48a4-8070-82c698625cdd",
   "metadata": {},
   "outputs": [],
   "source": [
    "def age_cls(age):\n",
    "    if age < 30:\n",
    "        return 0\n",
    "    elif 30 <= age < 60:\n",
    "        return 1\n",
    "    else:\n",
    "        return 2"
   ]
  },
  {
   "cell_type": "code",
   "execution_count": 214,
   "id": "d41bf8da-c96e-497c-b839-5461edb9c184",
   "metadata": {},
   "outputs": [],
   "source": [
    "upd_train_data['age']= upd_train_data['age'].apply(age_cls)"
   ]
  },
  {
   "cell_type": "code",
   "execution_count": 172,
   "id": "e972bbc0-cfbf-4d92-abdd-03924caceb67",
   "metadata": {},
   "outputs": [],
   "source": [
    "def outputClasses(upd_train_data):\n",
    "    \n",
    "    mask, gender, age = upd_train_data.Mask, upd_train_data.gender, upd_train_data.age\n",
    "    if mask == 'mask':\n",
    "        if gender == 'male':\n",
    "            if age<30:\n",
    "                return 0\n",
    "            elif 30<=age<60:\n",
    "                return 1\n",
    "            else:\n",
    "                return 2\n",
    "        else :\n",
    "            if age<30:\n",
    "                return 3\n",
    "            elif 30<=age<60:\n",
    "                return 4\n",
    "            else:\n",
    "                return 5   \n",
    "    elif mask == 'incorrect_mask':\n",
    "        if gender == 'male':\n",
    "            if age<30:\n",
    "                return 6\n",
    "            elif 30<=age<60:\n",
    "                return 7\n",
    "            else:\n",
    "                return 8\n",
    "        else :\n",
    "            if age<30:\n",
    "                return 9\n",
    "            elif 30<=age<60:\n",
    "                return 10\n",
    "            else:\n",
    "                return 11               \n",
    "    else:\n",
    "        if gender == 'male':\n",
    "            if age<30:\n",
    "                return 12\n",
    "            elif 30<=age<60:\n",
    "                return 13\n",
    "            else:\n",
    "                return 14\n",
    "        else :\n",
    "            if age<30:\n",
    "                return 15\n",
    "            elif 30<=age<60:\n",
    "                return 16\n",
    "            else:\n",
    "                return 17  "
   ]
  },
  {
   "cell_type": "markdown",
   "id": "c46cbaf6-fa85-43c7-9103-ab8ce05433d1",
   "metadata": {},
   "source": [
    "# Data 분석\n",
    "\n",
    "1. Gender\n",
    "2. age\n",
    "3. Mask 상태\n",
    "4. class\n"
   ]
  },
  {
   "cell_type": "code",
   "execution_count": 182,
   "id": "a361ba62-bd91-40b8-b656-b5e44b77a9fb",
   "metadata": {},
   "outputs": [],
   "source": [
    "import matplotlib as mpl\n",
    "import matplotlib.pyplot as plt"
   ]
  },
  {
   "cell_type": "code",
   "execution_count": 216,
   "id": "0f6bc5df-978b-4974-88dc-f178fb748f98",
   "metadata": {},
   "outputs": [
    {
     "data": {
      "image/png": "[encoded data removed]",
      "text/plain": [
       "<Figure size 1152x288 with 3 Axes>"
      ]
     },
     "metadata": {
      "needs_background": "light"
     },
     "output_type": "display_data"
    }
   ],
   "source": [
    "fig = plt.figure(figsize = (16,4))\n",
    "\n",
    "gender_ax = fig.add_subplot(1,3,1) \n",
    "age_ax = fig.add_subplot(1,3,2) \n",
    "mask_ax = fig.add_subplot(1,3,3) \n",
    "\n",
    "gender_ax.bar(upd_train_data.gender.unique(),upd_train_data.groupby('gender').id.count())\n",
    "age_ax.bar(upd_train_data.age.unique(),upd_train_data.groupby('age').id.count())\n",
    "mask_ax.bar(upd_train_data.Mask.unique(),upd_train_data.groupby('Mask').id.count())\n",
    "\n",
    "plt.show()"
   ]
  },
  {
   "cell_type": "markdown",
   "id": "d7d05890-9216-4581-b83e-5646e1b3f591",
   "metadata": {},
   "source": [
    "- 60세 이상 image data 부족\n",
    "- 마스크 미착용 or 잘못 착용한 image data 부족"
   ]
  },
  {
   "cell_type": "code",
   "execution_count": 278,
   "id": "00316670-c4f9-41bb-ad14-ead072a38b2c",
   "metadata": {},
   "outputs": [
    {
     "data": {
      "image/png": "[encoded data removed]",
      "text/plain": [
       "<Figure size 1296x432 with 1 Axes>"
      ]
     },
     "metadata": {
      "needs_background": "light"
     },
     "output_type": "display_data"
    }
   ],
   "source": [
    "fig = plt.figure(figsize = (18,6))\n",
    "\n",
    "clss_ax = fig.add_subplot() \n",
    "cls_label=[i for i in range(18)]\n",
    "clss_ax.bar(cls_label,upd_train_data.groupby('cls').cls.count()/upd_train_data.cls.count()*100)\n",
    "plt.xticks(cls_label)\n",
    "clss_ax.set_xticklabels(cls_label)\n",
    "\n",
    "plt.show()"
   ]
  },
  {
   "cell_type": "markdown",
   "id": "a128ed33-56fc-4a1d-a379-b9f31dd9bfcd",
   "metadata": {},
   "source": [
    "- class 별로 data 숫자 차이가 큼"
   ]
  },
  {
   "cell_type": "code",
   "execution_count": 298,
   "id": "b8e5517d-202c-4b2f-b1ae-e8cc3f39fa91",
   "metadata": {},
   "outputs": [
    {
     "data": {
      "image/png": "[encoded data removed]",
      "text/plain": [
       "<Figure size 432x432 with 1 Axes>"
      ]
     },
     "metadata": {},
     "output_type": "display_data"
    }
   ],
   "source": [
    "fig = plt.figure(figsize = (6,6))\n",
    "\n",
    "clss_ax = fig.add_subplot() \n",
    "cls_label=[i for i in range(18)]\n",
    "cls_value = upd_train_data.groupby('cls').id.count()/upd_train_data.id.count()*100\n",
    "clss_ax.pie(list(cls_value),labels=cls_label, autopct='%.1f%%', startangle=0, counterclock=False)\n",
    "\n",
    "plt.show()"
   ]
  }
 ],
 "metadata": {
  "kernelspec": {
   "display_name": "Python 3 (ipykernel)",
   "language": "python",
   "name": "python3"
  },
  "language_info": {
   "codemirror_mode": {
    "name": "ipython",
    "version": 3
   },
   "file_extension": ".py",
   "mimetype": "text/x-python",
   "name": "python",
   "nbconvert_exporter": "python",
   "pygments_lexer": "ipython3",
   "version": "3.8.5"
  }
 },
 "nbformat": 4,
 "nbformat_minor": 5
}
