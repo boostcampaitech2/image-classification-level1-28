{
 "cells": [
  {
   "cell_type": "markdown",
   "id": "d835ed28-0ef2-4af5-97e8-87f59eeb432f",
   "metadata": {},
   "source": [
    "## Load Package"
   ]
  },
  {
   "cell_type": "code",
   "execution_count": 1,
   "id": "7f2cd777-1400-4724-a7ce-904ecb75f97c",
   "metadata": {},
   "outputs": [
    {
     "name": "stderr",
     "output_type": "stream",
     "text": [
      "/opt/conda/lib/python3.8/site-packages/tqdm/std.py:703: FutureWarning: The Panel class is removed from pandas. Accessing it from the top-level namespace will also be removed in the next version\n",
      "  from pandas import Panel\n"
     ]
    }
   ],
   "source": [
    "import pandas as pd\n",
    "import numpy as np\n",
    "import random\n",
    "\n",
    "from collections import defaultdict\n",
    "from itertools import chain\n",
    "from glob import glob\n",
    "from tqdm.notebook import tqdm\n",
    "from sklearn.model_selection import train_test_split\n",
    "tqdm.pandas()"
   ]
  },
  {
   "cell_type": "markdown",
   "id": "3eaffc78-84d0-4328-a5cb-5a5831541b66",
   "metadata": {},
   "source": [
    "## Define Functions"
   ]
  },
  {
   "cell_type": "code",
   "execution_count": 15,
   "id": "d5249e54-bc0c-4953-8aeb-878dc33d054d",
   "metadata": {},
   "outputs": [],
   "source": [
    "def get_train_image_path(folder, path='./input/data/train/images/'):\n",
    "    ''' 각 이미지의 full_path를 얻는 함수\n",
    "    \n",
    "        folder(str) : 폴더 이름\n",
    "        path(str) : train_image 폴더들의 상위 폴더 path, Default 설정해놨음\n",
    "    \n",
    "    '''\n",
    "    \n",
    "    file_path_list = glob(path + folder + '/*')\n",
    "    return file_path_list\n",
    "\n",
    "\n",
    "def figure_out_mask_label(file_path):\n",
    "    ''' 마스크 착용 여부를 얻어내는 함수\n",
    "    \n",
    "        file_path(str) : file의 전체 경로 ex) \n",
    "            ex) ./input/data/train/images/000001_female_Asian ~~ /normal.jpg\n",
    "    \n",
    "    '''\n",
    "    \n",
    "    file_name = file_path.split('/')[-1]\n",
    "    if 'incorrect' in file_name: return 'incorrect'\n",
    "    elif 'mask' in file_name: return 'wear'\n",
    "    else: return 'not_wear'\n",
    "\n",
    "\n",
    "def get_label(label_dict, mask, gender, age):\n",
    "    ''' label을 얻을 수 있는 함수\n",
    "        \n",
    "        label_dict(dict) : label값들을 가진 dictionary\n",
    "        mask(str) : 마스크 착용 여부\n",
    "        gender(str) : 성별\n",
    "        age(int) : 나이\n",
    "    \n",
    "    '''\n",
    "    \n",
    "    if age < 30: age = 'young'\n",
    "    elif (age >= 30 and age < 60) : age = 'middle'\n",
    "    else: age = 'old'\n",
    "    \n",
    "    key = '_'.join([mask, gender, age])\n",
    "    return label_dict[key]\n",
    "\n",
    "    \n",
    "def get_folder_path(full_path_list):\n",
    "    ''' stratification함수에서 폴더명을 뽑기 위해 필요한 함수\n",
    "    \n",
    "        full_path_list(list): 이미지 경로가 담긴 리스트\n",
    "    \n",
    "    '''\n",
    "    \n",
    "    folder_path_list = []\n",
    "    for full_path in full_path_list:\n",
    "        folder_path = full_path.split('/')[-2] # 폴더명만 추출\n",
    "        folder_path_list.append(folder_path)\n",
    "    \n",
    "    return folder_path_list\n",
    "\n",
    "    \n",
    "def stratification(df, label_count, infrequent_classes, ratio = 0.2):\n",
    "    '''\n",
    "        df : label값을 구하고 파일 기준으로 분류된 df\n",
    "        infrequent_classes : 숫자가 적은 class 번호 순으로 정렬된 list\n",
    "        ratio : 얻고자 하는 validation ratio\n",
    "    '''\n",
    "    \n",
    "    total_valid_count = int(len(df) * ratio / 7) # valid용 folder의 개수\n",
    "    valid_folder_list = [] # 여기에 valid용 folder명을 그룹마다 담을겁니다.\n",
    "    count_summation = 0    # count_summation\n",
    "\n",
    "    for class_num in infrequent_classes:\n",
    "        # 만약 class_num이 마지막 infrequent_classes의 원소라면\n",
    "        # total_valid_count를 맞추기 위해 그동안 쌓은 count_summation의 차만큼 뽑습니다.\n",
    "        # why? 반올림으로 인해 완전히 나눠 떨어지지 않을 수도 있기 때문에\n",
    "        if class_num == infrequent_classes[-1]:\n",
    "            group_count = total_valid_count - count_summation\n",
    "        else:\n",
    "            group_count = round(label_count[class_num] * ratio)\n",
    "\n",
    "        random.seed(42) # 복원을 위해 seed 설정\n",
    "        group_df = df[df['label'] == class_num] # 현재 class_num을 가진 rows 추출\n",
    "        index = random.sample(list(group_df.index), group_count) # 현재 group에서 뽑아야 하는 개수만큼 sampling\n",
    "        group_full_path = df.iloc[index]['full_path'].values # index들의 full_path를 얻은 후\n",
    "        group_folder_path = get_folder_path(group_full_path) # folder명만 추출 (리스트)\n",
    "        valid_folder_list.append(group_folder_path) # valid_folder_list에 담고 \n",
    "        count_summation += group_count # group_count를 쌓아간다.\n",
    "        \n",
    "    return valid_folder_list"
   ]
  },
  {
   "cell_type": "markdown",
   "id": "bb321bdd-e664-44ea-a501-f188f1cea304",
   "metadata": {},
   "source": [
    "## Read CSV file"
   ]
  },
  {
   "cell_type": "code",
   "execution_count": 16,
   "id": "787814b2-5c7e-4a94-9541-e96abd6c518e",
   "metadata": {},
   "outputs": [],
   "source": [
    "train_df = pd.read_csv('./input/data/train/train.csv')\n",
    "submission_df = pd.read_csv('./input/data/eval/info.csv')"
   ]
  },
  {
   "cell_type": "markdown",
   "id": "039aa69a-85dc-4b0a-852e-cfe5a4b3057a",
   "metadata": {},
   "source": [
    "## Make path_list Column"
   ]
  },
  {
   "cell_type": "code",
   "execution_count": 17,
   "id": "2c3041ff-4703-4976-958d-90ee11fc26b3",
   "metadata": {},
   "outputs": [
    {
     "data": {
      "application/vnd.jupyter.widget-view+json": {
       "model_id": "9058d3c38b574ca19a4ff3b2c2da898f",
       "version_major": 2,
       "version_minor": 0
      },
      "text/plain": [
       "HBox(children=(HTML(value=''), FloatProgress(value=0.0, max=2700.0), HTML(value='')))"
      ]
     },
     "metadata": {},
     "output_type": "display_data"
    },
    {
     "name": "stdout",
     "output_type": "stream",
     "text": [
      "\n"
     ]
    }
   ],
   "source": [
    "# 각 폴더 내에 있는 파일 경로 읽어오기\n",
    "# path_list는 array 형식으로 해당 폴더의 파일 경로 7개가 들어있음\n",
    "train_df['path_list'] = train_df['path'].progress_apply(get_train_image_path)"
   ]
  },
  {
   "cell_type": "markdown",
   "id": "ee10750b-5e9b-4ad7-8b6c-b63073b89201",
   "metadata": {},
   "source": [
    "## Make 'new_df' to Use\n",
    "\n",
    "* 2700 rows였던 기존 DF를 18900 rows로 편 새로운 DF 생성"
   ]
  },
  {
   "cell_type": "code",
   "execution_count": 18,
   "id": "d827a553-dff0-4d89-8643-e1cf0451a111",
   "metadata": {},
   "outputs": [],
   "source": [
    "# 리스트화된 컬럼을 gender, age, path에 맞게 펼쳐준 뒤, merge하여 새로운 df 생성\n",
    "gender_df = pd.DataFrame({'gender':np.repeat(train_df['gender'].values, train_df['path_list'].str.len()),\n",
    "                          'full_path':np.concatenate(train_df['path_list'].values)\n",
    "                         })\n",
    "\n",
    "age_df = pd.DataFrame({'age':np.repeat(train_df['age'].values, train_df['path_list'].str.len()),\n",
    "                       'full_path':np.concatenate(train_df['path_list'].values)\n",
    "                      })\n",
    "\n",
    "# 기존 DF의 path column의 이름을 folder로 변환\n",
    "path_df = pd.DataFrame({'folder':np.repeat(train_df['path'].values, train_df['path_list'].str.len()),\n",
    "                        'full_path':np.concatenate(train_df['path_list'].values)\n",
    "                       })\n",
    "\n",
    "# merge\n",
    "new_df = pd.merge(gender_df, age_df, how='inner', on='full_path')\n",
    "new_df = pd.merge(new_df, path_df, how='inner', on='full_path')"
   ]
  },
  {
   "cell_type": "markdown",
   "id": "5c0658fc-cb9e-4d2e-a729-9b1890993c81",
   "metadata": {},
   "source": [
    "## Define Label Dictionary"
   ]
  },
  {
   "cell_type": "code",
   "execution_count": 19,
   "id": "70284418-f049-479c-ad4e-ceb4ead7040a",
   "metadata": {},
   "outputs": [],
   "source": [
    "# label Dictaionary는 라벨링을 할 때 사용됩니다.\n",
    "label_dict = defaultdict(list)\n",
    "\n",
    "label = 0\n",
    "for mask in ('wear', 'incorrect', 'not_wear'):\n",
    "    for gender in ('male', 'female'):\n",
    "        for age in ('young', 'middle', 'old'):\n",
    "            key = '_'.join([mask, gender, age])\n",
    "            label_dict[key] = label\n",
    "            label += 1"
   ]
  },
  {
   "cell_type": "markdown",
   "id": "3fd5505c-7f6e-408a-9af2-059ea7999c60",
   "metadata": {},
   "source": [
    "## Make mask column and label"
   ]
  },
  {
   "cell_type": "code",
   "execution_count": 20,
   "id": "57d1dfa1-99a7-46e9-916e-cd04b2dbf1a8",
   "metadata": {},
   "outputs": [
    {
     "data": {
      "application/vnd.jupyter.widget-view+json": {
       "model_id": "3caedc390efd46218f6c5f85b13248e0",
       "version_major": 2,
       "version_minor": 0
      },
      "text/plain": [
       "HBox(children=(HTML(value=''), FloatProgress(value=0.0, max=18900.0), HTML(value='')))"
      ]
     },
     "metadata": {},
     "output_type": "display_data"
    },
    {
     "name": "stdout",
     "output_type": "stream",
     "text": [
      "\n"
     ]
    },
    {
     "data": {
      "application/vnd.jupyter.widget-view+json": {
       "model_id": "aeec82532995471a88907a7f7f4deb61",
       "version_major": 2,
       "version_minor": 0
      },
      "text/plain": [
       "HBox(children=(HTML(value=''), FloatProgress(value=0.0, max=18900.0), HTML(value='')))"
      ]
     },
     "metadata": {},
     "output_type": "display_data"
    },
    {
     "name": "stdout",
     "output_type": "stream",
     "text": [
      "\n"
     ]
    }
   ],
   "source": [
    "# 각 row마다 mask 여부 확인 후 mask column 생성\n",
    "# incorrect, wear, not_wear\n",
    "new_df['mask'] = new_df['full_path'].progress_apply(figure_out_mask_label)\n",
    "\n",
    "# label 생성\n",
    "# mask, gender, age 조합을 가지고 각 row마다 label 생성\n",
    "new_df['label'] = new_df[['mask', 'gender', 'age']].progress_apply(lambda x: get_label(label_dict, x[0], x[1], x[2]), axis=1)"
   ]
  },
  {
   "cell_type": "markdown",
   "id": "27be100d-cd04-4b74-945c-df2b3dd10ce8",
   "metadata": {},
   "source": [
    "## Train, Valid Split\n",
    "* 한 폴더 안에는 마스크 5장, 잘못 착용한 사진 1장, 마스크 없는 사진 1장으로 일관되게 구성\n",
    "* 따라서 (마스크 착용, 연령, 나이), (마스크 오착용, 연령, 나이), (마스크 미착용, 연령, 나이) 3 그룹은 5:1:1의 같은 비율을 유지\n",
    "* 이 성질을 이용해서 가장 데이터가 없는 label부터 설정한 ratio만큼 validation용으로 폴더 내 이미지를 추출할 것임"
   ]
  },
  {
   "cell_type": "code",
   "execution_count": 21,
   "id": "574e3335-2200-444f-b029-cacd964c4979",
   "metadata": {},
   "outputs": [],
   "source": [
    "# label을 count하고 오름차순 정렬\n",
    "label_count = new_df['label'].value_counts().sort_values()\n",
    "\n",
    "# 마스크 오착용 or 마스크 미착용 label들을 가지고\n",
    "# 순차적으로 드문 라벨의 인덱스를 추출\n",
    "incorrect_classes = [6,7,8,9,10,11]\n",
    "infrequent_classes = label_count[label_count.index.isin(incorrect_classes)].index"
   ]
  },
  {
   "cell_type": "code",
   "execution_count": 23,
   "id": "79a80549-a458-4de4-b00f-a694c9bf62db",
   "metadata": {},
   "outputs": [],
   "source": [
    "# Validation ratio -> default는 0.2입니다.\n",
    "ratio = 0.2\n",
    "\n",
    "# 설정한 ratio대로 train, valid split\n",
    "valid_folder_list = stratification(new_df, label_count, infrequent_classes, ratio)\n",
    "\n",
    "# 함수로 얻어낸 valid_folder_path는 2D-array형식이며\n",
    "# infrequent_classes개수에 맞게 6개 그룹으로 되어있음\n",
    "# ex) [[classes1_folders], [classes2_folders], ... [classes6_folders]]\n",
    "\n",
    "# 그러므로 작업 편의를 위해 1D-array로 변환\n",
    "valid_folder_list = list(chain(*valid_folder_list))"
   ]
  },
  {
   "cell_type": "code",
   "execution_count": 24,
   "id": "edbcbf7f-de30-447b-8329-e79f4e8bc0ae",
   "metadata": {},
   "outputs": [],
   "source": [
    "# valid_df 생성\n",
    "# new_df의 folder명이 valid_folder_path에 해당하면 추출\n",
    "valid_df = new_df[new_df['folder'].isin(valid_folder_list)]\n",
    "\n",
    "# trainset 분리 위해 valid_df의 index 추출\n",
    "valid_index = valid_df.index"
   ]
  },
  {
   "cell_type": "code",
   "execution_count": 25,
   "id": "8d75cc42-3956-4cab-8b4d-d1c5a50bc996",
   "metadata": {},
   "outputs": [],
   "source": [
    "# train_df 생성\n",
    "# new_df의 인덱스 중 valid_df의 인덱스가 아니면 train_df\n",
    "train_index = [idx for idx in new_df.index if idx not in valid_index]\n",
    "train_df = new_df.iloc[train_index]"
   ]
  },
  {
   "cell_type": "markdown",
   "id": "630bb36e-8f41-43cf-9251-b1011bbcf564",
   "metadata": {},
   "source": [
    "## Save DataFrame"
   ]
  },
  {
   "cell_type": "code",
   "execution_count": 26,
   "id": "1377df5f-e403-476e-8079-7341a3ce0ea9",
   "metadata": {},
   "outputs": [
    {
     "name": "stdout",
     "output_type": "stream",
     "text": [
      "15120 3780\n"
     ]
    }
   ],
   "source": [
    "# train_df, valid_df 저장\n",
    "print(len(train_df), len(valid_df))\n",
    "\n",
    "# path는 본인이 원하는 위치에 지정해주세요\n",
    "train_df.to_csv('./stratified_df/train_df.csv', index=False)\n",
    "valid_df.to_csv('./stratified_df/valid_df.csv', index=False)"
   ]
  }
 ],
 "metadata": {
  "kernelspec": {
   "display_name": "Python 3 (ipykernel)",
   "language": "python",
   "name": "python3"
  },
  "language_info": {
   "codemirror_mode": {
    "name": "ipython",
    "version": 3
   },
   "file_extension": ".py",
   "mimetype": "text/x-python",
   "name": "python",
   "nbconvert_exporter": "python",
   "pygments_lexer": "ipython3",
   "version": "3.8.5"
  }
 },
 "nbformat": 4,
 "nbformat_minor": 5
}
