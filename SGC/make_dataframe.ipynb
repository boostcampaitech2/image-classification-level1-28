{
 "cells": [
  {
   "cell_type": "code",
   "execution_count": 1,
   "id": "7f2cd777-1400-4724-a7ce-904ecb75f97c",
   "metadata": {},
   "outputs": [
    {
     "name": "stderr",
     "output_type": "stream",
     "text": [
      "/opt/conda/lib/python3.8/site-packages/tqdm/std.py:703: FutureWarning: The Panel class is removed from pandas. Accessing it from the top-level namespace will also be removed in the next version\n",
      "  from pandas import Panel\n"
     ]
    }
   ],
   "source": [
    "import pandas as pd\n",
    "import numpy as np\n",
    "\n",
    "from glob import glob\n",
    "from tqdm import tqdm\n",
    "from sklearn.model_selection import train_test_split\n",
    "tqdm.pandas()"
   ]
  },
  {
   "cell_type": "code",
   "execution_count": 2,
   "id": "d5249e54-bc0c-4953-8aeb-878dc33d054d",
   "metadata": {},
   "outputs": [],
   "source": [
    "def get_train_image_path(folder, path='./input/data/train/images/'):\n",
    "    file_path_list = glob(path + folder + '/*')\n",
    "    return file_path_list\n",
    "\n",
    "\n",
    "def figure_out_mask_label(file_path):\n",
    "    file_name = file_path.split('/')[-1]\n",
    "    if 'incorrect' in file_name: return 'incorrect'\n",
    "    elif 'mask' in file_name: return 'wear'\n",
    "    else: return 'not_wear'\n",
    "\n",
    "\n",
    "def get_label(mask, gender, age):\n",
    "    if mask == 'wear' and gender == 'male' and age < 30:\n",
    "        return 0\n",
    "    if mask == 'wear' and gender == 'male' and (age >= 30  and age < 58):\n",
    "        return 1\n",
    "    if mask == 'wear' and gender == 'male' and age >= 58:\n",
    "        return 2\n",
    "    if mask == 'wear' and gender == 'female' and age < 30:\n",
    "        return 3\n",
    "    if mask == 'wear' and gender == 'female' and (age >= 30  and age < 58):\n",
    "        return 4\n",
    "    if mask == 'wear' and gender == 'female' and age >= 58:\n",
    "        return 5\n",
    "    if mask == 'incorrect' and gender == 'male' and age < 30:\n",
    "        return 6\n",
    "    if mask == 'incorrect' and gender == 'male' and (age >= 30  and age < 58):\n",
    "        return 7\n",
    "    if mask == 'incorrect' and gender == 'male' and age >= 58:\n",
    "        return 8\n",
    "    if mask == 'incorrect' and gender == 'female' and age < 30:\n",
    "        return 9\n",
    "    if mask == 'incorrect' and gender == 'female' and (age >= 30  and age < 58):\n",
    "        return 10\n",
    "    if mask == 'incorrect' and gender == 'female' and age >= 58:\n",
    "        return 11\n",
    "    if mask == 'not_wear' and gender == 'male' and age < 30:\n",
    "        return 12\n",
    "    if mask == 'not_wear' and gender == 'male' and (age >= 30  and age < 58):\n",
    "        return 13\n",
    "    if mask == 'not_wear' and gender == 'male' and age >= 58:\n",
    "        return 14\n",
    "    if mask == 'not_wear' and gender == 'female' and age < 30:\n",
    "        return 15\n",
    "    if mask == 'not_wear' and gender == 'female' and (age >= 30  and age < 58):\n",
    "        return 16\n",
    "    if mask == 'not_wear' and gender == 'female' and age >= 58:\n",
    "        return 17\n",
    "    \n",
    "    \n",
    "def divide_train_valid_df(df):\n",
    "    train_x, valid_x, train_y, valid_y = train_test_split(df[['gender', 'full_path','age','mask']], \n",
    "                                                      df['label'], \n",
    "                                                      test_size = 0.2, \n",
    "                                                      random_state = 42, \n",
    "                                                      stratify = df['label'])\n",
    "    train_df = pd.merge(train_x, train_y, how='inner', left_index=True, right_index=True)\n",
    "    valid_df = pd.merge(valid_x, valid_y, how='inner', left_index=True, right_index=True)\n",
    "    return train_df, valid_df"
   ]
  },
  {
   "cell_type": "code",
   "execution_count": 3,
   "id": "787814b2-5c7e-4a94-9541-e96abd6c518e",
   "metadata": {},
   "outputs": [],
   "source": [
    "train_df = pd.read_csv('./input/data/train/train.csv')\n",
    "submission_df = pd.read_csv('./input/data/eval/info.csv')"
   ]
  },
  {
   "cell_type": "code",
   "execution_count": 4,
   "id": "2c3041ff-4703-4976-958d-90ee11fc26b3",
   "metadata": {},
   "outputs": [
    {
     "name": "stderr",
     "output_type": "stream",
     "text": [
      "100%|██████████| 2700/2700 [00:00<00:00, 20277.90it/s]\n"
     ]
    }
   ],
   "source": [
    "# 각 폴더 내에 있는 파일 경로 읽어오기\n",
    "train_df['path_list'] = train_df['path'].progress_apply(get_train_image_path)"
   ]
  },
  {
   "cell_type": "code",
   "execution_count": 5,
   "id": "d827a553-dff0-4d89-8643-e1cf0451a111",
   "metadata": {},
   "outputs": [],
   "source": [
    "# 리스트화된 컬럼을 gender, age에 맞게 펼쳐준 뒤, merge하여 새로운 df 생성\n",
    "gender_df = pd.DataFrame({'gender':np.repeat(train_df['gender'].values, train_df['path_list'].str.len()),\n",
    "                          'full_path':np.concatenate(train_df['path_list'].values)\n",
    "                         })\n",
    "\n",
    "age_df = pd.DataFrame({'age':np.repeat(train_df['age'].values, train_df['path_list'].str.len()),\n",
    "                       'full_path':np.concatenate(train_df['path_list'].values)\n",
    "                      })\n",
    "\n",
    "new_df = pd.merge(gender_df, age_df, how='inner', on='full_path')"
   ]
  },
  {
   "cell_type": "code",
   "execution_count": 6,
   "id": "57d1dfa1-99a7-46e9-916e-cd04b2dbf1a8",
   "metadata": {},
   "outputs": [
    {
     "name": "stderr",
     "output_type": "stream",
     "text": [
      "100%|██████████| 18900/18900 [00:00<00:00, 497613.67it/s]\n"
     ]
    }
   ],
   "source": [
    "# mask 여부 확인\n",
    "new_df['mask'] = new_df['full_path'].progress_apply(figure_out_mask_label)"
   ]
  },
  {
   "cell_type": "code",
   "execution_count": 7,
   "id": "6e15589b-d0c6-481a-86e4-cf9f64b95877",
   "metadata": {},
   "outputs": [
    {
     "name": "stderr",
     "output_type": "stream",
     "text": [
      "100%|██████████| 18900/18900 [00:00<00:00, 68537.16it/s]\n"
     ]
    }
   ],
   "source": [
    "# label 생성\n",
    "new_df['label'] = new_df[['mask', 'gender', 'age']].progress_apply(lambda x: get_label(x[0], x[1], x[2]), axis=1)"
   ]
  },
  {
   "cell_type": "code",
   "execution_count": 9,
   "id": "89345c4f-caf2-4c8c-8681-2abedbd8af8b",
   "metadata": {},
   "outputs": [
    {
     "data": {
      "text/plain": [
       "3     3660\n",
       "4     3345\n",
       "0     2745\n",
       "1     1570\n",
       "5     1285\n",
       "2      895\n",
       "15     732\n",
       "9      732\n",
       "10     669\n",
       "16     669\n",
       "12     549\n",
       "6      549\n",
       "7      314\n",
       "13     314\n",
       "11     257\n",
       "17     257\n",
       "8      179\n",
       "14     179\n",
       "Name: label, dtype: int64"
      ]
     },
     "execution_count": 9,
     "metadata": {},
     "output_type": "execute_result"
    }
   ],
   "source": [
    "new_df['label'].value_counts()"
   ]
  },
  {
   "cell_type": "code",
   "execution_count": 10,
   "id": "81128a19-ee66-413f-88fa-9de9648a8d99",
   "metadata": {},
   "outputs": [],
   "source": [
    "# 새로운 DataFrame 저장\n",
    "new_df.to_csv('./intergrated_train.csv', index=False)"
   ]
  },
  {
   "cell_type": "code",
   "execution_count": null,
   "id": "c7bbfe05-a8a9-40ce-b2e5-1b2c950fc508",
   "metadata": {},
   "outputs": [],
   "source": [
    "new_df = pd.read_csv('./intergrated_train.csv')\n",
    "new_df.head()"
   ]
  },
  {
   "cell_type": "code",
   "execution_count": null,
   "id": "a8221f4e-3b34-45b5-ade3-3b8cd1eb1d4f",
   "metadata": {},
   "outputs": [],
   "source": [
    "train_df, valid_df = divide_train_valid_df(new_df)\n",
    "train_df.to_csv('./train_df.csv', index=False)\n",
    "valid_df.to_csv('./valid_df.csv', index=False)\n",
    "print(len(train_df))\n",
    "print(len(valid_df))"
   ]
  }
 ],
 "metadata": {
  "kernelspec": {
   "display_name": "Python 3 (ipykernel)",
   "language": "python",
   "name": "python3"
  },
  "language_info": {
   "codemirror_mode": {
    "name": "ipython",
    "version": 3
   },
   "file_extension": ".py",
   "mimetype": "text/x-python",
   "name": "python",
   "nbconvert_exporter": "python",
   "pygments_lexer": "ipython3",
   "version": "3.8.5"
  }
 },
 "nbformat": 4,
 "nbformat_minor": 5
}
