{
 "cells": [
  {
   "cell_type": "markdown",
   "id": "0ea332a9-66d6-4ba3-afd0-00890e2004a9",
   "metadata": {},
   "source": [
    "## Import Packages"
   ]
  },
  {
   "cell_type": "code",
   "execution_count": 1,
   "id": "d4768d6d-ee9b-4a59-af3f-54cc94d64215",
   "metadata": {},
   "outputs": [
    {
     "name": "stdout",
     "output_type": "stream",
     "text": [
      "cuda:0 is using!\n"
     ]
    },
    {
     "name": "stderr",
     "output_type": "stream",
     "text": [
      "/opt/conda/lib/python3.8/site-packages/tqdm/std.py:703: FutureWarning: The Panel class is removed from pandas. Accessing it from the top-level namespace will also be removed in the next version\n",
      "  from pandas import Panel\n"
     ]
    }
   ],
   "source": [
    "import albumentations\n",
    "import albumentations.pytorch\n",
    "import numpy as np\n",
    "import os\n",
    "import pandas as pd\n",
    "import matplotlib.pyplot as plt\n",
    "import cv2\n",
    "from PIL import Image\n",
    "from tqdm.notebook import tqdm\n",
    "\n",
    "import timm\n",
    "import ttach as tta\n",
    "import torch\n",
    "import torch.nn as nn\n",
    "import torch.nn.functional as F\n",
    "import torch.optim as optim\n",
    "import wandb\n",
    "from torch.optim import AdamW\n",
    "from torch.utils.data import Dataset, DataLoader\n",
    "from torchvision import transforms\n",
    "from torchvision.transforms import Resize, ToTensor, Normalize\n",
    "from sklearn.metrics import f1_score\n",
    "from efficientnet_pytorch import EfficientNet\n",
    "\n",
    "tqdm.pandas()\n",
    "\n",
    "device = torch.device(\"cuda:0\" if torch.cuda.is_available() else \"cpu\")\n",
    "print(f\"{device} is using!\")"
   ]
  },
  {
   "cell_type": "markdown",
   "id": "cf27e730-47a3-4d83-9094-8696293766f8",
   "metadata": {},
   "source": [
    "## Config Setting"
   ]
  },
  {
   "cell_type": "code",
   "execution_count": 2,
   "id": "0f3e3c13-2891-498a-8e92-dcf71577fa09",
   "metadata": {},
   "outputs": [],
   "source": [
    "config = {'NUM_EPOCHS' : 15,\n",
    "          'BATCH_SIZE' : 8,\n",
    "          'NUM_CLASSES' : 18,\n",
    "          'LEARNING_RATE' : 1e-4,\n",
    "          'MODEL' : 'nf_resnet50',  # 불러올 모델 이름\n",
    "          'MODEL_NAME' : 'nf_resnet50',  # 저장할 떄 이름\n",
    "          'NUM_WORKERS' : 2,\n",
    "          'LOG_STEPS' : 450,\n",
    "          'SAVE_PATH' : './epoch/',\n",
    "          'LOAD_MODEL' : False,  # 학습을 이어서 할 때 True\n",
    "          'LOAD_MODEL_PATH' : './epoch/nf_resnet50_epoch_4_0.7522671719026435.pth'  # 이어서 학습할 파일의 경로\n",
    "         }"
   ]
  },
  {
   "cell_type": "code",
   "execution_count": 3,
   "id": "60cf4c4c-5738-4f93-90ca-c9c7ac4d1046",
   "metadata": {},
   "outputs": [],
   "source": [
    "# wandb.init(config={'batch_size': config['BATCH_SIZE'],\n",
    "#                    'lr': config['LEARNING_RATE'],\n",
    "#                    'epochs': config['NUM_EPOCHS'],\n",
    "#                    'backbone': config['MODEL_NAME']})"
   ]
  },
  {
   "cell_type": "markdown",
   "id": "f63e3085-c67a-4b5c-8458-0f1a41d11a07",
   "metadata": {},
   "source": [
    "## Augmentation Setting"
   ]
  },
  {
   "cell_type": "code",
   "execution_count": 4,
   "id": "7217c484-9c8a-4d70-8ac7-4bb19d1aed0c",
   "metadata": {},
   "outputs": [],
   "source": [
    "train_transform = albumentations.Compose(\n",
    "  [\n",
    "      albumentations.Resize(256,256),\n",
    "#       albumentations.RandomRotation(15),\n",
    "#       albumentations.HorizontalFlip(p=0.3),\n",
    "      albumentations.OneOf([albumentations.ShiftScaleRotate(rotate_limit=15, p=0.5),\n",
    "                            albumentations.RandomBrightnessContrast(p=0.5),\n",
    "                            albumentations.MotionBlur(p=0.5),\n",
    "                            albumentations.OpticalDistortion(p=0.5),\n",
    "                            albumentations.GaussNoise(p=0.5)], p=1),\n",
    "      albumentations.Normalize((0.548, 0.504, 0.479), (0.237, 0.247, 0.246)),\n",
    "      albumentations.pytorch.transforms.ToTensorV2(),\n",
    "      #       이미지 원본 사이즈는 384, 512   \n",
    "  ]\n",
    ")\n",
    "\n",
    "test_transform = albumentations.Compose(\n",
    "  [\n",
    "      albumentations.Resize(288,288),\n",
    "      albumentations.Normalize((0.548, 0.504, 0.479), (0.237, 0.247, 0.246)),\n",
    "      albumentations.pytorch.transforms.ToTensorV2()\n",
    "      #       이미지 원본 사이즈는 384, 512   \n",
    "  ]\n",
    ")"
   ]
  },
  {
   "cell_type": "markdown",
   "id": "2ac4e0b4-0f81-4d30-813e-9f2c68b5e9b5",
   "metadata": {},
   "source": [
    "## Read DataFrame"
   ]
  },
  {
   "cell_type": "code",
   "execution_count": 5,
   "id": "2d1bab92-6caa-4c52-96cb-69396cb44457",
   "metadata": {},
   "outputs": [
    {
     "data": {
      "application/vnd.jupyter.widget-view+json": {
       "model_id": "e4cb55cfe7864b718a732814ff30c3c1",
       "version_major": 2,
       "version_minor": 0
      },
      "text/plain": [
       "HBox(children=(HTML(value=''), FloatProgress(value=0.0, max=12600.0), HTML(value='')))"
      ]
     },
     "metadata": {},
     "output_type": "display_data"
    },
    {
     "name": "stdout",
     "output_type": "stream",
     "text": [
      "\n"
     ]
    }
   ],
   "source": [
    "def make_test_full_path(s):\n",
    "    path = 'input/data/eval/images/'\n",
    "    return path + s\n",
    "\n",
    "train_df = pd.read_csv('./stratified_df/train_df.csv')\n",
    "valid_df = pd.read_csv('./stratified_df/valid_df.csv')\n",
    "test_df = pd.read_csv('./input/data/eval/info.csv')\n",
    "test_df['full_path'] = test_df['ImageID'].progress_apply(make_test_full_path)\n",
    "submission_df = pd.read_csv('./input/data/eval/info.csv')"
   ]
  },
  {
   "cell_type": "markdown",
   "id": "ccea9026-188c-4328-a9d6-4995a69b0671",
   "metadata": {},
   "source": [
    "## Dataset & DataLoader"
   ]
  },
  {
   "cell_type": "code",
   "execution_count": 6,
   "id": "9f16f297-4652-47bd-b5f5-6c3f7d12a712",
   "metadata": {},
   "outputs": [],
   "source": [
    "class TrainDataset(Dataset):\n",
    "    def __init__(self, path, label, transform):\n",
    "        img_list = []\n",
    "        for p in tqdm(path):\n",
    "            img = cv2.imread(p)\n",
    "            img = cv2.cvtColor(img, cv2.COLOR_BGR2RGB)\n",
    "            img_list.append(img)\n",
    "        \n",
    "        self.X = img_list\n",
    "        self.y = label\n",
    "        self.transform = transform\n",
    "\n",
    "    def __len__(self):\n",
    "        len_dataset = len(self.X)\n",
    "        return len_dataset\n",
    "\n",
    "    def __getitem__(self, idx):\n",
    "        X,y = self.X[idx], self.y[idx]\n",
    "        X = self.transform(image=X)['image']\n",
    "        return X, y"
   ]
  },
  {
   "cell_type": "code",
   "execution_count": 7,
   "id": "2f0dcbba-99b8-4841-ac6c-bef34afeb7b8",
   "metadata": {},
   "outputs": [],
   "source": [
    "class TestDataset(Dataset):\n",
    "    def __init__(self, path, label, transform):\n",
    "        img_list = []\n",
    "        for p in tqdm(path):\n",
    "            img = cv2.imread(p)\n",
    "            img = cv2.cvtColor(img, cv2.COLOR_BGR2RGB)\n",
    "            img_list.append(img)\n",
    "        \n",
    "        self.X = img_list\n",
    "        self.y = label\n",
    "        self.transform = transform\n",
    "\n",
    "    def __len__(self):\n",
    "        len_dataset = len(self.X)\n",
    "        return len_dataset\n",
    "\n",
    "    def __getitem__(self, idx):\n",
    "        X,y = self.X[idx], self.y[idx]\n",
    "        X = self.transform(image=X)['image']\n",
    "        return X"
   ]
  },
  {
   "cell_type": "code",
   "execution_count": 8,
   "id": "76051376-9351-440b-8a52-db8a9b63960b",
   "metadata": {},
   "outputs": [],
   "source": [
    "def get_dataset(df, transform, train=True):\n",
    "    if train:\n",
    "        dataset = TrainDataset(path=df['full_path'].values,\n",
    "                               label=df['label'].values,\n",
    "                               transform=transform)\n",
    "    else:\n",
    "        dataset = TestDataset(path=df['full_path'].values,\n",
    "                              label=df['ans'].values,\n",
    "                              transform=transform)\n",
    "    return dataset\n",
    "\n",
    "def get_loader(dataset, config, shuffle=True):\n",
    "    loader = DataLoader(dataset, batch_size=config['BATCH_SIZE'], shuffle=shuffle, \n",
    "                        num_workers=config['NUM_WORKERS'], pin_memory=True)\n",
    "    return loader"
   ]
  },
  {
   "cell_type": "code",
   "execution_count": 9,
   "id": "1c282ec2-2101-46fc-9e15-3425376212a3",
   "metadata": {},
   "outputs": [
    {
     "data": {
      "application/vnd.jupyter.widget-view+json": {
       "model_id": "9ff47bf9c9a24a98b4b74fc47d1c2d15",
       "version_major": 2,
       "version_minor": 0
      },
      "text/plain": [
       "HBox(children=(HTML(value=''), FloatProgress(value=0.0, max=15120.0), HTML(value='')))"
      ]
     },
     "metadata": {},
     "output_type": "display_data"
    },
    {
     "name": "stdout",
     "output_type": "stream",
     "text": [
      "\n"
     ]
    },
    {
     "data": {
      "application/vnd.jupyter.widget-view+json": {
       "model_id": "ed511d82b4974c70a5e3dddf76e29045",
       "version_major": 2,
       "version_minor": 0
      },
      "text/plain": [
       "HBox(children=(HTML(value=''), FloatProgress(value=0.0, max=3780.0), HTML(value='')))"
      ]
     },
     "metadata": {},
     "output_type": "display_data"
    },
    {
     "name": "stdout",
     "output_type": "stream",
     "text": [
      "\n"
     ]
    }
   ],
   "source": [
    "dataset_train = get_dataset(train_df, train_transform, train=True)\n",
    "dataset_valid = get_dataset(valid_df, test_transform, train=True)\n",
    "\n",
    "train_dataloader = get_loader(dataset_train, config, shuffle=True)\n",
    "valid_dataloader = get_loader(dataset_valid, config, shuffle=False)"
   ]
  },
  {
   "cell_type": "markdown",
   "id": "7bb8c392-07e3-4e01-bf50-da9db2f6444e",
   "metadata": {},
   "source": [
    "## Modeling"
   ]
  },
  {
   "cell_type": "code",
   "execution_count": 10,
   "id": "6325d02a-6e5b-4bc7-8ed9-f7a18e9142d7",
   "metadata": {},
   "outputs": [],
   "source": [
    "class Net(nn.Module):\n",
    "    def __init__(self, config):\n",
    "        super().__init__()\n",
    "        self.net = timm.create_model(config['MODEL'], num_classes=config['NUM_CLASSES'], pretrained=True).to(device)\n",
    "        if config['LOAD_MODEL']:\n",
    "            self.net.load_state_dict(torch.load(config['LOAD_MODEL_PATH']))\n",
    "        \n",
    "    def forward(self, x):\n",
    "        x = self.net(x)\n",
    "        return x"
   ]
  },
  {
   "cell_type": "code",
   "execution_count": 11,
   "id": "aea5b25b-1255-4384-8ba2-2e922b6dceed",
   "metadata": {},
   "outputs": [],
   "source": [
    "def train(model, config, train_dataloader, device):\n",
    "    running_loss = 0.0\n",
    "    model.train()\n",
    "    \n",
    "    for step, (inputs, labels) in enumerate(tqdm(train_dataloader)):\n",
    "        optimizer.zero_grad()\n",
    "        inputs = inputs.to(device)\n",
    "        labels = labels.to(device)\n",
    "        logits = model(inputs)\n",
    "        loss = criterion(logits, labels)\n",
    "        loss.backward()\n",
    "        optimizer.step()\n",
    "        \n",
    "        running_loss += loss.item()\n",
    "        \n",
    "        if step % config['LOG_STEPS'] == config['LOG_STEPS'] - 1:\n",
    "            step_loss = running_loss / config['LOG_STEPS']\n",
    "            print(f'Traning Steps : {step + 1} Traning Loss : {step_loss}')\n",
    "            running_loss = 0.0\n",
    "            \n",
    "    scheduler.step()"
   ]
  },
  {
   "cell_type": "code",
   "execution_count": 12,
   "id": "dd33e413-a2b4-4b50-9419-70f1d910c87d",
   "metadata": {},
   "outputs": [],
   "source": [
    "def valid(model, valid_dataloader, device):\n",
    "    gt_list = []\n",
    "    pred_list = []\n",
    "    \n",
    "    model.eval()\n",
    "    correct = 0\n",
    "    \n",
    "    with torch.no_grad():\n",
    "        for x, y in tqdm(valid_dataloader):\n",
    "            x = x.to(device)\n",
    "            y = y.to(device)\n",
    "            \n",
    "            logits = model(x)\n",
    "            _, pred = torch.max(logits, 1)\n",
    "            correct += torch.sum(pred == y.data)\n",
    "            \n",
    "            for i in y.cpu().numpy():\n",
    "                gt_list.append(i)\n",
    "            for j in pred.cpu().numpy():\n",
    "                pred_list.append(j)\n",
    "    \n",
    "    f1 = f1_score(gt_list, pred_list, average='macro')\n",
    "    acc = correct / dataset_valid.__len__()\n",
    "    del gt_list, pred_list\n",
    "    \n",
    "    print(f'Validation f1_score : {f1}')\n",
    "    print(f'Validation accuracy : {acc}')\n",
    "    return f1, acc"
   ]
  },
  {
   "cell_type": "code",
   "execution_count": 13,
   "id": "92b7ce78-52e7-45e5-a92b-7df1ca09cd19",
   "metadata": {},
   "outputs": [],
   "source": [
    "def run(model, config, train_dataloader, valid_dataloader, device):\n",
    "    best_f1 = 0.0\n",
    "    for epoch in range(config['NUM_EPOCHS']):\n",
    "        print(f'Epoch : {epoch + 1}')\n",
    "        train(model, config, train_dataloader, device)\n",
    "        f1, acc = valid(model, valid_dataloader, device)\n",
    "        \n",
    "        wandb.log({'Valid F1': f1,\n",
    "                   'Valid acc': acc})\n",
    "        \n",
    "        if f1 > best_f1:\n",
    "            best_f1 = f1\n",
    "            save_path = config['SAVE_PATH']\n",
    "            model_name = config['MODEL_NAME']\n",
    "            torch.save(model.state_dict(), f'{save_path}/{model_name}_epoch_{epoch+1}_{best_f1}.pth')\n",
    "            \n",
    "        print('-'*50)"
   ]
  },
  {
   "cell_type": "code",
   "execution_count": 14,
   "id": "cf3b7b4c-a42b-4162-a5e2-a1d3e03dcffb",
   "metadata": {},
   "outputs": [],
   "source": [
    "model = Net(config)\n",
    "\n",
    "classes = train_df['label'].value_counts().sort_index().values\n",
    "class_weight = torch.tensor(np.max(classes) / classes).to(device, dtype=torch.float)\n",
    "\n",
    "criterion = nn.CrossEntropyLoss(weight=class_weight)\n",
    "optimizer = AdamW(model.parameters(), lr=config['LEARNING_RATE'])\n",
    "scheduler = optim.lr_scheduler.CosineAnnealingLR(optimizer, T_max=10, eta_min=0)"
   ]
  },
  {
   "cell_type": "code",
   "execution_count": 15,
   "id": "f4c33fd5-72cf-40c3-b236-27388b6749b6",
   "metadata": {},
   "outputs": [],
   "source": [
    "run(model, config, train_dataloader, valid_dataloader, device)"
   ]
  },
  {
   "cell_type": "code",
   "execution_count": null,
   "id": "30f2363a-2342-4553-bdbb-219a8eab7a3c",
   "metadata": {},
   "outputs": [
    {
     "name": "stdout",
     "output_type": "stream",
     "text": [
      "Epoch : 1\n"
     ]
    },
    {
     "data": {
      "application/vnd.jupyter.widget-view+json": {
       "model_id": "1309a4bb444641848a6c97174f0a173b",
       "version_major": 2,
       "version_minor": 0
      },
      "text/plain": [
       "HBox(children=(HTML(value=''), FloatProgress(value=0.0, max=1890.0), HTML(value='')))"
      ]
     },
     "metadata": {},
     "output_type": "display_data"
    },
    {
     "name": "stdout",
     "output_type": "stream",
     "text": [
      "Traning Steps : 450 Traning Loss : 2.8097855959998235\n",
      "Traning Steps : 900 Traning Loss : 2.6953102424409656\n",
      "Traning Steps : 1350 Traning Loss : 2.6359584641456606\n",
      "Traning Steps : 1800 Traning Loss : 2.1951496097776624\n",
      "\n"
     ]
    },
    {
     "data": {
      "application/vnd.jupyter.widget-view+json": {
       "model_id": "92494283baba48d1bf00f64e41e28e0e",
       "version_major": 2,
       "version_minor": 0
      },
      "text/plain": [
       "HBox(children=(HTML(value=''), FloatProgress(value=0.0, max=473.0), HTML(value='')))"
      ]
     },
     "metadata": {},
     "output_type": "display_data"
    },
    {
     "name": "stdout",
     "output_type": "stream",
     "text": [
      "\n",
      "Validation f1_score : 0.2292238527527793\n",
      "Validation accuracy : 0.3619047701358795\n",
      "--------------------------------------------------\n",
      "Epoch : 2\n"
     ]
    },
    {
     "data": {
      "application/vnd.jupyter.widget-view+json": {
       "model_id": "28102428d02842ba9ef6ae134fc75e64",
       "version_major": 2,
       "version_minor": 0
      },
      "text/plain": [
       "HBox(children=(HTML(value=''), FloatProgress(value=0.0, max=1890.0), HTML(value='')))"
      ]
     },
     "metadata": {},
     "output_type": "display_data"
    },
    {
     "name": "stdout",
     "output_type": "stream",
     "text": [
      "Traning Steps : 450 Traning Loss : 1.8447581464714473\n",
      "Traning Steps : 900 Traning Loss : 1.4843462986416287\n",
      "Traning Steps : 1350 Traning Loss : 1.3187636015150281\n",
      "Traning Steps : 1800 Traning Loss : 1.1588879405789905\n",
      "\n"
     ]
    },
    {
     "data": {
      "application/vnd.jupyter.widget-view+json": {
       "model_id": "df87d25a7f7b47dc8a74e7d96eee5060",
       "version_major": 2,
       "version_minor": 0
      },
      "text/plain": [
       "HBox(children=(HTML(value=''), FloatProgress(value=0.0, max=473.0), HTML(value='')))"
      ]
     },
     "metadata": {},
     "output_type": "display_data"
    },
    {
     "name": "stdout",
     "output_type": "stream",
     "text": [
      "\n",
      "Validation f1_score : 0.5201821990244266\n",
      "Validation accuracy : 0.5997354388237\n",
      "--------------------------------------------------\n",
      "Epoch : 3\n"
     ]
    },
    {
     "data": {
      "application/vnd.jupyter.widget-view+json": {
       "model_id": "84e7ec2469314a68a4e98c43e1b1ccce",
       "version_major": 2,
       "version_minor": 0
      },
      "text/plain": [
       "HBox(children=(HTML(value=''), FloatProgress(value=0.0, max=1890.0), HTML(value='')))"
      ]
     },
     "metadata": {},
     "output_type": "display_data"
    },
    {
     "name": "stdout",
     "output_type": "stream",
     "text": [
      "Traning Steps : 450 Traning Loss : 0.9811540197001564\n",
      "Traning Steps : 900 Traning Loss : 0.9182523472441567\n",
      "Traning Steps : 1350 Traning Loss : 0.8935298770169418\n",
      "Traning Steps : 1800 Traning Loss : 0.8431402543187141\n",
      "\n"
     ]
    },
    {
     "data": {
      "application/vnd.jupyter.widget-view+json": {
       "model_id": "409251bbf53f4b42bdf860139c4c6dfa",
       "version_major": 2,
       "version_minor": 0
      },
      "text/plain": [
       "HBox(children=(HTML(value=''), FloatProgress(value=0.0, max=473.0), HTML(value='')))"
      ]
     },
     "metadata": {},
     "output_type": "display_data"
    },
    {
     "name": "stdout",
     "output_type": "stream",
     "text": [
      "\n",
      "Validation f1_score : 0.5839287590679072\n",
      "Validation accuracy : 0.6505290865898132\n",
      "--------------------------------------------------\n",
      "Epoch : 4\n"
     ]
    },
    {
     "data": {
      "application/vnd.jupyter.widget-view+json": {
       "model_id": "5fc20a2310dc47e99e790de1e6f4f677",
       "version_major": 2,
       "version_minor": 0
      },
      "text/plain": [
       "HBox(children=(HTML(value=''), FloatProgress(value=0.0, max=1890.0), HTML(value='')))"
      ]
     },
     "metadata": {},
     "output_type": "display_data"
    },
    {
     "name": "stdout",
     "output_type": "stream",
     "text": [
      "Traning Steps : 450 Traning Loss : 0.6781455506881078\n",
      "Traning Steps : 900 Traning Loss : 0.7026414045194784\n",
      "Traning Steps : 1350 Traning Loss : 0.659082089273466\n",
      "Traning Steps : 1800 Traning Loss : 0.7534832505799002\n",
      "\n"
     ]
    },
    {
     "data": {
      "application/vnd.jupyter.widget-view+json": {
       "model_id": "2cf303d3220647939ffd7c40259ca3a0",
       "version_major": 2,
       "version_minor": 0
      },
      "text/plain": [
       "HBox(children=(HTML(value=''), FloatProgress(value=0.0, max=473.0), HTML(value='')))"
      ]
     },
     "metadata": {},
     "output_type": "display_data"
    },
    {
     "name": "stdout",
     "output_type": "stream",
     "text": [
      "\n",
      "Validation f1_score : 0.5699627893241783\n",
      "Validation accuracy : 0.6164021492004395\n",
      "--------------------------------------------------\n",
      "Epoch : 5\n"
     ]
    },
    {
     "data": {
      "application/vnd.jupyter.widget-view+json": {
       "model_id": "47e95550e87b42d5965d4a5cc2cc9a1e",
       "version_major": 2,
       "version_minor": 0
      },
      "text/plain": [
       "HBox(children=(HTML(value=''), FloatProgress(value=0.0, max=1890.0), HTML(value='')))"
      ]
     },
     "metadata": {},
     "output_type": "display_data"
    },
    {
     "name": "stdout",
     "output_type": "stream",
     "text": [
      "Traning Steps : 450 Traning Loss : 0.5698209126707581\n",
      "Traning Steps : 900 Traning Loss : 0.5649262813561492\n",
      "Traning Steps : 1350 Traning Loss : 0.5747102175839245\n",
      "Traning Steps : 1800 Traning Loss : 0.516323318005436\n"
     ]
    },
    {
     "name": "stderr",
     "output_type": "stream",
     "text": [
      "IOPub message rate exceeded.\n",
      "The Jupyter server will temporarily stop sending output\n",
      "to the client in order to avoid crashing it.\n",
      "To change this limit, set the config variable\n",
      "`--ServerApp.iopub_msg_rate_limit`.\n",
      "\n",
      "Current values:\n",
      "ServerApp.iopub_msg_rate_limit=1000.0 (msgs/sec)\n",
      "ServerApp.rate_limit_window=3.0 (secs)\n",
      "\n"
     ]
    },
    {
     "name": "stdout",
     "output_type": "stream",
     "text": [
      "Traning Steps : 450 Traning Loss : 0.3492051477254265\n",
      "Traning Steps : 900 Traning Loss : 0.2938006750307977\n",
      "Traning Steps : 1350 Traning Loss : 0.32458504610694944\n"
     ]
    },
    {
     "name": "stderr",
     "output_type": "stream",
     "text": [
      "IOPub message rate exceeded.\n",
      "The Jupyter server will temporarily stop sending output\n",
      "to the client in order to avoid crashing it.\n",
      "To change this limit, set the config variable\n",
      "`--ServerApp.iopub_msg_rate_limit`.\n",
      "\n",
      "Current values:\n",
      "ServerApp.iopub_msg_rate_limit=1000.0 (msgs/sec)\n",
      "ServerApp.rate_limit_window=3.0 (secs)\n",
      "\n"
     ]
    },
    {
     "name": "stdout",
     "output_type": "stream",
     "text": [
      "Traning Steps : 450 Traning Loss : 0.16245164609151996\n",
      "Traning Steps : 900 Traning Loss : 0.14749505703932503\n"
     ]
    }
   ],
   "source": [
    "run(model, config, train_dataloader, valid_dataloader, device)"
   ]
  },
  {
   "cell_type": "markdown",
   "id": "10b778d0-0646-407b-b589-dfe48a75a9ed",
   "metadata": {},
   "source": [
    "## Inferences"
   ]
  },
  {
   "cell_type": "code",
   "execution_count": 16,
   "id": "739c53e1-6c5e-450f-aab7-c5d93e99010d",
   "metadata": {},
   "outputs": [],
   "source": [
    "def inferences(test_dataloader):\n",
    "    pred_list = []\n",
    "    for images in tqdm(test_dataloader):\n",
    "        model.eval()\n",
    "        with torch.no_grad():\n",
    "            images = images.to(device)\n",
    "            pred = model(images)\n",
    "            pred = pred.argmax(dim=-1)\n",
    "            pred_list.extend(pred.cpu().numpy())\n",
    "    \n",
    "    return pred_list"
   ]
  },
  {
   "cell_type": "code",
   "execution_count": null,
   "id": "a52bf6e3-9e69-4a6b-ade1-e936d9ba4400",
   "metadata": {},
   "outputs": [
    {
     "data": {
      "application/vnd.jupyter.widget-view+json": {
       "model_id": "f5f712dcb56649199de0ef3848eef360",
       "version_major": 2,
       "version_minor": 0
      },
      "text/plain": [
       "HBox(children=(HTML(value=''), FloatProgress(value=0.0, max=12600.0), HTML(value='')))"
      ]
     },
     "metadata": {},
     "output_type": "display_data"
    }
   ],
   "source": [
    "dataset_test = get_dataset(test_df, test_transform, train=False)\n",
    "test_dataloader = get_loader(dataset_test, config, shuffle=False)"
   ]
  },
  {
   "cell_type": "code",
   "execution_count": 30,
   "id": "d3574688-7a8a-4fdf-bc7f-d1f89ab0cce1",
   "metadata": {},
   "outputs": [],
   "source": [
    "submission_df['ans'] = inferences(test_dataloader)\n",
    "submission_df.head()\n",
    "submission_df.to_csv('./submission.csv', index=False)"
   ]
  },
  {
   "cell_type": "markdown",
   "id": "624242b3-28e0-496a-b053-fdae678327c1",
   "metadata": {},
   "source": [
    "## Inferences with TTA"
   ]
  },
  {
   "cell_type": "code",
   "execution_count": null,
   "id": "842cf713-0c55-4ef9-a176-43e8b89edf33",
   "metadata": {},
   "outputs": [],
   "source": [
    "tta_transforms = tta.Compose(\n",
    "    [\n",
    "#         tta.HorizontalFlip(),\n",
    "#         tta.Rotate90(angles=[0, 90]),\n",
    "#         tta.Scale(scales=[1, 2]),\n",
    "#         tta.FiveCrops(384, 384),\n",
    "#         tta.Add([0, 0.25]),\n",
    "        tta.Scale(scales=[1, 2]),\n",
    "        tta.Multiply(factors=[0.9, 1, 1.1]),\n",
    "    ])"
   ]
  },
  {
   "cell_type": "code",
   "execution_count": null,
   "id": "2c74cdf6-1ce0-43ae-9946-f7f61719ecad",
   "metadata": {},
   "outputs": [],
   "source": []
  },
  {
   "cell_type": "code",
   "execution_count": null,
   "id": "2eb18212-32c7-4840-a4ab-978651c5f288",
   "metadata": {},
   "outputs": [],
   "source": []
  }
 ],
 "metadata": {
  "kernelspec": {
   "display_name": "Python 3 (ipykernel)",
   "language": "python",
   "name": "python3"
  },
  "language_info": {
   "codemirror_mode": {
    "name": "ipython",
    "version": 3
   },
   "file_extension": ".py",
   "mimetype": "text/x-python",
   "name": "python",
   "nbconvert_exporter": "python",
   "pygments_lexer": "ipython3",
   "version": "3.8.5"
  }
 },
 "nbformat": 4,
 "nbformat_minor": 5
}
