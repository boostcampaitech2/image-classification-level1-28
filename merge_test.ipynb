{
 "cells": [
  {
   "cell_type": "code",
   "execution_count": 1,
   "metadata": {},
   "outputs": [],
   "source": [
    "import pandas as pd\n",
    "import os\n",
    "import shutil"
   ]
  },
  {
   "cell_type": "code",
   "execution_count": 31,
   "metadata": {},
   "outputs": [],
   "source": [
    "new_df = pd.read_csv('df_part_4.csv.zip')\n",
    "new_dataset_path = 'images_backup_2'\n",
    "original_dataset_dir = '/tf/pstage_1/train/images_merge/'"
   ]
  },
  {
   "cell_type": "code",
   "execution_count": 3,
   "metadata": {},
   "outputs": [
    {
     "data": {
      "text/html": [
       "<div>\n",
       "<style scoped>\n",
       "    .dataframe tbody tr th:only-of-type {\n",
       "        vertical-align: middle;\n",
       "    }\n",
       "\n",
       "    .dataframe tbody tr th {\n",
       "        vertical-align: top;\n",
       "    }\n",
       "\n",
       "    .dataframe thead th {\n",
       "        text-align: right;\n",
       "    }\n",
       "</style>\n",
       "<table border=\"1\" class=\"dataframe\">\n",
       "  <thead>\n",
       "    <tr style=\"text-align: right;\">\n",
       "      <th></th>\n",
       "      <th>ID</th>\n",
       "      <th>TYPE</th>\n",
       "      <th>USER_ID</th>\n",
       "      <th>GENDER</th>\n",
       "      <th>AGE</th>\n",
       "      <th>name</th>\n",
       "      <th>size_mb</th>\n",
       "    </tr>\n",
       "  </thead>\n",
       "  <tbody>\n",
       "    <tr>\n",
       "      <th>0</th>\n",
       "      <td>30001</td>\n",
       "      <td>1</td>\n",
       "      <td>1092</td>\n",
       "      <td>MALE</td>\n",
       "      <td>19</td>\n",
       "      <td>030001_1_001092_MALE_19.jpg</td>\n",
       "      <td>0.933037</td>\n",
       "    </tr>\n",
       "    <tr>\n",
       "      <th>1</th>\n",
       "      <td>30001</td>\n",
       "      <td>2</td>\n",
       "      <td>1092</td>\n",
       "      <td>MALE</td>\n",
       "      <td>19</td>\n",
       "      <td>030001_2_001092_MALE_19.jpg</td>\n",
       "      <td>0.975251</td>\n",
       "    </tr>\n",
       "    <tr>\n",
       "      <th>2</th>\n",
       "      <td>30001</td>\n",
       "      <td>3</td>\n",
       "      <td>1092</td>\n",
       "      <td>MALE</td>\n",
       "      <td>19</td>\n",
       "      <td>030001_3_001092_MALE_19.jpg</td>\n",
       "      <td>1.027843</td>\n",
       "    </tr>\n",
       "    <tr>\n",
       "      <th>3</th>\n",
       "      <td>30001</td>\n",
       "      <td>4</td>\n",
       "      <td>1092</td>\n",
       "      <td>MALE</td>\n",
       "      <td>19</td>\n",
       "      <td>030001_4_001092_MALE_19.jpg</td>\n",
       "      <td>1.040692</td>\n",
       "    </tr>\n",
       "    <tr>\n",
       "      <th>4</th>\n",
       "      <td>30002</td>\n",
       "      <td>1</td>\n",
       "      <td>5794</td>\n",
       "      <td>MALE</td>\n",
       "      <td>30</td>\n",
       "      <td>030002_1_005794_MALE_30.jpg</td>\n",
       "      <td>1.503981</td>\n",
       "    </tr>\n",
       "    <tr>\n",
       "      <th>...</th>\n",
       "      <td>...</td>\n",
       "      <td>...</td>\n",
       "      <td>...</td>\n",
       "      <td>...</td>\n",
       "      <td>...</td>\n",
       "      <td>...</td>\n",
       "      <td>...</td>\n",
       "    </tr>\n",
       "    <tr>\n",
       "      <th>39995</th>\n",
       "      <td>39999</td>\n",
       "      <td>4</td>\n",
       "      <td>20782</td>\n",
       "      <td>FEMALE</td>\n",
       "      <td>22</td>\n",
       "      <td>039999_4_020782_FEMALE_22.jpg</td>\n",
       "      <td>5.155726</td>\n",
       "    </tr>\n",
       "    <tr>\n",
       "      <th>39996</th>\n",
       "      <td>40000</td>\n",
       "      <td>1</td>\n",
       "      <td>20783</td>\n",
       "      <td>MALE</td>\n",
       "      <td>33</td>\n",
       "      <td>040000_1_020783_MALE_33.jpg</td>\n",
       "      <td>1.030267</td>\n",
       "    </tr>\n",
       "    <tr>\n",
       "      <th>39997</th>\n",
       "      <td>40000</td>\n",
       "      <td>2</td>\n",
       "      <td>20783</td>\n",
       "      <td>MALE</td>\n",
       "      <td>33</td>\n",
       "      <td>040000_2_020783_MALE_33.jpg</td>\n",
       "      <td>1.061272</td>\n",
       "    </tr>\n",
       "    <tr>\n",
       "      <th>39998</th>\n",
       "      <td>40000</td>\n",
       "      <td>3</td>\n",
       "      <td>20783</td>\n",
       "      <td>MALE</td>\n",
       "      <td>33</td>\n",
       "      <td>040000_3_020783_MALE_33.jpg</td>\n",
       "      <td>0.987479</td>\n",
       "    </tr>\n",
       "    <tr>\n",
       "      <th>39999</th>\n",
       "      <td>40000</td>\n",
       "      <td>4</td>\n",
       "      <td>20783</td>\n",
       "      <td>MALE</td>\n",
       "      <td>33</td>\n",
       "      <td>040000_4_020783_MALE_33.jpg</td>\n",
       "      <td>1.022792</td>\n",
       "    </tr>\n",
       "  </tbody>\n",
       "</table>\n",
       "<p>40000 rows × 7 columns</p>\n",
       "</div>"
      ],
      "text/plain": [
       "          ID  TYPE  USER_ID  GENDER  AGE                           name  \\\n",
       "0      30001     1     1092    MALE   19    030001_1_001092_MALE_19.jpg   \n",
       "1      30001     2     1092    MALE   19    030001_2_001092_MALE_19.jpg   \n",
       "2      30001     3     1092    MALE   19    030001_3_001092_MALE_19.jpg   \n",
       "3      30001     4     1092    MALE   19    030001_4_001092_MALE_19.jpg   \n",
       "4      30002     1     5794    MALE   30    030002_1_005794_MALE_30.jpg   \n",
       "...      ...   ...      ...     ...  ...                            ...   \n",
       "39995  39999     4    20782  FEMALE   22  039999_4_020782_FEMALE_22.jpg   \n",
       "39996  40000     1    20783    MALE   33    040000_1_020783_MALE_33.jpg   \n",
       "39997  40000     2    20783    MALE   33    040000_2_020783_MALE_33.jpg   \n",
       "39998  40000     3    20783    MALE   33    040000_3_020783_MALE_33.jpg   \n",
       "39999  40000     4    20783    MALE   33    040000_4_020783_MALE_33.jpg   \n",
       "\n",
       "        size_mb  \n",
       "0      0.933037  \n",
       "1      0.975251  \n",
       "2      1.027843  \n",
       "3      1.040692  \n",
       "4      1.503981  \n",
       "...         ...  \n",
       "39995  5.155726  \n",
       "39996  1.030267  \n",
       "39997  1.061272  \n",
       "39998  0.987479  \n",
       "39999  1.022792  \n",
       "\n",
       "[40000 rows x 7 columns]"
      ]
     },
     "execution_count": 3,
     "metadata": {},
     "output_type": "execute_result"
    }
   ],
   "source": [
    "new_df"
   ]
  },
  {
   "cell_type": "code",
   "execution_count": 4,
   "metadata": {},
   "outputs": [],
   "source": [
    "new_df = new_df[new_df.AGE < 100]"
   ]
  },
  {
   "cell_type": "markdown",
   "metadata": {},
   "source": [
    "- 100살 이상 데이터 제거 (117, 2019, 2020 존재)"
   ]
  },
  {
   "cell_type": "code",
   "execution_count": 5,
   "metadata": {},
   "outputs": [
    {
     "data": {
      "text/plain": [
       "39928"
      ]
     },
     "execution_count": 5,
     "metadata": {},
     "output_type": "execute_result"
    }
   ],
   "source": [
    "len(new_df)"
   ]
  },
  {
   "cell_type": "code",
   "execution_count": 6,
   "metadata": {},
   "outputs": [
    {
     "data": {
      "text/plain": [
       "FEMALE    16072\n",
       "MALE      15292\n",
       "NONE       8564\n",
       "Name: GENDER, dtype: int64"
      ]
     },
     "execution_count": 6,
     "metadata": {},
     "output_type": "execute_result"
    }
   ],
   "source": [
    "new_df.GENDER.value_counts()"
   ]
  },
  {
   "cell_type": "code",
   "execution_count": 7,
   "metadata": {},
   "outputs": [],
   "source": [
    "new_df = new_df[new_df.GENDER != 'NONE']"
   ]
  },
  {
   "cell_type": "markdown",
   "metadata": {},
   "source": [
    "- NONE 성별 데이터 제거"
   ]
  },
  {
   "cell_type": "code",
   "execution_count": 8,
   "metadata": {},
   "outputs": [
    {
     "data": {
      "text/plain": [
       "31364"
      ]
     },
     "execution_count": 8,
     "metadata": {},
     "output_type": "execute_result"
    }
   ],
   "source": [
    "len(new_df)"
   ]
  },
  {
   "cell_type": "code",
   "execution_count": 9,
   "metadata": {},
   "outputs": [
    {
     "data": {
      "text/plain": [
       "array(['male', 'male', 'male', ..., 'male', 'male', 'male'], dtype=object)"
      ]
     },
     "execution_count": 9,
     "metadata": {},
     "output_type": "execute_result"
    }
   ],
   "source": [
    "new_df.GENDER.str.lower().values"
   ]
  },
  {
   "cell_type": "code",
   "execution_count": 10,
   "metadata": {},
   "outputs": [],
   "source": [
    "id_val = new_df.ID.values\n",
    "gender = new_df.GENDER.str.lower().values\n",
    "age = new_df.AGE.values\n",
    "img_name = new_df.name.values\n",
    "mask_type = new_df.TYPE.values\n",
    "\n",
    "dir_name_list = []"
   ]
  },
  {
   "cell_type": "code",
   "execution_count": 11,
   "metadata": {},
   "outputs": [
    {
     "name": "stdout",
     "output_type": "stream",
     "text": [
      "31364\n"
     ]
    }
   ],
   "source": [
    "len_data = len(id_val)\n",
    "print(len_data) #사용할 데이터"
   ]
  },
  {
   "cell_type": "code",
   "execution_count": null,
   "metadata": {},
   "outputs": [],
   "source": []
  },
  {
   "cell_type": "code",
   "execution_count": 12,
   "metadata": {},
   "outputs": [],
   "source": [
    "for idx in range(len_data):\n",
    "    \n",
    "    # Person directory generation\n",
    "    if idx % 4 == 0:\n",
    "        dir_name = str(id_val[idx]) + '_' + gender[idx] + '_' + 'Unknown' + '_' + str(age[idx])\n",
    "        img_dir_path = os.path.join(new_dataset_path, dir_name)\n",
    "        os.makedirs(img_dir_path, exist_ok = True)\n",
    "    dir_name_list.append(dir_name)\n",
    "    \n",
    "    # Image name change\n",
    "    if mask_type[idx] == 1:\n",
    "        img_name_change = 'mask.jpg'\n",
    "    elif mask_type[idx] == 2:\n",
    "        img_name_change = 'incorrect_mask1.jpg'\n",
    "    elif mask_type[idx] == 3:\n",
    "        img_name_change = 'incorrect_mask2.jpg'\n",
    "    elif mask_type[idx] == 4:\n",
    "        img_name_change = 'normal.jpg'\n",
    "    \n",
    "    # move image file to person directory\n",
    "    original_img_path = os.path.join(new_dataset_path, img_name[idx])\n",
    "    new_img_path = os.path.join(img_dir_path, img_name_change)\n",
    "    shutil.move(original_img_path, new_img_path)\n",
    "#     if (idx+1) % 1000 == 0:\n",
    "#         print(idx+1)"
   ]
  },
  {
   "cell_type": "code",
   "execution_count": 13,
   "metadata": {},
   "outputs": [
    {
     "data": {
      "text/plain": [
       "31364"
      ]
     },
     "execution_count": 13,
     "metadata": {},
     "output_type": "execute_result"
    }
   ],
   "source": [
    "len(dir_name_list)"
   ]
  },
  {
   "cell_type": "code",
   "execution_count": 14,
   "metadata": {},
   "outputs": [],
   "source": [
    "new_dataset_df = pd.DataFrame({\n",
    "                        'id': id_val,\n",
    "                        'gender': gender,\n",
    "                        'race': ['Unknown'] * len_data,\n",
    "                        'age': age,\n",
    "                        'path': dir_name_list\n",
    "})"
   ]
  },
  {
   "cell_type": "code",
   "execution_count": 15,
   "metadata": {},
   "outputs": [],
   "source": [
    "new_dataset_df.id = new_dataset_df.id.astype(object)"
   ]
  },
  {
   "cell_type": "code",
   "execution_count": 16,
   "metadata": {},
   "outputs": [
    {
     "name": "stdout",
     "output_type": "stream",
     "text": [
      "<class 'pandas.core.frame.DataFrame'>\n",
      "RangeIndex: 31364 entries, 0 to 31363\n",
      "Data columns (total 5 columns):\n",
      " #   Column  Non-Null Count  Dtype \n",
      "---  ------  --------------  ----- \n",
      " 0   id      31364 non-null  object\n",
      " 1   gender  31364 non-null  object\n",
      " 2   race    31364 non-null  object\n",
      " 3   age     31364 non-null  int64 \n",
      " 4   path    31364 non-null  object\n",
      "dtypes: int64(1), object(4)\n",
      "memory usage: 1.2+ MB\n"
     ]
    }
   ],
   "source": [
    "new_dataset_df.info()"
   ]
  },
  {
   "cell_type": "code",
   "execution_count": 17,
   "metadata": {},
   "outputs": [],
   "source": [
    "original_df = pd.read_csv('/tf/pstage_1/train/train.csv')"
   ]
  },
  {
   "cell_type": "code",
   "execution_count": 18,
   "metadata": {},
   "outputs": [
    {
     "name": "stdout",
     "output_type": "stream",
     "text": [
      "<class 'pandas.core.frame.DataFrame'>\n",
      "RangeIndex: 2700 entries, 0 to 2699\n",
      "Data columns (total 5 columns):\n",
      " #   Column  Non-Null Count  Dtype \n",
      "---  ------  --------------  ----- \n",
      " 0   id      2700 non-null   object\n",
      " 1   gender  2700 non-null   object\n",
      " 2   race    2700 non-null   object\n",
      " 3   age     2700 non-null   int64 \n",
      " 4   path    2700 non-null   object\n",
      "dtypes: int64(1), object(4)\n",
      "memory usage: 105.6+ KB\n"
     ]
    }
   ],
   "source": [
    "original_df.info()"
   ]
  },
  {
   "cell_type": "code",
   "execution_count": 19,
   "metadata": {},
   "outputs": [
    {
     "data": {
      "text/html": [
       "<div>\n",
       "<style scoped>\n",
       "    .dataframe tbody tr th:only-of-type {\n",
       "        vertical-align: middle;\n",
       "    }\n",
       "\n",
       "    .dataframe tbody tr th {\n",
       "        vertical-align: top;\n",
       "    }\n",
       "\n",
       "    .dataframe thead th {\n",
       "        text-align: right;\n",
       "    }\n",
       "</style>\n",
       "<table border=\"1\" class=\"dataframe\">\n",
       "  <thead>\n",
       "    <tr style=\"text-align: right;\">\n",
       "      <th></th>\n",
       "      <th>id</th>\n",
       "      <th>gender</th>\n",
       "      <th>race</th>\n",
       "      <th>age</th>\n",
       "      <th>path</th>\n",
       "    </tr>\n",
       "  </thead>\n",
       "  <tbody>\n",
       "    <tr>\n",
       "      <th>0</th>\n",
       "      <td>30001</td>\n",
       "      <td>male</td>\n",
       "      <td>Unknown</td>\n",
       "      <td>19</td>\n",
       "      <td>30001_male_Unknown_19</td>\n",
       "    </tr>\n",
       "    <tr>\n",
       "      <th>1</th>\n",
       "      <td>30001</td>\n",
       "      <td>male</td>\n",
       "      <td>Unknown</td>\n",
       "      <td>19</td>\n",
       "      <td>30001_male_Unknown_19</td>\n",
       "    </tr>\n",
       "    <tr>\n",
       "      <th>2</th>\n",
       "      <td>30001</td>\n",
       "      <td>male</td>\n",
       "      <td>Unknown</td>\n",
       "      <td>19</td>\n",
       "      <td>30001_male_Unknown_19</td>\n",
       "    </tr>\n",
       "    <tr>\n",
       "      <th>3</th>\n",
       "      <td>30001</td>\n",
       "      <td>male</td>\n",
       "      <td>Unknown</td>\n",
       "      <td>19</td>\n",
       "      <td>30001_male_Unknown_19</td>\n",
       "    </tr>\n",
       "    <tr>\n",
       "      <th>4</th>\n",
       "      <td>30002</td>\n",
       "      <td>male</td>\n",
       "      <td>Unknown</td>\n",
       "      <td>30</td>\n",
       "      <td>30002_male_Unknown_30</td>\n",
       "    </tr>\n",
       "    <tr>\n",
       "      <th>...</th>\n",
       "      <td>...</td>\n",
       "      <td>...</td>\n",
       "      <td>...</td>\n",
       "      <td>...</td>\n",
       "      <td>...</td>\n",
       "    </tr>\n",
       "    <tr>\n",
       "      <th>2695</th>\n",
       "      <td>006954</td>\n",
       "      <td>male</td>\n",
       "      <td>Asian</td>\n",
       "      <td>19</td>\n",
       "      <td>006954_male_Asian_19</td>\n",
       "    </tr>\n",
       "    <tr>\n",
       "      <th>2696</th>\n",
       "      <td>006955</td>\n",
       "      <td>male</td>\n",
       "      <td>Asian</td>\n",
       "      <td>19</td>\n",
       "      <td>006955_male_Asian_19</td>\n",
       "    </tr>\n",
       "    <tr>\n",
       "      <th>2697</th>\n",
       "      <td>006956</td>\n",
       "      <td>male</td>\n",
       "      <td>Asian</td>\n",
       "      <td>19</td>\n",
       "      <td>006956_male_Asian_19</td>\n",
       "    </tr>\n",
       "    <tr>\n",
       "      <th>2698</th>\n",
       "      <td>006957</td>\n",
       "      <td>male</td>\n",
       "      <td>Asian</td>\n",
       "      <td>20</td>\n",
       "      <td>006957_male_Asian_20</td>\n",
       "    </tr>\n",
       "    <tr>\n",
       "      <th>2699</th>\n",
       "      <td>006959</td>\n",
       "      <td>male</td>\n",
       "      <td>Asian</td>\n",
       "      <td>19</td>\n",
       "      <td>006959_male_Asian_19</td>\n",
       "    </tr>\n",
       "  </tbody>\n",
       "</table>\n",
       "<p>34064 rows × 5 columns</p>\n",
       "</div>"
      ],
      "text/plain": [
       "          id gender     race  age                   path\n",
       "0      30001   male  Unknown   19  30001_male_Unknown_19\n",
       "1      30001   male  Unknown   19  30001_male_Unknown_19\n",
       "2      30001   male  Unknown   19  30001_male_Unknown_19\n",
       "3      30001   male  Unknown   19  30001_male_Unknown_19\n",
       "4      30002   male  Unknown   30  30002_male_Unknown_30\n",
       "...      ...    ...      ...  ...                    ...\n",
       "2695  006954   male    Asian   19   006954_male_Asian_19\n",
       "2696  006955   male    Asian   19   006955_male_Asian_19\n",
       "2697  006956   male    Asian   19   006956_male_Asian_19\n",
       "2698  006957   male    Asian   20   006957_male_Asian_20\n",
       "2699  006959   male    Asian   19   006959_male_Asian_19\n",
       "\n",
       "[34064 rows x 5 columns]"
      ]
     },
     "execution_count": 19,
     "metadata": {},
     "output_type": "execute_result"
    }
   ],
   "source": [
    "merged_df = pd.concat([new_dataset_df, original_df])\n",
    "merged_df"
   ]
  },
  {
   "cell_type": "code",
   "execution_count": 24,
   "metadata": {},
   "outputs": [],
   "source": [
    "#### 위의 코드를 다 돌리고 실행해야 합니다!!\n",
    "#### 위의 코드를 다 돌리고 실행해야 합니다!!\n",
    "\n",
    "#디렉토리명 직접 수정해주세요..\n",
    "!rm images_backup_2/*.jpg\n",
    "\n",
    "#### 위의 코드를 다 돌리고 실행해야 합니다!!\n",
    "#### 위의 코드를 다 돌리고 실행해야 합니다!!"
   ]
  },
  {
   "cell_type": "markdown",
   "metadata": {},
   "source": [
    "- AGE 100이상, GENDER NONE 이미지들을 제거합니다"
   ]
  },
  {
   "cell_type": "code",
   "execution_count": 21,
   "metadata": {},
   "outputs": [],
   "source": [
    "merged_df.to_csv('merged_df.csv', index = False)"
   ]
  },
  {
   "cell_type": "code",
   "execution_count": 37,
   "metadata": {},
   "outputs": [],
   "source": [
    "for person in os.listdir(new_dataset_path):\n",
    "    person_dir = os.path.join(new_dataset_path, person)\n",
    "\n",
    "    \n",
    "    shutil.move(person_dir, original_dataset_dir)\n"
   ]
  },
  {
   "cell_type": "markdown",
   "metadata": {},
   "source": [
    "- 이미지가 담긴 디렉토리들을 기존 데이터가 있는 디렉토리로 옮깁니다."
   ]
  },
  {
   "cell_type": "markdown",
   "metadata": {},
   "source": [
    "### 이후 생성된 merged_df.csv 파일을 기존 훈련 코드에서 읽어와서 데이터셋을 만들면 되겠습니다."
   ]
  }
 ],
 "metadata": {
  "kernelspec": {
   "display_name": "Python 3",
   "language": "python",
   "name": "python3"
  },
  "language_info": {
   "codemirror_mode": {
    "name": "ipython",
    "version": 3
   },
   "file_extension": ".py",
   "mimetype": "text/x-python",
   "name": "python",
   "nbconvert_exporter": "python",
   "pygments_lexer": "ipython3",
   "version": "3.6.8"
  }
 },
 "nbformat": 4,
 "nbformat_minor": 2
}
