{
 "cells": [
  {
   "cell_type": "code",
   "execution_count": 1,
   "id": "cubic-scoop",
   "metadata": {},
   "outputs": [
    {
     "name": "stderr",
     "output_type": "stream",
     "text": [
      "\u001b[34m\u001b[1mwandb\u001b[0m: Currently logged in as: \u001b[33myoukind\u001b[0m (use `wandb login --relogin` to force relogin)\n",
      "\n",
      "CondaEnvException: Unable to determine environment\n",
      "\n",
      "Please re-run this command with one of the following options:\n",
      "\n",
      "* Provide an environment name via --name or -n\n",
      "* Re-run this command inside an activated conda environment.\n",
      "\n"
     ]
    },
    {
     "data": {
      "text/html": [
       "\n",
       "                Tracking run with wandb version 0.12.0<br/>\n",
       "                Syncing run <strong style=\"color:#cdcd00\">efficientnet-b6</strong> to <a href=\"https://wandb.ai\" target=\"_blank\">Weights & Biases</a> <a href=\"https://docs.wandb.com/integrations/jupyter.html\" target=\"_blank\">(Documentation)</a>.<br/>\n",
       "                Project page: <a href=\"https://wandb.ai/youkind/MaskClassification\" target=\"_blank\">https://wandb.ai/youkind/MaskClassification</a><br/>\n",
       "                Run page: <a href=\"https://wandb.ai/youkind/MaskClassification/runs/2llbooj6\" target=\"_blank\">https://wandb.ai/youkind/MaskClassification/runs/2llbooj6</a><br/>\n",
       "                Run data is saved locally in <code>/opt/ml/git/JH/wandb/run-20210825_122101-2llbooj6</code><br/><br/>\n",
       "            "
      ],
      "text/plain": [
       "<IPython.core.display.HTML object>"
      ]
     },
     "metadata": {},
     "output_type": "display_data"
    },
    {
     "data": {
      "text/html": [
       "<h1>Run(2llbooj6)</h1><iframe src=\"https://wandb.ai/youkind/MaskClassification/runs/2llbooj6\" style=\"border:none;width:100%;height:400px\"></iframe>"
      ],
      "text/plain": [
       "<wandb.sdk.wandb_run.Run at 0x7f7f8e6f0dc0>"
      ]
     },
     "execution_count": 1,
     "metadata": {},
     "output_type": "execute_result"
    }
   ],
   "source": [
    "import os\n",
    "import pandas as pd\n",
    "import numpy as np\n",
    "from PIL import Image\n",
    "import matplotlib.pyplot as plt\n",
    "import albumentations as A\n",
    "import albumentations.pytorch\n",
    "import cv2\n",
    "import timm\n",
    "import torch\n",
    "import torch.nn as nn\n",
    "import torch.nn.functional as F\n",
    "from torch.utils.data import Dataset, DataLoader\n",
    "\n",
    "from torchvision import transforms\n",
    "from torchvision.transforms import Resize, ToTensor, Normalize\n",
    "from tqdm import tqdm\n",
    "\n",
    "import wandb\n",
    "\n",
    "config={\n",
    "    \"lr\": 1.8e-4,\n",
    "    \"dropout\": 0.5,\n",
    "    \"architecture\": \"efficientnet-b6 + 3way\",\n",
    "    \"dataset\": \"vanilla + mask\",\n",
    "    \"augmentation\" : \"None\",\n",
    "    \"age_weightedloss\" : [1.0, 1.0, 3.],\n",
    "    \"gender_weightedloss\" : [1.5, 1.0],\n",
    "    \"gamma\" : 0.8,\n",
    "    \"batch_size\" : 32,\n",
    "    \"epochs\" : 15,\n",
    "    'model' : 'efficientnet-b6'\n",
    "}\n",
    "\n",
    "wandb.init(project=\"MaskClassification\", name=config['model'], config=config)\n",
    "\n"
   ]
  },
  {
   "cell_type": "code",
   "execution_count": 2,
   "id": "eb8f33ff-a325-4a5e-95f9-27f0a0cb131c",
   "metadata": {},
   "outputs": [
    {
     "name": "stdout",
     "output_type": "stream",
     "text": [
      "CUDA GPU available : True\n",
      "1 GPU(s) is(are) allocated\n"
     ]
    }
   ],
   "source": [
    "print('CUDA GPU available : {}'.format(torch.cuda.is_available()))\n",
    "try:\n",
    "    print('{} GPU(s) is(are) allocated'.format(torch.cuda.device_count()))\n",
    "except:\n",
    "    print('GPUs are not allocated. Current runtime is on CPU.')\n",
    "device = torch.device(\"cuda\")\n",
    "CUDA_LAUNCH_BLOCKING=1"
   ]
  },
  {
   "cell_type": "code",
   "execution_count": 3,
   "id": "built-elevation",
   "metadata": {},
   "outputs": [],
   "source": [
    "# 테스트 데이터셋 폴더 경로를 지정해주세요.\n",
    "test_dir = '/opt/ml/input/data/eval'\n",
    "train_dir = '/opt/ml/input/data/train'\n",
    "\n",
    "labels_to_class = {}\n",
    "it = [(m, g, a) for m in [0,1,2] for g in [0, 1] for a in [0, 1, 2]]\n",
    "for i, (m, g, a) in enumerate(it):\n",
    "    labels_to_class[(m, g, a)] = i"
   ]
  },
  {
   "cell_type": "markdown",
   "id": "domestic-channels",
   "metadata": {},
   "source": [
    "## Dataset"
   ]
  },
  {
   "cell_type": "code",
   "execution_count": 4,
   "id": "extensive-north",
   "metadata": {},
   "outputs": [],
   "source": [
    "class TrainDataset(Dataset):\n",
    "    def __init__(self, train_dir, is_Train=True, transform=None):\n",
    "        super().__init__()\n",
    "        \n",
    "        csv_path = os.path.join(train_dir, 'train.csv')\n",
    "        csv = pd.read_csv(csv_path)\n",
    "        self.image_dir = os.path.join(train_dir, 'images')\n",
    "        self.transform = transform\n",
    "        self.image_path = []\n",
    "        path = csv['path']\n",
    "        \n",
    "        for p in path:\n",
    "            images = [os.path.join(*[self.image_dir, p, image]) for image in os.listdir(os.path.join(self.image_dir, p)) if not image[:1] == '.']\n",
    "            for image in images:\n",
    "                self.image_path.append(image)\n",
    "\n",
    "    def __len__(self):\n",
    "        return len(self.image_path)\n",
    "\n",
    "    def __getitem__(self, idx):\n",
    "        image_name = self.image_path[idx]\n",
    "        image = cv2.imread(image_name)\n",
    "        image = cv2.cvtColor(image, cv2.COLOR_BGR2RGB)\n",
    "        \n",
    "        features = image_name.split('/')[-2:]\n",
    "        \n",
    "        masktoint = {'m' : 0, 'i' : 1, 'n' : 2}\n",
    "        gendertoint = {'male' : 0, 'female' : 1}\n",
    "        \n",
    "        mask = masktoint[features[1][0]]\n",
    "        age = int(features[0].split('_')[-1])\n",
    "        gender = gendertoint[features[0].split('_')[1]]\n",
    "        \n",
    "        if age >= 58: # 원래 60\n",
    "            age = 2\n",
    "        elif age >= 30: # 원래 30\n",
    "            age = 1\n",
    "        else:\n",
    "            age = 0        \n",
    "        \n",
    "        if self.transform:\n",
    "            image = self.transform(image=image)['image']\n",
    "        \n",
    "        return image, (mask, gender, age)\n",
    "\n",
    "class TestDataset(Dataset):\n",
    "    def __init__(self, img_paths, transform):\n",
    "        self.img_paths = img_paths\n",
    "        self.transform = transform\n",
    "\n",
    "    def __getitem__(self, index):\n",
    "        image = cv2.imread(self.img_paths[index])\n",
    "        image = cv2.cvtColor(image, cv2.COLOR_BGR2RGB)\n",
    "        if self.transform:\n",
    "            image = self.transform(image=image)['image']\n",
    "        return image\n",
    "\n",
    "    def __len__(self):\n",
    "        return len(self.img_paths)"
   ]
  },
  {
   "cell_type": "code",
   "execution_count": 5,
   "id": "596e6a97-3fe9-458a-9455-ace9d7a99877",
   "metadata": {},
   "outputs": [],
   "source": [
    "from torch.utils.data.sampler import SubsetRandomSampler\n",
    "from torch.utils.data.dataset import random_split\n",
    "\n",
    "tfms = A.Compose([\n",
    "        A.augmentations.crops.transforms.CenterCrop(400, 360, p=1.0),\n",
    "        A.augmentations.geometric.resize.Resize(224, 224, interpolation=1, p=1),\n",
    "        A.HorizontalFlip(p=0.5),\n",
    "        A.ShiftScaleRotate(shift_limit=0.05, scale_limit=0.05, rotate_limit=10, p=0.6),\n",
    "        A.RandomBrightnessContrast(brightness_limit=0.1, p=0.6),\n",
    "        A.GaussNoise(p=0.5),\n",
    "        A.transforms.Normalize(mean=(0.548, 0.504, 0.479), std=(0.237, 0.247, 0.246), max_pixel_value=255.0, p=1.0),\n",
    "        A.pytorch.transforms.ToTensorV2(),\n",
    "    ])\n",
    "tfms_test = A.Compose([\n",
    "        A.augmentations.crops.transforms.CenterCrop(400, 360, p=1.0),\n",
    "        A.augmentations.geometric.resize.Resize(224, 224, interpolation=1, p=1),\n",
    "        A.transforms.Normalize(mean=(0.548, 0.504, 0.479), std=(0.237, 0.247, 0.246), max_pixel_value=255.0, p=1.0),\n",
    "        A.pytorch.transforms.ToTensorV2(),\n",
    "    ])\n",
    "val_idx = []\n",
    "person_idx = list(range(2700))\n",
    "\n",
    "np.random.seed(211)\n",
    "np.random.shuffle(person_idx)\n",
    "\n",
    "n_val_person = int(2700 * 0.2)\n",
    "val_person_idx = person_idx[:n_val_person]\n",
    "train_indices = []\n",
    "val_indices = []\n",
    "for i in range(2700*15):\n",
    "    if i // 15 not in val_person_idx:\n",
    "        train_indices.append(i)\n",
    "    else:\n",
    "        val_indices.append(i)\n",
    "\n",
    "# print(train_indices)\n",
    "# print(val_indices)\n",
    "# train_sampler = SubsetRandomSampler(train_indices)\n",
    "# valid_sampler = SubsetRandomSampler(val_indices)\n",
    "np.random.shuffle(train_indices)\n",
    "np.random.shuffle(val_indices)\n",
    "\n",
    "dataset = TrainDataset(train_dir, transform=tfms)\n",
    "\n",
    "# print(len(dataset))\n",
    "# plt.imshow(np.array(train_dataset[312][0]['image'].permute(1,2,0)))\n",
    "\n",
    "train_loader = DataLoader(dataset, batch_size=config['batch_size'], num_workers=4, pin_memory=True, sampler=train_indices)\n",
    "val_loader = DataLoader(dataset, num_workers=4, batch_size=config['batch_size'], pin_memory=True, sampler=val_indices)"
   ]
  },
  {
   "cell_type": "code",
   "execution_count": null,
   "id": "2d5d1798-aed1-43e9-b6af-b80be2c27d85",
   "metadata": {},
   "outputs": [],
   "source": []
  },
  {
   "cell_type": "code",
   "execution_count": 6,
   "id": "6aeacde3-f357-4129-a73a-2000a48d315f",
   "metadata": {},
   "outputs": [],
   "source": [
    "# plt.imshow(np.array(train_dataset[312][0]['image'].permute(1,2,0)))"
   ]
  },
  {
   "cell_type": "markdown",
   "id": "21006028-25ad-4414-8bae-730a3bcc33e2",
   "metadata": {
    "tags": []
   },
   "source": [
    "## Model"
   ]
  },
  {
   "cell_type": "code",
   "execution_count": 7,
   "id": "a3174fa2-72d4-475b-bffd-ad23c4669521",
   "metadata": {},
   "outputs": [
    {
     "name": "stdout",
     "output_type": "stream",
     "text": [
      "Loaded pretrained weights for efficientnet-b6\n"
     ]
    }
   ],
   "source": [
    "from efficientnet_pytorch import EfficientNet\n",
    "\n",
    "class Way3(nn.Module):\n",
    "    def __init__(self):\n",
    "        super().__init__()\n",
    "#         self.convnet = timm.create_model(config['model'], pretrained=True, num_classes=512)\n",
    "        self.convnet = EfficientNet.from_pretrained(config['model'], num_classes=512).to(device)\n",
    "        self.mask = nn.Sequential(\n",
    "            nn.LeakyReLU(),\n",
    "            nn.Dropout(p=config['dropout'], inplace=False),\n",
    "            nn.Linear(512, 128),\n",
    "            nn.LeakyReLU(),\n",
    "            nn.Dropout(p=config['dropout'], inplace=False),\n",
    "            nn.Linear(128, 3),\n",
    "            nn.Softmax(dim=1)\n",
    "        )\n",
    "        self.gender = nn.Sequential(\n",
    "            nn.LeakyReLU(),\n",
    "            nn.Dropout(p=config['dropout'], inplace=False),\n",
    "            nn.Linear(512, 128),\n",
    "            nn.LeakyReLU(),\n",
    "            nn.Dropout(p=config['dropout'], inplace=False),\n",
    "            nn.Linear(128, 2),\n",
    "            nn.Softmax(dim=1)\n",
    "        )\n",
    "        self.age = nn.Sequential(\n",
    "            nn.LeakyReLU(),\n",
    "            nn.Dropout(p=config['dropout'], inplace=False),\n",
    "            nn.Linear(512, 128),\n",
    "            nn.LeakyReLU(),\n",
    "            nn.Dropout(p=config['dropout'], inplace=False),\n",
    "            nn.Linear(128, 3),\n",
    "            nn.Softmax(dim=1)\n",
    "        )\n",
    "        self.best_f1 = 0\n",
    "        \n",
    "    def forward(self, x):\n",
    "        features = self.convnet(x)\n",
    "        mask = self.mask(features)\n",
    "        gender = self.gender(features)\n",
    "        age = self.age(features)\n",
    "        \n",
    "        return mask, gender, age\n",
    "    \n",
    "model = Way3().to(device)"
   ]
  },
  {
   "cell_type": "code",
   "execution_count": 8,
   "id": "f4b1aa9f-2fa1-417f-9e3e-7f160fef7d4c",
   "metadata": {},
   "outputs": [
    {
     "name": "stdout",
     "output_type": "stream",
     "text": [
      "Adjusting learning rate of group 0 to 1.8000e-04.\n"
     ]
    }
   ],
   "source": [
    "import torch.optim as optim \n",
    "\n",
    "gender_weight = torch.tensor(config[\"gender_weightedloss\"])\n",
    "age_weight = torch.tensor(config[\"age_weightedloss\"])\n",
    "                             \n",
    "criterion = nn.CrossEntropyLoss()\n",
    "gender_criterion = nn.CrossEntropyLoss(weight=gender_weight).to(device)\n",
    "age_criterion = nn.CrossEntropyLoss(weight=age_weight).to(device)\n",
    "# b_criterion = nn.BCEWithLogitsLoss()\n",
    "# criterion = FocalLoss()\n",
    "optimizer = optim.Adam(model.parameters(), lr=config['lr'])\n",
    "scheduler = optim.lr_scheduler.StepLR(optimizer, step_size=1, gamma=config['gamma'], verbose=True)"
   ]
  },
  {
   "cell_type": "code",
   "execution_count": 9,
   "id": "84d269a9-9771-4364-a927-b06cf5ac86e6",
   "metadata": {},
   "outputs": [],
   "source": [
    "from sklearn.metrics import accuracy_score\n",
    "from sklearn.metrics import confusion_matrix\n",
    "\n",
    "def check(loader, length, model):\n",
    "    model.eval()\n",
    "    val_loss = 0.0\n",
    "    counter = 0\n",
    "    y_true = []\n",
    "    y_predicted = []\n",
    "\n",
    "    m_acc = []\n",
    "    g_acc = []\n",
    "    a_acc = []\n",
    "    with torch.no_grad():\n",
    "        for (inputs, (m, g, a)) in loader:\n",
    "            counter += 1\n",
    "            \n",
    "            for mask, gender, age in zip(m, g, a):\n",
    "                answer = labels_to_class[(mask.item(), gender.item(), age.item())]\n",
    "                y_true.append(answer)\n",
    "            \n",
    "            inputs = inputs.to(device=device)\n",
    "            m = m.to(device)\n",
    "            g = g.to(device)\n",
    "            a = a.to(device)\n",
    "\n",
    "            m_pred, g_pred, a_pred = model(inputs)\n",
    "    \n",
    "            m_loss = criterion(m_pred, m)\n",
    "            g_loss = gender_criterion(g_pred, g)\n",
    "            a_loss = age_criterion(a_pred, a) # data imbalance\n",
    "            \n",
    "            loss = (g_loss+a_loss+m_loss)\n",
    "            \n",
    "            val_loss += loss.item()\n",
    "            \n",
    "            m_argmax = m_pred.detach().cpu().numpy().argmax(1)\n",
    "            g_argmax = g_pred.detach().cpu().numpy().argmax(1)\n",
    "            a_argmax = a_pred.detach().cpu().numpy().argmax(1)\n",
    "\n",
    "            m_acc.append(accuracy_score(m_argmax, m.detach().cpu().numpy()))\n",
    "            g_acc.append(accuracy_score(g_argmax, g.detach().cpu().numpy()))\n",
    "            a_acc.append(accuracy_score(a_argmax, a.detach().cpu().numpy()))\n",
    "\n",
    "            for mask, gender, age in zip(m_argmax, g_argmax, a_argmax):\n",
    "                predicted = labels_to_class[(mask.item(), gender.item(), age.item())]\n",
    "                y_predicted.append(predicted)\n",
    "    \n",
    "    \n",
    "    cm = confusion_matrix(y_true, y_predicted)\n",
    "    F1 = []\n",
    "    for c in range(18):\n",
    "        precision = cm[c][c] / np.sum(cm, axis=0)[c]\n",
    "        recall = cm[c][c] / np.sum(cm, axis=1)[c]\n",
    "        F1.append(2 * precision * recall / (precision + recall))\n",
    "    macro_F1 = np.mean(F1)\n",
    "\n",
    "    s = 0\n",
    "    for c in range(18):\n",
    "        s += cm[c][c]\n",
    "        \n",
    "    print(\"< VALIDATION >\")\n",
    "    print(\"*\"*73)\n",
    "    print(\"Validation Loss :\", val_loss/counter)\n",
    "    print(\"-\"*73)\n",
    "    print(\"Total Accuracy\")\n",
    "    print(accuracy_score(y_true, y_predicted) * 100, \"%\")\n",
    "    print(\"-\"*73)\n",
    "    print(\"Class Accuracy\")\n",
    "    print(\"Mask   :\", np.mean(m_acc)*100, \"%\")\n",
    "    print(\"Gender :\", np.mean(g_acc)*100, \"%\")\n",
    "    print(\"Age    :\", np.mean(a_acc)*100, \"%\")\n",
    "    print(\"-\"*73)\n",
    "    print(\"Confusion Matrix\")\n",
    "    for row in cm:\n",
    "        for c in row:\n",
    "            print(str(c).ljust(4), end='')\n",
    "        print()\n",
    "    print(\"-\"*73)\n",
    "    print(\"Validation F1 score :\" , macro_F1)\n",
    "    for c, f in enumerate(F1):\n",
    "        print(\"Class\", c, \":\", f)\n",
    "        \n",
    "    if model.best_f1 < macro_F1:\n",
    "        model.best_f1 = macro_F1\n",
    "        torch.save(model.state_dict(), '/opt/ml/weights/3way/{}/{:.4f}.pt'.format(config['model'], model.best_f1))\n",
    "        print(\"model saved!\")\n",
    "    print(\"*\"*73)\n",
    "    print()\n",
    "    wandb.log({\n",
    "        \"Validation Loss\" : val_loss/counter, \n",
    "        \"Validation Total Accuracy\" :accuracy_score(y_true, y_predicted) * 100, \n",
    "        \"Validation F1\" : macro_F1,\n",
    "        \"Mask Accuracy\" : np.mean(m_acc)*100,\n",
    "        \"Gender Accuracy\" : np.mean(g_acc)*100,\n",
    "        \"Age Accuracy\" : np.mean(a_acc)*100,\n",
    "        \"Mask Loss\" : m_loss.item(),\n",
    "        \"Gender Loss\" : g_loss.item(),\n",
    "        \"Age Loss\" : a_loss.item(),\n",
    "    })\n",
    "        \n",
    "    model.train()"
   ]
  },
  {
   "cell_type": "code",
   "execution_count": 10,
   "id": "9c14aa58-ddfa-4ca7-a5d9-3311991b781a",
   "metadata": {},
   "outputs": [
    {
     "name": "stdout",
     "output_type": "stream",
     "text": [
      "Epoch : 1\n"
     ]
    },
    {
     "name": "stderr",
     "output_type": "stream",
     "text": [
      " 50%|█████     | 506/1012 [03:37<03:36,  2.33it/s]"
     ]
    },
    {
     "name": "stdout",
     "output_type": "stream",
     "text": [
      "Train Loss : 1.846778157900071\n",
      "< VALIDATION >\n",
      "*************************************************************************\n",
      "Validation Loss : 1.6809449421139213\n",
      "-------------------------------------------------------------------------\n",
      "Total Accuracy\n",
      "75.35802469135803 %\n",
      "-------------------------------------------------------------------------\n",
      "Class Accuracy\n",
      "Mask   : 98.96653543307087 %\n",
      "Gender : 96.14911417322834 %\n",
      "Age    : 78.62942913385827 %\n",
      "-------------------------------------------------------------------------\n",
      "Confusion Matrix\n",
      "471 0   0   9   0   0   2   0   0   0   0   0   3   0   0   0   0   0   \n",
      "64  129 102 4   13  1   0   0   2   0   0   0   0   0   0   0   0   0   \n",
      "2   36  145 0   1   1   0   0   0   0   0   0   0   0   0   0   0   0   \n",
      "17  0   0   731 28  0   0   0   0   4   0   0   0   0   0   0   0   0   \n",
      "11  6   2   70  514 84  0   0   0   1   1   1   0   0   0   0   0   0   \n",
      "0   0   2   0   117 124 0   0   0   0   0   2   0   0   0   0   0   0   \n",
      "6   0   0   0   0   0   469 5   0   5   0   0   0   0   0   0   0   0   \n",
      "0   11  2   0   0   0   33  96  120 7   27  14  0   2   3   0   0   0   \n",
      "0   0   1   0   0   0   0   35  144 0   0   5   0   0   0   0   0   0   \n",
      "0   0   0   2   2   0   25  0   0   740 8   0   0   0   0   2   1   0   \n",
      "0   0   0   0   13  5   8   5   0   73  400 185 0   0   0   0   0   1   \n",
      "0   0   0   0   5   11  0   0   0   0   65  163 0   0   0   0   0   1   \n",
      "0   0   0   0   0   0   0   0   0   0   0   0   478 6   1   0   0   0   \n",
      "0   0   0   0   0   0   0   0   0   0   0   0   43  103 163 5   1   0   \n",
      "0   0   0   0   0   0   0   0   0   0   0   0   0   22  163 0   0   0   \n",
      "0   0   0   0   0   0   0   0   0   0   0   0   39  2   0   722 16  1   \n",
      "0   0   0   0   0   0   0   0   0   0   0   0   14  34  37  30  335 240 \n",
      "0   0   0   0   0   0   0   0   0   0   0   0   0   2   16  1   49  177 \n",
      "-------------------------------------------------------------------------\n",
      "Validation F1 score : 0.6854262325406332\n",
      "Class 0 : 0.8920454545454546\n",
      "Class 1 : 0.5191146881287726\n",
      "Class 2 : 0.6605922551252847\n",
      "Class 3 : 0.9160401002506267\n",
      "Class 4 : 0.7433116413593637\n",
      "Class 5 : 0.5265392781316348\n",
      "Class 6 : 0.9178082191780822\n",
      "Class 7 : 0.4210526315789474\n",
      "Class 8 : 0.6385809312638581\n",
      "Class 9 : 0.9192546583850931\n",
      "Class 10 : 0.6717044500419815\n",
      "Class 11 : 0.5300813008130082\n",
      "Class 12 : 0.9001883239171374\n",
      "Class 13 : 0.42386831275720166\n",
      "Class 14 : 0.573943661971831\n",
      "Class 15 : 0.9376623376623376\n",
      "Class 16 : 0.6135531135531136\n",
      "Class 17 : 0.5323308270676692\n"
     ]
    },
    {
     "name": "stderr",
     "output_type": "stream",
     "text": [
      " 50%|█████     | 507/1012 [04:04<1:11:14,  8.47s/it]"
     ]
    },
    {
     "name": "stdout",
     "output_type": "stream",
     "text": [
      "model saved!\n",
      "*************************************************************************\n",
      "\n"
     ]
    },
    {
     "name": "stderr",
     "output_type": "stream",
     "text": [
      "100%|█████████▉| 1011/1012 [07:39<00:00,  2.36it/s] "
     ]
    },
    {
     "name": "stdout",
     "output_type": "stream",
     "text": [
      "Train Loss : 1.732773920646298\n",
      "< VALIDATION >\n",
      "*************************************************************************\n",
      "Validation Loss : 1.6687829100240872\n",
      "-------------------------------------------------------------------------\n",
      "Total Accuracy\n",
      "77.09876543209877 %\n",
      "-------------------------------------------------------------------------\n",
      "Class Accuracy\n",
      "Mask   : 98.91732283464567 %\n",
      "Gender : 97.08415354330708 %\n",
      "Age    : 80.25344488188976 %\n",
      "-------------------------------------------------------------------------\n",
      "Confusion Matrix\n",
      "448 9   0   21  1   0   6   0   0   0   0   0   0   0   0   0   0   0   \n",
      "41  199 38  4   27  4   1   1   0   0   0   0   0   0   0   0   0   0   \n",
      "0   59  121 0   2   3   0   0   0   0   0   0   0   0   0   0   0   0   \n",
      "8   0   0   747 23  1   0   0   0   1   0   0   0   0   0   0   0   0   \n",
      "1   1   0   65  434 184 0   0   0   0   3   1   0   0   0   0   0   1   \n",
      "0   0   0   0   72  163 0   0   0   0   0   2   0   0   0   0   0   8   \n",
      "0   0   0   0   0   0   463 8   0   13  1   0   0   0   0   0   0   0   \n",
      "0   9   1   0   0   0   45  176 50  7   24  3   0   0   0   0   0   0   \n",
      "0   0   0   0   0   0   4   61  114 0   0   6   0   0   0   0   0   0   \n",
      "0   0   0   0   0   0   16  0   0   744 18  2   0   0   0   0   0   0   \n",
      "0   0   0   0   23  3   2   8   0   65  392 197 0   0   0   0   0   0   \n",
      "0   0   0   0   4   8   0   0   0   0   45  179 0   0   0   0   0   9   \n",
      "0   0   0   0   0   0   0   0   0   0   0   0   425 24  0   26  10  0   \n",
      "0   0   0   0   0   0   0   0   0   0   0   0   32  200 49  4   29  1   \n",
      "0   0   0   0   0   0   0   0   0   0   0   0   0   56  120 0   2   7   \n",
      "0   0   0   0   0   0   0   0   0   0   0   0   2   0   0   729 47  2   \n",
      "0   0   0   0   0   0   0   0   0   0   0   0   0   3   1   15  376 295 \n",
      "0   0   0   0   0   0   0   0   0   0   0   0   0   0   0   0   30  215 \n",
      "-------------------------------------------------------------------------\n",
      "Validation F1 score : 0.7291804738598932\n",
      "Class 0 : 0.9114954221770092\n",
      "Class 1 : 0.6722972972972974\n",
      "Class 2 : 0.7014492753623188\n",
      "Class 3 : 0.9239332096474954\n",
      "Class 4 : 0.6802507836990596\n",
      "Class 5 : 0.5335515548281506\n",
      "Class 6 : 0.9060665362035226\n",
      "Class 7 : 0.6186291739894553\n",
      "Class 8 : 0.653295128939828\n",
      "Class 9 : 0.9242236024844721\n",
      "Class 10 : 0.6683716965046889\n",
      "Class 11 : 0.5637795275590551\n",
      "Class 12 : 0.9004237288135593\n",
      "Class 13 : 0.6688963210702341\n",
      "Class 14 : 0.676056338028169\n",
      "Class 15 : 0.9382239382239381\n",
      "Class 16 : 0.6351351351351351\n",
      "Class 17 : 0.5491698595146871\n"
     ]
    },
    {
     "name": "stderr",
     "output_type": "stream",
     "text": [
      "100%|██████████| 1012/1012 [08:06<00:00,  8.40s/it]"
     ]
    },
    {
     "name": "stdout",
     "output_type": "stream",
     "text": [
      "model saved!\n",
      "*************************************************************************\n",
      "\n"
     ]
    },
    {
     "name": "stderr",
     "output_type": "stream",
     "text": [
      "1013it [08:06,  2.08it/s]                          "
     ]
    },
    {
     "name": "stdout",
     "output_type": "stream",
     "text": [
      "Adjusting learning rate of group 0 to 1.4400e-04.\n",
      "Epoch : 2\n"
     ]
    },
    {
     "name": "stderr",
     "output_type": "stream",
     "text": [
      "\n",
      " 50%|█████     | 506/1012 [03:36<03:35,  2.35it/s]"
     ]
    },
    {
     "name": "stdout",
     "output_type": "stream",
     "text": [
      "Train Loss : 1.5665525181523912\n",
      "< VALIDATION >\n",
      "*************************************************************************\n",
      "Validation Loss : 1.662892684223145\n",
      "-------------------------------------------------------------------------\n",
      "Total Accuracy\n",
      "79.49382716049382 %\n",
      "-------------------------------------------------------------------------\n",
      "Class Accuracy\n",
      "Mask   : 99.55708661417323 %\n",
      "Gender : 97.17027559055119 %\n",
      "Age    : 81.92667322834646 %\n",
      "-------------------------------------------------------------------------\n",
      "Confusion Matrix\n",
      "469 12  0   1   2   0   1   0   0   0   0   0   0   0   0   0   0   0   \n",
      "41  213 51  1   9   0   0   0   0   0   0   0   0   0   0   0   0   0   \n",
      "0   60  124 0   1   0   0   0   0   0   0   0   0   0   0   0   0   0   \n",
      "16  1   0   730 32  0   0   0   0   1   0   0   0   0   0   0   0   0   \n",
      "8   20  5   48  538 68  0   0   0   0   2   1   0   0   0   0   0   0   \n",
      "0   2   4   0   133 102 0   0   0   0   1   3   0   0   0   0   0   0   \n",
      "0   0   0   0   0   0   485 0   0   0   0   0   0   0   0   0   0   0   \n",
      "0   7   1   0   0   0   63  162 67  4   11  0   0   0   0   0   0   0   \n",
      "0   0   0   0   0   0   4   38  143 0   0   0   0   0   0   0   0   0   \n",
      "0   0   0   1   1   0   19  0   0   740 18  0   0   0   0   1   0   0   \n",
      "0   1   0   0   3   1   10  14  1   80  480 100 0   0   0   0   0   0   \n",
      "0   0   0   0   2   7   0   1   16  0   98  121 0   0   0   0   0   0   \n",
      "0   0   0   0   0   0   0   0   0   0   0   0   464 4   0   17  0   0   \n",
      "0   0   0   0   0   0   0   0   0   0   0   0   39  189 75  5   7   0   \n",
      "0   0   0   0   0   0   0   0   0   0   0   0   0   48  136 0   0   1   \n",
      "0   0   0   0   0   0   0   0   0   0   0   0   11  0   0   750 19  0   \n",
      "0   0   0   0   1   0   0   0   0   0   1   0   6   20  3   35  436 188 \n",
      "0   0   0   0   0   0   0   0   0   0   0   0   0   2   11  1   74  157 \n",
      "-------------------------------------------------------------------------\n",
      "Validation F1 score : 0.7367958172847705\n",
      "Class 0 : 0.9205103042198234\n",
      "Class 1 : 0.6751188589540412\n",
      "Class 2 : 0.6702702702702703\n",
      "Class 3 : 0.9352978859705318\n",
      "Class 4 : 0.7620396600566574\n",
      "Class 5 : 0.4822695035460993\n",
      "Class 6 : 0.9090909090909091\n",
      "Class 7 : 0.6113207547169811\n",
      "Class 8 : 0.6941747572815534\n",
      "Class 9 : 0.9221183800623053\n",
      "Class 10 : 0.7378939277478862\n",
      "Class 11 : 0.5148936170212766\n",
      "Class 12 : 0.9233830845771145\n",
      "Class 13 : 0.6539792387543252\n",
      "Class 14 : 0.6634146341463415\n",
      "Class 15 : 0.9439899307740718\n",
      "Class 16 : 0.7112561174551387\n",
      "Class 17 : 0.5313028764805414\n"
     ]
    },
    {
     "name": "stderr",
     "output_type": "stream",
     "text": [
      " 50%|█████     | 507/1012 [04:03<1:10:55,  8.43s/it]"
     ]
    },
    {
     "name": "stdout",
     "output_type": "stream",
     "text": [
      "model saved!\n",
      "*************************************************************************\n",
      "\n"
     ]
    },
    {
     "name": "stderr",
     "output_type": "stream",
     "text": [
      "100%|█████████▉| 1011/1012 [07:39<00:00,  2.36it/s] "
     ]
    },
    {
     "name": "stdout",
     "output_type": "stream",
     "text": [
      "Train Loss : 1.5529250599178872\n"
     ]
    },
    {
     "name": "stderr",
     "output_type": "stream",
     "text": [
      "100%|██████████| 1012/1012 [08:05<00:00,  8.31s/it]"
     ]
    },
    {
     "name": "stdout",
     "output_type": "stream",
     "text": [
      "< VALIDATION >\n",
      "*************************************************************************\n",
      "Validation Loss : 1.668270755940535\n",
      "-------------------------------------------------------------------------\n",
      "Total Accuracy\n",
      "76.0 %\n",
      "-------------------------------------------------------------------------\n",
      "Class Accuracy\n",
      "Mask   : 99.66781496062993 %\n",
      "Gender : 97.94537401574803 %\n",
      "Age    : 77.59596456692913 %\n",
      "-------------------------------------------------------------------------\n",
      "Confusion Matrix\n",
      "470 10  0   1   1   0   3   0   0   0   0   0   0   0   0   0   0   0   \n",
      "37  143 121 0   8   6   0   0   0   0   0   0   0   0   0   0   0   0   \n",
      "1   44  134 0   0   5   0   0   1   0   0   0   0   0   0   0   0   0   \n",
      "18  3   0   683 73  1   0   0   0   2   0   0   0   0   0   0   0   0   \n",
      "3   2   2   28  453 199 1   0   0   0   2   0   0   0   0   0   0   0   \n",
      "0   0   0   0   72  170 0   0   0   0   0   2   0   0   0   0   0   1   \n",
      "0   0   0   0   0   0   476 6   0   3   0   0   0   0   0   0   0   0   \n",
      "0   2   4   0   0   0   39  73  179 4   4   10  0   0   0   0   0   0   \n",
      "0   0   0   0   0   0   3   17  160 0   0   4   0   1   0   0   0   0   \n",
      "0   0   0   2   0   0   22  0   1   733 19  2   0   0   0   1   0   0   \n",
      "0   0   0   0   0   0   6   4   3   52  324 301 0   0   0   0   0   0   \n",
      "0   0   0   0   0   4   0   0   0   0   44  197 0   0   0   0   0   0   \n",
      "0   0   0   0   0   0   0   0   0   0   0   0   453 28  0   3   1   0   \n",
      "0   0   0   0   0   0   0   0   0   0   0   0   28  174 95  0   12  6   \n",
      "0   0   0   0   0   0   0   0   0   0   0   0   0   45  136 0   0   4   \n",
      "0   0   0   0   0   0   0   0   0   0   0   0   20  2   0   684 74  0   \n",
      "0   0   0   0   0   0   0   0   0   1   0   0   0   7   1   18  561 102 \n",
      "0   0   0   0   0   0   0   0   0   0   0   0   0   0   0   0   113 132 \n",
      "-------------------------------------------------------------------------\n",
      "Validation F1 score : 0.6981712012047527\n",
      "Class 0 : 0.9270216962524654\n",
      "Class 1 : 0.5510597302504817\n",
      "Class 2 : 0.6008968609865472\n",
      "Class 3 : 0.9143239625167335\n",
      "Class 4 : 0.6985350809560524\n",
      "Class 5 : 0.5396825396825397\n",
      "Class 6 : 0.9198067632850242\n",
      "Class 7 : 0.35180722891566263\n",
      "Class 8 : 0.6049149338374291\n",
      "Class 9 : 0.9307936507936508\n",
      "Class 10 : 0.5983379501385042\n",
      "Class 11 : 0.5177398160315374\n",
      "Class 12 : 0.9188640973630833\n",
      "Class 13 : 0.6083916083916084\n",
      "Class 14 : 0.6522781774580335\n",
      "Class 15 : 0.9205921938088828\n",
      "Class 16 : 0.7732598208132322\n",
      "Class 17 : 0.5387755102040817\n",
      "*************************************************************************\n",
      "\n"
     ]
    },
    {
     "name": "stderr",
     "output_type": "stream",
     "text": [
      "1013it [08:06,  2.08it/s]                          "
     ]
    },
    {
     "name": "stdout",
     "output_type": "stream",
     "text": [
      "Adjusting learning rate of group 0 to 1.1520e-04.\n",
      "Epoch : 3\n"
     ]
    },
    {
     "name": "stderr",
     "output_type": "stream",
     "text": [
      "\n",
      " 50%|█████     | 506/1012 [03:36<03:36,  2.34it/s]"
     ]
    },
    {
     "name": "stdout",
     "output_type": "stream",
     "text": [
      "Train Loss : 1.5196764589061398\n"
     ]
    },
    {
     "name": "stderr",
     "output_type": "stream",
     "text": [
      " 50%|█████     | 507/1012 [04:03<1:10:06,  8.33s/it]"
     ]
    },
    {
     "name": "stdout",
     "output_type": "stream",
     "text": [
      "< VALIDATION >\n",
      "*************************************************************************\n",
      "Validation Loss : 1.649286384657612\n",
      "-------------------------------------------------------------------------\n",
      "Total Accuracy\n",
      "77.34567901234568 %\n",
      "-------------------------------------------------------------------------\n",
      "Class Accuracy\n",
      "Mask   : 99.53248031496062 %\n",
      "Gender : 97.81003937007874 %\n",
      "Age    : 79.34301181102363 %\n",
      "-------------------------------------------------------------------------\n",
      "Confusion Matrix\n",
      "467 10  0   4   1   0   3   0   0   0   0   0   0   0   0   0   0   0   \n",
      "45  142 112 4   11  1   0   0   0   0   0   0   0   0   0   0   0   0   \n",
      "1   39  144 0   0   1   0   0   0   0   0   0   0   0   0   0   0   0   \n",
      "14  1   0   720 39  2   0   0   0   4   0   0   0   0   0   0   0   0   \n",
      "0   13  4   46  437 185 0   0   0   0   4   1   0   0   0   0   0   0   \n",
      "0   2   0   0   65  176 0   0   0   0   0   1   0   0   0   0   0   1   \n",
      "0   0   0   0   0   0   480 5   0   0   0   0   0   0   0   0   0   0   \n",
      "0   6   1   0   0   0   45  136 101 5   21  0   0   0   0   0   0   0   \n",
      "0   0   0   0   0   0   2   36  145 0   2   0   0   0   0   0   0   0   \n",
      "0   0   0   0   0   0   18  0   0   753 8   0   0   0   0   1   0   0   \n",
      "0   0   0   0   1   2   0   8   10  69  420 180 0   0   0   0   0   0   \n",
      "0   0   0   0   0   13  0   0   1   0   53  178 0   0   0   0   0   0   \n",
      "0   0   0   0   0   0   0   0   0   0   0   0   466 19  0   0   0   0   \n",
      "0   0   0   0   0   0   0   0   0   0   0   0   38  153 109 4   11  0   \n",
      "0   0   0   0   0   0   0   0   0   0   0   0   0   41  143 0   0   1   \n",
      "0   0   0   0   0   0   0   0   0   0   0   0   22  1   1   717 39  0   \n",
      "0   0   0   0   0   0   0   0   0   0   0   0   1   11  5   33  396 244 \n",
      "0   0   0   0   0   0   0   0   0   0   0   0   0   0   0   0   53  192 \n",
      "-------------------------------------------------------------------------\n",
      "Validation F1 score : 0.7193647694377202\n",
      "Class 0 : 0.9229249011857708\n",
      "Class 1 : 0.5378787878787878\n",
      "Class 2 : 0.6457399103139013\n",
      "Class 3 : 0.9266409266409267\n",
      "Class 4 : 0.7025723472668809\n",
      "Class 5 : 0.5632\n",
      "Class 6 : 0.9293320425943854\n",
      "Class 7 : 0.544\n",
      "Class 8 : 0.6561085972850679\n",
      "Class 9 : 0.9348230912476723\n",
      "Class 10 : 0.7011686143572622\n",
      "Class 11 : 0.5884297520661158\n",
      "Class 12 : 0.9209486166007904\n",
      "Class 13 : 0.5666666666666667\n",
      "Class 14 : 0.6455981941309256\n",
      "Class 15 : 0.9342019543973941\n",
      "Class 16 : 0.6661059714045416\n",
      "Class 17 : 0.562225475841874\n",
      "*************************************************************************\n",
      "\n"
     ]
    },
    {
     "name": "stderr",
     "output_type": "stream",
     "text": [
      "100%|█████████▉| 1011/1012 [07:38<00:00,  2.35it/s] "
     ]
    },
    {
     "name": "stdout",
     "output_type": "stream",
     "text": [
      "Train Loss : 1.5067285564341564\n",
      "< VALIDATION >\n",
      "*************************************************************************\n",
      "Validation Loss : 1.6518847088175497\n",
      "-------------------------------------------------------------------------\n",
      "Total Accuracy\n",
      "80.14814814814815 %\n",
      "-------------------------------------------------------------------------\n",
      "Class Accuracy\n",
      "Mask   : 99.44635826771653 %\n",
      "Gender : 98.09301181102363 %\n",
      "Age    : 82.19734251968504 %\n",
      "-------------------------------------------------------------------------\n",
      "Confusion Matrix\n",
      "455 29  0   1   0   0   0   0   0   0   0   0   0   0   0   0   0   0   \n",
      "30  209 64  2   8   1   0   1   0   0   0   0   0   0   0   0   0   0   \n",
      "1   69  112 0   0   3   0   0   0   0   0   0   0   0   0   0   0   0   \n",
      "23  4   0   720 33  0   0   0   0   0   0   0   0   0   0   0   0   0   \n",
      "6   6   1   47  492 136 0   0   0   0   1   1   0   0   0   0   0   0   \n",
      "0   0   0   0   89  153 0   0   0   0   0   2   0   0   0   0   0   1   \n",
      "0   0   0   0   0   0   457 28  0   0   0   0   0   0   0   0   0   0   \n",
      "1   6   2   0   0   0   29  191 75  1   10  0   0   0   0   0   0   0   \n",
      "0   0   0   0   0   0   0   71  109 0   0   5   0   0   0   0   0   0   \n",
      "0   2   0   12  0   0   23  0   0   728 12  2   0   0   0   1   0   0   \n",
      "0   0   0   0   4   3   1   6   0   53  497 126 0   0   0   0   0   0   \n",
      "0   0   0   0   1   7   0   0   1   0   58  178 0   0   0   0   0   0   \n",
      "0   0   0   0   0   0   0   0   0   0   0   0   466 18  1   0   0   0   \n",
      "0   0   0   0   0   0   0   0   0   0   0   0   31  189 81  5   7   2   \n",
      "0   0   0   0   0   0   0   0   0   0   0   0   0   59  121 0   0   5   \n",
      "0   0   0   0   0   0   0   0   0   0   0   0   21  0   0   745 14  0   \n",
      "0   0   0   0   0   0   0   0   0   0   0   0   4   7   0   58  518 103 \n",
      "0   0   0   0   0   0   0   0   0   0   0   0   0   0   0   0   93  152 \n",
      "-------------------------------------------------------------------------\n",
      "Validation F1 score : 0.7445434312718415\n",
      "Class 0 : 0.9090909090909091\n",
      "Class 1 : 0.6531250000000001\n",
      "Class 2 : 0.6153846153846154\n",
      "Class 3 : 0.9218950064020486\n",
      "Class 4 : 0.7471526195899773\n",
      "Class 5 : 0.5583941605839416\n",
      "Class 6 : 0.9185929648241206\n",
      "Class 7 : 0.6241830065359476\n",
      "Class 8 : 0.5891891891891892\n",
      "Class 9 : 0.9321382842509603\n",
      "Class 10 : 0.7839116719242901\n",
      "Class 11 : 0.6368515205724509\n",
      "Class 12 : 0.9255213505461768\n",
      "Class 13 : 0.6428571428571429\n",
      "Class 14 : 0.6237113402061856\n",
      "Class 15 : 0.9376966645689113\n",
      "Class 16 : 0.783661119515885\n",
      "Class 17 : 0.5984251968503937\n"
     ]
    },
    {
     "name": "stderr",
     "output_type": "stream",
     "text": [
      "100%|██████████| 1012/1012 [08:06<00:00,  8.46s/it]"
     ]
    },
    {
     "name": "stdout",
     "output_type": "stream",
     "text": [
      "model saved!\n",
      "*************************************************************************\n",
      "\n"
     ]
    },
    {
     "name": "stderr",
     "output_type": "stream",
     "text": [
      "1013it [08:06,  2.08it/s]                          "
     ]
    },
    {
     "name": "stdout",
     "output_type": "stream",
     "text": [
      "Adjusting learning rate of group 0 to 9.2160e-05.\n",
      "Epoch : 4\n"
     ]
    },
    {
     "name": "stderr",
     "output_type": "stream",
     "text": [
      "\n",
      " 50%|█████     | 506/1012 [03:36<03:35,  2.34it/s]"
     ]
    },
    {
     "name": "stdout",
     "output_type": "stream",
     "text": [
      "Train Loss : 1.4853251878561589\n"
     ]
    },
    {
     "name": "stderr",
     "output_type": "stream",
     "text": [
      " 50%|█████     | 507/1012 [04:03<1:10:24,  8.37s/it]"
     ]
    },
    {
     "name": "stdout",
     "output_type": "stream",
     "text": [
      "< VALIDATION >\n",
      "*************************************************************************\n",
      "Validation Loss : 1.6550605484819787\n",
      "-------------------------------------------------------------------------\n",
      "Total Accuracy\n",
      "80.51851851851852 %\n",
      "-------------------------------------------------------------------------\n",
      "Class Accuracy\n",
      "Mask   : 99.65551181102363 %\n",
      "Gender : 97.79773622047244 %\n",
      "Age    : 82.57874015748031 %\n",
      "-------------------------------------------------------------------------\n",
      "Confusion Matrix\n",
      "474 9   0   0   0   0   2   0   0   0   0   0   0   0   0   0   0   0   \n",
      "34  182 90  0   7   1   0   0   1   0   0   0   0   0   0   0   0   0   \n",
      "0   52  132 0   0   1   0   0   0   0   0   0   0   0   0   0   0   0   \n",
      "25  0   0   724 30  0   0   0   0   1   0   0   0   0   0   0   0   0   \n",
      "4   6   6   33  572 66  0   0   0   0   2   1   0   0   0   0   0   0   \n",
      "0   0   0   0   138 104 0   0   0   0   1   2   0   0   0   0   0   0   \n",
      "0   0   0   0   0   0   474 11  0   0   0   0   0   0   0   0   0   0   \n",
      "0   4   1   0   0   0   33  217 58  0   2   0   0   0   0   0   0   0   \n",
      "0   0   0   0   0   0   3   62  115 0   0   5   0   0   0   0   0   0   \n",
      "0   0   0   0   0   0   25  1   0   721 33  0   0   0   0   0   0   0   \n",
      "0   0   0   0   5   0   2   30  7   31  520 95  0   0   0   0   0   0   \n",
      "0   0   0   0   1   6   0   0   4   0   92  142 0   0   0   0   0   0   \n",
      "0   0   0   0   0   0   0   0   0   0   0   0   469 15  1   0   0   0   \n",
      "0   0   0   0   0   0   0   0   0   0   0   0   30  154 123 2   5   1   \n",
      "0   0   0   0   0   0   0   0   0   0   0   0   3   42  136 0   0   4   \n",
      "0   0   0   0   0   0   0   0   0   0   0   0   19  0   0   723 38  0   \n",
      "0   0   0   0   1   0   0   0   0   0   0   0   3   13  6   26  501 140 \n",
      "0   0   0   0   0   0   0   0   0   0   0   0   0   0   0   0   83  162 \n",
      "-------------------------------------------------------------------------\n",
      "Validation F1 score : 0.7419305784441352\n",
      "Class 0 : 0.9275929549902152\n",
      "Class 1 : 0.6408450704225351\n",
      "Class 2 : 0.6376811594202899\n",
      "Class 3 : 0.9420949902407288\n",
      "Class 4 : 0.7922437673130194\n",
      "Class 5 : 0.49172576832151305\n",
      "Class 6 : 0.9257812499999999\n",
      "Class 7 : 0.6823899371069182\n",
      "Class 8 : 0.6216216216216216\n",
      "Class 9 : 0.9406392694063928\n",
      "Class 10 : 0.7761194029850746\n",
      "Class 11 : 0.5795918367346938\n",
      "Class 12 : 0.929633300297324\n",
      "Class 13 : 0.5714285714285714\n",
      "Class 14 : 0.6031042128603105\n",
      "Class 15 : 0.9444807315480079\n",
      "Class 16 : 0.7608200455580865\n",
      "Class 17 : 0.5869565217391304\n",
      "*************************************************************************\n",
      "\n"
     ]
    },
    {
     "name": "stderr",
     "output_type": "stream",
     "text": [
      "100%|█████████▉| 1011/1012 [07:38<00:00,  2.27it/s] "
     ]
    },
    {
     "name": "stdout",
     "output_type": "stream",
     "text": [
      "Train Loss : 1.478020049013168\n"
     ]
    },
    {
     "name": "stderr",
     "output_type": "stream",
     "text": [
      "100%|██████████| 1012/1012 [08:05<00:00,  8.27s/it]"
     ]
    },
    {
     "name": "stdout",
     "output_type": "stream",
     "text": [
      "< VALIDATION >\n",
      "*************************************************************************\n",
      "Validation Loss : 1.643732907734518\n",
      "-------------------------------------------------------------------------\n",
      "Total Accuracy\n",
      "79.45679012345678 %\n",
      "-------------------------------------------------------------------------\n",
      "Class Accuracy\n",
      "Mask   : 99.80314960629921 %\n",
      "Gender : 97.82234251968504 %\n",
      "Age    : 81.39763779527559 %\n",
      "-------------------------------------------------------------------------\n",
      "Confusion Matrix\n",
      "472 9   1   0   0   1   2   0   0   0   0   0   0   0   0   0   0   0   \n",
      "39  125 132 0   15  4   0   0   0   0   0   0   0   0   0   0   0   0   \n",
      "1   35  141 0   0   8   0   0   0   0   0   0   0   0   0   0   0   0   \n",
      "16  2   0   688 73  0   0   0   0   1   0   0   0   0   0   0   0   0   \n",
      "2   2   1   19  507 156 0   0   0   0   3   0   0   0   0   0   0   0   \n",
      "0   0   0   0   74  170 0   0   0   0   0   1   0   0   0   0   0   0   \n",
      "0   0   0   0   0   0   466 17  0   1   1   0   0   0   0   0   0   0   \n",
      "0   0   5   0   0   0   30  148 115 0   15  2   0   0   0   0   0   0   \n",
      "0   0   0   0   0   0   0   37  140 0   0   8   0   0   0   0   0   0   \n",
      "1   2   0   0   0   0   23  0   0   684 69  0   0   0   0   1   0   0   \n",
      "0   0   0   0   0   0   1   4   1   16  566 102 0   0   0   0   0   0   \n",
      "0   0   0   0   0   0   0   0   0   0   80  165 0   0   0   0   0   0   \n",
      "0   0   0   0   0   0   0   0   0   0   0   0   453 30  0   1   1   0   \n",
      "0   0   0   0   0   0   0   0   0   0   0   0   29  159 108 3   9   7   \n",
      "0   0   0   0   0   0   0   0   0   0   0   0   2   36  141 0   0   6   \n",
      "0   0   0   0   0   0   0   0   0   0   0   0   24  1   0   706 49  0   \n",
      "0   0   0   0   0   0   0   0   0   0   0   0   1   11  3   20  541 114 \n",
      "0   0   0   0   0   0   0   0   0   0   0   0   0   0   0   0   81  164 \n",
      "-------------------------------------------------------------------------\n",
      "Validation F1 score : 0.7358632086416382\n",
      "Class 0 : 0.9291338582677164\n",
      "Class 1 : 0.5102040816326531\n",
      "Class 2 : 0.6064516129032258\n",
      "Class 3 : 0.9253530598520511\n",
      "Class 4 : 0.7461368653421633\n",
      "Class 5 : 0.5821917808219178\n",
      "Class 6 : 0.9255213505461768\n",
      "Class 7 : 0.5681381957773513\n",
      "Class 8 : 0.6349206349206349\n",
      "Class 9 : 0.923076923076923\n",
      "Class 10 : 0.7949438202247191\n",
      "Class 11 : 0.6309751434034417\n",
      "Class 12 : 0.9114688128772637\n",
      "Class 13 : 0.5760869565217391\n",
      "Class 14 : 0.6453089244851259\n",
      "Class 15 : 0.9344804765056254\n",
      "Class 16 : 0.7892049598832968\n",
      "Class 17 : 0.6119402985074627\n",
      "*************************************************************************\n",
      "\n"
     ]
    },
    {
     "name": "stderr",
     "output_type": "stream",
     "text": [
      "1013it [08:05,  2.09it/s]                          "
     ]
    },
    {
     "name": "stdout",
     "output_type": "stream",
     "text": [
      "Adjusting learning rate of group 0 to 7.3728e-05.\n",
      "Epoch : 5\n"
     ]
    },
    {
     "name": "stderr",
     "output_type": "stream",
     "text": [
      "\n",
      " 50%|█████     | 506/1012 [03:36<03:37,  2.33it/s]"
     ]
    },
    {
     "name": "stdout",
     "output_type": "stream",
     "text": [
      "Train Loss : 1.461820336723704\n",
      "< VALIDATION >\n",
      "*************************************************************************\n",
      "Validation Loss : 1.6367931600630752\n",
      "-------------------------------------------------------------------------\n",
      "Total Accuracy\n",
      "82.45679012345678 %\n",
      "-------------------------------------------------------------------------\n",
      "Class Accuracy\n",
      "Mask   : 99.61860236220473 %\n",
      "Gender : 98.06840551181102 %\n",
      "Age    : 84.4119094488189 %\n",
      "-------------------------------------------------------------------------\n",
      "Confusion Matrix\n",
      "469 9   0   2   0   0   5   0   0   0   0   0   0   0   0   0   0   0   \n",
      "34  225 44  0   12  0   0   0   0   0   0   0   0   0   0   0   0   0   \n",
      "0   64  116 0   0   5   0   0   0   0   0   0   0   0   0   0   0   0   \n",
      "18  0   0   712 46  1   0   0   0   3   0   0   0   0   0   0   0   0   \n",
      "3   5   0   28  546 106 1   0   0   0   1   0   0   0   0   0   0   0   \n",
      "0   0   0   0   91  153 0   0   0   0   0   1   0   0   0   0   0   0   \n",
      "0   0   0   0   0   0   473 6   0   6   0   0   0   0   0   0   0   0   \n",
      "0   6   0   0   0   0   32  209 51  0   16  1   0   0   0   0   0   0   \n",
      "0   0   0   0   0   0   1   57  119 0   3   5   0   0   0   0   0   0   \n",
      "0   0   0   1   0   0   16  0   0   729 31  2   0   0   0   1   0   0   \n",
      "0   0   0   0   5   0   4   5   1   43  539 90  0   0   0   0   3   0   \n",
      "0   0   0   0   1   3   0   0   0   0   94  147 0   0   0   0   0   0   \n",
      "0   0   0   0   0   0   0   0   0   0   0   0   476 5   0   3   1   0   \n",
      "0   0   0   0   0   0   0   0   0   0   0   0   32  205 63  1   14  0   \n",
      "0   0   0   0   0   0   0   0   0   0   0   0   1   55  125 0   0   4   \n",
      "0   0   0   0   0   0   0   0   0   0   0   0   16  3   0   724 37  0   \n",
      "0   0   0   0   0   0   0   0   0   0   0   0   0   11  0   23  550 106 \n",
      "0   0   0   0   0   0   0   0   0   0   0   0   0   0   1   0   82  162 \n",
      "-------------------------------------------------------------------------\n",
      "Validation F1 score : 0.7741065247182025\n",
      "Class 0 : 0.929633300297324\n",
      "Class 1 : 0.7211538461538461\n",
      "Class 2 : 0.6724637681159421\n",
      "Class 3 : 0.9349967170059093\n",
      "Class 4 : 0.7850467289719627\n",
      "Class 5 : 0.5964912280701755\n",
      "Class 6 : 0.9301868239921336\n",
      "Class 7 : 0.7060810810810811\n",
      "Class 8 : 0.6685393258426967\n",
      "Class 9 : 0.93401665598975\n",
      "Class 10 : 0.784570596797671\n",
      "Class 11 : 0.5987780040733197\n",
      "Class 12 : 0.9425742574257425\n",
      "Class 13 : 0.6902356902356903\n",
      "Class 14 : 0.6684491978609626\n",
      "Class 15 : 0.9451697127937337\n",
      "Class 16 : 0.7988380537400145\n",
      "Class 17 : 0.6266924564796905\n"
     ]
    },
    {
     "name": "stderr",
     "output_type": "stream",
     "text": [
      " 50%|█████     | 507/1012 [04:04<1:11:42,  8.52s/it]"
     ]
    },
    {
     "name": "stdout",
     "output_type": "stream",
     "text": [
      "model saved!\n",
      "*************************************************************************\n",
      "\n"
     ]
    },
    {
     "name": "stderr",
     "output_type": "stream",
     "text": [
      "100%|█████████▉| 1011/1012 [07:39<00:00,  2.36it/s] "
     ]
    },
    {
     "name": "stdout",
     "output_type": "stream",
     "text": [
      "Train Loss : 1.457197913657064\n"
     ]
    },
    {
     "name": "stderr",
     "output_type": "stream",
     "text": [
      "100%|██████████| 1012/1012 [08:06<00:00,  8.23s/it]"
     ]
    },
    {
     "name": "stdout",
     "output_type": "stream",
     "text": [
      "< VALIDATION >\n",
      "*************************************************************************\n",
      "Validation Loss : 1.647428200939509\n",
      "-------------------------------------------------------------------------\n",
      "Total Accuracy\n",
      "82.18518518518519 %\n",
      "-------------------------------------------------------------------------\n",
      "Class Accuracy\n",
      "Mask   : 99.86466535433071 %\n",
      "Gender : 98.04379921259843 %\n",
      "Age    : 84.09202755905511 %\n",
      "-------------------------------------------------------------------------\n",
      "Confusion Matrix\n",
      "475 8   0   2   0   0   0   0   0   0   0   0   0   0   0   0   0   0   \n",
      "35  225 43  0   11  1   0   0   0   0   0   0   0   0   0   0   0   0   \n",
      "0   84  97  0   0   4   0   0   0   0   0   0   0   0   0   0   0   0   \n",
      "18  1   0   704 56  0   0   0   0   1   0   0   0   0   0   0   0   0   \n",
      "1   11  0   29  559 88  0   0   0   0   1   1   0   0   0   0   0   0   \n",
      "0   1   0   0   103 139 0   0   0   0   0   2   0   0   0   0   0   0   \n",
      "0   0   0   0   0   0   479 6   0   0   0   0   0   0   0   0   0   0   \n",
      "0   5   0   0   0   0   30  218 49  0   13  0   0   0   0   0   0   0   \n",
      "0   0   0   0   0   0   0   68  109 0   0   8   0   0   0   0   0   0   \n",
      "0   0   0   1   0   0   17  0   0   715 46  1   0   0   0   0   0   0   \n",
      "0   0   0   0   0   0   3   8   1   34  542 102 0   0   0   0   0   0   \n",
      "0   0   0   0   0   0   0   0   0   0   91  154 0   0   0   0   0   0   \n",
      "0   0   0   0   0   0   0   0   0   0   0   0   483 1   0   1   0   0   \n",
      "0   0   0   0   0   0   0   0   0   0   0   0   36  209 51  2   16  1   \n",
      "0   0   0   0   0   0   0   0   0   0   0   0   2   64  114 0   0   5   \n",
      "0   0   0   0   0   0   0   0   0   0   0   0   23  0   0   729 28  0   \n",
      "0   0   0   0   0   0   0   0   0   0   0   0   1   10  0   34  561 84  \n",
      "0   0   0   0   0   0   0   0   0   0   0   0   0   0   0   0   100 145 \n",
      "-------------------------------------------------------------------------\n",
      "Validation F1 score : 0.7650279018535041\n",
      "Class 0 : 0.9368836291913215\n",
      "Class 1 : 0.6923076923076923\n",
      "Class 2 : 0.5969230769230769\n",
      "Class 3 : 0.9287598944591029\n",
      "Class 4 : 0.787878787878788\n",
      "Class 5 : 0.5828092243186582\n",
      "Class 6 : 0.9447731755424064\n",
      "Class 7 : 0.7089430894308941\n",
      "Class 8 : 0.6337209302325582\n",
      "Class 9 : 0.934640522875817\n",
      "Class 10 : 0.7838033261026753\n",
      "Class 11 : 0.6003898635477584\n",
      "Class 12 : 0.937864077669903\n",
      "Class 13 : 0.6978297161936561\n",
      "Class 14 : 0.6514285714285715\n",
      "Class 15 : 0.943078913324709\n",
      "Class 16 : 0.8043010752688171\n",
      "Class 17 : 0.6041666666666666\n",
      "*************************************************************************\n",
      "\n"
     ]
    },
    {
     "name": "stderr",
     "output_type": "stream",
     "text": [
      "1013it [08:06,  2.08it/s]                          "
     ]
    },
    {
     "name": "stdout",
     "output_type": "stream",
     "text": [
      "Adjusting learning rate of group 0 to 5.8982e-05.\n",
      "Epoch : 6\n"
     ]
    },
    {
     "name": "stderr",
     "output_type": "stream",
     "text": [
      "\n",
      " 50%|█████     | 506/1012 [03:36<03:34,  2.36it/s]"
     ]
    },
    {
     "name": "stdout",
     "output_type": "stream",
     "text": [
      "Train Loss : 1.4476487702401668\n"
     ]
    },
    {
     "name": "stderr",
     "output_type": "stream",
     "text": [
      " 50%|█████     | 507/1012 [04:02<1:09:48,  8.29s/it]"
     ]
    },
    {
     "name": "stdout",
     "output_type": "stream",
     "text": [
      "< VALIDATION >\n",
      "*************************************************************************\n",
      "Validation Loss : 1.6536983265651493\n",
      "-------------------------------------------------------------------------\n",
      "Total Accuracy\n",
      "81.09876543209876 %\n",
      "-------------------------------------------------------------------------\n",
      "Class Accuracy\n",
      "Mask   : 99.66781496062993 %\n",
      "Gender : 97.83464566929135 %\n",
      "Age    : 83.05856299212599 %\n",
      "-------------------------------------------------------------------------\n",
      "Confusion Matrix\n",
      "467 10  0   3   2   0   3   0   0   0   0   0   0   0   0   0   0   0   \n",
      "38  198 56  2   16  4   0   0   0   0   1   0   0   0   0   0   0   0   \n",
      "1   61  116 0   0   7   0   0   0   0   0   0   0   0   0   0   0   0   \n",
      "16  0   0   720 42  0   0   0   0   2   0   0   0   0   0   0   0   0   \n",
      "5   1   2   33  502 142 0   0   0   0   4   1   0   0   0   0   0   0   \n",
      "0   0   1   0   89  152 0   0   0   0   0   3   0   0   0   0   0   0   \n",
      "0   0   0   0   0   0   464 19  0   0   2   0   0   0   0   0   0   0   \n",
      "0   5   0   0   0   0   32  211 46  0   21  0   0   0   0   0   0   0   \n",
      "0   0   0   0   0   0   1   66  113 0   0   5   0   0   0   0   0   0   \n",
      "0   0   0   1   0   0   16  0   0   711 51  1   0   0   0   0   0   0   \n",
      "0   0   0   0   0   0   1   12  1   24  579 73  0   0   0   0   0   0   \n",
      "0   0   0   0   0   0   0   1   1   0   110 133 0   0   0   0   0   0   \n",
      "0   0   0   0   0   0   0   0   0   0   0   0   475 7   0   0   3   0   \n",
      "0   0   0   0   0   0   0   0   0   0   0   0   33  213 47  3   19  0   \n",
      "0   0   0   0   0   0   0   0   0   0   0   0   0   75  104 0   0   6   \n",
      "0   0   0   0   0   0   0   0   0   0   0   0   17  0   0   732 31  0   \n",
      "0   0   0   0   0   0   0   0   0   0   0   0   0   8   0   32  502 148 \n",
      "0   0   0   0   0   0   0   0   0   0   0   0   0   0   0   0   68  177 \n",
      "-------------------------------------------------------------------------\n",
      "Validation F1 score : 0.7563575203902981\n",
      "Class 0 : 0.9229249011857708\n",
      "Class 1 : 0.6711864406779661\n",
      "Class 2 : 0.6444444444444445\n",
      "Class 3 : 0.935672514619883\n",
      "Class 4 : 0.7486950037285608\n",
      "Class 5 : 0.5527272727272728\n",
      "Class 6 : 0.9261477045908183\n",
      "Class 7 : 0.6762820512820513\n",
      "Class 8 : 0.6531791907514451\n",
      "Class 9 : 0.9373764007910349\n",
      "Class 10 : 0.7942386831275721\n",
      "Class 11 : 0.5770065075921907\n",
      "Class 12 : 0.9405940594059405\n",
      "Class 13 : 0.6893203883495146\n",
      "Class 14 : 0.6190476190476191\n",
      "Class 15 : 0.9463477698771817\n",
      "Class 16 : 0.7646610814927646\n",
      "Class 17 : 0.6145833333333334\n",
      "*************************************************************************\n",
      "\n"
     ]
    },
    {
     "name": "stderr",
     "output_type": "stream",
     "text": [
      "100%|█████████▉| 1011/1012 [07:37<00:00,  2.37it/s] "
     ]
    },
    {
     "name": "stdout",
     "output_type": "stream",
     "text": [
      "Train Loss : 1.445326972738085\n"
     ]
    },
    {
     "name": "stderr",
     "output_type": "stream",
     "text": [
      "100%|██████████| 1012/1012 [08:03<00:00,  8.16s/it]"
     ]
    },
    {
     "name": "stdout",
     "output_type": "stream",
     "text": [
      "< VALIDATION >\n",
      "*************************************************************************\n",
      "Validation Loss : 1.6418551891807496\n",
      "-------------------------------------------------------------------------\n",
      "Total Accuracy\n",
      "80.72839506172839 %\n",
      "-------------------------------------------------------------------------\n",
      "Class Accuracy\n",
      "Mask   : 99.9138779527559 %\n",
      "Gender : 97.79773622047244 %\n",
      "Age    : 82.7632874015748 %\n",
      "-------------------------------------------------------------------------\n",
      "Confusion Matrix\n",
      "470 12  0   3   0   0   0   0   0   0   0   0   0   0   0   0   0   0   \n",
      "34  226 42  0   11  2   0   0   0   0   0   0   0   0   0   0   0   0   \n",
      "1   77  103 0   0   4   0   0   0   0   0   0   0   0   0   0   0   0   \n",
      "15  0   0   728 36  0   0   0   0   1   0   0   0   0   0   0   0   0   \n",
      "4   10  0   34  471 170 0   0   0   0   0   1   0   0   0   0   0   0   \n",
      "0   0   0   0   75  170 0   0   0   0   0   0   0   0   0   0   0   0   \n",
      "0   0   0   0   0   0   473 9   0   3   0   0   0   0   0   0   0   0   \n",
      "0   5   0   0   0   0   33  193 59  0   22  3   0   0   0   0   0   0   \n",
      "0   0   0   0   0   0   1   54  123 0   0   7   0   0   0   0   0   0   \n",
      "0   0   0   0   0   0   15  0   0   733 31  1   0   0   0   0   0   0   \n",
      "0   0   0   0   0   0   1   13  0   35  448 193 0   0   0   0   0   0   \n",
      "0   0   0   0   0   0   0   0   1   0   57  187 0   0   0   0   0   0   \n",
      "0   0   0   0   0   0   0   0   0   0   0   0   476 8   0   1   0   0   \n",
      "0   0   0   0   0   0   0   0   0   0   0   0   33  216 49  5   12  0   \n",
      "0   0   0   0   0   0   0   0   0   0   0   0   1   61  116 0   0   7   \n",
      "0   0   0   0   0   0   0   0   0   0   0   0   18  0   0   728 34  0   \n",
      "0   0   0   0   0   0   0   0   0   0   0   0   3   19  0   30  518 120 \n",
      "0   0   0   0   0   0   0   0   0   0   0   0   0   0   0   0   85  160 \n",
      "-------------------------------------------------------------------------\n",
      "Validation F1 score : 0.7578954968847272\n",
      "Class 0 : 0.931615460852329\n",
      "Class 1 : 0.7007751937984497\n",
      "Class 2 : 0.6242424242424243\n",
      "Class 3 : 0.9423948220064725\n",
      "Class 4 : 0.7342166796570536\n",
      "Class 5 : 0.5752961082910322\n",
      "Class 6 : 0.9384920634920634\n",
      "Class 7 : 0.660958904109589\n",
      "Class 8 : 0.6684782608695652\n",
      "Class 9 : 0.9445876288659794\n",
      "Class 10 : 0.717948717948718\n",
      "Class 11 : 0.5871271585557299\n",
      "Class 12 : 0.9370078740157479\n",
      "Class 13 : 0.6978998384491114\n",
      "Class 14 : 0.6628571428571429\n",
      "Class 15 : 0.9430051813471503\n",
      "Class 16 : 0.7737117251680358\n",
      "Class 17 : 0.6015037593984962\n",
      "*************************************************************************\n",
      "\n"
     ]
    },
    {
     "name": "stderr",
     "output_type": "stream",
     "text": [
      "1013it [08:04,  2.09it/s]                          "
     ]
    },
    {
     "name": "stdout",
     "output_type": "stream",
     "text": [
      "Adjusting learning rate of group 0 to 4.7186e-05.\n",
      "Epoch : 7\n"
     ]
    },
    {
     "name": "stderr",
     "output_type": "stream",
     "text": [
      "\n",
      " 50%|█████     | 506/1012 [03:36<03:34,  2.36it/s]"
     ]
    },
    {
     "name": "stdout",
     "output_type": "stream",
     "text": [
      "Train Loss : 1.4413034405698908\n"
     ]
    },
    {
     "name": "stderr",
     "output_type": "stream",
     "text": [
      " 50%|█████     | 507/1012 [04:02<1:09:31,  8.26s/it]"
     ]
    },
    {
     "name": "stdout",
     "output_type": "stream",
     "text": [
      "< VALIDATION >\n",
      "*************************************************************************\n",
      "Validation Loss : 1.6436237509795062\n",
      "-------------------------------------------------------------------------\n",
      "Total Accuracy\n",
      "81.20987654320987 %\n",
      "-------------------------------------------------------------------------\n",
      "Class Accuracy\n",
      "Mask   : 99.9015748031496 %\n",
      "Gender : 98.06840551181102 %\n",
      "Age    : 82.96013779527559 %\n",
      "-------------------------------------------------------------------------\n",
      "Confusion Matrix\n",
      "472 8   0   2   2   0   1   0   0   0   0   0   0   0   0   0   0   0   \n",
      "38  227 36  0   11  3   0   0   0   0   0   0   0   0   0   0   0   0   \n",
      "0   73  107 0   1   4   0   0   0   0   0   0   0   0   0   0   0   0   \n",
      "18  0   0   730 31  0   0   0   0   1   0   0   0   0   0   0   0   0   \n",
      "3   5   0   38  458 185 0   0   0   0   1   0   0   0   0   0   0   0   \n",
      "0   0   0   0   70  175 0   0   0   0   0   0   0   0   0   0   0   0   \n",
      "0   0   0   0   0   0   481 2   0   2   0   0   0   0   0   0   0   0   \n",
      "0   5   0   0   0   0   41  208 46  0   15  0   0   0   0   0   0   0   \n",
      "0   0   0   0   0   0   1   69  107 0   3   5   0   0   0   0   0   0   \n",
      "0   0   0   0   0   0   17  0   0   739 24  0   0   0   0   0   0   0   \n",
      "0   0   0   0   0   0   5   7   0   57  471 150 0   0   0   0   0   0   \n",
      "0   0   0   0   0   0   0   0   1   0   76  168 0   0   0   0   0   0   \n",
      "0   0   0   0   0   0   0   0   0   0   0   0   473 10  0   2   0   0   \n",
      "0   0   0   0   0   0   0   0   0   0   0   0   34  219 40  2   20  0   \n",
      "0   0   0   0   0   0   0   0   0   0   0   0   1   71  108 0   0   5   \n",
      "0   0   0   0   0   0   0   0   0   0   0   0   14  1   0   729 36  0   \n",
      "0   0   0   0   0   0   0   0   0   0   0   0   1   8   0   24  530 127 \n",
      "0   0   0   0   0   0   0   0   0   0   0   0   0   0   0   0   69  176 \n",
      "-------------------------------------------------------------------------\n",
      "Validation F1 score : 0.7622346036606936\n",
      "Class 0 : 0.9291338582677164\n",
      "Class 1 : 0.7172195892575038\n",
      "Class 2 : 0.6524390243902438\n",
      "Class 3 : 0.9419354838709677\n",
      "Class 4 : 0.7252573238321458\n",
      "Class 5 : 0.5718954248366013\n",
      "Class 6 : 0.933074684772066\n",
      "Class 7 : 0.692179700499168\n",
      "Class 8 : 0.6312684365781711\n",
      "Class 9 : 0.9360354654844839\n",
      "Class 10 : 0.7359374999999999\n",
      "Class 11 : 0.5915492957746479\n",
      "Class 12 : 0.9384920634920634\n",
      "Class 13 : 0.701923076923077\n",
      "Class 14 : 0.6486486486486488\n",
      "Class 15 : 0.948601171112557\n",
      "Class 16 : 0.7881040892193308\n",
      "Class 17 : 0.6365280289330922\n",
      "*************************************************************************\n",
      "\n"
     ]
    },
    {
     "name": "stderr",
     "output_type": "stream",
     "text": [
      "100%|█████████▉| 1011/1012 [07:37<00:00,  2.35it/s] "
     ]
    },
    {
     "name": "stdout",
     "output_type": "stream",
     "text": [
      "Train Loss : 1.4395360503743289\n"
     ]
    },
    {
     "name": "stderr",
     "output_type": "stream",
     "text": [
      "100%|██████████| 1012/1012 [08:04<00:00,  8.28s/it]"
     ]
    },
    {
     "name": "stdout",
     "output_type": "stream",
     "text": [
      "< VALIDATION >\n",
      "*************************************************************************\n",
      "Validation Loss : 1.6416086526367608\n",
      "-------------------------------------------------------------------------\n",
      "Total Accuracy\n",
      "81.8395061728395 %\n",
      "-------------------------------------------------------------------------\n",
      "Class Accuracy\n",
      "Mask   : 99.81545275590551 %\n",
      "Gender : 98.25295275590551 %\n",
      "Age    : 83.51377952755905 %\n",
      "-------------------------------------------------------------------------\n",
      "Confusion Matrix\n",
      "474 9   0   1   0   0   1   0   0   0   0   0   0   0   0   0   0   0   \n",
      "39  221 41  0   10  4   0   0   0   0   0   0   0   0   0   0   0   0   \n",
      "1   77  105 0   1   1   0   0   0   0   0   0   0   0   0   0   0   0   \n",
      "15  0   0   733 30  0   0   0   0   2   0   0   0   0   0   0   0   0   \n",
      "4   6   0   41  501 137 0   0   0   0   1   0   0   0   0   0   0   0   \n",
      "0   0   0   0   82  162 0   0   0   0   0   1   0   0   0   0   0   0   \n",
      "0   0   0   0   0   0   472 10  0   3   0   0   0   0   0   0   0   0   \n",
      "0   5   0   0   0   0   31  227 36  0   16  0   0   0   0   0   0   0   \n",
      "0   0   0   0   0   0   1   72  105 0   2   5   0   0   0   0   0   0   \n",
      "0   0   0   0   0   0   14  1   0   716 48  0   0   0   0   1   0   0   \n",
      "0   0   0   0   2   0   0   12  0   30  539 107 0   0   0   0   0   0   \n",
      "0   0   0   0   0   2   0   0   1   0   88  154 0   0   0   0   0   0   \n",
      "0   0   0   0   0   0   0   0   0   0   0   0   477 3   0   4   1   0   \n",
      "0   0   0   0   0   0   0   0   0   0   0   0   34  204 55  5   17  0   \n",
      "0   0   0   0   0   0   0   0   0   0   0   0   0   65  114 0   0   6   \n",
      "0   0   0   0   0   0   0   0   0   0   0   0   6   0   0   736 38  0   \n",
      "0   0   0   0   0   0   0   0   0   0   0   0   1   6   0   29  516 138 \n",
      "0   0   0   0   0   0   0   0   0   0   0   0   0   0   0   0   72  173 \n",
      "-------------------------------------------------------------------------\n",
      "Validation F1 score : 0.7659011288281886\n",
      "Class 0 : 0.9312377210216111\n",
      "Class 1 : 0.6982622432859399\n",
      "Class 2 : 0.634441087613293\n",
      "Class 3 : 0.9427652733118971\n",
      "Class 4 : 0.7613981762917933\n",
      "Class 5 : 0.588021778584392\n",
      "Class 6 : 0.9402390438247011\n",
      "Class 7 : 0.7127158555729985\n",
      "Class 8 : 0.6422018348623852\n",
      "Class 9 : 0.9353363814500326\n",
      "Class 10 : 0.7789017341040463\n",
      "Class 11 : 0.6015625\n",
      "Class 12 : 0.951146560319043\n",
      "Class 13 : 0.688026981450253\n",
      "Class 14 : 0.6440677966101694\n",
      "Class 15 : 0.9466237942122186\n",
      "Class 16 : 0.7736131934032984\n",
      "Class 17 : 0.6156583629893239\n",
      "*************************************************************************\n",
      "\n"
     ]
    },
    {
     "name": "stderr",
     "output_type": "stream",
     "text": [
      "1013it [08:04,  2.09it/s]                          "
     ]
    },
    {
     "name": "stdout",
     "output_type": "stream",
     "text": [
      "Adjusting learning rate of group 0 to 3.7749e-05.\n",
      "Epoch : 8\n"
     ]
    },
    {
     "name": "stderr",
     "output_type": "stream",
     "text": [
      "\n",
      " 50%|█████     | 506/1012 [03:36<03:35,  2.34it/s]"
     ]
    },
    {
     "name": "stdout",
     "output_type": "stream",
     "text": [
      "Train Loss : 1.4369904037998509\n"
     ]
    },
    {
     "name": "stderr",
     "output_type": "stream",
     "text": [
      " 50%|█████     | 507/1012 [04:03<1:09:46,  8.29s/it]"
     ]
    },
    {
     "name": "stdout",
     "output_type": "stream",
     "text": [
      "< VALIDATION >\n",
      "*************************************************************************\n",
      "Validation Loss : 1.628229462724971\n",
      "-------------------------------------------------------------------------\n",
      "Total Accuracy\n",
      "81.4074074074074 %\n",
      "-------------------------------------------------------------------------\n",
      "Class Accuracy\n",
      "Mask   : 99.79084645669292 %\n",
      "Gender : 98.27755905511812 %\n",
      "Age    : 83.15698818897637 %\n",
      "-------------------------------------------------------------------------\n",
      "Confusion Matrix\n",
      "472 13  0   0   0   0   0   0   0   0   0   0   0   0   0   0   0   0   \n",
      "37  209 58  0   10  1   0   0   0   0   0   0   0   0   0   0   0   0   \n",
      "1   50  132 0   1   1   0   0   0   0   0   0   0   0   0   0   0   0   \n",
      "11  2   0   731 35  1   0   0   0   0   0   0   0   0   0   0   0   0   \n",
      "2   6   0   31  488 162 0   0   0   0   1   0   0   0   0   0   0   0   \n",
      "0   0   0   0   72  173 0   0   0   0   0   0   0   0   0   0   0   0   \n",
      "0   0   0   0   0   0   468 16  0   0   1   0   0   0   0   0   0   0   \n",
      "0   5   0   0   0   0   30  208 57  0   15  0   0   0   0   0   0   0   \n",
      "0   0   0   0   0   0   0   52  127 0   1   5   0   0   0   0   0   0   \n",
      "0   0   0   1   0   0   18  0   0   716 43  1   0   0   0   0   1   0   \n",
      "0   1   0   0   3   0   0   10  0   32  497 147 0   0   0   0   0   0   \n",
      "0   0   0   0   0   4   0   0   3   0   75  162 0   0   0   0   0   1   \n",
      "0   0   0   0   0   0   0   0   0   0   0   0   470 14  1   0   0   0   \n",
      "0   0   0   0   0   0   0   0   0   0   0   0   32  197 69  0   17  0   \n",
      "0   0   0   0   0   0   0   0   0   0   0   0   1   51  128 0   0   5   \n",
      "0   0   0   0   0   0   0   0   0   0   0   0   13  1   1   733 32  0   \n",
      "0   0   0   0   0   0   0   0   0   0   0   0   1   14  0   30  508 137 \n",
      "0   0   0   0   0   0   0   0   0   0   0   0   0   0   0   0   70  175 \n",
      "-------------------------------------------------------------------------\n",
      "Validation F1 score : 0.767465296128868\n",
      "Class 0 : 0.9365079365079364\n",
      "Class 1 : 0.6955074875207986\n",
      "Class 2 : 0.704\n",
      "Class 3 : 0.9475048606610499\n",
      "Class 4 : 0.7513471901462664\n",
      "Class 5 : 0.5894378194207837\n",
      "Class 6 : 0.935064935064935\n",
      "Class 7 : 0.692179700499168\n",
      "Class 8 : 0.6827956989247311\n",
      "Class 9 : 0.9371727748691099\n",
      "Class 10 : 0.7513227513227514\n",
      "Class 11 : 0.5785714285714286\n",
      "Class 12 : 0.9381237524950099\n",
      "Class 13 : 0.6655405405405406\n",
      "Class 14 : 0.6666666666666666\n",
      "Class 15 : 0.950097213220998\n",
      "Class 16 : 0.7708649468892261\n",
      "Class 17 : 0.6216696269982238\n",
      "*************************************************************************\n",
      "\n"
     ]
    },
    {
     "name": "stderr",
     "output_type": "stream",
     "text": [
      "100%|█████████▉| 1011/1012 [07:38<00:00,  2.36it/s] "
     ]
    },
    {
     "name": "stdout",
     "output_type": "stream",
     "text": [
      "Train Loss : 1.4349272626897562\n"
     ]
    },
    {
     "name": "stderr",
     "output_type": "stream",
     "text": [
      "100%|██████████| 1012/1012 [08:05<00:00,  8.31s/it]"
     ]
    },
    {
     "name": "stdout",
     "output_type": "stream",
     "text": [
      "< VALIDATION >\n",
      "*************************************************************************\n",
      "Validation Loss : 1.6410955232898081\n",
      "-------------------------------------------------------------------------\n",
      "Total Accuracy\n",
      "81.44444444444444 %\n",
      "-------------------------------------------------------------------------\n",
      "Class Accuracy\n",
      "Mask   : 99.82775590551181 %\n",
      "Gender : 98.14222440944881 %\n",
      "Age    : 83.24311023622047 %\n",
      "-------------------------------------------------------------------------\n",
      "Confusion Matrix\n",
      "468 16  0   1   0   0   0   0   0   0   0   0   0   0   0   0   0   0   \n",
      "33  224 45  0   11  1   0   0   0   0   1   0   0   0   0   0   0   0   \n",
      "0   64  117 0   1   3   0   0   0   0   0   0   0   0   0   0   0   0   \n",
      "19  0   0   725 35  1   0   0   0   0   0   0   0   0   0   0   0   0   \n",
      "4   6   0   30  484 164 0   0   0   0   1   1   0   0   0   0   0   0   \n",
      "0   0   0   0   79  166 0   0   0   0   0   0   0   0   0   0   0   0   \n",
      "0   0   0   0   0   0   464 20  0   1   0   0   0   0   0   0   0   0   \n",
      "0   5   0   0   0   0   30  220 39  0   21  0   0   0   0   0   0   0   \n",
      "0   0   0   0   0   0   0   66  111 0   1   7   0   0   0   0   0   0   \n",
      "0   0   0   1   0   0   16  0   0   731 32  0   0   0   0   0   0   0   \n",
      "0   0   0   0   2   0   3   4   0   45  505 131 0   0   0   0   0   0   \n",
      "0   0   0   0   0   1   0   0   0   0   79  163 0   0   0   0   0   2   \n",
      "0   0   0   0   0   0   0   0   0   0   0   0   469 16  0   0   0   0   \n",
      "0   0   0   0   0   0   0   0   0   0   0   0   32  216 47  3   17  0   \n",
      "0   0   0   0   0   0   0   0   0   0   0   0   1   63  115 0   1   5   \n",
      "0   0   0   0   0   0   0   0   0   0   0   0   13  1   0   743 23  0   \n",
      "0   0   0   0   0   0   0   0   0   0   0   0   0   11  0   38  514 127 \n",
      "0   0   0   0   0   0   0   0   0   0   0   0   0   0   0   0   83  162 \n",
      "-------------------------------------------------------------------------\n",
      "Validation F1 score : 0.7655995257736452\n",
      "Class 0 : 0.9276511397423192\n",
      "Class 1 : 0.7111111111111111\n",
      "Class 2 : 0.6743515850144093\n",
      "Class 3 : 0.9433962264150944\n",
      "Class 4 : 0.7434715821812595\n",
      "Class 5 : 0.5714285714285714\n",
      "Class 6 : 0.9298597194388777\n",
      "Class 7 : 0.704\n",
      "Class 8 : 0.6626865671641792\n",
      "Class 9 : 0.938985228002569\n",
      "Class 10 : 0.7593984962406015\n",
      "Class 11 : 0.5959780621572212\n",
      "Class 12 : 0.938\n",
      "Class 13 : 0.6945337620578778\n",
      "Class 14 : 0.6628242074927955\n",
      "Class 15 : 0.9501278772378516\n",
      "Class 16 : 0.7740963855421686\n",
      "Class 17 : 0.5988909426987061\n",
      "*************************************************************************\n",
      "\n"
     ]
    },
    {
     "name": "stderr",
     "output_type": "stream",
     "text": [
      "1013it [08:05,  2.09it/s]                          "
     ]
    },
    {
     "name": "stdout",
     "output_type": "stream",
     "text": [
      "Adjusting learning rate of group 0 to 3.0199e-05.\n",
      "Epoch : 9\n"
     ]
    },
    {
     "name": "stderr",
     "output_type": "stream",
     "text": [
      "\n",
      "  4%|▍         | 39/1012 [00:17<07:07,  2.28it/s]\n"
     ]
    },
    {
     "ename": "KeyboardInterrupt",
     "evalue": "",
     "output_type": "error",
     "traceback": [
      "\u001b[0;31m---------------------------------------------------------------------------\u001b[0m",
      "\u001b[0;31mKeyboardInterrupt\u001b[0m                         Traceback (most recent call last)",
      "\u001b[0;32m<ipython-input-10-0a0230bb3402>\u001b[0m in \u001b[0;36m<module>\u001b[0;34m\u001b[0m\n\u001b[1;32m     16\u001b[0m         \u001b[0moptimizer\u001b[0m\u001b[0;34m.\u001b[0m\u001b[0mzero_grad\u001b[0m\u001b[0;34m(\u001b[0m\u001b[0;34m)\u001b[0m\u001b[0;34m\u001b[0m\u001b[0;34m\u001b[0m\u001b[0m\n\u001b[1;32m     17\u001b[0m         \u001b[0minputs\u001b[0m \u001b[0;34m=\u001b[0m \u001b[0minputs\u001b[0m\u001b[0;34m.\u001b[0m\u001b[0mto\u001b[0m\u001b[0;34m(\u001b[0m\u001b[0mdevice\u001b[0m\u001b[0;34m)\u001b[0m\u001b[0;34m\u001b[0m\u001b[0;34m\u001b[0m\u001b[0m\n\u001b[0;32m---> 18\u001b[0;31m         \u001b[0mm_pred\u001b[0m\u001b[0;34m,\u001b[0m \u001b[0mg_pred\u001b[0m\u001b[0;34m,\u001b[0m \u001b[0ma_pred\u001b[0m \u001b[0;34m=\u001b[0m \u001b[0mmodel\u001b[0m\u001b[0;34m(\u001b[0m\u001b[0minputs\u001b[0m\u001b[0;34m)\u001b[0m\u001b[0;34m\u001b[0m\u001b[0;34m\u001b[0m\u001b[0m\n\u001b[0m\u001b[1;32m     19\u001b[0m \u001b[0;34m\u001b[0m\u001b[0m\n\u001b[1;32m     20\u001b[0m \u001b[0;34m\u001b[0m\u001b[0m\n",
      "\u001b[0;32m/opt/conda/lib/python3.8/site-packages/torch/nn/modules/module.py\u001b[0m in \u001b[0;36m_call_impl\u001b[0;34m(self, *input, **kwargs)\u001b[0m\n\u001b[1;32m    725\u001b[0m             \u001b[0mresult\u001b[0m \u001b[0;34m=\u001b[0m \u001b[0mself\u001b[0m\u001b[0;34m.\u001b[0m\u001b[0m_slow_forward\u001b[0m\u001b[0;34m(\u001b[0m\u001b[0;34m*\u001b[0m\u001b[0minput\u001b[0m\u001b[0;34m,\u001b[0m \u001b[0;34m**\u001b[0m\u001b[0mkwargs\u001b[0m\u001b[0;34m)\u001b[0m\u001b[0;34m\u001b[0m\u001b[0;34m\u001b[0m\u001b[0m\n\u001b[1;32m    726\u001b[0m         \u001b[0;32melse\u001b[0m\u001b[0;34m:\u001b[0m\u001b[0;34m\u001b[0m\u001b[0;34m\u001b[0m\u001b[0m\n\u001b[0;32m--> 727\u001b[0;31m             \u001b[0mresult\u001b[0m \u001b[0;34m=\u001b[0m \u001b[0mself\u001b[0m\u001b[0;34m.\u001b[0m\u001b[0mforward\u001b[0m\u001b[0;34m(\u001b[0m\u001b[0;34m*\u001b[0m\u001b[0minput\u001b[0m\u001b[0;34m,\u001b[0m \u001b[0;34m**\u001b[0m\u001b[0mkwargs\u001b[0m\u001b[0;34m)\u001b[0m\u001b[0;34m\u001b[0m\u001b[0;34m\u001b[0m\u001b[0m\n\u001b[0m\u001b[1;32m    728\u001b[0m         for hook in itertools.chain(\n\u001b[1;32m    729\u001b[0m                 \u001b[0m_global_forward_hooks\u001b[0m\u001b[0;34m.\u001b[0m\u001b[0mvalues\u001b[0m\u001b[0;34m(\u001b[0m\u001b[0;34m)\u001b[0m\u001b[0;34m,\u001b[0m\u001b[0;34m\u001b[0m\u001b[0;34m\u001b[0m\u001b[0m\n",
      "\u001b[0;32m<ipython-input-7-1289d07d2cf0>\u001b[0m in \u001b[0;36mforward\u001b[0;34m(self, x)\u001b[0m\n\u001b[1;32m     36\u001b[0m \u001b[0;34m\u001b[0m\u001b[0m\n\u001b[1;32m     37\u001b[0m     \u001b[0;32mdef\u001b[0m \u001b[0mforward\u001b[0m\u001b[0;34m(\u001b[0m\u001b[0mself\u001b[0m\u001b[0;34m,\u001b[0m \u001b[0mx\u001b[0m\u001b[0;34m)\u001b[0m\u001b[0;34m:\u001b[0m\u001b[0;34m\u001b[0m\u001b[0;34m\u001b[0m\u001b[0m\n\u001b[0;32m---> 38\u001b[0;31m         \u001b[0mfeatures\u001b[0m \u001b[0;34m=\u001b[0m \u001b[0mself\u001b[0m\u001b[0;34m.\u001b[0m\u001b[0mconvnet\u001b[0m\u001b[0;34m(\u001b[0m\u001b[0mx\u001b[0m\u001b[0;34m)\u001b[0m\u001b[0;34m\u001b[0m\u001b[0;34m\u001b[0m\u001b[0m\n\u001b[0m\u001b[1;32m     39\u001b[0m         \u001b[0mmask\u001b[0m \u001b[0;34m=\u001b[0m \u001b[0mself\u001b[0m\u001b[0;34m.\u001b[0m\u001b[0mmask\u001b[0m\u001b[0;34m(\u001b[0m\u001b[0mfeatures\u001b[0m\u001b[0;34m)\u001b[0m\u001b[0;34m\u001b[0m\u001b[0;34m\u001b[0m\u001b[0m\n\u001b[1;32m     40\u001b[0m         \u001b[0mgender\u001b[0m \u001b[0;34m=\u001b[0m \u001b[0mself\u001b[0m\u001b[0;34m.\u001b[0m\u001b[0mgender\u001b[0m\u001b[0;34m(\u001b[0m\u001b[0mfeatures\u001b[0m\u001b[0;34m)\u001b[0m\u001b[0;34m\u001b[0m\u001b[0;34m\u001b[0m\u001b[0m\n",
      "\u001b[0;32m/opt/conda/lib/python3.8/site-packages/torch/nn/modules/module.py\u001b[0m in \u001b[0;36m_call_impl\u001b[0;34m(self, *input, **kwargs)\u001b[0m\n\u001b[1;32m    725\u001b[0m             \u001b[0mresult\u001b[0m \u001b[0;34m=\u001b[0m \u001b[0mself\u001b[0m\u001b[0;34m.\u001b[0m\u001b[0m_slow_forward\u001b[0m\u001b[0;34m(\u001b[0m\u001b[0;34m*\u001b[0m\u001b[0minput\u001b[0m\u001b[0;34m,\u001b[0m \u001b[0;34m**\u001b[0m\u001b[0mkwargs\u001b[0m\u001b[0;34m)\u001b[0m\u001b[0;34m\u001b[0m\u001b[0;34m\u001b[0m\u001b[0m\n\u001b[1;32m    726\u001b[0m         \u001b[0;32melse\u001b[0m\u001b[0;34m:\u001b[0m\u001b[0;34m\u001b[0m\u001b[0;34m\u001b[0m\u001b[0m\n\u001b[0;32m--> 727\u001b[0;31m             \u001b[0mresult\u001b[0m \u001b[0;34m=\u001b[0m \u001b[0mself\u001b[0m\u001b[0;34m.\u001b[0m\u001b[0mforward\u001b[0m\u001b[0;34m(\u001b[0m\u001b[0;34m*\u001b[0m\u001b[0minput\u001b[0m\u001b[0;34m,\u001b[0m \u001b[0;34m**\u001b[0m\u001b[0mkwargs\u001b[0m\u001b[0;34m)\u001b[0m\u001b[0;34m\u001b[0m\u001b[0;34m\u001b[0m\u001b[0m\n\u001b[0m\u001b[1;32m    728\u001b[0m         for hook in itertools.chain(\n\u001b[1;32m    729\u001b[0m                 \u001b[0m_global_forward_hooks\u001b[0m\u001b[0;34m.\u001b[0m\u001b[0mvalues\u001b[0m\u001b[0;34m(\u001b[0m\u001b[0;34m)\u001b[0m\u001b[0;34m,\u001b[0m\u001b[0;34m\u001b[0m\u001b[0;34m\u001b[0m\u001b[0m\n",
      "\u001b[0;32m/opt/conda/lib/python3.8/site-packages/efficientnet_pytorch/model.py\u001b[0m in \u001b[0;36mforward\u001b[0;34m(self, inputs)\u001b[0m\n\u001b[1;32m    312\u001b[0m         \"\"\"\n\u001b[1;32m    313\u001b[0m         \u001b[0;31m# Convolution layers\u001b[0m\u001b[0;34m\u001b[0m\u001b[0;34m\u001b[0m\u001b[0;34m\u001b[0m\u001b[0m\n\u001b[0;32m--> 314\u001b[0;31m         \u001b[0mx\u001b[0m \u001b[0;34m=\u001b[0m \u001b[0mself\u001b[0m\u001b[0;34m.\u001b[0m\u001b[0mextract_features\u001b[0m\u001b[0;34m(\u001b[0m\u001b[0minputs\u001b[0m\u001b[0;34m)\u001b[0m\u001b[0;34m\u001b[0m\u001b[0;34m\u001b[0m\u001b[0m\n\u001b[0m\u001b[1;32m    315\u001b[0m         \u001b[0;31m# Pooling and final linear layer\u001b[0m\u001b[0;34m\u001b[0m\u001b[0;34m\u001b[0m\u001b[0;34m\u001b[0m\u001b[0m\n\u001b[1;32m    316\u001b[0m         \u001b[0mx\u001b[0m \u001b[0;34m=\u001b[0m \u001b[0mself\u001b[0m\u001b[0;34m.\u001b[0m\u001b[0m_avg_pooling\u001b[0m\u001b[0;34m(\u001b[0m\u001b[0mx\u001b[0m\u001b[0;34m)\u001b[0m\u001b[0;34m\u001b[0m\u001b[0;34m\u001b[0m\u001b[0m\n",
      "\u001b[0;32m/opt/conda/lib/python3.8/site-packages/efficientnet_pytorch/model.py\u001b[0m in \u001b[0;36mextract_features\u001b[0;34m(self, inputs)\u001b[0m\n\u001b[1;32m    294\u001b[0m             \u001b[0;32mif\u001b[0m \u001b[0mdrop_connect_rate\u001b[0m\u001b[0;34m:\u001b[0m\u001b[0;34m\u001b[0m\u001b[0;34m\u001b[0m\u001b[0m\n\u001b[1;32m    295\u001b[0m                 \u001b[0mdrop_connect_rate\u001b[0m \u001b[0;34m*=\u001b[0m \u001b[0mfloat\u001b[0m\u001b[0;34m(\u001b[0m\u001b[0midx\u001b[0m\u001b[0;34m)\u001b[0m \u001b[0;34m/\u001b[0m \u001b[0mlen\u001b[0m\u001b[0;34m(\u001b[0m\u001b[0mself\u001b[0m\u001b[0;34m.\u001b[0m\u001b[0m_blocks\u001b[0m\u001b[0;34m)\u001b[0m  \u001b[0;31m# scale drop connect_rate\u001b[0m\u001b[0;34m\u001b[0m\u001b[0;34m\u001b[0m\u001b[0m\n\u001b[0;32m--> 296\u001b[0;31m             \u001b[0mx\u001b[0m \u001b[0;34m=\u001b[0m \u001b[0mblock\u001b[0m\u001b[0;34m(\u001b[0m\u001b[0mx\u001b[0m\u001b[0;34m,\u001b[0m \u001b[0mdrop_connect_rate\u001b[0m\u001b[0;34m=\u001b[0m\u001b[0mdrop_connect_rate\u001b[0m\u001b[0;34m)\u001b[0m\u001b[0;34m\u001b[0m\u001b[0;34m\u001b[0m\u001b[0m\n\u001b[0m\u001b[1;32m    297\u001b[0m \u001b[0;34m\u001b[0m\u001b[0m\n\u001b[1;32m    298\u001b[0m         \u001b[0;31m# Head\u001b[0m\u001b[0;34m\u001b[0m\u001b[0;34m\u001b[0m\u001b[0;34m\u001b[0m\u001b[0m\n",
      "\u001b[0;32m/opt/conda/lib/python3.8/site-packages/torch/nn/modules/module.py\u001b[0m in \u001b[0;36m_call_impl\u001b[0;34m(self, *input, **kwargs)\u001b[0m\n\u001b[1;32m    725\u001b[0m             \u001b[0mresult\u001b[0m \u001b[0;34m=\u001b[0m \u001b[0mself\u001b[0m\u001b[0;34m.\u001b[0m\u001b[0m_slow_forward\u001b[0m\u001b[0;34m(\u001b[0m\u001b[0;34m*\u001b[0m\u001b[0minput\u001b[0m\u001b[0;34m,\u001b[0m \u001b[0;34m**\u001b[0m\u001b[0mkwargs\u001b[0m\u001b[0;34m)\u001b[0m\u001b[0;34m\u001b[0m\u001b[0;34m\u001b[0m\u001b[0m\n\u001b[1;32m    726\u001b[0m         \u001b[0;32melse\u001b[0m\u001b[0;34m:\u001b[0m\u001b[0;34m\u001b[0m\u001b[0;34m\u001b[0m\u001b[0m\n\u001b[0;32m--> 727\u001b[0;31m             \u001b[0mresult\u001b[0m \u001b[0;34m=\u001b[0m \u001b[0mself\u001b[0m\u001b[0;34m.\u001b[0m\u001b[0mforward\u001b[0m\u001b[0;34m(\u001b[0m\u001b[0;34m*\u001b[0m\u001b[0minput\u001b[0m\u001b[0;34m,\u001b[0m \u001b[0;34m**\u001b[0m\u001b[0mkwargs\u001b[0m\u001b[0;34m)\u001b[0m\u001b[0;34m\u001b[0m\u001b[0;34m\u001b[0m\u001b[0m\n\u001b[0m\u001b[1;32m    728\u001b[0m         for hook in itertools.chain(\n\u001b[1;32m    729\u001b[0m                 \u001b[0m_global_forward_hooks\u001b[0m\u001b[0;34m.\u001b[0m\u001b[0mvalues\u001b[0m\u001b[0;34m(\u001b[0m\u001b[0;34m)\u001b[0m\u001b[0;34m,\u001b[0m\u001b[0;34m\u001b[0m\u001b[0;34m\u001b[0m\u001b[0m\n",
      "\u001b[0;32m/opt/conda/lib/python3.8/site-packages/efficientnet_pytorch/model.py\u001b[0m in \u001b[0;36mforward\u001b[0;34m(self, inputs, drop_connect_rate)\u001b[0m\n\u001b[1;32m    121\u001b[0m         \u001b[0;31m# Pointwise Convolution\u001b[0m\u001b[0;34m\u001b[0m\u001b[0;34m\u001b[0m\u001b[0;34m\u001b[0m\u001b[0m\n\u001b[1;32m    122\u001b[0m         \u001b[0mx\u001b[0m \u001b[0;34m=\u001b[0m \u001b[0mself\u001b[0m\u001b[0;34m.\u001b[0m\u001b[0m_project_conv\u001b[0m\u001b[0;34m(\u001b[0m\u001b[0mx\u001b[0m\u001b[0;34m)\u001b[0m\u001b[0;34m\u001b[0m\u001b[0;34m\u001b[0m\u001b[0m\n\u001b[0;32m--> 123\u001b[0;31m         \u001b[0mx\u001b[0m \u001b[0;34m=\u001b[0m \u001b[0mself\u001b[0m\u001b[0;34m.\u001b[0m\u001b[0m_bn2\u001b[0m\u001b[0;34m(\u001b[0m\u001b[0mx\u001b[0m\u001b[0;34m)\u001b[0m\u001b[0;34m\u001b[0m\u001b[0;34m\u001b[0m\u001b[0m\n\u001b[0m\u001b[1;32m    124\u001b[0m \u001b[0;34m\u001b[0m\u001b[0m\n\u001b[1;32m    125\u001b[0m         \u001b[0;31m# Skip connection and drop connect\u001b[0m\u001b[0;34m\u001b[0m\u001b[0;34m\u001b[0m\u001b[0;34m\u001b[0m\u001b[0m\n",
      "\u001b[0;32m/opt/conda/lib/python3.8/site-packages/torch/nn/modules/module.py\u001b[0m in \u001b[0;36m_call_impl\u001b[0;34m(self, *input, **kwargs)\u001b[0m\n\u001b[1;32m    725\u001b[0m             \u001b[0mresult\u001b[0m \u001b[0;34m=\u001b[0m \u001b[0mself\u001b[0m\u001b[0;34m.\u001b[0m\u001b[0m_slow_forward\u001b[0m\u001b[0;34m(\u001b[0m\u001b[0;34m*\u001b[0m\u001b[0minput\u001b[0m\u001b[0;34m,\u001b[0m \u001b[0;34m**\u001b[0m\u001b[0mkwargs\u001b[0m\u001b[0;34m)\u001b[0m\u001b[0;34m\u001b[0m\u001b[0;34m\u001b[0m\u001b[0m\n\u001b[1;32m    726\u001b[0m         \u001b[0;32melse\u001b[0m\u001b[0;34m:\u001b[0m\u001b[0;34m\u001b[0m\u001b[0;34m\u001b[0m\u001b[0m\n\u001b[0;32m--> 727\u001b[0;31m             \u001b[0mresult\u001b[0m \u001b[0;34m=\u001b[0m \u001b[0mself\u001b[0m\u001b[0;34m.\u001b[0m\u001b[0mforward\u001b[0m\u001b[0;34m(\u001b[0m\u001b[0;34m*\u001b[0m\u001b[0minput\u001b[0m\u001b[0;34m,\u001b[0m \u001b[0;34m**\u001b[0m\u001b[0mkwargs\u001b[0m\u001b[0;34m)\u001b[0m\u001b[0;34m\u001b[0m\u001b[0;34m\u001b[0m\u001b[0m\n\u001b[0m\u001b[1;32m    728\u001b[0m         for hook in itertools.chain(\n\u001b[1;32m    729\u001b[0m                 \u001b[0m_global_forward_hooks\u001b[0m\u001b[0;34m.\u001b[0m\u001b[0mvalues\u001b[0m\u001b[0;34m(\u001b[0m\u001b[0;34m)\u001b[0m\u001b[0;34m,\u001b[0m\u001b[0;34m\u001b[0m\u001b[0;34m\u001b[0m\u001b[0m\n",
      "\u001b[0;32m/opt/conda/lib/python3.8/site-packages/torch/nn/modules/batchnorm.py\u001b[0m in \u001b[0;36mforward\u001b[0;34m(self, input)\u001b[0m\n\u001b[1;32m    129\u001b[0m         \u001b[0mused\u001b[0m \u001b[0;32mfor\u001b[0m \u001b[0mnormalization\u001b[0m \u001b[0;34m(\u001b[0m\u001b[0mi\u001b[0m\u001b[0;34m.\u001b[0m\u001b[0me\u001b[0m\u001b[0;34m.\u001b[0m \u001b[0;32min\u001b[0m \u001b[0meval\u001b[0m \u001b[0mmode\u001b[0m \u001b[0mwhen\u001b[0m \u001b[0mbuffers\u001b[0m \u001b[0mare\u001b[0m \u001b[0;32mnot\u001b[0m \u001b[0;32mNone\u001b[0m\u001b[0;34m)\u001b[0m\u001b[0;34m.\u001b[0m\u001b[0;34m\u001b[0m\u001b[0;34m\u001b[0m\u001b[0m\n\u001b[1;32m    130\u001b[0m         \"\"\"\n\u001b[0;32m--> 131\u001b[0;31m         return F.batch_norm(\n\u001b[0m\u001b[1;32m    132\u001b[0m             \u001b[0minput\u001b[0m\u001b[0;34m,\u001b[0m\u001b[0;34m\u001b[0m\u001b[0;34m\u001b[0m\u001b[0m\n\u001b[1;32m    133\u001b[0m             \u001b[0;31m# If buffers are not to be tracked, ensure that they won't be updated\u001b[0m\u001b[0;34m\u001b[0m\u001b[0;34m\u001b[0m\u001b[0;34m\u001b[0m\u001b[0m\n",
      "\u001b[0;32m/opt/conda/lib/python3.8/site-packages/torch/nn/functional.py\u001b[0m in \u001b[0;36mbatch_norm\u001b[0;34m(input, running_mean, running_var, weight, bias, training, momentum, eps)\u001b[0m\n\u001b[1;32m   2054\u001b[0m         \u001b[0m_verify_batch_size\u001b[0m\u001b[0;34m(\u001b[0m\u001b[0minput\u001b[0m\u001b[0;34m.\u001b[0m\u001b[0msize\u001b[0m\u001b[0;34m(\u001b[0m\u001b[0;34m)\u001b[0m\u001b[0;34m)\u001b[0m\u001b[0;34m\u001b[0m\u001b[0;34m\u001b[0m\u001b[0m\n\u001b[1;32m   2055\u001b[0m \u001b[0;34m\u001b[0m\u001b[0m\n\u001b[0;32m-> 2056\u001b[0;31m     return torch.batch_norm(\n\u001b[0m\u001b[1;32m   2057\u001b[0m         \u001b[0minput\u001b[0m\u001b[0;34m,\u001b[0m \u001b[0mweight\u001b[0m\u001b[0;34m,\u001b[0m \u001b[0mbias\u001b[0m\u001b[0;34m,\u001b[0m \u001b[0mrunning_mean\u001b[0m\u001b[0;34m,\u001b[0m \u001b[0mrunning_var\u001b[0m\u001b[0;34m,\u001b[0m\u001b[0;34m\u001b[0m\u001b[0;34m\u001b[0m\u001b[0m\n\u001b[1;32m   2058\u001b[0m         \u001b[0mtraining\u001b[0m\u001b[0;34m,\u001b[0m \u001b[0mmomentum\u001b[0m\u001b[0;34m,\u001b[0m \u001b[0meps\u001b[0m\u001b[0;34m,\u001b[0m \u001b[0mtorch\u001b[0m\u001b[0;34m.\u001b[0m\u001b[0mbackends\u001b[0m\u001b[0;34m.\u001b[0m\u001b[0mcudnn\u001b[0m\u001b[0;34m.\u001b[0m\u001b[0menabled\u001b[0m\u001b[0;34m\u001b[0m\u001b[0;34m\u001b[0m\u001b[0m\n",
      "\u001b[0;31mKeyboardInterrupt\u001b[0m: "
     ]
    }
   ],
   "source": [
    "\n",
    "folder = '/opt/ml/weights/3way/{}'.format(config['model'])\n",
    "if not os.path.exists(folder):\n",
    "    os.mkdir(folder)\n",
    "\n",
    "for epoch in range(config['epochs']):\n",
    "    print(\"Epoch :\", epoch + 1)\n",
    "    train_running_loss = 0.0\n",
    "    train_running_correct = 0\n",
    "    counter = 0\n",
    "    total = 0\n",
    "    total_it = int(len(train_indices)/train_loader.batch_size)\n",
    "    prog_bar = tqdm(enumerate(train_loader), total=total_it)\n",
    "    for i, (inputs, (m, g, a)) in prog_bar:\n",
    "        \n",
    "        counter += 1\n",
    "        optimizer.zero_grad()\n",
    "        inputs = inputs.to(device)\n",
    "        m_pred, g_pred, a_pred = model(inputs)\n",
    "        \n",
    "        \n",
    "        m = m.to(device)\n",
    "        g = g.to(device)\n",
    "        a = a.to(device)\n",
    "        total += m.size(0)\n",
    "        \n",
    "        \n",
    "        m_loss = criterion(m_pred, m)\n",
    "        g_loss = gender_criterion(g_pred, g)\n",
    "        a_loss = age_criterion(a_pred, a) # data imbalance \n",
    "        \n",
    "        \n",
    "        loss = (g_loss+a_loss+m_loss)\n",
    "        loss.backward()\n",
    "        optimizer.step()\n",
    "        \n",
    "        train_running_loss += loss.item()\n",
    "        \n",
    "        if i == total_it//2 or i == total_it-1:\n",
    "            train_loss = train_running_loss / counter\n",
    "\n",
    "            print(\"Train Loss :\", train_loss)\n",
    "            wandb.log({\"Train Loss\" : train_loss})\n",
    "            \n",
    "            check(val_loader, len(val_indices), model)\n",
    "    scheduler.step()\n",
    "    train_running_loss = 0.0\n",
    "    train_running_correct = 0\n",
    "print(\"Finish\")"
   ]
  },
  {
   "cell_type": "markdown",
   "id": "continued-feelings",
   "metadata": {},
   "source": [
    "## Testing"
   ]
  },
  {
   "cell_type": "code",
   "execution_count": 16,
   "id": "8ecf6622-e3d7-401a-84d8-82ba94f6e654",
   "metadata": {},
   "outputs": [
    {
     "data": {
      "text/plain": [
       "(<All keys matched successfully>, 0.7741065247182025)"
      ]
     },
     "execution_count": 16,
     "metadata": {},
     "output_type": "execute_result"
    }
   ],
   "source": [
    "model.load_state_dict(torch.load('/opt/ml/weights/3way/{}/{:.4f}.pt'.format(config['model'], model.best_f1))), model.best_f1\n",
    "# model.load_state_dict(torch.load('/opt/ml/weights/3way/{}/0.9602.pt'.format(config['model'])))"
   ]
  },
  {
   "cell_type": "code",
   "execution_count": 15,
   "id": "coral-shade",
   "metadata": {},
   "outputs": [
    {
     "name": "stderr",
     "output_type": "stream",
     "text": [
      "197it [00:38,  5.18it/s]                         "
     ]
    },
    {
     "name": "stdout",
     "output_type": "stream",
     "text": [
      "test inference is done!\n"
     ]
    },
    {
     "name": "stderr",
     "output_type": "stream",
     "text": [
      "\n"
     ]
    }
   ],
   "source": [
    "# meta 데이터와 이미지 경로를 불러옵니다.\n",
    "submission = pd.read_csv(os.path.join(test_dir, 'info.csv'))\n",
    "image_dir = os.path.join(test_dir, 'images')\n",
    "\n",
    "# Test Dataset 클래스 객체를 생성하고 DataLoader를 만듭니다.\n",
    "image_paths = [os.path.join(image_dir, img_id) for img_id in submission.ImageID]\n",
    "dataset = TestDataset(image_paths, tfms_test)\n",
    "\n",
    "loader = DataLoader(\n",
    "    dataset,\n",
    "    shuffle=False,\n",
    "    batch_size=64,\n",
    "    num_workers=4\n",
    ")\n",
    "\n",
    "# 모델을 정의합니다. (학습한 모델이 있다면 torch.load로 모델을 불러주세요!)\n",
    "# device = torch.device('cuda')\n",
    "\n",
    "model.eval()\n",
    "device = torch.device(\"cuda:0\")\n",
    "# 모델이 테스트 데이터셋을 예측하고 결과를 저장합니다.\n",
    "all_predictions = []\n",
    "\n",
    "prog_bar = tqdm(enumerate(loader), total=int(len(dataset)/loader.batch_size))\n",
    "for i, images in prog_bar:\n",
    "    with torch.no_grad():\n",
    "        images = images.to(device)\n",
    "        m_pred, g_pred, a_pred = model(images)\n",
    "#         print(images.shape)\n",
    "#         print(m_pred.shape)\n",
    "        m_argmax = m_pred.detach().cpu().numpy().argmax(1)\n",
    "        g_argmax = g_pred.detach().cpu().numpy().argmax(1)\n",
    "        a_argmax = a_pred.detach().cpu().numpy().argmax(1)\n",
    "        \n",
    "        for mask, gender, age in zip(m_argmax, g_argmax, a_argmax):\n",
    "            predicted = labels_to_class[(mask.item(), gender.item(), age.item())]\n",
    "            all_predictions.append(predicted)\n",
    "submission['ans'] = all_predictions\n",
    "\n",
    "# 제출할 파일을 저장합니다.\n",
    "submission.to_csv(os.path.join(test_dir, 'submission.csv'), index=False)\n",
    "print('test inference is done!')"
   ]
  },
  {
   "cell_type": "code",
   "execution_count": 14,
   "id": "01883cc5-1adf-4c19-ba4b-e53ce43575ea",
   "metadata": {},
   "outputs": [
    {
     "name": "stdout",
     "output_type": "stream",
     "text": [
      "Normal : 80.48307299613953 %\n",
      "Female : 70.16461491584778 %\n",
      "~ 30 : 99.12283420562744 %\n"
     ]
    },
    {
     "data": {
      "image/png": "[encoded data removed]",
      "text/plain": [
       "<Figure size 432x288 with 1 Axes>"
      ]
     },
     "metadata": {
      "needs_background": "light"
     },
     "output_type": "display_data"
    }
   ],
   "source": [
    "idx = 3\n",
    "# meta 데이터와 이미지 경로를 불러옵니다.\n",
    "submission = pd.read_csv(os.path.join(test_dir, 'info.csv'))\n",
    "image_dir = os.path.join(test_dir, 'images')\n",
    "\n",
    "# Test Dataset 클래스 객체를 생성하고 DataLoader를 만듭니다.\n",
    "image_paths = [os.path.join(image_dir, img_id) for img_id in submission.ImageID]\n",
    "\n",
    "image = cv2.imread(image_paths[idx])\n",
    "image = cv2.cvtColor(image, cv2.COLOR_BGR2RGB)\n",
    "plt.imshow(image)\n",
    "\n",
    "image = tfms_test(image=image)['image'].to(device)\n",
    "image = image.unsqueeze(0)\n",
    "m_pred, g_pred, a_pred = model(image)\n",
    "\n",
    "m_argmax = m_pred.detach().cpu().numpy().argmax(1)\n",
    "g_argmax = g_pred.detach().cpu().numpy().argmax(1)\n",
    "a_argmax = a_pred.detach().cpu().numpy().argmax(1)\n",
    "\n",
    "#\n",
    "masklabel = {0: \"Mask\", 1: \"Incorrect\", 2: \"Normal\"}\n",
    "genderlabel = {0: \"Male\", 1: \"Female\"}\n",
    "agelabel = {0: \"~ 30\", 1: \"30 ~ 60\", 2: \"60 ~\"}\n",
    "#\n",
    "print(masklabel[m_argmax[0]]+ \" :\", (m_pred[0][m_argmax].item())*100, '%')\n",
    "print(genderlabel[g_argmax[0]]+ \" :\", (g_pred[0][g_argmax].item())*100, '%')\n",
    "print(agelabel[a_argmax[0]]+ \" :\", (a_pred[0][a_argmax].item())*100, '%')\n"
   ]
  },
  {
   "cell_type": "code",
   "execution_count": null,
   "id": "2614e887-7750-4c03-80a5-7a0a5b3fab38",
   "metadata": {},
   "outputs": [],
   "source": []
  }
 ],
 "metadata": {
  "kernelspec": {
   "display_name": "Python 3 (ipykernel)",
   "language": "python",
   "name": "python3"
  },
  "language_info": {
   "codemirror_mode": {
    "name": "ipython",
    "version": 3
   },
   "file_extension": ".py",
   "mimetype": "text/x-python",
   "name": "python",
   "nbconvert_exporter": "python",
   "pygments_lexer": "ipython3",
   "version": "3.8.5"
  }
 },
 "nbformat": 4,
 "nbformat_minor": 5
}
