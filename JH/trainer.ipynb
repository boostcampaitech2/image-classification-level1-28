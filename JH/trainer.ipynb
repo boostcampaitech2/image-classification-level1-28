{
 "cells": [
  {
   "cell_type": "code",
   "execution_count": 1,
   "id": "1f6c693b-8a00-4a77-8c85-10c212680012",
   "metadata": {},
   "outputs": [
    {
     "name": "stderr",
     "output_type": "stream",
     "text": [
      "/opt/conda/lib/python3.8/site-packages/tqdm/std.py:703: FutureWarning: The Panel class is removed from pandas. Accessing it from the top-level namespace will also be removed in the next version\n",
      "  from pandas import Panel\n"
     ]
    }
   ],
   "source": [
    "import albumentations\n",
    "import albumentations.pytorch\n",
    "import numpy as np\n",
    "import os\n",
    "import pandas as pd\n",
    "import matplotlib.pyplot as plt\n",
    "import cv2\n",
    "from PIL import Image\n",
    "from tqdm import tqdm\n",
    "\n",
    "import timm\n",
    "import torch\n",
    "import torch.nn as nn\n",
    "import torch.nn.functional as F\n",
    "import torch.optim as optim\n",
    "from torch.optim import AdamW\n",
    "from torch.utils.data import Dataset, DataLoader\n",
    "from torchvision import transforms\n",
    "from torchvision.transforms import Resize, ToTensor, Normalize\n",
    "from sklearn.metrics import f1_score\n",
    "from efficientnet_pytorch import EfficientNet\n",
    "\n",
    "tqdm.pandas()"
   ]
  },
  {
   "cell_type": "code",
   "execution_count": 2,
   "id": "61b89bd7-404b-415a-8912-c190004cdfe9",
   "metadata": {},
   "outputs": [
    {
     "name": "stdout",
     "output_type": "stream",
     "text": [
      "cuda:0 is using!\n"
     ]
    }
   ],
   "source": [
    "device = torch.device(\"cuda:0\" if torch.cuda.is_available() else \"cpu\")\n",
    "print(f\"{device} is using!\")"
   ]
  },
  {
   "cell_type": "markdown",
   "id": "f91942fb-d83d-4570-bb44-fbb52ee3b7fb",
   "metadata": {},
   "source": [
    "## WandB INIT, Config"
   ]
  },
  {
   "cell_type": "code",
   "execution_count": 3,
   "id": "5ae3374a-8f33-44ad-997a-e2bf45d07dcd",
   "metadata": {},
   "outputs": [
    {
     "name": "stderr",
     "output_type": "stream",
     "text": [
      "\u001b[34m\u001b[1mwandb\u001b[0m: Currently logged in as: \u001b[33mminibatch28\u001b[0m (use `wandb login --relogin` to force relogin)\n",
      "\u001b[34m\u001b[1mwandb\u001b[0m: wandb version 0.12.1 is available!  To upgrade, please run:\n",
      "\u001b[34m\u001b[1mwandb\u001b[0m:  $ pip install wandb --upgrade\n",
      "\n",
      "CondaEnvException: Unable to determine environment\n",
      "\n",
      "Please re-run this command with one of the following options:\n",
      "\n",
      "* Provide an environment name via --name or -n\n",
      "* Re-run this command inside an activated conda environment.\n",
      "\n"
     ]
    },
    {
     "data": {
      "text/html": [
       "\n",
       "                Tracking run with wandb version 0.12.0<br/>\n",
       "                Syncing run <strong style=\"color:#cdcd00\">JH_efficientnet-b5_MSD3_facecrop_cutmix_F1loss_16_0.0003_cosine</strong> to <a href=\"https://wandb.ai\" target=\"_blank\">Weights & Biases</a> <a href=\"https://docs.wandb.com/integrations/jupyter.html\" target=\"_blank\">(Documentation)</a>.<br/>\n",
       "                Project page: <a href=\"https://wandb.ai/minibatch28/MaskClassification\" target=\"_blank\">https://wandb.ai/minibatch28/MaskClassification</a><br/>\n",
       "                Run page: <a href=\"https://wandb.ai/minibatch28/MaskClassification/runs/1vqs5l8w\" target=\"_blank\">https://wandb.ai/minibatch28/MaskClassification/runs/1vqs5l8w</a><br/>\n",
       "                Run data is saved locally in <code>/opt/ml/git/JH/wandb/run-20210830_012104-1vqs5l8w</code><br/><br/>\n",
       "            "
      ],
      "text/plain": [
       "<IPython.core.display.HTML object>"
      ]
     },
     "metadata": {},
     "output_type": "display_data"
    },
    {
     "data": {
      "text/html": [
       "<h1>Run(1vqs5l8w)</h1><iframe src=\"https://wandb.ai/minibatch28/MaskClassification/runs/1vqs5l8w\" style=\"border:none;width:100%;height:400px\"></iframe>"
      ],
      "text/plain": [
       "<wandb.sdk.wandb_run.Run at 0x7f0f64f95820>"
      ]
     },
     "execution_count": 3,
     "metadata": {},
     "output_type": "execute_result"
    }
   ],
   "source": [
    "import wandb\n",
    "\n",
    "config={\n",
    "    \"user\" : \"JH\",\n",
    "    \"lr\": 3e-4,\n",
    "    \"architecture\": \"efficientnet-b5\",\n",
    "    \"dataset\": \"facecrop\",\n",
    "    \"augmentation\" : \"cutmix\",\n",
    "    \"loss\" : \"F1loss\",\n",
    "    \"gamma\" : 0.9,\n",
    "    \"scheduler\" : \"cosine\",\n",
    "    \"batch_size\" : 16,\n",
    "    \"epochs\" : 30,\n",
    "    \"beta\" : 1.0,\n",
    "    \"memo\" : \"MSD3\"\n",
    "}\n",
    "config['model'] = '_'.join([config['user'], config['architecture'], config[\"memo\"], config['dataset'], config['augmentation'], config['loss'], str(config['batch_size']), str(config['lr']), config[\"scheduler\"]])\n",
    "wandb.init(entity=\"minibatch28\", project=\"MaskClassification\", name=config['model'], config=config)"
   ]
  },
  {
   "cell_type": "markdown",
   "id": "2b2b8c32-03ca-4436-8f83-fd5edf96e81c",
   "metadata": {},
   "source": [
    "## Dataset"
   ]
  },
  {
   "cell_type": "code",
   "execution_count": 4,
   "id": "4fcafbfa-4bf3-4524-910d-6815d9bc77d3",
   "metadata": {},
   "outputs": [],
   "source": [
    "class MyDataset(Dataset):\n",
    "    def __init__(self, path, label, transform):\n",
    "        img_list = []\n",
    "        for p in tqdm(path):\n",
    "            img = cv2.imread(p)\n",
    "            img = cv2.cvtColor(img, cv2.COLOR_BGR2RGB)\n",
    "            img_list.append(img)\n",
    "        \n",
    "        self.X = img_list\n",
    "        self.y = label\n",
    "        self.transform = transform\n",
    "\n",
    "    def __len__(self):\n",
    "        len_dataset = len(self.X)\n",
    "        return len_dataset\n",
    "\n",
    "    def __getitem__(self, idx):\n",
    "        X,y = self.X[idx], self.y[idx]\n",
    "        X = self.transform(image=X)['image']  # transforms를 사용하시는 분은 X = self.transform(X)\n",
    "        return X, y"
   ]
  },
  {
   "cell_type": "code",
   "execution_count": 5,
   "id": "bc4be2e3-e1bf-401d-a746-3e08a624a144",
   "metadata": {},
   "outputs": [],
   "source": [
    "class TestDataset(Dataset):\n",
    "    def __init__(self, path, transform):\n",
    "        img_list = []\n",
    "        for p in tqdm(path):\n",
    "            img = cv2.imread(p)\n",
    "            img = cv2.cvtColor(img, cv2.COLOR_BGR2RGB)\n",
    "            img_list.append(img)\n",
    "        \n",
    "        self.X = img_list\n",
    "        self.transform = transform\n",
    "\n",
    "    def __len__(self):\n",
    "        len_dataset = len(self.X)\n",
    "        return len_dataset\n",
    "\n",
    "    def __getitem__(self, idx):\n",
    "        X = self.X[idx]\n",
    "        X = self.transform(image=X)['image']  # transforms를 사용하시는 분은 X = self.transform(X)\n",
    "        return X"
   ]
  },
  {
   "cell_type": "code",
   "execution_count": 6,
   "id": "76012de7-bb71-468b-b135-786439648026",
   "metadata": {},
   "outputs": [],
   "source": [
    "# Augmentation은 각자 방식대로\n",
    "\n",
    "train_transform = albumentations.Compose(\n",
    "  [\n",
    "      albumentations.Resize(456,456),\n",
    "#       albumentations.RandomRotation(15),\n",
    "      albumentations.HorizontalFlip(p=0.5),\n",
    "      albumentations.ShiftScaleRotate(shift_limit=0.05, scale_limit=0.05, rotate_limit=15, p=0.6),\n",
    "      albumentations.RandomBrightnessContrast(brightness_limit=0.1, p=0.6),\n",
    "      albumentations.GaussNoise(p=0.5),\n",
    "      albumentations.MotionBlur(p=0.5),\n",
    "      albumentations.OpticalDistortion(p=0.5),\n",
    "      albumentations.Normalize((0.548, 0.504, 0.479), (0.237, 0.247, 0.246)),\n",
    "      albumentations.pytorch.transforms.ToTensorV2(),\n",
    "      #       이미지 원본 사이즈는 384, 512   \n",
    "  ]\n",
    ")\n",
    "\n",
    "test_transform = albumentations.Compose(\n",
    "  [\n",
    "      albumentations.Resize(456,456),\n",
    "      albumentations.Normalize((0.548, 0.504, 0.479), (0.237, 0.247, 0.246)),\n",
    "      albumentations.pytorch.transforms.ToTensorV2()\n",
    "      #       이미지 원본 사이즈는 384, 512   \n",
    "  ]\n",
    ")"
   ]
  },
  {
   "cell_type": "markdown",
   "id": "ecc68e9a-a5a9-4078-8829-50e6bcbbd13c",
   "metadata": {},
   "source": [
    "## DataLoader"
   ]
  },
  {
   "cell_type": "code",
   "execution_count": 7,
   "id": "536915c8-e29b-4664-8b75-040ceead26a1",
   "metadata": {},
   "outputs": [
    {
     "name": "stderr",
     "output_type": "stream",
     "text": [
      "100%|██████████| 15120/15120 [00:21<00:00, 716.72it/s]\n",
      "100%|██████████| 3780/3780 [00:05<00:00, 719.01it/s]\n"
     ]
    }
   ],
   "source": [
    "# DF 읽어오기\n",
    "train_df = pd.read_csv('/opt/ml/input/face_train_df.csv')\n",
    "valid_df = pd.read_csv('/opt/ml/input/face_valid_df.csv')\n",
    "\n",
    "# Dataset 객체 생성\n",
    "dataset_train = MyDataset(path=train_df['full_path'].values,\n",
    "                          label=train_df['label'].values,\n",
    "                          transform=train_transform)\n",
    "\n",
    "dataset_valid = MyDataset(path=valid_df['full_path'].values,\n",
    "                          label=valid_df['label'].values,\n",
    "                          transform=test_transform)\n",
    "\n",
    "# Loader 올리기\n",
    "train_dataloader = DataLoader(dataset_train, batch_size=config['batch_size'], shuffle=True, num_workers=3, pin_memory=True)\n",
    "valid_dataloader = DataLoader(dataset_valid, batch_size=config['batch_size'], shuffle=False, num_workers=3, pin_memory=True)"
   ]
  },
  {
   "cell_type": "code",
   "execution_count": 8,
   "id": "68a251fd-fd65-4f39-9d9d-453e71e33dff",
   "metadata": {},
   "outputs": [
    {
     "name": "stdout",
     "output_type": "stream",
     "text": [
      "Loaded pretrained weights for efficientnet-b5\n"
     ]
    }
   ],
   "source": [
    "from efficientnet_pytorch import EfficientNet\n",
    "class Net(nn.Module):\n",
    "    def __init__(self):\n",
    "        super(Net, self).__init__()\n",
    "        self.backbone = EfficientNet.from_pretrained(config['architecture'], num_classes=1024)\n",
    "        self.fc = nn.Linear(1024, 18)\n",
    "        self.ms1 = nn.Sequential(\n",
    "            nn.Dropout(0.5),\n",
    "            self.fc\n",
    "        )\n",
    "        self.ms2 = nn.Sequential(\n",
    "            nn.Dropout(0.5),\n",
    "            self.fc\n",
    "        )\n",
    "        self.ms3 = nn.Sequential(\n",
    "            nn.Dropout(0.5),\n",
    "            self.fc\n",
    "        )\n",
    "        self.num_samples = 3\n",
    "        self.best_f1 = 0\n",
    "\n",
    "    def forward(self, x):\n",
    "        x = self.backbone(x)\n",
    "        output1 = self.ms1(x)\n",
    "        output2 = self.ms2(x)\n",
    "        output3 = self.ms3(x)\n",
    "        \n",
    "        x = (output1 + output2 + output3) / self.num_samples\n",
    "        return x\n",
    "        \n",
    "model = Net().to(device)"
   ]
  },
  {
   "cell_type": "markdown",
   "id": "30f19dce-5710-4389-bfc4-831179451747",
   "metadata": {},
   "source": [
    "## Loss, Optimizer, Scheduler"
   ]
  },
  {
   "cell_type": "markdown",
   "id": "483bcda5-1023-47c6-8e92-eb8a11f41b49",
   "metadata": {},
   "source": [
    "### Weightedloss"
   ]
  },
  {
   "cell_type": "code",
   "execution_count": 9,
   "id": "5f7f9510-518f-49e4-8bce-3560d6ab7efb",
   "metadata": {},
   "outputs": [
    {
     "name": "stdout",
     "output_type": "stream",
     "text": [
      "tensor([0.0904, 0.1211, 0.5981, 0.0678, 0.0608, 0.4554, 0.4472, 0.7905, 1.3867,\n",
      "        0.3419, 0.3710, 0.9658, 0.4472, 0.7905, 1.3867, 0.3419, 0.3710, 0.9658],\n",
      "       device='cuda:0')\n"
     ]
    }
   ],
   "source": [
    "import torch.optim as optim \n",
    "\n",
    "class_distribution = torch.tensor([2745, 2050, 415, 3660, 4085, 545, \n",
    "                      555, 314, 179, 726, 669, 257, \n",
    "                      555, 314, 179, 726, 669, 257])\n",
    "normedWeights = [1 - (x / sum(class_distribution)) for x in class_distribution]\n",
    "loss_distribution = class_distribution / class_distribution.sum()\n",
    "loss_distribution = 1.0 / loss_distribution\n",
    "loss_distribution = (loss_distribution / loss_distribution.sum()*10).to(device)\n",
    "print(loss_distribution)"
   ]
  },
  {
   "cell_type": "code",
   "execution_count": 10,
   "id": "b7298061-b0bc-4d0d-a493-c33774ceb750",
   "metadata": {},
   "outputs": [
    {
     "name": "stdout",
     "output_type": "stream",
     "text": [
      "Epoch     0: adjusting learning rate of group 0 to 3.0000e-04.\n"
     ]
    }
   ],
   "source": [
    "# https://gist.github.com/SuperShinyEyes/dcc68a08ff8b615442e3bc6a9b55a354\n",
    "class F1Loss(nn.Module):\n",
    "    def __init__(self, classes=18, epsilon=1e-7):\n",
    "        super().__init__()\n",
    "        self.classes = classes\n",
    "        self.epsilon = epsilon\n",
    "    def forward(self, y_pred, y_true):\n",
    "        assert y_pred.ndim == 2\n",
    "        assert y_true.ndim == 1\n",
    "        y_true = F.one_hot(y_true, self.classes).to(torch.float32)\n",
    "        y_pred = F.softmax(y_pred, dim=1)\n",
    "\n",
    "        tp = (y_true * y_pred).sum(dim=0).to(torch.float32)\n",
    "        tn = ((1 - y_true) * (1 - y_pred)).sum(dim=0).to(torch.float32)\n",
    "        fp = ((1 - y_true) * y_pred).sum(dim=0).to(torch.float32)\n",
    "        fn = (y_true * (1 - y_pred)).sum(dim=0).to(torch.float32)\n",
    "\n",
    "        precision = tp / (tp + fp + self.epsilon)\n",
    "        recall = tp / (tp + fn + self.epsilon)\n",
    "\n",
    "        f1 = 2 * (precision * recall) / (precision + recall + self.epsilon)\n",
    "        f1 = f1.clamp(min=self.epsilon, max=1 - self.epsilon)\n",
    "        return 1 - f1.mean()\n",
    "\n",
    "criterion = F1Loss()\n",
    "# criterion = nn.CrossEntropyLoss(weight=loss_distribution)\n",
    "# criterion = nn.CrossEntropyLoss()\n",
    "\n",
    "\n",
    "optimizer = optim.Adam(model.parameters(), lr=config['lr'])\n",
    "# scheduler = optim.lr_scheduler.StepLR(optimizer, step_size=1, gamma=config['gamma'], verbose=True)\n",
    "scheduler = torch.optim.lr_scheduler.CosineAnnealingWarmRestarts(optimizer, T_0=6, T_mult=1, eta_min=5e-6, last_epoch=-1, verbose=True)"
   ]
  },
  {
   "cell_type": "markdown",
   "id": "d084d084-6067-4b15-a7f7-08a6f1413e61",
   "metadata": {},
   "source": [
    "## Validation Function"
   ]
  },
  {
   "cell_type": "code",
   "execution_count": 11,
   "id": "3d84c8f2-0f11-4adc-a4ec-eeb763e06b98",
   "metadata": {},
   "outputs": [],
   "source": [
    "from sklearn.metrics import accuracy_score\n",
    "from sklearn.metrics import confusion_matrix\n",
    "\n",
    "def check():\n",
    "    model.eval()\n",
    "    val_loss = 0.0\n",
    "    counter = 0\n",
    "    y_true = []\n",
    "    y_predicted = []\n",
    "    \n",
    "    with torch.no_grad():\n",
    "        for x, y in valid_dataloader:\n",
    "            counter += 1\n",
    "            y_true += y.tolist()\n",
    "            \n",
    "            x = x.to(device=device)\n",
    "            y = y.to(device=device)\n",
    "    \n",
    "            scores = model(x)\n",
    "            _, predictions = scores.max(1)\n",
    "            y_predicted += predictions.tolist()\n",
    "            \n",
    "            \n",
    "            loss = criterion(scores, y)\n",
    "            \n",
    "            val_loss += loss.item()\n",
    "#     print(y_true, y_predicted)\n",
    "    cm = confusion_matrix(y_true, y_predicted)\n",
    "    F1 = []\n",
    "    epsilon = 1e-7\n",
    "    for c in range(18):\n",
    "        precision = cm[c][c] / (np.sum(cm, axis=0)[c] + epsilon)\n",
    "        recall = cm[c][c] / (np.sum(cm, axis=1)[c] + epsilon)\n",
    "        f = 2 * precision * recall / (precision + recall)\n",
    "        if np.isnan(f):\n",
    "            f = 0\n",
    "        F1.append(f)\n",
    "    macro_F1 = np.mean(F1)\n",
    "    \n",
    "    print(\"< VALIDATION >\")\n",
    "    print(\"*\"*73)\n",
    "    print(\"Validation Loss :\", val_loss/counter)\n",
    "    print(\"-\"*73)\n",
    "    print(\"Total Accuracy\")\n",
    "    print(accuracy_score(y_true, y_predicted) * 100, \"%\")\n",
    "    print(\"-\"*73)\n",
    "    print(\"Confusion Matrix\")\n",
    "    for row in cm:\n",
    "        for c in row:\n",
    "            print(str(c).ljust(4), end='')\n",
    "        print()\n",
    "    print(\"-\"*73)\n",
    "    print(\"Validation F1 score :\" , macro_F1)\n",
    "    for c, f in enumerate(F1):\n",
    "        print(\"Class\", c, \":\", f)\n",
    "        \n",
    "    if model.best_f1 < macro_F1:\n",
    "        model.best_f1 = macro_F1\n",
    "#     if model.best_valid > val_loss/counter:\n",
    "#         model.best_valid = val_loss/counter\n",
    "        torch.save(model.state_dict(), '/opt/ml/weights/{}/{:.4f}.pt'.format(config['model'], model.best_f1))\n",
    "    print(\"model saved!\")\n",
    "    print(\"*\"*73)\n",
    "    print()\n",
    "    wandb.log({\n",
    "        \"Validation Loss\" : val_loss/counter, \n",
    "        \"Validation Total Accuracy\" :accuracy_score(y_true, y_predicted) * 100, \n",
    "        \"Validation F1\" : macro_F1,\n",
    "        \"Learning Rate\" : scheduler.get_last_lr()[0]*10000\n",
    "    })\n",
    "        \n",
    "    model.train()"
   ]
  },
  {
   "cell_type": "markdown",
   "id": "55b73d78-fe46-4277-84fc-7c6076ce517b",
   "metadata": {},
   "source": [
    "## Cutmix"
   ]
  },
  {
   "cell_type": "code",
   "execution_count": 12,
   "id": "150e9923-e07f-4615-9e2a-548d393389d9",
   "metadata": {},
   "outputs": [],
   "source": [
    "def rand_bbox(size, lam): # size : [Batch_size, Channel, Width, Height]\n",
    "    W = size[2] \n",
    "    H = size[3] \n",
    "    cut_rat = np.sqrt(1. - lam)  # 패치 크기 비율\n",
    "    cut_w = np.int(W * cut_rat)\n",
    "    cut_h = np.int(H * cut_rat)  \n",
    "\n",
    "   \t# 패치의 중앙 좌표 값 cx, cy\n",
    "    cx = np.random.randint(W)\n",
    "    cy = np.random.randint(H)\n",
    "\t\t\n",
    "    # 패치 모서리 좌표 값 \n",
    "    bbx1 = 0\n",
    "    bby1 = np.clip(cy - cut_h // 2, 0, H)\n",
    "    bbx2 = W\n",
    "    bby2 = np.clip(cy + cut_h // 2, 0, H)\n",
    "   \n",
    "    return bbx1, bby1, bbx2, bby2"
   ]
  },
  {
   "cell_type": "markdown",
   "id": "4a84d2e8-56d4-4040-b4c7-292cb834c9f5",
   "metadata": {
    "tags": []
   },
   "source": [
    "## Model Training"
   ]
  },
  {
   "cell_type": "code",
   "execution_count": null,
   "id": "8146753c-ff39-4146-9e7e-b93bb0bb126c",
   "metadata": {},
   "outputs": [
    {
     "name": "stdout",
     "output_type": "stream",
     "text": [
      "Epoch : 1\n"
     ]
    },
    {
     "name": "stderr",
     "output_type": "stream",
     "text": [
      " 50%|████▉     | 472/945 [07:10<07:09,  1.10it/s]"
     ]
    },
    {
     "name": "stdout",
     "output_type": "stream",
     "text": [
      "Train Loss : 0.7824988973821192\n",
      "Train Accuracy : 45.62632135306554\n"
     ]
    },
    {
     "name": "stderr",
     "output_type": "stream",
     "text": [
      "<ipython-input-11-f0f531eb0249>:34: RuntimeWarning: invalid value encountered in double_scalars\n",
      "  f = 2 * precision * recall / (precision + recall)\n"
     ]
    },
    {
     "name": "stdout",
     "output_type": "stream",
     "text": [
      "< VALIDATION >\n",
      "*************************************************************************\n",
      "Validation Loss : 0.8598970946883351\n",
      "-------------------------------------------------------------------------\n",
      "Total Accuracy\n",
      "57.08994708994709 %\n",
      "-------------------------------------------------------------------------\n",
      "Confusion Matrix\n",
      "365 34  12  2   104 0   14  8   0   0   9   0   1   0   0   0   1   0   \n",
      "5   65  30  0   36  4   0   68  0   0   42  0   0   62  0   0   3   0   \n",
      "0   7   50  0   3   2   0   41  0   0   5   0   0   71  0   0   1   0   \n",
      "14  1   0   488 203 1   0   0   0   8   11  0   0   2   0   0   2   0   \n",
      "0   0   0   3   510 5   0   0   0   0   112 0   0   5   0   0   35  0   \n",
      "0   0   0   0   164 9   0   0   0   0   46  0   0   1   0   0   35  0   \n",
      "3   0   0   0   0   0   76  3   0   0   28  0   0   0   0   0   0   0   \n",
      "0   0   0   0   0   0   1   22  0   0   40  0   0   0   0   0   0   0   \n",
      "0   0   0   0   0   0   0   17  0   0   18  0   0   1   0   0   0   0   \n",
      "0   0   0   0   0   0   3   0   0   59  83  0   0   0   0   0   1   0   \n",
      "0   0   0   0   3   0   0   1   0   0   128 0   0   0   0   0   2   0   \n",
      "0   0   0   0   2   1   0   0   0   0   47  0   0   0   0   0   1   0   \n",
      "1   0   0   0   0   0   0   0   0   0   0   0   79  12  0   2   16  0   \n",
      "0   0   0   0   0   0   0   0   0   0   0   0   1   53  0   0   9   0   \n",
      "0   0   0   0   0   0   0   0   0   0   0   0   0   34  0   0   2   0   \n",
      "0   0   0   0   0   0   0   0   0   0   0   0   3   1   0   123 19  0   \n",
      "0   0   0   0   0   0   0   0   0   0   0   0   0   1   0   2   131 0   \n",
      "0   0   0   0   0   0   0   0   0   0   0   0   0   2   0   0   49  0   \n",
      "-------------------------------------------------------------------------\n",
      "Validation F1 score : 0.41294937423761247\n",
      "Class 0 : 0.778251598981183\n",
      "Class 1 : 0.30805687189191616\n",
      "Class 2 : 0.36764705855320073\n",
      "Class 3 : 0.7980376122979497\n",
      "Class 4 : 0.6017699114334195\n",
      "Class 5 : 0.06498194941156538\n",
      "Class 6 : 0.7450980384851981\n",
      "Class 7 : 0.19730941686339964\n",
      "Class 8 : 0\n",
      "Class 9 : 0.5539906098084596\n",
      "Class 10 : 0.3641536272079222\n",
      "Class 11 : 0\n",
      "Class 12 : 0.8144329888510999\n",
      "Class 13 : 0.3441558439323663\n",
      "Class 14 : 0\n",
      "Class 15 : 0.9010989004387555\n",
      "Class 16 : 0.5941043081205876\n",
      "Class 17 : 0\n"
     ]
    },
    {
     "name": "stderr",
     "output_type": "stream",
     "text": [
      " 50%|█████     | 473/945 [07:45<1:28:53, 11.30s/it]"
     ]
    },
    {
     "name": "stdout",
     "output_type": "stream",
     "text": [
      "model saved!\n",
      "*************************************************************************\n",
      "\n"
     ]
    },
    {
     "name": "stderr",
     "output_type": "stream",
     "text": [
      "100%|█████████▉| 944/945 [14:53<00:00,  1.10it/s]  "
     ]
    },
    {
     "name": "stdout",
     "output_type": "stream",
     "text": [
      "Train Loss : 0.7685257420968757\n",
      "Train Accuracy : 48.18121693121693\n"
     ]
    },
    {
     "name": "stderr",
     "output_type": "stream",
     "text": [
      "<ipython-input-11-f0f531eb0249>:34: RuntimeWarning: invalid value encountered in double_scalars\n",
      "  f = 2 * precision * recall / (precision + recall)\n"
     ]
    },
    {
     "name": "stdout",
     "output_type": "stream",
     "text": [
      "< VALIDATION >\n",
      "*************************************************************************\n",
      "Validation Loss : 0.8167377848665422\n",
      "-------------------------------------------------------------------------\n",
      "Total Accuracy\n",
      "72.67195767195767 %\n",
      "-------------------------------------------------------------------------\n",
      "Confusion Matrix\n",
      "533 5   0   8   1   0   2   0   0   1   0   0   0   0   0   0   0   0   \n",
      "55  186 0   0   67  3   0   4   0   0   0   0   0   0   0   0   0   0   \n",
      "1   155 0   0   20  2   0   2   0   0   0   0   0   0   0   0   0   0   \n",
      "58  3   0   642 12  1   0   0   0   14  0   0   0   0   0   0   0   0   \n",
      "11  12  0   49  549 37  0   0   0   10  0   0   0   0   0   0   2   0   \n",
      "1   3   0   0   198 51  0   0   0   0   1   0   0   0   0   0   1   0   \n",
      "2   0   0   0   0   0   101 1   0   5   0   0   1   0   0   0   0   0   \n",
      "0   0   0   0   2   0   6   49  0   0   6   0   0   0   0   0   0   0   \n",
      "0   0   0   0   0   0   0   33  0   0   3   0   0   0   0   0   0   0   \n",
      "0   0   0   0   0   0   6   0   0   140 0   0   0   0   0   0   0   0   \n",
      "0   1   0   0   14  0   4   3   0   11  101 0   0   0   0   0   0   0   \n",
      "0   0   0   0   3   2   0   1   0   0   44  0   0   0   0   0   1   0   \n",
      "0   0   0   0   0   0   0   0   0   0   0   0   107 1   0   1   1   0   \n",
      "0   0   0   0   0   0   0   0   0   0   0   0   6   45  0   0   12  0   \n",
      "0   0   0   0   0   0   0   0   0   0   0   0   0   34  0   0   2   0   \n",
      "0   0   0   0   0   0   0   0   0   0   0   0   20  0   0   118 8   0   \n",
      "0   0   0   0   0   1   0   0   0   0   0   0   1   3   0   3   121 5   \n",
      "0   0   0   0   0   2   0   0   0   0   0   0   0   1   0   0   44  4   \n",
      "-------------------------------------------------------------------------\n",
      "Validation F1 score : 0.5353522787181232\n",
      "Class 0 : 0.880264244280716\n",
      "Class 1 : 0.5470588233685122\n",
      "Class 2 : 0\n",
      "Class 3 : 0.8985304407419832\n",
      "Class 4 : 0.7148437499069215\n",
      "Class 5 : 0.28813559305755054\n",
      "Class 6 : 0.882096069098606\n",
      "Class 7 : 0.6282051273997371\n",
      "Class 8 : 0\n",
      "Class 9 : 0.8562691126261351\n",
      "Class 10 : 0.6989619372325524\n",
      "Class 11 : 0\n",
      "Class 12 : 0.8734693870420659\n",
      "Class 13 : 0.6122448971261975\n",
      "Class 14 : 0\n",
      "Class 15 : 0.8805970142682111\n",
      "Class 16 : 0.7423312878881404\n",
      "Class 17 : 0.13333333288888888\n"
     ]
    },
    {
     "name": "stderr",
     "output_type": "stream",
     "text": [
      "100%|██████████| 945/945 [15:28<00:00,  1.02it/s]"
     ]
    },
    {
     "name": "stdout",
     "output_type": "stream",
     "text": [
      "model saved!\n",
      "*************************************************************************\n",
      "\n",
      "Epoch     1: adjusting learning rate of group 0 to 2.8024e-04.\n",
      "Epoch : 2\n"
     ]
    },
    {
     "name": "stderr",
     "output_type": "stream",
     "text": [
      "\n",
      " 50%|████▉     | 472/945 [07:09<07:06,  1.11it/s]"
     ]
    },
    {
     "name": "stdout",
     "output_type": "stream",
     "text": [
      "Train Loss : 0.746626052997581\n",
      "Train Accuracy : 50.56818181818182\n"
     ]
    },
    {
     "name": "stderr",
     "output_type": "stream",
     "text": [
      "<ipython-input-11-f0f531eb0249>:34: RuntimeWarning: invalid value encountered in double_scalars\n",
      "  f = 2 * precision * recall / (precision + recall)\n"
     ]
    },
    {
     "name": "stdout",
     "output_type": "stream",
     "text": [
      "< VALIDATION >\n",
      "*************************************************************************\n",
      "Validation Loss : 0.8188879859598377\n",
      "-------------------------------------------------------------------------\n",
      "Total Accuracy\n",
      "72.53968253968253 %\n",
      "-------------------------------------------------------------------------\n",
      "Confusion Matrix\n",
      "526 12  0   10  1   0   1   0   0   0   0   0   0   0   0   0   0   0   \n",
      "33  189 69  0   15  0   0   0   0   0   0   0   0   7   0   0   2   0   \n",
      "0   80  86  0   2   0   0   0   0   0   0   0   0   8   0   0   4   0   \n",
      "30  3   0   671 16  2   0   0   0   0   0   0   0   2   0   0   6   0   \n",
      "10  22  11  50  517 15  0   0   0   0   0   0   0   1   0   0   44  0   \n",
      "2   1   12  0   205 9   0   0   0   0   0   0   0   0   0   0   26  0   \n",
      "2   0   0   0   0   0   103 1   0   2   1   0   1   0   0   0   0   0   \n",
      "0   6   11  0   0   0   13  28  0   0   5   0   0   0   0   0   0   0   \n",
      "0   2   15  0   0   0   0   17  0   0   2   0   0   0   0   0   0   0   \n",
      "0   0   0   0   0   1   7   1   0   131 4   0   0   0   0   2   0   0   \n",
      "0   2   5   0   10  5   2   1   0   2   96  0   0   1   0   0   10  0   \n",
      "0   0   3   0   5   3   0   1   0   0   36  0   0   0   0   0   3   0   \n",
      "0   0   0   0   0   0   0   0   0   0   0   0   108 0   0   2   0   0   \n",
      "0   0   9   0   0   0   0   0   0   0   0   0   6   38  0   0   6   4   \n",
      "0   0   13  0   0   0   0   0   0   0   0   0   0   23  0   0   0   0   \n",
      "0   0   0   0   0   0   0   0   0   0   0   0   8   1   0   131 6   0   \n",
      "0   0   4   0   0   0   0   0   0   0   0   0   0   1   0   7   97  25  \n",
      "0   0   5   0   0   0   0   0   0   0   0   0   0   1   0   0   33  12  \n",
      "-------------------------------------------------------------------------\n",
      "Validation F1 score : 0.5417944899767808\n",
      "Class 0 : 0.9124024282892624\n",
      "Class 1 : 0.5981012656335122\n",
      "Class 2 : 0.4066193851505346\n",
      "Class 3 : 0.9185489389570775\n",
      "Class 4 : 0.7175572518088055\n",
      "Class 5 : 0.062068965474435196\n",
      "Class 6 : 0.8728813551924736\n",
      "Class 7 : 0.4999999991071429\n",
      "Class 8 : 0\n",
      "Class 9 : 0.9323843409733918\n",
      "Class 10 : 0.6906474815175199\n",
      "Class 11 : 0\n",
      "Class 12 : 0.9270386258137008\n",
      "Class 13 : 0.5205479444924\n",
      "Class 14 : 0\n",
      "Class 15 : 0.9097222215904707\n",
      "Class 16 : 0.5229110509310453\n",
      "Class 17 : 0.26086956465028355\n"
     ]
    },
    {
     "name": "stderr",
     "output_type": "stream",
     "text": [
      " 50%|█████     | 473/945 [07:44<1:28:49, 11.29s/it]"
     ]
    },
    {
     "name": "stdout",
     "output_type": "stream",
     "text": [
      "model saved!\n",
      "*************************************************************************\n",
      "\n"
     ]
    },
    {
     "name": "stderr",
     "output_type": "stream",
     "text": [
      "100%|█████████▉| 944/945 [14:53<00:00,  1.09it/s]  "
     ]
    },
    {
     "name": "stdout",
     "output_type": "stream",
     "text": [
      "Train Loss : 0.7470527730921589\n",
      "Train Accuracy : 50.886243386243386\n"
     ]
    },
    {
     "name": "stderr",
     "output_type": "stream",
     "text": [
      "<ipython-input-11-f0f531eb0249>:34: RuntimeWarning: invalid value encountered in double_scalars\n",
      "  f = 2 * precision * recall / (precision + recall)\n"
     ]
    },
    {
     "name": "stdout",
     "output_type": "stream",
     "text": [
      "< VALIDATION >\n",
      "*************************************************************************\n",
      "Validation Loss : 0.811829256357523\n",
      "-------------------------------------------------------------------------\n",
      "Total Accuracy\n",
      "76.34920634920634 %\n",
      "-------------------------------------------------------------------------\n",
      "Confusion Matrix\n",
      "514 22  0   4   1   0   1   0   0   0   0   0   3   5   0   0   0   0   \n",
      "18  180 45  0   44  9   0   1   0   0   1   0   0   17  0   0   0   0   \n",
      "1   71  93  0   2   4   0   0   0   0   0   0   0   9   0   0   0   0   \n",
      "27  4   0   685 11  0   0   0   0   0   0   0   0   2   0   0   1   0   \n",
      "11  5   5   34  587 23  0   0   0   0   3   0   0   2   0   0   0   0   \n",
      "0   5   1   0   204 45  0   0   0   0   0   0   0   0   0   0   0   0   \n",
      "2   0   0   0   0   0   99  3   0   2   3   0   1   0   0   0   0   0   \n",
      "0   0   0   0   1   0   1   26  0   0   35  0   0   0   0   0   0   0   \n",
      "0   0   0   0   0   0   0   18  0   0   18  0   0   0   0   0   0   0   \n",
      "0   0   0   6   0   0   2   1   0   127 7   0   0   0   0   3   0   0   \n",
      "0   0   0   0   8   0   1   0   0   2   123 0   0   0   0   0   0   0   \n",
      "0   0   0   0   3   0   0   1   0   0   46  0   0   0   0   0   1   0   \n",
      "0   0   0   0   0   0   0   0   0   0   0   0   99  8   0   2   1   0   \n",
      "0   0   0   0   0   0   0   0   0   0   0   0   2   58  0   0   3   0   \n",
      "0   0   0   0   0   0   0   0   0   0   0   0   0   36  0   0   0   0   \n",
      "0   0   0   2   0   0   0   0   0   0   0   0   2   2   0   135 5   0   \n",
      "0   0   0   0   0   0   0   0   0   0   0   0   1   15  0   3   115 0   \n",
      "0   0   0   0   0   0   0   0   0   0   0   0   0   12  0   0   39  0   \n",
      "-------------------------------------------------------------------------\n",
      "Validation F1 score : 0.5636340511449328\n",
      "Class 0 : 0.9154051645742822\n",
      "Class 1 : 0.598006644319599\n",
      "Class 2 : 0.5740740737197074\n",
      "Class 3 : 0.9377138944643787\n",
      "Class 4 : 0.7668190724014606\n",
      "Class 5 : 0.26785714269770405\n",
      "Class 6 : 0.9252336439951089\n",
      "Class 7 : 0.4601769903359699\n",
      "Class 8 : 0\n",
      "Class 9 : 0.9169675083632004\n",
      "Class 10 : 0.6648648645054785\n",
      "Class 11 : 0\n",
      "Class 12 : 0.9082568799006818\n",
      "Class 13 : 0.5065502178982094\n",
      "Class 14 : 0\n",
      "Class 15 : 0.9342560547167779\n",
      "Class 16 : 0.7692307687162335\n",
      "Class 17 : 0\n"
     ]
    },
    {
     "name": "stderr",
     "output_type": "stream",
     "text": [
      "100%|██████████| 945/945 [15:28<00:00,  1.02it/s]"
     ]
    },
    {
     "name": "stdout",
     "output_type": "stream",
     "text": [
      "model saved!\n",
      "*************************************************************************\n",
      "\n",
      "Epoch     2: adjusting learning rate of group 0 to 2.2625e-04.\n",
      "Epoch : 3\n"
     ]
    },
    {
     "name": "stderr",
     "output_type": "stream",
     "text": [
      "\n",
      " 50%|████▉     | 472/945 [07:09<07:09,  1.10it/s]"
     ]
    },
    {
     "name": "stdout",
     "output_type": "stream",
     "text": [
      "Train Loss : 0.7240201559933749\n",
      "Train Accuracy : 53.290169133192386\n"
     ]
    },
    {
     "name": "stderr",
     "output_type": "stream",
     "text": [
      "<ipython-input-11-f0f531eb0249>:34: RuntimeWarning: invalid value encountered in double_scalars\n",
      "  f = 2 * precision * recall / (precision + recall)\n"
     ]
    },
    {
     "name": "stdout",
     "output_type": "stream",
     "text": [
      "< VALIDATION >\n",
      "*************************************************************************\n",
      "Validation Loss : 0.8119609293052416\n",
      "-------------------------------------------------------------------------\n",
      "Total Accuracy\n",
      "72.93650793650794 %\n",
      "-------------------------------------------------------------------------\n",
      "Confusion Matrix\n",
      "522 7   0   20  0   0   1   0   0   0   0   0   0   0   0   0   0   0   \n",
      "34  256 15  0   5   5   0   0   0   0   0   0   0   0   0   0   0   0   \n",
      "2   138 40  0   0   0   0   0   0   0   0   0   0   0   0   0   0   0   \n",
      "12  5   0   710 0   1   0   0   0   1   0   0   0   0   0   0   0   1   \n",
      "20  30  13  76  310 207 0   0   0   1   11  0   0   0   0   0   2   0   \n",
      "4   12  5   1   102 128 0   0   0   0   3   0   0   0   0   0   0   0   \n",
      "1   0   0   0   0   0   91  1   0   17  0   0   0   0   0   0   0   0   \n",
      "0   3   0   0   1   0   5   30  19  0   5   0   0   0   0   0   0   0   \n",
      "0   2   0   0   0   0   0   7   26  0   1   0   0   0   0   0   0   0   \n",
      "0   0   0   0   0   0   3   1   0   140 0   0   0   0   0   2   0   0   \n",
      "0   0   1   0   0   7   2   4   5   12  103 0   0   0   0   0   0   0   \n",
      "0   0   0   0   0   8   0   1   4   0   38  0   0   0   0   0   0   0   \n",
      "0   0   0   0   0   0   0   0   0   0   0   0   108 0   0   2   0   0   \n",
      "0   0   0   0   0   0   0   0   0   0   0   0   9   48  0   0   4   2   \n",
      "0   0   1   0   0   0   0   0   0   0   0   0   1   34  0   0   0   0   \n",
      "0   0   0   0   0   0   0   0   0   0   0   0   5   1   0   140 0   0   \n",
      "0   0   0   0   0   2   0   0   0   0   0   0   10  3   0   17  91  11  \n",
      "0   0   0   0   0   2   0   0   0   0   0   0   1   2   0   0   32  14  \n",
      "-------------------------------------------------------------------------\n",
      "Validation F1 score : 0.6033489097303417\n",
      "Class 0 : 0.9117903928538359\n",
      "Class 1 : 0.6666666664930555\n",
      "Class 2 : 0.31372548995001925\n",
      "Class 3 : 0.9238776836793914\n",
      "Class 4 : 0.5698529410717182\n",
      "Class 5 : 0.4162601624662569\n",
      "Class 6 : 0.8584905652278392\n",
      "Class 7 : 0.5607476625032753\n",
      "Class 8 : 0.5777777764938271\n",
      "Class 9 : 0.883280756540517\n",
      "Class 10 : 0.6983050842723356\n",
      "Class 11 : 0\n",
      "Class 12 : 0.885245900913733\n",
      "Class 13 : 0.6357615885619051\n",
      "Class 14 : 0\n",
      "Class 15 : 0.9120521166696729\n",
      "Class 16 : 0.692015208599228\n",
      "Class 17 : 0.35443037884954337\n"
     ]
    },
    {
     "name": "stderr",
     "output_type": "stream",
     "text": [
      " 50%|█████     | 473/945 [07:45<1:28:38, 11.27s/it]"
     ]
    },
    {
     "name": "stdout",
     "output_type": "stream",
     "text": [
      "model saved!\n",
      "*************************************************************************\n",
      "\n"
     ]
    },
    {
     "name": "stderr",
     "output_type": "stream",
     "text": [
      "100%|█████████▉| 944/945 [14:55<00:00,  1.10it/s]  "
     ]
    },
    {
     "name": "stdout",
     "output_type": "stream",
     "text": [
      "Train Loss : 0.7231628116791842\n",
      "Train Accuracy : 53.716931216931215\n"
     ]
    },
    {
     "name": "stderr",
     "output_type": "stream",
     "text": [
      "<ipython-input-11-f0f531eb0249>:34: RuntimeWarning: invalid value encountered in double_scalars\n",
      "  f = 2 * precision * recall / (precision + recall)\n"
     ]
    },
    {
     "name": "stdout",
     "output_type": "stream",
     "text": [
      "< VALIDATION >\n",
      "*************************************************************************\n",
      "Validation Loss : 0.7982050950014139\n",
      "-------------------------------------------------------------------------\n",
      "Total Accuracy\n",
      "79.8941798941799 %\n",
      "-------------------------------------------------------------------------\n",
      "Confusion Matrix\n",
      "513 10  5   10  11  0   1   0   0   0   0   0   0   0   0   0   0   0   \n",
      "15  207 37  0   56  0   0   0   0   0   0   0   0   0   0   0   0   0   \n",
      "0   47  129 0   4   0   0   0   0   0   0   0   0   0   0   0   0   0   \n",
      "17  1   2   664 44  1   0   0   0   1   0   0   0   0   0   0   0   0   \n",
      "0   3   2   15  636 10  0   0   0   1   3   0   0   0   0   0   0   0   \n",
      "0   0   8   0   217 30  0   0   0   0   0   0   0   0   0   0   0   0   \n",
      "1   0   0   0   0   0   100 1   1   5   2   0   0   0   0   0   0   0   \n",
      "0   1   1   0   0   0   3   41  7   0   10  0   0   0   0   0   0   0   \n",
      "0   0   11  0   0   0   0   9   14  0   2   0   0   0   0   0   0   0   \n",
      "0   0   0   0   0   0   2   0   0   139 3   0   0   0   0   2   0   0   \n",
      "0   0   0   0   1   1   0   0   0   7   125 0   0   0   0   0   0   0   \n",
      "0   0   0   0   0   3   0   2   1   0   45  0   0   0   0   0   0   0   \n",
      "0   0   0   0   0   0   0   0   0   0   0   0   105 0   0   2   3   0   \n",
      "0   0   0   0   0   0   0   0   0   0   0   0   2   47  0   0   14  0   \n",
      "0   0   4   0   0   0   0   0   0   0   0   0   0   30  0   0   2   0   \n",
      "0   0   1   0   0   0   0   0   0   0   0   0   2   0   0   139 4   0   \n",
      "0   0   0   0   0   0   0   0   0   0   0   0   0   0   0   6   128 0   \n",
      "0   0   0   0   0   0   0   0   0   0   0   0   0   2   0   0   46  3   \n",
      "-------------------------------------------------------------------------\n",
      "Validation F1 score : 0.6384710871108207\n",
      "Class 0 : 0.936131386690487\n",
      "Class 1 : 0.7089041093462657\n",
      "Class 2 : 0.6789473680637119\n",
      "Class 3 : 0.9358703310872629\n",
      "Class 4 : 0.7760829773305572\n",
      "Class 5 : 0.19999999986666667\n",
      "Class 6 : 0.9259259250685871\n",
      "Class 7 : 0.7068965505053508\n",
      "Class 8 : 0.47457626957770754\n",
      "Class 9 : 0.9297658856657084\n",
      "Class 10 : 0.7716049377953056\n",
      "Class 11 : 0\n",
      "Class 12 : 0.9589041087133295\n",
      "Class 13 : 0.6619718300535609\n",
      "Class 14 : 0\n",
      "Class 15 : 0.9423728807170354\n",
      "Class 16 : 0.7734138968136474\n",
      "Class 17 : 0.11111111069958848\n"
     ]
    },
    {
     "name": "stderr",
     "output_type": "stream",
     "text": [
      "100%|██████████| 945/945 [15:31<00:00,  1.01it/s]"
     ]
    },
    {
     "name": "stdout",
     "output_type": "stream",
     "text": [
      "model saved!\n",
      "*************************************************************************\n",
      "\n",
      "Epoch     3: adjusting learning rate of group 0 to 1.5250e-04.\n",
      "Epoch : 4\n"
     ]
    },
    {
     "name": "stderr",
     "output_type": "stream",
     "text": [
      "\n",
      " 50%|████▉     | 472/945 [07:09<07:12,  1.09it/s]"
     ]
    },
    {
     "name": "stdout",
     "output_type": "stream",
     "text": [
      "Train Loss : 0.706891433507141\n",
      "Train Accuracy : 54.38689217758985\n"
     ]
    },
    {
     "name": "stderr",
     "output_type": "stream",
     "text": [
      "<ipython-input-11-f0f531eb0249>:34: RuntimeWarning: invalid value encountered in double_scalars\n",
      "  f = 2 * precision * recall / (precision + recall)\n",
      " 50%|█████     | 473/945 [07:45<1:27:52, 11.17s/it]"
     ]
    },
    {
     "name": "stdout",
     "output_type": "stream",
     "text": [
      "< VALIDATION >\n",
      "*************************************************************************\n",
      "Validation Loss : 0.8041343827287859\n",
      "-------------------------------------------------------------------------\n",
      "Total Accuracy\n",
      "72.16931216931218 %\n",
      "-------------------------------------------------------------------------\n",
      "Confusion Matrix\n",
      "473 22  10  14  8   23  0   0   0   0   0   0   0   0   0   0   0   0   \n",
      "13  123 157 0   3   19  0   0   0   0   0   0   0   0   0   0   0   0   \n",
      "0   13  161 0   0   6   0   0   0   0   0   0   0   0   0   0   0   0   \n",
      "15  4   5   681 21  3   0   0   0   0   0   0   0   0   0   0   0   1   \n",
      "0   1   6   19  296 348 0   0   0   0   0   0   0   0   0   0   0   0   \n",
      "0   4   11  0   54  185 0   0   0   0   1   0   0   0   0   0   0   0   \n",
      "2   0   0   0   0   2   97  3   2   2   2   0   0   0   0   0   0   0   \n",
      "0   0   0   0   0   1   8   29  19  0   6   0   0   0   0   0   0   0   \n",
      "0   0   0   0   0   0   0   8   26  0   2   0   0   0   0   0   0   0   \n",
      "0   0   0   0   0   0   3   2   1   134 4   0   0   0   0   2   0   0   \n",
      "0   0   0   0   0   9   0   2   0   3   120 0   0   0   0   0   0   0   \n",
      "0   0   0   0   0   6   0   1   1   0   43  0   0   0   0   0   0   0   \n",
      "0   0   0   0   0   0   0   0   0   0   0   0   105 2   0   3   0   0   \n",
      "0   0   0   0   0   0   0   0   0   0   0   0   7   54  0   0   0   2   \n",
      "0   0   0   0   0   0   0   0   0   0   0   0   0   36  0   0   0   0   \n",
      "0   0   0   0   0   0   0   0   0   0   0   0   3   1   0   138 3   1   \n",
      "0   0   0   0   0   2   0   0   0   0   0   0   0   1   0   7   75  49  \n",
      "0   0   0   0   0   0   0   0   0   0   0   0   0   3   0   0   17  31  \n",
      "-------------------------------------------------------------------------\n",
      "Validation F1 score : 0.6309071680653097\n",
      "Class 0 : 0.8983855648815983\n",
      "Class 1 : 0.5103734437716293\n",
      "Class 2 : 0.6075471695820576\n",
      "Class 3 : 0.943213296268253\n",
      "Class 4 : 0.562737642478567\n",
      "Class 5 : 0.4307334108426698\n",
      "Class 6 : 0.8899082560643045\n",
      "Class 7 : 0.5370370360425241\n",
      "Class 8 : 0.6117647044429064\n",
      "Class 9 : 0.9403508765330871\n",
      "Class 10 : 0.7692307687376727\n",
      "Class 11 : 0\n",
      "Class 12 : 0.9333333325037038\n",
      "Class 13 : 0.6749999991562501\n",
      "Class 14 : 0\n",
      "Class 15 : 0.9324324318024106\n",
      "Class 16 : 0.655021833489064\n",
      "Class 17 : 0.4592592585788752\n",
      "model saved!\n",
      "*************************************************************************\n",
      "\n"
     ]
    },
    {
     "name": "stderr",
     "output_type": "stream",
     "text": [
      "100%|█████████▉| 944/945 [14:53<00:00,  1.11it/s]  "
     ]
    },
    {
     "name": "stdout",
     "output_type": "stream",
     "text": [
      "Train Loss : 0.7077491122578817\n",
      "Train Accuracy : 55.535714285714285\n"
     ]
    },
    {
     "name": "stderr",
     "output_type": "stream",
     "text": [
      "<ipython-input-11-f0f531eb0249>:34: RuntimeWarning: invalid value encountered in double_scalars\n",
      "  f = 2 * precision * recall / (precision + recall)\n"
     ]
    },
    {
     "name": "stdout",
     "output_type": "stream",
     "text": [
      "< VALIDATION >\n",
      "*************************************************************************\n",
      "Validation Loss : 0.793838004019693\n",
      "-------------------------------------------------------------------------\n",
      "Total Accuracy\n",
      "79.6031746031746 %\n",
      "-------------------------------------------------------------------------\n",
      "Confusion Matrix\n",
      "516 10  5   4   13  0   1   0   0   0   1   0   0   0   0   0   0   0   \n",
      "25  233 28  1   23  4   0   1   0   0   0   0   0   0   0   0   0   0   \n",
      "0   68  111 0   0   1   0   0   0   0   0   0   0   0   0   0   0   0   \n",
      "12  1   2   629 79  1   0   0   0   6   0   0   0   0   0   0   0   0   \n",
      "0   1   0   9   561 95  0   0   0   0   3   0   0   0   0   0   1   0   \n",
      "0   0   0   0   151 103 0   0   0   0   0   0   0   0   0   0   1   0   \n",
      "1   0   0   0   0   0   106 0   1   2   0   0   0   0   0   0   0   0   \n",
      "0   0   0   0   0   0   6   34  16  1   6   0   0   0   0   0   0   0   \n",
      "0   0   0   0   0   0   0   7   28  0   1   0   0   0   0   0   0   0   \n",
      "0   0   0   0   1   0   2   1   0   137 3   0   0   0   0   2   0   0   \n",
      "0   0   0   0   0   5   1   0   0   3   125 0   0   0   0   0   0   0   \n",
      "0   0   0   0   0   6   0   1   2   0   42  0   0   0   0   0   0   0   \n",
      "0   0   0   0   0   0   0   0   0   0   0   0   106 1   0   1   2   0   \n",
      "0   0   0   0   0   0   0   0   0   0   0   0   6   49  0   0   4   4   \n",
      "0   0   0   0   0   0   0   0   0   0   0   0   0   36  0   0   0   0   \n",
      "0   0   0   0   0   0   0   0   0   0   0   0   2   1   0   135 8   0   \n",
      "0   0   0   0   0   1   0   0   0   0   0   0   0   0   0   2   123 8   \n",
      "0   0   0   0   0   0   0   0   0   0   0   0   0   0   0   0   38  13  \n",
      "-------------------------------------------------------------------------\n",
      "Validation F1 score : 0.6726700192241295\n",
      "Class 0 : 0.9347826085263076\n",
      "Class 1 : 0.7420382163241915\n",
      "Class 2 : 0.6809815946742445\n",
      "Class 3 : 0.9162418061301906\n",
      "Class 4 : 0.7489986647865156\n",
      "Class 5 : 0.43736730342362323\n",
      "Class 6 : 0.9380530965149974\n",
      "Class 7 : 0.6355140175037122\n",
      "Class 8 : 0.6746987935549427\n",
      "Class 9 : 0.9288135586923297\n",
      "Class 10 : 0.7936507931468885\n",
      "Class 11 : 0\n",
      "Class 12 : 0.9464285705835459\n",
      "Class 13 : 0.6533333324622224\n",
      "Class 14 : 0\n",
      "Class 15 : 0.944055943395765\n",
      "Class 16 : 0.7909967840572368\n",
      "Class 17 : 0.34210526225761767\n"
     ]
    },
    {
     "name": "stderr",
     "output_type": "stream",
     "text": [
      "100%|██████████| 945/945 [15:28<00:00,  1.02it/s]"
     ]
    },
    {
     "name": "stdout",
     "output_type": "stream",
     "text": [
      "model saved!\n",
      "*************************************************************************\n",
      "\n",
      "Epoch     4: adjusting learning rate of group 0 to 7.8750e-05.\n",
      "Epoch : 5\n"
     ]
    },
    {
     "name": "stderr",
     "output_type": "stream",
     "text": [
      "\n",
      " 50%|████▉     | 472/945 [07:11<07:12,  1.09it/s]"
     ]
    },
    {
     "name": "stdout",
     "output_type": "stream",
     "text": [
      "Train Loss : 0.6968093075913556\n",
      "Train Accuracy : 56.68604651162791\n"
     ]
    },
    {
     "name": "stderr",
     "output_type": "stream",
     "text": [
      "<ipython-input-11-f0f531eb0249>:34: RuntimeWarning: invalid value encountered in double_scalars\n",
      "  f = 2 * precision * recall / (precision + recall)\n"
     ]
    },
    {
     "name": "stdout",
     "output_type": "stream",
     "text": [
      "< VALIDATION >\n",
      "*************************************************************************\n",
      "Validation Loss : 0.79009354843872\n",
      "-------------------------------------------------------------------------\n",
      "Total Accuracy\n",
      "81.24338624338624 %\n",
      "-------------------------------------------------------------------------\n",
      "Confusion Matrix\n",
      "535 8   1   6   0   0   0   0   0   0   0   0   0   0   0   0   0   0   \n",
      "30  255 14  0   13  3   0   0   0   0   0   0   0   0   0   0   0   0   \n",
      "0   92  88  0   0   0   0   0   0   0   0   0   0   0   0   0   0   0   \n",
      "14  0   3   711 2   0   0   0   0   0   0   0   0   0   0   0   0   0   \n",
      "4   1   2   41  517 105 0   0   0   0   0   0   0   0   0   0   0   0   \n",
      "0   0   5   0   148 102 0   0   0   0   0   0   0   0   0   0   0   0   \n",
      "1   0   0   0   0   0   106 1   0   2   0   0   0   0   0   0   0   0   \n",
      "0   0   0   0   1   0   7   44  2   0   9   0   0   0   0   0   0   0   \n",
      "0   0   0   0   0   0   0   17  17  0   2   0   0   0   0   0   0   0   \n",
      "0   0   0   0   0   0   4   0   0   139 1   0   0   0   0   2   0   0   \n",
      "0   0   0   0   0   2   1   0   0   5   126 0   0   0   0   0   0   0   \n",
      "0   0   0   0   0   2   0   0   2   0   47  0   0   0   0   0   0   0   \n",
      "0   0   0   0   0   0   0   0   0   0   0   0   109 0   0   1   0   0   \n",
      "0   0   0   0   0   0   0   0   0   0   0   0   5   53  0   0   5   0   \n",
      "0   0   0   0   0   0   0   0   0   0   0   0   0   36  0   0   0   0   \n",
      "0   0   0   0   0   0   0   0   0   0   0   0   4   1   0   141 0   0   \n",
      "0   0   0   0   0   0   0   0   0   0   0   0   1   0   0   4   115 14  \n",
      "0   0   0   0   0   0   0   0   0   0   0   0   0   1   0   0   37  13  \n",
      "-------------------------------------------------------------------------\n",
      "Validation F1 score : 0.6753215545346499\n",
      "Class 0 : 0.9435626100628638\n",
      "Class 1 : 0.7600596122920836\n",
      "Class 2 : 0.6006825934466331\n",
      "Class 3 : 0.9556451611618757\n",
      "Class 4 : 0.7653589932249655\n",
      "Class 5 : 0.4349680168720819\n",
      "Class 6 : 0.9298245605878732\n",
      "Class 7 : 0.7039999988736\n",
      "Class 8 : 0.5964912259772238\n",
      "Class 9 : 0.9520547938684557\n",
      "Class 10 : 0.7899686515423394\n",
      "Class 11 : 0\n",
      "Class 12 : 0.9519650646707729\n",
      "Class 13 : 0.688311687417777\n",
      "Class 14 : 0\n",
      "Class 15 : 0.9591836728168818\n",
      "Class 16 : 0.7903780063296371\n",
      "Class 17 : 0.33333333247863245\n"
     ]
    },
    {
     "name": "stderr",
     "output_type": "stream",
     "text": [
      " 50%|█████     | 473/945 [07:46<1:28:36, 11.26s/it]"
     ]
    },
    {
     "name": "stdout",
     "output_type": "stream",
     "text": [
      "model saved!\n",
      "*************************************************************************\n",
      "\n"
     ]
    },
    {
     "name": "stderr",
     "output_type": "stream",
     "text": [
      "100%|█████████▉| 944/945 [14:58<00:00,  1.11it/s]  "
     ]
    },
    {
     "name": "stdout",
     "output_type": "stream",
     "text": [
      "Train Loss : 0.6927880510451302\n",
      "Train Accuracy : 57.78439153439153\n"
     ]
    },
    {
     "name": "stderr",
     "output_type": "stream",
     "text": [
      "<ipython-input-11-f0f531eb0249>:34: RuntimeWarning: invalid value encountered in double_scalars\n",
      "  f = 2 * precision * recall / (precision + recall)\n"
     ]
    },
    {
     "name": "stdout",
     "output_type": "stream",
     "text": [
      "< VALIDATION >\n",
      "*************************************************************************\n",
      "Validation Loss : 0.7878045271217572\n",
      "-------------------------------------------------------------------------\n",
      "Total Accuracy\n",
      "81.74603174603175 %\n",
      "-------------------------------------------------------------------------\n",
      "Confusion Matrix\n",
      "529 12  2   6   0   0   1   0   0   0   0   0   0   0   0   0   0   0   \n",
      "20  259 25  1   7   3   0   0   0   0   0   0   0   0   0   0   0   0   \n",
      "0   84  96  0   0   0   0   0   0   0   0   0   0   0   0   0   0   0   \n",
      "10  0   4   705 11  0   0   0   0   0   0   0   0   0   0   0   0   0   \n",
      "2   18  2   28  536 73  0   0   0   1   10  0   0   0   0   0   0   0   \n",
      "0   1   7   0   156 88  0   0   0   0   3   0   0   0   0   0   0   0   \n",
      "1   0   0   0   0   0   105 1   0   2   0   0   1   0   0   0   0   0   \n",
      "0   0   0   0   0   0   6   50  3   1   3   0   0   0   0   0   0   0   \n",
      "0   0   0   0   0   0   0   18  17  0   1   0   0   0   0   0   0   0   \n",
      "0   0   0   0   0   0   2   0   0   142 0   0   0   0   0   2   0   0   \n",
      "0   0   0   0   0   0   0   0   0   6   128 0   0   0   0   0   0   0   \n",
      "0   0   0   0   0   0   0   2   1   0   47  0   0   0   0   0   0   1   \n",
      "0   0   0   0   0   0   0   0   0   0   0   0   108 0   0   2   0   0   \n",
      "0   0   0   0   0   0   0   0   0   0   0   0   7   52  0   0   3   1   \n",
      "0   0   0   0   0   0   0   0   0   0   0   0   0   36  0   0   0   0   \n",
      "0   0   0   0   0   0   0   0   0   0   0   0   2   1   0   141 2   0   \n",
      "0   0   0   0   0   0   0   0   0   0   0   0   0   0   0   4   119 11  \n",
      "0   0   0   0   0   0   0   0   0   0   0   0   0   0   0   0   36  15  \n",
      "-------------------------------------------------------------------------\n",
      "Validation F1 score : 0.6812349381998098\n",
      "Class 0 : 0.9514388487497413\n",
      "Class 1 : 0.7518142232941032\n",
      "Class 2 : 0.607594936324307\n",
      "Class 3 : 0.9591836733388867\n",
      "Class 4 : 0.7768115940903172\n",
      "Class 5 : 0.42004773249639726\n",
      "Class 6 : 0.9374999991629464\n",
      "Class 7 : 0.746268655602584\n",
      "Class 8 : 0.5964912259772238\n",
      "Class 9 : 0.9530201335885772\n",
      "Class 10 : 0.7852760731378674\n",
      "Class 11 : 0\n",
      "Class 12 : 0.9473684202216067\n",
      "Class 13 : 0.6842105254155124\n",
      "Class 14 : 0\n",
      "Class 15 : 0.955932202741741\n",
      "Class 16 : 0.809523808973113\n",
      "Class 17 : 0.3797468344816536\n"
     ]
    },
    {
     "name": "stderr",
     "output_type": "stream",
     "text": [
      "100%|██████████| 945/945 [15:33<00:00,  1.01it/s]"
     ]
    },
    {
     "name": "stdout",
     "output_type": "stream",
     "text": [
      "model saved!\n",
      "*************************************************************************\n",
      "\n",
      "Epoch     5: adjusting learning rate of group 0 to 2.4761e-05.\n",
      "Epoch : 6\n"
     ]
    },
    {
     "name": "stderr",
     "output_type": "stream",
     "text": [
      "\n",
      " 50%|████▉     | 472/945 [07:11<07:14,  1.09it/s]"
     ]
    },
    {
     "name": "stdout",
     "output_type": "stream",
     "text": [
      "Train Loss : 0.6774519170313507\n",
      "Train Accuracy : 59.96300211416491\n"
     ]
    },
    {
     "name": "stderr",
     "output_type": "stream",
     "text": [
      "<ipython-input-11-f0f531eb0249>:34: RuntimeWarning: invalid value encountered in double_scalars\n",
      "  f = 2 * precision * recall / (precision + recall)\n"
     ]
    },
    {
     "name": "stdout",
     "output_type": "stream",
     "text": [
      "< VALIDATION >\n",
      "*************************************************************************\n",
      "Validation Loss : 0.7865977053400837\n",
      "-------------------------------------------------------------------------\n",
      "Total Accuracy\n",
      "82.22222222222221 %\n",
      "-------------------------------------------------------------------------\n",
      "Confusion Matrix\n",
      "540 2   1   7   0   0   0   0   0   0   0   0   0   0   0   0   0   0   \n",
      "36  244 22  0   6   7   0   0   0   0   0   0   0   0   0   0   0   0   \n",
      "0   77  103 0   0   0   0   0   0   0   0   0   0   0   0   0   0   0   \n",
      "11  2   2   704 11  0   0   0   0   0   0   0   0   0   0   0   0   0   \n",
      "3   5   0   27  541 91  0   0   0   1   2   0   0   0   0   0   0   0   \n",
      "0   0   0   0   149 106 0   0   0   0   0   0   0   0   0   0   0   0   \n",
      "1   0   0   0   0   0   108 0   0   1   0   0   0   0   0   0   0   0   \n",
      "0   0   0   0   0   0   8   48  3   0   4   0   0   0   0   0   0   0   \n",
      "0   0   0   0   0   0   0   15  20  0   1   0   0   0   0   0   0   0   \n",
      "0   0   0   0   0   0   3   0   0   140 1   0   0   0   0   2   0   0   \n",
      "0   0   0   0   1   1   0   0   0   6   126 0   0   0   0   0   0   0   \n",
      "0   0   0   0   0   1   0   0   1   0   49  0   0   0   0   0   0   0   \n",
      "0   0   0   0   0   0   0   0   0   0   0   0   108 0   0   2   0   0   \n",
      "0   0   0   0   0   0   0   0   0   0   0   0   8   51  0   0   3   1   \n",
      "0   0   0   0   0   0   0   0   0   0   0   0   0   36  0   0   0   0   \n",
      "0   0   0   0   0   0   0   0   0   0   0   0   2   1   0   141 2   0   \n",
      "0   0   0   0   0   0   0   0   0   0   0   0   1   0   0   4   113 16  \n",
      "0   0   0   0   0   0   0   0   0   0   0   0   0   0   0   0   36  15  \n",
      "-------------------------------------------------------------------------\n",
      "Validation F1 score : 0.6897842845398537\n",
      "Class 0 : 0.9465381242863211\n",
      "Class 1 : 0.7565891470522205\n",
      "Class 2 : 0.6688311683968629\n",
      "Class 3 : 0.9591280652644241\n",
      "Class 4 : 0.7851959360253707\n",
      "Class 5 : 0.4598698479566725\n",
      "Class 6 : 0.9432314402242521\n",
      "Class 7 : 0.7619047606953893\n",
      "Class 8 : 0.6666666644444444\n",
      "Class 9 : 0.9523809517330742\n",
      "Class 10 : 0.7949526808864651\n",
      "Class 11 : 0\n",
      "Class 12 : 0.9432314402242521\n",
      "Class 13 : 0.6754966878470243\n",
      "Class 14 : 0\n",
      "Class 15 : 0.955932202741741\n",
      "Class 16 : 0.7847222216772763\n",
      "Class 17 : 0.3614457822615765\n"
     ]
    },
    {
     "name": "stderr",
     "output_type": "stream",
     "text": [
      " 50%|█████     | 473/945 [07:46<1:28:42, 11.28s/it]"
     ]
    },
    {
     "name": "stdout",
     "output_type": "stream",
     "text": [
      "model saved!\n",
      "*************************************************************************\n",
      "\n"
     ]
    },
    {
     "name": "stderr",
     "output_type": "stream",
     "text": [
      "100%|█████████▉| 944/945 [14:55<00:00,  1.10it/s]  "
     ]
    },
    {
     "name": "stdout",
     "output_type": "stream",
     "text": [
      "Train Loss : 0.6788233979984566\n",
      "Train Accuracy : 60.11904761904762\n"
     ]
    },
    {
     "name": "stderr",
     "output_type": "stream",
     "text": [
      "<ipython-input-11-f0f531eb0249>:34: RuntimeWarning: invalid value encountered in double_scalars\n",
      "  f = 2 * precision * recall / (precision + recall)\n"
     ]
    },
    {
     "name": "stdout",
     "output_type": "stream",
     "text": [
      "< VALIDATION >\n",
      "*************************************************************************\n",
      "Validation Loss : 0.784110338879034\n",
      "-------------------------------------------------------------------------\n",
      "Total Accuracy\n",
      "82.51322751322752 %\n",
      "-------------------------------------------------------------------------\n",
      "Confusion Matrix\n",
      "536 5   4   5   0   0   0   0   0   0   0   0   0   0   0   0   0   0   \n",
      "31  224 41  0   12  6   0   1   0   0   0   0   0   0   0   0   0   0   \n",
      "0   55  125 0   0   0   0   0   0   0   0   0   0   0   0   0   0   0   \n",
      "10  5   2   702 11  0   0   0   0   0   0   0   0   0   0   0   0   0   \n",
      "3   3   0   24  554 84  0   0   0   1   1   0   0   0   0   0   0   0   \n",
      "0   0   0   0   153 102 0   0   0   0   0   0   0   0   0   0   0   0   \n",
      "1   0   0   0   0   0   107 1   0   1   0   0   0   0   0   0   0   0   \n",
      "0   0   0   0   0   0   7   48  4   0   4   0   0   0   0   0   0   0   \n",
      "0   0   0   0   0   0   0   13  22  0   1   0   0   0   0   0   0   0   \n",
      "0   0   0   0   0   0   2   0   0   139 3   0   0   0   0   2   0   0   \n",
      "0   0   0   0   0   1   0   0   0   4   129 0   0   0   0   0   0   0   \n",
      "0   0   0   0   0   3   0   0   1   0   47  0   0   0   0   0   0   0   \n",
      "0   0   0   0   0   0   0   0   0   0   0   0   107 1   0   2   0   0   \n",
      "0   0   0   0   0   0   0   0   0   0   0   0   5   56  0   0   1   1   \n",
      "0   0   0   0   0   0   0   0   0   0   0   0   0   36  0   0   0   0   \n",
      "0   0   0   0   0   0   0   0   0   0   0   0   2   2   0   140 2   0   \n",
      "0   0   0   0   0   0   0   0   0   0   0   0   0   0   0   3   102 29  \n",
      "0   0   0   0   0   0   0   0   0   0   0   0   0   0   0   0   25  26  \n",
      "-------------------------------------------------------------------------\n",
      "Validation F1 score : 0.7028189608910849\n",
      "Class 0 : 0.9478337752523724\n",
      "Class 1 : 0.7380560129363901\n",
      "Class 2 : 0.7102272723237346\n",
      "Class 3 : 0.9609856261518159\n",
      "Class 4 : 0.7914285713155101\n",
      "Class 5 : 0.45232815944464383\n",
      "Class 6 : 0.9469026540292899\n",
      "Class 7 : 0.7619047606953893\n",
      "Class 8 : 0.6984126961955152\n",
      "Class 9 : 0.955326459824518\n",
      "Class 10 : 0.8087774289600141\n",
      "Class 11 : 0\n",
      "Class 12 : 0.9553571420041455\n",
      "Class 13 : 0.7088607585963786\n",
      "Class 14 : 0\n",
      "Class 15 : 0.955631398665098\n",
      "Class 16 : 0.7727272721418734\n",
      "Class 17 : 0.48598130750283863\n"
     ]
    },
    {
     "name": "stderr",
     "output_type": "stream",
     "text": [
      "100%|██████████| 945/945 [15:31<00:00,  1.01it/s]"
     ]
    },
    {
     "name": "stdout",
     "output_type": "stream",
     "text": [
      "model saved!\n",
      "*************************************************************************\n",
      "\n",
      "Epoch     6: adjusting learning rate of group 0 to 3.0000e-04.\n",
      "Epoch : 7\n"
     ]
    },
    {
     "name": "stderr",
     "output_type": "stream",
     "text": [
      "\n",
      " 50%|████▉     | 472/945 [07:11<07:09,  1.10it/s]"
     ]
    },
    {
     "name": "stdout",
     "output_type": "stream",
     "text": [
      "Train Loss : 0.7156486784680953\n",
      "Train Accuracy : 56.30285412262157\n"
     ]
    },
    {
     "name": "stderr",
     "output_type": "stream",
     "text": [
      "<ipython-input-11-f0f531eb0249>:34: RuntimeWarning: invalid value encountered in double_scalars\n",
      "  f = 2 * precision * recall / (precision + recall)\n",
      " 50%|█████     | 473/945 [07:46<1:27:53, 11.17s/it]"
     ]
    },
    {
     "name": "stdout",
     "output_type": "stream",
     "text": [
      "< VALIDATION >\n",
      "*************************************************************************\n",
      "Validation Loss : 0.8711921230650149\n",
      "-------------------------------------------------------------------------\n",
      "Total Accuracy\n",
      "47.32804232804233 %\n",
      "-------------------------------------------------------------------------\n",
      "Confusion Matrix\n",
      "452 43  0   8   0   0   2   35  3   4   2   0   0   1   0   0   0   0   \n",
      "16  123 4   1   0   0   0   170 0   0   1   0   0   0   0   0   0   0   \n",
      "0   73  61  0   0   2   0   37  5   0   2   0   0   0   0   0   0   0   \n",
      "23  3   1   269 1   1   0   5   5   307 11  0   0   0   0   104 0   0   \n",
      "31  50  1   29  84  51  0   49  9   20  343 0   0   0   0   0   3   0   \n",
      "10  16  1   3   17  47  0   26  7   0   128 0   0   0   0   0   0   0   \n",
      "5   0   0   0   0   0   92  8   0   3   0   0   2   0   0   0   0   0   \n",
      "0   1   0   0   0   0   2   53  1   0   5   0   1   0   0   0   0   0   \n",
      "0   0   3   0   0   0   0   24  5   0   3   0   0   0   1   0   0   0   \n",
      "0   0   0   1   0   0   4   2   0   136 1   0   0   0   0   2   0   0   \n",
      "0   2   0   0   0   1   4   17  1   11  97  0   1   0   0   0   0   0   \n",
      "0   0   0   0   0   2   0   10  3   2   34  0   0   0   0   0   0   0   \n",
      "0   0   0   0   0   0   0   1   0   0   0   0   105 2   0   2   0   0   \n",
      "0   0   0   0   0   0   0   32  1   0   0   0   4   24  0   0   2   0   \n",
      "0   0   0   0   0   0   0   7   0   0   0   0   0   22  6   0   1   0   \n",
      "0   0   1   0   0   1   0   0   0   0   0   0   7   0   0   137 0   0   \n",
      "0   0   0   0   0   0   0   1   0   0   3   0   8   23  0   4   93  2   \n",
      "0   0   0   0   0   0   0   0   0   0   1   0   2   14  2   0   27  5   \n",
      "-------------------------------------------------------------------------\n",
      "Validation F1 score : 0.4235156973348635\n",
      "Class 0 : 0.831646733977618\n",
      "Class 1 : 0.39297124588083987\n",
      "Class 2 : 0.48412698374275637\n",
      "Class 3 : 0.5168107587863957\n",
      "Class 4 : 0.21761658025450348\n",
      "Class 5 : 0.26111111096604933\n",
      "Class 6 : 0.8598130833085859\n",
      "Class 7 : 0.19629629622359396\n",
      "Class 8 : 0.13157894702216066\n",
      "Class 9 : 0.432432432294934\n",
      "Class 10 : 0.2535947711755308\n",
      "Class 11 : 0\n",
      "Class 12 : 0.8749999992708334\n",
      "Class 13 : 0.32214765057429845\n",
      "Class 14 : 0.2666666654814815\n",
      "Class 15 : 0.6936708857247237\n",
      "Class 16 : 0.7153846148343196\n",
      "Class 17 : 0.17241379250891795\n",
      "model saved!\n",
      "*************************************************************************\n",
      "\n"
     ]
    },
    {
     "name": "stderr",
     "output_type": "stream",
     "text": [
      "100%|█████████▉| 944/945 [14:54<00:00,  1.10it/s]  "
     ]
    },
    {
     "name": "stdout",
     "output_type": "stream",
     "text": [
      "Train Loss : 0.7238149764676574\n",
      "Train Accuracy : 54.33862433862434\n"
     ]
    },
    {
     "name": "stderr",
     "output_type": "stream",
     "text": [
      "<ipython-input-11-f0f531eb0249>:34: RuntimeWarning: invalid value encountered in double_scalars\n",
      "  f = 2 * precision * recall / (precision + recall)\n",
      "100%|██████████| 945/945 [15:30<00:00, 11.18s/it]"
     ]
    },
    {
     "name": "stdout",
     "output_type": "stream",
     "text": [
      "< VALIDATION >\n",
      "*************************************************************************\n",
      "Validation Loss : 0.8354692013957833\n",
      "-------------------------------------------------------------------------\n",
      "Total Accuracy\n",
      "59.338624338624335 %\n",
      "-------------------------------------------------------------------------\n",
      "Confusion Matrix\n",
      "268 194 0   4   60  16  0   0   0   0   0   0   0   8   0   0   0   0   \n",
      "1   225 14  0   36  11  0   0   0   0   0   0   0   25  1   0   1   1   \n",
      "0   42  27  0   11  91  0   0   1   0   0   0   0   7   0   0   1   0   \n",
      "11  4   1   420 260 29  0   0   0   1   1   0   0   1   0   2   0   0   \n",
      "0   50  0   4   530 61  0   1   0   0   6   0   0   5   0   0   13  0   \n",
      "0   17  0   0   190 45  0   0   0   0   0   0   0   0   0   0   3   0   \n",
      "0   2   0   0   0   0   83  1   18  1   3   0   0   2   0   0   0   0   \n",
      "0   1   0   0   0   0   1   25  23  0   11  0   0   2   0   0   0   0   \n",
      "0   0   0   0   0   1   0   3   28  0   2   0   0   1   0   0   1   0   \n",
      "0   0   0   0   0   0   3   0   0   108 33  0   0   0   0   2   0   0   \n",
      "0   0   0   2   4   4   0   0   2   0   121 0   0   1   0   0   0   0   \n",
      "0   0   0   0   1   6   0   0   0   0   44  0   0   0   0   0   0   0   \n",
      "0   0   0   0   0   1   0   0   0   0   0   0   82  17  1   0   9   0   \n",
      "0   0   0   0   0   0   0   0   0   0   0   0   2   43  2   0   16  0   \n",
      "0   0   0   0   0   0   0   0   0   0   0   0   0   10  14  0   5   7   \n",
      "0   0   0   3   0   0   0   0   0   0   0   0   3   0   1   94  45  0   \n",
      "0   0   0   1   0   0   0   0   0   0   0   0   0   0   0   1   126 6   \n",
      "0   0   0   0   0   1   0   0   0   0   0   0   0   1   0   0   45  4   \n",
      "-------------------------------------------------------------------------\n",
      "Validation F1 score : 0.5365258793270935\n",
      "Class 0 : 0.6457831323745101\n",
      "Class 1 : 0.5294117645813149\n",
      "Class 2 : 0.24324324302410522\n",
      "Class 3 : 0.7216494844120878\n",
      "Class 4 : 0.6015891032234292\n",
      "Class 5 : 0.17274472162274676\n",
      "Class 6 : 0.8426395930531578\n",
      "Class 7 : 0.5376344074459475\n",
      "Class 8 : 0.5185185175582989\n",
      "Class 9 : 0.8437499993408203\n",
      "Class 10 : 0.6816901404610197\n",
      "Class 11 : 0\n",
      "Class 12 : 0.8324873087995053\n",
      "Class 13 : 0.46236559090068213\n",
      "Class 14 : 0.5090909072396693\n",
      "Class 15 : 0.7673469381491047\n",
      "Class 16 : 0.63157894705184\n",
      "Class 17 : 0.11594202864944339\n",
      "model saved!\n",
      "*************************************************************************\n",
      "\n"
     ]
    },
    {
     "name": "stderr",
     "output_type": "stream",
     "text": [
      "100%|██████████| 945/945 [15:30<00:00,  1.02it/s]"
     ]
    },
    {
     "name": "stdout",
     "output_type": "stream",
     "text": [
      "Epoch     7: adjusting learning rate of group 0 to 2.8024e-04.\n",
      "Epoch : 8\n"
     ]
    },
    {
     "name": "stderr",
     "output_type": "stream",
     "text": [
      "\n",
      " 50%|████▉     | 472/945 [07:09<07:09,  1.10it/s]"
     ]
    },
    {
     "name": "stdout",
     "output_type": "stream",
     "text": [
      "Train Loss : 0.7259550555815908\n",
      "Train Accuracy : 52.616279069767444\n"
     ]
    },
    {
     "name": "stderr",
     "output_type": "stream",
     "text": [
      "<ipython-input-11-f0f531eb0249>:34: RuntimeWarning: invalid value encountered in double_scalars\n",
      "  f = 2 * precision * recall / (precision + recall)\n",
      " 50%|█████     | 473/945 [07:44<1:27:55, 11.18s/it]"
     ]
    },
    {
     "name": "stdout",
     "output_type": "stream",
     "text": [
      "< VALIDATION >\n",
      "*************************************************************************\n",
      "Validation Loss : 0.8109035491943359\n",
      "-------------------------------------------------------------------------\n",
      "Total Accuracy\n",
      "72.38095238095238 %\n",
      "-------------------------------------------------------------------------\n",
      "Confusion Matrix\n",
      "461 9   5   60  0   13  1   0   0   0   0   0   0   0   1   0   0   0   \n",
      "21  151 55  0   2   86  0   0   0   0   0   0   0   0   0   0   0   0   \n",
      "0   9   125 0   0   46  0   0   0   0   0   0   0   0   0   0   0   0   \n",
      "11  3   1   709 1   1   0   0   0   3   0   0   0   0   0   0   0   1   \n",
      "1   6   1   62  373 226 0   0   0   1   0   0   0   0   0   0   0   0   \n",
      "0   3   0   2   104 146 0   0   0   0   0   0   0   0   0   0   0   0   \n",
      "2   0   0   0   0   0   81  2   1   24  0   0   0   0   0   0   0   0   \n",
      "0   0   0   0   0   3   2   27  18  0   13  0   0   0   0   0   0   0   \n",
      "0   0   0   0   0   2   0   3   27  0   4   0   0   0   0   0   0   0   \n",
      "0   0   0   0   0   0   2   1   0   140 1   0   0   0   0   2   0   0   \n",
      "0   0   0   0   0   11  0   0   0   10  113 0   0   0   0   0   0   0   \n",
      "0   0   0   0   0   10  0   0   0   0   41  0   0   0   0   0   0   0   \n",
      "0   0   0   0   0   0   0   0   0   0   0   0   83  4   0   23  0   0   \n",
      "0   0   0   0   0   0   0   0   0   0   0   0   3   45  3   0   0   12  \n",
      "0   0   0   0   0   0   0   0   0   0   0   0   0   8   20  0   0   8   \n",
      "0   0   1   0   0   0   0   0   0   0   0   0   2   2   0   141 0   0   \n",
      "0   0   0   0   0   0   0   0   0   0   0   0   1   23  0   6   68  36  \n",
      "0   0   0   0   0   0   0   0   0   0   0   0   0   7   0   0   18  26  \n",
      "-------------------------------------------------------------------------\n",
      "Validation F1 score : 0.6515198707613302\n",
      "Class 0 : 0.8814531547071791\n",
      "Class 1 : 0.608870967496423\n",
      "Class 2 : 0.6793478257177459\n",
      "Class 3 : 0.9072296863842317\n",
      "Class 4 : 0.6486956520610964\n",
      "Class 5 : 0.3654568209348043\n",
      "Class 6 : 0.8265306114014994\n",
      "Class 7 : 0.562499998828125\n",
      "Class 8 : 0.6585365837596667\n",
      "Class 9 : 0.8641975303307423\n",
      "Class 10 : 0.7385620910205478\n",
      "Class 11 : 0\n",
      "Class 12 : 0.8341708534329942\n",
      "Class 13 : 0.5921052623788089\n",
      "Class 14 : 0.6666666644444444\n",
      "Class 15 : 0.8867924522724576\n",
      "Class 16 : 0.6181818176198347\n",
      "Class 17 : 0.38805970091334374\n",
      "model saved!\n",
      "*************************************************************************\n",
      "\n"
     ]
    },
    {
     "name": "stderr",
     "output_type": "stream",
     "text": [
      "100%|█████████▉| 944/945 [14:53<00:00,  1.09it/s]  "
     ]
    },
    {
     "name": "stdout",
     "output_type": "stream",
     "text": [
      "Train Loss : 0.722943322746842\n",
      "Train Accuracy : 53.08862433862434\n"
     ]
    },
    {
     "name": "stderr",
     "output_type": "stream",
     "text": [
      "<ipython-input-11-f0f531eb0249>:34: RuntimeWarning: invalid value encountered in double_scalars\n",
      "  f = 2 * precision * recall / (precision + recall)\n",
      "100%|██████████| 945/945 [15:28<00:00,  1.02it/s]"
     ]
    },
    {
     "name": "stdout",
     "output_type": "stream",
     "text": [
      "< VALIDATION >\n",
      "*************************************************************************\n",
      "Validation Loss : 0.824879927977228\n",
      "-------------------------------------------------------------------------\n",
      "Total Accuracy\n",
      "69.23280423280424 %\n",
      "-------------------------------------------------------------------------\n",
      "Confusion Matrix\n",
      "212 13  4   102 14  8   39  0   0   0   0   0   157 0   0   1   0   0   \n",
      "6   212 17  1   69  5   3   0   0   0   0   0   2   0   0   0   0   0   \n",
      "0   56  107 0   11  6   0   0   0   0   0   0   0   0   0   0   0   0   \n",
      "6   0   0   708 9   0   1   0   0   1   0   0   4   0   0   1   0   0   \n",
      "0   0   0   55  505 109 0   0   0   1   0   0   0   0   0   0   0   0   \n",
      "0   1   0   0   145 109 0   0   0   0   0   0   0   0   0   0   0   0   \n",
      "0   1   0   0   0   0   88  0   0   20  1   0   0   0   0   0   0   0   \n",
      "0   0   0   0   0   0   7   20  23  0   13  0   0   0   0   0   0   0   \n",
      "0   0   1   0   0   0   0   6   27  0   2   0   0   0   0   0   0   0   \n",
      "0   0   0   0   0   0   3   0   0   139 1   0   0   0   0   3   0   0   \n",
      "0   0   0   1   2   9   0   0   2   5   115 0   0   0   0   0   0   0   \n",
      "0   0   0   0   0   10  0   0   4   0   37  0   0   0   0   0   0   0   \n",
      "0   0   0   0   0   0   0   0   0   0   0   0   57  0   0   46  7   0   \n",
      "0   0   0   0   0   0   0   0   0   0   0   0   7   32  4   0   18  2   \n",
      "0   0   0   0   0   0   0   0   0   0   0   0   0   10  21  0   3   2   \n",
      "0   0   0   0   0   0   0   0   0   0   0   0   0   0   0   143 3   0   \n",
      "0   0   0   0   0   0   0   0   0   0   0   0   0   0   0   4   109 21  \n",
      "0   0   0   0   0   4   0   0   0   0   0   0   0   0   0   0   34  13  \n",
      "-------------------------------------------------------------------------\n",
      "Validation F1 score : 0.6013037192221263\n",
      "Class 0 : 0.5478036174295081\n",
      "Class 1 : 0.7090301000973142\n",
      "Class 2 : 0.6925566338559505\n",
      "Class 3 : 0.886662492061783\n",
      "Class 4 : 0.7087719297250845\n",
      "Class 5 : 0.42330097070939765\n",
      "Class 6 : 0.7011952185647847\n",
      "Class 7 : 0.44943820123721756\n",
      "Class 8 : 0.586956520463138\n",
      "Class 9 : 0.8910256404544709\n",
      "Class 10 : 0.7590759070897188\n",
      "Class 11 : 0\n",
      "Class 12 : 0.33827893154998284\n",
      "Class 13 : 0.6095238083628118\n",
      "Class 14 : 0.6885245879064767\n",
      "Class 15 : 0.83139534835384\n",
      "Class 16 : 0.7077922073326026\n",
      "Class 17 : 0.2921348308041914\n",
      "model saved!\n",
      "*************************************************************************\n",
      "\n",
      "Epoch     8: adjusting learning rate of group 0 to 2.2625e-04.\n",
      "Epoch : 9\n"
     ]
    },
    {
     "name": "stderr",
     "output_type": "stream",
     "text": [
      "\n",
      " 50%|████▉     | 472/945 [07:08<07:10,  1.10it/s]"
     ]
    },
    {
     "name": "stdout",
     "output_type": "stream",
     "text": [
      "Train Loss : 0.7205046324598865\n",
      "Train Accuracy : 52.98625792811839\n"
     ]
    },
    {
     "name": "stderr",
     "output_type": "stream",
     "text": [
      "<ipython-input-11-f0f531eb0249>:34: RuntimeWarning: invalid value encountered in double_scalars\n",
      "  f = 2 * precision * recall / (precision + recall)\n",
      " 50%|█████     | 473/945 [07:44<1:27:54, 11.18s/it]"
     ]
    },
    {
     "name": "stdout",
     "output_type": "stream",
     "text": [
      "< VALIDATION >\n",
      "*************************************************************************\n",
      "Validation Loss : 0.793563199948661\n",
      "-------------------------------------------------------------------------\n",
      "Total Accuracy\n",
      "79.17989417989418 %\n",
      "-------------------------------------------------------------------------\n",
      "Confusion Matrix\n",
      "501 3   1   41  1   0   1   0   0   0   0   0   0   2   0   0   0   0   \n",
      "19  272 15  0   8   0   0   1   0   0   0   0   0   0   0   0   0   0   \n",
      "0   115 64  0   1   0   0   0   0   0   0   0   0   0   0   0   0   0   \n",
      "10  4   0   710 6   0   0   0   0   0   0   0   0   0   0   0   0   0   \n",
      "3   23  1   49  500 94  0   0   0   0   0   0   0   0   0   0   0   0   \n",
      "1   19  7   0   134 94  0   0   0   0   0   0   0   0   0   0   0   0   \n",
      "2   0   0   0   0   0   104 0   1   3   0   0   0   0   0   0   0   0   \n",
      "0   1   1   0   1   0   3   53  4   0   0   0   0   0   0   0   0   0   \n",
      "0   0   0   0   0   0   0   18  17  0   1   0   0   0   0   0   0   0   \n",
      "0   1   0   4   0   0   2   0   0   136 1   0   0   0   0   2   0   0   \n",
      "0   1   0   0   4   2   1   4   3   9   109 0   0   0   0   0   0   1   \n",
      "0   0   0   0   1   4   0   5   3   0   36  0   0   0   0   0   0   2   \n",
      "0   0   0   0   0   0   0   0   0   0   0   0   104 2   0   3   1   0   \n",
      "0   0   0   0   0   0   0   0   0   0   0   0   2   59  1   0   1   0   \n",
      "0   0   0   0   0   0   0   0   0   0   0   0   0   29  6   0   1   0   \n",
      "0   0   0   2   0   0   0   0   0   0   0   0   2   1   0   138 3   0   \n",
      "0   0   0   0   0   0   0   0   0   0   0   0   1   2   0   5   114 12  \n",
      "0   0   0   0   0   0   0   0   0   0   0   0   0   6   0   0   33  12  \n",
      "-------------------------------------------------------------------------\n",
      "Validation F1 score : 0.673114661327904\n",
      "Class 0 : 0.92265193353174\n",
      "Class 1 : 0.721485410949208\n",
      "Class 2 : 0.4758364308729841\n",
      "Class 3 : 0.9244791665462918\n",
      "Class 4 : 0.7541478128575947\n",
      "Class 5 : 0.4187082403480142\n",
      "Class 6 : 0.9411764697364919\n",
      "Class 7 : 0.7361111100887345\n",
      "Class 8 : 0.5312499983398437\n",
      "Class 9 : 0.9251700673978436\n",
      "Class 10 : 0.775800711191601\n",
      "Class 11 : 0\n",
      "Class 12 : 0.9497716886303456\n",
      "Class 13 : 0.7195121942444973\n",
      "Class 14 : 0.2790697661438616\n",
      "Class 15 : 0.9387755095654587\n",
      "Class 16 : 0.7944250865544076\n",
      "Class 17 : 0.30769230690335303\n",
      "model saved!\n",
      "*************************************************************************\n",
      "\n"
     ]
    },
    {
     "name": "stderr",
     "output_type": "stream",
     "text": [
      "100%|█████████▉| 944/945 [14:50<00:00,  1.10it/s]  "
     ]
    },
    {
     "name": "stdout",
     "output_type": "stream",
     "text": [
      "Train Loss : 0.7186797856023072\n",
      "Train Accuracy : 53.366402116402114\n"
     ]
    },
    {
     "name": "stderr",
     "output_type": "stream",
     "text": [
      "<ipython-input-11-f0f531eb0249>:34: RuntimeWarning: invalid value encountered in double_scalars\n",
      "  f = 2 * precision * recall / (precision + recall)\n",
      "100%|██████████| 945/945 [15:25<00:00, 11.17s/it]"
     ]
    },
    {
     "name": "stdout",
     "output_type": "stream",
     "text": [
      "< VALIDATION >\n",
      "*************************************************************************\n",
      "Validation Loss : 0.7965419282390096\n",
      "-------------------------------------------------------------------------\n",
      "Total Accuracy\n",
      "77.3015873015873 %\n",
      "-------------------------------------------------------------------------\n",
      "Confusion Matrix\n",
      "523 2   5   10  6   0   4   0   0   0   0   0   0   0   0   0   0   0   \n",
      "16  169 113 0   14  0   0   3   0   0   0   0   0   0   0   0   0   0   \n",
      "0   44  134 0   0   0   0   1   1   0   0   0   0   0   0   0   0   0   \n",
      "13  0   0   683 31  1   0   0   0   2   0   0   0   0   0   0   0   0   \n",
      "9   14  22  15  492 110 0   0   0   0   8   0   0   0   0   0   0   0   \n",
      "0   3   2   0   155 93  0   0   0   0   2   0   0   0   0   0   0   0   \n",
      "1   0   0   0   0   0   100 2   1   4   2   0   0   0   0   0   0   0   \n",
      "0   1   0   0   0   0   2   37  18  0   5   0   0   0   0   0   0   0   \n",
      "0   0   1   0   0   0   0   8   26  0   1   0   0   0   0   0   0   0   \n",
      "0   0   0   4   0   0   2   0   0   136 2   0   0   0   0   2   0   0   \n",
      "0   0   0   0   0   2   0   9   5   4   113 0   0   0   0   0   0   1   \n",
      "0   0   0   0   0   2   0   5   4   0   33  0   0   0   0   0   0   7   \n",
      "0   0   0   0   0   0   0   0   0   0   0   0   95  5   0   9   1   0   \n",
      "0   0   0   0   0   0   0   0   0   0   0   0   1   54  8   0   0   0   \n",
      "0   0   0   0   0   0   0   0   0   0   0   0   0   13  23  0   0   0   \n",
      "0   0   0   0   0   0   0   0   0   0   0   0   2   0   1   142 1   0   \n",
      "0   0   0   0   0   0   0   0   0   0   0   0   1   27  5   3   88  10  \n",
      "0   0   0   0   0   0   0   0   0   0   0   0   0   19  1   0   17  14  \n",
      "-------------------------------------------------------------------------\n",
      "Validation F1 score : 0.6721916860483274\n",
      "Class 0 : 0.9406474818452073\n",
      "Class 1 : 0.616788320942778\n",
      "Class 2 : 0.5864332601372283\n",
      "Class 3 : 0.9472954228921922\n",
      "Class 4 : 0.7192982455088746\n",
      "Class 5 : 0.40172786159752577\n",
      "Class 6 : 0.9174311918188705\n",
      "Class 7 : 0.5781249990966797\n",
      "Class 8 : 0.5714285701726844\n",
      "Class 9 : 0.9315068486770501\n",
      "Class 10 : 0.753333332831111\n",
      "Class 11 : 0\n",
      "Class 12 : 0.9090909082209657\n",
      "Class 13 : 0.5966850822136077\n",
      "Class 14 : 0.6216216199415632\n",
      "Class 15 : 0.9403973503705978\n",
      "Class 16 : 0.7302904558254851\n",
      "Class 17 : 0.33734939677747133\n",
      "model saved!\n",
      "*************************************************************************\n",
      "\n"
     ]
    },
    {
     "name": "stderr",
     "output_type": "stream",
     "text": [
      "100%|██████████| 945/945 [15:25<00:00,  1.02it/s]"
     ]
    },
    {
     "name": "stdout",
     "output_type": "stream",
     "text": [
      "Epoch     9: adjusting learning rate of group 0 to 1.5250e-04.\n",
      "Epoch : 10\n"
     ]
    },
    {
     "name": "stderr",
     "output_type": "stream",
     "text": [
      "\n",
      " 35%|███▌      | 334/945 [05:04<09:18,  1.09it/s]"
     ]
    }
   ],
   "source": [
    "folder = '/opt/ml/weights/{}'.format(config['model'])\n",
    "if not os.path.exists(folder):\n",
    "    os.mkdir(folder)\n",
    "\n",
    "for epoch in range(config['epochs']):\n",
    "    print(\"Epoch :\", epoch + 1)\n",
    "    train_running_loss = 0.0\n",
    "    train_running_correct = 0\n",
    "    counter = 0\n",
    "    total = 0\n",
    "    train_running_loss = 0.0\n",
    "    train_running_correct = 0\n",
    "    \n",
    "    total_it = int(len(dataset_train)/train_dataloader.batch_size)\n",
    "    prog_bar = tqdm(enumerate(train_dataloader), total=total_it)\n",
    "    for i, (images, labels) in prog_bar:\n",
    "        \n",
    "        counter += 1\n",
    "        total += labels.size(0)\n",
    "        \n",
    "        optimizer.zero_grad()\n",
    "        images = images.to(device)\n",
    "        labels = labels.to(device)\n",
    "        \n",
    "        if \"cutmix\" in config['augmentation']:\n",
    "            if config['beta'] > 0 and np.random.random() > 0.5: # cutmix가 실행될 경우     \n",
    "                    lam = np.random.beta(config['beta'], config['beta'])\n",
    "                    rand_index = torch.randperm(images.size()[0]).to(device)\n",
    "                    target_a = labels # 원본 이미지 label\n",
    "                    target_b = labels[rand_index] # 패치 이미지 label       \n",
    "                    bbx1, bby1, bbx2, bby2 = rand_bbox(images.size(), lam)\n",
    "                    images[:, :, bbx1:bbx2, bby1:bby2] = images[rand_index, :, bbx1:bbx2, bby1:bby2]\n",
    "                    lam = 1 - ((bbx2 - bbx1) * (bby2 - bby1) / (images.size()[-1] * images.size()[-2]))\n",
    "                    outputs = model(images)\n",
    "                    loss = criterion(outputs, target_a) * lam + criterion(outputs, target_b) * (1. - lam) # 패치 이미지와 원본 이미지의 비율에 맞게 loss를 계산을 해주는 부분\n",
    "\n",
    "            else: # cutmix가 실행되지 않았을 경우\n",
    "                outputs = model(images) \n",
    "                loss = criterion(outputs, labels)\n",
    "        \n",
    "        else:\n",
    "            outputs = model(images)\n",
    "            loss = criterion(outputs, labels)\n",
    "            counter += 1\n",
    "            \n",
    "           \n",
    "        _, preds= torch.max(outputs, 1) \n",
    "#         _, preds = torch.max(outputs.data, 1)\n",
    "        \n",
    "        \n",
    "        \n",
    "        loss.backward()\n",
    "\n",
    "        optimizer.step() \n",
    "        train_running_loss += loss.item()\n",
    "        train_running_correct += (preds == labels).sum().item()\n",
    "        \n",
    "        \n",
    "        del images\n",
    "        del labels\n",
    "        torch.cuda.empty_cache()\n",
    "        \n",
    "        \n",
    "        \n",
    "        if i == total_it//2 or i == total_it-1:\n",
    "            train_loss = train_running_loss / counter\n",
    "            train_accuracy = 100. * train_running_correct / total\n",
    "            \n",
    "            print(\"Train Loss :\", train_loss)\n",
    "            print(\"Train Accuracy :\", train_accuracy)\n",
    "            wandb.log({\"Train Loss\" : train_loss,\n",
    "                      \"Train Accuracy\" : train_accuracy})\n",
    "            try:\n",
    "                check()\n",
    "            except:\n",
    "                pass\n",
    "    scheduler.step()\n",
    "print(\"Finish\")"
   ]
  },
  {
   "cell_type": "markdown",
   "id": "b5d8c054-35f0-460b-a26c-8d4bcf76981f",
   "metadata": {
    "tags": []
   },
   "source": [
    "## Load Best Model"
   ]
  },
  {
   "cell_type": "code",
   "execution_count": null,
   "id": "7d2ffe99-f672-4c06-a95f-bc9e6514776b",
   "metadata": {},
   "outputs": [],
   "source": [
    "model.load_state_dict(torch.load('/opt/ml/weights/{}/{:.4f}.pt'.format(config['model'], model.best_f1))), model.best_f1\n",
    "\n",
    "# Q = \"0.7737\"\n",
    "# model.load_state_dict(torch.load('/opt/ml/weights/{}/{}.pt'.format(config['model'], Q)))\n",
    "# model.best_f1 = Q"
   ]
  },
  {
   "cell_type": "markdown",
   "id": "72d88042-fc04-4f8f-a577-18d5a62f5b8a",
   "metadata": {},
   "source": [
    "## Testing"
   ]
  },
  {
   "cell_type": "code",
   "execution_count": null,
   "id": "a1f9301c-33a1-435c-8534-9d5ffb2f4d35",
   "metadata": {},
   "outputs": [],
   "source": [
    "# meta 데이터와 이미지 경로를 불러옵니다.\n",
    "test_dir = '/opt/ml/input/data/eval'\n",
    "submission = pd.read_csv(os.path.join(test_dir, 'info.csv'))\n",
    "image_dir = os.path.join(test_dir, 'new_images')\n",
    "\n",
    "# Test Dataset 클래스 객체를 생성하고 DataLoader를 만듭니다.\n",
    "image_paths = [os.path.join(image_dir, img_id) for img_id in submission.ImageID]\n",
    "dataset = TestDataset(image_paths, transform=test_transform)\n",
    "\n",
    "loader = DataLoader(\n",
    "    dataset,\n",
    "    shuffle=False,\n",
    "    batch_size=32,\n",
    "    num_workers=3\n",
    ")\n",
    "\n",
    "model.eval()\n",
    "# 모델이 테스트 데이터셋을 예측하고 결과를 저장합니다.\n",
    "all_predictions = []\n",
    "\n",
    "prog_bar = tqdm(enumerate(loader), total=int(len(dataset)/loader.batch_size))\n",
    "for i, images in prog_bar:\n",
    "    with torch.no_grad():\n",
    "        images = images.to(device)\n",
    "        pred = model(images)\n",
    "        pred = pred.argmax(dim=-1)\n",
    "        all_predictions.extend(pred.cpu().numpy())\n",
    "submission['ans'] = all_predictions\n",
    "\n",
    "# 제출할 파일을 저장합니다.\n",
    "submission.to_csv(os.path.join(test_dir, '{}_{}.csv'.format(config['model'], model.best_f1)), index=False)\n",
    "print('test inference is done!', config['model'])"
   ]
  },
  {
   "cell_type": "code",
   "execution_count": null,
   "id": "ad864cf0-4577-4099-bf31-144020aea524",
   "metadata": {},
   "outputs": [],
   "source": [
    "\n",
    "# meta 데이터와 이미지 경로를 불러옵니다.\n",
    "test_dir = '/opt/ml/input/data/eval'\n",
    "submission = pd.read_csv(os.path.join(test_dir, 'info.csv'))\n",
    "image_dir = os.path.join(test_dir, 'new_images')\n",
    "\n",
    "# Test Dataset 클래스 객체를 생성하고 DataLoader를 만듭니다.\n",
    "image_paths = [os.path.join(image_dir, img_id) for img_id in submission.ImageID]\n",
    "\n",
    "idx = 200\n",
    "image = cv2.imread(image_paths[idx])\n",
    "image = cv2.cvtColor(image, cv2.COLOR_BGR2RGB)\n",
    "plt.imshow(image)\n",
    "\n",
    "image = test_transform(image=image)['image'].to(device)\n",
    "image = image.unsqueeze(0)\n",
    "pred = model(image)\n",
    "label = np.argmax(pred.detach().cpu().numpy())\n",
    "\n",
    "masklabel = {0: \"Mask\", 1: \"Incorrect\", 2: \"Normal\"}\n",
    "genderlabel = {0: \"Male\", 1: \"Female\"}\n",
    "agelabel = {0: \"~ 30\", 1: \"30 ~ 60\", 2: \"60 ~\"}\n",
    "\n",
    "feature_to_label = {}\n",
    "features = [(m, g, a) for m in ['Mask', 'Incorrect', 'Normal'] for g in ['Male', 'Female'] for a in [\"~ 30\", \"30 ~ 60\", \"60 ~\"]]\n",
    "for i, (m, g, a) in enumerate(features):\n",
    "    feature_to_label[(m, g, a)] = i\n",
    "\n",
    "label_to_feature = { feature_to_label[k]:k for k in feature_to_label}\n",
    "m, g, a = label_to_feature[label]\n",
    "print(m)\n",
    "print(g)\n",
    "print(a)\n"
   ]
  },
  {
   "cell_type": "code",
   "execution_count": null,
   "id": "00159628-cbed-4f73-8c72-6bbecdfc4f01",
   "metadata": {},
   "outputs": [],
   "source": []
  }
 ],
 "metadata": {
  "kernelspec": {
   "display_name": "Python 3 (ipykernel)",
   "language": "python",
   "name": "python3"
  },
  "language_info": {
   "codemirror_mode": {
    "name": "ipython",
    "version": 3
   },
   "file_extension": ".py",
   "mimetype": "text/x-python",
   "name": "python",
   "nbconvert_exporter": "python",
   "pygments_lexer": "ipython3",
   "version": "3.8.5"
  }
 },
 "nbformat": 4,
 "nbformat_minor": 5
}
