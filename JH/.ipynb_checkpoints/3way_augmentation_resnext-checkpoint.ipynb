{
 "cells": [
  {
   "cell_type": "code",
   "execution_count": 1,
   "id": "cubic-scoop",
   "metadata": {},
   "outputs": [],
   "source": [
    "import os\n",
    "import pandas as pd\n",
    "import numpy as np\n",
    "from PIL import Image\n",
    "import matplotlib.pyplot as plt\n",
    "import albumentations as A\n",
    "import albumentations.pytorch\n",
    "import cv2\n",
    "import torchvision.models\n",
    "\n",
    "import torch\n",
    "import torch.nn as nn\n",
    "import torch.nn.functional as F\n",
    "from torch.utils.data import Dataset, DataLoader\n",
    "\n",
    "from torchvision import transforms\n",
    "from torchvision.transforms import Resize, ToTensor, Normalize\n",
    "from tqdm import tqdm"
   ]
  },
  {
   "cell_type": "code",
   "execution_count": 2,
   "id": "eb8f33ff-a325-4a5e-95f9-27f0a0cb131c",
   "metadata": {},
   "outputs": [
    {
     "name": "stdout",
     "output_type": "stream",
     "text": [
      "CUDA GPU available : True\n",
      "1 GPU(s) is(are) allocated\n"
     ]
    }
   ],
   "source": [
    "print('CUDA GPU available : {}'.format(torch.cuda.is_available()))\n",
    "try:\n",
    "    print('{} GPU(s) is(are) allocated'.format(torch.cuda.device_count()))\n",
    "except:\n",
    "    print('GPUs are not allocated. Current runtime is on CPU.')\n",
    "device = torch.device(\"cuda\")\n",
    "CUDA_LAUNCH_BLOCKING=1"
   ]
  },
  {
   "cell_type": "code",
   "execution_count": 3,
   "id": "built-elevation",
   "metadata": {},
   "outputs": [],
   "source": [
    "# 테스트 데이터셋 폴더 경로를 지정해주세요.\n",
    "test_dir = '/opt/ml/input/data/eval'\n",
    "train_dir = '/opt/ml/input/data/train'\n",
    "model_dir = '/opt/ml/weights/3way/'\n",
    "labels_to_class = {}\n",
    "it = [(m, g, a) for m in [0,1,2] for g in [0, 1] for a in [0, 1, 2]]\n",
    "for i, (m, g, a) in enumerate(it):\n",
    "    labels_to_class[(m, g, a)] = i"
   ]
  },
  {
   "cell_type": "markdown",
   "id": "domestic-channels",
   "metadata": {},
   "source": [
    "## Dataset"
   ]
  },
  {
   "cell_type": "code",
   "execution_count": 4,
   "id": "extensive-north",
   "metadata": {},
   "outputs": [],
   "source": [
    "class TrainDataset(Dataset):\n",
    "    def __init__(self, train_dir, is_Train=True, transform=None):\n",
    "        super().__init__()\n",
    "        \n",
    "        csv_path = os.path.join(train_dir, 'train.csv')\n",
    "        csv = pd.read_csv(csv_path)\n",
    "        self.image_dir = os.path.join(train_dir, 'images')\n",
    "        self.transform = transform\n",
    "        self.image_path = []\n",
    "        path = csv['path']\n",
    "        \n",
    "        for p in path:\n",
    "            images = [os.path.join(*[self.image_dir, p, image]) for image in os.listdir(os.path.join(self.image_dir, p)) if not image[:1] == '.']\n",
    "            for image in images:\n",
    "                self.image_path.append(image)\n",
    "\n",
    "    def __len__(self):\n",
    "        return len(self.image_path)\n",
    "\n",
    "    def __getitem__(self, idx):\n",
    "        image_name = self.image_path[idx]\n",
    "        image = cv2.imread(image_name)\n",
    "        image = cv2.cvtColor(image, cv2.COLOR_BGR2RGB)\n",
    "        \n",
    "        features = image_name.split('/')[-2:]\n",
    "        \n",
    "        masktoint = {'m' : 0, 'i' : 1, 'n' : 2}\n",
    "        gendertoint = {'male' : 0, 'female' : 1}\n",
    "        \n",
    "        mask = masktoint[features[1][0]]\n",
    "        age = int(features[0].split('_')[-1])\n",
    "        gender = gendertoint[features[0].split('_')[1]]\n",
    "        \n",
    "        if age >= 58: # 원래 60\n",
    "            age = 2\n",
    "        elif age >= 30: # 원래 30\n",
    "            age = 1\n",
    "        else:\n",
    "            age = 0        \n",
    "        \n",
    "        if self.transform:\n",
    "            image = self.transform(image=image)['image']\n",
    "        \n",
    "        return image, (mask, gender, age)\n",
    "\n",
    "class TestDataset(Dataset):\n",
    "    def __init__(self, img_paths, transform):\n",
    "        self.img_paths = img_paths\n",
    "        self.transform = transform\n",
    "\n",
    "    def __getitem__(self, index):\n",
    "        image = cv2.imread(self.img_paths[index])\n",
    "        image = cv2.cvtColor(image, cv2.COLOR_BGR2RGB)\n",
    "        if self.transform:\n",
    "            image = self.transform(image=image)['image']\n",
    "        return image\n",
    "\n",
    "    def __len__(self):\n",
    "        return len(self.img_paths)"
   ]
  },
  {
   "cell_type": "code",
   "execution_count": 5,
   "id": "596e6a97-3fe9-458a-9455-ace9d7a99877",
   "metadata": {},
   "outputs": [],
   "source": [
    "from torch.utils.data.dataset import random_split\n",
    "tfms = A.Compose([\n",
    "        A.augmentations.crops.transforms.CenterCrop(400, 360, p=1.0),\n",
    "        A.augmentations.geometric.resize.Resize(224, 224, interpolation=1, p=1),\n",
    "        A.HorizontalFlip(p=0.5),\n",
    "        A.ShiftScaleRotate(shift_limit=0.05, scale_limit=0.05, rotate_limit=10, p=0.6),\n",
    "        A.RandomBrightnessContrast(brightness_limit=0.1, p=0.6),\n",
    "        A.GaussNoise(p=0.5),\n",
    "        A.transforms.Normalize(mean=(0.485, 0.456, 0.406), std=(0.229, 0.224, 0.225), max_pixel_value=255.0, p=1.0),\n",
    "        A.pytorch.transforms.ToTensorV2(),\n",
    "    ])\n",
    "tfms_test = A.Compose([\n",
    "        A.augmentations.crops.transforms.CenterCrop(400, 360, p=1.0),\n",
    "        A.augmentations.geometric.resize.Resize(224, 224, interpolation=1, p=1),\n",
    "        A.transforms.Normalize(mean=(0.485, 0.456, 0.406), std=(0.229, 0.224, 0.225), max_pixel_value=255.0, p=1.0),\n",
    "        A.pytorch.transforms.ToTensorV2(),\n",
    "    ])\n",
    "dataset = TrainDataset(train_dir, transform=tfms)\n",
    "train_dataset, val_dataset = random_split(dataset, [int(len(dataset)*0.8),int(len(dataset)*0.2)])\n",
    "# print(len(dataset))\n",
    "# plt.imshow(np.array(train_dataset[312][0]['image'].permute(1,2,0)))\n",
    "train_loader = DataLoader(train_dataset, batch_size=32, shuffle=True, num_workers=4, drop_last=False)\n",
    "val_loader   = DataLoader(dataset=val_dataset, num_workers=4, batch_size=32)"
   ]
  },
  {
   "cell_type": "code",
   "execution_count": 6,
   "id": "6aeacde3-f357-4129-a73a-2000a48d315f",
   "metadata": {},
   "outputs": [],
   "source": [
    "# plt.imshow(np.array(train_dataset[312][0]['image'].permute(1,2,0)))"
   ]
  },
  {
   "cell_type": "markdown",
   "id": "21006028-25ad-4414-8bae-730a3bcc33e2",
   "metadata": {
    "tags": []
   },
   "source": [
    "## Model"
   ]
  },
  {
   "cell_type": "code",
   "execution_count": 7,
   "id": "a3174fa2-72d4-475b-bffd-ad23c4669521",
   "metadata": {},
   "outputs": [
    {
     "data": {
      "text/plain": [
       "Way3(\n",
       "  (resnext): ResNet(\n",
       "    (conv1): Conv2d(3, 64, kernel_size=(7, 7), stride=(2, 2), padding=(3, 3), bias=False)\n",
       "    (bn1): BatchNorm2d(64, eps=1e-05, momentum=0.1, affine=True, track_running_stats=True)\n",
       "    (relu): ReLU(inplace=True)\n",
       "    (maxpool): MaxPool2d(kernel_size=3, stride=2, padding=1, dilation=1, ceil_mode=False)\n",
       "    (layer1): Sequential(\n",
       "      (0): Bottleneck(\n",
       "        (conv1): Conv2d(64, 128, kernel_size=(1, 1), stride=(1, 1), bias=False)\n",
       "        (bn1): BatchNorm2d(128, eps=1e-05, momentum=0.1, affine=True, track_running_stats=True)\n",
       "        (conv2): Conv2d(128, 128, kernel_size=(3, 3), stride=(1, 1), padding=(1, 1), groups=32, bias=False)\n",
       "        (bn2): BatchNorm2d(128, eps=1e-05, momentum=0.1, affine=True, track_running_stats=True)\n",
       "        (conv3): Conv2d(128, 256, kernel_size=(1, 1), stride=(1, 1), bias=False)\n",
       "        (bn3): BatchNorm2d(256, eps=1e-05, momentum=0.1, affine=True, track_running_stats=True)\n",
       "        (relu): ReLU(inplace=True)\n",
       "        (downsample): Sequential(\n",
       "          (0): Conv2d(64, 256, kernel_size=(1, 1), stride=(1, 1), bias=False)\n",
       "          (1): BatchNorm2d(256, eps=1e-05, momentum=0.1, affine=True, track_running_stats=True)\n",
       "        )\n",
       "      )\n",
       "      (1): Bottleneck(\n",
       "        (conv1): Conv2d(256, 128, kernel_size=(1, 1), stride=(1, 1), bias=False)\n",
       "        (bn1): BatchNorm2d(128, eps=1e-05, momentum=0.1, affine=True, track_running_stats=True)\n",
       "        (conv2): Conv2d(128, 128, kernel_size=(3, 3), stride=(1, 1), padding=(1, 1), groups=32, bias=False)\n",
       "        (bn2): BatchNorm2d(128, eps=1e-05, momentum=0.1, affine=True, track_running_stats=True)\n",
       "        (conv3): Conv2d(128, 256, kernel_size=(1, 1), stride=(1, 1), bias=False)\n",
       "        (bn3): BatchNorm2d(256, eps=1e-05, momentum=0.1, affine=True, track_running_stats=True)\n",
       "        (relu): ReLU(inplace=True)\n",
       "      )\n",
       "      (2): Bottleneck(\n",
       "        (conv1): Conv2d(256, 128, kernel_size=(1, 1), stride=(1, 1), bias=False)\n",
       "        (bn1): BatchNorm2d(128, eps=1e-05, momentum=0.1, affine=True, track_running_stats=True)\n",
       "        (conv2): Conv2d(128, 128, kernel_size=(3, 3), stride=(1, 1), padding=(1, 1), groups=32, bias=False)\n",
       "        (bn2): BatchNorm2d(128, eps=1e-05, momentum=0.1, affine=True, track_running_stats=True)\n",
       "        (conv3): Conv2d(128, 256, kernel_size=(1, 1), stride=(1, 1), bias=False)\n",
       "        (bn3): BatchNorm2d(256, eps=1e-05, momentum=0.1, affine=True, track_running_stats=True)\n",
       "        (relu): ReLU(inplace=True)\n",
       "      )\n",
       "    )\n",
       "    (layer2): Sequential(\n",
       "      (0): Bottleneck(\n",
       "        (conv1): Conv2d(256, 256, kernel_size=(1, 1), stride=(1, 1), bias=False)\n",
       "        (bn1): BatchNorm2d(256, eps=1e-05, momentum=0.1, affine=True, track_running_stats=True)\n",
       "        (conv2): Conv2d(256, 256, kernel_size=(3, 3), stride=(2, 2), padding=(1, 1), groups=32, bias=False)\n",
       "        (bn2): BatchNorm2d(256, eps=1e-05, momentum=0.1, affine=True, track_running_stats=True)\n",
       "        (conv3): Conv2d(256, 512, kernel_size=(1, 1), stride=(1, 1), bias=False)\n",
       "        (bn3): BatchNorm2d(512, eps=1e-05, momentum=0.1, affine=True, track_running_stats=True)\n",
       "        (relu): ReLU(inplace=True)\n",
       "        (downsample): Sequential(\n",
       "          (0): Conv2d(256, 512, kernel_size=(1, 1), stride=(2, 2), bias=False)\n",
       "          (1): BatchNorm2d(512, eps=1e-05, momentum=0.1, affine=True, track_running_stats=True)\n",
       "        )\n",
       "      )\n",
       "      (1): Bottleneck(\n",
       "        (conv1): Conv2d(512, 256, kernel_size=(1, 1), stride=(1, 1), bias=False)\n",
       "        (bn1): BatchNorm2d(256, eps=1e-05, momentum=0.1, affine=True, track_running_stats=True)\n",
       "        (conv2): Conv2d(256, 256, kernel_size=(3, 3), stride=(1, 1), padding=(1, 1), groups=32, bias=False)\n",
       "        (bn2): BatchNorm2d(256, eps=1e-05, momentum=0.1, affine=True, track_running_stats=True)\n",
       "        (conv3): Conv2d(256, 512, kernel_size=(1, 1), stride=(1, 1), bias=False)\n",
       "        (bn3): BatchNorm2d(512, eps=1e-05, momentum=0.1, affine=True, track_running_stats=True)\n",
       "        (relu): ReLU(inplace=True)\n",
       "      )\n",
       "      (2): Bottleneck(\n",
       "        (conv1): Conv2d(512, 256, kernel_size=(1, 1), stride=(1, 1), bias=False)\n",
       "        (bn1): BatchNorm2d(256, eps=1e-05, momentum=0.1, affine=True, track_running_stats=True)\n",
       "        (conv2): Conv2d(256, 256, kernel_size=(3, 3), stride=(1, 1), padding=(1, 1), groups=32, bias=False)\n",
       "        (bn2): BatchNorm2d(256, eps=1e-05, momentum=0.1, affine=True, track_running_stats=True)\n",
       "        (conv3): Conv2d(256, 512, kernel_size=(1, 1), stride=(1, 1), bias=False)\n",
       "        (bn3): BatchNorm2d(512, eps=1e-05, momentum=0.1, affine=True, track_running_stats=True)\n",
       "        (relu): ReLU(inplace=True)\n",
       "      )\n",
       "      (3): Bottleneck(\n",
       "        (conv1): Conv2d(512, 256, kernel_size=(1, 1), stride=(1, 1), bias=False)\n",
       "        (bn1): BatchNorm2d(256, eps=1e-05, momentum=0.1, affine=True, track_running_stats=True)\n",
       "        (conv2): Conv2d(256, 256, kernel_size=(3, 3), stride=(1, 1), padding=(1, 1), groups=32, bias=False)\n",
       "        (bn2): BatchNorm2d(256, eps=1e-05, momentum=0.1, affine=True, track_running_stats=True)\n",
       "        (conv3): Conv2d(256, 512, kernel_size=(1, 1), stride=(1, 1), bias=False)\n",
       "        (bn3): BatchNorm2d(512, eps=1e-05, momentum=0.1, affine=True, track_running_stats=True)\n",
       "        (relu): ReLU(inplace=True)\n",
       "      )\n",
       "    )\n",
       "    (layer3): Sequential(\n",
       "      (0): Bottleneck(\n",
       "        (conv1): Conv2d(512, 512, kernel_size=(1, 1), stride=(1, 1), bias=False)\n",
       "        (bn1): BatchNorm2d(512, eps=1e-05, momentum=0.1, affine=True, track_running_stats=True)\n",
       "        (conv2): Conv2d(512, 512, kernel_size=(3, 3), stride=(2, 2), padding=(1, 1), groups=32, bias=False)\n",
       "        (bn2): BatchNorm2d(512, eps=1e-05, momentum=0.1, affine=True, track_running_stats=True)\n",
       "        (conv3): Conv2d(512, 1024, kernel_size=(1, 1), stride=(1, 1), bias=False)\n",
       "        (bn3): BatchNorm2d(1024, eps=1e-05, momentum=0.1, affine=True, track_running_stats=True)\n",
       "        (relu): ReLU(inplace=True)\n",
       "        (downsample): Sequential(\n",
       "          (0): Conv2d(512, 1024, kernel_size=(1, 1), stride=(2, 2), bias=False)\n",
       "          (1): BatchNorm2d(1024, eps=1e-05, momentum=0.1, affine=True, track_running_stats=True)\n",
       "        )\n",
       "      )\n",
       "      (1): Bottleneck(\n",
       "        (conv1): Conv2d(1024, 512, kernel_size=(1, 1), stride=(1, 1), bias=False)\n",
       "        (bn1): BatchNorm2d(512, eps=1e-05, momentum=0.1, affine=True, track_running_stats=True)\n",
       "        (conv2): Conv2d(512, 512, kernel_size=(3, 3), stride=(1, 1), padding=(1, 1), groups=32, bias=False)\n",
       "        (bn2): BatchNorm2d(512, eps=1e-05, momentum=0.1, affine=True, track_running_stats=True)\n",
       "        (conv3): Conv2d(512, 1024, kernel_size=(1, 1), stride=(1, 1), bias=False)\n",
       "        (bn3): BatchNorm2d(1024, eps=1e-05, momentum=0.1, affine=True, track_running_stats=True)\n",
       "        (relu): ReLU(inplace=True)\n",
       "      )\n",
       "      (2): Bottleneck(\n",
       "        (conv1): Conv2d(1024, 512, kernel_size=(1, 1), stride=(1, 1), bias=False)\n",
       "        (bn1): BatchNorm2d(512, eps=1e-05, momentum=0.1, affine=True, track_running_stats=True)\n",
       "        (conv2): Conv2d(512, 512, kernel_size=(3, 3), stride=(1, 1), padding=(1, 1), groups=32, bias=False)\n",
       "        (bn2): BatchNorm2d(512, eps=1e-05, momentum=0.1, affine=True, track_running_stats=True)\n",
       "        (conv3): Conv2d(512, 1024, kernel_size=(1, 1), stride=(1, 1), bias=False)\n",
       "        (bn3): BatchNorm2d(1024, eps=1e-05, momentum=0.1, affine=True, track_running_stats=True)\n",
       "        (relu): ReLU(inplace=True)\n",
       "      )\n",
       "      (3): Bottleneck(\n",
       "        (conv1): Conv2d(1024, 512, kernel_size=(1, 1), stride=(1, 1), bias=False)\n",
       "        (bn1): BatchNorm2d(512, eps=1e-05, momentum=0.1, affine=True, track_running_stats=True)\n",
       "        (conv2): Conv2d(512, 512, kernel_size=(3, 3), stride=(1, 1), padding=(1, 1), groups=32, bias=False)\n",
       "        (bn2): BatchNorm2d(512, eps=1e-05, momentum=0.1, affine=True, track_running_stats=True)\n",
       "        (conv3): Conv2d(512, 1024, kernel_size=(1, 1), stride=(1, 1), bias=False)\n",
       "        (bn3): BatchNorm2d(1024, eps=1e-05, momentum=0.1, affine=True, track_running_stats=True)\n",
       "        (relu): ReLU(inplace=True)\n",
       "      )\n",
       "      (4): Bottleneck(\n",
       "        (conv1): Conv2d(1024, 512, kernel_size=(1, 1), stride=(1, 1), bias=False)\n",
       "        (bn1): BatchNorm2d(512, eps=1e-05, momentum=0.1, affine=True, track_running_stats=True)\n",
       "        (conv2): Conv2d(512, 512, kernel_size=(3, 3), stride=(1, 1), padding=(1, 1), groups=32, bias=False)\n",
       "        (bn2): BatchNorm2d(512, eps=1e-05, momentum=0.1, affine=True, track_running_stats=True)\n",
       "        (conv3): Conv2d(512, 1024, kernel_size=(1, 1), stride=(1, 1), bias=False)\n",
       "        (bn3): BatchNorm2d(1024, eps=1e-05, momentum=0.1, affine=True, track_running_stats=True)\n",
       "        (relu): ReLU(inplace=True)\n",
       "      )\n",
       "      (5): Bottleneck(\n",
       "        (conv1): Conv2d(1024, 512, kernel_size=(1, 1), stride=(1, 1), bias=False)\n",
       "        (bn1): BatchNorm2d(512, eps=1e-05, momentum=0.1, affine=True, track_running_stats=True)\n",
       "        (conv2): Conv2d(512, 512, kernel_size=(3, 3), stride=(1, 1), padding=(1, 1), groups=32, bias=False)\n",
       "        (bn2): BatchNorm2d(512, eps=1e-05, momentum=0.1, affine=True, track_running_stats=True)\n",
       "        (conv3): Conv2d(512, 1024, kernel_size=(1, 1), stride=(1, 1), bias=False)\n",
       "        (bn3): BatchNorm2d(1024, eps=1e-05, momentum=0.1, affine=True, track_running_stats=True)\n",
       "        (relu): ReLU(inplace=True)\n",
       "      )\n",
       "    )\n",
       "    (layer4): Sequential(\n",
       "      (0): Bottleneck(\n",
       "        (conv1): Conv2d(1024, 1024, kernel_size=(1, 1), stride=(1, 1), bias=False)\n",
       "        (bn1): BatchNorm2d(1024, eps=1e-05, momentum=0.1, affine=True, track_running_stats=True)\n",
       "        (conv2): Conv2d(1024, 1024, kernel_size=(3, 3), stride=(2, 2), padding=(1, 1), groups=32, bias=False)\n",
       "        (bn2): BatchNorm2d(1024, eps=1e-05, momentum=0.1, affine=True, track_running_stats=True)\n",
       "        (conv3): Conv2d(1024, 2048, kernel_size=(1, 1), stride=(1, 1), bias=False)\n",
       "        (bn3): BatchNorm2d(2048, eps=1e-05, momentum=0.1, affine=True, track_running_stats=True)\n",
       "        (relu): ReLU(inplace=True)\n",
       "        (downsample): Sequential(\n",
       "          (0): Conv2d(1024, 2048, kernel_size=(1, 1), stride=(2, 2), bias=False)\n",
       "          (1): BatchNorm2d(2048, eps=1e-05, momentum=0.1, affine=True, track_running_stats=True)\n",
       "        )\n",
       "      )\n",
       "      (1): Bottleneck(\n",
       "        (conv1): Conv2d(2048, 1024, kernel_size=(1, 1), stride=(1, 1), bias=False)\n",
       "        (bn1): BatchNorm2d(1024, eps=1e-05, momentum=0.1, affine=True, track_running_stats=True)\n",
       "        (conv2): Conv2d(1024, 1024, kernel_size=(3, 3), stride=(1, 1), padding=(1, 1), groups=32, bias=False)\n",
       "        (bn2): BatchNorm2d(1024, eps=1e-05, momentum=0.1, affine=True, track_running_stats=True)\n",
       "        (conv3): Conv2d(1024, 2048, kernel_size=(1, 1), stride=(1, 1), bias=False)\n",
       "        (bn3): BatchNorm2d(2048, eps=1e-05, momentum=0.1, affine=True, track_running_stats=True)\n",
       "        (relu): ReLU(inplace=True)\n",
       "      )\n",
       "      (2): Bottleneck(\n",
       "        (conv1): Conv2d(2048, 1024, kernel_size=(1, 1), stride=(1, 1), bias=False)\n",
       "        (bn1): BatchNorm2d(1024, eps=1e-05, momentum=0.1, affine=True, track_running_stats=True)\n",
       "        (conv2): Conv2d(1024, 1024, kernel_size=(3, 3), stride=(1, 1), padding=(1, 1), groups=32, bias=False)\n",
       "        (bn2): BatchNorm2d(1024, eps=1e-05, momentum=0.1, affine=True, track_running_stats=True)\n",
       "        (conv3): Conv2d(1024, 2048, kernel_size=(1, 1), stride=(1, 1), bias=False)\n",
       "        (bn3): BatchNorm2d(2048, eps=1e-05, momentum=0.1, affine=True, track_running_stats=True)\n",
       "        (relu): ReLU(inplace=True)\n",
       "      )\n",
       "    )\n",
       "    (avgpool): AdaptiveAvgPool2d(output_size=(1, 1))\n",
       "    (fc): Linear(in_features=2048, out_features=1000, bias=True)\n",
       "  )\n",
       "  (mask): Sequential(\n",
       "    (0): LeakyReLU(negative_slope=0.01)\n",
       "    (1): Dropout(p=0.5, inplace=False)\n",
       "    (2): Linear(in_features=1000, out_features=128, bias=True)\n",
       "    (3): LeakyReLU(negative_slope=0.01)\n",
       "    (4): Dropout(p=0.5, inplace=False)\n",
       "    (5): Linear(in_features=128, out_features=3, bias=True)\n",
       "    (6): Softmax(dim=1)\n",
       "  )\n",
       "  (gender): Sequential(\n",
       "    (0): LeakyReLU(negative_slope=0.01)\n",
       "    (1): Dropout(p=0.5, inplace=False)\n",
       "    (2): Linear(in_features=1000, out_features=128, bias=True)\n",
       "    (3): LeakyReLU(negative_slope=0.01)\n",
       "    (4): Dropout(p=0.5, inplace=False)\n",
       "    (5): Linear(in_features=128, out_features=2, bias=True)\n",
       "    (6): Softmax(dim=1)\n",
       "  )\n",
       "  (age): Sequential(\n",
       "    (0): LeakyReLU(negative_slope=0.01)\n",
       "    (1): Dropout(p=0.5, inplace=False)\n",
       "    (2): Linear(in_features=1000, out_features=128, bias=True)\n",
       "    (3): LeakyReLU(negative_slope=0.01)\n",
       "    (4): Dropout(p=0.5, inplace=False)\n",
       "    (5): Linear(in_features=128, out_features=3, bias=True)\n",
       "    (6): Softmax(dim=1)\n",
       "  )\n",
       ")"
      ]
     },
     "execution_count": 7,
     "metadata": {},
     "output_type": "execute_result"
    }
   ],
   "source": [
    "from efficientnet_pytorch import EfficientNet\n",
    "\n",
    "class Way3(nn.Module):\n",
    "    def __init__(self):\n",
    "        super().__init__()\n",
    "        self.resnext = torchvision.models.resnext50_32x4d(pretrained=True).to(device)\n",
    "        self.mask = nn.Sequential(\n",
    "            nn.LeakyReLU(),\n",
    "            nn.Dropout(p=0.5, inplace=False),\n",
    "            nn.Linear(1000, 128),\n",
    "            nn.LeakyReLU(),\n",
    "            nn.Dropout(p=0.5, inplace=False),\n",
    "            nn.Linear(128, 3),\n",
    "            nn.Softmax(dim=1)\n",
    "        )\n",
    "        self.gender = nn.Sequential(\n",
    "            nn.LeakyReLU(),\n",
    "            nn.Dropout(p=0.5, inplace=False),\n",
    "            nn.Linear(1000, 128),\n",
    "            nn.LeakyReLU(),\n",
    "            nn.Dropout(p=0.5, inplace=False),\n",
    "            nn.Linear(128, 2),\n",
    "            nn.Softmax(dim=1)\n",
    "        )\n",
    "        self.age = nn.Sequential(\n",
    "            nn.LeakyReLU(),\n",
    "            nn.Dropout(p=0.5, inplace=False),\n",
    "            nn.Linear(1000, 128),\n",
    "            nn.LeakyReLU(),\n",
    "            nn.Dropout(p=0.5, inplace=False),\n",
    "            nn.Linear(128, 3),\n",
    "            nn.Softmax(dim=1)\n",
    "        )\n",
    "        self.best_f1 = 0\n",
    "        \n",
    "    def forward(self, x):\n",
    "        features = self.resnext(x)\n",
    "        mask = self.mask(features)\n",
    "        gender = self.gender(features)\n",
    "        age = self.age(features)\n",
    "        \n",
    "        return mask, gender, age\n",
    "    \n",
    "model = Way3().to(device)\n",
    "model.train()"
   ]
  },
  {
   "cell_type": "code",
   "execution_count": 8,
   "id": "f4b1aa9f-2fa1-417f-9e3e-7f160fef7d4c",
   "metadata": {},
   "outputs": [
    {
     "name": "stdout",
     "output_type": "stream",
     "text": [
      "Adjusting learning rate of group 0 to 1.8000e-04.\n"
     ]
    }
   ],
   "source": [
    "import torch.optim as optim\n",
    "lr = 1.8e-4\n",
    "\n",
    "w_gender = torch.tensor([1.4, 1.0]).to(device)\n",
    "w_age = torch.tensor([1.0, 1.2, 4]).to(device)\n",
    "\n",
    "criterion = nn.CrossEntropyLoss()\n",
    "gender_criterion = nn.CrossEntropyLoss(w_gender)\n",
    "age_criterion = nn.CrossEntropyLoss(weight=w_age)\n",
    "# b_criterion = nn.BCEWithLogitsLoss()\n",
    "# criterion = FocalLoss()\n",
    "optimizer = optim.AdamW(model.parameters(), lr=lr)\n",
    "scheduler = optim.lr_scheduler.StepLR(optimizer, step_size=1, gamma=0.85, verbose=True)"
   ]
  },
  {
   "cell_type": "code",
   "execution_count": 9,
   "id": "84d269a9-9771-4364-a927-b06cf5ac86e6",
   "metadata": {},
   "outputs": [],
   "source": [
    "from sklearn.metrics import accuracy_score\n",
    "from sklearn.metrics import confusion_matrix\n",
    "\n",
    "def check(loader, length, model, device):\n",
    "    model.eval()\n",
    "    y_true = []\n",
    "    y_predicted = []\n",
    "\n",
    "    m_acc = []\n",
    "    g_acc = []\n",
    "    a_acc = []\n",
    "    with torch.no_grad():\n",
    "        for (inputs, (m, g, a)) in val_loader:\n",
    "            for mask, gender, age in zip(m, g, a):\n",
    "                answer = labels_to_class[(mask.item(), gender.item(), age.item())]\n",
    "                y_true.append(answer)\n",
    "\n",
    "            inputs = inputs.to(device=device)\n",
    "            m = m.to(device)\n",
    "            g = g.to(device)\n",
    "            a = a.to(device)\n",
    "\n",
    "            m_pred, g_pred, a_pred = model(inputs)\n",
    "\n",
    "            m_argmax = m_pred.detach().cpu().numpy().argmax(1)\n",
    "            g_argmax = g_pred.detach().cpu().numpy().argmax(1)\n",
    "            a_argmax = a_pred.detach().cpu().numpy().argmax(1)\n",
    "\n",
    "            m_acc.append(accuracy_score(m_argmax, m.detach().cpu().numpy()))\n",
    "            g_acc.append(accuracy_score(g_argmax, g.detach().cpu().numpy()))\n",
    "            a_acc.append(accuracy_score(a_argmax, a.detach().cpu().numpy()))\n",
    "\n",
    "            for mask, gender, age in zip(m_argmax, g_argmax, a_argmax):\n",
    "                predicted = labels_to_class[(mask.item(), gender.item(), age.item())]\n",
    "                y_predicted.append(predicted)\n",
    "    \n",
    "    cm = confusion_matrix(y_true, y_predicted)\n",
    "    F1 = []\n",
    "    for c in range(18):\n",
    "        precision = cm[c][c] / np.sum(cm, axis=0)[c]\n",
    "        recall = cm[c][c] / np.sum(cm, axis=1)[c]\n",
    "        F1.append(2 * precision * recall / (precision + recall))\n",
    "    macro_F1 = np.mean(F1)\n",
    "\n",
    "    s = 0\n",
    "    for c in range(18):\n",
    "        s += cm[c][c]\n",
    "        \n",
    "    print(\"< VALIDATION >\")\n",
    "    print(\"Total Accuracy\")\n",
    "    print(s / length * 100, \"%\")\n",
    "    print(\"-\"*73)\n",
    "    print(\"Class Accuracy\")\n",
    "    print(\"Mask   :\", np.mean(m_acc)*100, \"%\")\n",
    "    print(\"Gender :\", np.mean(g_acc)*100, \"%\")\n",
    "    print(\"Age    :\", np.mean(a_acc)*100, \"%\")\n",
    "    print(\"-\"*73)\n",
    "    print(\"Confusion Matrix\")\n",
    "    for row in cm:\n",
    "        print(row)\n",
    "    print(\"-\"*73)\n",
    "    print(\"Validation F1 score :\" , macro_F1)\n",
    "    if model.best_f1 < macro_F1:\n",
    "        model.best_f1 = macro_F1\n",
    "        torch.save(model.state_dict(), model_dir + 'Aug_{}.pt'.format(model.best_f1))\n",
    "        print(\"model saved!\")\n",
    "    print(\"*\"*73)\n",
    "    print()\n",
    "    \n",
    "        \n",
    "    model.train()"
   ]
  },
  {
   "cell_type": "code",
   "execution_count": 10,
   "id": "6c9ce6db-56eb-4d50-8793-5caa75b7bec6",
   "metadata": {},
   "outputs": [
    {
     "name": "stdout",
     "output_type": "stream",
     "text": [
      "Epoch : 1\n"
     ]
    },
    {
     "name": "stderr",
     "output_type": "stream",
     "text": [
      " 50%|█████     | 506/1012 [01:27<01:26,  5.82it/s]"
     ]
    },
    {
     "name": "stdout",
     "output_type": "stream",
     "text": [
      "Loss : 1.7807989181616368\n",
      "< VALIDATION >\n",
      "Total Accuracy\n",
      "73.51851851851852 %\n",
      "-------------------------------------------------------------------------\n",
      "Class Accuracy\n",
      "Mask   : 99.65551181102363 %\n",
      "Gender : 93.30708661417323 %\n",
      "Age    : 78.86318897637796 %\n",
      "-------------------------------------------------------------------------\n",
      "Confusion Matrix\n",
      "[533   4   0   8   2   0   1   0   0   0   0   0   0   0   0   0   0   0]\n",
      "[ 56 156  89   0   2   0   0   0   1   0   0   0   0   0   0   0   0   0]\n",
      "[  3  28 137   0   0   0   0   0   0   0   0   0   0   0   0   0   0   0]\n",
      "[ 48   8   0 649  30   1   0   0   0   2   0   0   0   0   0   0   0   0]\n",
      "[  8  82  10  20 382 138   0   1   0   0   0   0   0   0   0   0   0   0]\n",
      "[  0   4  12   0  47 183   0   0   1   0   0   1   0   0   0   0   0   0]\n",
      "[  4   0   0   0   0   0 571  11   2   2   0   0   0   0   0   0   0   0]\n",
      "[  1   2   0   0   0   0  39 115 152   0   3   0   0   1   0   0   0   0]\n",
      "[  0   0   0   0   0   0   0  17 158   0   0   0   0   0   0   0   0   0]\n",
      "[  0   0   0   1   0   0  90   7   0 608  49   4   0   0   0   0   0   0]\n",
      "[  0   0   1   0   3   0   8  38  10   9 426 201   0   0   0   0   1   0]\n",
      "[  0   0   0   0   4   3   0   2  12   0  44 191   0   0   0   0   0   0]\n",
      "[  0   0   0   0   0   0   0   0   0   0   0   0 489  36   2   9   1   0]\n",
      "[  0   0   0   0   0   0   0   0   0   0   0   0  19 136 144   0   2   0]\n",
      "[  0   0   0   0   0   0   0   0   0   0   0   0   0  12 160   0   0   0]\n",
      "[  0   0   0   0   0   0   0   0   0   0   0   0  23  16   0 645  53   2]\n",
      "[  0   0   0   0   0   0   0   0   0   0   0   0   4  67  46  13 210 340]\n",
      "[  0   0   0   0   0   0   0   0   0   0   0   0   0   2  15   0  11 206]\n",
      "-------------------------------------------------------------------------\n",
      "Validation F1 score : 0.6834696398768356\n"
     ]
    },
    {
     "name": "stderr",
     "output_type": "stream",
     "text": [
      " 50%|█████     | 508/1012 [01:51<44:12,  5.26s/it]  "
     ]
    },
    {
     "name": "stdout",
     "output_type": "stream",
     "text": [
      "model saved!\n",
      "*************************************************************************\n",
      "\n"
     ]
    },
    {
     "name": "stderr",
     "output_type": "stream",
     "text": [
      "100%|█████████▉| 1011/1012 [03:17<00:00,  6.01it/s]"
     ]
    },
    {
     "name": "stdout",
     "output_type": "stream",
     "text": [
      "Loss : 1.7279439349419514\n",
      "< VALIDATION >\n",
      "Total Accuracy\n",
      "76.38271604938271 %\n",
      "-------------------------------------------------------------------------\n",
      "Class Accuracy\n",
      "Mask   : 99.42175196850394 %\n",
      "Gender : 97.07185039370079 %\n",
      "Age    : 79.12155511811024 %\n",
      "-------------------------------------------------------------------------\n",
      "Confusion Matrix\n",
      "[503  30   1  12   1   1   0   0   0   0   0   0   0   0   0   0   0   0]\n",
      "[  9 177 108   1   4   2   0   2   1   0   0   0   0   0   0   0   0   0]\n",
      "[  0  22 145   0   0   0   0   0   1   0   0   0   0   0   0   0   0   0]\n",
      "[ 17   1   0 684  30   6   0   0   0   0   0   0   0   0   0   0   0   0]\n",
      "[  2  17   4  30 294 293   0   0   0   0   1   0   0   0   0   0   0   0]\n",
      "[  0   0   4   0  23 217   0   0   0   0   0   4   0   0   0   0   0   0]\n",
      "[  3   0   0   0   0   0 546  31   3   7   0   0   0   0   0   0   0   0]\n",
      "[  0   0   1   0   0   0  16 179 110   0   3   4   0   0   0   0   0   0]\n",
      "[  0   0   0   0   0   0   0  17 157   0   0   1   0   0   0   0   0   0]\n",
      "[  0   0   0  28   0   0  20   1   1 676  19  13   0   0   0   1   0   0]\n",
      "[  0   0   0   0   1   1   7  12   3  25 331 317   0   0   0   0   0   0]\n",
      "[  0   0   0   0   1   0   0   1   0   0  29 224   0   0   1   0   0   0]\n",
      "[  0   0   0   0   0   0   0   0   0   0   0   0 505  21   5   5   1   0]\n",
      "[  0   0   0   0   0   0   0   0   0   0   0   0  14 146 135   0   5   1]\n",
      "[  0   0   0   0   0   0   0   0   0   0   0   0   0  10 162   0   0   0]\n",
      "[  0   0   0   0   0   0   0   0   0   0   0   0  28   0   2 682  21   6]\n",
      "[  0   0   0   0   0   0   0   0   0   0   0   0   7  26  17  22 370 238]\n",
      "[  0   0   0   0   0   0   0   0   0   0   0   1   0   0  19   0  25 189]\n",
      "-------------------------------------------------------------------------\n",
      "Validation F1 score : 0.7211148691441877\n"
     ]
    },
    {
     "name": "stderr",
     "output_type": "stream",
     "text": [
      "1013it [03:41,  4.57it/s]                          "
     ]
    },
    {
     "name": "stdout",
     "output_type": "stream",
     "text": [
      "model saved!\n",
      "*************************************************************************\n",
      "\n",
      "Adjusting learning rate of group 0 to 1.5300e-04.\n",
      "Epoch : 2\n"
     ]
    },
    {
     "name": "stderr",
     "output_type": "stream",
     "text": [
      "\n",
      " 50%|█████     | 506/1012 [01:26<01:29,  5.63it/s]"
     ]
    },
    {
     "name": "stdout",
     "output_type": "stream",
     "text": [
      "Loss : 1.6670664151509602\n"
     ]
    },
    {
     "name": "stderr",
     "output_type": "stream",
     "text": [
      " 50%|█████     | 508/1012 [01:51<43:44,  5.21s/it]  "
     ]
    },
    {
     "name": "stdout",
     "output_type": "stream",
     "text": [
      "< VALIDATION >\n",
      "Total Accuracy\n",
      "75.24691358024691 %\n",
      "-------------------------------------------------------------------------\n",
      "Class Accuracy\n",
      "Mask   : 96.99803149606299 %\n",
      "Gender : 98.03149606299213 %\n",
      "Age    : 78.94931102362204 %\n",
      "-------------------------------------------------------------------------\n",
      "Confusion Matrix\n",
      "[475  10   0   4   1   0  58   0   0   0   0   0   0   0   0   0   0   0]\n",
      "[ 18 118 147   1  13   6   0   0   1   0   0   0   0   0   0   0   0   0]\n",
      "[  0   8 157   0   2   0   0   0   0   0   0   0   0   0   1   0   0   0]\n",
      "[ 15   0   0 715   4   0   1   0   0   3   0   0   0   0   0   0   0   0]\n",
      "[  2   0   0  63 301 271   0   0   0   1   3   0   0   0   0   0   0   0]\n",
      "[  0   0   0   0  20 224   0   0   0   0   0   4   0   0   0   0   0   0]\n",
      "[  1   0   0   0   0   0 553  26   3   6   1   0   0   0   0   0   0   0]\n",
      "[  0  10   9   0   2   0  21 114 145   0   8   2   0   1   1   0   0   0]\n",
      "[  0   1   6   0   0   0   0   9 158   0   0   1   0   0   0   0   0   0]\n",
      "[  0   0   0   4   0   0  27   4   1 697  14  10   0   0   0   2   0   0]\n",
      "[  0   0   0   0  57  35   6   5   1  21 277 290   0   0   0   0   3   2]\n",
      "[  0   0   0   0   6  20   0   0   2   0  21 205   0   0   0   0   1   1]\n",
      "[  0   0   0   0   0   0  10   0   0   0   0   0 498  22   1   6   0   0]\n",
      "[  0   0   0   0   0   0   0   0   0   0   0   0  19 150 129   2   0   1]\n",
      "[  0   0   0   0   0   0   0   0   0   0   0   0   0   5 167   0   0   0]\n",
      "[  0   0   0   0   0   0   0   0   0   0   0   0  12   2   0 713   7   5]\n",
      "[  0   0   0   0   0   0   0   0   0   0   0   0   6  10   5  50 361 248]\n",
      "[  0   0   0   0   0   0   0   0   0   0   0   0   0   0   5   0  17 212]\n",
      "-------------------------------------------------------------------------\n",
      "Validation F1 score : 0.7007204606500879\n",
      "*************************************************************************\n",
      "\n"
     ]
    },
    {
     "name": "stderr",
     "output_type": "stream",
     "text": [
      "100%|█████████▉| 1011/1012 [03:16<00:00,  5.99it/s]"
     ]
    },
    {
     "name": "stdout",
     "output_type": "stream",
     "text": [
      "Loss : 1.6513192611249539\n",
      "< VALIDATION >\n",
      "Total Accuracy\n",
      "83.33333333333334 %\n",
      "-------------------------------------------------------------------------\n",
      "Class Accuracy\n",
      "Mask   : 99.56938976377953 %\n",
      "Gender : 97.14566929133859 %\n",
      "Age    : 86.0236220472441 %\n",
      "-------------------------------------------------------------------------\n",
      "Confusion Matrix\n",
      "[510   0   0  37   1   0   0   0   0   0   0   0   0   0   0   0   0   0]\n",
      "[ 47 143  65  10  29   8   0   2   0   0   0   0   0   0   0   0   0   0]\n",
      "[  2  23 134   0   2   7   0   0   0   0   0   0   0   0   0   0   0   0]\n",
      "[  4   0   0 725   2   0   0   0   0   7   0   0   0   0   0   0   0   0]\n",
      "[  0   1   0 101 394 142   0   0   0   1   2   0   0   0   0   0   0   0]\n",
      "[  0   0   0   0  40 206   0   0   0   0   0   2   0   0   0   0   0   0]\n",
      "[  7   0   0   0   0   0 550   2   0  30   1   0   0   0   0   0   0   0]\n",
      "[  0   0   0   0   2   0  37 173  67   7  24   3   0   0   0   0   0   0]\n",
      "[  0   0   0   0   0   0   0  26 144   0   3   2   0   0   0   0   0   0]\n",
      "[  0   0   0   1   0   0   4   0   0 748   4   2   0   0   0   0   0   0]\n",
      "[  0   0   0   0   6   0   0   0   0  49 532 109   0   0   0   0   1   0]\n",
      "[  0   0   0   0   3   1   0   0   3   0  63 186   0   0   0   0   0   0]\n",
      "[  0   0   0   0   0   0   0   0   0   0   0   0 509  11   0  14   3   0]\n",
      "[  0   0   0   0   0   0   0   0   0   0   0   0  25 195  54   2  23   2]\n",
      "[  0   0   0   0   0   0   0   0   0   0   0   0   0  27 143   0   2   0]\n",
      "[  0   0   0   0   0   0   0   0   0   0   0   0   4   0   0 730   5   0]\n",
      "[  0   0   0   0   0   0   0   0   0   0   0   0   3   0   0  43 554  80]\n",
      "[  0   0   0   0   0   0   0   0   0   0   0   0   0   0   1   0  59 174]\n",
      "-------------------------------------------------------------------------\n",
      "Validation F1 score : 0.789879760782124\n"
     ]
    },
    {
     "name": "stderr",
     "output_type": "stream",
     "text": [
      "1013it [03:41,  4.58it/s]                          "
     ]
    },
    {
     "name": "stdout",
     "output_type": "stream",
     "text": [
      "model saved!\n",
      "*************************************************************************\n",
      "\n",
      "Adjusting learning rate of group 0 to 1.3005e-04.\n",
      "Epoch : 3\n"
     ]
    },
    {
     "name": "stderr",
     "output_type": "stream",
     "text": [
      "\n",
      " 50%|█████     | 506/1012 [01:26<01:24,  5.97it/s]"
     ]
    },
    {
     "name": "stdout",
     "output_type": "stream",
     "text": [
      "Loss : 1.6082854463739038\n"
     ]
    },
    {
     "name": "stderr",
     "output_type": "stream",
     "text": [
      " 50%|█████     | 508/1012 [01:50<43:13,  5.15s/it]  "
     ]
    },
    {
     "name": "stdout",
     "output_type": "stream",
     "text": [
      "< VALIDATION >\n",
      "Total Accuracy\n",
      "83.2962962962963 %\n",
      "-------------------------------------------------------------------------\n",
      "Class Accuracy\n",
      "Mask   : 99.61860236220473 %\n",
      "Gender : 98.84350393700787 %\n",
      "Age    : 84.53494094488188 %\n",
      "-------------------------------------------------------------------------\n",
      "Confusion Matrix\n",
      "[527  12   0   8   0   0   1   0   0   0   0   0   0   0   0   0   0   0]\n",
      "[ 11 192  97   0   2   0   0   2   0   0   0   0   0   0   0   0   0   0]\n",
      "[  0  16 149   0   0   2   1   0   0   0   0   0   0   0   0   0   0   0]\n",
      "[  6   0   0 702  26   0   0   0   0   4   0   0   0   0   0   0   0   0]\n",
      "[  0   1   0  19 440 176   0   0   0   0   4   1   0   0   0   0   0   0]\n",
      "[  0   1   1   0  32 210   0   0   0   0   1   3   0   0   0   0   0   0]\n",
      "[  4   0   0   0   0   0 569   8   1   8   0   0   0   0   0   0   0   0]\n",
      "[  0   4   1   0   0   0  21 161 123   0   1   2   0   0   0   0   0   0]\n",
      "[  0   0   0   0   0   0   0   8 164   0   1   2   0   0   0   0   0   0]\n",
      "[  0   0   0   2   0   0  13   0   0 724  19   1   0   0   0   0   0   0]\n",
      "[  0   0   0   0   1   0   3   5   0  28 499 161   0   0   0   0   0   0]\n",
      "[  0   0   0   0   2   0   0   2   2   0  42 208   0   0   0   0   0   0]\n",
      "[  0   0   0   0   0   0   0   0   0   0   0   0 515  16   1   5   0   0]\n",
      "[  0   0   0   0   0   0   0   0   0   0   0   0  15 158 124   0   4   0]\n",
      "[  0   0   0   0   0   0   0   0   0   0   0   0   0   6 166   0   0   0]\n",
      "[  0   0   0   0   0   0   0   0   0   0   0   0  12   1   1 687  37   1]\n",
      "[  0   0   0   0   0   0   0   0   0   0   0   0   2   5   3  18 466 186]\n",
      "[  0   0   0   0   0   0   0   0   0   0   0   0   0   0   1   1  22 210]\n",
      "-------------------------------------------------------------------------\n",
      "Validation F1 score : 0.7877853187232058\n",
      "*************************************************************************\n",
      "\n"
     ]
    },
    {
     "name": "stderr",
     "output_type": "stream",
     "text": [
      "100%|█████████▉| 1011/1012 [03:15<00:00,  5.89it/s]"
     ]
    },
    {
     "name": "stdout",
     "output_type": "stream",
     "text": [
      "Loss : 1.6013101722176366\n",
      "< VALIDATION >\n",
      "Total Accuracy\n",
      "85.33333333333334 %\n",
      "-------------------------------------------------------------------------\n",
      "Class Accuracy\n",
      "Mask   : 99.37253937007874 %\n",
      "Gender : 98.4005905511811 %\n",
      "Age    : 87.04478346456693 %\n",
      "-------------------------------------------------------------------------\n",
      "Confusion Matrix\n",
      "[535   8   0   4   1   0   0   0   0   0   0   0   0   0   0   0   0   0]\n",
      "[ 12 170 117   0   1   4   0   0   0   0   0   0   0   0   0   0   0   0]\n",
      "[  0  13 154   0   0   1   0   0   0   0   0   0   0   0   0   0   0   0]\n",
      "[ 13   5   0 659  60   1   0   0   0   0   0   0   0   0   0   0   0   0]\n",
      "[  1   4   1   6 497 132   0   0   0   0   0   0   0   0   0   0   0   0]\n",
      "[  0   0   0   0  34 213   0   0   0   0   0   1   0   0   0   0   0   0]\n",
      "[  5   0   0   0   0   0 576   6   0   3   0   0   0   0   0   0   0   0]\n",
      "[  0   4   1   0   0   1  19 167 112   0   4   5   0   0   0   0   0   0]\n",
      "[  0   0   0   0   0   0   0   6 169   0   0   0   0   0   0   0   0   0]\n",
      "[  0   0   0   2   0   0  24   6   0 698  25   1   0   0   0   3   0   0]\n",
      "[  0   0   0   0  23   2   5   1   0  12 531 123   0   0   0   0   0   0]\n",
      "[  0   0   0   0   7   2   1   0   0   0  31 215   0   0   0   0   0   0]\n",
      "[  0   0   0   0   0   0   0   0   0   0   0   0 532   1   0   4   0   0]\n",
      "[  0   0   0   0   0   0   0   0   0   0   0   0  34 179  81   1   5   1]\n",
      "[  0   0   0   0   0   0   0   0   0   0   0   0   5  11 155   0   0   1]\n",
      "[  0   0   0   0   0   0   0   0   0   0   0   0  24   0   0 704  11   0]\n",
      "[  0   0   0   0   0   0   0   0   0   0   0   0   3   6   0  33 576  62]\n",
      "[  0   0   0   0   0   0   0   0   0   0   0   0   0   0   0   1  51 182]\n",
      "-------------------------------------------------------------------------\n",
      "Validation F1 score : 0.8108755170396712\n"
     ]
    },
    {
     "name": "stderr",
     "output_type": "stream",
     "text": [
      "1013it [03:40,  4.59it/s]                          "
     ]
    },
    {
     "name": "stdout",
     "output_type": "stream",
     "text": [
      "model saved!\n",
      "*************************************************************************\n",
      "\n",
      "Adjusting learning rate of group 0 to 1.1054e-04.\n",
      "Epoch : 4\n"
     ]
    },
    {
     "name": "stderr",
     "output_type": "stream",
     "text": [
      "\n",
      " 50%|█████     | 506/1012 [01:26<01:26,  5.88it/s]"
     ]
    },
    {
     "name": "stdout",
     "output_type": "stream",
     "text": [
      "Loss : 1.5717693985801713\n",
      "< VALIDATION >\n",
      "Total Accuracy\n",
      "87.95061728395062 %\n",
      "-------------------------------------------------------------------------\n",
      "Class Accuracy\n",
      "Mask   : 99.58169291338582 %\n",
      "Gender : 99.02805118110236 %\n",
      "Age    : 89.1240157480315 %\n",
      "-------------------------------------------------------------------------\n",
      "Confusion Matrix\n",
      "[539   1   1   6   1   0   0   0   0   0   0   0   0   0   0   0   0   0]\n",
      "[ 21 236  43   1   3   0   0   0   0   0   0   0   0   0   0   0   0   0]\n",
      "[  1  41 125   0   1   0   0   0   0   0   0   0   0   0   0   0   0   0]\n",
      "[ 10   1   0 696  31   0   0   0   0   0   0   0   0   0   0   0   0   0]\n",
      "[  1   1   1  17 528  93   0   0   0   0   0   0   0   0   0   0   0   0]\n",
      "[  0   0   0   0  46 201   0   0   0   0   1   0   0   0   0   0   0   0]\n",
      "[  4   0   0   0   0   0 567   4   2  13   0   0   0   0   0   0   0   0]\n",
      "[  0   2   1   0   0   0  16 246  45   2   1   0   0   0   0   0   0   0]\n",
      "[  0   0   3   0   0   0   0  29 143   0   0   0   0   0   0   0   0   0]\n",
      "[  0   0   0   9   0   0   3   1   0 736   9   0   0   0   0   1   0   0]\n",
      "[  0   0   0   0   3   3   0   2   0  26 559 104   0   0   0   0   0   0]\n",
      "[  0   0   0   0   0   6   0   0   2   0  47 200   0   0   0   0   0   1]\n",
      "[  0   0   0   0   0   0   0   0   0   0   0   0 524   6   2   5   0   0]\n",
      "[  0   0   0   0   0   0   0   0   0   0   0   0  23 218  57   0   3   0]\n",
      "[  0   0   0   0   0   0   0   0   0   0   0   0   0  18 154   0   0   0]\n",
      "[  0   0   0   0   0   0   0   0   0   0   0   0   6   0   0 722  11   0]\n",
      "[  0   0   0   0   0   0   0   0   0   0   0   0   0  14   0  18 520 128]\n",
      "[  0   0   0   0   0   0   0   0   0   0   0   0   0   0   1   0  23 210]\n",
      "-------------------------------------------------------------------------\n",
      "Validation F1 score : 0.8443497613735729\n"
     ]
    },
    {
     "name": "stderr",
     "output_type": "stream",
     "text": [
      " 50%|█████     | 508/1012 [01:50<43:57,  5.23s/it]  "
     ]
    },
    {
     "name": "stdout",
     "output_type": "stream",
     "text": [
      "model saved!\n",
      "*************************************************************************\n",
      "\n"
     ]
    },
    {
     "name": "stderr",
     "output_type": "stream",
     "text": [
      "100%|█████████▉| 1011/1012 [03:17<00:00,  5.98it/s]"
     ]
    },
    {
     "name": "stdout",
     "output_type": "stream",
     "text": [
      "Loss : 1.5709770577462765\n"
     ]
    },
    {
     "name": "stderr",
     "output_type": "stream",
     "text": [
      "1013it [03:41,  4.58it/s]                          "
     ]
    },
    {
     "name": "stdout",
     "output_type": "stream",
     "text": [
      "< VALIDATION >\n",
      "Total Accuracy\n",
      "86.97530864197532 %\n",
      "-------------------------------------------------------------------------\n",
      "Class Accuracy\n",
      "Mask   : 99.71702755905511 %\n",
      "Gender : 98.20374015748031 %\n",
      "Age    : 88.68110236220473 %\n",
      "-------------------------------------------------------------------------\n",
      "Confusion Matrix\n",
      "[518  23   1   4   1   0   0   0   0   0   0   0   1   0   0   0   0   0]\n",
      "[  9 203  59   0  28   4   0   1   0   0   0   0   0   0   0   0   0   0]\n",
      "[  0  23 131   0   6   8   0   0   0   0   0   0   0   0   0   0   0   0]\n",
      "[  6   1   0 704  26   0   0   0   0   1   0   0   0   0   0   0   0   0]\n",
      "[  0   0   0  22 494 123   0   0   0   0   2   0   0   0   0   0   0   0]\n",
      "[  0   0   0   0  30 214   0   0   0   0   1   3   0   0   0   0   0   0]\n",
      "[  6   0   0   0   0   0 561  16   0   6   1   0   0   0   0   0   0   0]\n",
      "[  0   0   1   0   0   0  18 214  44   0  36   0   0   0   0   0   0   0]\n",
      "[  0   0   0   0   0   0   0  20 143   0   5   7   0   0   0   0   0   0]\n",
      "[  0   0   0   1   0   0   7   0   0 710  40   1   0   0   0   0   0   0]\n",
      "[  0   0   0   0   3   1   0   0   0  13 601  79   0   0   0   0   0   0]\n",
      "[  0   0   0   0   0   1   0   1   0   0  54 200   0   0   0   0   0   0]\n",
      "[  0   0   0   0   0   0   0   0   0   0   0   0 503  25   1   7   1   0]\n",
      "[  0   0   0   0   0   0   0   0   0   0   0   0  17 214  65   1   4   0]\n",
      "[  0   0   0   0   0   0   0   0   0   0   0   0   0  16 154   0   0   2]\n",
      "[  0   0   0   0   0   0   0   0   0   0   0   0   4   2   0 722  11   0]\n",
      "[  0   0   0   0   0   0   0   0   0   0   1   0   0   3   1  20 552 103]\n",
      "[  0   0   0   0   0   0   0   0   0   0   0   0   0   0   0   0  27 207]\n",
      "-------------------------------------------------------------------------\n",
      "Validation F1 score : 0.8334572139458333\n",
      "*************************************************************************\n",
      "\n",
      "Adjusting learning rate of group 0 to 9.3961e-05.\n",
      "Epoch : 5\n"
     ]
    },
    {
     "name": "stderr",
     "output_type": "stream",
     "text": [
      "\n",
      " 50%|█████     | 506/1012 [01:27<01:25,  5.95it/s]"
     ]
    },
    {
     "name": "stdout",
     "output_type": "stream",
     "text": [
      "Loss : 1.5480179180054976\n",
      "< VALIDATION >\n",
      "Total Accuracy\n",
      "89.32098765432099 %\n",
      "-------------------------------------------------------------------------\n",
      "Class Accuracy\n",
      "Mask   : 99.50787401574803 %\n",
      "Gender : 99.26181102362204 %\n",
      "Age    : 90.28051181102363 %\n",
      "-------------------------------------------------------------------------\n",
      "Confusion Matrix\n",
      "[542   1   0   5   0   0   0   0   0   0   0   0   0   0   0   0   0   0]\n",
      "[ 31 211  52   0   9   0   0   0   1   0   0   0   0   0   0   0   0   0]\n",
      "[  0  23 144   0   1   0   0   0   0   0   0   0   0   0   0   0   0   0]\n",
      "[  6   1   0 696  32   1   0   0   0   2   0   0   0   0   0   0   0   0]\n",
      "[  0   0   0  12 589  38   0   0   0   0   2   0   0   0   0   0   0   0]\n",
      "[  0   0   0   0  62 183   0   0   0   0   0   3   0   0   0   0   0   0]\n",
      "[  4   0   0   0   0   0 583   1   0   2   0   0   0   0   0   0   0   0]\n",
      "[  3   2   3   0   0   0  39 186  75   1   4   0   0   0   0   0   0   0]\n",
      "[  0   0   0   0   0   0   0   9 166   0   0   0   0   0   0   0   0   0]\n",
      "[  0   0   0   2   0   0  10   0   0 733  14   0   0   0   0   0   0   0]\n",
      "[  0   0   0   0  10   1   0   0   0  22 613  51   0   0   0   0   0   0]\n",
      "[  0   0   0   0   5   2   0   0   0   0  59 190   0   0   0   0   0   0]\n",
      "[  0   0   0   0   0   0   0   0   0   0   0   0 532   1   0   4   0   0]\n",
      "[  0   0   0   0   0   0   0   0   0   0   0   0  40 163  90   0   7   1]\n",
      "[  0   0   0   0   0   0   0   0   0   0   0   0   0   4 167   0   0   1]\n",
      "[  0   0   0   0   0   0   0   0   0   0   0   0   7   0   0 723   8   1]\n",
      "[  0   0   0   0   0   0   0   0   0   0   0   0   0   0   1  13 618  48]\n",
      "[  0   0   0   0   0   0   0   0   0   0   0   0   0   0   0   0  38 196]\n",
      "-------------------------------------------------------------------------\n",
      "Validation F1 score : 0.8525559849844156\n"
     ]
    },
    {
     "name": "stderr",
     "output_type": "stream",
     "text": [
      " 50%|█████     | 508/1012 [01:51<43:09,  5.14s/it]  "
     ]
    },
    {
     "name": "stdout",
     "output_type": "stream",
     "text": [
      "model saved!\n",
      "*************************************************************************\n",
      "\n"
     ]
    },
    {
     "name": "stderr",
     "output_type": "stream",
     "text": [
      "100%|█████████▉| 1011/1012 [03:16<00:00,  5.95it/s]"
     ]
    },
    {
     "name": "stdout",
     "output_type": "stream",
     "text": [
      "Loss : 1.5465196872888347\n"
     ]
    },
    {
     "name": "stderr",
     "output_type": "stream",
     "text": [
      "1013it [03:40,  4.59it/s]                          "
     ]
    },
    {
     "name": "stdout",
     "output_type": "stream",
     "text": [
      "< VALIDATION >\n",
      "Total Accuracy\n",
      "88.67901234567901 %\n",
      "-------------------------------------------------------------------------\n",
      "Class Accuracy\n",
      "Mask   : 99.75393700787401 %\n",
      "Gender : 99.05265748031496 %\n",
      "Age    : 89.73917322834646 %\n",
      "-------------------------------------------------------------------------\n",
      "Confusion Matrix\n",
      "[539   2   1   6   0   0   0   0   0   0   0   0   0   0   0   0   0   0]\n",
      "[ 11 210  79   1   2   0   0   1   0   0   0   0   0   0   0   0   0   0]\n",
      "[  0  14 152   0   1   1   0   0   0   0   0   0   0   0   0   0   0   0]\n",
      "[ 10   0   0 717   9   1   0   0   0   1   0   0   0   0   0   0   0   0]\n",
      "[  0   2   0  36 521  79   0   0   0   0   3   0   0   0   0   0   0   0]\n",
      "[  0   0   0   0  41 205   0   0   0   0   0   2   0   0   0   0   0   0]\n",
      "[  5   0   0   0   0   0 564  13   2   4   2   0   0   0   0   0   0   0]\n",
      "[  0   2   0   0   0   0  13 216  81   0   1   0   0   0   0   0   0   0]\n",
      "[  0   0   0   0   0   0   0  11 162   0   0   2   0   0   0   0   0   0]\n",
      "[  0   0   0   2   0   0  11   0   0 741   5   0   0   0   0   0   0   0]\n",
      "[  0   0   0   0   2   0   1   4   0  21 573  96   0   0   0   0   0   0]\n",
      "[  0   0   1   0   0   1   0   0   3   0  46 205   0   0   0   0   0   0]\n",
      "[  0   0   0   0   0   0   0   0   0   0   0   0 521  10   0   5   1   0]\n",
      "[  0   0   0   0   0   0   0   0   0   0   0   0  16 222  57   0   6   0]\n",
      "[  0   0   0   0   0   0   0   0   0   0   0   0   0  16 155   0   0   1]\n",
      "[  0   0   0   0   0   0   0   0   0   0   0   0   9   0   0 725   5   0]\n",
      "[  0   0   0   0   0   0   0   0   0   0   0   0   0   3   0  30 549  98]\n",
      "[  0   0   0   0   0   0   0   0   0   0   0   0   0   0   0   0  28 206]\n",
      "-------------------------------------------------------------------------\n",
      "Validation F1 score : 0.8513863474349714\n",
      "*************************************************************************\n",
      "\n",
      "Adjusting learning rate of group 0 to 7.9867e-05.\n",
      "Epoch : 6\n"
     ]
    },
    {
     "name": "stderr",
     "output_type": "stream",
     "text": [
      "\n",
      " 50%|█████     | 506/1012 [01:27<01:25,  5.89it/s]"
     ]
    },
    {
     "name": "stdout",
     "output_type": "stream",
     "text": [
      "Loss : 1.5214844126202887\n",
      "< VALIDATION >\n",
      "Total Accuracy\n",
      "88.71604938271605 %\n",
      "-------------------------------------------------------------------------\n",
      "Class Accuracy\n",
      "Mask   : 99.81545275590551 %\n",
      "Gender : 99.37253937007874 %\n",
      "Age    : 89.39468503937007 %\n",
      "-------------------------------------------------------------------------\n",
      "Confusion Matrix\n",
      "[534   7   0   7   0   0   0   0   0   0   0   0   0   0   0   0   0   0]\n",
      "[ 10 227  65   0   1   0   0   1   0   0   0   0   0   0   0   0   0   0]\n",
      "[  0  10 157   0   1   0   0   0   0   0   0   0   0   0   0   0   0   0]\n",
      "[  7   0   0 678  50   3   0   0   0   0   0   0   0   0   0   0   0   0]\n",
      "[  0   0   0   9 499 131   0   0   0   0   2   0   0   0   0   0   0   0]\n",
      "[  0   0   1   0  17 228   0   0   0   0   0   2   0   0   0   0   0   0]\n",
      "[  5   0   0   0   0   0 576   3   1   4   0   1   0   0   0   0   0   0]\n",
      "[  0   1   0   0   0   0  13 216  79   0   3   1   0   0   0   0   0   0]\n",
      "[  0   0   0   0   0   0   0   4 166   0   1   4   0   0   0   0   0   0]\n",
      "[  0   0   0   1   0   0   5   0   0 680  63   9   0   0   0   1   0   0]\n",
      "[  0   0   0   0   0   0   0   1   0   1 559 136   0   0   0   0   0   0]\n",
      "[  0   0   0   0   0   2   0   0   0   0  16 238   0   0   0   0   0   0]\n",
      "[  0   0   0   0   0   0   0   0   0   0   0   0 532   2   0   3   0   0]\n",
      "[  0   0   0   0   0   0   0   0   0   0   0   0  18 222  59   0   2   0]\n",
      "[  0   0   0   0   0   0   0   0   0   0   0   0   0   3 169   0   0   0]\n",
      "[  0   0   0   0   0   0   0   0   0   0   0   0   6   0   0 723   9   1]\n",
      "[  0   0   0   0   0   0   0   0   0   0   0   0   3   0   0  23 564  90]\n",
      "[  0   0   0   0   0   0   0   0   0   0   0   0   0   0   0   0  16 218]\n",
      "-------------------------------------------------------------------------\n",
      "Validation F1 score : 0.8615729010357509\n"
     ]
    },
    {
     "name": "stderr",
     "output_type": "stream",
     "text": [
      " 50%|█████     | 508/1012 [01:52<45:00,  5.36s/it]  "
     ]
    },
    {
     "name": "stdout",
     "output_type": "stream",
     "text": [
      "model saved!\n",
      "*************************************************************************\n",
      "\n"
     ]
    },
    {
     "name": "stderr",
     "output_type": "stream",
     "text": [
      "100%|█████████▉| 1011/1012 [03:17<00:00,  5.89it/s]"
     ]
    },
    {
     "name": "stdout",
     "output_type": "stream",
     "text": [
      "Loss : 1.5185616987024841\n",
      "< VALIDATION >\n",
      "Total Accuracy\n",
      "91.77777777777779 %\n",
      "-------------------------------------------------------------------------\n",
      "Class Accuracy\n",
      "Mask   : 99.76624015748031 %\n",
      "Gender : 99.13877952755905 %\n",
      "Age    : 92.61811023622047 %\n",
      "-------------------------------------------------------------------------\n",
      "Confusion Matrix\n",
      "[540   2   2   4   0   0   0   0   0   0   0   0   0   0   0   0   0   0]\n",
      "[ 13 258  31   0   1   1   0   0   0   0   0   0   0   0   0   0   0   0]\n",
      "[  0  26 142   0   0   0   0   0   0   0   0   0   0   0   0   0   0   0]\n",
      "[ 15   1   0 714   7   1   0   0   0   0   0   0   0   0   0   0   0   0]\n",
      "[  2   4   1  17 517 100   0   0   0   0   0   0   0   0   0   0   0   0]\n",
      "[  0   1   0   0  12 233   0   0   0   0   0   2   0   0   0   0   0   0]\n",
      "[  6   0   0   0   0   0 581   1   0   2   0   0   0   0   0   0   0   0]\n",
      "[  0   2   0   0   0   0  15 264  31   0   0   0   0   1   0   0   0   0]\n",
      "[  0   0   0   0   0   0   0  16 158   0   0   1   0   0   0   0   0   0]\n",
      "[  0   0   0   0   0   0  11   0   0 744   4   0   0   0   0   0   0   0]\n",
      "[  0   0   0   0   2   2   3   1   0  31 581  76   0   0   0   0   1   0]\n",
      "[  0   0   0   0   1   2   0   1   2   0  18 232   0   0   0   0   0   0]\n",
      "[  0   0   0   0   0   0   0   0   0   0   0   0 529   5   0   3   0   0]\n",
      "[  0   0   0   0   0   0   0   0   0   0   0   0  17 254  25   0   3   2]\n",
      "[  0   0   0   0   0   0   0   0   0   0   0   0   0  17 155   0   0   0]\n",
      "[  0   0   0   0   0   0   0   0   0   0   0   0  10   1   0 710  18   0]\n",
      "[  0   0   0   0   0   0   0   0   0   0   0   0   0   0   0  14 609  57]\n",
      "[  0   0   0   0   0   0   0   0   0   0   0   0   0   0   0   0  21 213]\n",
      "-------------------------------------------------------------------------\n",
      "Validation F1 score : 0.8965384570883175\n"
     ]
    },
    {
     "name": "stderr",
     "output_type": "stream",
     "text": [
      "1013it [03:42,  4.56it/s]                          "
     ]
    },
    {
     "name": "stdout",
     "output_type": "stream",
     "text": [
      "model saved!\n",
      "*************************************************************************\n",
      "\n",
      "Adjusting learning rate of group 0 to 6.7887e-05.\n",
      "Epoch : 7\n"
     ]
    },
    {
     "name": "stderr",
     "output_type": "stream",
     "text": [
      "\n",
      " 50%|█████     | 506/1012 [01:27<01:24,  6.00it/s]"
     ]
    },
    {
     "name": "stdout",
     "output_type": "stream",
     "text": [
      "Loss : 1.4966931418319191\n"
     ]
    },
    {
     "name": "stderr",
     "output_type": "stream",
     "text": [
      " 50%|█████     | 508/1012 [01:51<43:36,  5.19s/it]  "
     ]
    },
    {
     "name": "stdout",
     "output_type": "stream",
     "text": [
      "< VALIDATION >\n",
      "Total Accuracy\n",
      "91.8641975308642 %\n",
      "-------------------------------------------------------------------------\n",
      "Class Accuracy\n",
      "Mask   : 99.85236220472441 %\n",
      "Gender : 99.38484251968504 %\n",
      "Age    : 92.49507874015748 %\n",
      "-------------------------------------------------------------------------\n",
      "Confusion Matrix\n",
      "[538   1   1   8   0   0   0   0   0   0   0   0   0   0   0   0   0   0]\n",
      "[ 15 218  69   0   1   0   0   1   0   0   0   0   0   0   0   0   0   0]\n",
      "[  0  10 158   0   0   0   0   0   0   0   0   0   0   0   0   0   0   0]\n",
      "[  6   0   0 714  17   0   0   0   0   1   0   0   0   0   0   0   0   0]\n",
      "[  0   3   1  12 573  52   0   0   0   0   0   0   0   0   0   0   0   0]\n",
      "[  0   0   1   0  26 221   0   0   0   0   0   0   0   0   0   0   0   0]\n",
      "[  4   0   0   0   0   0 577   0   0   9   0   0   0   0   0   0   0   0]\n",
      "[  0   0   1   0   0   0  25 226  59   1   1   0   0   0   0   0   0   0]\n",
      "[  0   0   0   0   0   0   0   9 166   0   0   0   0   0   0   0   0   0]\n",
      "[  0   0   0   0   0   0   3   0   0 748   7   0   0   0   0   1   0   0]\n",
      "[  0   0   0   0   2   0   0   1   0  22 628  44   0   0   0   0   0   0]\n",
      "[  0   0   0   0   1   1   0   0   0   0  30 224   0   0   0   0   0   0]\n",
      "[  0   0   0   0   0   0   0   0   0   0   0   0 530   0   0   7   0   0]\n",
      "[  0   0   0   0   0   0   0   0   0   0   0   0  35 200  63   1   2   0]\n",
      "[  0   0   0   0   0   0   0   0   0   0   0   0   0   3 169   0   0   0]\n",
      "[  0   0   0   0   0   0   0   0   0   0   0   0   4   0   0 727   8   0]\n",
      "[  0   0   0   0   0   0   0   0   0   0   0   0   1   0   0  23 606  50]\n",
      "[  0   0   0   0   0   0   0   0   0   0   0   0   0   0   0   0  16 218]\n",
      "-------------------------------------------------------------------------\n",
      "Validation F1 score : 0.8897622820773942\n",
      "*************************************************************************\n",
      "\n"
     ]
    },
    {
     "name": "stderr",
     "output_type": "stream",
     "text": [
      "100%|█████████▉| 1011/1012 [03:17<00:00,  5.88it/s]"
     ]
    },
    {
     "name": "stdout",
     "output_type": "stream",
     "text": [
      "Loss : 1.5009257915934084\n",
      "< VALIDATION >\n",
      "Total Accuracy\n",
      "92.64197530864197 %\n",
      "-------------------------------------------------------------------------\n",
      "Class Accuracy\n",
      "Mask   : 99.65551181102363 %\n",
      "Gender : 99.29872047244095 %\n",
      "Age    : 93.59005905511812 %\n",
      "-------------------------------------------------------------------------\n",
      "Confusion Matrix\n",
      "[533   4   3   6   0   0   2   0   0   0   0   0   0   0   0   0   0   0]\n",
      "[ 11 262  29   1   0   0   0   1   0   0   0   0   0   0   0   0   0   0]\n",
      "[  0  18 149   0   1   0   0   0   0   0   0   0   0   0   0   0   0   0]\n",
      "[ 10   0   0 720   4   0   0   0   0   4   0   0   0   0   0   0   0   0]\n",
      "[  3   3   0  40 562  29   0   0   0   0   4   0   0   0   0   0   0   0]\n",
      "[  0   0   1   0  41 202   0   0   0   0   0   4   0   0   0   0   0   0]\n",
      "[  2   0   0   0   0   0 577   7   2   2   0   0   0   0   0   0   0   0]\n",
      "[  0   3   0   0   0   0  10 257  40   0   2   0   0   1   0   0   0   0]\n",
      "[  0   0   0   0   0   0   0  10 165   0   0   0   0   0   0   0   0   0]\n",
      "[  0   0   0   0   0   0   4   0   0 745   6   0   0   0   0   4   0   0]\n",
      "[  0   0   0   0   1   0   1   2   0  20 616  57   0   0   0   0   0   0]\n",
      "[  0   0   0   0   2   0   0   1   5   0  22 226   0   0   0   0   0   0]\n",
      "[  0   0   0   0   0   0   0   0   0   0   0   0 527   5   1   4   0   0]\n",
      "[  0   0   0   0   0   0   0   0   0   0   0   0  14 258  27   0   2   0]\n",
      "[  0   0   0   0   0   0   0   0   0   0   0   0   0  12 160   0   0   0]\n",
      "[  0   0   0   0   0   0   0   0   0   0   0   0   3   0   0 735   1   0]\n",
      "[  0   0   0   0   0   0   0   0   0   0   0   0   1   4   0  36 613  26]\n",
      "[  0   0   0   0   0   0   0   0   0   0   0   0   0   0   1   0  36 197]\n",
      "-------------------------------------------------------------------------\n",
      "Validation F1 score : 0.9062301524203511\n"
     ]
    },
    {
     "name": "stderr",
     "output_type": "stream",
     "text": [
      "1013it [03:42,  4.55it/s]                          "
     ]
    },
    {
     "name": "stdout",
     "output_type": "stream",
     "text": [
      "model saved!\n",
      "*************************************************************************\n",
      "\n",
      "Adjusting learning rate of group 0 to 5.7704e-05.\n",
      "Epoch : 8\n"
     ]
    },
    {
     "name": "stderr",
     "output_type": "stream",
     "text": [
      "\n",
      " 50%|█████     | 506/1012 [01:27<01:31,  5.56it/s]"
     ]
    },
    {
     "name": "stdout",
     "output_type": "stream",
     "text": [
      "Loss : 1.4937290571615305\n",
      "< VALIDATION >\n",
      "Total Accuracy\n",
      "93.61728395061728 %\n",
      "-------------------------------------------------------------------------\n",
      "Class Accuracy\n",
      "Mask   : 99.82775590551181 %\n",
      "Gender : 99.52017716535433 %\n",
      "Age    : 94.21751968503938 %\n",
      "-------------------------------------------------------------------------\n",
      "Confusion Matrix\n",
      "[542   1   0   4   0   0   1   0   0   0   0   0   0   0   0   0   0   0]\n",
      "[ 13 253  33   1   3   0   0   1   0   0   0   0   0   0   0   0   0   0]\n",
      "[  0  24 144   0   0   0   0   0   0   0   0   0   0   0   0   0   0   0]\n",
      "[  9   0   0 722   4   0   0   0   0   3   0   0   0   0   0   0   0   0]\n",
      "[  1   0   0  26 566  46   0   0   0   1   1   0   0   0   0   0   0   0]\n",
      "[  0   0   0   0  21 225   0   0   0   0   0   2   0   0   0   0   0   0]\n",
      "[  1   0   0   0   0   0 586   1   0   2   0   0   0   0   0   0   0   0]\n",
      "[  0   1   0   0   0   0  14 259  39   0   0   0   0   0   0   0   0   0]\n",
      "[  0   0   0   0   0   0   0  14 161   0   0   0   0   0   0   0   0   0]\n",
      "[  0   0   0   0   1   0   3   0   0 748   7   0   0   0   0   0   0   0]\n",
      "[  0   0   0   0   0   0   0   0   0  13 621  63   0   0   0   0   0   0]\n",
      "[  0   0   0   0   0   2   0   0   2   0  19 233   0   0   0   0   0   0]\n",
      "[  0   0   0   0   0   0   0   0   0   0   0   0 532   2   0   3   0   0]\n",
      "[  0   0   0   0   0   0   0   0   0   0   0   0  11 262  27   0   1   0]\n",
      "[  0   0   0   0   0   0   0   0   0   0   0   0   0  11 161   0   0   0]\n",
      "[  0   0   0   0   0   0   0   0   0   0   0   0   4   0   0 725  10   0]\n",
      "[  0   0   0   0   0   0   0   0   0   0   0   0   1   4   1  14 622  38]\n",
      "[  0   0   0   0   0   0   0   0   0   0   0   0   0   0   0   0  13 221]\n",
      "-------------------------------------------------------------------------\n",
      "Validation F1 score : 0.9152905718078139\n"
     ]
    },
    {
     "name": "stderr",
     "output_type": "stream",
     "text": [
      " 50%|█████     | 508/1012 [01:52<44:31,  5.30s/it]  "
     ]
    },
    {
     "name": "stdout",
     "output_type": "stream",
     "text": [
      "model saved!\n",
      "*************************************************************************\n",
      "\n"
     ]
    },
    {
     "name": "stderr",
     "output_type": "stream",
     "text": [
      "100%|█████████▉| 1011/1012 [03:18<00:00,  5.75it/s]"
     ]
    },
    {
     "name": "stdout",
     "output_type": "stream",
     "text": [
      "Loss : 1.4906832863219641\n",
      "< VALIDATION >\n",
      "Total Accuracy\n",
      "93.82716049382715 %\n",
      "-------------------------------------------------------------------------\n",
      "Class Accuracy\n",
      "Mask   : 99.87696850393701 %\n",
      "Gender : 99.45866141732283 %\n",
      "Age    : 94.45127952755905 %\n",
      "-------------------------------------------------------------------------\n",
      "Confusion Matrix\n",
      "[539   4   0   3   2   0   0   0   0   0   0   0   0   0   0   0   0   0]\n",
      "[  9 251  40   0   4   0   0   0   0   0   0   0   0   0   0   0   0   0]\n",
      "[  0  14 153   0   1   0   0   0   0   0   0   0   0   0   0   0   0   0]\n",
      "[  6   0   0 701  28   3   0   0   0   0   0   0   0   0   0   0   0   0]\n",
      "[  0   2   0   4 579  56   0   0   0   0   0   0   0   0   0   0   0   0]\n",
      "[  0   0   0   0  10 238   0   0   0   0   0   0   0   0   0   0   0   0]\n",
      "[  1   0   0   0   0   0 580   4   0   5   0   0   0   0   0   0   0   0]\n",
      "[  0   1   0   0   0   0  13 250  48   0   1   0   0   0   0   0   0   0]\n",
      "[  0   0   0   0   0   0   0  10 165   0   0   0   0   0   0   0   0   0]\n",
      "[  0   0   0   1   0   0   4   0   0 736  17   1   0   0   0   0   0   0]\n",
      "[  0   0   0   0   4   0   0   0   0   7 655  31   0   0   0   0   0   0]\n",
      "[  0   0   0   0   0   3   0   0   0   0  14 239   0   0   0   0   0   0]\n",
      "[  0   0   0   0   0   0   0   0   0   0   0   0 528   2   1   5   1   0]\n",
      "[  0   0   0   0   0   0   0   0   0   0   0   0  16 231  47   0   6   1]\n",
      "[  0   0   0   0   0   0   0   0   0   0   0   0   0   7 165   0   0   0]\n",
      "[  0   0   0   0   0   0   0   0   0   0   0   0   2   0   0 723  14   0]\n",
      "[  0   0   0   0   0   0   0   0   0   0   0   0   0   1   0   5 645  29]\n",
      "[  0   0   0   0   0   0   0   0   0   0   0   0   0   0   0   0  12 222]\n",
      "-------------------------------------------------------------------------\n",
      "Validation F1 score : 0.9167585387791335\n"
     ]
    },
    {
     "name": "stderr",
     "output_type": "stream",
     "text": [
      "1013it [03:43,  4.54it/s]                          "
     ]
    },
    {
     "name": "stdout",
     "output_type": "stream",
     "text": [
      "model saved!\n",
      "*************************************************************************\n",
      "\n",
      "Adjusting learning rate of group 0 to 4.9048e-05.\n",
      "Epoch : 9\n"
     ]
    },
    {
     "name": "stderr",
     "output_type": "stream",
     "text": [
      "\n",
      " 50%|█████     | 506/1012 [01:27<01:27,  5.80it/s]"
     ]
    },
    {
     "name": "stdout",
     "output_type": "stream",
     "text": [
      "Loss : 1.4720683245969242\n",
      "< VALIDATION >\n",
      "Total Accuracy\n",
      "95.43209876543209 %\n",
      "-------------------------------------------------------------------------\n",
      "Class Accuracy\n",
      "Mask   : 99.87696850393701 %\n",
      "Gender : 99.63090551181102 %\n",
      "Age    : 95.90305118110236 %\n",
      "-------------------------------------------------------------------------\n",
      "Confusion Matrix\n",
      "[543   1   0   4   0   0   0   0   0   0   0   0   0   0   0   0   0   0]\n",
      "[ 10 262  28   0   2   0   0   2   0   0   0   0   0   0   0   0   0   0]\n",
      "[  0   9 159   0   0   0   0   0   0   0   0   0   0   0   0   0   0   0]\n",
      "[  4   0   0 722  11   0   0   0   0   1   0   0   0   0   0   0   0   0]\n",
      "[  0   2   0  15 595  29   0   0   0   0   0   0   0   0   0   0   0   0]\n",
      "[  0   0   0   0  18 228   0   0   0   0   0   2   0   0   0   0   0   0]\n",
      "[  2   0   0   0   0   0 583   3   0   2   0   0   0   0   0   0   0   0]\n",
      "[  0   1   0   0   0   0  10 273  29   0   0   0   0   0   0   0   0   0]\n",
      "[  0   0   0   0   0   0   0   6 169   0   0   0   0   0   0   0   0   0]\n",
      "[  0   0   0   0   0   0   4   0   0 747   8   0   0   0   0   0   0   0]\n",
      "[  0   0   0   0   0   0   0   0   0  11 667  19   0   0   0   0   0   0]\n",
      "[  0   0   0   0   2   0   0   0   0   0  24 230   0   0   0   0   0   0]\n",
      "[  0   0   0   0   0   0   0   0   0   0   0   0 529   5   0   3   0   0]\n",
      "[  0   0   0   0   0   0   0   0   0   0   0   0  13 257  29   0   2   0]\n",
      "[  0   0   0   0   0   0   0   0   0   0   0   0   0   5 167   0   0   0]\n",
      "[  0   0   0   0   0   0   0   0   0   0   0   0   3   0   0 729   7   0]\n",
      "[  0   0   0   0   0   0   0   0   0   0   0   0   1   3   0  12 649  15]\n",
      "[  0   0   0   0   0   0   0   0   0   0   0   0   0   0   0   0  13 221]\n",
      "-------------------------------------------------------------------------\n",
      "Validation F1 score : 0.9398183225597087\n"
     ]
    },
    {
     "name": "stderr",
     "output_type": "stream",
     "text": [
      " 50%|█████     | 508/1012 [01:52<44:23,  5.28s/it]  "
     ]
    },
    {
     "name": "stdout",
     "output_type": "stream",
     "text": [
      "model saved!\n",
      "*************************************************************************\n",
      "\n"
     ]
    },
    {
     "name": "stderr",
     "output_type": "stream",
     "text": [
      "100%|█████████▉| 1011/1012 [03:18<00:00,  5.88it/s]"
     ]
    },
    {
     "name": "stdout",
     "output_type": "stream",
     "text": [
      "Loss : 1.4762323411557043\n"
     ]
    },
    {
     "name": "stderr",
     "output_type": "stream",
     "text": [
      "1013it [03:42,  4.54it/s]                          "
     ]
    },
    {
     "name": "stdout",
     "output_type": "stream",
     "text": [
      "< VALIDATION >\n",
      "Total Accuracy\n",
      "95.1358024691358 %\n",
      "-------------------------------------------------------------------------\n",
      "Class Accuracy\n",
      "Mask   : 99.9015748031496 %\n",
      "Gender : 99.50787401574803 %\n",
      "Age    : 95.74311023622047 %\n",
      "-------------------------------------------------------------------------\n",
      "Confusion Matrix\n",
      "[539   5   0   4   0   0   0   0   0   0   0   0   0   0   0   0   0   0]\n",
      "[  9 255  37   0   1   0   0   2   0   0   0   0   0   0   0   0   0   0]\n",
      "[  0   6 161   0   0   1   0   0   0   0   0   0   0   0   0   0   0   0]\n",
      "[  8   0   0 721   7   0   0   0   0   2   0   0   0   0   0   0   0   0]\n",
      "[  0   1   0   6 599  35   0   0   0   0   0   0   0   0   0   0   0   0]\n",
      "[  0   0   1   0  17 230   0   0   0   0   0   0   0   0   0   0   0   0]\n",
      "[  1   0   0   0   0   0 582   4   0   3   0   0   0   0   0   0   0   0]\n",
      "[  0   1   0   0   0   0  10 270  31   0   1   0   0   0   0   0   0   0]\n",
      "[  0   0   0   0   0   0   0   6 169   0   0   0   0   0   0   0   0   0]\n",
      "[  0   0   0   0   0   0   5   0   0 749   5   0   0   0   0   0   0   0]\n",
      "[  0   0   0   0   0   0   0   3   0   6 662  26   0   0   0   0   0   0]\n",
      "[  0   0   0   0   0   2   0   0   0   0  20 234   0   0   0   0   0   0]\n",
      "[  0   0   0   0   0   0   0   0   0   0   0   0 523  10   0   4   0   0]\n",
      "[  0   0   0   0   0   0   0   0   0   0   0   0  10 248  39   0   4   0]\n",
      "[  0   0   0   0   0   0   0   0   0   0   0   0   0   2 170   0   0   0]\n",
      "[  0   0   0   0   0   0   0   0   0   0   0   0   3   0   0 733   3   0]\n",
      "[  0   0   0   0   0   0   0   0   0   0   0   0   0   1   0  13 646  20]\n",
      "[  0   0   0   0   0   0   0   0   0   0   0   0   0   0   0   0  19 215]\n",
      "-------------------------------------------------------------------------\n",
      "Validation F1 score : 0.9336427107168048\n",
      "*************************************************************************\n",
      "\n",
      "Adjusting learning rate of group 0 to 4.1691e-05.\n",
      "Epoch : 10\n"
     ]
    },
    {
     "name": "stderr",
     "output_type": "stream",
     "text": [
      "\n",
      " 50%|█████     | 506/1012 [01:27<01:27,  5.78it/s]"
     ]
    },
    {
     "name": "stdout",
     "output_type": "stream",
     "text": [
      "Loss : 1.461610635591917\n"
     ]
    },
    {
     "name": "stderr",
     "output_type": "stream",
     "text": [
      " 50%|█████     | 508/1012 [01:52<44:21,  5.28s/it]  "
     ]
    },
    {
     "name": "stdout",
     "output_type": "stream",
     "text": [
      "< VALIDATION >\n",
      "Total Accuracy\n",
      "95.22222222222221 %\n",
      "-------------------------------------------------------------------------\n",
      "Class Accuracy\n",
      "Mask   : 99.86466535433071 %\n",
      "Gender : 99.64320866141733 %\n",
      "Age    : 95.71850393700787 %\n",
      "-------------------------------------------------------------------------\n",
      "Confusion Matrix\n",
      "[543   1   0   4   0   0   0   0   0   0   0   0   0   0   0   0   0   0]\n",
      "[ 10 256  36   0   1   0   0   1   0   0   0   0   0   0   0   0   0   0]\n",
      "[  0   9 159   0   0   0   0   0   0   0   0   0   0   0   0   0   0   0]\n",
      "[  4   0   0 719  12   0   0   0   0   3   0   0   0   0   0   0   0   0]\n",
      "[  0   2   0   9 606  24   0   0   0   0   0   0   0   0   0   0   0   0]\n",
      "[  0   0   0   0  15 231   0   0   0   0   0   2   0   0   0   0   0   0]\n",
      "[  1   0   0   0   0   0 585   0   1   3   0   0   0   0   0   0   0   0]\n",
      "[  0   1   0   0   0   0  11 248  52   1   0   0   0   0   0   0   0   0]\n",
      "[  0   0   0   0   0   0   0   6 169   0   0   0   0   0   0   0   0   0]\n",
      "[  0   0   0   0   0   0   3   0   0 746  10   0   0   0   0   0   0   0]\n",
      "[  0   0   0   0   1   0   0   2   0   9 659  26   0   0   0   0   0   0]\n",
      "[  0   0   0   0   0   2   0   0   0   0   7 247   0   0   0   0   0   0]\n",
      "[  0   0   0   0   0   0   0   0   0   0   0   0 534   0   0   3   0   0]\n",
      "[  0   0   0   0   0   0   0   0   0   0   0   0  14 239  47   0   1   0]\n",
      "[  0   0   0   0   0   0   0   0   0   0   0   0   0   1 171   0   0   0]\n",
      "[  0   0   0   0   0   0   0   0   0   0   0   0   3   0   0 734   2   0]\n",
      "[  0   0   0   0   0   0   0   0   0   0   0   0   0   2   0  11 642  25]\n",
      "[  0   0   0   0   0   0   0   0   0   0   0   0   0   0   0   0   9 225]\n",
      "-------------------------------------------------------------------------\n",
      "Validation F1 score : 0.9327513306000967\n",
      "*************************************************************************\n",
      "\n"
     ]
    },
    {
     "name": "stderr",
     "output_type": "stream",
     "text": [
      "100%|█████████▉| 1011/1012 [03:18<00:00,  5.88it/s]"
     ]
    },
    {
     "name": "stdout",
     "output_type": "stream",
     "text": [
      "Loss : 1.4612148174419706\n",
      "< VALIDATION >\n",
      "Total Accuracy\n",
      "96.06172839506173 %\n",
      "-------------------------------------------------------------------------\n",
      "Class Accuracy\n",
      "Mask   : 99.87696850393701 %\n",
      "Gender : 99.70472440944881 %\n",
      "Age    : 96.48129921259843 %\n",
      "-------------------------------------------------------------------------\n",
      "Confusion Matrix\n",
      "[540   4   0   4   0   0   0   0   0   0   0   0   0   0   0   0   0   0]\n",
      "[  9 268  24   0   2   0   0   1   0   0   0   0   0   0   0   0   0   0]\n",
      "[  0  22 146   0   0   0   0   0   0   0   0   0   0   0   0   0   0   0]\n",
      "[  7   0   0 723   6   0   0   0   0   2   0   0   0   0   0   0   0   0]\n",
      "[  0   0   0   7 624  10   0   0   0   0   0   0   0   0   0   0   0   0]\n",
      "[  0   0   0   0  23 224   0   0   0   0   0   1   0   0   0   0   0   0]\n",
      "[  3   0   0   0   0   0 585   0   0   2   0   0   0   0   0   0   0   0]\n",
      "[  0   1   0   0   0   0  13 269  30   0   0   0   0   0   0   0   0   0]\n",
      "[  0   0   0   0   0   0   0   8 167   0   0   0   0   0   0   0   0   0]\n",
      "[  0   0   0   0   0   0   3   0   0 749   7   0   0   0   0   0   0   0]\n",
      "[  0   0   0   0   0   0   0   0   0  10 672  15   0   0   0   0   0   0]\n",
      "[  0   0   0   0   1   1   0   0   0   0  13 241   0   0   0   0   0   0]\n",
      "[  0   0   0   0   0   0   0   0   0   0   0   0 531   3   0   3   0   0]\n",
      "[  0   0   0   0   0   0   0   0   0   0   0   0  10 267  23   0   1   0]\n",
      "[  0   0   0   0   0   0   0   0   0   0   0   0   0   5 167   0   0   0]\n",
      "[  0   0   0   0   0   0   0   0   0   0   0   0   2   0   0 731   6   0]\n",
      "[  0   0   0   0   0   0   0   0   0   0   0   0   0   0   0  10 655  15]\n",
      "[  0   0   0   0   0   0   0   0   0   0   0   0   0   0   0   0  12 222]\n",
      "-------------------------------------------------------------------------\n",
      "Validation F1 score : 0.9454146766448015\n"
     ]
    },
    {
     "name": "stderr",
     "output_type": "stream",
     "text": [
      "1013it [03:43,  4.54it/s]                          "
     ]
    },
    {
     "name": "stdout",
     "output_type": "stream",
     "text": [
      "model saved!\n",
      "*************************************************************************\n",
      "\n",
      "Adjusting learning rate of group 0 to 3.5437e-05.\n",
      "Epoch : 11\n"
     ]
    },
    {
     "name": "stderr",
     "output_type": "stream",
     "text": [
      "\n",
      " 50%|█████     | 506/1012 [01:27<01:25,  5.90it/s]"
     ]
    },
    {
     "name": "stdout",
     "output_type": "stream",
     "text": [
      "Loss : 1.4553760229012904\n",
      "< VALIDATION >\n",
      "Total Accuracy\n",
      "96.1604938271605 %\n",
      "-------------------------------------------------------------------------\n",
      "Class Accuracy\n",
      "Mask   : 99.87696850393701 %\n",
      "Gender : 99.55708661417323 %\n",
      "Age    : 96.72736220472441 %\n",
      "-------------------------------------------------------------------------\n",
      "Confusion Matrix\n",
      "[541   3   0   4   0   0   0   0   0   0   0   0   0   0   0   0   0   0]\n",
      "[ 10 271  21   0   2   0   0   0   0   0   0   0   0   0   0   0   0   0]\n",
      "[  0  11 157   0   0   0   0   0   0   0   0   0   0   0   0   0   0   0]\n",
      "[  8   0   0 715  15   0   0   0   0   0   0   0   0   0   0   0   0   0]\n",
      "[  0   0   0   5 604  32   0   0   0   0   0   0   0   0   0   0   0   0]\n",
      "[  0   0   0   0   9 238   0   0   0   0   0   1   0   0   0   0   0   0]\n",
      "[  4   0   0   0   0   0 584   0   0   2   0   0   0   0   0   0   0   0]\n",
      "[  0   1   0   0   0   0  13 277  21   0   0   0   0   1   0   0   0   0]\n",
      "[  0   0   0   0   0   0   0   7 168   0   0   0   0   0   0   0   0   0]\n",
      "[  0   0   0   0   0   0  10   0   0 743   6   0   0   0   0   0   0   0]\n",
      "[  0   0   0   0   0   0   0   0   0   6 672  19   0   0   0   0   0   0]\n",
      "[  0   0   0   0   1   2   0   0   0   0   9 244   0   0   0   0   0   0]\n",
      "[  0   0   0   0   0   0   0   0   0   0   0   0 533   1   0   3   0   0]\n",
      "[  0   0   0   0   0   0   0   0   0   0   0   0  11 267  22   0   1   0]\n",
      "[  0   0   0   0   0   0   0   0   0   0   0   0   0   7 165   0   0   0]\n",
      "[  0   0   0   0   0   0   0   0   0   0   0   0   5   0   0 728   6   0]\n",
      "[  0   0   0   0   0   0   0   0   0   0   0   0   0   1   0   5 655  19]\n",
      "[  0   0   0   0   0   0   0   0   0   0   0   0   0   0   0   0   7 227]\n",
      "-------------------------------------------------------------------------\n",
      "Validation F1 score : 0.9495804356224353\n"
     ]
    },
    {
     "name": "stderr",
     "output_type": "stream",
     "text": [
      " 50%|█████     | 508/1012 [01:52<44:05,  5.25s/it]  "
     ]
    },
    {
     "name": "stdout",
     "output_type": "stream",
     "text": [
      "model saved!\n",
      "*************************************************************************\n",
      "\n"
     ]
    },
    {
     "name": "stderr",
     "output_type": "stream",
     "text": [
      "100%|█████████▉| 1011/1012 [03:19<00:00,  5.89it/s]"
     ]
    },
    {
     "name": "stdout",
     "output_type": "stream",
     "text": [
      "Loss : 1.4571362641960264\n"
     ]
    },
    {
     "name": "stderr",
     "output_type": "stream",
     "text": [
      "1013it [03:43,  4.53it/s]                          "
     ]
    },
    {
     "name": "stdout",
     "output_type": "stream",
     "text": [
      "< VALIDATION >\n",
      "Total Accuracy\n",
      "96.03703703703704 %\n",
      "-------------------------------------------------------------------------\n",
      "Class Accuracy\n",
      "Mask   : 99.8892716535433 %\n",
      "Gender : 99.60629921259843 %\n",
      "Age    : 96.44438976377953 %\n",
      "-------------------------------------------------------------------------\n",
      "Confusion Matrix\n",
      "[543   0   0   5   0   0   0   0   0   0   0   0   0   0   0   0   0   0]\n",
      "[ 13 268  18   0   2   1   0   2   0   0   0   0   0   0   0   0   0   0]\n",
      "[  0  13 155   0   0   0   0   0   0   0   0   0   0   0   0   0   0   0]\n",
      "[  4   0   0 727   6   0   0   0   0   1   0   0   0   0   0   0   0   0]\n",
      "[  0   2   0  10 604  25   0   0   0   0   0   0   0   0   0   0   0   0]\n",
      "[  0   0   0   0   9 238   0   0   0   0   0   1   0   0   0   0   0   0]\n",
      "[  1   0   0   0   0   0 585   1   0   3   0   0   0   0   0   0   0   0]\n",
      "[  0   1   0   0   0   0  11 279  22   0   0   0   0   0   0   0   0   0]\n",
      "[  0   0   0   0   0   0   0   7 167   0   0   1   0   0   0   0   0   0]\n",
      "[  0   0   0   0   0   0   4   0   0 746   9   0   0   0   0   0   0   0]\n",
      "[  0   0   0   0   1   0   0   1   0   3 656  36   0   0   0   0   0   0]\n",
      "[  0   0   0   0   0   2   0   0   0   0   7 247   0   0   0   0   0   0]\n",
      "[  0   0   0   0   0   0   0   0   0   0   0   0 532   2   0   3   0   0]\n",
      "[  0   0   0   0   0   0   0   0   0   0   0   0  10 265  23   0   2   1]\n",
      "[  0   0   0   0   0   0   0   0   0   0   0   0   0   5 167   0   0   0]\n",
      "[  0   0   0   0   0   0   0   0   0   0   0   0   2   0   0 732   5   0]\n",
      "[  0   0   0   0   0   0   0   0   0   0   0   0   0   1   0   3 638  38]\n",
      "[  0   0   0   0   0   0   0   0   0   0   0   0   0   0   0   0   4 230]\n",
      "-------------------------------------------------------------------------\n",
      "Validation F1 score : 0.94696571178084\n",
      "*************************************************************************\n",
      "\n",
      "Adjusting learning rate of group 0 to 3.0122e-05.\n",
      "Epoch : 12\n"
     ]
    },
    {
     "name": "stderr",
     "output_type": "stream",
     "text": [
      "\n",
      " 50%|█████     | 506/1012 [01:27<01:24,  5.98it/s]"
     ]
    },
    {
     "name": "stdout",
     "output_type": "stream",
     "text": [
      "Loss : 1.45284108908689\n",
      "< VALIDATION >\n",
      "Total Accuracy\n",
      "96.90123456790124 %\n",
      "-------------------------------------------------------------------------\n",
      "Class Accuracy\n",
      "Mask   : 99.84005905511812 %\n",
      "Gender : 99.65551181102363 %\n",
      "Age    : 97.30561023622047 %\n",
      "-------------------------------------------------------------------------\n",
      "Confusion Matrix\n",
      "[543   0   0   5   0   0   0   0   0   0   0   0   0   0   0   0   0   0]\n",
      "[ 10 272  20   0   1   0   0   1   0   0   0   0   0   0   0   0   0   0]\n",
      "[  0   5 163   0   0   0   0   0   0   0   0   0   0   0   0   0   0   0]\n",
      "[  5   0   0 725   6   1   0   0   0   1   0   0   0   0   0   0   0   0]\n",
      "[  0   3   1   5 620  12   0   0   0   0   0   0   0   0   0   0   0   0]\n",
      "[  0   0   0   0  13 234   0   0   0   0   0   1   0   0   0   0   0   0]\n",
      "[  1   0   0   0   0   0 587   0   0   2   0   0   0   0   0   0   0   0]\n",
      "[  0   1   0   0   0   0  11 278  22   0   0   0   0   1   0   0   0   0]\n",
      "[  0   0   0   0   0   0   0   4 171   0   0   0   0   0   0   0   0   0]\n",
      "[  0   0   0   4   0   0   3   0   0 738  14   0   0   0   0   0   0   0]\n",
      "[  0   0   0   0   1   0   0   1   0   1 679  15   0   0   0   0   0   0]\n",
      "[  0   0   0   0   1   1   0   0   0   0  12 242   0   0   0   0   0   0]\n",
      "[  0   0   0   0   0   0   0   0   0   0   0   0 533   1   0   3   0   0]\n",
      "[  0   0   0   0   0   0   0   0   0   0   0   0  11 276  13   0   1   0]\n",
      "[  0   0   0   0   0   0   0   0   0   0   0   0   0   6 166   0   0   0]\n",
      "[  0   0   0   0   0   0   0   0   0   0   0   0   2   0   0 733   4   0]\n",
      "[  0   0   0   0   0   0   0   0   0   0   0   0   0   1   0   2 663  14]\n",
      "[  0   0   0   0   0   0   0   0   0   0   0   0   0   0   0   0   8 226]\n",
      "-------------------------------------------------------------------------\n",
      "Validation F1 score : 0.9591662405805282\n"
     ]
    },
    {
     "name": "stderr",
     "output_type": "stream",
     "text": [
      " 50%|█████     | 508/1012 [01:52<44:32,  5.30s/it]  "
     ]
    },
    {
     "name": "stdout",
     "output_type": "stream",
     "text": [
      "model saved!\n",
      "*************************************************************************\n",
      "\n"
     ]
    },
    {
     "name": "stderr",
     "output_type": "stream",
     "text": [
      "100%|█████████▉| 1011/1012 [03:19<00:00,  5.80it/s]"
     ]
    },
    {
     "name": "stdout",
     "output_type": "stream",
     "text": [
      "Loss : 1.4507834493171556\n",
      "< VALIDATION >\n",
      "Total Accuracy\n",
      "96.98765432098766 %\n",
      "-------------------------------------------------------------------------\n",
      "Class Accuracy\n",
      "Mask   : 99.8892716535433 %\n",
      "Gender : 99.68011811023622 %\n",
      "Age    : 97.42864173228347 %\n",
      "-------------------------------------------------------------------------\n",
      "Confusion Matrix\n",
      "[543   1   0   4   0   0   0   0   0   0   0   0   0   0   0   0   0   0]\n",
      "[ 11 273  19   0   1   0   0   0   0   0   0   0   0   0   0   0   0   0]\n",
      "[  0   7 161   0   0   0   0   0   0   0   0   0   0   0   0   0   0   0]\n",
      "[  4   0   0 728   4   0   0   0   0   2   0   0   0   0   0   0   0   0]\n",
      "[  0   1   0   8 616  16   0   0   0   0   0   0   0   0   0   0   0   0]\n",
      "[  0   0   0   0   9 239   0   0   0   0   0   0   0   0   0   0   0   0]\n",
      "[  3   0   0   0   0   0 583   1   1   2   0   0   0   0   0   0   0   0]\n",
      "[  0   1   0   0   0   0  11 280  20   0   1   0   0   0   0   0   0   0]\n",
      "[  0   0   0   0   0   0   0   3 172   0   0   0   0   0   0   0   0   0]\n",
      "[  0   0   0   0   0   0   4   0   0 748   7   0   0   0   0   0   0   0]\n",
      "[  0   0   0   0   0   0   0   1   0   1 685  10   0   0   0   0   0   0]\n",
      "[  0   0   0   0   0   3   0   0   0   0   8 245   0   0   0   0   0   0]\n",
      "[  0   0   0   0   0   0   0   0   0   0   0   0 531   2   0   4   0   0]\n",
      "[  0   0   0   0   0   0   0   0   0   0   0   0  10 271  18   0   2   0]\n",
      "[  0   0   0   0   0   0   0   0   0   0   0   0   0   4 168   0   0   0]\n",
      "[  0   0   0   0   0   0   0   0   0   0   0   0   2   0   0 736   1   0]\n",
      "[  0   0   0   0   0   0   0   0   0   0   0   0   0   0   0   9 647  24]\n",
      "[  0   0   0   0   0   0   0   0   0   0   0   0   0   0   0   0   4 230]\n",
      "-------------------------------------------------------------------------\n",
      "Validation F1 score : 0.9597939216014895\n"
     ]
    },
    {
     "name": "stderr",
     "output_type": "stream",
     "text": [
      "1013it [03:43,  4.53it/s]                          "
     ]
    },
    {
     "name": "stdout",
     "output_type": "stream",
     "text": [
      "model saved!\n",
      "*************************************************************************\n",
      "\n",
      "Adjusting learning rate of group 0 to 2.5604e-05.\n",
      "Epoch : 13\n"
     ]
    },
    {
     "name": "stderr",
     "output_type": "stream",
     "text": [
      "\n",
      " 50%|█████     | 506/1012 [01:27<01:26,  5.83it/s]"
     ]
    },
    {
     "name": "stdout",
     "output_type": "stream",
     "text": [
      "Loss : 1.444366369962222\n"
     ]
    },
    {
     "name": "stderr",
     "output_type": "stream",
     "text": [
      " 50%|█████     | 508/1012 [01:52<44:43,  5.32s/it]  "
     ]
    },
    {
     "name": "stdout",
     "output_type": "stream",
     "text": [
      "< VALIDATION >\n",
      "Total Accuracy\n",
      "96.96296296296296 %\n",
      "-------------------------------------------------------------------------\n",
      "Class Accuracy\n",
      "Mask   : 99.86466535433071 %\n",
      "Gender : 99.74163385826772 %\n",
      "Age    : 97.34251968503938 %\n",
      "-------------------------------------------------------------------------\n",
      "Confusion Matrix\n",
      "[544   0   0   4   0   0   0   0   0   0   0   0   0   0   0   0   0   0]\n",
      "[ 12 270  20   0   1   0   0   1   0   0   0   0   0   0   0   0   0   0]\n",
      "[  0   5 163   0   0   0   0   0   0   0   0   0   0   0   0   0   0   0]\n",
      "[  3   0   0 721  13   0   0   0   0   1   0   0   0   0   0   0   0   0]\n",
      "[  0   0   0   4 609  28   0   0   0   0   0   0   0   0   0   0   0   0]\n",
      "[  0   0   0   0   5 243   0   0   0   0   0   0   0   0   0   0   0   0]\n",
      "[  3   0   0   0   0   0 585   0   0   2   0   0   0   0   0   0   0   0]\n",
      "[  0   1   0   0   0   0  12 275  24   0   0   0   0   1   0   0   0   0]\n",
      "[  0   0   0   0   0   0   0   3 172   0   0   0   0   0   0   0   0   0]\n",
      "[  0   0   0   0   0   0   3   0   0 752   4   0   0   0   0   0   0   0]\n",
      "[  0   0   0   0   0   0   0   0   0   2 682  13   0   0   0   0   0   0]\n",
      "[  0   0   0   0   2   2   0   0   0   0   5 247   0   0   0   0   0   0]\n",
      "[  0   0   0   0   0   0   0   0   0   0   0   0 533   0   0   4   0   0]\n",
      "[  0   0   0   0   0   0   0   0   0   0   0   0  10 264  25   0   2   0]\n",
      "[  0   0   0   0   0   0   0   0   0   0   0   0   0   0 172   0   0   0]\n",
      "[  0   0   0   0   0   0   0   0   0   0   0   0   2   0   0 734   3   0]\n",
      "[  0   0   0   0   0   0   0   0   0   0   0   0   0   0   0   4 658  18]\n",
      "[  0   0   0   0   0   0   0   0   0   0   0   0   0   0   0   0   4 230]\n",
      "-------------------------------------------------------------------------\n",
      "Validation F1 score : 0.9588104326421577\n",
      "*************************************************************************\n",
      "\n"
     ]
    },
    {
     "name": "stderr",
     "output_type": "stream",
     "text": [
      "100%|█████████▉| 1011/1012 [03:18<00:00,  5.97it/s]"
     ]
    },
    {
     "name": "stdout",
     "output_type": "stream",
     "text": [
      "Loss : 1.4434187339228604\n",
      "< VALIDATION >\n",
      "Total Accuracy\n",
      "96.93827160493828 %\n",
      "-------------------------------------------------------------------------\n",
      "Class Accuracy\n",
      "Mask   : 99.81545275590551 %\n",
      "Gender : 99.71702755905511 %\n",
      "Age    : 97.41633858267717 %\n",
      "-------------------------------------------------------------------------\n",
      "Confusion Matrix\n",
      "[544   0   0   4   0   0   0   0   0   0   0   0   0   0   0   0   0   0]\n",
      "[  9 273  20   0   1   0   0   1   0   0   0   0   0   0   0   0   0   0]\n",
      "[  0   2 166   0   0   0   0   0   0   0   0   0   0   0   0   0   0   0]\n",
      "[  4   0   0 726   3   0   0   0   0   5   0   0   0   0   0   0   0   0]\n",
      "[  0   0   0  10 612  15   0   0   0   0   4   0   0   0   0   0   0   0]\n",
      "[  0   0   0   0   5 241   0   0   0   0   0   2   0   0   0   0   0   0]\n",
      "[  1   0   0   0   0   0 587   0   0   2   0   0   0   0   0   0   0   0]\n",
      "[  0   1   0   0   0   0  10 278  23   0   1   0   0   0   0   0   0   0]\n",
      "[  0   0   0   0   0   0   0   2 173   0   0   0   0   0   0   0   0   0]\n",
      "[  0   0   0   0   0   0   4   0   0 753   2   0   0   0   0   0   0   0]\n",
      "[  0   0   0   0   0   0   0   0   0   2 672  23   0   0   0   0   0   0]\n",
      "[  0   0   0   0   0   1   0   0   0   0   4 251   0   0   0   0   0   0]\n",
      "[  0   0   0   0   0   0   0   0   0   0   0   0 534   0   0   3   0   0]\n",
      "[  0   0   0   0   0   0   0   0   0   0   0   0  11 264  24   0   2   0]\n",
      "[  0   0   0   0   0   0   0   0   0   0   0   0   0   1 171   0   0   0]\n",
      "[  0   0   0   0   0   0   0   0   0   0   0   0   2   0   0 736   1   0]\n",
      "[  0   0   0   0   0   0   0   0   0   0   0   0   0   0   0  17 641  22]\n",
      "[  0   0   0   0   0   0   0   0   0   0   0   0   0   0   0   0   4 230]\n",
      "-------------------------------------------------------------------------\n",
      "Validation F1 score : 0.9598999816231166\n"
     ]
    },
    {
     "name": "stderr",
     "output_type": "stream",
     "text": [
      "1013it [03:42,  4.55it/s]                          "
     ]
    },
    {
     "name": "stdout",
     "output_type": "stream",
     "text": [
      "model saved!\n",
      "*************************************************************************\n",
      "\n",
      "Adjusting learning rate of group 0 to 2.1763e-05.\n",
      "Epoch : 14\n"
     ]
    },
    {
     "name": "stderr",
     "output_type": "stream",
     "text": [
      "\n",
      " 50%|█████     | 506/1012 [01:26<01:26,  5.84it/s]"
     ]
    },
    {
     "name": "stdout",
     "output_type": "stream",
     "text": [
      "Loss : 1.4420152820308767\n",
      "< VALIDATION >\n",
      "Total Accuracy\n",
      "97.1358024691358 %\n",
      "-------------------------------------------------------------------------\n",
      "Class Accuracy\n",
      "Mask   : 99.74163385826772 %\n",
      "Gender : 99.68011811023622 %\n",
      "Age    : 97.71161417322834 %\n",
      "-------------------------------------------------------------------------\n",
      "Confusion Matrix\n",
      "[542   0   0   4   0   0   2   0   0   0   0   0   0   0   0   0   0   0]\n",
      "[  8 268  26   0   1   0   0   1   0   0   0   0   0   0   0   0   0   0]\n",
      "[  0   6 162   0   0   0   0   0   0   0   0   0   0   0   0   0   0   0]\n",
      "[  5   0   0 723   5   0   0   0   0   5   0   0   0   0   0   0   0   0]\n",
      "[  0   0   0   5 604  24   0   0   0   0   8   0   0   0   0   0   0   0]\n",
      "[  0   0   1   0   6 239   0   0   0   0   0   2   0   0   0   0   0   0]\n",
      "[  1   0   0   0   0   0 584   2   0   2   1   0   0   0   0   0   0   0]\n",
      "[  0   1   0   0   0   0   9 286  16   0   1   0   0   0   0   0   0   0]\n",
      "[  0   0   0   0   0   0   0   3 172   0   0   0   0   0   0   0   0   0]\n",
      "[  0   0   0   0   0   0   3   0   0 752   4   0   0   0   0   0   0   0]\n",
      "[  0   0   0   0   0   0   0   0   0   1 687   9   0   0   0   0   0   0]\n",
      "[  0   0   0   0   0   1   0   0   0   0   7 248   0   0   0   0   0   0]\n",
      "[  0   0   0   0   0   0   0   0   0   0   0   0 531   3   0   3   0   0]\n",
      "[  0   0   0   0   0   0   0   0   0   0   0   0   8 279  13   0   1   0]\n",
      "[  0   0   0   0   0   0   0   0   0   0   0   0   0   1 171   0   0   0]\n",
      "[  0   0   0   0   0   0   0   0   0   0   0   0   3   0   0 734   2   0]\n",
      "[  0   0   0   0   0   0   0   0   0   0   0   0   0   0   0   6 655  19]\n",
      "[  0   0   0   0   0   0   0   0   0   0   0   0   0   0   1   0   2 231]\n",
      "-------------------------------------------------------------------------\n",
      "Validation F1 score : 0.9622961330046755\n"
     ]
    },
    {
     "name": "stderr",
     "output_type": "stream",
     "text": [
      " 50%|█████     | 508/1012 [01:51<43:58,  5.23s/it]  "
     ]
    },
    {
     "name": "stdout",
     "output_type": "stream",
     "text": [
      "model saved!\n",
      "*************************************************************************\n",
      "\n"
     ]
    },
    {
     "name": "stderr",
     "output_type": "stream",
     "text": [
      "100%|█████████▉| 1011/1012 [03:16<00:00,  5.96it/s]"
     ]
    },
    {
     "name": "stdout",
     "output_type": "stream",
     "text": [
      "Loss : 1.4408029317855835\n",
      "< VALIDATION >\n",
      "Total Accuracy\n",
      "97.38271604938271 %\n",
      "-------------------------------------------------------------------------\n",
      "Class Accuracy\n",
      "Mask   : 99.84005905511812 %\n",
      "Gender : 99.70472440944881 %\n",
      "Age    : 97.83464566929135 %\n",
      "-------------------------------------------------------------------------\n",
      "Confusion Matrix\n",
      "[543   0   0   4   0   0   1   0   0   0   0   0   0   0   0   0   0   0]\n",
      "[ 10 279  12   0   1   0   0   2   0   0   0   0   0   0   0   0   0   0]\n",
      "[  0   7 161   0   0   0   0   0   0   0   0   0   0   0   0   0   0   0]\n",
      "[  5   0   0 728   3   0   0   0   0   2   0   0   0   0   0   0   0   0]\n",
      "[  0   0   0   6 609  25   0   0   0   0   1   0   0   0   0   0   0   0]\n",
      "[  0   0   0   0   5 240   0   0   0   0   0   3   0   0   0   0   0   0]\n",
      "[  1   0   0   0   0   0 587   0   0   2   0   0   0   0   0   0   0   0]\n",
      "[  0   1   0   0   0   0  11 287  14   0   0   0   0   0   0   0   0   0]\n",
      "[  0   0   0   0   0   0   0   8 167   0   0   0   0   0   0   0   0   0]\n",
      "[  0   0   0   0   0   0   3   0   0 754   2   0   0   0   0   0   0   0]\n",
      "[  0   0   0   0   1   0   0   0   0   1 687   8   0   0   0   0   0   0]\n",
      "[  0   0   0   0   1   0   0   0   0   0   5 250   0   0   0   0   0   0]\n",
      "[  0   0   0   0   0   0   0   0   0   0   0   0 534   0   0   3   0   0]\n",
      "[  0   0   0   0   0   0   0   0   0   0   0   0  10 278  12   0   1   0]\n",
      "[  0   0   0   0   0   0   0   0   0   0   0   0   0   1 171   0   0   0]\n",
      "[  0   0   0   0   0   0   0   0   0   0   0   0   2   0   0 734   3   0]\n",
      "[  0   0   0   0   0   0   0   0   0   0   0   0   0   3   0   6 648  23]\n",
      "[  0   0   0   0   0   0   0   0   0   0   0   0   0   0   0   0   3 231]\n",
      "-------------------------------------------------------------------------\n",
      "Validation F1 score : 0.9655810874384354\n"
     ]
    },
    {
     "name": "stderr",
     "output_type": "stream",
     "text": [
      "1013it [03:41,  4.58it/s]                          "
     ]
    },
    {
     "name": "stdout",
     "output_type": "stream",
     "text": [
      "model saved!\n",
      "*************************************************************************\n",
      "\n",
      "Adjusting learning rate of group 0 to 1.8499e-05.\n",
      "Epoch : 15\n"
     ]
    },
    {
     "name": "stderr",
     "output_type": "stream",
     "text": [
      "\n",
      " 50%|█████     | 506/1012 [01:26<01:25,  5.90it/s]"
     ]
    },
    {
     "name": "stdout",
     "output_type": "stream",
     "text": [
      "Loss : 1.438280212808643\n"
     ]
    },
    {
     "name": "stderr",
     "output_type": "stream",
     "text": [
      " 50%|█████     | 508/1012 [01:50<42:56,  5.11s/it]  "
     ]
    },
    {
     "name": "stdout",
     "output_type": "stream",
     "text": [
      "< VALIDATION >\n",
      "Total Accuracy\n",
      "96.74074074074073 %\n",
      "-------------------------------------------------------------------------\n",
      "Class Accuracy\n",
      "Mask   : 99.87696850393701 %\n",
      "Gender : 99.61860236220473 %\n",
      "Age    : 97.24409448818898 %\n",
      "-------------------------------------------------------------------------\n",
      "Confusion Matrix\n",
      "[544   0   0   4   0   0   0   0   0   0   0   0   0   0   0   0   0   0]\n",
      "[  9 272  21   0   1   0   0   1   0   0   0   0   0   0   0   0   0   0]\n",
      "[  0   7 161   0   0   0   0   0   0   0   0   0   0   0   0   0   0   0]\n",
      "[  7   0   0 721  10   0   0   0   0   0   0   0   0   0   0   0   0   0]\n",
      "[  0   3   0   3 598  37   0   0   0   0   0   0   0   0   0   0   0   0]\n",
      "[  0   0   0   0   3 244   0   0   0   0   0   1   0   0   0   0   0   0]\n",
      "[  3   0   0   0   0   0 585   0   0   2   0   0   0   0   0   0   0   0]\n",
      "[  0   2   0   0   0   0   9 278  22   0   1   0   0   1   0   0   0   0]\n",
      "[  0   0   0   0   0   0   0   3 172   0   0   0   0   0   0   0   0   0]\n",
      "[  0   0   0   0   0   0   6   0   0 750   3   0   0   0   0   0   0   0]\n",
      "[  0   0   0   0   0   0   0   0   0   1 671  25   0   0   0   0   0   0]\n",
      "[  0   0   0   0   1   0   0   0   0   0   3 251   0   0   0   0   0   1]\n",
      "[  0   0   0   0   0   0   0   0   0   0   0   0 533   1   0   3   0   0]\n",
      "[  0   0   0   0   0   0   0   0   0   0   0   0   9 270  21   0   1   0]\n",
      "[  0   0   0   0   0   0   0   0   0   0   0   0   0   0 172   0   0   0]\n",
      "[  0   0   0   0   0   0   0   0   0   0   0   0   2   0   0 735   2   0]\n",
      "[  0   0   0   0   0   0   0   0   0   0   0   0   0   1   0   2 647  30]\n",
      "[  0   0   0   0   0   0   0   0   0   0   0   0   0   0   0   0   2 232]\n",
      "-------------------------------------------------------------------------\n",
      "Validation F1 score : 0.9562490485972837\n",
      "*************************************************************************\n",
      "\n"
     ]
    },
    {
     "name": "stderr",
     "output_type": "stream",
     "text": [
      "100%|█████████▉| 1011/1012 [03:16<00:00,  5.98it/s]"
     ]
    },
    {
     "name": "stdout",
     "output_type": "stream",
     "text": [
      "Loss : 1.437180322385117\n",
      "< VALIDATION >\n",
      "Total Accuracy\n",
      "97.91358024691358 %\n",
      "-------------------------------------------------------------------------\n",
      "Class Accuracy\n",
      "Mask   : 99.9384842519685 %\n",
      "Gender : 99.66781496062993 %\n",
      "Age    : 98.30216535433071 %\n",
      "-------------------------------------------------------------------------\n",
      "Confusion Matrix\n",
      "[544   0   0   4   0   0   0   0   0   0   0   0   0   0   0   0   0   0]\n",
      "[  8 281  14   0   1   0   0   0   0   0   0   0   0   0   0   0   0   0]\n",
      "[  0   6 162   0   0   0   0   0   0   0   0   0   0   0   0   0   0   0]\n",
      "[  6   0   0 728   3   0   0   0   0   1   0   0   0   0   0   0   0   0]\n",
      "[  0   1   0   9 621  10   0   0   0   0   0   0   0   0   0   0   0   0]\n",
      "[  0   0   1   0   5 242   0   0   0   0   0   0   0   0   0   0   0   0]\n",
      "[  2   0   0   0   0   0 585   1   0   2   0   0   0   0   0   0   0   0]\n",
      "[  0   1   0   0   0   0  10 286  16   0   0   0   0   0   0   0   0   0]\n",
      "[  0   0   0   0   0   0   0   3 172   0   0   0   0   0   0   0   0   0]\n",
      "[  0   0   0   0   0   0   4   0   0 753   2   0   0   0   0   0   0   0]\n",
      "[  0   0   0   0   0   0   0   0   0   1 688   8   0   0   0   0   0   0]\n",
      "[  0   0   0   0   0   0   0   0   0   0   3 252   0   0   0   0   1   0]\n",
      "[  0   0   0   0   0   0   0   0   0   0   0   0 533   1   0   3   0   0]\n",
      "[  0   0   0   0   0   0   0   0   0   0   0   0   9 279  12   0   1   0]\n",
      "[  0   0   0   0   0   0   0   0   0   0   0   0   0   1 171   0   0   0]\n",
      "[  0   0   0   0   0   0   0   0   0   0   0   0   3   0   0 735   1   0]\n",
      "[  0   0   0   0   0   0   0   0   0   0   0   0   0   1   0   6 668   5]\n",
      "[  0   0   0   0   0   0   0   0   0   0   0   0   0   0   0   0   3 231]\n",
      "-------------------------------------------------------------------------\n",
      "Validation F1 score : 0.9725228044921087\n"
     ]
    },
    {
     "name": "stderr",
     "output_type": "stream",
     "text": [
      "1013it [03:41,  4.58it/s]                          "
     ]
    },
    {
     "name": "stdout",
     "output_type": "stream",
     "text": [
      "model saved!\n",
      "*************************************************************************\n",
      "\n",
      "Adjusting learning rate of group 0 to 1.5724e-05.\n",
      "Finish\n"
     ]
    },
    {
     "name": "stderr",
     "output_type": "stream",
     "text": [
      "\n"
     ]
    }
   ],
   "source": [
    "NUM_EPOCHS = 15\n",
    "\n",
    "for epoch in range(NUM_EPOCHS):\n",
    "    print(\"Epoch :\", epoch + 1)\n",
    "    train_running_loss = 0.0\n",
    "    train_running_correct = 0\n",
    "    counter = 0\n",
    "    total = 0\n",
    "    total_it = int(len(train_dataset)/train_loader.batch_size)\n",
    "    prog_bar = tqdm(enumerate(train_loader), total=total_it)\n",
    "    for i, (inputs, (m, g, a)) in prog_bar:\n",
    "        counter += 1\n",
    "        optimizer.zero_grad()\n",
    "        inputs = inputs.to(device)\n",
    "        m_pred, g_pred, a_pred = model(inputs)\n",
    "        \n",
    "        \n",
    "        m = m.to(device)\n",
    "        g = g.to(device)\n",
    "        a = a.to(device)\n",
    "        total += m.size(0)\n",
    "        \n",
    "        \n",
    "#         print(g.shape)\n",
    "#         print(g_pred.shape)\n",
    "        \n",
    "#         print(a.shape)\n",
    "#         print(a_pred.shape)\n",
    "        \n",
    "#         print(m.shape)\n",
    "#         print(m_pred.shape)\n",
    "        \n",
    "        m_loss = criterion(m_pred, m)\n",
    "        g_loss = gender_criterion(g_pred, g)\n",
    "        a_loss = age_criterion(a_pred, a) # data imbalance\n",
    "        \n",
    "        \n",
    "        loss = (g_loss+a_loss+m_loss)\n",
    "        loss.backward()\n",
    "        optimizer.step()\n",
    "        \n",
    "#         m_argmax = torch.argmax(m_pred)\n",
    "        \n",
    "#         _, preds = torch.max(outputs.data, 1)\n",
    "#         train_running_correct += (preds == labels).sum().item()\n",
    "        \n",
    "        train_running_loss += loss.item()\n",
    "        \n",
    "        if i == total_it//2 or i == total_it-1:\n",
    "            train_loss = train_running_loss / counter\n",
    "#             train_accuracy = 100. * train_running_correct / total\n",
    "\n",
    "            print(\"Loss :\", train_loss)\n",
    "#             print(\"Accuracy :\", train_accuracy)\n",
    "            \n",
    "            check(val_loader, len(val_dataset), model, device)\n",
    "    scheduler.step()\n",
    "    train_running_loss = 0.0\n",
    "    train_running_correct = 0\n",
    "print(\"Finish\")"
   ]
  },
  {
   "cell_type": "markdown",
   "id": "continued-feelings",
   "metadata": {},
   "source": [
    "## Testing"
   ]
  },
  {
   "cell_type": "code",
   "execution_count": 11,
   "id": "8ecf6622-e3d7-401a-84d8-82ba94f6e654",
   "metadata": {},
   "outputs": [
    {
     "ename": "FileNotFoundError",
     "evalue": "[Errno 2] No such file or directory: '/opt/ml/weights/3way_resnext/Aug_0.9725228044921087.pt'",
     "output_type": "error",
     "traceback": [
      "\u001b[0;31m---------------------------------------------------------------------------\u001b[0m",
      "\u001b[0;31mFileNotFoundError\u001b[0m                         Traceback (most recent call last)",
      "\u001b[0;32m<ipython-input-11-069c0503187c>\u001b[0m in \u001b[0;36m<module>\u001b[0;34m\u001b[0m\n\u001b[0;32m----> 1\u001b[0;31m \u001b[0mmodel\u001b[0m\u001b[0;34m.\u001b[0m\u001b[0mload_state_dict\u001b[0m\u001b[0;34m(\u001b[0m\u001b[0mtorch\u001b[0m\u001b[0;34m.\u001b[0m\u001b[0mload\u001b[0m\u001b[0;34m(\u001b[0m\u001b[0;34m'/opt/ml/weights/3way_resnext/Aug_{}.pt'\u001b[0m\u001b[0;34m.\u001b[0m\u001b[0mformat\u001b[0m\u001b[0;34m(\u001b[0m\u001b[0mmodel\u001b[0m\u001b[0;34m.\u001b[0m\u001b[0mbest_f1\u001b[0m\u001b[0;34m)\u001b[0m\u001b[0;34m)\u001b[0m\u001b[0;34m)\u001b[0m\u001b[0;34m\u001b[0m\u001b[0;34m\u001b[0m\u001b[0m\n\u001b[0m\u001b[1;32m      2\u001b[0m \u001b[0;31m# model.load_state_dict(torch.load('/opt/ml/weights/3way/Aug_0.9841404744270768.pt'.format(model.best_f1)))\u001b[0m\u001b[0;34m\u001b[0m\u001b[0;34m\u001b[0m\u001b[0;34m\u001b[0m\u001b[0m\n",
      "\u001b[0;32m/opt/conda/lib/python3.8/site-packages/torch/serialization.py\u001b[0m in \u001b[0;36mload\u001b[0;34m(f, map_location, pickle_module, **pickle_load_args)\u001b[0m\n\u001b[1;32m    579\u001b[0m         \u001b[0mpickle_load_args\u001b[0m\u001b[0;34m[\u001b[0m\u001b[0;34m'encoding'\u001b[0m\u001b[0;34m]\u001b[0m \u001b[0;34m=\u001b[0m \u001b[0;34m'utf-8'\u001b[0m\u001b[0;34m\u001b[0m\u001b[0;34m\u001b[0m\u001b[0m\n\u001b[1;32m    580\u001b[0m \u001b[0;34m\u001b[0m\u001b[0m\n\u001b[0;32m--> 581\u001b[0;31m     \u001b[0;32mwith\u001b[0m \u001b[0m_open_file_like\u001b[0m\u001b[0;34m(\u001b[0m\u001b[0mf\u001b[0m\u001b[0;34m,\u001b[0m \u001b[0;34m'rb'\u001b[0m\u001b[0;34m)\u001b[0m \u001b[0;32mas\u001b[0m \u001b[0mopened_file\u001b[0m\u001b[0;34m:\u001b[0m\u001b[0;34m\u001b[0m\u001b[0;34m\u001b[0m\u001b[0m\n\u001b[0m\u001b[1;32m    582\u001b[0m         \u001b[0;32mif\u001b[0m \u001b[0m_is_zipfile\u001b[0m\u001b[0;34m(\u001b[0m\u001b[0mopened_file\u001b[0m\u001b[0;34m)\u001b[0m\u001b[0;34m:\u001b[0m\u001b[0;34m\u001b[0m\u001b[0;34m\u001b[0m\u001b[0m\n\u001b[1;32m    583\u001b[0m             \u001b[0;31m# The zipfile reader is going to advance the current file position.\u001b[0m\u001b[0;34m\u001b[0m\u001b[0;34m\u001b[0m\u001b[0;34m\u001b[0m\u001b[0m\n",
      "\u001b[0;32m/opt/conda/lib/python3.8/site-packages/torch/serialization.py\u001b[0m in \u001b[0;36m_open_file_like\u001b[0;34m(name_or_buffer, mode)\u001b[0m\n\u001b[1;32m    228\u001b[0m \u001b[0;32mdef\u001b[0m \u001b[0m_open_file_like\u001b[0m\u001b[0;34m(\u001b[0m\u001b[0mname_or_buffer\u001b[0m\u001b[0;34m,\u001b[0m \u001b[0mmode\u001b[0m\u001b[0;34m)\u001b[0m\u001b[0;34m:\u001b[0m\u001b[0;34m\u001b[0m\u001b[0;34m\u001b[0m\u001b[0m\n\u001b[1;32m    229\u001b[0m     \u001b[0;32mif\u001b[0m \u001b[0m_is_path\u001b[0m\u001b[0;34m(\u001b[0m\u001b[0mname_or_buffer\u001b[0m\u001b[0;34m)\u001b[0m\u001b[0;34m:\u001b[0m\u001b[0;34m\u001b[0m\u001b[0;34m\u001b[0m\u001b[0m\n\u001b[0;32m--> 230\u001b[0;31m         \u001b[0;32mreturn\u001b[0m \u001b[0m_open_file\u001b[0m\u001b[0;34m(\u001b[0m\u001b[0mname_or_buffer\u001b[0m\u001b[0;34m,\u001b[0m \u001b[0mmode\u001b[0m\u001b[0;34m)\u001b[0m\u001b[0;34m\u001b[0m\u001b[0;34m\u001b[0m\u001b[0m\n\u001b[0m\u001b[1;32m    231\u001b[0m     \u001b[0;32melse\u001b[0m\u001b[0;34m:\u001b[0m\u001b[0;34m\u001b[0m\u001b[0;34m\u001b[0m\u001b[0m\n\u001b[1;32m    232\u001b[0m         \u001b[0;32mif\u001b[0m \u001b[0;34m'w'\u001b[0m \u001b[0;32min\u001b[0m \u001b[0mmode\u001b[0m\u001b[0;34m:\u001b[0m\u001b[0;34m\u001b[0m\u001b[0;34m\u001b[0m\u001b[0m\n",
      "\u001b[0;32m/opt/conda/lib/python3.8/site-packages/torch/serialization.py\u001b[0m in \u001b[0;36m__init__\u001b[0;34m(self, name, mode)\u001b[0m\n\u001b[1;32m    209\u001b[0m \u001b[0;32mclass\u001b[0m \u001b[0m_open_file\u001b[0m\u001b[0;34m(\u001b[0m\u001b[0m_opener\u001b[0m\u001b[0;34m)\u001b[0m\u001b[0;34m:\u001b[0m\u001b[0;34m\u001b[0m\u001b[0;34m\u001b[0m\u001b[0m\n\u001b[1;32m    210\u001b[0m     \u001b[0;32mdef\u001b[0m \u001b[0m__init__\u001b[0m\u001b[0;34m(\u001b[0m\u001b[0mself\u001b[0m\u001b[0;34m,\u001b[0m \u001b[0mname\u001b[0m\u001b[0;34m,\u001b[0m \u001b[0mmode\u001b[0m\u001b[0;34m)\u001b[0m\u001b[0;34m:\u001b[0m\u001b[0;34m\u001b[0m\u001b[0;34m\u001b[0m\u001b[0m\n\u001b[0;32m--> 211\u001b[0;31m         \u001b[0msuper\u001b[0m\u001b[0;34m(\u001b[0m\u001b[0m_open_file\u001b[0m\u001b[0;34m,\u001b[0m \u001b[0mself\u001b[0m\u001b[0;34m)\u001b[0m\u001b[0;34m.\u001b[0m\u001b[0m__init__\u001b[0m\u001b[0;34m(\u001b[0m\u001b[0mopen\u001b[0m\u001b[0;34m(\u001b[0m\u001b[0mname\u001b[0m\u001b[0;34m,\u001b[0m \u001b[0mmode\u001b[0m\u001b[0;34m)\u001b[0m\u001b[0;34m)\u001b[0m\u001b[0;34m\u001b[0m\u001b[0;34m\u001b[0m\u001b[0m\n\u001b[0m\u001b[1;32m    212\u001b[0m \u001b[0;34m\u001b[0m\u001b[0m\n\u001b[1;32m    213\u001b[0m     \u001b[0;32mdef\u001b[0m \u001b[0m__exit__\u001b[0m\u001b[0;34m(\u001b[0m\u001b[0mself\u001b[0m\u001b[0;34m,\u001b[0m \u001b[0;34m*\u001b[0m\u001b[0margs\u001b[0m\u001b[0;34m)\u001b[0m\u001b[0;34m:\u001b[0m\u001b[0;34m\u001b[0m\u001b[0;34m\u001b[0m\u001b[0m\n",
      "\u001b[0;31mFileNotFoundError\u001b[0m: [Errno 2] No such file or directory: '/opt/ml/weights/3way_resnext/Aug_0.9725228044921087.pt'"
     ]
    }
   ],
   "source": [
    "model.load_state_dict(torch.load('/opt/ml/weights/3way_resnext/Aug_{}.pt'.format(model.best_f1)))\n",
    "# model.load_state_dict(torch.load('/opt/ml/weights/3way/Aug_0.9841404744270768.pt'.format(model.best_f1)))"
   ]
  },
  {
   "cell_type": "code",
   "execution_count": null,
   "id": "coral-shade",
   "metadata": {},
   "outputs": [],
   "source": [
    "# meta 데이터와 이미지 경로를 불러옵니다.\n",
    "submission = pd.read_csv(os.path.join(test_dir, 'info.csv'))\n",
    "image_dir = os.path.join(test_dir, 'images')\n",
    "\n",
    "# Test Dataset 클래스 객체를 생성하고 DataLoader를 만듭니다.\n",
    "image_paths = [os.path.join(image_dir, img_id) for img_id in submission.ImageID]\n",
    "dataset = TestDataset(image_paths, tfms_test)\n",
    "\n",
    "loader = DataLoader(\n",
    "    dataset,\n",
    "    shuffle=False,\n",
    "    batch_size=64,\n",
    "    num_workers=4\n",
    ")\n",
    "\n",
    "# 모델을 정의합니다. (학습한 모델이 있다면 torch.load로 모델을 불러주세요!)\n",
    "# device = torch.device('cuda')\n",
    "\n",
    "model.eval()\n",
    "device = torch.device(\"cuda:0\")\n",
    "# 모델이 테스트 데이터셋을 예측하고 결과를 저장합니다.\n",
    "all_predictions = []\n",
    "\n",
    "prog_bar = tqdm(enumerate(loader), total=int(len(dataset)/loader.batch_size))\n",
    "for i, images in prog_bar:\n",
    "    with torch.no_grad():\n",
    "        images = images.to(device)\n",
    "        m_pred, g_pred, a_pred = model(images)\n",
    "#         print(images.shape)\n",
    "#         print(m_pred.shape)\n",
    "        m_argmax = m_pred.detach().cpu().numpy().argmax(1)\n",
    "        g_argmax = g_pred.detach().cpu().numpy().argmax(1)\n",
    "        a_argmax = a_pred.detach().cpu().numpy().argmax(1)\n",
    "        \n",
    "        for mask, gender, age in zip(m_argmax, g_argmax, a_argmax):\n",
    "            predicted = labels_to_class[(mask.item(), gender.item(), age.item())]\n",
    "            all_predictions.append(predicted)\n",
    "submission['ans'] = all_predictions\n",
    "\n",
    "# 제출할 파일을 저장합니다.\n",
    "submission.to_csv(os.path.join(test_dir, 'submission.csv'), index=False)\n",
    "print('test inference is done!')"
   ]
  },
  {
   "cell_type": "code",
   "execution_count": null,
   "id": "01883cc5-1adf-4c19-ba4b-e53ce43575ea",
   "metadata": {},
   "outputs": [],
   "source": [
    "idx = 1020\n",
    "image = cv2.imread(image_paths[idx])\n",
    "image = cv2.cvtColor(image, cv2.COLOR_BGR2RGB)\n",
    "plt.imshow(image)\n",
    "\n",
    "image = tfms_test(image=image)['image'].to(device)\n",
    "image = image.unsqueeze(0)\n",
    "m_pred, g_pred, a_pred = model(image)\n",
    "\n",
    "m_argmax = m_pred.detach().cpu().numpy().argmax(1)\n",
    "g_argmax = g_pred.detach().cpu().numpy().argmax(1)\n",
    "a_argmax = a_pred.detach().cpu().numpy().argmax(1)\n",
    "\n",
    "#\n",
    "masklabel = {0: \"Mask\", 1: \"Incorrect\", 2: \"Normal\"}\n",
    "genderlabel = {0: \"Male\", 1: \"Female\"}\n",
    "agelabel = {0: \"~ 30\", 1: \"30 ~ 60\", 2: \"60 ~\"}\n",
    "#\n",
    "print(masklabel[m_argmax[0]]+ \" :\", (m_pred[0][m_argmax].item())*100, '%')\n",
    "print(genderlabel[g_argmax[0]]+ \" :\", (g_pred[0][g_argmax].item())*100, '%')\n",
    "print(agelabel[a_argmax[0]]+ \" :\", (a_pred[0][a_argmax].item())*100, '%')\n"
   ]
  },
  {
   "cell_type": "code",
   "execution_count": null,
   "id": "2614e887-7750-4c03-80a5-7a0a5b3fab38",
   "metadata": {},
   "outputs": [],
   "source": []
  }
 ],
 "metadata": {
  "kernelspec": {
   "display_name": "Python 3 (ipykernel)",
   "language": "python",
   "name": "python3"
  },
  "language_info": {
   "codemirror_mode": {
    "name": "ipython",
    "version": 3
   },
   "file_extension": ".py",
   "mimetype": "text/x-python",
   "name": "python",
   "nbconvert_exporter": "python",
   "pygments_lexer": "ipython3",
   "version": "3.8.5"
  }
 },
 "nbformat": 4,
 "nbformat_minor": 5
}
