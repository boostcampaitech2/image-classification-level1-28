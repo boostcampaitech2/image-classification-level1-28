{
 "cells": [
  {
   "cell_type": "code",
   "execution_count": 1,
   "id": "1f6c693b-8a00-4a77-8c85-10c212680012",
   "metadata": {},
   "outputs": [
    {
     "name": "stderr",
     "output_type": "stream",
     "text": [
      "/opt/conda/lib/python3.8/site-packages/tqdm/std.py:703: FutureWarning: The Panel class is removed from pandas. Accessing it from the top-level namespace will also be removed in the next version\n",
      "  from pandas import Panel\n"
     ]
    }
   ],
   "source": [
    "import albumentations\n",
    "import albumentations.pytorch\n",
    "import numpy as np\n",
    "import os\n",
    "import pandas as pd\n",
    "import matplotlib.pyplot as plt\n",
    "import cv2\n",
    "from PIL import Image\n",
    "from tqdm import tqdm\n",
    "from models import models\n",
    "import timm\n",
    "import torch\n",
    "import torch.nn as nn\n",
    "import torch.nn.functional as F\n",
    "import torch.optim as optim\n",
    "from torch.optim import AdamW\n",
    "from torch.utils.data import Dataset, DataLoader\n",
    "from torchvision import transforms\n",
    "from torchvision.transforms import Resize, ToTensor, Normalize\n",
    "from sklearn.metrics import f1_score\n",
    "from efficientnet_pytorch import EfficientNet\n",
    "tqdm.pandas()"
   ]
  },
  {
   "cell_type": "code",
   "execution_count": 2,
   "id": "61b89bd7-404b-415a-8912-c190004cdfe9",
   "metadata": {},
   "outputs": [
    {
     "name": "stdout",
     "output_type": "stream",
     "text": [
      "cuda:0 is using!\n"
     ]
    }
   ],
   "source": [
    "device = torch.device(\"cuda:0\" if torch.cuda.is_available() else \"cpu\")\n",
    "print(f\"{device} is using!\")"
   ]
  },
  {
   "cell_type": "markdown",
   "id": "f91942fb-d83d-4570-bb44-fbb52ee3b7fb",
   "metadata": {},
   "source": [
    "## WandB INIT, Config"
   ]
  },
  {
   "cell_type": "code",
   "execution_count": 3,
   "id": "5ae3374a-8f33-44ad-997a-e2bf45d07dcd",
   "metadata": {},
   "outputs": [
    {
     "name": "stderr",
     "output_type": "stream",
     "text": [
      "\u001b[34m\u001b[1mwandb\u001b[0m: Currently logged in as: \u001b[33myoukind\u001b[0m (use `wandb login --relogin` to force relogin)\n",
      "\u001b[34m\u001b[1mwandb\u001b[0m: wandb version 0.12.1 is available!  To upgrade, please run:\n",
      "\u001b[34m\u001b[1mwandb\u001b[0m:  $ pip install wandb --upgrade\n",
      "\n",
      "CondaEnvException: Unable to determine environment\n",
      "\n",
      "Please re-run this command with one of the following options:\n",
      "\n",
      "* Provide an environment name via --name or -n\n",
      "* Re-run this command inside an activated conda environment.\n",
      "\n"
     ]
    },
    {
     "data": {
      "text/html": [
       "\n",
       "                Tracking run with wandb version 0.12.0<br/>\n",
       "                Syncing run <strong style=\"color:#cdcd00\">Way3_BN_efficientnet-b3_GC_A_weighted_32_5e-05_0.9_0.3</strong> to <a href=\"https://wandb.ai\" target=\"_blank\">Weights & Biases</a> <a href=\"https://docs.wandb.com/integrations/jupyter.html\" target=\"_blank\">(Documentation)</a>.<br/>\n",
       "                Project page: <a href=\"https://wandb.ai/youkind/MaskClassification\" target=\"_blank\">https://wandb.ai/youkind/MaskClassification</a><br/>\n",
       "                Run page: <a href=\"https://wandb.ai/youkind/MaskClassification/runs/2sdbenpb\" target=\"_blank\">https://wandb.ai/youkind/MaskClassification/runs/2sdbenpb</a><br/>\n",
       "                Run data is saved locally in <code>/opt/ml/git/JH/wandb/run-20210827_051815-2sdbenpb</code><br/><br/>\n",
       "            "
      ],
      "text/plain": [
       "<IPython.core.display.HTML object>"
      ]
     },
     "metadata": {},
     "output_type": "display_data"
    },
    {
     "data": {
      "text/html": [
       "<h1>Run(2sdbenpb)</h1><iframe src=\"https://wandb.ai/youkind/MaskClassification/runs/2sdbenpb\" style=\"border:none;width:100%;height:400px\"></iframe>"
      ],
      "text/plain": [
       "<wandb.sdk.wandb_run.Run at 0x7f290860c880>"
      ]
     },
     "execution_count": 3,
     "metadata": {},
     "output_type": "execute_result"
    }
   ],
   "source": [
    "import wandb\n",
    "\n",
    "config={\n",
    "    \"lr\": 5e-5,\n",
    "    \"backbone\" : \"Way3_BN\",\n",
    "    \"architecture\": \"efficientnet-b3\",\n",
    "    \"input_size\" : 300,\n",
    "    \"dropout\" : 0.3,\n",
    "    \"dataset\": \"GC\",\n",
    "    \"augmentation\" : \"A\",\n",
    "    \"loss\" : \"weighted\",\n",
    "    \"gamma\" : 0.9,\n",
    "    \"batch_size\" : 32,\n",
    "    \"epochs\" : 20,\n",
    "    \"memo\" : \"광채님 데이터셋 + way3\",\n",
    "}\n",
    "config['model'] = '_'.join([config[\"backbone\"], config['architecture'], config['dataset'], config['augmentation'], config['loss'], str(config['batch_size']), str(config['lr']), str(config['gamma']), str(config['dropout'])])\n",
    "wandb.init(project=\"MaskClassification\", name=config['model'], config=config)"
   ]
  },
  {
   "cell_type": "markdown",
   "id": "2b2b8c32-03ca-4436-8f83-fd5edf96e81c",
   "metadata": {},
   "source": [
    "## Dataset"
   ]
  },
  {
   "cell_type": "code",
   "execution_count": 4,
   "id": "4fcafbfa-4bf3-4524-910d-6815d9bc77d3",
   "metadata": {},
   "outputs": [],
   "source": [
    "class MyDataset(Dataset):\n",
    "    def __init__(self, path, label, transform):\n",
    "        img_list = []\n",
    "        for p in tqdm(path):\n",
    "            img = cv2.imread(p)\n",
    "            img = cv2.cvtColor(img, cv2.COLOR_BGR2RGB)\n",
    "            img_list.append(img)\n",
    "        \n",
    "        self.X = img_list\n",
    "        self.labeldic = [(m, g, a) for m in [0,1,2] for g in [0, 1] for a in [0, 1, 2]]\n",
    "        self.y = label\n",
    "        self.transform = transform\n",
    "        \n",
    "    def __len__(self):\n",
    "        len_dataset = len(self.X)\n",
    "        return len_dataset\n",
    "\n",
    "    def __getitem__(self, idx):\n",
    "        X,y = self.X[idx], self.labeldic[self.y[idx]]\n",
    "        X = self.transform(image=X)['image']  # transforms를 사용하시는 분은 X = self.transform(X)\n",
    "        return X, y"
   ]
  },
  {
   "cell_type": "code",
   "execution_count": 5,
   "id": "bc4be2e3-e1bf-401d-a746-3e08a624a144",
   "metadata": {},
   "outputs": [],
   "source": [
    "class TestDataset(Dataset):\n",
    "    def __init__(self, path, transform):\n",
    "        img_list = []\n",
    "        for p in tqdm(path):\n",
    "            img = cv2.imread(p)\n",
    "            img = cv2.cvtColor(img, cv2.COLOR_BGR2RGB)\n",
    "            img_list.append(img)\n",
    "        \n",
    "        self.X = img_list\n",
    "        self.transform = transform\n",
    "\n",
    "    def __len__(self):\n",
    "        len_dataset = len(self.X)\n",
    "        return len_dataset\n",
    "\n",
    "    def __getitem__(self, idx):\n",
    "        X = self.X[idx]\n",
    "        X = self.transform(image=X)['image']  # transforms를 사용하시는 분은 X = self.transform(X)\n",
    "\n",
    "        return X"
   ]
  },
  {
   "cell_type": "code",
   "execution_count": 6,
   "id": "76012de7-bb71-468b-b135-786439648026",
   "metadata": {},
   "outputs": [],
   "source": [
    "# Augmentation은 각자 방식대로\n",
    "\n",
    "train_transform = albumentations.Compose(\n",
    "  [\n",
    "      albumentations.CenterCrop(450,350),\n",
    "      albumentations.Resize(config['input_size'],config['input_size']),\n",
    "#       albumentations.RandomRotation(15),\n",
    "      albumentations.HorizontalFlip(p=0.5),\n",
    "      albumentations.ShiftScaleRotate(shift_limit=0.05, scale_limit=0.05, rotate_limit=15, p=0.6),\n",
    "      albumentations.RandomBrightnessContrast(brightness_limit=0.1, p=0.6),\n",
    "      albumentations.GaussNoise(p=0.5),\n",
    "#       albumentations.MotionBlur(p=0.5),\n",
    "      albumentations.OpticalDistortion(p=0.5),\n",
    "      albumentations.Normalize((0.548, 0.504, 0.479), (0.237, 0.247, 0.246)),\n",
    "      albumentations.pytorch.transforms.ToTensorV2(),\n",
    "      #       이미지 원본 사이즈는 512,384  \n",
    "  ]\n",
    ")\n",
    "\n",
    "TTA1= albumentations.Compose(\n",
    "  [\n",
    "      albumentations.CenterCrop(450,350),\n",
    "      albumentations.Resize(config['input_size'],config['input_size']),\n",
    "      albumentations.Normalize((0.548, 0.504, 0.479), (0.237, 0.247, 0.246)),\n",
    "      albumentations.pytorch.transforms.ToTensorV2()\n",
    "      #       이미지 원본 사이즈는 512,384  \n",
    "  ]\n",
    ")\n",
    "TTA2 = albumentations.Compose(\n",
    "  [\n",
    "      albumentations.CenterCrop(450,350),\n",
    "      albumentations.Resize(config['input_size'],config['input_size']),\n",
    "      albumentations.HorizontalFlip(p=1),\n",
    "      albumentations.GaussNoise(p=1),\n",
    "      albumentations.Normalize((0.548, 0.504, 0.479), (0.237, 0.247, 0.246)),\n",
    "      albumentations.pytorch.transforms.ToTensorV2()\n",
    "      #       이미지 원본 사이즈는 512,384  \n",
    "  ]\n",
    ")\n",
    "TTA3 = albumentations.Compose(\n",
    "  [\n",
    "      albumentations.CenterCrop(450,350),\n",
    "      albumentations.Resize(config['input_size'],config['input_size']),\n",
    "      albumentations.ShiftScaleRotate(shift_limit=0.05, scale_limit=0.05, rotate_limit=15, p=1),\n",
    "#       albumentations.RandomBrightnessContrast(brightness_limit=0.1, p=1),\n",
    "      albumentations.Normalize((0.548, 0.504, 0.479), (0.237, 0.247, 0.246)),\n",
    "      albumentations.pytorch.transforms.ToTensorV2()\n",
    "      #       이미지 원본 사이즈는 384, 512   \n",
    "  ]\n",
    ")\n",
    "\n",
    "test_transform = albumentations.Compose(\n",
    "  [\n",
    "      albumentations.CenterCrop(450,350),\n",
    "      albumentations.Resize(config['input_size'],config['input_size']),\n",
    "      albumentations.Normalize((0.548, 0.504, 0.479), (0.237, 0.247, 0.246)),\n",
    "      albumentations.pytorch.transforms.ToTensorV2()\n",
    "      #       이미지 원본 사이즈는 384, 512   \n",
    "  ]\n",
    ")"
   ]
  },
  {
   "cell_type": "markdown",
   "id": "ecc68e9a-a5a9-4078-8829-50e6bcbbd13c",
   "metadata": {},
   "source": [
    "## DataLoader"
   ]
  },
  {
   "cell_type": "code",
   "execution_count": 7,
   "id": "536915c8-e29b-4664-8b75-040ceead26a1",
   "metadata": {},
   "outputs": [
    {
     "name": "stderr",
     "output_type": "stream",
     "text": [
      "100%|██████████| 15120/15120 [00:44<00:00, 336.82it/s]\n",
      "100%|██████████| 3780/3780 [00:11<00:00, 342.71it/s]\n"
     ]
    }
   ],
   "source": [
    "# DF 읽어오기\n",
    "train_df = pd.read_csv('/opt/ml/input/train_df.csv')\n",
    "valid_df = pd.read_csv('/opt/ml/input/valid_df.csv')\n",
    "\n",
    "# Dataset 객체 생성\n",
    "dataset_train = MyDataset(path=train_df['full_path'].values,\n",
    "                          label=train_df['label'].values,\n",
    "                          transform=train_transform)\n",
    "\n",
    "dataset_valid = MyDataset(path=valid_df['full_path'].values,\n",
    "                          label=valid_df['label'].values,\n",
    "                          transform=test_transform)\n",
    "\n",
    "# Loader 올리기\n",
    "train_dataloader = DataLoader(dataset_train, batch_size=config['batch_size'], shuffle=True, num_workers=3)\n",
    "valid_dataloader = DataLoader(dataset_valid, batch_size=config['batch_size'], shuffle=False, num_workers=3)"
   ]
  },
  {
   "cell_type": "markdown",
   "id": "9d708b66-75d3-42db-9d35-7eed14fd662b",
   "metadata": {},
   "source": [
    "## Model"
   ]
  },
  {
   "cell_type": "code",
   "execution_count": 8,
   "id": "68a251fd-fd65-4f39-9d9d-453e71e33dff",
   "metadata": {},
   "outputs": [
    {
     "name": "stdout",
     "output_type": "stream",
     "text": [
      "Loaded pretrained weights for efficientnet-b3\n"
     ]
    }
   ],
   "source": [
    "model = models.Way3_small(config).to(device)"
   ]
  },
  {
   "cell_type": "markdown",
   "id": "30f19dce-5710-4389-bfc4-831179451747",
   "metadata": {},
   "source": [
    "## Loss, Optimizer, Scheduler"
   ]
  },
  {
   "cell_type": "markdown",
   "id": "483bcda5-1023-47c6-8e92-eb8a11f41b49",
   "metadata": {},
   "source": [
    "### Weightedloss"
   ]
  },
  {
   "cell_type": "code",
   "execution_count": 9,
   "id": "5f7f9510-518f-49e4-8bce-3560d6ab7efb",
   "metadata": {},
   "outputs": [
    {
     "name": "stdout",
     "output_type": "stream",
     "text": [
      "tensor([0.0909, 0.4545, 0.4545], device='cuda:0') tensor([0.6134, 0.3866], device='cuda:0') tensor([0.1428, 0.1581, 0.6991], device='cuda:0')\n",
      "Adjusting learning rate of group 0 to 5.0000e-05.\n"
     ]
    }
   ],
   "source": [
    "import torch.optim as optim \n",
    "\n",
    "def distribution_to_weight(distribution):\n",
    "    result = distribution/distribution.sum()\n",
    "    result = 1/result\n",
    "    result = (result / result.sum())\n",
    "    return result\n",
    "\n",
    "mask_weight = distribution_to_weight(torch.tensor([13500, 2700, 2700])).to(device)\n",
    "gender_weight = distribution_to_weight(torch.tensor([7306, 11594])).to(device)\n",
    "age_weight = distribution_to_weight(torch.tensor([8967, 8101, 1832])).to(device)\n",
    "\n",
    "mask_criterion = nn.CrossEntropyLoss(weight=mask_weight).to(device)\n",
    "gender_criterion = nn.CrossEntropyLoss(weight=gender_weight).to(device)\n",
    "age_criterion = nn.CrossEntropyLoss(weight=age_weight).to(device)\n",
    "print(mask_weight, gender_weight, age_weight)\n",
    "\n",
    "optimizer = optim.Adam(model.parameters(), lr=config['lr'])\n",
    "scheduler = optim.lr_scheduler.StepLR(optimizer, step_size=1, gamma=config['gamma'], verbose=True)"
   ]
  },
  {
   "cell_type": "code",
   "execution_count": 10,
   "id": "afaa5c26-ad44-448c-b5c2-d1a4da4a68b5",
   "metadata": {},
   "outputs": [],
   "source": [
    "from sklearn.metrics import accuracy_score\n",
    "from sklearn.metrics import confusion_matrix\n",
    "labels_to_class = {}\n",
    "it = [(m, g, a) for m in [0,1,2] for g in [0, 1] for a in [0, 1, 2]]\n",
    "for i, (m, g, a) in enumerate(it):\n",
    "    labels_to_class[(m, g, a)] = i\n",
    "    \n",
    "def check(loader, length, model):\n",
    "    model.eval()\n",
    "    val_loss = 0.0\n",
    "    counter = 0\n",
    "    y_true = []\n",
    "    y_predicted = []\n",
    "\n",
    "    m_acc = []\n",
    "    g_acc = []\n",
    "    a_acc = []\n",
    "    with torch.no_grad():\n",
    "        for (inputs, (m, g, a)) in loader:\n",
    "            counter += 1\n",
    "            \n",
    "            for mask, gender, age in zip(m, g, a):\n",
    "                answer = labels_to_class[(mask.item(), gender.item(), age.item())]\n",
    "                y_true.append(answer)\n",
    "            \n",
    "            inputs = inputs.to(device=device)\n",
    "            m = m.to(device)\n",
    "            g = g.to(device)\n",
    "            a = a.to(device)\n",
    "\n",
    "            m_pred, g_pred, a_pred = model(inputs)\n",
    "    \n",
    "            m_loss = mask_criterion(m_pred, m)\n",
    "            g_loss = gender_criterion(g_pred, g)\n",
    "            a_loss = age_criterion(a_pred, a) # data imbalance\n",
    "            \n",
    "            loss = (g_loss+a_loss+m_loss)\n",
    "            \n",
    "            val_loss += loss.item()\n",
    "            \n",
    "            m_argmax = m_pred.detach().cpu().numpy().argmax(1)\n",
    "            g_argmax = g_pred.detach().cpu().numpy().argmax(1)\n",
    "            a_argmax = a_pred.detach().cpu().numpy().argmax(1)\n",
    "\n",
    "            m_acc.append(accuracy_score(m_argmax, m.detach().cpu().numpy()))\n",
    "            g_acc.append(accuracy_score(g_argmax, g.detach().cpu().numpy()))\n",
    "            a_acc.append(accuracy_score(a_argmax, a.detach().cpu().numpy()))\n",
    "\n",
    "            for mask, gender, age in zip(m_argmax, g_argmax, a_argmax):\n",
    "                predicted = labels_to_class[(mask.item(), gender.item(), age.item())]\n",
    "                y_predicted.append(predicted)\n",
    "    \n",
    "    \n",
    "    cm = confusion_matrix(y_true, y_predicted)\n",
    "    F1 = []\n",
    "    for c in range(18):\n",
    "        precision = cm[c][c] / np.sum(cm, axis=0)[c]\n",
    "        recall = cm[c][c] / np.sum(cm, axis=1)[c]\n",
    "        F1.append(2 * precision * recall / (precision + recall))\n",
    "    macro_F1 = np.mean(F1)\n",
    "\n",
    "    s = 0\n",
    "    for c in range(18):\n",
    "        s += cm[c][c]\n",
    "        \n",
    "    print(\"< VALIDATION >\")\n",
    "    print(\"*\"*73)\n",
    "    print(\"Validation Loss :\", val_loss/counter)\n",
    "    print(\"-\"*73)\n",
    "    print(\"Total Accuracy\")\n",
    "    print(accuracy_score(y_true, y_predicted) * 100, \"%\")\n",
    "    print(\"-\"*73)\n",
    "    print(\"Class Accuracy\")\n",
    "    print(\"Mask   :\", np.mean(m_acc)*100, \"%\")\n",
    "    print(\"Gender :\", np.mean(g_acc)*100, \"%\")\n",
    "    print(\"Age    :\", np.mean(a_acc)*100, \"%\")\n",
    "    print(\"-\"*73)\n",
    "    print(\"Confusion Matrix\")\n",
    "    for row in cm:\n",
    "        for c in row:\n",
    "            print(str(c).ljust(4), end='')\n",
    "        print()\n",
    "    print(\"-\"*73)\n",
    "    print(\"Validation F1 score :\" , macro_F1)\n",
    "    for c, f in enumerate(F1):\n",
    "        print(\"Class\", c, \":\", f)\n",
    "        \n",
    "    if model.best_f1 < macro_F1:\n",
    "        model.best_f1 = macro_F1\n",
    "        torch.save(model.state_dict(), '/opt/ml/weights/{}/{:.4f}.pt'.format(config['model'], model.best_f1))\n",
    "        print(\"model saved!\")\n",
    "    print(\"*\"*73)\n",
    "    print()\n",
    "    wandb.log({\n",
    "        \"Validation Loss\" : val_loss/counter, \n",
    "        \"Validation Total Accuracy\" :accuracy_score(y_true, y_predicted) * 100, \n",
    "        \"Validation F1\" : macro_F1,\n",
    "        \"Mask Accuracy\" : np.mean(m_acc)*100,\n",
    "        \"Gender Accuracy\" : np.mean(g_acc)*100,\n",
    "        \"Age Accuracy\" : np.mean(a_acc)*100,\n",
    "        \"Mask Loss\" : m_loss.item(),\n",
    "        \"Gender Loss\" : g_loss.item(),\n",
    "        \"Age Loss\" : a_loss.item(),\n",
    "        \"Learning Rate\" : scheduler.get_last_lr()\n",
    "    })\n",
    "        \n",
    "    model.train()"
   ]
  },
  {
   "cell_type": "markdown",
   "id": "4a84d2e8-56d4-4040-b4c7-292cb834c9f5",
   "metadata": {},
   "source": [
    "## Model Training"
   ]
  },
  {
   "cell_type": "code",
   "execution_count": null,
   "id": "9b08893f-3470-4fbb-8543-fe69608a0522",
   "metadata": {},
   "outputs": [
    {
     "name": "stdout",
     "output_type": "stream",
     "text": [
      "Epoch : 1\n"
     ]
    },
    {
     "name": "stderr",
     "output_type": "stream",
     "text": [
      " 50%|█████     | 236/472 [01:15<01:13,  3.19it/s]"
     ]
    },
    {
     "name": "stdout",
     "output_type": "stream",
     "text": [
      "Train Loss : 2.114375969528649\n"
     ]
    },
    {
     "name": "stderr",
     "output_type": "stream",
     "text": [
      " 50%|█████     | 237/472 [01:26<14:33,  3.72s/it]"
     ]
    },
    {
     "name": "stdout",
     "output_type": "stream",
     "text": [
      "< VALIDATION >\n",
      "*************************************************************************\n",
      "Validation Loss : 1.7516441305144494\n",
      "-------------------------------------------------------------------------\n",
      "Total Accuracy\n",
      "67.1957671957672 %\n",
      "-------------------------------------------------------------------------\n",
      "Class Accuracy\n",
      "Mask   : 98.37184873949579 %\n",
      "Gender : 96.98004201680672 %\n",
      "Age    : 69.87920168067227 %\n",
      "-------------------------------------------------------------------------\n",
      "Confusion Matrix\n",
      "520 8   1   17  2   0   2   0   0   0   0   0   0   0   0   0   0   0   \n",
      "47  56  163 0   10  30  2   1   5   0   0   1   0   0   0   0   0   0   \n",
      "1   9   168 0   0   0   0   0   2   0   0   0   0   0   0   0   0   0   \n",
      "13  2   0   683 25  1   0   0   0   6   0   0   0   0   0   0   0   0   \n",
      "3   0   0   73  193 386 0   0   0   2   4   9   0   0   0   0   0   0   \n",
      "0   0   2   1   28  220 0   0   0   0   0   4   0   0   0   0   0   0   \n",
      "2   0   0   0   0   0   103 1   0   4   0   0   0   0   0   0   0   0   \n",
      "0   0   1   0   0   2   8   3   42  0   0   6   0   0   1   0   0   0   \n",
      "0   0   0   0   0   0   0   1   34  0   0   1   0   0   0   0   0   0   \n",
      "0   0   0   0   0   0   5   0   0   141 0   0   0   0   0   0   0   0   \n",
      "0   0   0   0   1   9   0   0   0   17  7   100 0   0   0   0   0   0   \n",
      "0   0   0   0   1   7   0   0   0   0   1   42  0   0   0   0   0   0   \n",
      "0   0   0   0   0   0   0   0   0   0   0   0   104 0   0   6   0   0   \n",
      "0   0   0   0   0   0   0   0   0   0   0   0   11  5   40  0   2   5   \n",
      "0   0   0   0   0   0   0   0   0   0   0   0   0   0   35  0   0   1   \n",
      "0   0   0   0   0   0   0   0   0   0   0   0   3   0   0   143 0   0   \n",
      "0   0   0   0   0   0   0   0   0   0   0   0   0   0   0   19  42  73  \n",
      "0   0   0   0   0   0   0   0   0   0   0   0   0   0   0   0   10  41  \n",
      "-------------------------------------------------------------------------\n",
      "Validation F1 score : 0.5621266048977587\n",
      "Class 0 : 0.9154929577464789\n",
      "Class 1 : 0.28717948717948716\n",
      "Class 2 : 0.6524271844660193\n",
      "Class 3 : 0.9082446808510638\n",
      "Class 4 : 0.4150537634408602\n",
      "Class 5 : 0.48351648351648346\n",
      "Class 6 : 0.8956521739130435\n",
      "Class 7 : 0.08695652173913042\n",
      "Class 8 : 0.5714285714285714\n",
      "Class 9 : 0.8924050632911393\n",
      "Class 10 : 0.0958904109589041\n",
      "Class 11 : 0.3925233644859813\n",
      "Class 12 : 0.9122807017543859\n",
      "Class 13 : 0.14705882352941177\n",
      "Class 14 : 0.625\n",
      "Class 15 : 0.910828025477707\n",
      "Class 16 : 0.44680851063829785\n",
      "Class 17 : 0.47953216374269014\n",
      "model saved!\n",
      "*************************************************************************\n",
      "\n"
     ]
    },
    {
     "name": "stderr",
     "output_type": "stream",
     "text": [
      "100%|█████████▉| 471/472 [02:40<00:00,  3.19it/s]"
     ]
    },
    {
     "name": "stdout",
     "output_type": "stream",
     "text": [
      "Train Loss : 1.9287643293708057\n"
     ]
    },
    {
     "name": "stderr",
     "output_type": "stream",
     "text": [
      "100%|██████████| 472/472 [02:52<00:00,  3.71s/it]"
     ]
    },
    {
     "name": "stdout",
     "output_type": "stream",
     "text": [
      "< VALIDATION >\n",
      "*************************************************************************\n",
      "Validation Loss : 1.6823663090457435\n",
      "-------------------------------------------------------------------------\n",
      "Total Accuracy\n",
      "73.67724867724867 %\n",
      "-------------------------------------------------------------------------\n",
      "Class Accuracy\n",
      "Mask   : 99.52731092436974 %\n",
      "Gender : 97.74159663865547 %\n",
      "Age    : 75.73529411764706 %\n",
      "-------------------------------------------------------------------------\n",
      "Confusion Matrix\n",
      "522 15  1   8   3   0   1   0   0   0   0   0   0   0   0   0   0   0   \n",
      "29  134 126 0   16  10  0   0   0   0   0   0   0   0   0   0   0   0   \n",
      "0   25  154 0   0   0   0   0   1   0   0   0   0   0   0   0   0   0   \n",
      "12  5   0   682 28  1   0   0   0   2   0   0   0   0   0   0   0   0   \n",
      "3   0   0   41  309 314 0   0   0   0   3   0   0   0   0   0   0   0   \n",
      "0   0   0   0   55  200 0   0   0   0   0   0   0   0   0   0   0   0   \n",
      "2   0   0   0   0   0   104 1   0   2   1   0   0   0   0   0   0   0   \n",
      "0   0   0   0   0   0   8   15  31  0   7   2   0   0   0   0   0   0   \n",
      "0   0   0   0   0   0   0   2   32  0   1   1   0   0   0   0   0   0   \n",
      "0   1   0   0   0   0   4   0   0   140 1   0   0   0   0   0   0   0   \n",
      "0   0   0   0   2   2   0   0   0   11  54  65  0   0   0   0   0   0   \n",
      "0   0   0   0   2   2   0   0   0   0   9   38  0   0   0   0   0   0   \n",
      "0   0   0   0   0   0   0   0   0   0   0   0   108 0   0   2   0   0   \n",
      "0   0   0   0   0   0   0   0   0   0   0   0   10  20  30  0   1   2   \n",
      "0   0   0   0   0   0   0   0   0   0   0   0   0   2   34  0   0   0   \n",
      "0   0   0   0   0   0   0   0   0   0   0   0   5   0   0   139 2   0   \n",
      "0   0   0   0   0   0   0   0   0   0   0   0   0   0   0   14  61  59  \n",
      "0   0   0   0   0   0   0   0   0   0   0   0   0   0   0   0   12  39  \n",
      "-------------------------------------------------------------------------\n",
      "Validation F1 score : 0.6728178876862404\n",
      "Class 0 : 0.9338103756708409\n",
      "Class 1 : 0.5414141414141415\n",
      "Class 2 : 0.6681127982646421\n",
      "Class 3 : 0.9336071184120466\n",
      "Class 4 : 0.5695852534562211\n",
      "Class 5 : 0.5102040816326531\n",
      "Class 6 : 0.9162995594713657\n",
      "Class 7 : 0.37037037037037035\n",
      "Class 8 : 0.64\n",
      "Class 9 : 0.9302325581395349\n",
      "Class 10 : 0.5142857142857143\n",
      "Class 11 : 0.48407643312101917\n",
      "Class 12 : 0.927038626609442\n",
      "Class 13 : 0.4705882352941177\n",
      "Class 14 : 0.6799999999999999\n",
      "Class 15 : 0.9235880398671097\n",
      "Class 16 : 0.580952380952381\n",
      "Class 17 : 0.5165562913907285\n",
      "model saved!\n",
      "*************************************************************************\n",
      "\n"
     ]
    },
    {
     "name": "stderr",
     "output_type": "stream",
     "text": [
      "473it [02:52,  2.74it/s]                         "
     ]
    },
    {
     "name": "stdout",
     "output_type": "stream",
     "text": [
      "Adjusting learning rate of group 0 to 4.5000e-05.\n",
      "Epoch : 2\n"
     ]
    },
    {
     "name": "stderr",
     "output_type": "stream",
     "text": [
      "\n",
      " 50%|█████     | 236/472 [01:14<01:14,  3.17it/s]"
     ]
    },
    {
     "name": "stdout",
     "output_type": "stream",
     "text": [
      "Train Loss : 1.6605275124940189\n"
     ]
    },
    {
     "name": "stderr",
     "output_type": "stream",
     "text": [
      " 50%|█████     | 237/472 [01:26<14:28,  3.70s/it]"
     ]
    },
    {
     "name": "stdout",
     "output_type": "stream",
     "text": [
      "< VALIDATION >\n",
      "*************************************************************************\n",
      "Validation Loss : 1.6627008694560588\n",
      "-------------------------------------------------------------------------\n",
      "Total Accuracy\n",
      "75.10582010582011 %\n",
      "-------------------------------------------------------------------------\n",
      "Class Accuracy\n",
      "Mask   : 99.60609243697479 %\n",
      "Gender : 97.8203781512605 %\n",
      "Age    : 77.12710084033614 %\n",
      "-------------------------------------------------------------------------\n",
      "Confusion Matrix\n",
      "525 16  0   6   2   0   1   0   0   0   0   0   0   0   0   0   0   0   \n",
      "20  179 80  0   22  14  0   0   0   0   0   0   0   0   0   0   0   0   \n",
      "0   38  141 0   0   0   0   0   1   0   0   0   0   0   0   0   0   0   \n",
      "12  1   0   679 33  1   0   0   0   4   0   0   0   0   0   0   0   0   \n",
      "1   1   0   27  295 344 0   0   0   0   2   0   0   0   0   0   0   0   \n",
      "0   0   0   0   40  215 0   0   0   0   0   0   0   0   0   0   0   0   \n",
      "2   0   0   0   0   0   104 1   0   3   0   0   0   0   0   0   0   0   \n",
      "0   0   0   0   0   0   10  22  23  0   4   4   0   0   0   0   0   0   \n",
      "0   0   0   0   0   0   0   4   30  0   1   1   0   0   0   0   0   0   \n",
      "0   0   0   0   0   0   3   0   0   141 2   0   0   0   0   0   0   0   \n",
      "0   0   0   0   0   3   0   0   0   17  44  70  0   0   0   0   0   0   \n",
      "0   0   0   0   0   2   0   0   0   0   7   42  0   0   0   0   0   0   \n",
      "0   0   0   0   0   0   0   0   0   0   0   0   108 0   0   2   0   0   \n",
      "0   0   0   0   0   0   0   0   0   0   0   0   4   35  21  0   2   1   \n",
      "0   0   0   0   0   0   0   0   0   0   0   0   0   3   33  0   0   0   \n",
      "0   0   0   0   0   0   0   0   0   0   0   0   2   1   0   139 4   0   \n",
      "0   0   0   0   0   0   0   0   0   0   0   0   0   0   0   7   70  57  \n",
      "0   0   0   0   0   0   0   0   0   0   0   0   0   0   0   0   14  37  \n",
      "-------------------------------------------------------------------------\n",
      "Validation F1 score : 0.7056947561420086\n",
      "Class 0 : 0.9459459459459459\n",
      "Class 1 : 0.650909090909091\n",
      "Class 2 : 0.7032418952618454\n",
      "Class 3 : 0.9417475728155339\n",
      "Class 4 : 0.5555555555555555\n",
      "Class 5 : 0.5155875299760192\n",
      "Class 6 : 0.9122807017543859\n",
      "Class 7 : 0.4888888888888889\n",
      "Class 8 : 0.6666666666666667\n",
      "Class 9 : 0.9067524115755626\n",
      "Class 10 : 0.45360824742268047\n",
      "Class 11 : 0.5\n",
      "Class 12 : 0.9642857142857142\n",
      "Class 13 : 0.6862745098039216\n",
      "Class 14 : 0.7333333333333334\n",
      "Class 15 : 0.9455782312925171\n",
      "Class 16 : 0.625\n",
      "Class 17 : 0.5068493150684932\n",
      "model saved!\n",
      "*************************************************************************\n",
      "\n"
     ]
    },
    {
     "name": "stderr",
     "output_type": "stream",
     "text": [
      "100%|█████████▉| 471/472 [02:40<00:00,  3.17it/s]"
     ]
    },
    {
     "name": "stdout",
     "output_type": "stream",
     "text": [
      "Train Loss : 1.639311633120149\n"
     ]
    },
    {
     "name": "stderr",
     "output_type": "stream",
     "text": [
      "100%|██████████| 472/472 [02:51<00:00,  3.71s/it]"
     ]
    },
    {
     "name": "stdout",
     "output_type": "stream",
     "text": [
      "< VALIDATION >\n",
      "*************************************************************************\n",
      "Validation Loss : 1.643912271291268\n",
      "-------------------------------------------------------------------------\n",
      "Total Accuracy\n",
      "77.72486772486774 %\n",
      "-------------------------------------------------------------------------\n",
      "Class Accuracy\n",
      "Mask   : 99.7373949579832 %\n",
      "Gender : 98.60819327731093 %\n",
      "Age    : 79.14915966386555 %\n",
      "-------------------------------------------------------------------------\n",
      "Confusion Matrix\n",
      "535 9   0   3   2   0   1   0   0   0   0   0   0   0   0   0   0   0   \n",
      "26  155 123 0   9   1   0   1   0   0   0   0   0   0   0   0   0   0   \n",
      "3   29  147 0   0   0   0   0   1   0   0   0   0   0   0   0   0   0   \n",
      "13  3   0   691 21  0   0   0   0   2   0   0   0   0   0   0   0   0   \n",
      "0   1   1   33  417 218 0   0   0   0   0   0   0   0   0   0   0   0   \n",
      "0   3   0   0   84  168 0   0   0   0   0   0   0   0   0   0   0   0   \n",
      "1   0   0   0   0   0   106 2   0   1   0   0   0   0   0   0   0   0   \n",
      "0   0   0   0   0   0   4   30  24  0   4   1   0   0   0   0   0   0   \n",
      "0   0   0   0   0   0   0   6   30  0   0   0   0   0   0   0   0   0   \n",
      "0   0   0   0   0   0   3   1   0   139 3   0   0   0   0   0   0   0   \n",
      "0   0   0   0   1   1   0   0   0   8   78  46  0   0   0   0   0   0   \n",
      "0   0   0   0   0   2   0   0   0   0   15  34  0   0   0   0   0   0   \n",
      "0   0   0   0   0   0   0   0   0   0   0   0   109 0   0   1   0   0   \n",
      "0   0   0   0   0   0   0   0   0   0   0   0   5   27  29  0   1   1   \n",
      "0   0   0   0   0   0   0   0   0   0   0   0   0   3   33  0   0   0   \n",
      "0   0   0   0   0   0   0   0   0   0   0   0   3   1   0   139 3   0   \n",
      "0   0   0   0   0   0   0   0   0   0   0   0   0   0   0   9   58  67  \n",
      "0   0   0   0   0   0   0   0   0   0   0   0   0   0   0   0   9   42  \n",
      "-------------------------------------------------------------------------\n",
      "Validation F1 score : 0.7173394486573076\n",
      "Class 0 : 0.948581560283688\n",
      "Class 1 : 0.6019417475728155\n",
      "Class 2 : 0.6518847006651884\n",
      "Class 3 : 0.9485243651338368\n",
      "Class 4 : 0.6926910299003323\n",
      "Class 5 : 0.5209302325581395\n",
      "Class 6 : 0.9464285714285715\n",
      "Class 7 : 0.58252427184466\n",
      "Class 8 : 0.6593406593406592\n",
      "Class 9 : 0.939189189189189\n",
      "Class 10 : 0.6666666666666667\n",
      "Class 11 : 0.5151515151515151\n",
      "Class 12 : 0.960352422907489\n",
      "Class 13 : 0.574468085106383\n",
      "Class 14 : 0.673469387755102\n",
      "Class 15 : 0.9423728813559323\n",
      "Class 16 : 0.5658536585365853\n",
      "Class 17 : 0.5217391304347826\n",
      "model saved!\n",
      "*************************************************************************\n",
      "\n"
     ]
    },
    {
     "name": "stderr",
     "output_type": "stream",
     "text": [
      "473it [02:52,  2.75it/s]                         "
     ]
    },
    {
     "name": "stdout",
     "output_type": "stream",
     "text": [
      "Adjusting learning rate of group 0 to 4.0500e-05.\n",
      "Epoch : 3\n"
     ]
    },
    {
     "name": "stderr",
     "output_type": "stream",
     "text": [
      "\n",
      " 50%|█████     | 236/472 [01:14<01:13,  3.19it/s]"
     ]
    },
    {
     "name": "stdout",
     "output_type": "stream",
     "text": [
      "Train Loss : 1.5821573206141024\n"
     ]
    },
    {
     "name": "stderr",
     "output_type": "stream",
     "text": [
      " 50%|█████     | 237/472 [01:26<14:34,  3.72s/it]"
     ]
    },
    {
     "name": "stdout",
     "output_type": "stream",
     "text": [
      "< VALIDATION >\n",
      "*************************************************************************\n",
      "Validation Loss : 1.632986815035844\n",
      "-------------------------------------------------------------------------\n",
      "Total Accuracy\n",
      "77.80423280423281 %\n",
      "-------------------------------------------------------------------------\n",
      "Class Accuracy\n",
      "Mask   : 99.7373949579832 %\n",
      "Gender : 98.55567226890757 %\n",
      "Age    : 79.2016806722689 %\n",
      "-------------------------------------------------------------------------\n",
      "Confusion Matrix\n",
      "533 11  0   4   1   0   1   0   0   0   0   0   0   0   0   0   0   0   \n",
      "24  179 102 0   6   3   0   1   0   0   0   0   0   0   0   0   0   0   \n",
      "1   30  148 0   0   0   0   0   1   0   0   0   0   0   0   0   0   0   \n",
      "14  4   0   684 26  0   0   0   0   2   0   0   0   0   0   0   0   0   \n",
      "1   1   0   30  351 287 0   0   0   0   0   0   0   0   0   0   0   0   \n",
      "0   3   0   0   45  207 0   0   0   0   0   0   0   0   0   0   0   0   \n",
      "1   0   0   0   0   0   106 1   0   2   0   0   0   0   0   0   0   0   \n",
      "0   0   0   0   0   0   4   33  20  0   4   2   0   0   0   0   0   0   \n",
      "0   0   0   0   0   0   0   6   30  0   0   0   0   0   0   0   0   0   \n",
      "0   0   0   0   0   0   3   0   0   141 2   0   0   0   0   0   0   0   \n",
      "0   0   0   0   0   2   0   0   0   8   60  64  0   0   0   0   0   0   \n",
      "0   0   0   0   0   2   0   0   0   0   9   40  0   0   0   0   0   0   \n",
      "0   0   0   0   0   0   0   0   0   0   0   0   109 0   0   1   0   0   \n",
      "0   0   0   0   0   0   0   0   0   0   0   0   3   43  15  0   1   1   \n",
      "0   0   0   0   0   0   0   0   0   0   0   0   0   6   30  0   0   0   \n",
      "0   0   0   0   0   0   0   0   0   0   0   0   3   1   0   139 3   0   \n",
      "0   0   0   0   0   0   0   0   0   0   0   0   0   0   0   7   70  57  \n",
      "0   0   0   0   0   0   0   0   0   0   0   0   0   0   0   0   13  38  \n",
      "-------------------------------------------------------------------------\n",
      "Validation F1 score : 0.7385973087514681\n",
      "Class 0 : 0.9483985765124556\n",
      "Class 1 : 0.6593001841620627\n",
      "Class 2 : 0.6883720930232559\n",
      "Class 3 : 0.9447513812154696\n",
      "Class 4 : 0.6387625113739764\n",
      "Class 5 : 0.5476190476190476\n",
      "Class 6 : 0.9464285714285715\n",
      "Class 7 : 0.6346153846153846\n",
      "Class 8 : 0.6896551724137931\n",
      "Class 9 : 0.94314381270903\n",
      "Class 10 : 0.5741626794258373\n",
      "Class 11 : 0.5095541401273885\n",
      "Class 12 : 0.9688888888888889\n",
      "Class 13 : 0.7610619469026547\n",
      "Class 14 : 0.7407407407407408\n",
      "Class 15 : 0.9488054607508534\n",
      "Class 16 : 0.6334841628959275\n",
      "Class 17 : 0.5170068027210885\n",
      "model saved!\n",
      "*************************************************************************\n",
      "\n"
     ]
    },
    {
     "name": "stderr",
     "output_type": "stream",
     "text": [
      "100%|█████████▉| 471/472 [02:40<00:00,  3.19it/s]"
     ]
    },
    {
     "name": "stdout",
     "output_type": "stream",
     "text": [
      "Train Loss : 1.5748656351687544\n"
     ]
    },
    {
     "name": "stderr",
     "output_type": "stream",
     "text": [
      "100%|██████████| 472/472 [02:51<00:00,  3.69s/it]"
     ]
    },
    {
     "name": "stdout",
     "output_type": "stream",
     "text": [
      "< VALIDATION >\n",
      "*************************************************************************\n",
      "Validation Loss : 1.6416849549077137\n",
      "-------------------------------------------------------------------------\n",
      "Total Accuracy\n",
      "80.47619047619048 %\n",
      "-------------------------------------------------------------------------\n",
      "Class Accuracy\n",
      "Mask   : 99.76365546218487 %\n",
      "Gender : 98.68697478991596 %\n",
      "Age    : 81.88025210084034 %\n",
      "-------------------------------------------------------------------------\n",
      "Confusion Matrix\n",
      "533 11  0   5   0   0   1   0   0   0   0   0   0   0   0   0   0   0   \n",
      "14  222 68  0   8   2   0   1   0   0   0   0   0   0   0   0   0   0   \n",
      "0   52  127 0   0   0   0   0   1   0   0   0   0   0   0   0   0   0   \n",
      "12  4   0   697 16  0   0   0   0   1   0   0   0   0   0   0   0   0   \n",
      "0   2   0   37  462 169 0   0   0   0   0   0   0   0   0   0   0   0   \n",
      "0   0   0   0   117 138 0   0   0   0   0   0   0   0   0   0   0   0   \n",
      "1   0   0   0   0   0   106 2   0   1   0   0   0   0   0   0   0   0   \n",
      "0   0   0   0   0   0   3   42  13  0   4   1   0   0   0   0   0   0   \n",
      "0   0   0   0   0   0   0   9   26  0   1   0   0   0   0   0   0   0   \n",
      "0   0   0   0   0   0   2   1   0   141 2   0   0   0   0   0   0   0   \n",
      "0   0   0   0   1   1   0   0   0   6   81  45  0   0   0   0   0   0   \n",
      "0   0   0   0   0   2   0   0   0   0   14  35  0   0   0   0   0   0   \n",
      "0   0   0   0   0   0   0   0   0   0   0   0   108 1   0   1   0   0   \n",
      "0   0   0   0   0   0   0   0   0   0   0   0   2   40  19  0   2   0   \n",
      "0   0   0   0   0   0   0   0   0   0   0   0   0   6   30  0   0   0   \n",
      "0   0   0   0   0   0   0   0   0   0   0   0   3   1   0   138 4   0   \n",
      "0   0   0   0   0   0   0   0   0   0   0   0   0   0   0   4   78  52  \n",
      "0   0   0   0   0   0   0   0   0   0   0   0   0   0   0   0   13  38  \n",
      "-------------------------------------------------------------------------\n",
      "Validation F1 score : 0.7566459356066866\n",
      "Class 0 : 0.9603603603603603\n",
      "Class 1 : 0.7326732673267325\n",
      "Class 2 : 0.6773333333333333\n",
      "Class 3 : 0.9489448604492853\n",
      "Class 4 : 0.7252747252747254\n",
      "Class 5 : 0.48677248677248675\n",
      "Class 6 : 0.9549549549549549\n",
      "Class 7 : 0.711864406779661\n",
      "Class 8 : 0.6842105263157895\n",
      "Class 9 : 0.9559322033898304\n",
      "Class 10 : 0.6864406779661016\n",
      "Class 11 : 0.5303030303030304\n",
      "Class 12 : 0.968609865470852\n",
      "Class 13 : 0.7207207207207206\n",
      "Class 14 : 0.7058823529411765\n",
      "Class 15 : 0.9550173010380623\n",
      "Class 16 : 0.6753246753246754\n",
      "Class 17 : 0.5390070921985816\n",
      "model saved!\n",
      "*************************************************************************\n",
      "\n"
     ]
    },
    {
     "name": "stderr",
     "output_type": "stream",
     "text": [
      "473it [02:52,  2.75it/s]                         "
     ]
    },
    {
     "name": "stdout",
     "output_type": "stream",
     "text": [
      "Adjusting learning rate of group 0 to 3.6450e-05.\n",
      "Epoch : 4\n"
     ]
    },
    {
     "name": "stderr",
     "output_type": "stream",
     "text": [
      "\n",
      " 50%|█████     | 236/472 [01:15<01:14,  3.18it/s]"
     ]
    },
    {
     "name": "stdout",
     "output_type": "stream",
     "text": [
      "Train Loss : 1.5352660850130555\n"
     ]
    },
    {
     "name": "stderr",
     "output_type": "stream",
     "text": [
      " 50%|█████     | 237/472 [01:26<14:21,  3.67s/it]"
     ]
    },
    {
     "name": "stdout",
     "output_type": "stream",
     "text": [
      "< VALIDATION >\n",
      "*************************************************************************\n",
      "Validation Loss : 1.6380989711825586\n",
      "-------------------------------------------------------------------------\n",
      "Total Accuracy\n",
      "78.94179894179895 %\n",
      "-------------------------------------------------------------------------\n",
      "Class Accuracy\n",
      "Mask   : 99.76365546218487 %\n",
      "Gender : 98.31932773109243 %\n",
      "Age    : 80.54096638655463 %\n",
      "-------------------------------------------------------------------------\n",
      "Confusion Matrix\n",
      "533 7   0   8   1   0   1   0   0   0   0   0   0   0   0   0   0   0   \n",
      "28  186 90  0   4   6   0   1   0   0   0   0   0   0   0   0   0   0   \n",
      "1   43  135 0   0   0   0   0   1   0   0   0   0   0   0   0   0   0   \n",
      "15  0   0   698 15  0   0   0   0   2   0   0   0   0   0   0   0   0   \n",
      "3   1   0   45  414 207 0   0   0   0   0   0   0   0   0   0   0   0   \n",
      "0   1   0   0   94  160 0   0   0   0   0   0   0   0   0   0   0   0   \n",
      "1   0   0   0   0   0   106 2   0   1   0   0   0   0   0   0   0   0   \n",
      "0   0   0   0   0   0   3   35  17  0   5   3   0   0   0   0   0   0   \n",
      "0   0   0   0   0   0   0   9   26  0   1   0   0   0   0   0   0   0   \n",
      "0   0   0   0   0   0   3   0   0   141 2   0   0   0   0   0   0   0   \n",
      "0   0   0   0   1   0   0   1   0   6   87  39  0   0   0   0   0   0   \n",
      "0   0   0   0   0   2   0   0   0   0   18  31  0   0   0   0   0   0   \n",
      "0   0   0   0   0   0   0   0   0   0   0   0   108 1   0   1   0   0   \n",
      "0   0   0   0   0   0   0   0   0   0   0   0   3   38  18  0   3   1   \n",
      "0   0   0   0   0   0   0   0   0   0   0   0   0   7   29  0   0   0   \n",
      "0   0   0   0   0   0   0   0   0   0   0   0   3   2   0   138 3   0   \n",
      "0   0   0   0   0   0   0   0   0   0   0   0   0   1   0   4   84  45  \n",
      "0   0   0   0   0   0   0   0   0   0   0   0   0   0   0   0   16  35  \n",
      "-------------------------------------------------------------------------\n",
      "Validation F1 score : 0.7410244559093199\n",
      "Class 0 : 0.9425287356321839\n",
      "Class 1 : 0.6726943942133816\n",
      "Class 2 : 0.6666666666666665\n",
      "Class 3 : 0.9426063470627954\n",
      "Class 4 : 0.6905754795663054\n",
      "Class 5 : 0.5079365079365079\n",
      "Class 6 : 0.9506726457399104\n",
      "Class 7 : 0.6306306306306306\n",
      "Class 8 : 0.65\n",
      "Class 9 : 0.9527027027027025\n",
      "Class 10 : 0.7044534412955465\n",
      "Class 11 : 0.4999999999999999\n",
      "Class 12 : 0.9642857142857142\n",
      "Class 13 : 0.6785714285714285\n",
      "Class 14 : 0.6987951807228916\n",
      "Class 15 : 0.9550173010380623\n",
      "Class 16 : 0.7000000000000001\n",
      "Class 17 : 0.5303030303030304\n",
      "*************************************************************************\n",
      "\n"
     ]
    },
    {
     "name": "stderr",
     "output_type": "stream",
     "text": [
      "100%|█████████▉| 471/472 [02:40<00:00,  3.18it/s]"
     ]
    },
    {
     "name": "stdout",
     "output_type": "stream",
     "text": [
      "Train Loss : 1.5347244214203397\n"
     ]
    },
    {
     "name": "stderr",
     "output_type": "stream",
     "text": [
      "100%|██████████| 472/472 [02:51<00:00,  3.65s/it]"
     ]
    },
    {
     "name": "stdout",
     "output_type": "stream",
     "text": [
      "< VALIDATION >\n",
      "*************************************************************************\n",
      "Validation Loss : 1.641519709795463\n",
      "-------------------------------------------------------------------------\n",
      "Total Accuracy\n",
      "80.34391534391534 %\n",
      "-------------------------------------------------------------------------\n",
      "Class Accuracy\n",
      "Mask   : 99.7373949579832 %\n",
      "Gender : 98.42436974789915 %\n",
      "Age    : 82.03781512605042 %\n",
      "-------------------------------------------------------------------------\n",
      "Confusion Matrix\n",
      "525 13  0   9   2   0   1   0   0   0   0   0   0   0   0   0   0   0   \n",
      "13  227 61  0   10  3   0   1   0   0   0   0   0   0   0   0   0   0   \n",
      "0   60  120 0   0   0   0   0   0   0   0   0   0   0   0   0   0   0   \n",
      "11  1   0   689 25  0   0   0   0   4   0   0   0   0   0   0   0   0   \n",
      "0   2   0   16  481 171 0   0   0   0   0   0   0   0   0   0   0   0   \n",
      "0   0   0   0   125 130 0   0   0   0   0   0   0   0   0   0   0   0   \n",
      "1   0   0   0   0   0   105 2   0   1   1   0   0   0   0   0   0   0   \n",
      "0   0   0   0   0   0   2   42  11  0   6   2   0   0   0   0   0   0   \n",
      "0   0   0   0   0   0   0   11  23  0   1   1   0   0   0   0   0   0   \n",
      "0   0   0   0   0   0   2   0   0   139 5   0   0   0   0   0   0   0   \n",
      "0   0   0   0   1   0   0   0   0   3   94  36  0   0   0   0   0   0   \n",
      "0   0   0   0   0   2   0   0   0   0   16  33  0   0   0   0   0   0   \n",
      "0   0   0   0   0   0   0   0   0   0   0   0   108 1   0   1   0   0   \n",
      "0   0   0   0   0   0   0   0   0   0   0   0   2   41  17  0   3   0   \n",
      "0   0   0   0   0   0   0   0   0   0   0   0   0   10  26  0   0   0   \n",
      "0   0   0   0   0   0   0   0   0   0   0   0   3   1   0   138 4   0   \n",
      "0   0   0   0   0   0   0   0   0   0   0   0   0   0   0   4   80  50  \n",
      "0   0   0   0   0   0   0   0   0   0   0   0   0   0   0   0   15  36  \n",
      "-------------------------------------------------------------------------\n",
      "Validation F1 score : 0.7517002645417941\n",
      "Class 0 : 0.9545454545454546\n",
      "Class 1 : 0.7346278317152104\n",
      "Class 2 : 0.6648199445983379\n",
      "Class 3 : 0.9542936288088643\n",
      "Class 4 : 0.7321156773211568\n",
      "Class 5 : 0.46345811051693403\n",
      "Class 6 : 0.9545454545454546\n",
      "Class 7 : 0.7058823529411765\n",
      "Class 8 : 0.6571428571428571\n",
      "Class 9 : 0.9488054607508534\n",
      "Class 10 : 0.7315175097276265\n",
      "Class 11 : 0.5365853658536585\n",
      "Class 12 : 0.968609865470852\n",
      "Class 13 : 0.706896551724138\n",
      "Class 14 : 0.6582278481012659\n",
      "Class 15 : 0.9550173010380623\n",
      "Class 16 : 0.6779661016949152\n",
      "Class 17 : 0.5255474452554746\n",
      "*************************************************************************\n",
      "\n"
     ]
    },
    {
     "name": "stderr",
     "output_type": "stream",
     "text": [
      "473it [02:52,  2.75it/s]                         "
     ]
    },
    {
     "name": "stdout",
     "output_type": "stream",
     "text": [
      "Adjusting learning rate of group 0 to 3.2805e-05.\n",
      "Epoch : 5\n"
     ]
    },
    {
     "name": "stderr",
     "output_type": "stream",
     "text": [
      "\n",
      " 50%|█████     | 236/472 [01:14<01:14,  3.18it/s]"
     ]
    },
    {
     "name": "stdout",
     "output_type": "stream",
     "text": [
      "Train Loss : 1.5088324687651944\n"
     ]
    },
    {
     "name": "stderr",
     "output_type": "stream",
     "text": [
      " 50%|█████     | 237/472 [01:26<14:17,  3.65s/it]"
     ]
    },
    {
     "name": "stdout",
     "output_type": "stream",
     "text": [
      "< VALIDATION >\n",
      "*************************************************************************\n",
      "Validation Loss : 1.6361699975839181\n",
      "-------------------------------------------------------------------------\n",
      "Total Accuracy\n",
      "78.17460317460318 %\n",
      "-------------------------------------------------------------------------\n",
      "Class Accuracy\n",
      "Mask   : 99.81617647058823 %\n",
      "Gender : 98.31932773109243 %\n",
      "Age    : 79.70063025210085 %\n",
      "-------------------------------------------------------------------------\n",
      "Confusion Matrix\n",
      "529 10  0   9   2   0   0   0   0   0   0   0   0   0   0   0   0   0   \n",
      "18  194 81  1   11  9   0   1   0   0   0   0   0   0   0   0   0   0   \n",
      "0   48  132 0   0   0   0   0   0   0   0   0   0   0   0   0   0   0   \n",
      "10  0   0   702 16  0   0   0   0   2   0   0   0   0   0   0   0   0   \n",
      "0   2   0   29  381 258 0   0   0   0   0   0   0   0   0   0   0   0   \n",
      "0   0   0   0   77  178 0   0   0   0   0   0   0   0   0   0   0   0   \n",
      "1   0   0   0   0   0   107 1   0   1   0   0   0   0   0   0   0   0   \n",
      "0   0   0   0   0   0   3   33  18  0   5   4   0   0   0   0   0   0   \n",
      "0   0   0   0   0   0   0   7   27  0   1   1   0   0   0   0   0   0   \n",
      "0   0   0   0   0   0   2   0   0   142 2   0   0   0   0   0   0   0   \n",
      "0   0   0   0   0   1   0   0   0   8   65  60  0   0   0   0   0   0   \n",
      "0   0   0   0   0   2   0   0   0   0   12  37  0   0   0   0   0   0   \n",
      "0   0   0   0   0   0   0   0   0   0   0   0   108 1   0   1   0   0   \n",
      "0   0   0   0   0   0   0   0   0   0   0   0   4   39  18  0   1   1   \n",
      "0   0   0   0   0   0   0   0   0   0   0   0   0   9   27  0   0   0   \n",
      "0   0   0   0   0   0   0   0   0   0   0   0   3   0   0   138 5   0   \n",
      "0   0   0   0   0   0   0   0   0   0   0   0   0   0   0   4   80  50  \n",
      "0   0   0   0   0   0   0   0   0   0   0   0   0   0   0   0   15  36  \n",
      "-------------------------------------------------------------------------\n",
      "Validation F1 score : 0.7330547867615045\n",
      "Class 0 : 0.9548736462093862\n",
      "Class 1 : 0.6818980667838314\n",
      "Class 2 : 0.6717557251908396\n",
      "Class 3 : 0.954452753229096\n",
      "Class 4 : 0.6585998271391529\n",
      "Class 5 : 0.5064011379800852\n",
      "Class 6 : 0.963963963963964\n",
      "Class 7 : 0.6285714285714286\n",
      "Class 8 : 0.6666666666666665\n",
      "Class 9 : 0.9498327759197325\n",
      "Class 10 : 0.593607305936073\n",
      "Class 11 : 0.48366013071895425\n",
      "Class 12 : 0.96\n",
      "Class 13 : 0.6964285714285715\n",
      "Class 14 : 0.6666666666666665\n",
      "Class 15 : 0.9550173010380623\n",
      "Class 16 : 0.6808510638297872\n",
      "Class 17 : 0.5217391304347826\n",
      "*************************************************************************\n",
      "\n"
     ]
    },
    {
     "name": "stderr",
     "output_type": "stream",
     "text": [
      "100%|█████████▉| 471/472 [02:40<00:00,  3.16it/s]"
     ]
    },
    {
     "name": "stdout",
     "output_type": "stream",
     "text": [
      "Train Loss : 1.504196140978296\n"
     ]
    },
    {
     "name": "stderr",
     "output_type": "stream",
     "text": [
      "100%|██████████| 472/472 [02:51<00:00,  3.70s/it]"
     ]
    },
    {
     "name": "stdout",
     "output_type": "stream",
     "text": [
      "< VALIDATION >\n",
      "*************************************************************************\n",
      "Validation Loss : 1.6461054337124865\n",
      "-------------------------------------------------------------------------\n",
      "Total Accuracy\n",
      "81.98412698412699 %\n",
      "-------------------------------------------------------------------------\n",
      "Class Accuracy\n",
      "Mask   : 99.7373949579832 %\n",
      "Gender : 98.68697478991596 %\n",
      "Age    : 83.4296218487395 %\n",
      "-------------------------------------------------------------------------\n",
      "Confusion Matrix\n",
      "534 7   0   7   1   0   1   0   0   0   0   0   0   0   0   0   0   0   \n",
      "19  241 43  0   8   3   0   1   0   0   0   0   0   0   0   0   0   0   \n",
      "0   58  122 0   0   0   0   0   0   0   0   0   0   0   0   0   0   0   \n",
      "12  0   0   698 17  0   0   0   0   3   0   0   0   0   0   0   0   0   \n",
      "1   2   0   28  517 122 0   0   0   0   0   0   0   0   0   0   0   0   \n",
      "0   0   0   0   148 107 0   0   0   0   0   0   0   0   0   0   0   0   \n",
      "1   0   0   0   0   0   106 2   0   1   0   0   0   0   0   0   0   0   \n",
      "0   0   0   0   0   0   2   48  8   0   3   2   0   0   0   0   0   0   \n",
      "0   0   0   0   0   0   0   13  23  0   0   0   0   0   0   0   0   0   \n",
      "0   0   0   0   0   0   2   1   0   141 2   0   0   0   0   0   0   0   \n",
      "0   0   0   0   2   0   0   0   0   4   95  33  0   0   0   0   0   0   \n",
      "0   0   0   0   0   2   0   0   0   0   19  30  0   0   0   0   0   0   \n",
      "0   0   0   0   0   0   0   0   0   0   0   0   108 1   0   1   0   0   \n",
      "0   0   0   0   0   0   0   0   0   0   0   0   3   48  12  0   0   0   \n",
      "0   0   0   0   0   0   0   0   0   0   0   0   0   9   27  0   0   0   \n",
      "0   0   0   0   0   0   0   0   0   0   0   0   3   1   1   139 2   0   \n",
      "0   0   0   0   0   0   0   0   0   0   0   0   0   1   0   4   91  38  \n",
      "0   0   0   0   0   0   0   0   0   0   0   0   0   0   0   0   27  24  \n",
      "-------------------------------------------------------------------------\n",
      "Validation F1 score : 0.7645970253104285\n",
      "Class 0 : 0.9561324977618623\n",
      "Class 1 : 0.7736757624398074\n",
      "Class 2 : 0.7072463768115941\n",
      "Class 3 : 0.9542036910457963\n",
      "Class 4 : 0.7586206896551725\n",
      "Class 5 : 0.4376278118609407\n",
      "Class 6 : 0.9592760180995475\n",
      "Class 7 : 0.75\n",
      "Class 8 : 0.6865671641791045\n",
      "Class 9 : 0.9559322033898304\n",
      "Class 10 : 0.7509881422924902\n",
      "Class 11 : 0.5172413793103449\n",
      "Class 12 : 0.9642857142857142\n",
      "Class 13 : 0.7804878048780488\n",
      "Class 14 : 0.7105263157894738\n",
      "Class 15 : 0.9586206896551724\n",
      "Class 16 : 0.7165354330708661\n",
      "Class 17 : 0.4247787610619469\n",
      "model saved!\n",
      "*************************************************************************\n",
      "\n"
     ]
    },
    {
     "name": "stderr",
     "output_type": "stream",
     "text": [
      "473it [02:52,  2.75it/s]                         "
     ]
    },
    {
     "name": "stdout",
     "output_type": "stream",
     "text": [
      "Adjusting learning rate of group 0 to 2.9525e-05.\n",
      "Epoch : 6\n"
     ]
    },
    {
     "name": "stderr",
     "output_type": "stream",
     "text": [
      "\n",
      " 50%|█████     | 236/472 [01:14<01:14,  3.18it/s]"
     ]
    },
    {
     "name": "stdout",
     "output_type": "stream",
     "text": [
      "Train Loss : 1.489397860780547\n"
     ]
    },
    {
     "name": "stderr",
     "output_type": "stream",
     "text": [
      " 50%|█████     | 237/472 [01:26<14:17,  3.65s/it]"
     ]
    },
    {
     "name": "stdout",
     "output_type": "stream",
     "text": [
      "< VALIDATION >\n",
      "*************************************************************************\n",
      "Validation Loss : 1.6389658841766228\n",
      "-------------------------------------------------------------------------\n",
      "Total Accuracy\n",
      "80.82010582010582 %\n",
      "-------------------------------------------------------------------------\n",
      "Class Accuracy\n",
      "Mask   : 99.76365546218487 %\n",
      "Gender : 98.6344537815126 %\n",
      "Age    : 82.30042016806722 %\n",
      "-------------------------------------------------------------------------\n",
      "Confusion Matrix\n",
      "534 8   0   6   1   0   1   0   0   0   0   0   0   0   0   0   0   0   \n",
      "15  222 61  0   11  5   0   1   0   0   0   0   0   0   0   0   0   0   \n",
      "0   59  121 0   0   0   0   0   0   0   0   0   0   0   0   0   0   0   \n",
      "12  0   0   696 19  0   0   0   0   3   0   0   0   0   0   0   0   0   \n",
      "1   1   0   24  458 186 0   0   0   0   0   0   0   0   0   0   0   0   \n",
      "0   0   0   0   109 146 0   0   0   0   0   0   0   0   0   0   0   0   \n",
      "1   0   0   0   0   0   106 2   0   1   0   0   0   0   0   0   0   0   \n",
      "0   0   0   0   0   0   2   46  10  0   4   1   0   0   0   0   0   0   \n",
      "0   0   0   0   0   0   0   15  21  0   0   0   0   0   0   0   0   0   \n",
      "0   0   0   0   0   0   3   0   0   140 3   0   0   0   0   0   0   0   \n",
      "0   0   0   0   0   1   0   0   0   3   95  35  0   0   0   0   0   0   \n",
      "0   0   0   0   0   2   0   0   0   0   18  31  0   0   0   0   0   0   \n",
      "0   0   0   0   0   0   0   0   0   0   0   0   108 1   0   1   0   0   \n",
      "0   0   0   0   0   0   0   0   0   0   0   0   3   53  7   0   0   0   \n",
      "0   0   0   0   0   0   0   0   0   0   0   0   0   13  23  0   0   0   \n",
      "0   0   0   0   0   0   0   0   0   0   0   0   3   1   0   138 4   0   \n",
      "0   0   0   0   0   0   0   0   0   0   0   0   0   1   0   4   92  37  \n",
      "0   0   0   0   0   0   0   0   0   0   0   0   0   0   0   0   26  25  \n",
      "-------------------------------------------------------------------------\n",
      "Validation F1 score : 0.7581670357729081\n",
      "Class 0 : 0.9595687331536389\n",
      "Class 1 : 0.7338842975206611\n",
      "Class 2 : 0.6685082872928176\n",
      "Class 3 : 0.956043956043956\n",
      "Class 4 : 0.722397476340694\n",
      "Class 5 : 0.4907563025210083\n",
      "Class 6 : 0.9549549549549549\n",
      "Class 7 : 0.7244094488188977\n",
      "Class 8 : 0.626865671641791\n",
      "Class 9 : 0.955631399317406\n",
      "Class 10 : 0.7480314960629921\n",
      "Class 11 : 0.5254237288135594\n",
      "Class 12 : 0.9642857142857142\n",
      "Class 13 : 0.8030303030303031\n",
      "Class 14 : 0.696969696969697\n",
      "Class 15 : 0.9550173010380623\n",
      "Class 16 : 0.71875\n",
      "Class 17 : 0.44247787610619466\n",
      "*************************************************************************\n",
      "\n"
     ]
    },
    {
     "name": "stderr",
     "output_type": "stream",
     "text": [
      "100%|█████████▉| 471/472 [02:40<00:00,  3.17it/s]"
     ]
    },
    {
     "name": "stdout",
     "output_type": "stream",
     "text": [
      "Train Loss : 1.4874584172236718\n"
     ]
    },
    {
     "name": "stderr",
     "output_type": "stream",
     "text": [
      "100%|██████████| 472/472 [02:51<00:00,  3.67s/it]"
     ]
    },
    {
     "name": "stdout",
     "output_type": "stream",
     "text": [
      "< VALIDATION >\n",
      "*************************************************************************\n",
      "Validation Loss : 1.6459101218135417\n",
      "-------------------------------------------------------------------------\n",
      "Total Accuracy\n",
      "81.9047619047619 %\n",
      "-------------------------------------------------------------------------\n",
      "Class Accuracy\n",
      "Mask   : 99.76365546218487 %\n",
      "Gender : 98.6344537815126 %\n",
      "Age    : 83.24579831932773 %\n",
      "-------------------------------------------------------------------------\n",
      "Confusion Matrix\n",
      "535 7   0   6   1   0   1   0   0   0   0   0   0   0   0   0   0   0   \n",
      "22  233 49  0   5   5   0   1   0   0   0   0   0   0   0   0   0   0   \n",
      "0   57  123 0   0   0   0   0   0   0   0   0   0   0   0   0   0   0   \n",
      "14  0   0   702 11  0   0   0   0   3   0   0   0   0   0   0   0   0   \n",
      "3   1   0   25  509 132 0   0   0   0   0   0   0   0   0   0   0   0   \n",
      "0   1   0   0   141 113 0   0   0   0   0   0   0   0   0   0   0   0   \n",
      "1   0   0   0   0   0   106 2   0   1   0   0   0   0   0   0   0   0   \n",
      "0   0   0   0   0   0   3   48  9   0   2   1   0   0   0   0   0   0   \n",
      "0   0   0   0   0   0   0   14  22  0   0   0   0   0   0   0   0   0   \n",
      "0   0   0   0   0   0   3   0   0   141 2   0   0   0   0   0   0   0   \n",
      "0   0   0   0   0   1   0   0   0   3   101 29  0   0   0   0   0   0   \n",
      "0   0   0   0   0   2   0   1   0   0   21  27  0   0   0   0   0   0   \n",
      "0   0   0   0   0   0   0   0   0   0   0   0   108 1   0   1   0   0   \n",
      "0   0   0   0   0   0   0   0   0   0   0   0   4   49  10  0   0   0   \n",
      "0   0   0   0   0   0   0   0   0   0   0   0   0   11  25  0   0   0   \n",
      "0   0   0   0   0   0   0   0   0   0   0   0   4   1   0   138 3   0   \n",
      "0   0   0   0   0   0   0   0   0   0   0   0   0   1   1   3   88  41  \n",
      "0   0   0   0   0   0   0   0   0   0   0   0   0   0   0   0   23  28  \n",
      "-------------------------------------------------------------------------\n",
      "Validation F1 score : 0.7625125581475976\n",
      "Class 0 : 0.9511111111111111\n",
      "Class 1 : 0.758957654723127\n",
      "Class 2 : 0.6988636363636364\n",
      "Class 3 : 0.9596719070403281\n",
      "Class 4 : 0.7614061331338818\n",
      "Class 5 : 0.44488188976377946\n",
      "Class 6 : 0.9506726457399104\n",
      "Class 7 : 0.7441860465116279\n",
      "Class 8 : 0.6567164179104478\n",
      "Class 9 : 0.9591836734693877\n",
      "Class 10 : 0.7769230769230769\n",
      "Class 11 : 0.5\n",
      "Class 12 : 0.9557522123893805\n",
      "Class 13 : 0.7777777777777778\n",
      "Class 14 : 0.6944444444444444\n",
      "Class 15 : 0.9583333333333334\n",
      "Class 16 : 0.7096774193548386\n",
      "Class 17 : 0.46666666666666673\n",
      "*************************************************************************\n",
      "\n"
     ]
    },
    {
     "name": "stderr",
     "output_type": "stream",
     "text": [
      "473it [02:52,  2.75it/s]                         "
     ]
    },
    {
     "name": "stdout",
     "output_type": "stream",
     "text": [
      "Adjusting learning rate of group 0 to 2.6572e-05.\n",
      "Epoch : 7\n"
     ]
    },
    {
     "name": "stderr",
     "output_type": "stream",
     "text": [
      "\n",
      " 50%|█████     | 236/472 [01:14<01:14,  3.16it/s]"
     ]
    },
    {
     "name": "stdout",
     "output_type": "stream",
     "text": [
      "Train Loss : 1.4760859711763727\n"
     ]
    },
    {
     "name": "stderr",
     "output_type": "stream",
     "text": [
      " 50%|█████     | 237/472 [01:26<14:15,  3.64s/it]"
     ]
    },
    {
     "name": "stdout",
     "output_type": "stream",
     "text": [
      "< VALIDATION >\n",
      "*************************************************************************\n",
      "Validation Loss : 1.6414562874481458\n",
      "-------------------------------------------------------------------------\n",
      "Total Accuracy\n",
      "81.74603174603175 %\n",
      "-------------------------------------------------------------------------\n",
      "Class Accuracy\n",
      "Mask   : 99.84243697478992 %\n",
      "Gender : 98.68697478991596 %\n",
      "Age    : 83.0094537815126 %\n",
      "-------------------------------------------------------------------------\n",
      "Confusion Matrix\n",
      "537 7   0   5   0   0   1   0   0   0   0   0   0   0   0   0   0   0   \n",
      "23  226 56  0   4   5   0   1   0   0   0   0   0   0   0   0   0   0   \n",
      "0   60  120 0   0   0   0   0   0   0   0   0   0   0   0   0   0   0   \n",
      "15  0   0   702 12  0   0   0   0   1   0   0   0   0   0   0   0   0   \n",
      "3   1   0   23  498 145 0   0   0   0   0   0   0   0   0   0   0   0   \n",
      "0   1   0   0   132 122 0   0   0   0   0   0   0   0   0   0   0   0   \n",
      "1   0   0   0   0   0   106 2   0   1   0   0   0   0   0   0   0   0   \n",
      "0   0   0   0   0   0   3   46  9   0   3   2   0   0   0   0   0   0   \n",
      "0   0   0   0   0   0   0   14  22  0   0   0   0   0   0   0   0   0   \n",
      "0   0   0   0   0   0   3   0   0   141 2   0   0   0   0   0   0   0   \n",
      "0   0   0   0   0   0   0   1   0   3   108 22  0   0   0   0   0   0   \n",
      "0   0   0   0   1   1   0   0   0   0   24  25  0   0   0   0   0   0   \n",
      "0   0   0   0   0   0   0   0   0   0   0   0   108 1   0   1   0   0   \n",
      "0   0   0   0   0   0   0   0   0   0   0   0   5   46  12  0   0   0   \n",
      "0   0   0   0   0   0   0   0   0   0   0   0   0   13  23  0   0   0   \n",
      "0   0   0   0   0   0   0   0   0   0   0   0   3   1   0   139 3   0   \n",
      "0   0   0   0   0   0   0   0   0   0   0   0   0   1   0   4   94  35  \n",
      "0   0   0   0   0   0   0   0   0   0   0   0   0   0   0   0   24  27  \n",
      "-------------------------------------------------------------------------\n",
      "Validation F1 score : 0.7585803143737366\n",
      "Class 0 : 0.9512843224092117\n",
      "Class 1 : 0.740983606557377\n",
      "Class 2 : 0.6741573033707865\n",
      "Class 3 : 0.9616438356164384\n",
      "Class 4 : 0.7562642369020501\n",
      "Class 5 : 0.46212121212121215\n",
      "Class 6 : 0.9506726457399104\n",
      "Class 7 : 0.7244094488188977\n",
      "Class 8 : 0.6567164179104478\n",
      "Class 9 : 0.9657534246575342\n",
      "Class 10 : 0.7970479704797049\n",
      "Class 11 : 0.5\n",
      "Class 12 : 0.9557522123893805\n",
      "Class 13 : 0.736\n",
      "Class 14 : 0.647887323943662\n",
      "Class 15 : 0.9586206896551724\n",
      "Class 16 : 0.7372549019607844\n",
      "Class 17 : 0.4778761061946903\n",
      "*************************************************************************\n",
      "\n"
     ]
    },
    {
     "name": "stderr",
     "output_type": "stream",
     "text": [
      "100%|█████████▉| 471/472 [02:40<00:00,  3.19it/s]"
     ]
    },
    {
     "name": "stdout",
     "output_type": "stream",
     "text": [
      "Train Loss : 1.4752407841763253\n"
     ]
    },
    {
     "name": "stderr",
     "output_type": "stream",
     "text": [
      "100%|██████████| 472/472 [02:51<00:00,  3.65s/it]"
     ]
    },
    {
     "name": "stdout",
     "output_type": "stream",
     "text": [
      "< VALIDATION >\n",
      "*************************************************************************\n",
      "Validation Loss : 1.6394135741626514\n",
      "-------------------------------------------------------------------------\n",
      "Total Accuracy\n",
      "81.93121693121694 %\n",
      "-------------------------------------------------------------------------\n",
      "Class Accuracy\n",
      "Mask   : 99.78991596638656 %\n",
      "Gender : 98.68697478991596 %\n",
      "Age    : 83.32457983193278 %\n",
      "-------------------------------------------------------------------------\n",
      "Confusion Matrix\n",
      "526 16  0   6   1   0   1   0   0   0   0   0   0   0   0   0   0   0   \n",
      "17  250 39  0   4   4   0   1   0   0   0   0   0   0   0   0   0   0   \n",
      "0   66  113 0   0   0   0   0   1   0   0   0   0   0   0   0   0   0   \n",
      "16  0   0   701 10  0   0   0   0   3   0   0   0   0   0   0   0   0   \n",
      "1   1   0   26  494 148 0   0   0   0   0   0   0   0   0   0   0   0   \n",
      "0   1   0   0   123 131 0   0   0   0   0   0   0   0   0   0   0   0   \n",
      "1   0   0   0   0   0   106 2   0   1   0   0   0   0   0   0   0   0   \n",
      "0   0   0   0   0   0   3   46  9   0   3   2   0   0   0   0   0   0   \n",
      "0   0   0   0   0   0   0   14  22  0   0   0   0   0   0   0   0   0   \n",
      "0   0   0   0   0   0   3   0   0   141 2   0   0   0   0   0   0   0   \n",
      "0   0   0   0   0   0   0   0   0   8   96  30  0   0   0   0   0   0   \n",
      "0   0   0   0   0   1   0   0   0   0   19  31  0   0   0   0   0   0   \n",
      "0   0   0   0   0   0   0   0   0   0   0   0   108 1   0   1   0   0   \n",
      "0   0   0   0   0   0   0   0   0   0   0   0   3   49  9   0   2   0   \n",
      "0   0   0   0   0   0   0   0   0   0   0   0   0   12  24  0   0   0   \n",
      "0   0   0   0   0   0   0   0   0   0   0   0   3   1   0   139 3   0   \n",
      "0   0   0   0   0   0   0   0   0   0   0   0   0   0   0   4   95  35  \n",
      "0   0   0   0   0   0   0   0   0   0   0   0   0   0   0   0   26  25  \n",
      "-------------------------------------------------------------------------\n",
      "Validation F1 score : 0.7638673098424945\n",
      "Class 0 : 0.946894689468947\n",
      "Class 1 : 0.7704160246533128\n",
      "Class 2 : 0.6807228915662651\n",
      "Class 3 : 0.9583048530416952\n",
      "Class 4 : 0.7588325652841782\n",
      "Class 5 : 0.4860853432282004\n",
      "Class 6 : 0.9506726457399104\n",
      "Class 7 : 0.7301587301587301\n",
      "Class 8 : 0.6470588235294118\n",
      "Class 9 : 0.94314381270903\n",
      "Class 10 : 0.7559055118110236\n",
      "Class 11 : 0.543859649122807\n",
      "Class 12 : 0.9642857142857142\n",
      "Class 13 : 0.7777777777777778\n",
      "Class 14 : 0.6956521739130435\n",
      "Class 15 : 0.9586206896551724\n",
      "Class 16 : 0.7307692307692307\n",
      "Class 17 : 0.45045045045045046\n",
      "*************************************************************************\n",
      "\n"
     ]
    },
    {
     "name": "stderr",
     "output_type": "stream",
     "text": [
      "473it [02:52,  2.75it/s]                         "
     ]
    },
    {
     "name": "stdout",
     "output_type": "stream",
     "text": [
      "Adjusting learning rate of group 0 to 2.3915e-05.\n",
      "Epoch : 8\n"
     ]
    },
    {
     "name": "stderr",
     "output_type": "stream",
     "text": [
      "\n",
      " 50%|█████     | 236/472 [01:14<01:14,  3.18it/s]"
     ]
    },
    {
     "name": "stdout",
     "output_type": "stream",
     "text": [
      "Train Loss : 1.4664458624924286\n"
     ]
    },
    {
     "name": "stderr",
     "output_type": "stream",
     "text": [
      " 50%|█████     | 237/472 [01:26<14:20,  3.66s/it]"
     ]
    },
    {
     "name": "stdout",
     "output_type": "stream",
     "text": [
      "< VALIDATION >\n",
      "*************************************************************************\n",
      "Validation Loss : 1.6469040908733337\n",
      "-------------------------------------------------------------------------\n",
      "Total Accuracy\n",
      "81.71957671957671 %\n",
      "-------------------------------------------------------------------------\n",
      "Class Accuracy\n",
      "Mask   : 99.81617647058823 %\n",
      "Gender : 98.68697478991596 %\n",
      "Age    : 83.11449579831933 %\n",
      "-------------------------------------------------------------------------\n",
      "Confusion Matrix\n",
      "537 8   0   5   0   0   0   0   0   0   0   0   0   0   0   0   0   0   \n",
      "23  237 42  0   8   4   0   1   0   0   0   0   0   0   0   0   0   0   \n",
      "0   67  113 0   0   0   0   0   0   0   0   0   0   0   0   0   0   0   \n",
      "12  0   0   707 9   0   0   0   0   2   0   0   0   0   0   0   0   0   \n",
      "2   2   0   31  505 130 0   0   0   0   0   0   0   0   0   0   0   0   \n",
      "0   0   0   0   143 112 0   0   0   0   0   0   0   0   0   0   0   0   \n",
      "1   0   0   0   0   0   106 2   0   1   0   0   0   0   0   0   0   0   \n",
      "0   0   0   0   0   0   3   48  8   0   3   1   0   0   0   0   0   0   \n",
      "0   0   0   0   0   0   0   16  20  0   0   0   0   0   0   0   0   0   \n",
      "0   0   0   0   0   0   3   0   0   141 2   0   0   0   0   0   0   0   \n",
      "0   0   0   0   0   1   0   0   0   9   101 23  0   0   0   0   0   0   \n",
      "0   0   0   0   0   2   0   0   0   0   24  25  0   0   0   0   0   0   \n",
      "0   0   0   0   0   0   0   0   0   0   0   0   108 1   0   1   0   0   \n",
      "0   0   0   0   0   0   0   0   0   0   0   0   4   43  13  0   3   0   \n",
      "0   0   0   0   0   0   0   0   0   0   0   0   0   12  24  0   0   0   \n",
      "0   0   0   0   0   0   0   0   0   0   0   0   3   1   0   140 2   0   \n",
      "0   0   0   0   0   0   0   0   0   0   0   0   0   1   0   5   99  29  \n",
      "0   0   0   0   0   0   0   0   0   0   0   0   0   0   0   0   28  23  \n",
      "-------------------------------------------------------------------------\n",
      "Validation F1 score : 0.752703994588033\n",
      "Class 0 : 0.9546666666666668\n",
      "Class 1 : 0.753577106518283\n",
      "Class 2 : 0.6746268656716418\n",
      "Class 3 : 0.9599456890699253\n",
      "Class 4 : 0.7565543071161048\n",
      "Class 5 : 0.4444444444444444\n",
      "Class 6 : 0.9549549549549549\n",
      "Class 7 : 0.7384615384615385\n",
      "Class 8 : 0.6250000000000001\n",
      "Class 9 : 0.94314381270903\n",
      "Class 10 : 0.7651515151515151\n",
      "Class 11 : 0.5\n",
      "Class 12 : 0.96\n",
      "Class 13 : 0.7107438016528926\n",
      "Class 14 : 0.6575342465753425\n",
      "Class 15 : 0.958904109589041\n",
      "Class 16 : 0.7443609022556392\n",
      "Class 17 : 0.44660194174757284\n",
      "*************************************************************************\n",
      "\n"
     ]
    },
    {
     "name": "stderr",
     "output_type": "stream",
     "text": [
      "100%|█████████▉| 471/472 [02:39<00:00,  3.19it/s]"
     ]
    },
    {
     "name": "stdout",
     "output_type": "stream",
     "text": [
      "Train Loss : 1.4653555238145892\n"
     ]
    },
    {
     "name": "stderr",
     "output_type": "stream",
     "text": [
      "100%|██████████| 472/472 [02:51<00:00,  3.68s/it]"
     ]
    },
    {
     "name": "stdout",
     "output_type": "stream",
     "text": [
      "< VALIDATION >\n",
      "*************************************************************************\n",
      "Validation Loss : 1.6383597780676449\n",
      "-------------------------------------------------------------------------\n",
      "Total Accuracy\n",
      "82.96296296296296 %\n",
      "-------------------------------------------------------------------------\n",
      "Class Accuracy\n",
      "Mask   : 99.81617647058823 %\n",
      "Gender : 98.73949579831933 %\n",
      "Age    : 84.26995798319328 %\n",
      "-------------------------------------------------------------------------\n",
      "Confusion Matrix\n",
      "538 7   0   5   0   0   0   0   0   0   0   0   0   0   0   0   0   0   \n",
      "23  241 43  0   4   3   0   1   0   0   0   0   0   0   0   0   0   0   \n",
      "0   60  120 0   0   0   0   0   0   0   0   0   0   0   0   0   0   0   \n",
      "14  0   0   702 11  0   0   0   0   3   0   0   0   0   0   0   0   0   \n",
      "3   1   0   26  532 108 0   0   0   0   0   0   0   0   0   0   0   0   \n",
      "0   1   0   0   138 116 0   0   0   0   0   0   0   0   0   0   0   0   \n",
      "1   0   0   0   0   0   106 2   0   1   0   0   0   0   0   0   0   0   \n",
      "0   0   0   0   0   0   4   47  9   0   2   1   0   0   0   0   0   0   \n",
      "0   0   0   0   0   0   0   16  20  0   0   0   0   0   0   0   0   0   \n",
      "0   0   0   0   0   0   3   0   0   141 2   0   0   0   0   0   0   0   \n",
      "0   0   0   0   0   1   0   0   0   5   107 21  0   0   0   0   0   0   \n",
      "0   0   0   0   0   1   0   1   0   0   25  24  0   0   0   0   0   0   \n",
      "0   0   0   0   0   0   0   0   0   0   0   0   108 1   0   1   0   0   \n",
      "0   0   0   0   0   0   0   0   0   0   0   0   4   45  12  0   2   0   \n",
      "0   0   0   0   0   0   0   0   0   0   0   0   0   11  25  0   0   0   \n",
      "0   0   0   0   0   0   0   0   0   0   0   0   5   0   0   139 2   0   \n",
      "0   0   0   0   0   0   0   0   0   0   0   0   0   1   0   4   106 23  \n",
      "0   0   0   0   0   0   0   0   0   0   0   0   0   0   0   0   32  19  \n",
      "-------------------------------------------------------------------------\n",
      "Validation F1 score : 0.7607279717402391\n",
      "Class 0 : 0.9530558015943313\n",
      "Class 1 : 0.7712000000000001\n",
      "Class 2 : 0.6997084548104955\n",
      "Class 3 : 0.9596719070403281\n",
      "Class 4 : 0.785239852398524\n",
      "Class 5 : 0.4793388429752065\n",
      "Class 6 : 0.9506726457399104\n",
      "Class 7 : 0.7230769230769232\n",
      "Class 8 : 0.6153846153846154\n",
      "Class 9 : 0.9527027027027025\n",
      "Class 10 : 0.7925925925925927\n",
      "Class 11 : 0.49484536082474223\n",
      "Class 12 : 0.9515418502202644\n",
      "Class 13 : 0.7438016528925621\n",
      "Class 14 : 0.684931506849315\n",
      "Class 15 : 0.9586206896551724\n",
      "Class 16 : 0.7681159420289855\n",
      "Class 17 : 0.40860215053763443\n",
      "*************************************************************************\n",
      "\n"
     ]
    },
    {
     "name": "stderr",
     "output_type": "stream",
     "text": [
      "473it [02:51,  2.75it/s]                         "
     ]
    },
    {
     "name": "stdout",
     "output_type": "stream",
     "text": [
      "Adjusting learning rate of group 0 to 2.1523e-05.\n",
      "Epoch : 9\n"
     ]
    },
    {
     "name": "stderr",
     "output_type": "stream",
     "text": [
      "\n",
      " 50%|█████     | 236/472 [01:14<01:14,  3.19it/s]"
     ]
    },
    {
     "name": "stdout",
     "output_type": "stream",
     "text": [
      "Train Loss : 1.4615686432721746\n"
     ]
    },
    {
     "name": "stderr",
     "output_type": "stream",
     "text": [
      " 50%|█████     | 237/472 [01:26<14:28,  3.69s/it]"
     ]
    },
    {
     "name": "stdout",
     "output_type": "stream",
     "text": [
      "< VALIDATION >\n",
      "*************************************************************************\n",
      "Validation Loss : 1.6316289110343998\n",
      "-------------------------------------------------------------------------\n",
      "Total Accuracy\n",
      "82.53968253968253 %\n",
      "-------------------------------------------------------------------------\n",
      "Class Accuracy\n",
      "Mask   : 99.81617647058823 %\n",
      "Gender : 98.84453781512606 %\n",
      "Age    : 83.82352941176471 %\n",
      "-------------------------------------------------------------------------\n",
      "Confusion Matrix\n",
      "538 7   0   5   0   0   0   0   0   0   0   0   0   0   0   0   0   0   \n",
      "25  226 55  0   6   2   0   1   0   0   0   0   0   0   0   0   0   0   \n",
      "0   59  121 0   0   0   0   0   0   0   0   0   0   0   0   0   0   0   \n",
      "11  0   0   707 10  0   0   0   0   2   0   0   0   0   0   0   0   0   \n",
      "2   2   0   28  498 140 0   0   0   0   0   0   0   0   0   0   0   0   \n",
      "0   1   0   0   115 139 0   0   0   0   0   0   0   0   0   0   0   0   \n",
      "1   0   0   0   0   0   106 2   0   1   0   0   0   0   0   0   0   0   \n",
      "0   0   0   0   0   0   4   46  10  0   2   1   0   0   0   0   0   0   \n",
      "0   0   0   0   0   0   0   15  21  0   0   0   0   0   0   0   0   0   \n",
      "0   0   0   0   0   0   3   0   0   141 2   0   0   0   0   0   0   0   \n",
      "0   0   0   0   0   1   0   0   0   6   103 24  0   0   0   0   0   0   \n",
      "0   0   0   0   0   2   0   0   0   0   21  28  0   0   0   0   0   0   \n",
      "0   0   0   0   0   0   0   0   0   0   0   0   108 1   0   1   0   0   \n",
      "0   0   0   0   0   0   0   0   0   0   0   0   2   46  11  0   4   0   \n",
      "0   0   0   0   0   0   0   0   0   0   0   0   0   12  24  0   0   0   \n",
      "0   0   0   0   0   0   0   0   0   0   0   0   3   0   0   140 3   0   \n",
      "0   0   0   0   0   0   0   0   0   0   0   0   0   0   0   5   98  31  \n",
      "0   0   0   0   0   0   0   0   0   0   0   0   0   0   0   0   21  30  \n",
      "-------------------------------------------------------------------------\n",
      "Validation F1 score : 0.7692513900863746\n",
      "Class 0 : 0.9547471162377995\n",
      "Class 1 : 0.740983606557377\n",
      "Class 2 : 0.6797752808988764\n",
      "Class 3 : 0.961904761904762\n",
      "Class 4 : 0.7667436489607391\n",
      "Class 5 : 0.5157699443413729\n",
      "Class 6 : 0.9506726457399104\n",
      "Class 7 : 0.7244094488188977\n",
      "Class 8 : 0.626865671641791\n",
      "Class 9 : 0.9527027027027025\n",
      "Class 10 : 0.7862595419847329\n",
      "Class 11 : 0.5384615384615384\n",
      "Class 12 : 0.968609865470852\n",
      "Class 13 : 0.7540983606557377\n",
      "Class 14 : 0.676056338028169\n",
      "Class 15 : 0.958904109589041\n",
      "Class 16 : 0.7538461538461538\n",
      "Class 17 : 0.5357142857142858\n",
      "model saved!\n",
      "*************************************************************************\n",
      "\n"
     ]
    },
    {
     "name": "stderr",
     "output_type": "stream",
     "text": [
      "100%|█████████▉| 471/472 [02:40<00:00,  3.19it/s]"
     ]
    },
    {
     "name": "stdout",
     "output_type": "stream",
     "text": [
      "Train Loss : 1.4617596059027365\n"
     ]
    },
    {
     "name": "stderr",
     "output_type": "stream",
     "text": [
      "100%|██████████| 472/472 [02:51<00:00,  3.66s/it]"
     ]
    },
    {
     "name": "stdout",
     "output_type": "stream",
     "text": [
      "< VALIDATION >\n",
      "*************************************************************************\n",
      "Validation Loss : 1.6192141470788908\n",
      "-------------------------------------------------------------------------\n",
      "Total Accuracy\n",
      "82.53968253968253 %\n",
      "-------------------------------------------------------------------------\n",
      "Class Accuracy\n",
      "Mask   : 99.84243697478992 %\n",
      "Gender : 98.71323529411765 %\n",
      "Age    : 83.77100840336135 %\n",
      "-------------------------------------------------------------------------\n",
      "Confusion Matrix\n",
      "535 10  0   5   0   0   0   0   0   0   0   0   0   0   0   0   0   0   \n",
      "13  229 63  0   4   5   0   1   0   0   0   0   0   0   0   0   0   0   \n",
      "0   53  127 0   0   0   0   0   0   0   0   0   0   0   0   0   0   0   \n",
      "12  0   0   697 19  0   0   0   0   2   0   0   0   0   0   0   0   0   \n",
      "2   2   0   15  498 153 0   0   0   0   0   0   0   0   0   0   0   0   \n",
      "0   1   0   0   105 149 0   0   0   0   0   0   0   0   0   0   0   0   \n",
      "1   0   0   0   0   0   105 3   0   1   0   0   0   0   0   0   0   0   \n",
      "0   0   0   0   0   0   2   46  10  0   3   2   0   0   0   0   0   0   \n",
      "0   0   0   0   0   0   0   14  21  0   0   1   0   0   0   0   0   0   \n",
      "0   0   0   0   0   0   3   0   0   140 3   0   0   0   0   0   0   0   \n",
      "0   0   0   0   0   1   0   0   0   3   96  34  0   0   0   0   0   0   \n",
      "0   0   0   0   0   1   0   0   0   0   18  32  0   0   0   0   0   0   \n",
      "0   0   0   0   0   0   0   0   0   0   0   0   108 1   0   1   0   0   \n",
      "0   0   0   0   0   0   0   0   0   0   0   0   3   47  12  0   1   0   \n",
      "0   0   0   0   0   0   0   0   0   0   0   0   0   12  24  0   0   0   \n",
      "0   0   0   0   0   0   0   0   0   0   0   0   3   1   0   139 3   0   \n",
      "0   0   0   0   0   0   0   0   0   0   0   0   0   1   1   4   98  30  \n",
      "0   0   0   0   0   0   0   0   0   0   0   0   0   0   0   0   22  29  \n",
      "-------------------------------------------------------------------------\n",
      "Validation F1 score : 0.7684610263686213\n",
      "Class 0 : 0.9613656783468105\n",
      "Class 1 : 0.7508196721311475\n",
      "Class 2 : 0.6864864864864865\n",
      "Class 3 : 0.9633724948168626\n",
      "Class 4 : 0.7685185185185185\n",
      "Class 5 : 0.5283687943262411\n",
      "Class 6 : 0.9545454545454546\n",
      "Class 7 : 0.7244094488188977\n",
      "Class 8 : 0.626865671641791\n",
      "Class 9 : 0.958904109589041\n",
      "Class 10 : 0.7559055118110236\n",
      "Class 11 : 0.5333333333333333\n",
      "Class 12 : 0.9642857142857142\n",
      "Class 13 : 0.752\n",
      "Class 14 : 0.6575342465753425\n",
      "Class 15 : 0.9586206896551724\n",
      "Class 16 : 0.7596899224806203\n",
      "Class 17 : 0.5272727272727272\n",
      "*************************************************************************\n",
      "\n"
     ]
    },
    {
     "name": "stderr",
     "output_type": "stream",
     "text": [
      "473it [02:52,  2.75it/s]                         "
     ]
    },
    {
     "name": "stdout",
     "output_type": "stream",
     "text": [
      "Adjusting learning rate of group 0 to 1.9371e-05.\n",
      "Epoch : 10\n"
     ]
    },
    {
     "name": "stderr",
     "output_type": "stream",
     "text": [
      "\n",
      " 50%|█████     | 236/472 [01:14<01:14,  3.18it/s]"
     ]
    },
    {
     "name": "stdout",
     "output_type": "stream",
     "text": [
      "Train Loss : 1.4571950722344313\n"
     ]
    },
    {
     "name": "stderr",
     "output_type": "stream",
     "text": [
      " 50%|█████     | 237/472 [01:26<14:16,  3.64s/it]"
     ]
    },
    {
     "name": "stdout",
     "output_type": "stream",
     "text": [
      "< VALIDATION >\n",
      "*************************************************************************\n",
      "Validation Loss : 1.6379482716071505\n",
      "-------------------------------------------------------------------------\n",
      "Total Accuracy\n",
      "83.41269841269842 %\n",
      "-------------------------------------------------------------------------\n",
      "Class Accuracy\n",
      "Mask   : 99.84243697478992 %\n",
      "Gender : 98.94957983193278 %\n",
      "Age    : 84.50630252100841 %\n",
      "-------------------------------------------------------------------------\n",
      "Confusion Matrix\n",
      "535 10  0   5   0   0   0   0   0   0   0   0   0   0   0   0   0   0   \n",
      "20  246 43  0   4   1   0   1   0   0   0   0   0   0   0   0   0   0   \n",
      "0   64  116 0   0   0   0   0   0   0   0   0   0   0   0   0   0   0   \n",
      "12  0   0   707 9   0   0   0   0   2   0   0   0   0   0   0   0   0   \n",
      "3   0   0   24  543 100 0   0   0   0   0   0   0   0   0   0   0   0   \n",
      "0   1   0   0   144 110 0   0   0   0   0   0   0   0   0   0   0   0   \n",
      "1   0   0   0   0   0   106 2   0   1   0   0   0   0   0   0   0   0   \n",
      "0   0   0   0   0   0   4   45  9   0   3   2   0   0   0   0   0   0   \n",
      "0   0   0   0   0   0   0   15  21  0   0   0   0   0   0   0   0   0   \n",
      "0   0   0   0   0   0   3   0   0   141 2   0   0   0   0   0   0   0   \n",
      "0   0   0   0   0   1   0   0   0   4   109 20  0   0   0   0   0   0   \n",
      "0   0   0   0   1   0   0   0   0   0   25  25  0   0   0   0   0   0   \n",
      "0   0   0   0   0   0   0   0   0   0   0   0   108 1   0   1   0   0   \n",
      "0   0   0   0   0   0   0   0   0   0   0   0   4   50  9   0   0   0   \n",
      "0   0   0   0   0   0   0   0   0   0   0   0   0   13  23  0   0   0   \n",
      "0   0   0   0   0   0   0   0   0   0   0   0   3   0   0   141 2   0   \n",
      "0   0   0   0   0   0   0   0   0   0   0   0   0   1   0   7   109 17  \n",
      "0   0   0   0   0   0   0   0   0   0   0   0   0   0   0   0   33  18  \n",
      "-------------------------------------------------------------------------\n",
      "Validation F1 score : 0.7658818997380431\n",
      "Class 0 : 0.9545049063336307\n",
      "Class 1 : 0.7735849056603774\n",
      "Class 2 : 0.6843657817109144\n",
      "Class 3 : 0.9645293315143247\n",
      "Class 4 : 0.7921225382932165\n",
      "Class 5 : 0.47109207708779444\n",
      "Class 6 : 0.9506726457399104\n",
      "Class 7 : 0.7142857142857143\n",
      "Class 8 : 0.6363636363636365\n",
      "Class 9 : 0.9591836734693877\n",
      "Class 10 : 0.7985347985347985\n",
      "Class 11 : 0.5102040816326531\n",
      "Class 12 : 0.96\n",
      "Class 13 : 0.7812500000000001\n",
      "Class 14 : 0.676470588235294\n",
      "Class 15 : 0.9559322033898304\n",
      "Class 16 : 0.7841726618705036\n",
      "Class 17 : 0.41860465116279066\n",
      "*************************************************************************\n",
      "\n"
     ]
    },
    {
     "name": "stderr",
     "output_type": "stream",
     "text": [
      "100%|█████████▉| 471/472 [02:40<00:00,  3.11it/s]"
     ]
    },
    {
     "name": "stdout",
     "output_type": "stream",
     "text": [
      "Train Loss : 1.455170294238349\n"
     ]
    },
    {
     "name": "stderr",
     "output_type": "stream",
     "text": [
      "100%|██████████| 472/472 [02:52<00:00,  3.74s/it]"
     ]
    },
    {
     "name": "stdout",
     "output_type": "stream",
     "text": [
      "< VALIDATION >\n",
      "*************************************************************************\n",
      "Validation Loss : 1.6347769188279866\n",
      "-------------------------------------------------------------------------\n",
      "Total Accuracy\n",
      "83.80952380952381 %\n",
      "-------------------------------------------------------------------------\n",
      "Class Accuracy\n",
      "Mask   : 99.81617647058823 %\n",
      "Gender : 98.89705882352942 %\n",
      "Age    : 85.03151260504201 %\n",
      "-------------------------------------------------------------------------\n",
      "Confusion Matrix\n",
      "536 9   0   5   0   0   0   0   0   0   0   0   0   0   0   0   0   0   \n",
      "18  263 28  0   5   0   0   1   0   0   0   0   0   0   0   0   0   0   \n",
      "0   61  119 0   0   0   0   0   0   0   0   0   0   0   0   0   0   0   \n",
      "15  0   0   698 15  0   0   0   0   2   0   0   0   0   0   0   0   0   \n",
      "3   0   0   22  540 105 0   0   0   0   0   0   0   0   0   0   0   0   \n",
      "0   2   0   0   139 114 0   0   0   0   0   0   0   0   0   0   0   0   \n",
      "1   0   0   0   0   0   106 2   0   1   0   0   0   0   0   0   0   0   \n",
      "0   0   0   0   0   0   4   49  9   0   1   0   0   0   0   0   0   0   \n",
      "0   0   0   0   0   0   0   14  22  0   0   0   0   0   0   0   0   0   \n",
      "0   0   0   0   0   0   3   0   0   140 3   0   0   0   0   0   0   0   \n",
      "0   0   0   0   0   1   0   0   0   4   108 21  0   0   0   0   0   0   \n",
      "0   0   0   0   0   2   0   0   0   0   27  22  0   0   0   0   0   0   \n",
      "0   0   0   0   0   0   0   0   0   0   0   0   108 1   0   1   0   0   \n",
      "0   0   0   0   0   0   0   0   0   0   0   0   2   54  5   0   2   0   \n",
      "0   0   0   0   0   0   0   0   0   0   0   0   0   12  24  0   0   0   \n",
      "0   0   0   0   0   0   0   0   0   0   0   0   3   1   0   140 2   0   \n",
      "0   0   0   0   0   0   0   0   0   0   0   0   0   0   0   4   105 25  \n",
      "0   0   0   0   0   0   0   0   0   0   0   0   0   0   0   0   31  20  \n",
      "-------------------------------------------------------------------------\n",
      "Validation F1 score : 0.776487363844653\n",
      "Class 0 : 0.9545859305431879\n",
      "Class 1 : 0.8092307692307693\n",
      "Class 2 : 0.72782874617737\n",
      "Class 3 : 0.9594501718213058\n",
      "Class 4 : 0.7888970051132214\n",
      "Class 5 : 0.4779874213836478\n",
      "Class 6 : 0.9506726457399104\n",
      "Class 7 : 0.7596899224806201\n",
      "Class 8 : 0.6567164179104478\n",
      "Class 9 : 0.955631399317406\n",
      "Class 10 : 0.7912087912087912\n",
      "Class 11 : 0.46808510638297873\n",
      "Class 12 : 0.968609865470852\n",
      "Class 13 : 0.8244274809160305\n",
      "Class 14 : 0.7384615384615385\n",
      "Class 15 : 0.9621993127147767\n",
      "Class 16 : 0.7664233576642335\n",
      "Class 17 : 0.4166666666666667\n",
      "model saved!\n",
      "*************************************************************************\n",
      "\n"
     ]
    },
    {
     "name": "stderr",
     "output_type": "stream",
     "text": [
      "473it [02:52,  2.74it/s]                         "
     ]
    },
    {
     "name": "stdout",
     "output_type": "stream",
     "text": [
      "Adjusting learning rate of group 0 to 1.7434e-05.\n",
      "Epoch : 11\n"
     ]
    },
    {
     "name": "stderr",
     "output_type": "stream",
     "text": [
      "\n",
      " 50%|█████     | 236/472 [01:15<01:15,  3.14it/s]"
     ]
    },
    {
     "name": "stdout",
     "output_type": "stream",
     "text": [
      "Train Loss : 1.4502063667723901\n"
     ]
    },
    {
     "name": "stderr",
     "output_type": "stream",
     "text": [
      " 50%|█████     | 237/472 [01:26<14:11,  3.62s/it]"
     ]
    },
    {
     "name": "stdout",
     "output_type": "stream",
     "text": [
      "< VALIDATION >\n",
      "*************************************************************************\n",
      "Validation Loss : 1.6326569949879366\n",
      "-------------------------------------------------------------------------\n",
      "Total Accuracy\n",
      "82.22222222222221 %\n",
      "-------------------------------------------------------------------------\n",
      "Class Accuracy\n",
      "Mask   : 99.81617647058823 %\n",
      "Gender : 98.7920168067227 %\n",
      "Age    : 83.53466386554622 %\n",
      "-------------------------------------------------------------------------\n",
      "Confusion Matrix\n",
      "533 12  0   5   0   0   0   0   0   0   0   0   0   0   0   0   0   0   \n",
      "16  238 51  0   7   2   0   1   0   0   0   0   0   0   0   0   0   0   \n",
      "0   58  122 0   0   0   0   0   0   0   0   0   0   0   0   0   0   0   \n",
      "12  0   0   701 15  0   0   0   0   2   0   0   0   0   0   0   0   0   \n",
      "1   1   0   26  516 126 0   0   0   0   0   0   0   0   0   0   0   0   \n",
      "0   1   0   0   132 122 0   0   0   0   0   0   0   0   0   0   0   0   \n",
      "1   0   0   0   0   0   105 3   0   1   0   0   0   0   0   0   0   0   \n",
      "0   0   0   0   0   0   3   45  10  0   3   2   0   0   0   0   0   0   \n",
      "0   0   0   0   0   0   0   14  22  0   0   0   0   0   0   0   0   0   \n",
      "0   0   0   0   0   0   3   0   0   140 3   0   0   0   0   0   0   0   \n",
      "0   0   0   0   0   1   0   0   0   5   101 27  0   0   0   0   0   0   \n",
      "0   0   0   0   0   2   0   0   0   0   22  27  0   0   0   0   0   0   \n",
      "0   0   0   0   0   0   0   0   0   0   0   0   107 2   0   1   0   0   \n",
      "0   0   0   0   0   0   0   0   0   0   0   0   2   43  15  0   3   0   \n",
      "0   0   0   0   0   0   0   0   0   0   0   0   0   11  25  0   0   0   \n",
      "0   0   0   0   0   0   0   0   0   0   0   0   3   1   0   139 3   0   \n",
      "0   0   0   0   0   0   0   0   0   0   0   0   0   0   0   4   97  33  \n",
      "0   0   0   0   0   0   0   0   0   0   0   0   0   0   0   0   26  25  \n",
      "-------------------------------------------------------------------------\n",
      "Validation F1 score : 0.7583446760110204\n",
      "Class 0 : 0.9577717879604672\n",
      "Class 1 : 0.7615999999999999\n",
      "Class 2 : 0.6912181303116147\n",
      "Class 3 : 0.9589603283173734\n",
      "Class 4 : 0.7701492537313432\n",
      "Class 5 : 0.4803149606299213\n",
      "Class 6 : 0.9502262443438914\n",
      "Class 7 : 0.7142857142857143\n",
      "Class 8 : 0.6470588235294118\n",
      "Class 9 : 0.9523809523809523\n",
      "Class 10 : 0.768060836501901\n",
      "Class 11 : 0.5046728971962616\n",
      "Class 12 : 0.963963963963964\n",
      "Class 13 : 0.7166666666666668\n",
      "Class 14 : 0.6578947368421053\n",
      "Class 15 : 0.9586206896551724\n",
      "Class 16 : 0.7376425855513309\n",
      "Class 17 : 0.45871559633027525\n",
      "*************************************************************************\n",
      "\n"
     ]
    },
    {
     "name": "stderr",
     "output_type": "stream",
     "text": [
      "100%|█████████▉| 471/472 [02:40<00:00,  3.19it/s]"
     ]
    },
    {
     "name": "stdout",
     "output_type": "stream",
     "text": [
      "Train Loss : 1.448350638908855\n"
     ]
    },
    {
     "name": "stderr",
     "output_type": "stream",
     "text": [
      "100%|██████████| 472/472 [02:51<00:00,  3.63s/it]"
     ]
    },
    {
     "name": "stdout",
     "output_type": "stream",
     "text": [
      "< VALIDATION >\n",
      "*************************************************************************\n",
      "Validation Loss : 1.639256154789644\n",
      "-------------------------------------------------------------------------\n",
      "Total Accuracy\n",
      "82.98941798941799 %\n",
      "-------------------------------------------------------------------------\n",
      "Class Accuracy\n",
      "Mask   : 99.89495798319328 %\n",
      "Gender : 98.87079831932773 %\n",
      "Age    : 84.08613445378151 %\n",
      "-------------------------------------------------------------------------\n",
      "Confusion Matrix\n",
      "531 12  2   5   0   0   0   0   0   0   0   0   0   0   0   0   0   0   \n",
      "19  233 56  0   3   3   0   1   0   0   0   0   0   0   0   0   0   0   \n",
      "0   57  123 0   0   0   0   0   0   0   0   0   0   0   0   0   0   0   \n",
      "13  0   0   698 17  0   0   0   0   2   0   0   0   0   0   0   0   0   \n",
      "2   1   0   22  552 93  0   0   0   0   0   0   0   0   0   0   0   0   \n",
      "0   2   0   0   149 104 0   0   0   0   0   0   0   0   0   0   0   0   \n",
      "1   0   0   0   0   0   105 3   0   1   0   0   0   0   0   0   0   0   \n",
      "0   0   0   0   0   0   4   46  9   0   2   2   0   0   0   0   0   0   \n",
      "0   0   0   0   0   0   0   15  21  0   0   0   0   0   0   0   0   0   \n",
      "0   0   0   0   0   0   3   0   0   140 3   0   0   0   0   0   0   0   \n",
      "0   0   0   0   0   0   0   0   0   2   117 15  0   0   0   0   0   0   \n",
      "0   0   0   0   0   0   0   0   0   0   31  20  0   0   0   0   0   0   \n",
      "0   0   0   0   0   0   0   0   0   0   0   0   106 3   0   1   0   0   \n",
      "0   0   0   0   0   0   0   0   0   0   0   0   2   50  10  0   1   0   \n",
      "0   0   0   0   0   0   0   0   0   0   0   0   0   12  24  0   0   0   \n",
      "0   0   0   0   0   0   0   0   0   0   0   0   3   1   0   139 3   0   \n",
      "0   0   0   0   0   0   0   0   0   0   0   0   0   0   0   3   110 21  \n",
      "0   0   0   0   0   0   0   0   0   0   0   0   0   0   0   0   33  18  \n",
      "-------------------------------------------------------------------------\n",
      "Validation F1 score : 0.7607282345971103\n",
      "Class 0 : 0.9516129032258065\n",
      "Class 1 : 0.7516129032258064\n",
      "Class 2 : 0.6814404432132964\n",
      "Class 3 : 0.9594501718213058\n",
      "Class 4 : 0.7936736161035226\n",
      "Class 5 : 0.4571428571428572\n",
      "Class 6 : 0.9459459459459459\n",
      "Class 7 : 0.7187500000000001\n",
      "Class 8 : 0.6363636363636365\n",
      "Class 9 : 0.9621993127147767\n",
      "Class 10 : 0.8153310104529616\n",
      "Class 11 : 0.4545454545454546\n",
      "Class 12 : 0.9592760180995475\n",
      "Class 13 : 0.7751937984496123\n",
      "Class 14 : 0.6857142857142857\n",
      "Class 15 : 0.9619377162629758\n",
      "Class 16 : 0.7829181494661922\n",
      "Class 17 : 0.4000000000000001\n",
      "*************************************************************************\n",
      "\n"
     ]
    },
    {
     "name": "stderr",
     "output_type": "stream",
     "text": [
      "473it [02:51,  2.75it/s]                         "
     ]
    },
    {
     "name": "stdout",
     "output_type": "stream",
     "text": [
      "Adjusting learning rate of group 0 to 1.5691e-05.\n",
      "Epoch : 12\n"
     ]
    },
    {
     "name": "stderr",
     "output_type": "stream",
     "text": [
      "\n",
      " 50%|█████     | 236/472 [01:14<01:13,  3.19it/s]"
     ]
    },
    {
     "name": "stdout",
     "output_type": "stream",
     "text": [
      "Train Loss : 1.4452811771304295\n"
     ]
    },
    {
     "name": "stderr",
     "output_type": "stream",
     "text": [
      " 50%|█████     | 237/472 [01:26<14:06,  3.60s/it]"
     ]
    },
    {
     "name": "stdout",
     "output_type": "stream",
     "text": [
      "< VALIDATION >\n",
      "*************************************************************************\n",
      "Validation Loss : 1.645521538598197\n",
      "-------------------------------------------------------------------------\n",
      "Total Accuracy\n",
      "82.64550264550265 %\n",
      "-------------------------------------------------------------------------\n",
      "Class Accuracy\n",
      "Mask   : 99.92121848739495 %\n",
      "Gender : 98.81827731092437 %\n",
      "Age    : 83.84978991596638 %\n",
      "-------------------------------------------------------------------------\n",
      "Confusion Matrix\n",
      "535 10  0   5   0   0   0   0   0   0   0   0   0   0   0   0   0   0   \n",
      "21  244 39  0   6   4   0   1   0   0   0   0   0   0   0   0   0   0   \n",
      "0   69  111 0   0   0   0   0   0   0   0   0   0   0   0   0   0   0   \n",
      "12  0   0   708 9   0   0   0   0   1   0   0   0   0   0   0   0   0   \n",
      "2   1   0   35  537 95  0   0   0   0   0   0   0   0   0   0   0   0   \n",
      "0   1   0   0   154 100 0   0   0   0   0   0   0   0   0   0   0   0   \n",
      "1   0   0   0   0   0   105 3   0   1   0   0   0   0   0   0   0   0   \n",
      "0   0   0   0   0   0   3   49  7   0   4   0   0   0   0   0   0   0   \n",
      "0   0   0   0   0   0   0   16  20  0   0   0   0   0   0   0   0   0   \n",
      "0   0   0   0   0   0   3   0   0   140 3   0   0   0   0   0   0   0   \n",
      "0   0   0   0   0   0   0   0   0   5   116 13  0   0   0   0   0   0   \n",
      "0   0   0   0   0   0   0   0   0   0   32  19  0   0   0   0   0   0   \n",
      "0   0   0   0   0   0   0   0   0   0   0   0   108 1   0   1   0   0   \n",
      "0   0   0   0   0   0   0   0   0   0   0   0   4   47  12  0   0   0   \n",
      "0   0   0   0   0   0   0   0   0   0   0   0   0   11  25  0   0   0   \n",
      "0   0   0   0   0   0   0   0   0   0   0   0   4   0   0   140 2   0   \n",
      "0   0   0   0   0   0   0   0   0   0   0   0   0   1   0   7   100 26  \n",
      "0   0   0   0   0   0   0   0   0   0   0   0   0   0   0   0   31  20  \n",
      "-------------------------------------------------------------------------\n",
      "Validation F1 score : 0.757298034488949\n",
      "Class 0 : 0.9545049063336307\n",
      "Class 1 : 0.7625000000000001\n",
      "Class 2 : 0.6727272727272727\n",
      "Class 3 : 0.9580514208389717\n",
      "Class 4 : 0.7805232558139535\n",
      "Class 5 : 0.44052863436123346\n",
      "Class 6 : 0.9502262443438914\n",
      "Class 7 : 0.7424242424242424\n",
      "Class 8 : 0.634920634920635\n",
      "Class 9 : 0.955631399317406\n",
      "Class 10 : 0.8027681660899654\n",
      "Class 11 : 0.4578313253012048\n",
      "Class 12 : 0.9557522123893805\n",
      "Class 13 : 0.7642276422764228\n",
      "Class 14 : 0.684931506849315\n",
      "Class 15 : 0.9523809523809523\n",
      "Class 16 : 0.749063670411985\n",
      "Class 17 : 0.4123711340206186\n",
      "*************************************************************************\n",
      "\n"
     ]
    },
    {
     "name": "stderr",
     "output_type": "stream",
     "text": [
      "100%|█████████▉| 471/472 [02:40<00:00,  3.17it/s]"
     ]
    },
    {
     "name": "stdout",
     "output_type": "stream",
     "text": [
      "Train Loss : 1.4438273717286223\n"
     ]
    },
    {
     "name": "stderr",
     "output_type": "stream",
     "text": [
      "100%|██████████| 472/472 [02:51<00:00,  3.67s/it]"
     ]
    },
    {
     "name": "stdout",
     "output_type": "stream",
     "text": [
      "< VALIDATION >\n",
      "*************************************************************************\n",
      "Validation Loss : 1.6433254239939843\n",
      "-------------------------------------------------------------------------\n",
      "Total Accuracy\n",
      "83.04232804232804 %\n",
      "-------------------------------------------------------------------------\n",
      "Class Accuracy\n",
      "Mask   : 99.89495798319328 %\n",
      "Gender : 98.97584033613445 %\n",
      "Age    : 84.03361344537815 %\n",
      "-------------------------------------------------------------------------\n",
      "Confusion Matrix\n",
      "533 11  0   6   0   0   0   0   0   0   0   0   0   0   0   0   0   0   \n",
      "18  255 35  0   3   3   0   1   0   0   0   0   0   0   0   0   0   0   \n",
      "0   72  108 0   0   0   0   0   0   0   0   0   0   0   0   0   0   0   \n",
      "11  0   0   702 15  0   0   0   0   2   0   0   0   0   0   0   0   0   \n",
      "2   0   0   24  546 98  0   0   0   0   0   0   0   0   0   0   0   0   \n",
      "0   2   0   0   152 101 0   0   0   0   0   0   0   0   0   0   0   0   \n",
      "1   0   0   0   0   0   105 3   0   1   0   0   0   0   0   0   0   0   \n",
      "0   0   0   0   0   0   3   49  9   0   1   1   0   0   0   0   0   0   \n",
      "0   0   0   0   0   0   0   16  20  0   0   0   0   0   0   0   0   0   \n",
      "0   0   0   0   0   0   3   0   0   140 3   0   0   0   0   0   0   0   \n",
      "0   0   0   0   0   0   0   0   0   5   110 19  0   0   0   0   0   0   \n",
      "0   0   0   0   0   0   0   1   0   0   26  24  0   0   0   0   0   0   \n",
      "0   0   0   0   0   0   0   0   0   0   0   0   108 1   0   1   0   0   \n",
      "0   0   0   0   0   0   0   0   0   0   0   0   2   54  7   0   0   0   \n",
      "0   0   0   0   0   0   0   0   0   0   0   0   0   13  23  0   0   0   \n",
      "0   0   0   0   0   0   0   0   0   0   0   0   3   1   0   140 2   0   \n",
      "0   0   0   0   0   0   0   0   0   0   0   0   0   0   0   5   105 24  \n",
      "0   0   0   0   0   0   0   0   0   0   0   0   0   0   0   0   35  16  \n",
      "-------------------------------------------------------------------------\n",
      "Validation F1 score : 0.7617683800411812\n",
      "Class 0 : 0.9560538116591928\n",
      "Class 1 : 0.7786259541984734\n",
      "Class 2 : 0.6687306501547988\n",
      "Class 3 : 0.960328317373461\n",
      "Class 4 : 0.7878787878787878\n",
      "Class 5 : 0.4420131291028447\n",
      "Class 6 : 0.9502262443438914\n",
      "Class 7 : 0.7368421052631577\n",
      "Class 8 : 0.6153846153846154\n",
      "Class 9 : 0.9523809523809523\n",
      "Class 10 : 0.8029197080291971\n",
      "Class 11 : 0.5052631578947367\n",
      "Class 12 : 0.968609865470852\n",
      "Class 13 : 0.8181818181818182\n",
      "Class 14 : 0.696969696969697\n",
      "Class 15 : 0.958904109589041\n",
      "Class 16 : 0.7608695652173914\n",
      "Class 17 : 0.3516483516483516\n",
      "*************************************************************************\n",
      "\n"
     ]
    },
    {
     "name": "stderr",
     "output_type": "stream",
     "text": [
      "473it [02:52,  2.75it/s]                         "
     ]
    },
    {
     "name": "stdout",
     "output_type": "stream",
     "text": [
      "Adjusting learning rate of group 0 to 1.4121e-05.\n",
      "Epoch : 13\n"
     ]
    },
    {
     "name": "stderr",
     "output_type": "stream",
     "text": [
      "\n",
      " 50%|█████     | 236/472 [01:14<01:15,  3.15it/s]"
     ]
    },
    {
     "name": "stdout",
     "output_type": "stream",
     "text": [
      "Train Loss : 1.4454619371438329\n"
     ]
    },
    {
     "name": "stderr",
     "output_type": "stream",
     "text": [
      " 50%|█████     | 237/472 [01:26<14:18,  3.65s/it]"
     ]
    },
    {
     "name": "stdout",
     "output_type": "stream",
     "text": [
      "< VALIDATION >\n",
      "*************************************************************************\n",
      "Validation Loss : 1.6447534861684847\n",
      "-------------------------------------------------------------------------\n",
      "Total Accuracy\n",
      "83.04232804232804 %\n",
      "-------------------------------------------------------------------------\n",
      "Class Accuracy\n",
      "Mask   : 99.86869747899159 %\n",
      "Gender : 98.66071428571429 %\n",
      "Age    : 84.42752100840336 %\n",
      "-------------------------------------------------------------------------\n",
      "Confusion Matrix\n",
      "537 8   0   5   0   0   0   0   0   0   0   0   0   0   0   0   0   0   \n",
      "21  253 27  0   11  2   0   1   0   0   0   0   0   0   0   0   0   0   \n",
      "0   74  106 0   0   0   0   0   0   0   0   0   0   0   0   0   0   0   \n",
      "12  0   0   706 10  0   0   0   0   2   0   0   0   0   0   0   0   0   \n",
      "2   2   0   25  554 87  0   0   0   0   0   0   0   0   0   0   0   0   \n",
      "0   1   0   0   157 97  0   0   0   0   0   0   0   0   0   0   0   0   \n",
      "1   0   0   0   0   0   106 2   0   1   0   0   0   0   0   0   0   0   \n",
      "0   0   0   0   0   0   4   47  8   0   3   1   0   0   0   0   0   0   \n",
      "0   0   0   0   0   0   0   16  20  0   0   0   0   0   0   0   0   0   \n",
      "0   0   0   0   0   0   3   0   0   141 2   0   0   0   0   0   0   0   \n",
      "0   0   0   0   0   0   0   0   0   7   107 20  0   0   0   0   0   0   \n",
      "0   0   0   0   1   0   0   0   0   0   22  28  0   0   0   0   0   0   \n",
      "0   0   0   0   0   0   0   0   0   0   0   0   108 1   0   1   0   0   \n",
      "0   0   0   0   0   0   0   0   0   0   0   0   4   50  7   0   2   0   \n",
      "0   0   0   0   0   0   0   0   0   0   0   0   0   14  22  0   0   0   \n",
      "0   0   0   0   0   0   0   0   0   0   0   0   3   1   0   140 2   0   \n",
      "0   0   0   0   0   0   0   0   0   0   0   0   0   1   0   6   99  28  \n",
      "0   0   0   0   0   0   0   0   0   0   0   0   0   0   0   0   33  18  \n",
      "-------------------------------------------------------------------------\n",
      "Validation F1 score : 0.7599993774016837\n",
      "Class 0 : 0.9563668744434551\n",
      "Class 1 : 0.774885145482389\n",
      "Class 2 : 0.6773162939297124\n",
      "Class 3 : 0.9631650750341064\n",
      "Class 4 : 0.789736279401283\n",
      "Class 5 : 0.43990929705215415\n",
      "Class 6 : 0.9506726457399104\n",
      "Class 7 : 0.7286821705426357\n",
      "Class 8 : 0.6250000000000001\n",
      "Class 9 : 0.9494949494949495\n",
      "Class 10 : 0.7985074626865672\n",
      "Class 11 : 0.5599999999999999\n",
      "Class 12 : 0.96\n",
      "Class 13 : 0.7692307692307693\n",
      "Class 14 : 0.676923076923077\n",
      "Class 15 : 0.955631399317406\n",
      "Class 16 : 0.7333333333333335\n",
      "Class 17 : 0.3711340206185567\n",
      "*************************************************************************\n",
      "\n"
     ]
    },
    {
     "name": "stderr",
     "output_type": "stream",
     "text": [
      " 61%|██████    | 287/472 [01:42<00:58,  3.17it/s]"
     ]
    }
   ],
   "source": [
    "folder = '/opt/ml/weights/{}'.format(config['model'])\n",
    "if not os.path.exists(folder):\n",
    "    os.mkdir(folder)\n",
    "\n",
    "for epoch in range(config['epochs']):\n",
    "    print(\"Epoch :\", epoch + 1)\n",
    "    train_running_loss = 0.0\n",
    "    train_running_correct = 0\n",
    "    counter = 0\n",
    "    total = 0\n",
    "    total_it = int(len(dataset_train)/train_dataloader.batch_size)\n",
    "    prog_bar = tqdm(enumerate(train_dataloader), total=total_it)\n",
    "    for i, (inputs, (m, g, a)) in prog_bar:\n",
    "        \n",
    "        counter += 1\n",
    "        optimizer.zero_grad()\n",
    "        inputs = inputs.to(device)\n",
    "        m_pred, g_pred, a_pred = model(inputs)\n",
    "        \n",
    "        del inputs\n",
    "        torch.cuda.empty_cache()\n",
    "        \n",
    "        m = m.to(device)\n",
    "        g = g.to(device)\n",
    "        a = a.to(device)\n",
    "        total += m.size(0)\n",
    "        \n",
    "        \n",
    "        m_loss = mask_criterion(m_pred, m)\n",
    "        g_loss = gender_criterion(g_pred, g)\n",
    "        a_loss = age_criterion(a_pred, a)\n",
    "        \n",
    "        \n",
    "        loss = (g_loss + a_loss + m_loss)\n",
    "        loss.backward()\n",
    "        optimizer.step()\n",
    "        \n",
    "        train_running_loss += loss.item()\n",
    "        \n",
    "        if i == total_it//2 or i == total_it-1:\n",
    "            train_loss = train_running_loss / counter\n",
    "\n",
    "            print(\"Train Loss :\", train_loss)\n",
    "            wandb.log({\"Train Loss\" : train_loss})\n",
    "            \n",
    "            check(valid_dataloader, len(dataset_valid), model)\n",
    "    scheduler.step()\n",
    "    train_running_loss = 0.0\n",
    "    train_running_correct = 0\n",
    "print(\"Finish\")"
   ]
  },
  {
   "cell_type": "markdown",
   "id": "b5d8c054-35f0-460b-a26c-8d4bcf76981f",
   "metadata": {},
   "source": [
    "### Load Best Model"
   ]
  },
  {
   "cell_type": "code",
   "execution_count": null,
   "id": "7d2ffe99-f672-4c06-a95f-bc9e6514776b",
   "metadata": {},
   "outputs": [],
   "source": [
    "# model.load_state_dict(torch.load('/opt/ml/weights/{}/{:.4f}.pt'.format(config['model'], model.best_f1))), model.best_f1\n",
    "\n",
    "Q = 0.7904\n",
    "model.load_state_dict(torch.load('/opt/ml/weights/{}/0.7904.pt'.format(config['model'])))\n",
    "model.best_f1 = Q"
   ]
  },
  {
   "cell_type": "markdown",
   "id": "72d88042-fc04-4f8f-a577-18d5a62f5b8a",
   "metadata": {
    "tags": []
   },
   "source": [
    "## Testing"
   ]
  },
  {
   "cell_type": "code",
   "execution_count": null,
   "id": "4b7a62c6-3b05-42a4-b045-66a9303ea54e",
   "metadata": {},
   "outputs": [],
   "source": [
    "# meta 데이터와 이미지 경로를 불러옵니다.\n",
    "test_dir = '/opt/ml/input/data/eval'\n",
    "submission = pd.read_csv(os.path.join(test_dir, 'info.csv'))\n",
    "image_dir = os.path.join(test_dir, 'images')\n",
    "\n",
    "# Test Dataset 클래스 객체를 생성하고 DataLoader를 만듭니다.\n",
    "image_paths = [os.path.join(image_dir, img_id) for img_id in submission.ImageID]\n"
   ]
  },
  {
   "cell_type": "code",
   "execution_count": null,
   "id": "2c450c6a-a893-4913-9c58-e587de815da9",
   "metadata": {},
   "outputs": [],
   "source": [
    "idx =8\n",
    "image = cv2.imread(image_paths[idx])\n",
    "image = cv2.cvtColor(image, cv2.COLOR_BGR2RGB)\n",
    "plt.imshow(image)\n",
    "model.eval()\n",
    "with torch.no_grad():\n",
    "    image = test_transform(image=image)['image'].to(device)\n",
    "    image = image.unsqueeze(0)\n",
    "    m_pred, g_pred, a_pred = model(image)\n",
    "\n",
    "    m_argmax = m_pred.detach().cpu().numpy().argmax(1)\n",
    "    g_argmax = g_pred.detach().cpu().numpy().argmax(1)\n",
    "    a_argmax = a_pred.detach().cpu().numpy().argmax(1)\n",
    "\n",
    "    #\n",
    "    masklabel = {0: \"Mask\", 1: \"Incorrect\", 2: \"Normal\"}\n",
    "    genderlabel = {0: \"Male\", 1: \"Female\"}\n",
    "    agelabel = {0: \"~ 30\", 1: \"30 ~ 60\", 2: \"60 ~\"}\n",
    "    #\n",
    "    print(masklabel[m_argmax[0]]+ \" :\", (m_pred[0][m_argmax].item())*100, '%')\n",
    "    print(genderlabel[g_argmax[0]]+ \" :\", (g_pred[0][g_argmax].item())*100, '%')\n",
    "    print(agelabel[a_argmax[0]]+ \" :\", (a_pred[0][a_argmax].item())*100, '%')\n"
   ]
  },
  {
   "cell_type": "code",
   "execution_count": null,
   "id": "e164c297-9ce6-4cda-a977-5c386b83aeb4",
   "metadata": {},
   "outputs": [],
   "source": [
    "dataset = TestDataset(image_paths, TTA3)\n",
    "loader = DataLoader(\n",
    "    dataset,\n",
    "    shuffle=False,\n",
    "    batch_size=8,\n",
    "    num_workers=3\n",
    ")\n",
    "\n",
    "# 모델을 정의합니다. (학습한 모델이 있다면 torch.load로 모델을 불러주세요!)\n",
    "# device = torch.device('cuda')\n",
    "\n",
    "model.eval()\n",
    "device = torch.device(\"cuda:0\")\n",
    "# 모델이 테스트 데이터셋을 예측하고 결과를 저장합니다.\n",
    "all_predictions = []\n",
    "\n",
    "prog_bar = tqdm(enumerate(loader), total=int(len(dataset)/loader.batch_size))\n",
    "for i, images in prog_bar:\n",
    "    with torch.no_grad():\n",
    "        images = images.to(device)\n",
    "        m_pred, g_pred, a_pred = model(images)\n",
    "\n",
    "        m_argmax = m_pred.detach().cpu().numpy().argmax(1)\n",
    "        g_argmax = g_pred.detach().cpu().numpy().argmax(1)\n",
    "        a_argmax = a_pred.detach().cpu().numpy().argmax(1)\n",
    "        \n",
    "        for mask, gender, age in zip(m_argmax, g_argmax, a_argmax):\n",
    "            predicted = labels_to_class[(mask.item(), gender.item(), age.item())]\n",
    "            all_predictions.append(predicted)\n",
    "submission['ans'] = all_predictions\n",
    "# 제출할 파일을 저장합니다.\n",
    "submission.to_csv(os.path.join(test_dir, '{}_{:.4f}.csv'.format(config['model'], model.best_f1)), index=False)\n",
    "print('test inference is done!')"
   ]
  },
  {
   "cell_type": "code",
   "execution_count": null,
   "id": "3ee57166-1a6f-4f33-a097-cda34ee9d93f",
   "metadata": {},
   "outputs": [],
   "source": [
    "from collections import Counter\n",
    "# meta 데이터와 이미지 경로를 불러옵니다.\n",
    "\n",
    "test_dir = '/opt/ml/input/data/eval'\n",
    "submission = pd.read_csv(os.path.join(test_dir, 'info.csv'))\n",
    "image_dir = os.path.join(test_dir, 'images')\n",
    "tta1 = pd.read_csv(os.path.join(test_dir, '{}_{:.4f}_TTA1.csv'.format(config['model'], model.best_f1)))['ans'].tolist()\n",
    "tta2 = pd.read_csv(os.path.join(test_dir, '{}_{:.4f}_TTA2.csv'.format(config['model'], model.best_f1)))['ans'].tolist()\n",
    "tta3 = pd.read_csv(os.path.join(test_dir, '{}_{:.4f}_TTA3.csv'.format(config['model'], model.best_f1)))['ans'].tolist()\n",
    "\n",
    "ensemble = []\n",
    "for a,b,c in tqdm(zip(tta1, tta2, tta3)):\n",
    "    ensemble.append(Counter([a,b,c]).most_common()[0][0])\n",
    "\n",
    "\n",
    "submission['ans'] = ensemble\n",
    "submission.to_csv(os.path.join(test_dir, '{}_{:.4f}_ensemble.csv'.format(config['model'], model.best_f1)), index=False)"
   ]
  },
  {
   "cell_type": "code",
   "execution_count": null,
   "id": "b6cb26d0-a18a-4e75-adaa-1c9023c87641",
   "metadata": {},
   "outputs": [],
   "source": []
  },
  {
   "cell_type": "code",
   "execution_count": null,
   "id": "54301ed5-9b3a-4248-b201-2194c6155dfb",
   "metadata": {},
   "outputs": [],
   "source": []
  }
 ],
 "metadata": {
  "kernelspec": {
   "display_name": "Python 3 (ipykernel)",
   "language": "python",
   "name": "python3"
  },
  "language_info": {
   "codemirror_mode": {
    "name": "ipython",
    "version": 3
   },
   "file_extension": ".py",
   "mimetype": "text/x-python",
   "name": "python",
   "nbconvert_exporter": "python",
   "pygments_lexer": "ipython3",
   "version": "3.8.5"
  }
 },
 "nbformat": 4,
 "nbformat_minor": 5
}
