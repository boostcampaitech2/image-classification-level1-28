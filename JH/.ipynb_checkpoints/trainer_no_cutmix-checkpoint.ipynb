{
 "cells": [
  {
   "cell_type": "code",
   "execution_count": 1,
   "id": "1f6c693b-8a00-4a77-8c85-10c212680012",
   "metadata": {},
   "outputs": [
    {
     "name": "stderr",
     "output_type": "stream",
     "text": [
      "/opt/conda/lib/python3.8/site-packages/tqdm/std.py:703: FutureWarning: The Panel class is removed from pandas. Accessing it from the top-level namespace will also be removed in the next version\n",
      "  from pandas import Panel\n"
     ]
    }
   ],
   "source": [
    "import albumentations\n",
    "import albumentations.pytorch\n",
    "import numpy as np\n",
    "import os\n",
    "import pandas as pd\n",
    "import matplotlib.pyplot as plt\n",
    "import cv2\n",
    "from PIL import Image\n",
    "from tqdm import tqdm\n",
    "\n",
    "import timm\n",
    "import torch\n",
    "import torch.nn as nn\n",
    "import torch.nn.functional as F\n",
    "import torch.optim as optim\n",
    "from torch.optim import AdamW\n",
    "from torch.utils.data import Dataset, DataLoader\n",
    "from torchvision import transforms\n",
    "from torchvision.transforms import Resize, ToTensor, Normalize\n",
    "from sklearn.metrics import f1_score\n",
    "from efficientnet_pytorch import EfficientNet\n",
    "\n",
    "tqdm.pandas()"
   ]
  },
  {
   "cell_type": "code",
   "execution_count": 2,
   "id": "61b89bd7-404b-415a-8912-c190004cdfe9",
   "metadata": {},
   "outputs": [
    {
     "name": "stdout",
     "output_type": "stream",
     "text": [
      "cuda:0 is using!\n"
     ]
    }
   ],
   "source": [
    "device = torch.device(\"cuda:0\" if torch.cuda.is_available() else \"cpu\")\n",
    "print(f\"{device} is using!\")"
   ]
  },
  {
   "cell_type": "markdown",
   "id": "f91942fb-d83d-4570-bb44-fbb52ee3b7fb",
   "metadata": {},
   "source": [
    "## WandB INIT, Config"
   ]
  },
  {
   "cell_type": "code",
   "execution_count": 17,
   "id": "5ae3374a-8f33-44ad-997a-e2bf45d07dcd",
   "metadata": {},
   "outputs": [
    {
     "data": {
      "text/html": [
       "Finishing last run (ID:l2beaxy0) before initializing another..."
      ],
      "text/plain": [
       "<IPython.core.display.HTML object>"
      ]
     },
     "metadata": {},
     "output_type": "display_data"
    },
    {
     "data": {
      "text/html": [
       "<br/>Waiting for W&B process to finish, PID 14074<br/>Program ended successfully."
      ],
      "text/plain": [
       "<IPython.core.display.HTML object>"
      ]
     },
     "metadata": {},
     "output_type": "display_data"
    },
    {
     "data": {
      "application/vnd.jupyter.widget-view+json": {
       "model_id": "",
       "version_major": 2,
       "version_minor": 0
      },
      "text/plain": [
       "VBox(children=(Label(value=' 0.00MB of 0.00MB uploaded (0.00MB deduped)\\r'), FloatProgress(value=1.0, max=1.0)…"
      ]
     },
     "metadata": {},
     "output_type": "display_data"
    },
    {
     "data": {
      "text/html": [
       "Find user logs for this run at: <code>/opt/ml/git/JH/wandb/run-20210827_060742-l2beaxy0/logs/debug.log</code>"
      ],
      "text/plain": [
       "<IPython.core.display.HTML object>"
      ]
     },
     "metadata": {},
     "output_type": "display_data"
    },
    {
     "data": {
      "text/html": [
       "Find internal logs for this run at: <code>/opt/ml/git/JH/wandb/run-20210827_060742-l2beaxy0/logs/debug-internal.log</code>"
      ],
      "text/plain": [
       "<IPython.core.display.HTML object>"
      ]
     },
     "metadata": {},
     "output_type": "display_data"
    },
    {
     "data": {
      "text/html": [
       "<h3>Run summary:</h3><br/><style>\n",
       "    table.wandb td:nth-child(1) { padding: 0 10px; text-align: right }\n",
       "    </style><table class=\"wandb\">\n",
       "<tr><td>Train Loss</td><td>0.16547</td></tr><tr><td>_runtime</td><td>9708</td></tr><tr><td>_timestamp</td><td>1630054170</td></tr><tr><td>_step</td><td>19</td></tr><tr><td>Validation Loss</td><td>0.76246</td></tr><tr><td>Validation Total Accuracy</td><td>82.14286</td></tr><tr><td>Validation F1</td><td>0.74963</td></tr></table>"
      ],
      "text/plain": [
       "<IPython.core.display.HTML object>"
      ]
     },
     "metadata": {},
     "output_type": "display_data"
    },
    {
     "data": {
      "text/html": [
       "<h3>Run history:</h3><br/><style>\n",
       "    table.wandb td:nth-child(1) { padding: 0 10px; text-align: right }\n",
       "    </style><table class=\"wandb\">\n",
       "<tr><td>Train Loss</td><td>█▆▄▃▂▂▂▂▁▁</td></tr><tr><td>_runtime</td><td>▁▁▂▂▃▃▃▃▄▄▅▅▆▆▆▆▇▇██</td></tr><tr><td>_timestamp</td><td>▁▁▂▂▃▃▃▃▄▄▅▅▆▆▆▆▇▇██</td></tr><tr><td>_step</td><td>▁▁▂▂▂▃▃▄▄▄▅▅▅▆▆▇▇▇██</td></tr><tr><td>Validation Loss</td><td>▅▁▂▅▆▇▃▅█▇</td></tr><tr><td>Validation Total Accuracy</td><td>▁▇▅▆▆▅█▇▇█</td></tr><tr><td>Validation F1</td><td>▁ ▇▅▆▆██▇█</td></tr></table><br/>"
      ],
      "text/plain": [
       "<IPython.core.display.HTML object>"
      ]
     },
     "metadata": {},
     "output_type": "display_data"
    },
    {
     "data": {
      "text/html": [
       "Synced 5 W&B file(s), 0 media file(s), 0 artifact file(s) and 0 other file(s)"
      ],
      "text/plain": [
       "<IPython.core.display.HTML object>"
      ]
     },
     "metadata": {},
     "output_type": "display_data"
    },
    {
     "data": {
      "text/html": [
       "\n",
       "                    <br/>Synced <strong style=\"color:#cdcd00\">efficientnet-b7_GC_cutmix_weighted_7_7e-05_0.9</strong>: <a href=\"https://wandb.ai/youkind/MaskClassification/runs/l2beaxy0\" target=\"_blank\">https://wandb.ai/youkind/MaskClassification/runs/l2beaxy0</a><br/>\n",
       "                "
      ],
      "text/plain": [
       "<IPython.core.display.HTML object>"
      ]
     },
     "metadata": {},
     "output_type": "display_data"
    },
    {
     "data": {
      "text/html": [
       "...Successfully finished last run (ID:l2beaxy0). Initializing new run:<br/><br/>"
      ],
      "text/plain": [
       "<IPython.core.display.HTML object>"
      ]
     },
     "metadata": {},
     "output_type": "display_data"
    },
    {
     "name": "stderr",
     "output_type": "stream",
     "text": [
      "\u001b[34m\u001b[1mwandb\u001b[0m: wandb version 0.12.1 is available!  To upgrade, please run:\n",
      "\u001b[34m\u001b[1mwandb\u001b[0m:  $ pip install wandb --upgrade\n",
      "\n",
      "CondaEnvException: Unable to determine environment\n",
      "\n",
      "Please re-run this command with one of the following options:\n",
      "\n",
      "* Provide an environment name via --name or -n\n",
      "* Re-run this command inside an activated conda environment.\n",
      "\n"
     ]
    },
    {
     "data": {
      "text/html": [
       "\n",
       "                Tracking run with wandb version 0.12.0<br/>\n",
       "                Syncing run <strong style=\"color:#cdcd00\">efficientnet-b7_GC_cutmix_weighted_7_7e-05_0.9</strong> to <a href=\"https://wandb.ai\" target=\"_blank\">Weights & Biases</a> <a href=\"https://docs.wandb.com/integrations/jupyter.html\" target=\"_blank\">(Documentation)</a>.<br/>\n",
       "                Project page: <a href=\"https://wandb.ai/minibatch28/MaskClassification\" target=\"_blank\">https://wandb.ai/minibatch28/MaskClassification</a><br/>\n",
       "                Run page: <a href=\"https://wandb.ai/minibatch28/MaskClassification/runs/2i2ia9je\" target=\"_blank\">https://wandb.ai/minibatch28/MaskClassification/runs/2i2ia9je</a><br/>\n",
       "                Run data is saved locally in <code>/opt/ml/git/JH/wandb/run-20210827_085145-2i2ia9je</code><br/><br/>\n",
       "            "
      ],
      "text/plain": [
       "<IPython.core.display.HTML object>"
      ]
     },
     "metadata": {},
     "output_type": "display_data"
    },
    {
     "data": {
      "text/html": [
       "<h1>Run(2i2ia9je)</h1><iframe src=\"https://wandb.ai/minibatch28/MaskClassification/runs/2i2ia9je\" style=\"border:none;width:100%;height:400px\"></iframe>"
      ],
      "text/plain": [
       "<wandb.sdk.wandb_run.Run at 0x7fd099e85250>"
      ]
     },
     "execution_count": 17,
     "metadata": {},
     "output_type": "execute_result"
    },
    {
     "name": "stderr",
     "output_type": "stream",
     "text": [
      "wandb: ERROR Dropped streaming file chunk (see wandb/debug-internal.log)\n",
      "ERROR:root:dropped chunk 404 Client Error: Not Found for url: https://api.wandb.ai/files/minibatch28/MaskClassification/2i2ia9je/file_stream\n",
      "NoneType: None\n",
      "wandb: ERROR Dropped streaming file chunk (see wandb/debug-internal.log)\n",
      "ERROR:root:dropped chunk 404 Client Error: Not Found for url: https://api.wandb.ai/files/minibatch28/MaskClassification/2i2ia9je/file_stream\n",
      "NoneType: None\n",
      "wandb: ERROR Dropped streaming file chunk (see wandb/debug-internal.log)\n",
      "ERROR:root:dropped chunk 404 Client Error: Not Found for url: https://api.wandb.ai/files/minibatch28/MaskClassification/2i2ia9je/file_stream\n",
      "NoneType: None\n",
      "wandb: ERROR Dropped streaming file chunk (see wandb/debug-internal.log)\n",
      "ERROR:root:dropped chunk 404 Client Error: Not Found for url: https://api.wandb.ai/files/minibatch28/MaskClassification/2i2ia9je/file_stream\n",
      "NoneType: None\n",
      "wandb: ERROR Dropped streaming file chunk (see wandb/debug-internal.log)\n",
      "ERROR:root:dropped chunk 404 Client Error: Not Found for url: https://api.wandb.ai/files/minibatch28/MaskClassification/2i2ia9je/file_stream\n",
      "NoneType: None\n",
      "wandb: ERROR Dropped streaming file chunk (see wandb/debug-internal.log)\n",
      "ERROR:root:dropped chunk 404 Client Error: Not Found for url: https://api.wandb.ai/files/minibatch28/MaskClassification/2i2ia9je/file_stream\n",
      "NoneType: None\n",
      "wandb: ERROR Dropped streaming file chunk (see wandb/debug-internal.log)\n",
      "ERROR:root:dropped chunk 404 Client Error: Not Found for url: https://api.wandb.ai/files/minibatch28/MaskClassification/2i2ia9je/file_stream\n",
      "NoneType: None\n",
      "wandb: ERROR Dropped streaming file chunk (see wandb/debug-internal.log)\n",
      "ERROR:root:dropped chunk 404 Client Error: Not Found for url: https://api.wandb.ai/files/minibatch28/MaskClassification/2i2ia9je/file_stream\n",
      "NoneType: None\n",
      "wandb: ERROR Dropped streaming file chunk (see wandb/debug-internal.log)\n",
      "ERROR:root:dropped chunk 404 Client Error: Not Found for url: https://api.wandb.ai/files/minibatch28/MaskClassification/2i2ia9je/file_stream\n",
      "NoneType: None\n",
      "wandb: ERROR Dropped streaming file chunk (see wandb/debug-internal.log)\n",
      "ERROR:root:dropped chunk 404 Client Error: Not Found for url: https://api.wandb.ai/files/minibatch28/MaskClassification/2i2ia9je/file_stream\n",
      "NoneType: None\n",
      "wandb: ERROR Dropped streaming file chunk (see wandb/debug-internal.log)\n",
      "ERROR:root:dropped chunk 404 Client Error: Not Found for url: https://api.wandb.ai/files/minibatch28/MaskClassification/2i2ia9je/file_stream\n",
      "NoneType: None\n",
      "wandb: ERROR Dropped streaming file chunk (see wandb/debug-internal.log)\n",
      "ERROR:root:dropped chunk 404 Client Error: Not Found for url: https://api.wandb.ai/files/minibatch28/MaskClassification/2i2ia9je/file_stream\n",
      "NoneType: None\n",
      "wandb: ERROR Dropped streaming file chunk (see wandb/debug-internal.log)\n",
      "ERROR:root:dropped chunk 404 Client Error: Not Found for url: https://api.wandb.ai/files/minibatch28/MaskClassification/2i2ia9je/file_stream\n",
      "NoneType: None\n",
      "wandb: ERROR Dropped streaming file chunk (see wandb/debug-internal.log)\n",
      "ERROR:root:dropped chunk 404 Client Error: Not Found for url: https://api.wandb.ai/files/minibatch28/MaskClassification/2i2ia9je/file_stream\n",
      "NoneType: None\n",
      "wandb: ERROR Dropped streaming file chunk (see wandb/debug-internal.log)\n",
      "ERROR:root:dropped chunk 404 Client Error: Not Found for url: https://api.wandb.ai/files/minibatch28/MaskClassification/2i2ia9je/file_stream\n",
      "NoneType: None\n",
      "wandb: ERROR Dropped streaming file chunk (see wandb/debug-internal.log)\n",
      "ERROR:root:dropped chunk 404 Client Error: Not Found for url: https://api.wandb.ai/files/minibatch28/MaskClassification/2i2ia9je/file_stream\n",
      "NoneType: None\n",
      "wandb: ERROR Dropped streaming file chunk (see wandb/debug-internal.log)\n",
      "ERROR:root:dropped chunk 404 Client Error: Not Found for url: https://api.wandb.ai/files/minibatch28/MaskClassification/2i2ia9je/file_stream\n",
      "NoneType: None\n",
      "wandb: ERROR Dropped streaming file chunk (see wandb/debug-internal.log)\n",
      "ERROR:root:dropped chunk 404 Client Error: Not Found for url: https://api.wandb.ai/files/minibatch28/MaskClassification/2i2ia9je/file_stream\n",
      "NoneType: None\n",
      "wandb: ERROR Dropped streaming file chunk (see wandb/debug-internal.log)\n",
      "ERROR:root:dropped chunk 404 Client Error: Not Found for url: https://api.wandb.ai/files/minibatch28/MaskClassification/2i2ia9je/file_stream\n",
      "NoneType: None\n",
      "wandb: ERROR Dropped streaming file chunk (see wandb/debug-internal.log)\n",
      "ERROR:root:dropped chunk 404 Client Error: Not Found for url: https://api.wandb.ai/files/minibatch28/MaskClassification/2i2ia9je/file_stream\n",
      "NoneType: None\n",
      "wandb: ERROR Dropped streaming file chunk (see wandb/debug-internal.log)\n",
      "ERROR:root:dropped chunk 404 Client Error: Not Found for url: https://api.wandb.ai/files/minibatch28/MaskClassification/2i2ia9je/file_stream\n",
      "NoneType: None\n",
      "wandb: ERROR Dropped streaming file chunk (see wandb/debug-internal.log)\n",
      "ERROR:root:dropped chunk 404 Client Error: Not Found for url: https://api.wandb.ai/files/minibatch28/MaskClassification/2i2ia9je/file_stream\n",
      "NoneType: None\n",
      "wandb: ERROR Dropped streaming file chunk (see wandb/debug-internal.log)\n",
      "ERROR:root:dropped chunk 404 Client Error: Not Found for url: https://api.wandb.ai/files/minibatch28/MaskClassification/2i2ia9je/file_stream\n",
      "NoneType: None\n",
      "wandb: ERROR Dropped streaming file chunk (see wandb/debug-internal.log)\n",
      "ERROR:root:dropped chunk 404 Client Error: Not Found for url: https://api.wandb.ai/files/minibatch28/MaskClassification/2i2ia9je/file_stream\n",
      "NoneType: None\n",
      "wandb: ERROR Dropped streaming file chunk (see wandb/debug-internal.log)\n",
      "ERROR:root:dropped chunk 404 Client Error: Not Found for url: https://api.wandb.ai/files/minibatch28/MaskClassification/2i2ia9je/file_stream\n",
      "NoneType: None\n",
      "wandb: ERROR Dropped streaming file chunk (see wandb/debug-internal.log)\n",
      "ERROR:root:dropped chunk 404 Client Error: Not Found for url: https://api.wandb.ai/files/minibatch28/MaskClassification/2i2ia9je/file_stream\n",
      "NoneType: None\n",
      "wandb: ERROR Dropped streaming file chunk (see wandb/debug-internal.log)\n",
      "ERROR:root:dropped chunk 404 Client Error: Not Found for url: https://api.wandb.ai/files/minibatch28/MaskClassification/2i2ia9je/file_stream\n",
      "NoneType: None\n",
      "wandb: ERROR Dropped streaming file chunk (see wandb/debug-internal.log)\n",
      "ERROR:root:dropped chunk 404 Client Error: Not Found for url: https://api.wandb.ai/files/minibatch28/MaskClassification/2i2ia9je/file_stream\n",
      "NoneType: None\n",
      "wandb: ERROR Dropped streaming file chunk (see wandb/debug-internal.log)\n",
      "ERROR:root:dropped chunk 404 Client Error: Not Found for url: https://api.wandb.ai/files/minibatch28/MaskClassification/2i2ia9je/file_stream\n",
      "NoneType: None\n",
      "wandb: ERROR Dropped streaming file chunk (see wandb/debug-internal.log)\n",
      "ERROR:root:dropped chunk 404 Client Error: Not Found for url: https://api.wandb.ai/files/minibatch28/MaskClassification/2i2ia9je/file_stream\n",
      "NoneType: None\n",
      "wandb: ERROR Dropped streaming file chunk (see wandb/debug-internal.log)\n",
      "ERROR:root:dropped chunk 404 Client Error: Not Found for url: https://api.wandb.ai/files/minibatch28/MaskClassification/2i2ia9je/file_stream\n",
      "NoneType: None\n",
      "wandb: ERROR Dropped streaming file chunk (see wandb/debug-internal.log)\n",
      "ERROR:root:dropped chunk 404 Client Error: Not Found for url: https://api.wandb.ai/files/minibatch28/MaskClassification/2i2ia9je/file_stream\n",
      "NoneType: None\n",
      "wandb: ERROR Dropped streaming file chunk (see wandb/debug-internal.log)\n",
      "ERROR:root:dropped chunk 404 Client Error: Not Found for url: https://api.wandb.ai/files/minibatch28/MaskClassification/2i2ia9je/file_stream\n",
      "NoneType: None\n",
      "wandb: ERROR Dropped streaming file chunk (see wandb/debug-internal.log)\n",
      "ERROR:root:dropped chunk 404 Client Error: Not Found for url: https://api.wandb.ai/files/minibatch28/MaskClassification/2i2ia9je/file_stream\n",
      "NoneType: None\n",
      "wandb: ERROR Dropped streaming file chunk (see wandb/debug-internal.log)\n",
      "ERROR:root:dropped chunk 404 Client Error: Not Found for url: https://api.wandb.ai/files/minibatch28/MaskClassification/2i2ia9je/file_stream\n",
      "NoneType: None\n",
      "wandb: ERROR Dropped streaming file chunk (see wandb/debug-internal.log)\n",
      "ERROR:root:dropped chunk 404 Client Error: Not Found for url: https://api.wandb.ai/files/minibatch28/MaskClassification/2i2ia9je/file_stream\n",
      "NoneType: None\n",
      "wandb: ERROR Dropped streaming file chunk (see wandb/debug-internal.log)\n",
      "ERROR:root:dropped chunk 404 Client Error: Not Found for url: https://api.wandb.ai/files/minibatch28/MaskClassification/2i2ia9je/file_stream\n",
      "NoneType: None\n"
     ]
    }
   ],
   "source": [
    "import wandb\n",
    "\n",
    "config={\n",
    "    \"lr\": 7e-5,\n",
    "    \"architecture\": \"efficientnet-b5\",\n",
    "    \"dataset\": \"GC\",\n",
    "    \"augmentation\" : \"cutmix\",\n",
    "    \"loss\" : \"weighted\",\n",
    "    \"gamma\" : 0.9,\n",
    "    \"batch_size\" : 7,\n",
    "    \"epochs\" : 20,\n",
    "}\n",
    "config['model'] = '_'.join([config['architecture'], config['dataset'], config['augmentation'], config['loss'], str(config['batch_size']), str(config['lr']), str(config['gamma'])])\n",
    "wandb.init(entity=\"minibatch28\", project=\"MaskClassification\", name=config['model'], config=config)"
   ]
  },
  {
   "cell_type": "markdown",
   "id": "2b2b8c32-03ca-4436-8f83-fd5edf96e81c",
   "metadata": {},
   "source": [
    "## Dataset"
   ]
  },
  {
   "cell_type": "code",
   "execution_count": 4,
   "id": "4fcafbfa-4bf3-4524-910d-6815d9bc77d3",
   "metadata": {},
   "outputs": [],
   "source": [
    "class MyDataset(Dataset):\n",
    "    def __init__(self, path, label, transform):\n",
    "        img_list = []\n",
    "        for p in tqdm(path):\n",
    "            img = cv2.imread(p)\n",
    "            img = cv2.cvtColor(img, cv2.COLOR_BGR2RGB)\n",
    "            img_list.append(img)\n",
    "        \n",
    "        self.X = img_list\n",
    "        self.y = label\n",
    "        self.transform = transform\n",
    "\n",
    "    def __len__(self):\n",
    "        len_dataset = len(self.X)\n",
    "        return len_dataset\n",
    "\n",
    "    def __getitem__(self, idx):\n",
    "        X,y = self.X[idx], self.y[idx]\n",
    "        X = self.transform(image=X)['image']  # transforms를 사용하시는 분은 X = self.transform(X)\n",
    "        return X, y"
   ]
  },
  {
   "cell_type": "code",
   "execution_count": 5,
   "id": "bc4be2e3-e1bf-401d-a746-3e08a624a144",
   "metadata": {},
   "outputs": [],
   "source": [
    "class TestDataset(Dataset):\n",
    "    def __init__(self, path, transform):\n",
    "        img_list = []\n",
    "        for p in tqdm(path):\n",
    "            img = cv2.imread(p)\n",
    "            img = cv2.cvtColor(img, cv2.COLOR_BGR2RGB)\n",
    "            img_list.append(img)\n",
    "        \n",
    "        self.X = img_list\n",
    "        self.transform = transform\n",
    "\n",
    "    def __len__(self):\n",
    "        len_dataset = len(self.X)\n",
    "        return len_dataset\n",
    "\n",
    "    def __getitem__(self, idx):\n",
    "        X = self.X[idx]\n",
    "        X = self.transform(image=X)['image']  # transforms를 사용하시는 분은 X = self.transform(X)\n",
    "        return X"
   ]
  },
  {
   "cell_type": "code",
   "execution_count": 6,
   "id": "76012de7-bb71-468b-b135-786439648026",
   "metadata": {},
   "outputs": [],
   "source": [
    "# Augmentation은 각자 방식대로\n",
    "\n",
    "train_transform = albumentations.Compose(\n",
    "  [\n",
    "      albumentations.Resize(600,600),\n",
    "#       albumentations.RandomRotation(15),\n",
    "      albumentations.HorizontalFlip(p=0.5),\n",
    "      albumentations.ShiftScaleRotate(shift_limit=0.05, scale_limit=0.05, rotate_limit=15, p=0.6),\n",
    "      albumentations.RandomBrightnessContrast(brightness_limit=0.1, p=0.6),\n",
    "      albumentations.GaussNoise(p=0.5),\n",
    "      albumentations.MotionBlur(p=0.5),\n",
    "      albumentations.OpticalDistortion(p=0.5),\n",
    "      albumentations.Normalize((0.548, 0.504, 0.479), (0.237, 0.247, 0.246)),\n",
    "      albumentations.pytorch.transforms.ToTensorV2(),\n",
    "      #       이미지 원본 사이즈는 384, 512   \n",
    "  ]\n",
    ")\n",
    "\n",
    "test_transform = albumentations.Compose(\n",
    "  [\n",
    "      albumentations.Resize(600,600),\n",
    "      albumentations.Normalize((0.548, 0.504, 0.479), (0.237, 0.247, 0.246)),\n",
    "      albumentations.pytorch.transforms.ToTensorV2()\n",
    "      #       이미지 원본 사이즈는 384, 512   \n",
    "  ]\n",
    ")"
   ]
  },
  {
   "cell_type": "markdown",
   "id": "ecc68e9a-a5a9-4078-8829-50e6bcbbd13c",
   "metadata": {},
   "source": [
    "## DataLoader"
   ]
  },
  {
   "cell_type": "code",
   "execution_count": 7,
   "id": "536915c8-e29b-4664-8b75-040ceead26a1",
   "metadata": {},
   "outputs": [
    {
     "name": "stderr",
     "output_type": "stream",
     "text": [
      "100%|██████████| 15120/15120 [00:46<00:00, 325.05it/s]\n",
      "100%|██████████| 3780/3780 [00:11<00:00, 319.08it/s]\n"
     ]
    }
   ],
   "source": [
    "# DF 읽어오기\n",
    "train_df = pd.read_csv('/opt/ml/input/train_df.csv')\n",
    "valid_df = pd.read_csv('/opt/ml/input/valid_df.csv')\n",
    "\n",
    "# Dataset 객체 생성\n",
    "dataset_train = MyDataset(path=train_df['full_path'].values,\n",
    "                          label=train_df['label'].values,\n",
    "                          transform=train_transform)\n",
    "\n",
    "dataset_valid = MyDataset(path=valid_df['full_path'].values,\n",
    "                          label=valid_df['label'].values,\n",
    "                          transform=test_transform)\n",
    "### For cutmix\n",
    "dataset_train = CutMix(dataset_train, num_class=18, beta=1.0, prob=0.3, num_mix=2)\n",
    "\n",
    "# Loader 올리기\n",
    "train_dataloader = DataLoader(dataset_train, batch_size=config['batch_size'], shuffle=True, num_workers=3, pin_memory=True)\n",
    "valid_dataloader = DataLoader(dataset_valid, batch_size=config['batch_size'], shuffle=False, num_workers=3, pin_memory=True)"
   ]
  },
  {
   "cell_type": "code",
   "execution_count": 8,
   "id": "68a251fd-fd65-4f39-9d9d-453e71e33dff",
   "metadata": {},
   "outputs": [
    {
     "name": "stdout",
     "output_type": "stream",
     "text": [
      "Loaded pretrained weights for efficientnet-b7\n"
     ]
    }
   ],
   "source": [
    "from efficientnet_pytorch import EfficientNet\n",
    "class Net(nn.Module):\n",
    "    def __init__(self):\n",
    "        super(Net, self).__init__()\n",
    "        self.backbone = EfficientNet.from_pretrained(config['architecture'], num_classes=18)\n",
    "        self.best_f1 = 0\n",
    "        self.best_valid = 999999999\n",
    "    def forward(self, x):\n",
    "        return self.backbone(x)\n",
    "        \n",
    "model = Net().to(device)"
   ]
  },
  {
   "cell_type": "markdown",
   "id": "30f19dce-5710-4389-bfc4-831179451747",
   "metadata": {},
   "source": [
    "## Loss, Optimizer, Scheduler"
   ]
  },
  {
   "cell_type": "markdown",
   "id": "483bcda5-1023-47c6-8e92-eb8a11f41b49",
   "metadata": {},
   "source": [
    "### Weightedloss"
   ]
  },
  {
   "cell_type": "code",
   "execution_count": 9,
   "id": "5f7f9510-518f-49e4-8bce-3560d6ab7efb",
   "metadata": {},
   "outputs": [
    {
     "name": "stdout",
     "output_type": "stream",
     "text": [
      "tensor([0.0904, 0.1211, 0.5981, 0.0678, 0.0608, 0.4554, 0.4472, 0.7905, 1.3867,\n",
      "        0.3419, 0.3710, 0.9658, 0.4472, 0.7905, 1.3867, 0.3419, 0.3710, 0.9658],\n",
      "       device='cuda:0')\n"
     ]
    }
   ],
   "source": [
    "import torch.optim as optim \n",
    "\n",
    "class_distribution = torch.tensor([2745, 2050, 415, 3660, 4085, 545, \n",
    "                      555, 314, 179, 726, 669, 257, \n",
    "                      555, 314, 179, 726, 669, 257])\n",
    "normedWeights = [1 - (x / sum(class_distribution)) for x in class_distribution]\n",
    "loss_distribution = class_distribution / class_distribution.sum()\n",
    "loss_distribution = 1.0 / loss_distribution\n",
    "loss_distribution = (loss_distribution / loss_distribution.sum()*10).to(device)\n",
    "print(loss_distribution)\n",
    "\n",
    "class CutMixCrossEntropyLoss(nn.Module):\n",
    "    def __init__(self, weight):\n",
    "        super().__init__()\n",
    "        self.weight = weight\n",
    "\n",
    "    def forward(self, inputs, targets):\n",
    "        if len(targets.size()) == 1:\n",
    "            targets = torch.nn.functional.one_hot(targets, num_classes=input.size(-1))\n",
    "            targets = targets.float().cuda()\n",
    "        logsoftmax = torch.nn.LogSoftmax(dim=1)\n",
    "\n",
    "        return torch.mean(torch.sum(-targets * logsoftmax(inputs) * self.weight, dim=1))"
   ]
  },
  {
   "cell_type": "code",
   "execution_count": 10,
   "id": "b7298061-b0bc-4d0d-a493-c33774ceb750",
   "metadata": {},
   "outputs": [
    {
     "name": "stdout",
     "output_type": "stream",
     "text": [
      "Adjusting learning rate of group 0 to 7.0000e-05.\n"
     ]
    }
   ],
   "source": [
    "val_criterion = nn.CrossEntropyLoss(weight=loss_distribution)\n",
    "cutmix_criterion = CutMixCrossEntropyLoss(weight=loss_distribution)\n",
    "\n",
    "optimizer = optim.Adam(model.parameters(), lr=config['lr'])\n",
    "scheduler = optim.lr_scheduler.StepLR(optimizer, step_size=1, gamma=config['gamma'], verbose=True)"
   ]
  },
  {
   "cell_type": "markdown",
   "id": "d084d084-6067-4b15-a7f7-08a6f1413e61",
   "metadata": {},
   "source": [
    "## Validation Function"
   ]
  },
  {
   "cell_type": "code",
   "execution_count": 11,
   "id": "3d84c8f2-0f11-4adc-a4ec-eeb763e06b98",
   "metadata": {},
   "outputs": [],
   "source": [
    "from sklearn.metrics import accuracy_score\n",
    "from sklearn.metrics import confusion_matrix\n",
    "\n",
    "def check():\n",
    "    model.eval()\n",
    "    val_loss = 0.0\n",
    "    counter = 0\n",
    "    y_true = []\n",
    "    y_predicted = []\n",
    "    \n",
    "    with torch.no_grad():\n",
    "        for x, y in valid_dataloader:\n",
    "            counter += 1\n",
    "            y_true += y.tolist()\n",
    "            \n",
    "            x = x.to(device=device)\n",
    "            y = y.to(device=device)\n",
    "    \n",
    "            scores = model(x)\n",
    "            _, predictions = scores.max(1)\n",
    "            y_predicted += predictions.tolist()\n",
    "            \n",
    "            \n",
    "            loss = val_criterion(scores, y)\n",
    "            \n",
    "            val_loss += loss.item()\n",
    "#     print(y_true, y_predicted)\n",
    "    cm = confusion_matrix(y_true, y_predicted)\n",
    "    F1 = []\n",
    "    epsilon = 1e-7\n",
    "    for c in range(18):\n",
    "        precision = cm[c][c] / (np.sum(cm, axis=0)[c] + epsilon)\n",
    "        recall = cm[c][c] / (np.sum(cm, axis=1)[c] + epsilon)\n",
    "        F1.append(2 * precision * recall / (precision + recall))\n",
    "    macro_F1 = np.mean(F1)\n",
    "    \n",
    "    print(\"< VALIDATION >\")\n",
    "    print(\"*\"*73)\n",
    "    print(\"Validation Loss :\", val_loss/counter)\n",
    "    print(\"-\"*73)\n",
    "    print(\"Total Accuracy\")\n",
    "    print(accuracy_score(y_true, y_predicted) * 100, \"%\")\n",
    "    print(\"-\"*73)\n",
    "    print(\"Confusion Matrix\")\n",
    "    for row in cm:\n",
    "        for c in row:\n",
    "            print(str(c).ljust(4), end='')\n",
    "        print()\n",
    "    print(\"-\"*73)\n",
    "    print(\"Validation F1 score :\" , macro_F1)\n",
    "    for c, f in enumerate(F1):\n",
    "        print(\"Class\", c, \":\", f)\n",
    "        \n",
    "    if model.best_f1 < macro_F1:\n",
    "        model.best_f1 = macro_F1\n",
    "#     if model.best_valid > val_loss/counter:\n",
    "#         model.best_valid = val_loss/counter\n",
    "        torch.save(model.state_dict(), '/opt/ml/weights/{}/{:.4f}.pt'.format(config['model'], model.best_f1))\n",
    "    print(\"model saved!\")\n",
    "    print(\"*\"*73)\n",
    "    print()\n",
    "    wandb.log({\n",
    "        \"Validation Loss\" : val_loss/counter, \n",
    "        \"Validation Total Accuracy\" :accuracy_score(y_true, y_predicted) * 100, \n",
    "        \"Validation F1\" : macro_F1,\n",
    "        \"Learning Rate\" : scheduler.get_last_lr()\n",
    "    })\n",
    "        \n",
    "    model.train()"
   ]
  },
  {
   "cell_type": "markdown",
   "id": "4a84d2e8-56d4-4040-b4c7-292cb834c9f5",
   "metadata": {},
   "source": [
    "## Model Training"
   ]
  },
  {
   "cell_type": "code",
   "execution_count": 12,
   "id": "9b08893f-3470-4fbb-8543-fe69608a0522",
   "metadata": {},
   "outputs": [
    {
     "name": "stdout",
     "output_type": "stream",
     "text": [
      "Epoch : 1\n"
     ]
    },
    {
     "name": "stderr",
     "output_type": "stream",
     "text": [
      " 50%|█████     | 1080/2160 [14:22<14:25,  1.25it/s]"
     ]
    },
    {
     "name": "stdout",
     "output_type": "stream",
     "text": [
      "Train Loss : 0.4487112442601841\n",
      "< VALIDATION >\n",
      "*************************************************************************\n",
      "Validation Loss : 0.6828841119176812\n",
      "-------------------------------------------------------------------------\n",
      "Total Accuracy\n",
      "67.27513227513228 %\n",
      "-------------------------------------------------------------------------\n",
      "Confusion Matrix\n",
      "545 0   0   5   0   0   0   0   0   0   0   0   0   0   0   0   0   0   \n",
      "98  71  90  0   0   55  0   0   1   0   0   0   0   0   0   0   0   0   \n",
      "12  11  153 0   0   4   0   0   0   0   0   0   0   0   0   0   0   0   \n",
      "36  1   0   686 4   2   0   0   0   1   0   0   0   0   0   0   0   0   \n",
      "22  0   0   42  26  580 0   0   0   0   0   0   0   0   0   0   0   0   \n",
      "0   0   0   0   0   255 0   0   0   0   0   0   0   0   0   0   0   0   \n",
      "2   0   0   0   0   0   107 0   0   1   0   0   0   0   0   0   0   0   \n",
      "0   0   0   0   0   1   17  19  15  0   10  0   0   1   0   0   0   0   \n",
      "0   0   0   0   0   0   0   5   29  0   2   0   0   0   0   0   0   0   \n",
      "0   0   0   0   0   0   19  0   0   124 1   0   0   0   0   2   0   0   \n",
      "0   0   0   0   0   3   8   0   0   17  67  39  0   0   0   0   0   0   \n",
      "0   0   0   0   0   1   0   0   0   0   17  33  0   0   0   0   0   0   \n",
      "0   0   0   0   0   0   0   0   0   0   0   0   109 0   0   1   0   0   \n",
      "0   0   0   0   0   0   0   0   0   0   0   0   13  46  0   0   3   1   \n",
      "0   0   0   0   0   0   0   0   0   0   0   0   0   31  5   0   0   0   \n",
      "0   0   0   0   0   0   0   0   0   0   0   0   4   0   0   138 4   0   \n",
      "0   0   0   0   0   0   0   0   0   0   0   0   1   0   0   4   107 22  \n",
      "0   0   0   0   0   0   0   0   0   0   0   0   0   0   0   0   28  23  \n",
      "-------------------------------------------------------------------------\n",
      "Validation F1 score : 0.6309403295181202\n",
      "Class 0 : 0.8616600789151525\n",
      "Class 1 : 0.3567839194187016\n",
      "Class 2 : 0.7234042549771139\n",
      "Class 3 : 0.9377990429339987\n",
      "Class 4 : 0.07428571426448981\n",
      "Class 5 : 0.4411764705119073\n",
      "Class 6 : 0.819923371019216\n",
      "Class 7 : 0.43678160819130657\n",
      "Class 8 : 0.7160493809480263\n",
      "Class 9 : 0.8581314872954109\n",
      "Class 10 : 0.5800865795843406\n",
      "Class 11 : 0.536585364981162\n",
      "Class 12 : 0.9198312228524631\n",
      "Class 13 : 0.6524822685780394\n",
      "Class 14 : 0.24390243783462226\n",
      "Class 15 : 0.9484536075955645\n",
      "Class 16 : 0.775362318278723\n",
      "Class 17 : 0.47422680314592414\n"
     ]
    },
    {
     "name": "stderr",
     "output_type": "stream",
     "text": [
      " 50%|█████     | 1081/2160 [16:07<9:33:52, 31.91s/it]"
     ]
    },
    {
     "name": "stdout",
     "output_type": "stream",
     "text": [
      "model saved!\n",
      "*************************************************************************\n",
      "\n"
     ]
    },
    {
     "name": "stderr",
     "output_type": "stream",
     "text": [
      "100%|█████████▉| 2159/2160 [30:26<00:00,  1.26it/s]  "
     ]
    },
    {
     "name": "stdout",
     "output_type": "stream",
     "text": [
      "Train Loss : 0.385071615755765\n"
     ]
    },
    {
     "name": "stderr",
     "output_type": "stream",
     "text": [
      "<ipython-input-11-d34919b212e4>:34: RuntimeWarning: invalid value encountered in double_scalars\n",
      "  F1.append(2 * precision * recall / (precision + recall))\n",
      "100%|██████████| 2160/2160 [32:10<00:00, 31.62s/it]"
     ]
    },
    {
     "name": "stdout",
     "output_type": "stream",
     "text": [
      "< VALIDATION >\n",
      "*************************************************************************\n",
      "Validation Loss : 0.46965691070589755\n",
      "-------------------------------------------------------------------------\n",
      "Total Accuracy\n",
      "79.2063492063492 %\n",
      "-------------------------------------------------------------------------\n",
      "Confusion Matrix\n",
      "499 39  2   5   1   1   1   0   0   0   0   0   2   0   0   0   0   0   \n",
      "9   201 104 0   1   0   0   0   0   0   0   0   0   0   0   0   0   0   \n",
      "0   36  144 0   0   0   0   0   0   0   0   0   0   0   0   0   0   0   \n",
      "16  1   4   689 18  0   0   0   0   2   0   0   0   0   0   0   0   0   \n",
      "1   4   2   12  390 260 0   0   0   0   1   0   0   0   0   0   0   0   \n",
      "0   5   2   0   52  195 0   0   0   0   1   0   0   0   0   0   0   0   \n",
      "1   0   0   0   0   0   101 4   0   3   1   0   0   0   0   0   0   0   \n",
      "0   0   0   0   0   0   2   46  11  0   4   0   0   0   0   0   0   0   \n",
      "0   0   0   0   0   0   0   12  24  0   0   0   0   0   0   0   0   0   \n",
      "0   0   0   0   0   0   2   2   0   139 1   0   0   0   0   2   0   0   \n",
      "0   0   0   0   0   1   0   0   0   11  113 9   0   0   0   0   0   0   \n",
      "0   0   0   0   0   1   0   0   0   0   38  12  0   0   0   0   0   0   \n",
      "0   0   0   0   0   0   0   0   0   0   0   0   108 1   0   1   0   0   \n",
      "0   0   0   0   0   0   0   0   0   0   0   0   4   58  0   0   1   0   \n",
      "0   0   0   0   0   0   0   0   0   0   0   0   0   36  0   0   0   0   \n",
      "0   0   0   0   0   0   0   0   0   0   0   0   2   1   0   141 2   0   \n",
      "0   0   0   0   0   0   0   0   0   0   0   0   1   1   0   5   120 7   \n",
      "0   0   0   0   0   0   0   0   0   0   0   0   0   0   0   0   37  14  \n",
      "-------------------------------------------------------------------------\n",
      "Validation F1 score : nan\n",
      "Class 0 : 0.9275092935078979\n",
      "Class 1 : 0.668885191125163\n",
      "Class 2 : 0.6575342462750985\n",
      "Class 3 : 0.959610027721503\n",
      "Class 4 : 0.68904593627402\n",
      "Class 5 : 0.5469845720765822\n",
      "Class 6 : 0.935185184319273\n",
      "Class 7 : 0.7244094476780955\n",
      "Class 8 : 0.6760563361237849\n",
      "Class 9 : 0.9235880392534299\n",
      "Class 10 : 0.771331057493972\n",
      "Class 11 : 0.3333333324074074\n",
      "Class 12 : 0.9515418493819015\n",
      "Class 13 : 0.72499999909375\n",
      "Class 14 : nan\n",
      "Class 15 : 0.955932202741741\n",
      "Class 16 : 0.8163265300569208\n",
      "Class 17 : 0.38888888780864195\n",
      "model saved!\n",
      "*************************************************************************\n",
      "\n"
     ]
    },
    {
     "name": "stderr",
     "output_type": "stream",
     "text": [
      "100%|██████████| 2160/2160 [32:10<00:00,  1.12it/s]"
     ]
    },
    {
     "name": "stdout",
     "output_type": "stream",
     "text": [
      "Adjusting learning rate of group 0 to 6.3000e-05.\n",
      "Epoch : 2\n"
     ]
    },
    {
     "name": "stderr",
     "output_type": "stream",
     "text": [
      "\n",
      " 50%|█████     | 1080/2160 [14:21<14:18,  1.26it/s]"
     ]
    },
    {
     "name": "stdout",
     "output_type": "stream",
     "text": [
      "Train Loss : 0.2649974788467604\n",
      "< VALIDATION >\n",
      "*************************************************************************\n",
      "Validation Loss : 0.5191756289995586\n",
      "-------------------------------------------------------------------------\n",
      "Total Accuracy\n",
      "76.32275132275133 %\n",
      "-------------------------------------------------------------------------\n",
      "Confusion Matrix\n",
      "532 11  0   5   0   1   1   0   0   0   0   0   0   0   0   0   0   0   \n",
      "13  155 145 0   2   0   0   0   0   0   0   0   0   0   0   0   0   0   \n",
      "0   29  151 0   0   0   0   0   0   0   0   0   0   0   0   0   0   0   \n",
      "21  1   2   691 13  0   0   0   0   2   0   0   0   0   0   0   0   0   \n",
      "1   8   2   14  244 401 0   0   0   0   0   0   0   0   0   0   0   0   \n",
      "0   6   4   0   19  226 0   0   0   0   0   0   0   0   0   0   0   0   \n",
      "2   0   0   0   0   0   105 2   0   1   0   0   0   0   0   0   0   0   \n",
      "0   0   0   0   0   0   4   47  12  0   0   0   0   0   0   0   0   0   \n",
      "0   0   0   0   0   0   0   15  21  0   0   0   0   0   0   0   0   0   \n",
      "0   0   0   0   0   0   4   1   0   138 3   0   0   0   0   0   0   0   \n",
      "0   0   0   0   0   0   0   0   0   3   98  33  0   0   0   0   0   0   \n",
      "0   0   0   0   0   0   0   1   0   0   20  30  0   0   0   0   0   0   \n",
      "0   0   0   0   0   0   0   0   0   0   0   0   107 2   0   1   0   0   \n",
      "0   0   0   0   0   0   0   0   0   0   0   0   4   45  14  0   0   0   \n",
      "0   0   0   0   0   0   0   0   0   0   0   0   0   11  25  0   0   0   \n",
      "0   0   0   0   0   0   0   0   0   0   0   0   2   1   0   136 7   0   \n",
      "0   0   0   0   0   0   0   0   0   0   0   0   0   0   0   0   109 25  \n",
      "0   0   0   0   0   0   0   0   0   0   0   0   0   0   0   0   26  25  \n",
      "-------------------------------------------------------------------------\n",
      "Validation F1 score : 0.7379592715126548\n",
      "Class 0 : 0.9508489721267473\n",
      "Class 1 : 0.5904761902512471\n",
      "Class 2 : 0.6239669418909227\n",
      "Class 3 : 0.9597222220889275\n",
      "Class 4 : 0.5147679323808506\n",
      "Class 5 : 0.5118912796122557\n",
      "Class 6 : 0.9374999991629464\n",
      "Class 7 : 0.7286821694128959\n",
      "Class 8 : 0.6086956504095777\n",
      "Class 9 : 0.9517241372746732\n",
      "Class 10 : 0.7686274503775471\n",
      "Class 11 : 0.5263157885503232\n",
      "Class 12 : 0.9596412547447164\n",
      "Class 13 : 0.7377049168234345\n",
      "Class 14 : 0.6666666648888889\n",
      "Class 15 : 0.9611307413702256\n",
      "Class 16 : 0.7898550718914094\n",
      "Class 17 : 0.495049503970199\n"
     ]
    },
    {
     "name": "stderr",
     "output_type": "stream",
     "text": [
      " 50%|█████     | 1081/2160 [16:05<9:32:27, 31.83s/it]"
     ]
    },
    {
     "name": "stdout",
     "output_type": "stream",
     "text": [
      "model saved!\n",
      "*************************************************************************\n",
      "\n"
     ]
    },
    {
     "name": "stderr",
     "output_type": "stream",
     "text": [
      "100%|█████████▉| 2159/2160 [30:24<00:00,  1.26it/s]  "
     ]
    },
    {
     "name": "stdout",
     "output_type": "stream",
     "text": [
      "Train Loss : 0.2569041988208752\n"
     ]
    },
    {
     "name": "stderr",
     "output_type": "stream",
     "text": [
      "100%|██████████| 2160/2160 [32:07<00:00, 31.67s/it]"
     ]
    },
    {
     "name": "stdout",
     "output_type": "stream",
     "text": [
      "< VALIDATION >\n",
      "*************************************************************************\n",
      "Validation Loss : 0.6897191518219188\n",
      "-------------------------------------------------------------------------\n",
      "Total Accuracy\n",
      "77.5132275132275 %\n",
      "-------------------------------------------------------------------------\n",
      "Confusion Matrix\n",
      "526 17  1   5   0   0   1   0   0   0   0   0   0   0   0   0   0   0   \n",
      "14  201 100 0   0   0   0   0   0   0   0   0   0   0   0   0   0   0   \n",
      "0   26  154 0   0   0   0   0   0   0   0   0   0   0   0   0   0   0   \n",
      "17  3   4   689 7   1   0   0   0   9   0   0   0   0   0   0   0   0   \n",
      "0   10  6   15  355 283 0   0   1   0   0   0   0   0   0   0   0   0   \n",
      "0   3   7   0   48  197 0   0   0   0   0   0   0   0   0   0   0   0   \n",
      "1   0   0   0   0   0   104 4   0   1   0   0   0   0   0   0   0   0   \n",
      "0   1   0   0   0   0   3   52  7   0   0   0   0   0   0   0   0   0   \n",
      "0   0   0   0   0   0   0   19  17  0   0   0   0   0   0   0   0   0   \n",
      "0   0   0   0   0   0   3   2   0   139 1   0   0   0   0   1   0   0   \n",
      "0   0   0   0   0   1   1   10  0   3   65  54  0   0   0   0   0   0   \n",
      "0   0   0   0   0   0   0   1   0   0   7   43  0   0   0   0   0   0   \n",
      "0   0   0   0   0   0   0   0   0   0   0   0   103 2   0   5   0   0   \n",
      "0   0   0   0   0   0   0   0   0   0   0   0   4   19  40  0   0   0   \n",
      "0   0   0   0   0   0   0   0   0   0   0   0   0   2   34  0   0   0   \n",
      "0   0   0   0   0   0   0   0   0   0   0   0   2   1   1   140 2   0   \n",
      "0   0   0   0   0   0   0   0   0   0   0   0   0   2   0   4   48  80  \n",
      "0   0   0   0   0   0   0   0   0   0   0   0   0   0   0   0   7   44  \n",
      "-------------------------------------------------------------------------\n",
      "Validation F1 score : 0.7075049298921277\n",
      "Class 0 : 0.9494584835831302\n",
      "Class 1 : 0.6979166664243345\n",
      "Class 2 : 0.6814159289020284\n",
      "Class 3 : 0.9576094508745504\n",
      "Class 4 : 0.6574074072856653\n",
      "Class 5 : 0.5345997284845048\n",
      "Class 6 : 0.9369369360928497\n",
      "Class 7 : 0.688741720942064\n",
      "Class 8 : 0.5573770473528621\n",
      "Class 9 : 0.9328859054141705\n",
      "Class 10 : 0.6280193230647158\n",
      "Class 11 : 0.5810810802958365\n",
      "Class 12 : 0.9406392685473615\n",
      "Class 13 : 0.4269662911753566\n",
      "Class 14 : 0.6126126115088061\n",
      "Class 15 : 0.9459459453067934\n",
      "Class 16 : 0.5026178005208191\n",
      "Class 17 : 0.5028571422824489\n",
      "model saved!\n",
      "*************************************************************************\n",
      "\n"
     ]
    },
    {
     "name": "stderr",
     "output_type": "stream",
     "text": [
      "100%|██████████| 2160/2160 [32:08<00:00,  1.12it/s]"
     ]
    },
    {
     "name": "stdout",
     "output_type": "stream",
     "text": [
      "Adjusting learning rate of group 0 to 5.6700e-05.\n",
      "Epoch : 3\n"
     ]
    },
    {
     "name": "stderr",
     "output_type": "stream",
     "text": [
      "\n",
      " 50%|█████     | 1080/2160 [14:20<14:22,  1.25it/s]"
     ]
    },
    {
     "name": "stdout",
     "output_type": "stream",
     "text": [
      "Train Loss : 0.21086149891729877\n"
     ]
    },
    {
     "name": "stderr",
     "output_type": "stream",
     "text": [
      " 50%|█████     | 1081/2160 [16:04<9:29:13, 31.65s/it]"
     ]
    },
    {
     "name": "stdout",
     "output_type": "stream",
     "text": [
      "< VALIDATION >\n",
      "*************************************************************************\n",
      "Validation Loss : 0.7341532860593698\n",
      "-------------------------------------------------------------------------\n",
      "Total Accuracy\n",
      "77.5925925925926 %\n",
      "-------------------------------------------------------------------------\n",
      "Confusion Matrix\n",
      "525 17  2   5   0   0   1   0   0   0   0   0   0   0   0   0   0   0   \n",
      "12  256 42  0   1   3   0   1   0   0   0   0   0   0   0   0   0   0   \n",
      "0   77  103 0   0   0   0   0   0   0   0   0   0   0   0   0   0   0   \n",
      "19  1   0   691 13  2   0   0   0   3   0   0   0   1   0   0   0   0   \n",
      "0   2   0   10  317 341 0   0   0   0   0   0   0   0   0   0   0   0   \n",
      "0   0   1   0   53  201 0   0   0   0   0   0   0   0   0   0   0   0   \n",
      "1   0   0   0   0   0   100 8   0   1   0   0   0   0   0   0   0   0   \n",
      "0   0   0   0   0   0   1   54  6   0   0   1   0   1   0   0   0   0   \n",
      "0   0   0   0   0   0   0   17  19  0   0   0   0   0   0   0   0   0   \n",
      "0   0   0   0   0   0   3   1   0   137 4   0   0   0   0   1   0   0   \n",
      "0   0   0   0   1   0   0   0   0   2   85  46  0   0   0   0   0   0   \n",
      "0   0   0   0   0   0   0   0   1   0   19  31  0   0   0   0   0   0   \n",
      "0   0   0   0   0   0   0   0   0   0   0   0   92  16  0   1   0   1   \n",
      "0   0   0   0   0   0   0   0   0   0   0   0   1   56  6   0   0   0   \n",
      "0   0   0   0   0   0   0   0   0   0   0   0   0   20  16  0   0   0   \n",
      "0   0   0   0   0   0   0   0   0   0   0   0   4   2   0   137 3   0   \n",
      "0   0   0   0   0   0   0   0   0   0   0   0   0   3   0   4   76  51  \n",
      "0   0   0   0   0   0   0   0   0   0   0   0   0   0   0   0   14  37  \n",
      "-------------------------------------------------------------------------\n",
      "Validation F1 score : 0.7283439258802815\n",
      "Class 0 : 0.9485094849234853\n",
      "Class 1 : 0.7664670656387822\n",
      "Class 2 : 0.6280487801048484\n",
      "Class 3 : 0.9623955430414491\n",
      "Class 4 : 0.6009478671846544\n",
      "Class 5 : 0.5012468826680182\n",
      "Class 6 : 0.9302325572742024\n",
      "Class 7 : 0.7499999989583334\n",
      "Class 8 : 0.6129032238293445\n",
      "Class 9 : 0.9480968851570265\n",
      "Class 10 : 0.7024793382624137\n",
      "Class 11 : 0.4806201542936122\n",
      "Class 12 : 0.8888888880300592\n",
      "Class 13 : 0.6913580238378296\n",
      "Class 14 : 0.5517241360285374\n",
      "Class 15 : 0.9480968851570265\n",
      "Class 16 : 0.6696035236391159\n",
      "Class 17 : 0.5285714278163265\n",
      "model saved!\n",
      "*************************************************************************\n",
      "\n"
     ]
    },
    {
     "name": "stderr",
     "output_type": "stream",
     "text": [
      "100%|█████████▉| 2159/2160 [30:23<00:00,  1.26it/s]  "
     ]
    },
    {
     "name": "stdout",
     "output_type": "stream",
     "text": [
      "Train Loss : 0.2107530642490558\n"
     ]
    },
    {
     "name": "stderr",
     "output_type": "stream",
     "text": [
      "100%|██████████| 2160/2160 [32:06<00:00, 31.63s/it]"
     ]
    },
    {
     "name": "stdout",
     "output_type": "stream",
     "text": [
      "< VALIDATION >\n",
      "*************************************************************************\n",
      "Validation Loss : 0.7600440143633427\n",
      "-------------------------------------------------------------------------\n",
      "Total Accuracy\n",
      "75.95238095238095 %\n",
      "-------------------------------------------------------------------------\n",
      "Confusion Matrix\n",
      "536 3   0   4   6   0   1   0   0   0   0   0   0   0   0   0   0   0   \n",
      "18  171 112 0   9   5   0   0   0   0   0   0   0   0   0   0   0   0   \n",
      "0   39  141 0   0   0   0   0   0   0   0   0   0   0   0   0   0   0   \n",
      "19  2   1   681 24  3   0   0   0   0   0   0   0   0   0   0   0   0   \n",
      "0   0   6   4   341 319 0   0   0   0   0   0   0   0   0   0   0   0   \n",
      "0   0   15  0   67  173 0   0   0   0   0   0   0   0   0   0   0   0   \n",
      "1   0   0   0   0   0   108 0   0   1   0   0   0   0   0   0   0   0   \n",
      "0   0   0   0   0   0   3   41  15  0   3   1   0   0   0   0   0   0   \n",
      "0   0   0   0   0   0   0   13  23  0   0   0   0   0   0   0   0   0   \n",
      "0   0   0   0   0   0   4   0   0   139 3   0   0   0   0   0   0   0   \n",
      "0   0   0   0   0   2   1   0   0   2   79  50  0   0   0   0   0   0   \n",
      "0   0   0   0   0   0   0   0   0   0   17  34  0   0   0   0   0   0   \n",
      "0   0   0   0   0   0   0   0   0   0   0   0   107 1   0   1   0   1   \n",
      "0   0   0   0   0   0   0   0   0   0   0   0   2   38  21  0   0   2   \n",
      "0   0   0   0   0   0   0   0   0   0   0   0   0   12  24  0   0   0   \n",
      "0   0   0   0   0   0   0   0   0   0   0   0   5   1   0   138 2   0   \n",
      "0   0   0   0   0   0   0   0   0   0   0   0   1   0   0   3   55  75  \n",
      "0   0   0   0   0   0   0   0   0   0   0   0   0   0   0   0   9   42  \n",
      "-------------------------------------------------------------------------\n",
      "Validation F1 score : 0.7143991265858166\n",
      "Class 0 : 0.9537366546345665\n",
      "Class 1 : 0.6452830186244215\n",
      "Class 2 : 0.6197802195077888\n",
      "Class 3 : 0.9598308666723282\n",
      "Class 4 : 0.6105640106337397\n",
      "Class 5 : 0.45706737108135603\n",
      "Class 6 : 0.9515418493819015\n",
      "Class 7 : 0.7008546996566586\n",
      "Class 8 : 0.6216216199415632\n",
      "Class 9 : 0.965277777107446\n",
      "Class 10 : 0.6694915248563631\n",
      "Class 11 : 0.4999999992647059\n",
      "Class 12 : 0.9511111102656791\n",
      "Class 13 : 0.6608695640680529\n",
      "Class 14 : 0.5925925911294011\n",
      "Class 15 : 0.9583333326678242\n",
      "Class 16 : 0.54999999945\n",
      "Class 17 : 0.49122806960090293\n",
      "model saved!\n",
      "*************************************************************************\n",
      "\n"
     ]
    },
    {
     "name": "stderr",
     "output_type": "stream",
     "text": [
      "100%|██████████| 2160/2160 [32:07<00:00,  1.12it/s]"
     ]
    },
    {
     "name": "stdout",
     "output_type": "stream",
     "text": [
      "Adjusting learning rate of group 0 to 5.1030e-05.\n",
      "Epoch : 4\n"
     ]
    },
    {
     "name": "stderr",
     "output_type": "stream",
     "text": [
      "\n",
      " 50%|█████     | 1080/2160 [14:20<14:16,  1.26it/s]"
     ]
    },
    {
     "name": "stdout",
     "output_type": "stream",
     "text": [
      "Train Loss : 0.18349174998965972\n",
      "< VALIDATION >\n",
      "*************************************************************************\n",
      "Validation Loss : 0.5907002820160145\n",
      "-------------------------------------------------------------------------\n",
      "Total Accuracy\n",
      "82.27513227513228 %\n",
      "-------------------------------------------------------------------------\n",
      "Confusion Matrix\n",
      "531 13  0   5   0   0   1   0   0   0   0   0   0   0   0   0   0   0   \n",
      "11  244 55  0   3   1   0   1   0   0   0   0   0   0   0   0   0   0   \n",
      "0   58  122 0   0   0   0   0   0   0   0   0   0   0   0   0   0   0   \n",
      "20  2   1   693 11  0   0   0   0   3   0   0   0   0   0   0   0   0   \n",
      "0   2   0   11  519 138 0   0   0   0   0   0   0   0   0   0   0   0   \n",
      "0   0   1   0   144 110 0   0   0   0   0   0   0   0   0   0   0   0   \n",
      "1   0   0   0   0   0   104 4   0   1   0   0   0   0   0   0   0   0   \n",
      "0   0   0   0   0   0   1   52  10  0   0   0   0   0   0   0   0   0   \n",
      "0   0   0   0   0   0   0   15  21  0   0   0   0   0   0   0   0   0   \n",
      "0   0   0   0   0   0   3   0   0   140 3   0   0   0   0   0   0   0   \n",
      "0   0   0   0   1   0   0   0   0   3   120 10  0   0   0   0   0   0   \n",
      "0   0   0   0   0   0   0   1   0   0   34  16  0   0   0   0   0   0   \n",
      "0   0   0   0   0   0   0   0   0   0   0   0   105 2   0   1   1   1   \n",
      "0   0   0   0   0   0   0   0   0   0   0   0   3   45  13  0   2   0   \n",
      "0   0   0   0   0   0   0   0   0   0   0   0   0   11  25  0   0   0   \n",
      "0   0   0   0   0   0   0   0   0   0   0   0   4   0   0   138 4   0   \n",
      "0   0   0   0   0   0   0   0   0   0   0   0   0   0   0   0   104 30  \n",
      "0   0   0   0   0   0   0   0   0   0   0   0   0   0   0   0   30  21  \n",
      "-------------------------------------------------------------------------\n",
      "Validation F1 score : 0.7560301371312257\n",
      "Class 0 : 0.9541778974026636\n",
      "Class 1 : 0.769716088085263\n",
      "Class 2 : 0.6796657377829161\n",
      "Class 3 : 0.9631688671350704\n",
      "Class 4 : 0.7700296734762567\n",
      "Class 5 : 0.43650793633471907\n",
      "Class 6 : 0.9497716886303456\n",
      "Class 7 : 0.7647058812283738\n",
      "Class 8 : 0.6268656697705502\n",
      "Class 9 : 0.955631398665098\n",
      "Class 10 : 0.8247422674744039\n",
      "Class 11 : 0.4155844145049755\n",
      "Class 12 : 0.9459459450937423\n",
      "Class 13 : 0.7438016516631378\n",
      "Class 14 : 0.6756756738495252\n",
      "Class 15 : 0.9684210519519851\n",
      "Class 16 : 0.7563636358135538\n",
      "Class 17 : 0.40776698949948154\n"
     ]
    },
    {
     "name": "stderr",
     "output_type": "stream",
     "text": [
      " 50%|█████     | 1081/2160 [16:04<9:31:55, 31.80s/it]"
     ]
    },
    {
     "name": "stdout",
     "output_type": "stream",
     "text": [
      "model saved!\n",
      "*************************************************************************\n",
      "\n"
     ]
    },
    {
     "name": "stderr",
     "output_type": "stream",
     "text": [
      "100%|█████████▉| 2159/2160 [30:23<00:00,  1.26it/s]  "
     ]
    },
    {
     "name": "stdout",
     "output_type": "stream",
     "text": [
      "Train Loss : 0.18235866657040012\n"
     ]
    },
    {
     "name": "stderr",
     "output_type": "stream",
     "text": [
      "100%|██████████| 2160/2160 [32:07<00:00, 31.65s/it]"
     ]
    },
    {
     "name": "stdout",
     "output_type": "stream",
     "text": [
      "< VALIDATION >\n",
      "*************************************************************************\n",
      "Validation Loss : 0.6854674791727491\n",
      "-------------------------------------------------------------------------\n",
      "Total Accuracy\n",
      "80.82010582010582 %\n",
      "-------------------------------------------------------------------------\n",
      "Confusion Matrix\n",
      "532 12  0   5   0   0   1   0   0   0   0   0   0   0   0   0   0   0   \n",
      "11  257 43  0   1   1   0   2   0   0   0   0   0   0   0   0   0   0   \n",
      "0   73  107 0   0   0   0   0   0   0   0   0   0   0   0   0   0   0   \n",
      "23  1   1   692 11  0   0   0   0   2   0   0   0   0   0   0   0   0   \n",
      "0   3   0   12  466 189 0   0   0   0   0   0   0   0   0   0   0   0   \n",
      "0   0   2   0   142 111 0   0   0   0   0   0   0   0   0   0   0   0   \n",
      "1   0   0   0   0   0   107 1   0   1   0   0   0   0   0   0   0   0   \n",
      "0   0   0   0   0   0   3   54  6   0   0   0   0   0   0   0   0   0   \n",
      "0   0   0   0   0   0   0   17  19  0   0   0   0   0   0   0   0   0   \n",
      "0   0   0   0   0   0   4   1   0   139 2   0   0   0   0   0   0   0   \n",
      "0   0   0   0   1   0   1   0   0   2   111 19  0   0   0   0   0   0   \n",
      "0   0   0   0   0   0   0   1   0   0   33  17  0   0   0   0   0   0   \n",
      "0   0   0   0   0   0   0   0   0   0   0   0   109 0   0   1   0   0   \n",
      "0   0   0   0   0   0   0   0   0   0   0   0   3   53  7   0   0   0   \n",
      "0   0   0   0   0   0   0   0   0   0   0   0   0   16  20  0   0   0   \n",
      "0   0   0   0   0   0   0   0   0   0   0   0   4   1   0   140 1   0   \n",
      "0   0   0   0   0   0   0   0   0   0   0   0   1   0   0   3   100 30  \n",
      "0   0   0   0   0   0   0   0   0   0   0   0   0   0   0   0   30  21  \n",
      "-------------------------------------------------------------------------\n",
      "Validation F1 score : 0.7482868421317491\n",
      "Class 0 : 0.9525514770004385\n",
      "Class 1 : 0.7776096820642634\n",
      "Class 2 : 0.6426426422566711\n",
      "Class 3 : 0.9617790130699404\n",
      "Class 4 : 0.7219209913676341\n",
      "Class 5 : 0.3992805753959422\n",
      "Class 6 : 0.9469026540292899\n",
      "Class 7 : 0.7769784161482325\n",
      "Class 8 : 0.6229508176296694\n",
      "Class 9 : 0.9586206889940547\n",
      "Class 10 : 0.7928571422908164\n",
      "Class 11 : 0.3908045968027481\n",
      "Class 12 : 0.9603524220613635\n",
      "Class 13 : 0.7969924800045226\n",
      "Class 14 : 0.6349206329050139\n",
      "Class 15 : 0.9655172407134364\n",
      "Class 16 : 0.7547169805624778\n",
      "Class 17 : 0.41176470507497115\n",
      "model saved!\n",
      "*************************************************************************\n",
      "\n"
     ]
    },
    {
     "name": "stderr",
     "output_type": "stream",
     "text": [
      "100%|██████████| 2160/2160 [32:07<00:00,  1.12it/s]"
     ]
    },
    {
     "name": "stdout",
     "output_type": "stream",
     "text": [
      "Adjusting learning rate of group 0 to 4.5927e-05.\n",
      "Epoch : 5\n"
     ]
    },
    {
     "name": "stderr",
     "output_type": "stream",
     "text": [
      "\n",
      " 50%|█████     | 1080/2160 [14:20<14:16,  1.26it/s]"
     ]
    },
    {
     "name": "stdout",
     "output_type": "stream",
     "text": [
      "Train Loss : 0.16083097081264408\n"
     ]
    },
    {
     "name": "stderr",
     "output_type": "stream",
     "text": [
      " 50%|█████     | 1081/2160 [16:03<9:28:08, 31.59s/it]"
     ]
    },
    {
     "name": "stdout",
     "output_type": "stream",
     "text": [
      "< VALIDATION >\n",
      "*************************************************************************\n",
      "Validation Loss : 0.8188663827592757\n",
      "-------------------------------------------------------------------------\n",
      "Total Accuracy\n",
      "80.92592592592592 %\n",
      "-------------------------------------------------------------------------\n",
      "Confusion Matrix\n",
      "529 4   0   5   0   0   12  0   0   0   0   0   0   0   0   0   0   0   \n",
      "18  274 12  0   1   5   0   5   0   0   0   0   0   0   0   0   0   0   \n",
      "0   93  85  0   0   0   0   2   0   0   0   0   0   0   0   0   0   0   \n",
      "19  2   0   691 9   1   1   0   0   6   1   0   0   0   0   0   0   0   \n",
      "2   1   0   13  492 159 0   0   0   0   2   1   0   0   0   0   0   0   \n",
      "0   0   0   0   132 120 0   0   0   0   3   0   0   0   0   0   0   0   \n",
      "1   0   0   0   0   0   106 2   0   1   0   0   0   0   0   0   0   0   \n",
      "0   0   0   0   0   0   2   59  1   0   0   1   0   0   0   0   0   0   \n",
      "0   0   0   0   0   0   0   22  14  0   0   0   0   0   0   0   0   0   \n",
      "0   0   0   0   0   0   4   1   0   140 1   0   0   0   0   0   0   0   \n",
      "0   0   0   0   0   0   1   0   0   3   99  31  0   0   0   0   0   0   \n",
      "0   0   0   0   0   0   0   1   0   0   26  24  0   0   0   0   0   0   \n",
      "0   0   0   0   0   0   0   0   0   0   0   0   106 3   0   1   0   0   \n",
      "0   0   0   0   0   0   0   0   0   0   0   0   2   58  2   0   0   1   \n",
      "0   0   0   0   0   0   0   0   0   0   0   0   0   22  14  0   0   0   \n",
      "0   0   0   0   0   0   0   0   0   0   0   0   4   1   0   140 1   0   \n",
      "0   0   0   0   0   0   0   0   0   0   0   0   1   0   0   9   82  42  \n",
      "0   0   0   0   0   0   0   0   0   0   0   0   0   0   0   0   25  26  \n",
      "-------------------------------------------------------------------------\n",
      "Validation F1 score : 0.7329209570451782\n",
      "Class 0 : 0.9454870418327994\n",
      "Class 1 : 0.7953555875775454\n",
      "Class 2 : 0.6137184111092286\n",
      "Class 3 : 0.9603891590048105\n",
      "Class 4 : 0.7546012268781287\n",
      "Class 5 : 0.44444444427983537\n",
      "Class 6 : 0.8983050839844872\n",
      "Class 7 : 0.7612903215983351\n",
      "Class 8 : 0.5490196056901192\n",
      "Class 9 : 0.9459459453067934\n",
      "Class 10 : 0.7443609016959692\n",
      "Class 11 : 0.44444444362139923\n",
      "Class 12 : 0.9506726448872892\n",
      "Class 13 : 0.7891156451848766\n",
      "Class 14 : 0.5384615363905325\n",
      "Class 15 : 0.9459459453067934\n",
      "Class 16 : 0.6776859498531521\n",
      "Class 17 : 0.4333333326111111\n",
      "model saved!\n",
      "*************************************************************************\n",
      "\n"
     ]
    },
    {
     "name": "stderr",
     "output_type": "stream",
     "text": [
      "100%|█████████▉| 2159/2160 [30:21<00:00,  1.26it/s]  "
     ]
    },
    {
     "name": "stdout",
     "output_type": "stream",
     "text": [
      "Train Loss : 0.16547345476983874\n"
     ]
    },
    {
     "name": "stderr",
     "output_type": "stream",
     "text": [
      "100%|██████████| 2160/2160 [32:05<00:00, 31.62s/it]"
     ]
    },
    {
     "name": "stdout",
     "output_type": "stream",
     "text": [
      "< VALIDATION >\n",
      "*************************************************************************\n",
      "Validation Loss : 0.7624637197230995\n",
      "-------------------------------------------------------------------------\n",
      "Total Accuracy\n",
      "82.14285714285714 %\n",
      "-------------------------------------------------------------------------\n",
      "Confusion Matrix\n",
      "521 23  0   5   0   0   1   0   0   0   0   0   0   0   0   0   0   0   \n",
      "5   257 49  0   4   0   0   0   0   0   0   0   0   0   0   0   0   0   \n",
      "0   75  105 0   0   0   0   0   0   0   0   0   0   0   0   0   0   0   \n",
      "17  4   1   692 13  1   0   0   0   2   0   0   0   0   0   0   0   0   \n",
      "0   4   9   12  563 82  0   0   0   0   0   0   0   0   0   0   0   0   \n",
      "0   1   5   0   169 80  0   0   0   0   0   0   0   0   0   0   0   0   \n",
      "1   0   0   0   0   0   105 3   0   1   0   0   0   0   0   0   0   0   \n",
      "0   0   0   0   0   0   2   54  6   0   1   0   0   0   0   0   0   0   \n",
      "0   0   0   0   0   0   0   18  18  0   0   0   0   0   0   0   0   0   \n",
      "0   0   0   0   0   0   3   0   0   141 2   0   0   0   0   0   0   0   \n",
      "0   0   0   0   1   0   0   0   0   4   91  38  0   0   0   0   0   0   \n",
      "0   0   0   0   0   0   0   0   0   0   24  27  0   0   0   0   0   0   \n",
      "0   0   0   0   0   0   0   0   0   0   0   0   105 4   0   1   0   0   \n",
      "0   0   0   0   0   0   0   0   0   0   0   0   2   55  5   0   1   0   \n",
      "0   0   0   0   0   0   0   0   0   0   0   0   0   17  19  0   0   0   \n",
      "0   0   0   0   0   0   0   0   0   0   0   0   4   1   0   136 5   0   \n",
      "0   0   0   0   0   0   0   0   0   0   0   0   0   0   0   0   118 16  \n",
      "0   0   0   0   0   0   0   0   0   0   0   0   0   0   0   0   33  18  \n",
      "-------------------------------------------------------------------------\n",
      "Validation F1 score : 0.7496324061324953\n",
      "Class 0 : 0.9524680071384886\n",
      "Class 1 : 0.756995581514876\n",
      "Class 2 : 0.6017191973629116\n",
      "Class 3 : 0.9617790130699404\n",
      "Class 4 : 0.7929577463671892\n",
      "Class 5 : 0.38277511943407894\n",
      "Class 6 : 0.9502262434839581\n",
      "Class 7 : 0.7826086945179584\n",
      "Class 8 : 0.5999999979999999\n",
      "Class 9 : 0.9591836728168818\n",
      "Class 10 : 0.7222222216490302\n",
      "Class 11 : 0.46551724057669447\n",
      "Class 12 : 0.9502262434839581\n",
      "Class 13 : 0.7857142845918367\n",
      "Class 14 : 0.6333333312222222\n",
      "Class 15 : 0.9611307413702256\n",
      "Class 16 : 0.8109965630164971\n",
      "Class 17 : 0.423529410768166\n",
      "model saved!\n",
      "*************************************************************************\n",
      "\n"
     ]
    },
    {
     "name": "stderr",
     "output_type": "stream",
     "text": [
      "100%|██████████| 2160/2160 [32:05<00:00,  1.12it/s]"
     ]
    },
    {
     "name": "stdout",
     "output_type": "stream",
     "text": [
      "Adjusting learning rate of group 0 to 4.1334e-05.\n",
      "Epoch : 6\n"
     ]
    },
    {
     "name": "stderr",
     "output_type": "stream",
     "text": [
      "\n",
      "  3%|▎         | 55/2160 [00:44<28:17,  1.24it/s]\n"
     ]
    },
    {
     "ename": "KeyboardInterrupt",
     "evalue": "",
     "output_type": "error",
     "traceback": [
      "\u001b[0;31m---------------------------------------------------------------------------\u001b[0m",
      "\u001b[0;31mKeyboardInterrupt\u001b[0m                         Traceback (most recent call last)",
      "\u001b[0;32m<ipython-input-12-e86edcfa4b5e>\u001b[0m in \u001b[0;36m<module>\u001b[0;34m\u001b[0m\n\u001b[1;32m     14\u001b[0m \u001b[0;34m\u001b[0m\u001b[0m\n\u001b[1;32m     15\u001b[0m         \u001b[0mcounter\u001b[0m \u001b[0;34m+=\u001b[0m \u001b[0;36m1\u001b[0m\u001b[0;34m\u001b[0m\u001b[0;34m\u001b[0m\u001b[0m\n\u001b[0;32m---> 16\u001b[0;31m         \u001b[0moptimizer\u001b[0m\u001b[0;34m.\u001b[0m\u001b[0mzero_grad\u001b[0m\u001b[0;34m(\u001b[0m\u001b[0;34m)\u001b[0m\u001b[0;34m\u001b[0m\u001b[0;34m\u001b[0m\u001b[0m\n\u001b[0m\u001b[1;32m     17\u001b[0m         \u001b[0minputs\u001b[0m \u001b[0;34m=\u001b[0m \u001b[0minputs\u001b[0m\u001b[0;34m.\u001b[0m\u001b[0mto\u001b[0m\u001b[0;34m(\u001b[0m\u001b[0mdevice\u001b[0m\u001b[0;34m)\u001b[0m\u001b[0;34m\u001b[0m\u001b[0;34m\u001b[0m\u001b[0m\n\u001b[1;32m     18\u001b[0m         \u001b[0moutputs\u001b[0m \u001b[0;34m=\u001b[0m \u001b[0mmodel\u001b[0m\u001b[0;34m(\u001b[0m\u001b[0minputs\u001b[0m\u001b[0;34m)\u001b[0m\u001b[0;34m\u001b[0m\u001b[0;34m\u001b[0m\u001b[0m\n",
      "\u001b[0;32m/opt/conda/lib/python3.8/site-packages/torch/optim/optimizer.py\u001b[0m in \u001b[0;36mzero_grad\u001b[0;34m(self, set_to_none)\u001b[0m\n\u001b[1;32m    186\u001b[0m                         \u001b[0mp\u001b[0m\u001b[0;34m.\u001b[0m\u001b[0mgrad\u001b[0m \u001b[0;34m=\u001b[0m \u001b[0;32mNone\u001b[0m\u001b[0;34m\u001b[0m\u001b[0;34m\u001b[0m\u001b[0m\n\u001b[1;32m    187\u001b[0m                     \u001b[0;32melse\u001b[0m\u001b[0;34m:\u001b[0m\u001b[0;34m\u001b[0m\u001b[0;34m\u001b[0m\u001b[0m\n\u001b[0;32m--> 188\u001b[0;31m                         \u001b[0;32mif\u001b[0m \u001b[0mp\u001b[0m\u001b[0;34m.\u001b[0m\u001b[0mgrad\u001b[0m\u001b[0;34m.\u001b[0m\u001b[0mgrad_fn\u001b[0m \u001b[0;32mis\u001b[0m \u001b[0;32mnot\u001b[0m \u001b[0;32mNone\u001b[0m\u001b[0;34m:\u001b[0m\u001b[0;34m\u001b[0m\u001b[0;34m\u001b[0m\u001b[0m\n\u001b[0m\u001b[1;32m    189\u001b[0m                             \u001b[0mp\u001b[0m\u001b[0;34m.\u001b[0m\u001b[0mgrad\u001b[0m\u001b[0;34m.\u001b[0m\u001b[0mdetach_\u001b[0m\u001b[0;34m(\u001b[0m\u001b[0;34m)\u001b[0m\u001b[0;34m\u001b[0m\u001b[0;34m\u001b[0m\u001b[0m\n\u001b[1;32m    190\u001b[0m                         \u001b[0;32melse\u001b[0m\u001b[0;34m:\u001b[0m\u001b[0;34m\u001b[0m\u001b[0;34m\u001b[0m\u001b[0m\n",
      "\u001b[0;32m/opt/conda/lib/python3.8/site-packages/torch/tensor.py\u001b[0m in \u001b[0;36mgrad\u001b[0;34m(self)\u001b[0m\n\u001b[1;32m    941\u001b[0m         \u001b[0mrelevant_args\u001b[0m \u001b[0;34m=\u001b[0m \u001b[0;34m(\u001b[0m\u001b[0mself\u001b[0m\u001b[0;34m,\u001b[0m\u001b[0;34m)\u001b[0m\u001b[0;34m\u001b[0m\u001b[0;34m\u001b[0m\u001b[0m\n\u001b[1;32m    942\u001b[0m         \u001b[0;32mfrom\u001b[0m \u001b[0mtorch\u001b[0m\u001b[0;34m.\u001b[0m\u001b[0moverrides\u001b[0m \u001b[0;32mimport\u001b[0m \u001b[0mhas_torch_function\u001b[0m\u001b[0;34m,\u001b[0m \u001b[0mhandle_torch_function\u001b[0m\u001b[0;34m\u001b[0m\u001b[0;34m\u001b[0m\u001b[0m\n\u001b[0;32m--> 943\u001b[0;31m         \u001b[0;32mif\u001b[0m \u001b[0mtype\u001b[0m\u001b[0;34m(\u001b[0m\u001b[0mself\u001b[0m\u001b[0;34m)\u001b[0m \u001b[0;32mis\u001b[0m \u001b[0;32mnot\u001b[0m \u001b[0mTensor\u001b[0m \u001b[0;32mand\u001b[0m \u001b[0mhas_torch_function\u001b[0m\u001b[0;34m(\u001b[0m\u001b[0mrelevant_args\u001b[0m\u001b[0;34m)\u001b[0m\u001b[0;34m:\u001b[0m\u001b[0;34m\u001b[0m\u001b[0;34m\u001b[0m\u001b[0m\n\u001b[0m\u001b[1;32m    944\u001b[0m             \u001b[0;31m# TODO mypy doesn't support @property, see: https://github.com/python/mypy/issues/6185\u001b[0m\u001b[0;34m\u001b[0m\u001b[0;34m\u001b[0m\u001b[0;34m\u001b[0m\u001b[0m\n\u001b[1;32m    945\u001b[0m             \u001b[0;32mreturn\u001b[0m \u001b[0mhandle_torch_function\u001b[0m\u001b[0;34m(\u001b[0m\u001b[0mTensor\u001b[0m\u001b[0;34m.\u001b[0m\u001b[0mgrad\u001b[0m\u001b[0;34m.\u001b[0m\u001b[0m__get__\u001b[0m\u001b[0;34m,\u001b[0m \u001b[0mrelevant_args\u001b[0m\u001b[0;34m,\u001b[0m \u001b[0mself\u001b[0m\u001b[0;34m)\u001b[0m  \u001b[0;31m# type: ignore[attr-defined]\u001b[0m\u001b[0;34m\u001b[0m\u001b[0;34m\u001b[0m\u001b[0m\n",
      "\u001b[0;32m/opt/conda/lib/python3.8/site-packages/torch/overrides.py\u001b[0m in \u001b[0;36mhas_torch_function\u001b[0;34m(relevant_args)\u001b[0m\n\u001b[1;32m   1081\u001b[0m     \u001b[0mimplementations\u001b[0m\u001b[0;34m,\u001b[0m \u001b[0;32mFalse\u001b[0m \u001b[0motherwise\u001b[0m\u001b[0;34m.\u001b[0m\u001b[0;34m\u001b[0m\u001b[0;34m\u001b[0m\u001b[0m\n\u001b[1;32m   1082\u001b[0m     \"\"\"\n\u001b[0;32m-> 1083\u001b[0;31m     return _is_torch_function_enabled() and any(\n\u001b[0m\u001b[1;32m   1084\u001b[0m         \u001b[0mtype\u001b[0m\u001b[0;34m(\u001b[0m\u001b[0ma\u001b[0m\u001b[0;34m)\u001b[0m \u001b[0;32mis\u001b[0m \u001b[0;32mnot\u001b[0m \u001b[0mtorch\u001b[0m\u001b[0;34m.\u001b[0m\u001b[0mTensor\u001b[0m \u001b[0;32mand\u001b[0m\u001b[0;34m\u001b[0m\u001b[0;34m\u001b[0m\u001b[0m\n\u001b[1;32m   1085\u001b[0m         \u001b[0mgetattr\u001b[0m\u001b[0;34m(\u001b[0m\u001b[0ma\u001b[0m\u001b[0;34m,\u001b[0m \u001b[0;34m'__torch_function__'\u001b[0m\u001b[0;34m,\u001b[0m \u001b[0m_disabled_torch_function_impl\u001b[0m\u001b[0;34m)\u001b[0m\u001b[0;34m\u001b[0m\u001b[0;34m\u001b[0m\u001b[0m\n",
      "\u001b[0;32m/opt/conda/lib/python3.8/site-packages/torch/overrides.py\u001b[0m in \u001b[0;36m<genexpr>\u001b[0;34m(.0)\u001b[0m\n\u001b[1;32m   1081\u001b[0m     \u001b[0mimplementations\u001b[0m\u001b[0;34m,\u001b[0m \u001b[0;32mFalse\u001b[0m \u001b[0motherwise\u001b[0m\u001b[0;34m.\u001b[0m\u001b[0;34m\u001b[0m\u001b[0;34m\u001b[0m\u001b[0m\n\u001b[1;32m   1082\u001b[0m     \"\"\"\n\u001b[0;32m-> 1083\u001b[0;31m     return _is_torch_function_enabled() and any(\n\u001b[0m\u001b[1;32m   1084\u001b[0m         \u001b[0mtype\u001b[0m\u001b[0;34m(\u001b[0m\u001b[0ma\u001b[0m\u001b[0;34m)\u001b[0m \u001b[0;32mis\u001b[0m \u001b[0;32mnot\u001b[0m \u001b[0mtorch\u001b[0m\u001b[0;34m.\u001b[0m\u001b[0mTensor\u001b[0m \u001b[0;32mand\u001b[0m\u001b[0;34m\u001b[0m\u001b[0;34m\u001b[0m\u001b[0m\n\u001b[1;32m   1085\u001b[0m         \u001b[0mgetattr\u001b[0m\u001b[0;34m(\u001b[0m\u001b[0ma\u001b[0m\u001b[0;34m,\u001b[0m \u001b[0;34m'__torch_function__'\u001b[0m\u001b[0;34m,\u001b[0m \u001b[0m_disabled_torch_function_impl\u001b[0m\u001b[0;34m)\u001b[0m\u001b[0;34m\u001b[0m\u001b[0;34m\u001b[0m\u001b[0m\n",
      "\u001b[0;31mKeyboardInterrupt\u001b[0m: "
     ]
    }
   ],
   "source": [
    "\n",
    "folder = '/opt/ml/weights/{}'.format(config['model'])\n",
    "if not os.path.exists(folder):\n",
    "    os.mkdir(folder)\n",
    "\n",
    "for epoch in range(config['epochs']):\n",
    "    print(\"Epoch :\", epoch + 1)\n",
    "    train_running_loss = 0.0\n",
    "    train_running_correct = 0\n",
    "    counter = 0\n",
    "    total = 0\n",
    "    total_it = int(len(dataset_train)/train_dataloader.batch_size)\n",
    "    prog_bar = tqdm(enumerate(train_dataloader), total=total_it)\n",
    "    for i, (inputs, labels) in prog_bar:\n",
    "        \n",
    "        counter += 1\n",
    "        optimizer.zero_grad()\n",
    "        inputs = inputs.to(device)\n",
    "        outputs = model(inputs)\n",
    "        \n",
    "        del inputs\n",
    "        torch.cuda.empty_cache()\n",
    "        \n",
    "        labels = labels.to(device)\n",
    "        total += labels.size(0)\n",
    "    \n",
    "        \n",
    "        loss = cutmix_criterion(outputs, labels)\n",
    "        \n",
    "        del labels\n",
    "        torch.cuda.empty_cache()\n",
    "        \n",
    "        loss.backward()\n",
    "        optimizer.step()\n",
    "        \n",
    "        _, preds = torch.max(outputs.data, 1)\n",
    "#         train_running_correct += (preds == labels).sum().item()\n",
    "        \n",
    "        train_running_loss += loss.item()\n",
    "        \n",
    "        if i == total_it//2 or i == total_it-1:\n",
    "            train_loss = train_running_loss / counter\n",
    "#             train_accuracy = 100. * train_running_correct / total\n",
    "            \n",
    "            print(\"Train Loss :\", train_loss)\n",
    "#             print(\"Train Accuracy :\", train_accuracy)\n",
    "            wandb.log({\"Train Loss\" : train_loss})\n",
    "            check()\n",
    "    scheduler.step()\n",
    "    train_running_loss = 0.0\n",
    "    train_running_correct = 0\n",
    "print(\"Finish\")"
   ]
  },
  {
   "cell_type": "markdown",
   "id": "b5d8c054-35f0-460b-a26c-8d4bcf76981f",
   "metadata": {},
   "source": [
    "### Load Best Model"
   ]
  },
  {
   "cell_type": "code",
   "execution_count": 13,
   "id": "7d2ffe99-f672-4c06-a95f-bc9e6514776b",
   "metadata": {},
   "outputs": [
    {
     "data": {
      "text/plain": [
       "(<All keys matched successfully>, 0.7560301371312257)"
      ]
     },
     "execution_count": 13,
     "metadata": {},
     "output_type": "execute_result"
    }
   ],
   "source": [
    "model.load_state_dict(torch.load('/opt/ml/weights/{}/{:.4f}.pt'.format(config['model'], model.best_f1))), model.best_f1\n",
    "# model.load_state_dict(torch.load('/opt/ml/weights/{}/0.9786.pt'.format(config['model'])))"
   ]
  },
  {
   "cell_type": "markdown",
   "id": "72d88042-fc04-4f8f-a577-18d5a62f5b8a",
   "metadata": {},
   "source": [
    "## Testing"
   ]
  },
  {
   "cell_type": "code",
   "execution_count": null,
   "id": "a1f9301c-33a1-435c-8534-9d5ffb2f4d35",
   "metadata": {},
   "outputs": [],
   "source": [
    "# meta 데이터와 이미지 경로를 불러옵니다.\n",
    "test_dir = '/opt/ml/input/data/eval'\n",
    "submission = pd.read_csv(os.path.join(test_dir, 'info.csv'))\n",
    "image_dir = os.path.join(test_dir, 'images')\n",
    "\n",
    "# Test Dataset 클래스 객체를 생성하고 DataLoader를 만듭니다.\n",
    "image_paths = [os.path.join(image_dir, img_id) for img_id in submission.ImageID]\n",
    "dataset = TestDataset(image_paths, transform=test_transform)\n",
    "\n",
    "loader = DataLoader(\n",
    "    dataset,\n",
    "    batch_size=64,\n",
    "    shuffle=False,\n",
    "    batch_size=8,\n",
    "    num_workers=3\n",
    ")\n",
    "\n",
    "model.eval()\n",
    "# 모델이 테스트 데이터셋을 예측하고 결과를 저장합니다.\n",
    "all_predictions = []\n",
    "\n",
    "prog_bar = tqdm(enumerate(loader), total=int(len(dataset)/loader.batch_size))\n",
    "for i, images in prog_bar:\n",
    "    with torch.no_grad():\n",
    "        images = images.to(device)\n",
    "        pred = model(images)\n",
    "        pred = pred.argmax(dim=-1)\n",
    "        all_predictions.extend(pred.cpu().numpy())\n",
    "submission['ans'] = all_predictions\n",
    "\n",
    "# 제출할 파일을 저장합니다.\n",
    "submission.to_csv(os.path.join(test_dir, 'submission.csv'), index=False)\n",
    "print('test inference is done!')"
   ]
  },
  {
   "cell_type": "code",
   "execution_count": 16,
   "id": "ad864cf0-4577-4099-bf31-144020aea524",
   "metadata": {},
   "outputs": [
    {
     "name": "stdout",
     "output_type": "stream",
     "text": [
      "Mask\n",
      "Female\n",
      "30 ~ 60\n"
     ]
    },
    {
     "data": {
      "image/png": "[encoded data removed]",
      "text/plain": [
       "<Figure size 432x288 with 1 Axes>"
      ]
     },
     "metadata": {
      "needs_background": "light"
     },
     "output_type": "display_data"
    }
   ],
   "source": [
    "\n",
    "# meta 데이터와 이미지 경로를 불러옵니다.\n",
    "test_dir = '/opt/ml/input/data/eval'\n",
    "submission = pd.read_csv(os.path.join(test_dir, 'info.csv'))\n",
    "image_dir = os.path.join(test_dir, 'images')\n",
    "\n",
    "# Test Dataset 클래스 객체를 생성하고 DataLoader를 만듭니다.\n",
    "image_paths = [os.path.join(image_dir, img_id) for img_id in submission.ImageID]\n",
    "\n",
    "idx = 50\n",
    "image = cv2.imread(image_paths[idx])\n",
    "image = cv2.cvtColor(image, cv2.COLOR_BGR2RGB)\n",
    "plt.imshow(image)\n",
    "\n",
    "image = test_transform(image=image)['image'].to(device)\n",
    "image = image.unsqueeze(0)\n",
    "pred = model(image)\n",
    "label = np.argmax(pred.detach().cpu().numpy())\n",
    "\n",
    "masklabel = {0: \"Mask\", 1: \"Incorrect\", 2: \"Normal\"}\n",
    "genderlabel = {0: \"Male\", 1: \"Female\"}\n",
    "agelabel = {0: \"~ 30\", 1: \"30 ~ 60\", 2: \"60 ~\"}\n",
    "\n",
    "feature_to_label = {}\n",
    "features = [(m, g, a) for m in ['Mask', 'Incorrect', 'Normal'] for g in ['Male', 'Female'] for a in [\"~ 30\", \"30 ~ 60\", \"60 ~\"]]\n",
    "for i, (m, g, a) in enumerate(features):\n",
    "    feature_to_label[(m, g, a)] = i\n",
    "\n",
    "label_to_feature = { feature_to_label[k]:k for k in feature_to_label}\n",
    "m, g, a = label_to_feature[label]\n",
    "print(m)\n",
    "print(g)\n",
    "print(a)\n"
   ]
  },
  {
   "cell_type": "code",
   "execution_count": null,
   "id": "00159628-cbed-4f73-8c72-6bbecdfc4f01",
   "metadata": {},
   "outputs": [],
   "source": []
  }
 ],
 "metadata": {
  "kernelspec": {
   "display_name": "Python 3 (ipykernel)",
   "language": "python",
   "name": "python3"
  },
  "language_info": {
   "codemirror_mode": {
    "name": "ipython",
    "version": 3
   },
   "file_extension": ".py",
   "mimetype": "text/x-python",
   "name": "python",
   "nbconvert_exporter": "python",
   "pygments_lexer": "ipython3",
   "version": "3.8.5"
  }
 },
 "nbformat": 4,
 "nbformat_minor": 5
}
