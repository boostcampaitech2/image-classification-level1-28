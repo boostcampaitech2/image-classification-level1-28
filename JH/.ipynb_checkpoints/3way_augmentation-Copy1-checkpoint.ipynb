{
 "cells": [
  {
   "cell_type": "code",
   "execution_count": 32,
   "id": "cubic-scoop",
   "metadata": {},
   "outputs": [],
   "source": [
    "import os\n",
    "import pandas as pd\n",
    "import numpy as np\n",
    "from PIL import Image\n",
    "import matplotlib.pyplot as plt\n",
    "import albumentations as A\n",
    "import albumentations.pytorch\n",
    "import cv2\n",
    "\n",
    "import torch\n",
    "import torch.nn as nn\n",
    "import torch.nn.functional as F\n",
    "from torch.utils.data import Dataset, DataLoader\n",
    "\n",
    "from torchvision import transforms\n",
    "from torchvision.transforms import Resize, ToTensor, Normalize\n",
    "from tqdm import tqdm"
   ]
  },
  {
   "cell_type": "code",
   "execution_count": 33,
   "id": "eb8f33ff-a325-4a5e-95f9-27f0a0cb131c",
   "metadata": {},
   "outputs": [
    {
     "name": "stdout",
     "output_type": "stream",
     "text": [
      "CUDA GPU available : True\n",
      "1 GPU(s) is(are) allocated\n"
     ]
    }
   ],
   "source": [
    "print('CUDA GPU available : {}'.format(torch.cuda.is_available()))\n",
    "try:\n",
    "    print('{} GPU(s) is(are) allocated'.format(torch.cuda.device_count()))\n",
    "except:\n",
    "    print('GPUs are not allocated. Current runtime is on CPU.')\n",
    "device = torch.device(\"cuda\")\n",
    "CUDA_LAUNCH_BLOCKING=1"
   ]
  },
  {
   "cell_type": "code",
   "execution_count": 34,
   "id": "built-elevation",
   "metadata": {},
   "outputs": [],
   "source": [
    "# 테스트 데이터셋 폴더 경로를 지정해주세요.\n",
    "test_dir = '/opt/ml/input/data/eval'\n",
    "train_dir = '/opt/ml/input/data/train'\n",
    "\n",
    "labels_to_class = {}\n",
    "it = [(m, g, a) for m in [0,1,2] for g in [0, 1] for a in [0, 1, 2]]\n",
    "for i, (m, g, a) in enumerate(it):\n",
    "    labels_to_class[(m, g, a)] = i"
   ]
  },
  {
   "cell_type": "markdown",
   "id": "domestic-channels",
   "metadata": {},
   "source": [
    "## Dataset"
   ]
  },
  {
   "cell_type": "code",
   "execution_count": 35,
   "id": "extensive-north",
   "metadata": {},
   "outputs": [],
   "source": [
    "class TrainDataset(Dataset):\n",
    "    def __init__(self, train_dir, is_Train=True, transform=None):\n",
    "        super().__init__()\n",
    "        \n",
    "        csv_path = os.path.join(train_dir, 'train.csv')\n",
    "        csv = pd.read_csv(csv_path)\n",
    "        self.image_dir = os.path.join(train_dir, 'images')\n",
    "        self.transform = transform\n",
    "        self.image_path = []\n",
    "        path = csv['path']\n",
    "        \n",
    "        for p in path:\n",
    "            images = [os.path.join(*[self.image_dir, p, image]) for image in os.listdir(os.path.join(self.image_dir, p)) if not image[:1] == '.']\n",
    "            for image in images:\n",
    "                self.image_path.append(image)\n",
    "\n",
    "    def __len__(self):\n",
    "        return len(self.image_path)\n",
    "\n",
    "    def __getitem__(self, idx):\n",
    "        image_name = self.image_path[idx]\n",
    "        image = cv2.imread(image_name)\n",
    "        image = cv2.cvtColor(image, cv2.COLOR_BGR2RGB)\n",
    "        \n",
    "        features = image_name.split('/')[-2:]\n",
    "        \n",
    "        masktoint = {'m' : 0, 'i' : 1, 'n' : 2}\n",
    "        gendertoint = {'male' : 0, 'female' : 1}\n",
    "        \n",
    "        mask = masktoint[features[1][0]]\n",
    "        age = int(features[0].split('_')[-1])\n",
    "        gender = gendertoint[features[0].split('_')[1]]\n",
    "        \n",
    "        if age >= 58: # 원래 60\n",
    "            age = 2\n",
    "        elif age >= 30: # 원래 30\n",
    "            age = 1\n",
    "        else:\n",
    "            age = 0        \n",
    "        \n",
    "        if self.transform:\n",
    "            image = self.transform(image=image)['image']\n",
    "        \n",
    "        return image, (mask, gender, age)\n",
    "\n",
    "class TestDataset(Dataset):\n",
    "    def __init__(self, img_paths, transform):\n",
    "        self.img_paths = img_paths\n",
    "        self.transform = transform\n",
    "\n",
    "    def __getitem__(self, index):\n",
    "        image = cv2.imread(self.img_paths[index])\n",
    "        image = cv2.cvtColor(image, cv2.COLOR_BGR2RGB)\n",
    "        if self.transform:\n",
    "            image = self.transform(image=image)['image']\n",
    "        return image\n",
    "\n",
    "    def __len__(self):\n",
    "        return len(self.img_paths)"
   ]
  },
  {
   "cell_type": "code",
   "execution_count": 36,
   "id": "596e6a97-3fe9-458a-9455-ace9d7a99877",
   "metadata": {},
   "outputs": [],
   "source": [
    "from torch.utils.data.dataset import random_split\n",
    "tfms = A.Compose([\n",
    "        A.augmentations.crops.transforms.CenterCrop(400, 360, p=1.0),\n",
    "        A.augmentations.geometric.resize.Resize(224, 224, interpolation=1, p=1),\n",
    "        A.HorizontalFlip(p=0.5),\n",
    "        A.ShiftScaleRotate(shift_limit=0.05, scale_limit=0.05, rotate_limit=10, p=0.6),\n",
    "        A.RandomBrightnessContrast(brightness_limit=0.1, p=0.6),\n",
    "        A.GaussNoise(p=0.5),\n",
    "        A.transforms.Normalize(mean=(0.485, 0.456, 0.406), std=(0.229, 0.224, 0.225), max_pixel_value=255.0, p=1.0),\n",
    "        A.pytorch.transforms.ToTensorV2(),\n",
    "    ])\n",
    "tfms_test = A.Compose([\n",
    "        A.augmentations.crops.transforms.CenterCrop(400, 360, p=1.0),\n",
    "        A.augmentations.geometric.resize.Resize(224, 224, interpolation=1, p=1),\n",
    "        A.transforms.Normalize(mean=(0.485, 0.456, 0.406), std=(0.229, 0.224, 0.225), max_pixel_value=255.0, p=1.0),\n",
    "        A.pytorch.transforms.ToTensorV2(),\n",
    "    ])\n",
    "dataset = TrainDataset(train_dir, transform=tfms)\n",
    "train_dataset, val_dataset = random_split(dataset, [int(len(dataset)*0.8),int(len(dataset)*0.2)])\n",
    "# print(len(dataset))\n",
    "# plt.imshow(np.array(train_dataset[312][0]['image'].permute(1,2,0)))\n",
    "train_loader = DataLoader(train_dataset, batch_size=32, shuffle=True, num_workers=4, drop_last=False)\n",
    "val_loader   = DataLoader(dataset=val_dataset, num_workers=4, batch_size=32)"
   ]
  },
  {
   "cell_type": "code",
   "execution_count": 37,
   "id": "6aeacde3-f357-4129-a73a-2000a48d315f",
   "metadata": {},
   "outputs": [],
   "source": [
    "# plt.imshow(np.array(train_dataset[312][0]['image'].permute(1,2,0)))"
   ]
  },
  {
   "cell_type": "markdown",
   "id": "21006028-25ad-4414-8bae-730a3bcc33e2",
   "metadata": {
    "tags": []
   },
   "source": [
    "## Model"
   ]
  },
  {
   "cell_type": "code",
   "execution_count": 38,
   "id": "a3174fa2-72d4-475b-bffd-ad23c4669521",
   "metadata": {},
   "outputs": [
    {
     "name": "stdout",
     "output_type": "stream",
     "text": [
      "Loaded pretrained weights for efficientnet-b6\n"
     ]
    }
   ],
   "source": [
    "from efficientnet_pytorch import EfficientNet\n",
    "\n",
    "class Way3(nn.Module):\n",
    "    def __init__(self):\n",
    "        super().__init__()\n",
    "        self.convnet = EfficientNet.from_pretrained('efficientnet-b6', num_classes=512).to(device)\n",
    "        self.mask = nn.Sequential(\n",
    "            nn.LeakyReLU(),\n",
    "            nn.Dropout(p=0.5, inplace=False),\n",
    "            nn.Linear(512, 128),\n",
    "            nn.LeakyReLU(),\n",
    "            nn.Dropout(p=0.5, inplace=False),\n",
    "            nn.Linear(128, 3),\n",
    "            nn.Softmax(dim=1)\n",
    "        )\n",
    "        self.gender = nn.Sequential(\n",
    "            nn.LeakyReLU(),\n",
    "            nn.Dropout(p=0.5, inplace=False),\n",
    "            nn.Linear(512, 128),\n",
    "            nn.LeakyReLU(),\n",
    "            nn.Dropout(p=0.5, inplace=False),\n",
    "            nn.Linear(128, 2),\n",
    "            nn.Softmax(dim=1)\n",
    "        )\n",
    "        self.age = nn.Sequential(\n",
    "            nn.LeakyReLU(),\n",
    "            nn.Dropout(p=0.5, inplace=False),\n",
    "            nn.Linear(512, 128),\n",
    "            nn.LeakyReLU(),\n",
    "            nn.Dropout(p=0.5, inplace=False),\n",
    "            nn.Linear(128, 3),\n",
    "            nn.Softmax(dim=1)\n",
    "        )\n",
    "        self.best_f1 = 0\n",
    "        \n",
    "    def forward(self, x):\n",
    "        features = self.convnet(x)\n",
    "        mask = self.mask(features)\n",
    "        gender = self.gender(features)\n",
    "        age = self.age(features)\n",
    "        \n",
    "        return mask, gender, age\n",
    "    \n",
    "model = Way3().to(device)"
   ]
  },
  {
   "cell_type": "code",
   "execution_count": 39,
   "id": "f4b1aa9f-2fa1-417f-9e3e-7f160fef7d4c",
   "metadata": {},
   "outputs": [
    {
     "name": "stdout",
     "output_type": "stream",
     "text": [
      "Adjusting learning rate of group 0 to 1.8000e-04.\n"
     ]
    }
   ],
   "source": [
    "import torch.optim as optim\n",
    "lr = 1.8e-4\n",
    "\n",
    "w_gender = torch.tensor([1.4, 1.0]).to(device)\n",
    "w_age = torch.tensor([1.0, 1.2, 3.5]).to(device)\n",
    "\n",
    "criterion = nn.CrossEntropyLoss()\n",
    "gender_criterion = nn.CrossEntropyLoss(w_gender)\n",
    "age_criterion = nn.CrossEntropyLoss(weight=w_age)\n",
    "# b_criterion = nn.BCEWithLogitsLoss()\n",
    "# criterion = FocalLoss()\n",
    "optimizer = optim.AdamW(model.parameters(), lr=lr)\n",
    "scheduler = optim.lr_scheduler.StepLR(optimizer, step_size=1, gamma=0.85, verbose=True)"
   ]
  },
  {
   "cell_type": "code",
   "execution_count": 21,
   "id": "84d269a9-9771-4364-a927-b06cf5ac86e6",
   "metadata": {},
   "outputs": [],
   "source": [
    "from sklearn.metrics import accuracy_score\n",
    "from sklearn.metrics import confusion_matrix\n",
    "\n",
    "def check(loader, length, model, device):\n",
    "    model.eval()\n",
    "    y_true = []\n",
    "    y_predicted = []\n",
    "\n",
    "    m_acc = []\n",
    "    g_acc = []\n",
    "    a_acc = []\n",
    "    with torch.no_grad():\n",
    "        for (inputs, (m, g, a)) in val_loader:\n",
    "            for mask, gender, age in zip(m, g, a):\n",
    "                answer = labels_to_class[(mask.item(), gender.item(), age.item())]\n",
    "                y_true.append(answer)\n",
    "\n",
    "            inputs = inputs.to(device=device)\n",
    "            m = m.to(device)\n",
    "            g = g.to(device)\n",
    "            a = a.to(device)\n",
    "\n",
    "            m_pred, g_pred, a_pred = model(inputs)\n",
    "\n",
    "            m_argmax = m_pred.detach().cpu().numpy().argmax(1)\n",
    "            g_argmax = g_pred.detach().cpu().numpy().argmax(1)\n",
    "            a_argmax = a_pred.detach().cpu().numpy().argmax(1)\n",
    "\n",
    "            m_acc.append(accuracy_score(m_argmax, m.detach().cpu().numpy()))\n",
    "            g_acc.append(accuracy_score(g_argmax, g.detach().cpu().numpy()))\n",
    "            a_acc.append(accuracy_score(a_argmax, a.detach().cpu().numpy()))\n",
    "\n",
    "            for mask, gender, age in zip(m_argmax, g_argmax, a_argmax):\n",
    "                predicted = labels_to_class[(mask.item(), gender.item(), age.item())]\n",
    "                y_predicted.append(predicted)\n",
    "    \n",
    "    cm = confusion_matrix(y_true, y_predicted)\n",
    "    F1 = []\n",
    "    for c in range(18):\n",
    "        precision = cm[c][c] / np.sum(cm, axis=0)[c]\n",
    "        recall = cm[c][c] / np.sum(cm, axis=1)[c]\n",
    "        F1.append(2 * precision * recall / (precision + recall))\n",
    "    macro_F1 = np.mean(F1)\n",
    "\n",
    "    s = 0\n",
    "    for c in range(18):\n",
    "        s += cm[c][c]\n",
    "        \n",
    "    print(\"< VALIDATION >\")\n",
    "    print(\"Total Accuracy\")\n",
    "    print(s / length * 100, \"%\")\n",
    "    print(\"-\"*73)\n",
    "    print(\"Class Accuracy\")\n",
    "    print(\"Mask   :\", np.mean(m_acc)*100, \"%\")\n",
    "    print(\"Gender :\", np.mean(g_acc)*100, \"%\")\n",
    "    print(\"Age    :\", np.mean(a_acc)*100, \"%\")\n",
    "    print(\"-\"*73)\n",
    "    print(\"Confusion Matrix\")\n",
    "    for row in cm:\n",
    "        print(row)\n",
    "    print(\"-\"*73)\n",
    "    print(\"Validation F1 score :\" , macro_F1)\n",
    "    if model.best_f1 < macro_F1:\n",
    "        model.best_f1 = macro_F1\n",
    "        torch.save(model.state_dict(), '/opt/ml/weights/3way/Aug_{}.pt'.format(model.best_f1))\n",
    "        print(\"model saved!\")\n",
    "    print(\"*\"*73)\n",
    "    print()\n",
    "    \n",
    "        \n",
    "    model.train()"
   ]
  },
  {
   "cell_type": "code",
   "execution_count": 10,
   "id": "6c9ce6db-56eb-4d50-8793-5caa75b7bec6",
   "metadata": {},
   "outputs": [
    {
     "name": "stdout",
     "output_type": "stream",
     "text": [
      "Epoch : 1\n"
     ]
    },
    {
     "name": "stderr",
     "output_type": "stream",
     "text": [
      " 50%|█████     | 506/1012 [03:47<03:45,  2.25it/s]"
     ]
    },
    {
     "name": "stdout",
     "output_type": "stream",
     "text": [
      "Loss : 1.8735834656382453\n",
      "< VALIDATION >\n",
      "Total Accuracy\n",
      "75.1111111111111 %\n",
      "-------------------------------------------------------------------------\n",
      "Class Accuracy\n",
      "Mask   : 98.05610236220473 %\n",
      "Gender : 95.60777559055119 %\n",
      "Age    : 80.30265748031496 %\n",
      "-------------------------------------------------------------------------\n",
      "Confusion Matrix\n",
      "[547   0   0  28   0   0   0   0   0   0   0   0   0   0   0   0   0   0]\n",
      "[ 56 179  35   8  18   0   0   0   0   0   0   0   0   0   0   0   0   0]\n",
      "[  3  46 115   0   1   1   0   0   0   0   0   0   0   0   0   0   0   0]\n",
      "[  7   0   0 724   8   0   0   0   0   0   0   0   0   0   0   0   0   0]\n",
      "[  1   5   1  91 430 168   0   0   0   0   1   0   0   0   0   0   0   0]\n",
      "[  0   2   4   2  67 183   0   0   0   0   0   0   0   0   0   0   0   0]\n",
      "[  6   0   0   0   0   0 406   1   1 173   0   0   2   0   0   0   0   0]\n",
      "[  1   2   3   2   0   0  44  91 166   6   2   1   0   0   0   0   0   0]\n",
      "[  0   1   8   0   0   0   0  12 152   0   0   1   0   0   3   0   0   0]\n",
      "[  0   0   0  18   0   0   4   0   1 681   4   0   0   0   0   7   0   0]\n",
      "[  0   0   0   0  10  15   7   4  14  76 250 262   0   0   0   0   0  16]\n",
      "[  0   0   2   0   0  27   1   2  13   1  28 144   0   0   0   0   0  34]\n",
      "[  0   0   0   0   0   0   0   0   0   0   0   0 536   5   1  11   1   0]\n",
      "[  0   0   0   0   0   0   0   0   0   0   0   0  31 212  73   3   8   1]\n",
      "[  0   0   0   0   0   0   0   0   0   0   0   0   0  29 152   0   1   0]\n",
      "[  0   0   0   0   0   0   0   0   0   0   0   0   6   1   0 690  27   0]\n",
      "[  0   0   0   0   0   0   0   0   0   0   0   0   1   6   4  13 369 230]\n",
      "[  0   0   0   0   0   0   0   0   0   0   0   0   0   1   4   0  25 223]\n",
      "-------------------------------------------------------------------------\n",
      "Validation F1 score : 0.7028989980742336\n"
     ]
    },
    {
     "name": "stderr",
     "output_type": "stream",
     "text": [
      " 50%|█████     | 507/1012 [04:15<1:13:39,  8.75s/it]"
     ]
    },
    {
     "name": "stdout",
     "output_type": "stream",
     "text": [
      "model saved!\n",
      "*************************************************************************\n",
      "\n"
     ]
    },
    {
     "name": "stderr",
     "output_type": "stream",
     "text": [
      "100%|█████████▉| 1011/1012 [08:00<00:00,  2.24it/s] "
     ]
    },
    {
     "name": "stdout",
     "output_type": "stream",
     "text": [
      "Loss : 1.7600268530751406\n",
      "< VALIDATION >\n",
      "Total Accuracy\n",
      "84.85185185185186 %\n",
      "-------------------------------------------------------------------------\n",
      "Class Accuracy\n",
      "Mask   : 99.38484251968504 %\n",
      "Gender : 98.73277559055119 %\n",
      "Age    : 86.31889763779527 %\n",
      "-------------------------------------------------------------------------\n",
      "Confusion Matrix\n",
      "[559   9   0   6   0   1   0   0   0   0   0   0   0   0   0   0   0   0]\n",
      "[ 14 236  41   0   3   1   0   0   1   0   0   0   0   0   0   0   0   0]\n",
      "[  0  26 140   0   0   0   0   0   0   0   0   0   0   0   0   0   0   0]\n",
      "[ 11   0   0 717   5   3   0   0   0   3   0   0   0   0   0   0   0   0]\n",
      "[  0   8   0  48 440 195   0   0   0   1   1   4   0   0   0   0   0   0]\n",
      "[  0   6   1   0  27 215   0   0   0   0   0   9   0   0   0   0   0   0]\n",
      "[  3   0   0   0   0   0 569  12   0   4   0   0   1   0   0   0   0   0]\n",
      "[  0   2   0   1   0   0   9 223  80   1   1   1   0   0   0   0   0   0]\n",
      "[  0   0   1   0   0   0   0  15 161   0   0   0   0   0   0   0   0   0]\n",
      "[  0   0   0   3   0   0  14   0   0 693   2   1   0   0   0   2   0   0]\n",
      "[  0   0   0   0   4   1   2   5   1  53 408 179   0   0   0   0   0   1]\n",
      "[  0   0   0   0   2   2   0   1   2   0  19 226   0   0   0   0   0   0]\n",
      "[  0   0   0   0   0   0   0   0   0   0   0   0 534  17   0   3   0   0]\n",
      "[  0   0   0   0   0   0   0   0   0   0   0   0   7 300  13   2   3   3]\n",
      "[ 0  0  0  0  0  0  0  0  0  0  0  0  0 87 94  0  0  1]\n",
      "[  0   0   0   0   0   0   0   0   0   0   0   0   8   0   0 711   5   0]\n",
      "[  0   0   0   0   0   0   0   0   0   0   0   3   2   9   0  21 433 155]\n",
      "[  0   0   0   0   0   0   0   0   0   0   0   5   0   2   0   0  32 214]\n",
      "-------------------------------------------------------------------------\n",
      "Validation F1 score : 0.8130213844628288\n"
     ]
    },
    {
     "name": "stderr",
     "output_type": "stream",
     "text": [
      "100%|██████████| 1012/1012 [08:28<00:00,  8.75s/it]"
     ]
    },
    {
     "name": "stdout",
     "output_type": "stream",
     "text": [
      "model saved!\n",
      "*************************************************************************\n",
      "\n"
     ]
    },
    {
     "name": "stderr",
     "output_type": "stream",
     "text": [
      "1013it [08:29,  1.99it/s]                          "
     ]
    },
    {
     "name": "stdout",
     "output_type": "stream",
     "text": [
      "Adjusting learning rate of group 0 to 1.5300e-04.\n",
      "Epoch : 2\n"
     ]
    },
    {
     "name": "stderr",
     "output_type": "stream",
     "text": [
      "\n",
      " 50%|█████     | 506/1012 [03:47<03:48,  2.22it/s]"
     ]
    },
    {
     "name": "stdout",
     "output_type": "stream",
     "text": [
      "Loss : 1.5925527176208045\n",
      "< VALIDATION >\n",
      "Total Accuracy\n",
      "87.79012345679013 %\n",
      "-------------------------------------------------------------------------\n",
      "Class Accuracy\n",
      "Mask   : 99.64320866141733 %\n",
      "Gender : 98.86811023622047 %\n",
      "Age    : 89.0994094488189 %\n",
      "-------------------------------------------------------------------------\n",
      "Confusion Matrix\n",
      "[567   4   0   4   0   0   0   0   0   0   0   0   0   0   0   0   0   0]\n",
      "[ 14 205  72   0   4   0   0   0   0   0   1   0   0   0   0   0   0   0]\n",
      "[  0   7 159   0   0   0   0   0   0   0   0   0   0   0   0   0   0   0]\n",
      "[ 12   0   0 706  19   1   0   0   0   1   0   0   0   0   0   0   0   0]\n",
      "[  0   1   0  39 515 142   0   0   0   0   0   0   0   0   0   0   0   0]\n",
      "[  0   1   2   0  39 216   0   0   0   0   0   0   0   0   0   0   0   0]\n",
      "[  3   0   0   0   0   0 579   2   0   5   0   0   0   0   0   0   0   0]\n",
      "[  0   1   0   0   0   0  16 205  94   0   2   0   0   0   0   0   0   0]\n",
      "[  0   0   0   0   0   0   0  11 166   0   0   0   0   0   0   0   0   0]\n",
      "[  0   0   0   6   0   0  12   0   0 692   5   0   0   0   0   0   0   0]\n",
      "[  0   0   0   0   2   2   3   3   3  38 495 107   0   0   0   0   0   1]\n",
      "[  0   0   0   0   0   7   0   1   9   0  26 205   0   0   0   0   0   4]\n",
      "[  0   0   0   0   0   0   0   0   0   0   0   0 553   0   0   1   0   0]\n",
      "[  0   0   0   0   0   0   0   0   0   0   0   0  18 239  68   1   2   0]\n",
      "[  0   0   0   0   0   0   0   0   1   0   0   0   0  14 167   0   0   0]\n",
      "[  0   0   0   0   0   0   0   0   0   0   0   0   8   0   0 715   1   0]\n",
      "[  0   0   0   0   0   0   0   0   0   0   0   0   2   9   1  25 508  78]\n",
      "[  0   0   0   0   0   0   0   0   0   0   0   0   0   2   3   0  29 219]\n",
      "-------------------------------------------------------------------------\n",
      "Validation F1 score : 0.8443261455962238\n"
     ]
    },
    {
     "name": "stderr",
     "output_type": "stream",
     "text": [
      " 50%|█████     | 507/1012 [04:15<1:15:22,  8.95s/it]"
     ]
    },
    {
     "name": "stdout",
     "output_type": "stream",
     "text": [
      "model saved!\n",
      "*************************************************************************\n",
      "\n"
     ]
    },
    {
     "name": "stderr",
     "output_type": "stream",
     "text": [
      "100%|█████████▉| 1011/1012 [08:01<00:00,  2.25it/s] "
     ]
    },
    {
     "name": "stdout",
     "output_type": "stream",
     "text": [
      "Loss : 1.577516503484824\n",
      "< VALIDATION >\n",
      "Total Accuracy\n",
      "89.09876543209877 %\n",
      "-------------------------------------------------------------------------\n",
      "Class Accuracy\n",
      "Mask   : 99.54478346456693 %\n",
      "Gender : 99.01574803149606 %\n",
      "Age    : 90.40354330708661 %\n",
      "-------------------------------------------------------------------------\n",
      "Confusion Matrix\n",
      "[549  14   2  10   0   0   0   0   0   0   0   0   0   0   0   0   0   0]\n",
      "[  9 265  15   0   6   0   0   1   0   0   0   0   0   0   0   0   0   0]\n",
      "[  0  29 135   0   0   0   0   0   0   0   0   0   0   0   2   0   0   0]\n",
      "[  6   0   0 716  16   1   0   0   0   0   0   0   0   0   0   0   0   0]\n",
      "[  0   2   0  16 481 195   0   0   0   0   2   0   0   0   0   0   1   0]\n",
      "[  0   1   0   0  31 225   0   0   0   0   0   0   0   0   0   0   0   1]\n",
      "[  3   1   0   0   0   0 558  19   0   5   0   0   3   0   0   0   0   0]\n",
      "[  0   0   0   0   1   0   4 278  34   0   1   0   0   0   0   0   0   0]\n",
      "[  0   0   0   0   0   0   0  34 143   0   0   0   0   0   0   0   0   0]\n",
      "[  0   0   0   8   0   0  10   1   0 684   9   0   0   0   0   3   0   0]\n",
      "[  0   0   0   0   1   2   1   7   0  12 573  58   0   0   0   0   0   0]\n",
      "[  0   0   0   0   0   5   0   2   0   0  50 192   0   0   0   0   0   3]\n",
      "[  0   0   0   0   0   0   0   0   0   0   0   0 538   9   0   7   0   0]\n",
      "[  0   0   0   0   0   0   0   0   0   0   0   0   8 288  28   1   3   0]\n",
      "[  0   0   0   0   0   0   0   0   0   0   0   0   0  24 158   0   0   0]\n",
      "[  0   0   0   0   0   0   0   0   0   0   0   0   6   0   0 714   4   0]\n",
      "[  0   0   0   0   0   0   0   0   0   0   0   0   1   5   3  20 506  88]\n",
      "[  0   0   0   0   0   0   0   0   0   0   0   0   0   0   1   0  38 214]\n",
      "-------------------------------------------------------------------------\n",
      "Validation F1 score : 0.8669465392673579\n"
     ]
    },
    {
     "name": "stderr",
     "output_type": "stream",
     "text": [
      "100%|██████████| 1012/1012 [08:29<00:00,  8.85s/it]"
     ]
    },
    {
     "name": "stdout",
     "output_type": "stream",
     "text": [
      "model saved!\n",
      "*************************************************************************\n",
      "\n"
     ]
    },
    {
     "name": "stderr",
     "output_type": "stream",
     "text": [
      "1013it [08:29,  1.99it/s]                          "
     ]
    },
    {
     "name": "stdout",
     "output_type": "stream",
     "text": [
      "Adjusting learning rate of group 0 to 1.3005e-04.\n",
      "Epoch : 3\n"
     ]
    },
    {
     "name": "stderr",
     "output_type": "stream",
     "text": [
      "\n",
      " 50%|█████     | 506/1012 [03:47<03:45,  2.24it/s]"
     ]
    },
    {
     "name": "stdout",
     "output_type": "stream",
     "text": [
      "Loss : 1.5478907506141437\n",
      "< VALIDATION >\n",
      "Total Accuracy\n",
      "91.5679012345679 %\n",
      "-------------------------------------------------------------------------\n",
      "Class Accuracy\n",
      "Mask   : 99.81545275590551 %\n",
      "Gender : 99.02805118110236 %\n",
      "Age    : 92.60580708661418 %\n",
      "-------------------------------------------------------------------------\n",
      "Confusion Matrix\n",
      "[566   0   0   7   0   0   2   0   0   0   0   0   0   0   0   0   0   0]\n",
      "[ 17 233  43   1   1   0   0   1   0   0   0   0   0   0   0   0   0   0]\n",
      "[  0  10 156   0   0   0   0   0   0   0   0   0   0   0   0   0   0   0]\n",
      "[  8   0   0 716  13   0   0   0   0   2   0   0   0   0   0   0   0   0]\n",
      "[  1   2   0  24 604  66   0   0   0   0   0   0   0   0   0   0   0   0]\n",
      "[  0   2   0   0  45 211   0   0   0   0   0   0   0   0   0   0   0   0]\n",
      "[  0   0   0   0   0   0 581   1   0   7   0   0   0   0   0   0   0   0]\n",
      "[  0   0   0   0   0   0  16 268  31   0   3   0   0   0   0   0   0   0]\n",
      "[  0   0   0   0   0   0   1  17 156   0   0   3   0   0   0   0   0   0]\n",
      "[  0   0   0   1   0   0   7   0   0 697   9   0   0   0   0   1   0   0]\n",
      "[  0   0   0   0   1   0   0   5   0  12 568  68   0   0   0   0   0   0]\n",
      "[  0   0   0   0   2   5   1   1   0   0  29 214   0   0   0   0   0   0]\n",
      "[  0   0   0   0   0   0   0   0   0   0   0   0 543   0   0  11   0   0]\n",
      "[  0   0   0   0   0   0   0   0   0   0   0   0  11 267  40   0   7   3]\n",
      "[  0   0   0   0   0   0   0   0   0   0   0   0   0  12 168   0   0   2]\n",
      "[  0   0   0   0   0   0   0   0   0   0   0   0   6   0   0 712   5   1]\n",
      "[  0   0   0   0   0   0   0   0   0   0   0   0   1   0   0   6 544  72]\n",
      "[  0   0   0   0   0   0   0   0   0   0   0   0   0   0   0   0  40 213]\n",
      "-------------------------------------------------------------------------\n",
      "Validation F1 score : 0.8920992232990296\n"
     ]
    },
    {
     "name": "stderr",
     "output_type": "stream",
     "text": [
      " 50%|█████     | 507/1012 [04:15<1:13:58,  8.79s/it]"
     ]
    },
    {
     "name": "stdout",
     "output_type": "stream",
     "text": [
      "model saved!\n",
      "*************************************************************************\n",
      "\n"
     ]
    },
    {
     "name": "stderr",
     "output_type": "stream",
     "text": [
      "100%|█████████▉| 1011/1012 [08:01<00:00,  2.19it/s] "
     ]
    },
    {
     "name": "stdout",
     "output_type": "stream",
     "text": [
      "Loss : 1.5418870314779018\n",
      "< VALIDATION >\n",
      "Total Accuracy\n",
      "92.7037037037037 %\n",
      "-------------------------------------------------------------------------\n",
      "Class Accuracy\n",
      "Mask   : 99.75393700787401 %\n",
      "Gender : 99.33562992125984 %\n",
      "Age    : 93.60236220472441 %\n",
      "-------------------------------------------------------------------------\n",
      "Confusion Matrix\n",
      "[564   3   0   7   0   0   1   0   0   0   0   0   0   0   0   0   0   0]\n",
      "[ 15 249  31   0   0   1   0   0   0   0   0   0   0   0   0   0   0   0]\n",
      "[  0   7 159   0   0   0   0   0   0   0   0   0   0   0   0   0   0   0]\n",
      "[  7   0   0 716  13   2   0   0   0   1   0   0   0   0   0   0   0   0]\n",
      "[  0   3   0  16 587  90   0   0   0   0   1   0   0   0   0   0   0   0]\n",
      "[  0   0   0   0  31 227   0   0   0   0   0   0   0   0   0   0   0   0]\n",
      "[  1   0   0   0   0   0 582   4   0   2   0   0   0   0   0   0   0   0]\n",
      "[  0   1   0   0   0   0   8 261  45   0   3   0   0   0   0   0   0   0]\n",
      "[  0   0   1   0   0   0   0  11 165   0   0   0   0   0   0   0   0   0]\n",
      "[  0   0   0   2   0   0   7   0   0 690   9   4   0   0   0   3   0   0]\n",
      "[  0   1   0   0   2   0   0   3   0   8 605  35   0   0   0   0   0   0]\n",
      "[  0   0   0   0   0   6   0   0   1   0  31 214   0   0   0   0   0   0]\n",
      "[  0   0   0   0   0   0   0   0   0   0   0   0 547   5   0   2   0   0]\n",
      "[  0   0   0   0   0   0   0   0   0   0   0   0   7 280  39   0   2   0]\n",
      "[  0   0   0   0   0   0   0   0   0   0   0   0   0  10 172   0   0   0]\n",
      "[  0   0   0   0   0   0   0   0   0   0   0   0   6   0   0 709   9   0]\n",
      "[  0   0   0   0   0   0   0   0   0   0   0   0   0   6   0   6 555  56]\n",
      "[  0   0   0   0   0   0   0   0   0   0   0   0   0   1   2   0  23 227]\n",
      "-------------------------------------------------------------------------\n",
      "Validation F1 score : 0.9067424634477881\n"
     ]
    },
    {
     "name": "stderr",
     "output_type": "stream",
     "text": [
      "100%|██████████| 1012/1012 [08:29<00:00,  8.79s/it]"
     ]
    },
    {
     "name": "stdout",
     "output_type": "stream",
     "text": [
      "model saved!\n",
      "*************************************************************************\n",
      "\n"
     ]
    },
    {
     "name": "stderr",
     "output_type": "stream",
     "text": [
      "1013it [08:29,  1.99it/s]                          "
     ]
    },
    {
     "name": "stdout",
     "output_type": "stream",
     "text": [
      "Adjusting learning rate of group 0 to 1.1054e-04.\n",
      "Epoch : 4\n"
     ]
    },
    {
     "name": "stderr",
     "output_type": "stream",
     "text": [
      "\n",
      " 50%|█████     | 506/1012 [03:47<03:45,  2.24it/s]"
     ]
    },
    {
     "name": "stdout",
     "output_type": "stream",
     "text": [
      "Loss : 1.502138459941104\n",
      "< VALIDATION >\n",
      "Total Accuracy\n",
      "94.53086419753086 %\n",
      "-------------------------------------------------------------------------\n",
      "Class Accuracy\n",
      "Mask   : 99.87696850393701 %\n",
      "Gender : 99.23720472440945 %\n",
      "Age    : 95.3863188976378 %\n",
      "-------------------------------------------------------------------------\n",
      "Confusion Matrix\n",
      "[570   1   0   3   0   0   1   0   0   0   0   0   0   0   0   0   0   0]\n",
      "[  9 253  30   0   4   0   0   0   0   0   0   0   0   0   0   0   0   0]\n",
      "[  0   6 160   0   0   0   0   0   0   0   0   0   0   0   0   0   0   0]\n",
      "[ 10   0   0 715  14   0   0   0   0   0   0   0   0   0   0   0   0   0]\n",
      "[  0   0   0   3 660  34   0   0   0   0   0   0   0   0   0   0   0   0]\n",
      "[  0   0   0   0  48 210   0   0   0   0   0   0   0   0   0   0   0   0]\n",
      "[  1   0   0   0   0   0 582   1   0   4   0   0   1   0   0   0   0   0]\n",
      "[  0   1   0   0   0   0   4 279  31   0   3   0   0   0   0   0   0   0]\n",
      "[  0   0   0   0   0   0   0   9 168   0   0   0   0   0   0   0   0   0]\n",
      "[  0   0   0   1   0   0   8   0   0 692  10   3   0   0   0   1   0   0]\n",
      "[  0   0   0   0   1   0   1   0   0   7 609  36   0   0   0   0   0   0]\n",
      "[  0   0   0   0   2   1   0   0   0   0  20 229   0   0   0   0   0   0]\n",
      "[  0   0   0   0   0   0   0   0   0   0   0   0 540   0   0  14   0   0]\n",
      "[  0   0   0   0   0   0   0   0   0   0   0   0   7 289  22   0   9   1]\n",
      "[  0   0   0   0   0   0   0   0   0   0   0   0   0  11 171   0   0   0]\n",
      "[  0   0   0   0   0   0   0   0   0   0   0   0   5   0   0 714   5   0]\n",
      "[  0   0   0   0   0   0   0   0   0   0   0   0   0   0   0   5 598  20]\n",
      "[  0   0   0   0   0   0   0   0   0   0   0   0   0   0   0   0  35 218]\n",
      "-------------------------------------------------------------------------\n",
      "Validation F1 score : 0.9295776292757986\n"
     ]
    },
    {
     "name": "stderr",
     "output_type": "stream",
     "text": [
      " 50%|█████     | 507/1012 [04:15<1:14:03,  8.80s/it]"
     ]
    },
    {
     "name": "stdout",
     "output_type": "stream",
     "text": [
      "model saved!\n",
      "*************************************************************************\n",
      "\n"
     ]
    },
    {
     "name": "stderr",
     "output_type": "stream",
     "text": [
      "100%|█████████▉| 1011/1012 [08:01<00:00,  2.25it/s] "
     ]
    },
    {
     "name": "stdout",
     "output_type": "stream",
     "text": [
      "Loss : 1.500398866037135\n"
     ]
    },
    {
     "name": "stderr",
     "output_type": "stream",
     "text": [
      "100%|██████████| 1012/1012 [08:29<00:00,  8.83s/it]"
     ]
    },
    {
     "name": "stdout",
     "output_type": "stream",
     "text": [
      "< VALIDATION >\n",
      "Total Accuracy\n",
      "92.8641975308642 %\n",
      "-------------------------------------------------------------------------\n",
      "Class Accuracy\n",
      "Mask   : 99.79084645669292 %\n",
      "Gender : 99.13877952755905 %\n",
      "Age    : 93.7746062992126 %\n",
      "-------------------------------------------------------------------------\n",
      "Confusion Matrix\n",
      "[572   0   0   3   0   0   0   0   0   0   0   0   0   0   0   0   0   0]\n",
      "[ 17 237  40   0   0   0   0   2   0   0   0   0   0   0   0   0   0   0]\n",
      "[  0   3 163   0   0   0   0   0   0   0   0   0   0   0   0   0   0   0]\n",
      "[  9   1   0 710  14   3   0   0   0   2   0   0   0   0   0   0   0   0]\n",
      "[  0   5   2  13 528 146   0   0   0   1   2   0   0   0   0   0   0   0]\n",
      "[  0   1   4   0  18 234   0   0   0   0   0   1   0   0   0   0   0   0]\n",
      "[  1   0   0   0   0   0 586   0   0   2   0   0   0   0   0   0   0   0]\n",
      "[  0   0   0   0   0   0  11 278  27   0   2   0   0   0   0   0   0   0]\n",
      "[  0   0   0   0   0   0   0   7 170   0   0   0   0   0   0   0   0   0]\n",
      "[  0   0   0   2   0   0   8   0   0 698   5   1   0   0   0   1   0   0]\n",
      "[  0   0   0   0   0   0   1   4   2  16 586  45   0   0   0   0   0   0]\n",
      "[  0   0   0   0   3   1   0   2   1   0  19 225   0   0   0   0   0   1]\n",
      "[  0   0   0   0   0   0   0   0   0   0   0   0 548   0   0   6   0   0]\n",
      "[  0   0   0   0   0   0   0   0   0   0   0   0  10 292  19   0   7   0]\n",
      "[  0   0   0   0   0   0   0   0   0   0   0   0   0   8 173   0   1   0]\n",
      "[  0   0   0   0   0   0   0   0   0   0   0   0   5   0   0 715   4   0]\n",
      "[  0   0   0   0   0   0   0   0   0   0   0   0   0   1   0   8 579  35]\n",
      "[  0   0   0   0   0   0   0   0   0   0   0   0   0   1   2   0  22 228]\n",
      "-------------------------------------------------------------------------\n",
      "Validation F1 score : 0.9128719504909962\n",
      "*************************************************************************\n",
      "\n"
     ]
    },
    {
     "name": "stderr",
     "output_type": "stream",
     "text": [
      "1013it [08:29,  1.99it/s]                          "
     ]
    },
    {
     "name": "stdout",
     "output_type": "stream",
     "text": [
      "Adjusting learning rate of group 0 to 9.3961e-05.\n",
      "Epoch : 5\n"
     ]
    },
    {
     "name": "stderr",
     "output_type": "stream",
     "text": [
      "\n",
      " 50%|█████     | 506/1012 [03:47<03:47,  2.22it/s]"
     ]
    },
    {
     "name": "stdout",
     "output_type": "stream",
     "text": [
      "Loss : 1.4821921349512284\n",
      "< VALIDATION >\n",
      "Total Accuracy\n",
      "94.8395061728395 %\n",
      "-------------------------------------------------------------------------\n",
      "Class Accuracy\n",
      "Mask   : 99.68011811023622 %\n",
      "Gender : 99.32332677165354 %\n",
      "Age    : 95.78001968503938 %\n",
      "-------------------------------------------------------------------------\n",
      "Confusion Matrix\n",
      "[571   1   0   1   0   0   2   0   0   0   0   0   0   0   0   0   0   0]\n",
      "[  7 271  18   0   0   0   0   0   0   0   0   0   0   0   0   0   0   0]\n",
      "[  0   4 162   0   0   0   0   0   0   0   0   0   0   0   0   0   0   0]\n",
      "[  9   0   0 719   6   0   0   0   0   5   0   0   0   0   0   0   0   0]\n",
      "[  0   6   0   9 622  53   0   0   0   1   5   1   0   0   0   0   0   0]\n",
      "[  0   1   3   0  23 225   0   0   0   0   0   6   0   0   0   0   0   0]\n",
      "[  0   0   0   0   0   0 587   1   0   1   0   0   0   0   0   0   0   0]\n",
      "[  0   0   0   0   0   0   6 276  34   0   2   0   0   0   0   0   0   0]\n",
      "[  0   0   1   0   0   0   0   7 169   0   0   0   0   0   0   0   0   0]\n",
      "[  0   0   0   0   0   0   7   0   0 699   8   0   0   0   0   1   0   0]\n",
      "[  0   0   0   0   1   0   1   2   1   9 610  30   0   0   0   0   0   0]\n",
      "[  0   0   0   0   1   2   0   0   0   0  16 233   0   0   0   0   0   0]\n",
      "[  0   0   0   0   0   0   0   0   0   0   0   0 548   5   0   1   0   0]\n",
      "[  0   0   0   0   0   0   0   0   0   0   0   0   6 300  20   0   2   0]\n",
      "[  0   0   0   0   0   0   0   0   0   0   0   0   0   4 178   0   0   0]\n",
      "[  0   0   0   0   0   0   0   0   0   0   0   0   5   0   0 715   4   0]\n",
      "[  0   0   0   0   0   0   0   0   0   0   0   0   0  13   0   7 559  44]\n",
      "[  0   0   0   0   0   0   0   0   0   0   0   0   0   0   0   0  15 238]\n",
      "-------------------------------------------------------------------------\n",
      "Validation F1 score : 0.9350959098986453\n"
     ]
    },
    {
     "name": "stderr",
     "output_type": "stream",
     "text": [
      " 50%|█████     | 507/1012 [04:16<1:15:17,  8.95s/it]"
     ]
    },
    {
     "name": "stdout",
     "output_type": "stream",
     "text": [
      "model saved!\n",
      "*************************************************************************\n",
      "\n"
     ]
    },
    {
     "name": "stderr",
     "output_type": "stream",
     "text": [
      "100%|█████████▉| 1011/1012 [08:02<00:00,  2.24it/s] "
     ]
    },
    {
     "name": "stdout",
     "output_type": "stream",
     "text": [
      "Loss : 1.4766757505920094\n",
      "< VALIDATION >\n",
      "Total Accuracy\n",
      "95.71604938271605 %\n",
      "-------------------------------------------------------------------------\n",
      "Class Accuracy\n",
      "Mask   : 99.81545275590551 %\n",
      "Gender : 99.55708661417323 %\n",
      "Age    : 96.32135826771653 %\n",
      "-------------------------------------------------------------------------\n",
      "Confusion Matrix\n",
      "[574   0   0   1   0   0   0   0   0   0   0   0   0   0   0   0   0   0]\n",
      "[ 14 273   9   0   0   0   0   0   0   0   0   0   0   0   0   0   0   0]\n",
      "[  0  10 156   0   0   0   0   0   0   0   0   0   0   0   0   0   0   0]\n",
      "[  8   0   0 729   2   0   0   0   0   0   0   0   0   0   0   0   0   0]\n",
      "[  0   0   0  52 619  25   0   0   0   0   1   0   0   0   0   0   0   0]\n",
      "[  0   0   1   1  28 228   0   0   0   0   0   0   0   0   0   0   0   0]\n",
      "[  1   0   0   0   0   0 586   1   0   1   0   0   0   0   0   0   0   0]\n",
      "[  0   1   0   0   0   0   6 301   9   0   1   0   0   0   0   0   0   0]\n",
      "[  0   0   0   0   0   0   0  11 166   0   0   0   0   0   0   0   0   0]\n",
      "[  0   0   0   3   0   0   8   0   0 698   6   0   0   0   0   0   0   0]\n",
      "[  0   0   0   1   3   0   1   3   0  12 618  16   0   0   0   0   0   0]\n",
      "[  0   0   0   0   1   4   0   0   0   0  16 231   0   0   0   0   0   0]\n",
      "[  0   0   0   0   0   0   0   0   0   0   0   0 551   2   0   1   0   0]\n",
      "[  0   0   0   0   0   0   0   0   0   0   0   0   9 311   6   0   2   0]\n",
      "[  0   0   0   0   0   0   0   0   0   0   0   0   0  12 170   0   0   0]\n",
      "[  0   0   0   0   0   0   0   0   0   0   0   0   6   0   0 714   4   0]\n",
      "[  0   0   0   0   0   0   0   0   0   0   0   0   0   3   0   8 595  17]\n",
      "[  0   0   0   0   0   0   0   0   0   0   0   0   0   0   0   0  20 233]\n",
      "-------------------------------------------------------------------------\n",
      "Validation F1 score : 0.9503553326776724\n"
     ]
    },
    {
     "name": "stderr",
     "output_type": "stream",
     "text": [
      "100%|██████████| 1012/1012 [08:30<00:00,  8.74s/it]"
     ]
    },
    {
     "name": "stdout",
     "output_type": "stream",
     "text": [
      "model saved!\n",
      "*************************************************************************\n",
      "\n"
     ]
    },
    {
     "name": "stderr",
     "output_type": "stream",
     "text": [
      "1013it [08:30,  1.98it/s]                          "
     ]
    },
    {
     "name": "stdout",
     "output_type": "stream",
     "text": [
      "Adjusting learning rate of group 0 to 7.9867e-05.\n",
      "Epoch : 6\n"
     ]
    },
    {
     "name": "stderr",
     "output_type": "stream",
     "text": [
      "\n",
      " 50%|█████     | 506/1012 [03:48<03:47,  2.22it/s]"
     ]
    },
    {
     "name": "stdout",
     "output_type": "stream",
     "text": [
      "Loss : 1.4657225970920962\n"
     ]
    },
    {
     "name": "stderr",
     "output_type": "stream",
     "text": [
      " 50%|█████     | 507/1012 [04:16<1:13:33,  8.74s/it]"
     ]
    },
    {
     "name": "stdout",
     "output_type": "stream",
     "text": [
      "< VALIDATION >\n",
      "Total Accuracy\n",
      "95.90123456790124 %\n",
      "-------------------------------------------------------------------------\n",
      "Class Accuracy\n",
      "Mask   : 99.76624015748031 %\n",
      "Gender : 99.58169291338582 %\n",
      "Age    : 96.50590551181102 %\n",
      "-------------------------------------------------------------------------\n",
      "Confusion Matrix\n",
      "[574   0   0   1   0   0   0   0   0   0   0   0   0   0   0   0   0   0]\n",
      "[ 16 263  15   0   2   0   0   0   0   0   0   0   0   0   0   0   0   0]\n",
      "[  0   2 163   0   1   0   0   0   0   0   0   0   0   0   0   0   0   0]\n",
      "[  6   0   0 729   3   1   0   0   0   0   0   0   0   0   0   0   0   0]\n",
      "[  0   0   0  16 629  48   0   0   0   0   4   0   0   0   0   0   0   0]\n",
      "[  0   0   1   0  20 235   0   0   0   0   0   2   0   0   0   0   0   0]\n",
      "[  2   0   0   0   0   0 586   0   0   1   0   0   0   0   0   0   0   0]\n",
      "[  0   0   0   0   0   0  13 289  15   0   1   0   0   0   0   0   0   0]\n",
      "[  0   0   0   0   0   0   0   7 170   0   0   0   0   0   0   0   0   0]\n",
      "[  0   0   0   2   0   0   8   0   0 701   3   0   0   0   0   1   0   0]\n",
      "[  0   0   0   0   1   2   2   1   0  11 614  23   0   0   0   0   0   0]\n",
      "[  0   0   0   0   0   5   0   0   0   0   9 238   0   0   0   0   0   0]\n",
      "[  0   0   0   0   0   0   0   0   0   0   0   0 552   1   0   1   0   0]\n",
      "[  0   0   0   0   0   0   0   0   0   0   0   0   8 302  15   0   3   0]\n",
      "[  0   0   0   0   0   0   0   0   0   0   0   0   0   5 176   0   0   1]\n",
      "[  0   0   0   0   0   0   0   0   0   0   0   0   5   0   0 717   2   0]\n",
      "[  0   0   0   0   0   0   0   0   0   0   0   0   0   0   0   4 588  31]\n",
      "[  0   0   0   0   0   0   0   0   0   0   0   0   0   0   0   0  11 242]\n",
      "-------------------------------------------------------------------------\n",
      "Validation F1 score : 0.9496953701801932\n",
      "*************************************************************************\n",
      "\n"
     ]
    },
    {
     "name": "stderr",
     "output_type": "stream",
     "text": [
      "100%|█████████▉| 1011/1012 [08:01<00:00,  2.24it/s] "
     ]
    },
    {
     "name": "stdout",
     "output_type": "stream",
     "text": [
      "Loss : 1.4662758291003262\n"
     ]
    },
    {
     "name": "stderr",
     "output_type": "stream",
     "text": [
      "100%|██████████| 1012/1012 [08:30<00:00,  8.75s/it]"
     ]
    },
    {
     "name": "stdout",
     "output_type": "stream",
     "text": [
      "< VALIDATION >\n",
      "Total Accuracy\n",
      "95.8395061728395 %\n",
      "-------------------------------------------------------------------------\n",
      "Class Accuracy\n",
      "Mask   : 99.9015748031496 %\n",
      "Gender : 99.38484251968504 %\n",
      "Age    : 96.55511811023622 %\n",
      "-------------------------------------------------------------------------\n",
      "Confusion Matrix\n",
      "[572   1   1   1   0   0   0   0   0   0   0   0   0   0   0   0   0   0]\n",
      "[  9 276  11   0   0   0   0   0   0   0   0   0   0   0   0   0   0   0]\n",
      "[  0  10 156   0   0   0   0   0   0   0   0   0   0   0   0   0   0   0]\n",
      "[ 10   0   0 719   9   1   0   0   0   0   0   0   0   0   0   0   0   0]\n",
      "[  0   8   0   0 643  45   0   0   0   0   1   0   0   0   0   0   0   0]\n",
      "[  0   0   1   0  18 239   0   0   0   0   0   0   0   0   0   0   0   0]\n",
      "[  0   0   0   0   0   0 588   0   0   1   0   0   0   0   0   0   0   0]\n",
      "[  0   0   0   0   0   0   5 305   7   0   1   0   0   0   0   0   0   0]\n",
      "[  0   0   0   0   0   0   0  18 159   0   0   0   0   0   0   0   0   0]\n",
      "[  0   0   0   1   0   0  11   0   0 696   6   0   0   0   0   1   0   0]\n",
      "[  0   0   0   0   0   0   1   1   0   9 616  27   0   0   0   0   0   0]\n",
      "[  0   0   0   0   0   5   0   0   0   0  14 233   0   0   0   0   0   0]\n",
      "[  0   0   0   0   0   0   0   0   0   0   0   0 551   2   0   1   0   0]\n",
      "[  0   0   0   0   0   0   0   0   0   0   0   0   7 298  20   0   3   0]\n",
      "[  0   0   0   0   0   0   0   0   0   0   0   0   0   3 179   0   0   0]\n",
      "[  0   0   0   0   0   0   0   0   0   0   0   0   6   0   0 710   8   0]\n",
      "[  0   0   0   0   0   0   0   0   0   0   0   0   0   5   0   4 576  38]\n",
      "[  0   0   0   0   0   0   0   0   0   0   0   0   0   0   0   0   6 247]\n",
      "-------------------------------------------------------------------------\n",
      "Validation F1 score : 0.9480028799003636\n",
      "*************************************************************************\n",
      "\n"
     ]
    },
    {
     "name": "stderr",
     "output_type": "stream",
     "text": [
      "1013it [08:30,  1.98it/s]                          "
     ]
    },
    {
     "name": "stdout",
     "output_type": "stream",
     "text": [
      "Adjusting learning rate of group 0 to 6.7887e-05.\n",
      "Epoch : 7\n"
     ]
    },
    {
     "name": "stderr",
     "output_type": "stream",
     "text": [
      "\n",
      " 50%|█████     | 506/1012 [03:47<03:46,  2.24it/s]"
     ]
    },
    {
     "name": "stdout",
     "output_type": "stream",
     "text": [
      "Loss : 1.459024697836099\n",
      "< VALIDATION >\n",
      "Total Accuracy\n",
      "97.17283950617283 %\n",
      "-------------------------------------------------------------------------\n",
      "Class Accuracy\n",
      "Mask   : 99.82775590551181 %\n",
      "Gender : 99.63090551181102 %\n",
      "Age    : 97.71161417322834 %\n",
      "-------------------------------------------------------------------------\n",
      "Confusion Matrix\n",
      "[572   0   0   3   0   0   0   0   0   0   0   0   0   0   0   0   0   0]\n",
      "[  6 274  11   0   4   0   0   1   0   0   0   0   0   0   0   0   0   0]\n",
      "[  0   4 162   0   0   0   0   0   0   0   0   0   0   0   0   0   0   0]\n",
      "[  4   0   0 729   6   0   0   0   0   0   0   0   0   0   0   0   0   0]\n",
      "[  0   0   0   9 675  13   0   0   0   0   0   0   0   0   0   0   0   0]\n",
      "[  0   0   0   0  22 236   0   0   0   0   0   0   0   0   0   0   0   0]\n",
      "[  1   0   0   0   0   0 587   0   0   1   0   0   0   0   0   0   0   0]\n",
      "[  0   1   0   0   0   0   7 292  17   0   1   0   0   0   0   0   0   0]\n",
      "[  0   0   1   0   0   0   0   5 171   0   0   0   0   0   0   0   0   0]\n",
      "[  0   0   0   3   0   0   5   0   0 704   3   0   0   0   0   0   0   0]\n",
      "[  0   0   0   0   4   0   1   1   0   7 627  14   0   0   0   0   0   0]\n",
      "[  0   0   0   0   0   3   0   0   0   0  11 238   0   0   0   0   0   0]\n",
      "[  0   0   0   0   0   0   0   0   0   0   0   0 549   2   1   2   0   0]\n",
      "[  0   0   0   0   0   0   0   0   0   0   0   0   4 313   9   0   2   0]\n",
      "[  0   0   0   0   0   0   0   0   0   0   0   0   0   8 174   0   0   0]\n",
      "[  0   0   0   0   0   0   0   0   0   0   0   0   5   0   0 710   9   0]\n",
      "[  0   0   0   0   0   0   0   0   0   0   0   0   0   1   0   0 611  11]\n",
      "[  0   0   0   0   0   0   0   0   0   0   0   0   0   0   0   0   6 247]\n",
      "-------------------------------------------------------------------------\n",
      "Validation F1 score : 0.964539078316705\n"
     ]
    },
    {
     "name": "stderr",
     "output_type": "stream",
     "text": [
      " 50%|█████     | 507/1012 [04:15<1:13:55,  8.78s/it]"
     ]
    },
    {
     "name": "stdout",
     "output_type": "stream",
     "text": [
      "model saved!\n",
      "*************************************************************************\n",
      "\n"
     ]
    },
    {
     "name": "stderr",
     "output_type": "stream",
     "text": [
      "100%|█████████▉| 1011/1012 [08:01<00:00,  2.24it/s] "
     ]
    },
    {
     "name": "stdout",
     "output_type": "stream",
     "text": [
      "Loss : 1.457508916558013\n"
     ]
    },
    {
     "name": "stderr",
     "output_type": "stream",
     "text": [
      "100%|██████████| 1012/1012 [08:29<00:00,  8.79s/it]"
     ]
    },
    {
     "name": "stdout",
     "output_type": "stream",
     "text": [
      "< VALIDATION >\n",
      "Total Accuracy\n",
      "97.1358024691358 %\n",
      "-------------------------------------------------------------------------\n",
      "Class Accuracy\n",
      "Mask   : 99.84005905511812 %\n",
      "Gender : 99.64320866141733 %\n",
      "Age    : 97.66240157480314 %\n",
      "-------------------------------------------------------------------------\n",
      "Confusion Matrix\n",
      "[571   1   0   2   0   0   1   0   0   0   0   0   0   0   0   0   0   0]\n",
      "[  5 273  15   0   2   0   0   1   0   0   0   0   0   0   0   0   0   0]\n",
      "[  0   2 164   0   0   0   0   0   0   0   0   0   0   0   0   0   0   0]\n",
      "[  6   0   0 726   7   0   0   0   0   0   0   0   0   0   0   0   0   0]\n",
      "[  0   0   0   2 683  11   0   0   0   0   1   0   0   0   0   0   0   0]\n",
      "[  0   0   0   0  35 223   0   0   0   0   0   0   0   0   0   0   0   0]\n",
      "[  0   0   0   0   0   0 588   0   0   1   0   0   0   0   0   0   0   0]\n",
      "[  0   1   0   0   0   0   3 294  19   0   1   0   0   0   0   0   0   0]\n",
      "[  0   0   0   0   0   0   0   6 170   0   0   1   0   0   0   0   0   0]\n",
      "[  0   0   0   1   0   0   6   0   0 702   4   0   0   0   0   2   0   0]\n",
      "[  0   0   0   0   3   0   0   1   0   7 636   7   0   0   0   0   0   0]\n",
      "[  0   0   0   0   0   3   0   0   0   0  11 238   0   0   0   0   0   0]\n",
      "[  0   0   0   0   0   0   0   0   0   0   0   0 551   1   1   1   0   0]\n",
      "[  0   0   0   0   0   0   0   0   0   0   0   0   6 304  16   0   2   0]\n",
      "[  0   0   0   0   0   0   0   0   0   0   0   0   0   4 178   0   0   0]\n",
      "[  0   0   0   0   0   0   0   0   0   0   0   0   6   0   0 715   3   0]\n",
      "[  0   0   0   0   0   0   0   0   0   0   0   0   0   0   0   5 613   5]\n",
      "[  0   0   0   0   0   0   0   0   0   0   0   0   0   0   0   0  14 239]\n",
      "-------------------------------------------------------------------------\n",
      "Validation F1 score : 0.962850230647926\n",
      "*************************************************************************\n",
      "\n"
     ]
    },
    {
     "name": "stderr",
     "output_type": "stream",
     "text": [
      "1013it [08:30,  1.99it/s]                          "
     ]
    },
    {
     "name": "stdout",
     "output_type": "stream",
     "text": [
      "Adjusting learning rate of group 0 to 5.7704e-05.\n",
      "Epoch : 8\n"
     ]
    },
    {
     "name": "stderr",
     "output_type": "stream",
     "text": [
      "\n",
      " 50%|█████     | 506/1012 [03:47<03:45,  2.25it/s]"
     ]
    },
    {
     "name": "stdout",
     "output_type": "stream",
     "text": [
      "Loss : 1.4497058784232808\n",
      "< VALIDATION >\n",
      "Total Accuracy\n",
      "97.65432098765432 %\n",
      "-------------------------------------------------------------------------\n",
      "Class Accuracy\n",
      "Mask   : 99.9015748031496 %\n",
      "Gender : 99.59399606299213 %\n",
      "Age    : 98.14222440944881 %\n",
      "-------------------------------------------------------------------------\n",
      "Confusion Matrix\n",
      "[573   0   0   1   0   0   1   0   0   0   0   0   0   0   0   0   0   0]\n",
      "[  5 284   6   0   0   0   0   1   0   0   0   0   0   0   0   0   0   0]\n",
      "[  0   4 162   0   0   0   0   0   0   0   0   0   0   0   0   0   0   0]\n",
      "[  5   0   0 731   3   0   0   0   0   0   0   0   0   0   0   0   0   0]\n",
      "[  0   0   0  11 670  14   0   0   0   0   2   0   0   0   0   0   0   0]\n",
      "[  0   1   0   0  20 237   0   0   0   0   0   0   0   0   0   0   0   0]\n",
      "[  0   0   0   0   0   0 586   2   0   1   0   0   0   0   0   0   0   0]\n",
      "[  0   0   0   0   0   0   3 307   7   0   1   0   0   0   0   0   0   0]\n",
      "[  0   0   0   0   0   0   0   8 169   0   0   0   0   0   0   0   0   0]\n",
      "[  0   0   0   1   0   0  11   0   0 701   2   0   0   0   0   0   0   0]\n",
      "[  0   0   0   0   0   0   0   1   0   9 640   4   0   0   0   0   0   0]\n",
      "[  0   0   0   0   0   3   0   0   0   0  10 239   0   0   0   0   0   0]\n",
      "[  0   0   0   0   0   0   0   0   0   0   0   0 553   0   0   1   0   0]\n",
      "[  0   0   0   0   0   0   0   0   0   0   0   0   6 306  11   1   4   0]\n",
      "[  0   0   0   0   0   0   0   0   0   0   0   0   0   4 178   0   0   0]\n",
      "[  0   0   0   0   0   0   0   0   0   0   0   0   6   0   0 718   0   0]\n",
      "[  0   0   0   0   0   0   0   0   0   0   0   0   0   0   0   5 611   7]\n",
      "[  0   0   0   0   0   0   0   0   0   0   0   0   0   0   0   0   8 245]\n",
      "-------------------------------------------------------------------------\n",
      "Validation F1 score : 0.9715830938226357\n"
     ]
    },
    {
     "name": "stderr",
     "output_type": "stream",
     "text": [
      " 50%|█████     | 507/1012 [04:15<1:13:48,  8.77s/it]"
     ]
    },
    {
     "name": "stdout",
     "output_type": "stream",
     "text": [
      "model saved!\n",
      "*************************************************************************\n",
      "\n"
     ]
    },
    {
     "name": "stderr",
     "output_type": "stream",
     "text": [
      "100%|█████████▉| 1011/1012 [08:01<00:00,  2.23it/s] "
     ]
    },
    {
     "name": "stdout",
     "output_type": "stream",
     "text": [
      "Loss : 1.4478038847446442\n"
     ]
    },
    {
     "name": "stderr",
     "output_type": "stream",
     "text": [
      "100%|██████████| 1012/1012 [08:29<00:00,  8.67s/it]"
     ]
    },
    {
     "name": "stdout",
     "output_type": "stream",
     "text": [
      "< VALIDATION >\n",
      "Total Accuracy\n",
      "97.49382716049382 %\n",
      "-------------------------------------------------------------------------\n",
      "Class Accuracy\n",
      "Mask   : 99.82775590551181 %\n",
      "Gender : 99.64320866141733 %\n",
      "Age    : 98.00688976377953 %\n",
      "-------------------------------------------------------------------------\n",
      "Confusion Matrix\n",
      "[571   1   0   2   0   0   1   0   0   0   0   0   0   0   0   0   0   0]\n",
      "[  6 278  10   0   1   0   0   1   0   0   0   0   0   0   0   0   0   0]\n",
      "[  0   3 163   0   0   0   0   0   0   0   0   0   0   0   0   0   0   0]\n",
      "[  7   0   0 721   9   1   0   0   0   1   0   0   0   0   0   0   0   0]\n",
      "[  0   0   0   0 667  30   0   0   0   0   0   0   0   0   0   0   0   0]\n",
      "[  0   1   0   0  15 242   0   0   0   0   0   0   0   0   0   0   0   0]\n",
      "[  0   0   0   0   0   0 587   1   0   1   0   0   0   0   0   0   0   0]\n",
      "[  0   0   0   0   0   0   2 309   6   0   1   0   0   0   0   0   0   0]\n",
      "[  0   0   0   0   0   0   0   7 170   0   0   0   0   0   0   0   0   0]\n",
      "[  0   0   0   1   0   0   6   0   0 704   4   0   0   0   0   0   0   0]\n",
      "[  0   0   0   0   0   1   0   1   0   5 639   8   0   0   0   0   0   0]\n",
      "[  0   0   0   0   0   9   0   0   0   0  13 230   0   0   0   0   0   0]\n",
      "[  0   0   0   0   0   0   0   0   0   0   0   0 553   0   0   1   0   0]\n",
      "[  0   0   0   0   0   0   0   0   0   0   0   0   5 309  12   0   2   0]\n",
      "[  0   0   0   0   0   0   0   0   0   0   0   0   0   2 180   0   0   0]\n",
      "[  0   0   0   0   0   0   0   0   0   0   0   0   5   0   0 715   4   0]\n",
      "[  0   0   0   0   0   0   0   0   0   0   0   0   0   0   0   1 613   9]\n",
      "[  0   0   0   0   0   0   0   0   0   0   0   0   0   0   1   0   6 246]\n",
      "-------------------------------------------------------------------------\n",
      "Validation F1 score : 0.9685290853798855\n",
      "*************************************************************************\n",
      "\n"
     ]
    },
    {
     "name": "stderr",
     "output_type": "stream",
     "text": [
      "1013it [08:29,  1.99it/s]                          "
     ]
    },
    {
     "name": "stdout",
     "output_type": "stream",
     "text": [
      "Adjusting learning rate of group 0 to 4.9048e-05.\n",
      "Epoch : 9\n"
     ]
    },
    {
     "name": "stderr",
     "output_type": "stream",
     "text": [
      "\n",
      " 50%|█████     | 506/1012 [03:47<03:46,  2.24it/s]"
     ]
    },
    {
     "name": "stdout",
     "output_type": "stream",
     "text": [
      "Loss : 1.4422920718936054\n",
      "< VALIDATION >\n",
      "Total Accuracy\n",
      "97.95061728395062 %\n",
      "-------------------------------------------------------------------------\n",
      "Class Accuracy\n",
      "Mask   : 99.81545275590551 %\n",
      "Gender : 99.75393700787401 %\n",
      "Age    : 98.3759842519685 %\n",
      "-------------------------------------------------------------------------\n",
      "Confusion Matrix\n",
      "[572   0   0   2   0   0   1   0   0   0   0   0   0   0   0   0   0   0]\n",
      "[  5 281   7   0   1   1   0   1   0   0   0   0   0   0   0   0   0   0]\n",
      "[  0   2 164   0   0   0   0   0   0   0   0   0   0   0   0   0   0   0]\n",
      "[  3   0   0 730   5   0   0   0   0   1   0   0   0   0   0   0   0   0]\n",
      "[  0   0   0   5 665  23   0   0   0   0   4   0   0   0   0   0   0   0]\n",
      "[  0   0   0   0  10 247   0   0   0   0   0   1   0   0   0   0   0   0]\n",
      "[  0   0   0   0   0   0 586   2   0   1   0   0   0   0   0   0   0   0]\n",
      "[  0   0   0   0   0   0   2 312   3   0   1   0   0   0   0   0   0   0]\n",
      "[  0   0   0   0   0   0   0   9 168   0   0   0   0   0   0   0   0   0]\n",
      "[  0   0   0   2   0   0   4   0   0 703   4   0   0   0   0   2   0   0]\n",
      "[  0   0   0   0   0   0   0   0   0   4 645   5   0   0   0   0   0   0]\n",
      "[  0   0   0   0   0   3   0   0   0   0   7 242   0   0   0   0   0   0]\n",
      "[  0   0   0   0   0   0   0   0   0   0   0   0 553   0   0   1   0   0]\n",
      "[  0   0   0   0   0   0   0   0   0   0   0   0   6 315   5   0   2   0]\n",
      "[  0   0   0   0   0   0   0   0   0   0   0   0   0   3 179   0   0   0]\n",
      "[  0   0   0   0   0   0   0   0   0   0   0   0   4   0   0 717   3   0]\n",
      "[  0   0   0   0   0   0   0   0   0   0   0   0   0   0   0   1 606  16]\n",
      "[  0   0   0   0   0   0   0   0   0   0   0   0   0   0   0   0   4 249]\n",
      "-------------------------------------------------------------------------\n",
      "Validation F1 score : 0.9754243795223471\n"
     ]
    },
    {
     "name": "stderr",
     "output_type": "stream",
     "text": [
      " 50%|█████     | 507/1012 [04:15<1:13:32,  8.74s/it]"
     ]
    },
    {
     "name": "stdout",
     "output_type": "stream",
     "text": [
      "model saved!\n",
      "*************************************************************************\n",
      "\n"
     ]
    },
    {
     "name": "stderr",
     "output_type": "stream",
     "text": [
      "100%|█████████▉| 1011/1012 [08:01<00:00,  2.24it/s] "
     ]
    },
    {
     "name": "stdout",
     "output_type": "stream",
     "text": [
      "Loss : 1.4429019649509385\n",
      "< VALIDATION >\n",
      "Total Accuracy\n",
      "98.25925925925925 %\n",
      "-------------------------------------------------------------------------\n",
      "Class Accuracy\n",
      "Mask   : 99.86466535433071 %\n",
      "Gender : 99.75393700787401 %\n",
      "Age    : 98.64665354330708 %\n",
      "-------------------------------------------------------------------------\n",
      "Confusion Matrix\n",
      "[572   0   0   2   0   0   1   0   0   0   0   0   0   0   0   0   0   0]\n",
      "[  4 280  10   0   1   0   0   1   0   0   0   0   0   0   0   0   0   0]\n",
      "[  0   1 165   0   0   0   0   0   0   0   0   0   0   0   0   0   0   0]\n",
      "[  3   0   0 728   6   0   0   0   0   2   0   0   0   0   0   0   0   0]\n",
      "[  0   0   0   2 686   8   0   0   0   0   1   0   0   0   0   0   0   0]\n",
      "[  0   0   0   0  11 246   0   0   0   0   0   1   0   0   0   0   0   0]\n",
      "[  0   0   0   0   0   0 587   1   0   1   0   0   0   0   0   0   0   0]\n",
      "[  0   1   0   0   0   0   2 304   9   0   2   0   0   0   0   0   0   0]\n",
      "[  0   0   0   0   0   0   0   5 172   0   0   0   0   0   0   0   0   0]\n",
      "[  0   0   0   1   0   0   3   0   0 708   3   0   0   0   0   0   0   0]\n",
      "[  0   0   0   0   0   0   0   0   0   3 648   3   0   0   0   0   0   0]\n",
      "[  0   0   0   0   0   3   0   0   0   0  10 239   0   0   0   0   0   0]\n",
      "[  0   0   0   0   0   0   0   0   0   0   0   0 553   0   0   1   0   0]\n",
      "[  0   0   0   0   0   0   0   0   0   0   0   0   6 308  12   0   2   0]\n",
      "[  0   0   0   0   0   0   0   0   0   0   0   0   0   2 179   0   0   1]\n",
      "[  0   0   0   0   0   0   0   0   0   0   0   0   4   0   0 718   2   0]\n",
      "[  0   0   0   0   0   0   0   0   0   0   0   0   0   0   0   2 620   1]\n",
      "[  0   0   0   0   0   0   0   0   0   0   0   0   0   0   0   0   7 246]\n",
      "-------------------------------------------------------------------------\n",
      "Validation F1 score : 0.9773561227045033\n"
     ]
    },
    {
     "name": "stderr",
     "output_type": "stream",
     "text": [
      "100%|██████████| 1012/1012 [08:29<00:00,  8.81s/it]"
     ]
    },
    {
     "name": "stdout",
     "output_type": "stream",
     "text": [
      "model saved!\n",
      "*************************************************************************\n",
      "\n"
     ]
    },
    {
     "name": "stderr",
     "output_type": "stream",
     "text": [
      "1013it [08:30,  1.99it/s]                          "
     ]
    },
    {
     "name": "stdout",
     "output_type": "stream",
     "text": [
      "Adjusting learning rate of group 0 to 4.1691e-05.\n",
      "Epoch : 10\n"
     ]
    },
    {
     "name": "stderr",
     "output_type": "stream",
     "text": [
      "\n",
      " 50%|█████     | 506/1012 [03:47<03:47,  2.23it/s]"
     ]
    },
    {
     "name": "stdout",
     "output_type": "stream",
     "text": [
      "Loss : 1.4389442040840315\n",
      "< VALIDATION >\n",
      "Total Accuracy\n",
      "98.24691358024691 %\n",
      "-------------------------------------------------------------------------\n",
      "Class Accuracy\n",
      "Mask   : 99.9138779527559 %\n",
      "Gender : 99.74163385826772 %\n",
      "Age    : 98.58513779527559 %\n",
      "-------------------------------------------------------------------------\n",
      "Confusion Matrix\n",
      "[573   0   0   2   0   0   0   0   0   0   0   0   0   0   0   0   0   0]\n",
      "[  7 280   8   0   0   0   0   1   0   0   0   0   0   0   0   0   0   0]\n",
      "[  0   1 165   0   0   0   0   0   0   0   0   0   0   0   0   0   0   0]\n",
      "[  3   0   0 730   6   0   0   0   0   0   0   0   0   0   0   0   0   0]\n",
      "[  0   0   0   1 686   9   0   0   0   0   1   0   0   0   0   0   0   0]\n",
      "[  0   1   2   0  20 235   0   0   0   0   0   0   0   0   0   0   0   0]\n",
      "[  0   0   0   0   0   0 588   0   0   1   0   0   0   0   0   0   0   0]\n",
      "[  0   0   0   0   0   0   2 305   9   0   2   0   0   0   0   0   0   0]\n",
      "[  0   0   0   0   0   0   0   5 172   0   0   0   0   0   0   0   0   0]\n",
      "[  0   0   0   2   0   0   3   0   0 707   2   0   0   0   0   1   0   0]\n",
      "[  0   0   0   0   0   0   0   0   0   3 648   3   0   0   0   0   0   0]\n",
      "[  0   0   0   0   0   2   0   0   0   0   8 242   0   0   0   0   0   0]\n",
      "[  0   0   0   0   0   0   0   0   0   0   0   0 553   0   0   1   0   0]\n",
      "[  0   0   0   0   0   0   0   0   0   0   0   0   7 312   7   0   2   0]\n",
      "[  0   0   0   0   0   0   0   0   0   0   0   0   0   3 179   0   0   0]\n",
      "[  0   0   0   0   0   0   0   0   0   0   0   0   4   0   0 719   1   0]\n",
      "[  0   0   0   0   0   0   0   0   0   0   0   0   0   0   0   2 621   0]\n",
      "[  0   0   0   0   0   0   0   0   0   0   0   0   0   0   0   0  10 243]\n",
      "-------------------------------------------------------------------------\n",
      "Validation F1 score : 0.9774355013722583\n"
     ]
    },
    {
     "name": "stderr",
     "output_type": "stream",
     "text": [
      " 50%|█████     | 507/1012 [04:15<1:15:21,  8.95s/it]"
     ]
    },
    {
     "name": "stdout",
     "output_type": "stream",
     "text": [
      "model saved!\n",
      "*************************************************************************\n",
      "\n"
     ]
    },
    {
     "name": "stderr",
     "output_type": "stream",
     "text": [
      "100%|█████████▉| 1011/1012 [08:02<00:00,  2.24it/s] "
     ]
    },
    {
     "name": "stdout",
     "output_type": "stream",
     "text": [
      "Loss : 1.437894516076024\n",
      "< VALIDATION >\n",
      "Total Accuracy\n",
      "98.37037037037038 %\n",
      "-------------------------------------------------------------------------\n",
      "Class Accuracy\n",
      "Mask   : 99.87696850393701 %\n",
      "Gender : 99.76624015748031 %\n",
      "Age    : 98.69586614173228 %\n",
      "-------------------------------------------------------------------------\n",
      "Confusion Matrix\n",
      "[573   0   0   2   0   0   0   0   0   0   0   0   0   0   0   0   0   0]\n",
      "[  7 279   8   0   1   0   0   1   0   0   0   0   0   0   0   0   0   0]\n",
      "[  0   2 164   0   0   0   0   0   0   0   0   0   0   0   0   0   0   0]\n",
      "[  4   0   0 731   4   0   0   0   0   0   0   0   0   0   0   0   0   0]\n",
      "[  0   0   0   1 681  13   0   0   0   0   2   0   0   0   0   0   0   0]\n",
      "[  0   1   1   0  12 244   0   0   0   0   0   0   0   0   0   0   0   0]\n",
      "[  0   0   0   0   0   0 588   0   0   1   0   0   0   0   0   0   0   0]\n",
      "[  0   0   0   0   0   0   2 311   4   0   1   0   0   0   0   0   0   0]\n",
      "[  0   0   0   0   0   0   0   5 172   0   0   0   0   0   0   0   0   0]\n",
      "[  0   0   0   0   0   0   3   0   0 708   2   0   0   0   0   2   0   0]\n",
      "[  0   0   0   0   0   2   0   0   0   4 643   5   0   0   0   0   0   0]\n",
      "[  0   0   0   0   0   3   0   0   0   0   9 240   0   0   0   0   0   0]\n",
      "[  0   0   0   0   0   0   0   0   0   0   0   0 553   0   0   1   0   0]\n",
      "[  0   0   0   0   0   0   0   0   0   0   0   0   5 314   7   0   2   0]\n",
      "[  0   0   0   0   0   0   0   0   0   0   0   0   0   2 180   0   0   0]\n",
      "[  0   0   0   0   0   0   0   0   0   0   0   0   2   0   0 719   3   0]\n",
      "[  0   0   0   0   0   0   0   0   0   0   0   0   0   0   0   1 618   4]\n",
      "[  0   0   0   0   0   0   0   0   0   0   0   0   0   0   0   0   3 250]\n",
      "-------------------------------------------------------------------------\n",
      "Validation F1 score : 0.9794165234419407\n"
     ]
    },
    {
     "name": "stderr",
     "output_type": "stream",
     "text": [
      "100%|██████████| 1012/1012 [08:31<00:00,  8.91s/it]"
     ]
    },
    {
     "name": "stdout",
     "output_type": "stream",
     "text": [
      "model saved!\n",
      "*************************************************************************\n",
      "\n"
     ]
    },
    {
     "name": "stderr",
     "output_type": "stream",
     "text": [
      "1013it [08:31,  1.98it/s]                          "
     ]
    },
    {
     "name": "stdout",
     "output_type": "stream",
     "text": [
      "Adjusting learning rate of group 0 to 3.5437e-05.\n",
      "Epoch : 11\n"
     ]
    },
    {
     "name": "stderr",
     "output_type": "stream",
     "text": [
      "\n",
      " 50%|█████     | 506/1012 [03:48<03:46,  2.24it/s]"
     ]
    },
    {
     "name": "stdout",
     "output_type": "stream",
     "text": [
      "Loss : 1.4350728327941142\n",
      "< VALIDATION >\n",
      "Total Accuracy\n",
      "98.37037037037038 %\n",
      "-------------------------------------------------------------------------\n",
      "Class Accuracy\n",
      "Mask   : 99.9261811023622 %\n",
      "Gender : 99.79084645669292 %\n",
      "Age    : 98.65895669291339 %\n",
      "-------------------------------------------------------------------------\n",
      "Confusion Matrix\n",
      "[573   0   0   2   0   0   0   0   0   0   0   0   0   0   0   0   0   0]\n",
      "[  3 283   9   0   0   0   0   1   0   0   0   0   0   0   0   0   0   0]\n",
      "[  0   1 165   0   0   0   0   0   0   0   0   0   0   0   0   0   0   0]\n",
      "[  3   0   0 728   7   0   0   0   0   1   0   0   0   0   0   0   0   0]\n",
      "[  0   0   0   0 669  27   0   0   0   0   1   0   0   0   0   0   0   0]\n",
      "[  0   0   0   0   8 250   0   0   0   0   0   0   0   0   0   0   0   0]\n",
      "[  0   0   0   0   0   0 587   1   0   1   0   0   0   0   0   0   0   0]\n",
      "[  0   0   0   0   0   0   3 308   6   0   1   0   0   0   0   0   0   0]\n",
      "[  0   0   0   0   0   0   0   2 175   0   0   0   0   0   0   0   0   0]\n",
      "[  0   0   0   0   0   0   4   0   0 709   2   0   0   0   0   0   0   0]\n",
      "[  0   0   0   0   0   0   0   0   0   5 642   7   0   0   0   0   0   0]\n",
      "[  0   0   0   0   0   3   0   0   0   0   7 242   0   0   0   0   0   0]\n",
      "[  0   0   0   0   0   0   0   0   0   0   0   0 553   0   0   1   0   0]\n",
      "[  0   0   0   0   0   0   0   0   0   0   0   0   6 314   6   0   2   0]\n",
      "[  0   0   0   0   0   0   0   0   0   0   0   0   0   3 179   0   0   0]\n",
      "[  0   0   0   0   0   0   0   0   0   0   0   0   3   0   0 719   2   0]\n",
      "[  0   0   0   0   0   0   0   0   0   0   0   0   0   0   0   0 621   2]\n",
      "[  0   0   0   0   0   0   0   0   0   0   0   0   0   0   0   0   2 251]\n",
      "-------------------------------------------------------------------------\n",
      "Validation F1 score : 0.979878239573948\n"
     ]
    },
    {
     "name": "stderr",
     "output_type": "stream",
     "text": [
      " 50%|█████     | 507/1012 [04:16<1:13:31,  8.74s/it]"
     ]
    },
    {
     "name": "stdout",
     "output_type": "stream",
     "text": [
      "model saved!\n",
      "*************************************************************************\n",
      "\n"
     ]
    },
    {
     "name": "stderr",
     "output_type": "stream",
     "text": [
      "100%|█████████▉| 1011/1012 [08:02<00:00,  2.19it/s] "
     ]
    },
    {
     "name": "stdout",
     "output_type": "stream",
     "text": [
      "Loss : 1.4348191031118627\n",
      "< VALIDATION >\n",
      "Total Accuracy\n",
      "98.55555555555556 %\n",
      "-------------------------------------------------------------------------\n",
      "Class Accuracy\n",
      "Mask   : 99.86466535433071 %\n",
      "Gender : 99.77854330708661 %\n",
      "Age    : 98.91732283464567 %\n",
      "-------------------------------------------------------------------------\n",
      "Confusion Matrix\n",
      "[574   0   0   1   0   0   0   0   0   0   0   0   0   0   0   0   0   0]\n",
      "[  8 279   7   0   0   0   0   2   0   0   0   0   0   0   0   0   0   0]\n",
      "[  0   2 164   0   0   0   0   0   0   0   0   0   0   0   0   0   0   0]\n",
      "[  4   0   0 731   3   0   0   0   0   1   0   0   0   0   0   0   0   0]\n",
      "[  0   0   0   1 685  10   0   0   0   0   1   0   0   0   0   0   0   0]\n",
      "[  0   0   0   0   9 249   0   0   0   0   0   0   0   0   0   0   0   0]\n",
      "[  0   0   0   0   0   0 588   0   0   1   0   0   0   0   0   0   0   0]\n",
      "[  0   0   0   0   0   0   2 312   3   0   1   0   0   0   0   0   0   0]\n",
      "[  0   0   0   0   0   0   0   3 174   0   0   0   0   0   0   0   0   0]\n",
      "[  0   0   0   1   0   0   4   0   0 707   3   0   0   0   0   0   0   0]\n",
      "[  0   0   0   0   0   0   0   0   0   4 646   4   0   0   0   0   0   0]\n",
      "[  0   0   0   0   0   6   0   0   0   0   9 237   0   0   0   0   0   0]\n",
      "[  0   0   0   0   0   0   0   0   0   0   0   0 553   0   0   1   0   0]\n",
      "[  0   0   0   0   0   0   0   0   0   0   0   0   6 317   3   0   2   0]\n",
      "[  0   0   0   0   0   0   0   0   0   0   0   0   0   3 179   0   0   0]\n",
      "[  0   0   0   0   0   0   0   0   0   0   0   0   4   0   0 718   2   0]\n",
      "[  0   0   0   0   0   0   0   0   0   0   0   0   0   0   0   0 620   3]\n",
      "[  0   0   0   0   0   0   0   0   0   0   0   0   0   0   0   0   3 250]\n",
      "-------------------------------------------------------------------------\n",
      "Validation F1 score : 0.9821534262741487\n"
     ]
    },
    {
     "name": "stderr",
     "output_type": "stream",
     "text": [
      "100%|██████████| 1012/1012 [08:30<00:00,  8.69s/it]"
     ]
    },
    {
     "name": "stdout",
     "output_type": "stream",
     "text": [
      "model saved!\n",
      "*************************************************************************\n",
      "\n"
     ]
    },
    {
     "name": "stderr",
     "output_type": "stream",
     "text": [
      "1013it [08:31,  1.98it/s]                          "
     ]
    },
    {
     "name": "stdout",
     "output_type": "stream",
     "text": [
      "Adjusting learning rate of group 0 to 3.0122e-05.\n",
      "Epoch : 12\n"
     ]
    },
    {
     "name": "stderr",
     "output_type": "stream",
     "text": [
      "\n",
      " 50%|█████     | 506/1012 [03:47<03:48,  2.21it/s]"
     ]
    },
    {
     "name": "stdout",
     "output_type": "stream",
     "text": [
      "Loss : 1.4336525559190227\n"
     ]
    },
    {
     "name": "stderr",
     "output_type": "stream",
     "text": [
      " 50%|█████     | 507/1012 [04:15<1:12:50,  8.65s/it]"
     ]
    },
    {
     "name": "stdout",
     "output_type": "stream",
     "text": [
      "< VALIDATION >\n",
      "Total Accuracy\n",
      "98.34567901234567 %\n",
      "-------------------------------------------------------------------------\n",
      "Class Accuracy\n",
      "Mask   : 99.8892716535433 %\n",
      "Gender : 99.77854330708661 %\n",
      "Age    : 98.68356299212599 %\n",
      "-------------------------------------------------------------------------\n",
      "Confusion Matrix\n",
      "[573   0   0   1   0   0   1   0   0   0   0   0   0   0   0   0   0   0]\n",
      "[  6 282   8   0   0   0   0   0   0   0   0   0   0   0   0   0   0   0]\n",
      "[  0   1 165   0   0   0   0   0   0   0   0   0   0   0   0   0   0   0]\n",
      "[  3   0   0 734   2   0   0   0   0   0   0   0   0   0   0   0   0   0]\n",
      "[  0   1   0   6 678  12   0   0   0   0   0   0   0   0   0   0   0   0]\n",
      "[  0   0   1   0  11 246   0   0   0   0   0   0   0   0   0   0   0   0]\n",
      "[  0   0   0   0   0   0 587   1   0   1   0   0   0   0   0   0   0   0]\n",
      "[  0   0   0   0   0   0   2 311   4   0   1   0   0   0   0   0   0   0]\n",
      "[  0   0   0   0   0   0   0   2 175   0   0   0   0   0   0   0   0   0]\n",
      "[  0   0   0   1   0   0   3   0   0 709   2   0   0   0   0   0   0   0]\n",
      "[  0   0   0   0   0   0   0   0   0   2 643   9   0   0   0   0   0   0]\n",
      "[  0   0   0   0   0   7   0   0   0   0   7 238   0   0   0   0   0   0]\n",
      "[  0   0   0   0   0   0   0   0   0   0   0   0 553   0   0   1   0   0]\n",
      "[  0   0   0   0   0   0   0   0   0   0   0   0   6 312   8   0   2   0]\n",
      "[  0   0   0   0   0   0   0   0   0   0   0   0   0   3 179   0   0   0]\n",
      "[  0   0   0   0   0   0   0   0   0   0   0   0   4   0   0 718   2   0]\n",
      "[  0   0   0   0   0   0   0   0   0   0   0   0   0   0   0   0 612  11]\n",
      "[  0   0   0   0   0   0   0   0   0   0   0   0   0   0   0   0   2 251]\n",
      "-------------------------------------------------------------------------\n",
      "Validation F1 score : 0.9789709914145219\n",
      "*************************************************************************\n",
      "\n"
     ]
    },
    {
     "name": "stderr",
     "output_type": "stream",
     "text": [
      "100%|█████████▉| 1011/1012 [08:02<00:00,  2.24it/s] "
     ]
    },
    {
     "name": "stdout",
     "output_type": "stream",
     "text": [
      "Loss : 1.4330822316554224\n",
      "< VALIDATION >\n",
      "Total Accuracy\n",
      "98.69135802469135 %\n",
      "-------------------------------------------------------------------------\n",
      "Class Accuracy\n",
      "Mask   : 99.9630905511811 %\n",
      "Gender : 99.81545275590551 %\n",
      "Age    : 98.90501968503938 %\n",
      "-------------------------------------------------------------------------\n",
      "Confusion Matrix\n",
      "[574   0   0   1   0   0   0   0   0   0   0   0   0   0   0   0   0   0]\n",
      "[  4 283   8   0   0   0   0   1   0   0   0   0   0   0   0   0   0   0]\n",
      "[  0   1 165   0   0   0   0   0   0   0   0   0   0   0   0   0   0   0]\n",
      "[  3   0   0 732   3   1   0   0   0   0   0   0   0   0   0   0   0   0]\n",
      "[  0   0   0   4 680  12   0   0   0   0   1   0   0   0   0   0   0   0]\n",
      "[  0   1   0   0   8 249   0   0   0   0   0   0   0   0   0   0   0   0]\n",
      "[  0   0   0   0   0   0 588   0   0   1   0   0   0   0   0   0   0   0]\n",
      "[  0   0   0   0   0   0   2 314   1   0   1   0   0   0   0   0   0   0]\n",
      "[  0   0   0   0   0   0   0   2 175   0   0   0   0   0   0   0   0   0]\n",
      "[  0   0   0   0   0   0   3   0   0 709   3   0   0   0   0   0   0   0]\n",
      "[  0   0   0   0   0   0   0   0   0   4 645   5   0   0   0   0   0   0]\n",
      "[  0   0   0   0   0   1   0   0   0   0   6 245   0   0   0   0   0   0]\n",
      "[  0   0   0   0   0   0   0   0   0   0   0   0 553   0   0   1   0   0]\n",
      "[  0   0   0   0   0   0   0   0   0   0   0   0   5 317   4   0   2   0]\n",
      "[  0   0   0   0   0   0   0   0   0   0   0   0   0   3 179   0   0   0]\n",
      "[  0   0   0   0   0   0   0   0   0   0   0   0   2   0   0 720   2   0]\n",
      "[  0   0   0   0   0   0   0   0   0   0   0   0   0   0   0   0 616   7]\n",
      "[  0   0   0   0   0   0   0   0   0   0   0   0   0   0   0   0   3 250]\n",
      "-------------------------------------------------------------------------\n",
      "Validation F1 score : 0.9841404744270768\n"
     ]
    },
    {
     "name": "stderr",
     "output_type": "stream",
     "text": [
      "100%|██████████| 1012/1012 [08:30<00:00,  8.80s/it]"
     ]
    },
    {
     "name": "stdout",
     "output_type": "stream",
     "text": [
      "model saved!\n",
      "*************************************************************************\n",
      "\n"
     ]
    },
    {
     "name": "stderr",
     "output_type": "stream",
     "text": [
      "1013it [08:30,  1.98it/s]                          "
     ]
    },
    {
     "name": "stdout",
     "output_type": "stream",
     "text": [
      "Adjusting learning rate of group 0 to 2.5604e-05.\n",
      "Epoch : 13\n"
     ]
    },
    {
     "name": "stderr",
     "output_type": "stream",
     "text": [
      "\n",
      " 50%|█████     | 506/1012 [03:47<03:45,  2.24it/s]"
     ]
    },
    {
     "name": "stdout",
     "output_type": "stream",
     "text": [
      "Loss : 1.4330198830636531\n"
     ]
    },
    {
     "name": "stderr",
     "output_type": "stream",
     "text": [
      " 50%|█████     | 507/1012 [04:15<1:14:22,  8.84s/it]"
     ]
    },
    {
     "name": "stdout",
     "output_type": "stream",
     "text": [
      "< VALIDATION >\n",
      "Total Accuracy\n",
      "98.69135802469135 %\n",
      "-------------------------------------------------------------------------\n",
      "Class Accuracy\n",
      "Mask   : 99.9261811023622 %\n",
      "Gender : 99.76624015748031 %\n",
      "Age    : 99.00344488188976 %\n",
      "-------------------------------------------------------------------------\n",
      "Confusion Matrix\n",
      "[574   0   0   1   0   0   0   0   0   0   0   0   0   0   0   0   0   0]\n",
      "[  6 284   6   0   0   0   0   0   0   0   0   0   0   0   0   0   0   0]\n",
      "[  0   1 165   0   0   0   0   0   0   0   0   0   0   0   0   0   0   0]\n",
      "[  5   0   0 729   5   0   0   0   0   0   0   0   0   0   0   0   0   0]\n",
      "[  0   0   0   2 685  10   0   0   0   0   0   0   0   0   0   0   0   0]\n",
      "[  0   0   2   0   7 249   0   0   0   0   0   0   0   0   0   0   0   0]\n",
      "[  0   0   0   0   0   0 588   0   0   1   0   0   0   0   0   0   0   0]\n",
      "[  0   0   0   0   0   0   1 312   4   0   1   0   0   0   0   0   0   0]\n",
      "[  0   0   0   0   0   0   0   2 175   0   0   0   0   0   0   0   0   0]\n",
      "[  0   0   0   1   0   0   4   0   0 707   3   0   0   0   0   0   0   0]\n",
      "[  0   0   0   0   0   0   0   0   0   4 646   4   0   0   0   0   0   0]\n",
      "[  0   0   0   0   0   5   0   0   0   0   9 238   0   0   0   0   0   0]\n",
      "[  0   0   0   0   0   0   0   0   0   0   0   0 553   0   0   1   0   0]\n",
      "[  0   0   0   0   0   0   0   0   0   0   0   0   4 316   6   0   2   0]\n",
      "[  0   0   0   0   0   0   0   0   0   0   0   0   0   3 179   0   0   0]\n",
      "[  0   0   0   0   0   0   0   0   0   0   0   0   2   0   0 720   2   0]\n",
      "[  0   0   0   0   0   0   0   0   0   0   0   0   0   0   0   0 622   1]\n",
      "[  0   0   0   0   0   0   0   0   0   0   0   0   0   0   0   0   1 252]\n",
      "-------------------------------------------------------------------------\n",
      "Validation F1 score : 0.983649339540002\n",
      "*************************************************************************\n",
      "\n"
     ]
    },
    {
     "name": "stderr",
     "output_type": "stream",
     "text": [
      "100%|█████████▉| 1011/1012 [08:01<00:00,  2.23it/s] "
     ]
    },
    {
     "name": "stdout",
     "output_type": "stream",
     "text": [
      "Loss : 1.4312894850851519\n",
      "< VALIDATION >\n",
      "Total Accuracy\n",
      "98.79012345679013 %\n",
      "-------------------------------------------------------------------------\n",
      "Class Accuracy\n",
      "Mask   : 99.9138779527559 %\n",
      "Gender : 99.77854330708661 %\n",
      "Age    : 99.08956692913385 %\n",
      "-------------------------------------------------------------------------\n",
      "Confusion Matrix\n",
      "[574   0   0   1   0   0   0   0   0   0   0   0   0   0   0   0   0   0]\n",
      "[  4 288   4   0   0   0   0   0   0   0   0   0   0   0   0   0   0   0]\n",
      "[  0   0 165   0   1   0   0   0   0   0   0   0   0   0   0   0   0   0]\n",
      "[  3   0   0 731   5   0   0   0   0   0   0   0   0   0   0   0   0   0]\n",
      "[  0   0   0   0 683  13   0   0   0   0   1   0   0   0   0   0   0   0]\n",
      "[  0   0   0   0   9 249   0   0   0   0   0   0   0   0   0   0   0   0]\n",
      "[  0   0   0   0   0   0 588   0   0   1   0   0   0   0   0   0   0   0]\n",
      "[  0   0   0   0   0   0   1 314   2   0   1   0   0   0   0   0   0   0]\n",
      "[  0   0   0   0   0   0   0   2 175   0   0   0   0   0   0   0   0   0]\n",
      "[  0   0   0   1   0   0   4   0   0 707   3   0   0   0   0   0   0   0]\n",
      "[  0   0   0   0   0   0   0   0   0   4 647   3   0   0   0   0   0   0]\n",
      "[  0   0   0   0   0   5   0   0   0   0   7 240   0   0   0   0   0   0]\n",
      "[  0   0   0   0   0   0   0   0   0   0   0   0 552   0   0   2   0   0]\n",
      "[  0   0   0   0   0   0   0   0   0   0   0   0   2 319   5   0   2   0]\n",
      "[  0   0   0   0   0   0   0   0   0   0   0   0   0   3 179   0   0   0]\n",
      "[  0   0   0   0   0   0   0   0   0   0   0   0   3   0   0 719   2   0]\n",
      "[  0   0   0   0   0   0   0   0   0   0   0   0   0   0   0   0 621   2]\n",
      "[  0   0   0   0   0   0   0   0   0   0   0   0   0   0   0   0   2 251]\n",
      "-------------------------------------------------------------------------\n",
      "Validation F1 score : 0.9855529139782406\n"
     ]
    },
    {
     "name": "stderr",
     "output_type": "stream",
     "text": [
      "100%|██████████| 1012/1012 [08:30<00:00,  8.78s/it]"
     ]
    },
    {
     "name": "stdout",
     "output_type": "stream",
     "text": [
      "model saved!\n",
      "*************************************************************************\n",
      "\n"
     ]
    },
    {
     "name": "stderr",
     "output_type": "stream",
     "text": [
      "1013it [08:30,  1.98it/s]                          "
     ]
    },
    {
     "name": "stdout",
     "output_type": "stream",
     "text": [
      "Adjusting learning rate of group 0 to 2.1763e-05.\n",
      "Epoch : 14\n"
     ]
    },
    {
     "name": "stderr",
     "output_type": "stream",
     "text": [
      "\n",
      " 50%|█████     | 506/1012 [03:48<03:46,  2.23it/s]"
     ]
    },
    {
     "name": "stdout",
     "output_type": "stream",
     "text": [
      "Loss : 1.430043092846165\n"
     ]
    },
    {
     "name": "stderr",
     "output_type": "stream",
     "text": [
      " 50%|█████     | 507/1012 [04:15<1:12:39,  8.63s/it]"
     ]
    },
    {
     "name": "stdout",
     "output_type": "stream",
     "text": [
      "< VALIDATION >\n",
      "Total Accuracy\n",
      "98.8395061728395 %\n",
      "-------------------------------------------------------------------------\n",
      "Class Accuracy\n",
      "Mask   : 99.9630905511811 %\n",
      "Gender : 99.80314960629921 %\n",
      "Age    : 99.06496062992126 %\n",
      "-------------------------------------------------------------------------\n",
      "Confusion Matrix\n",
      "[574   0   0   1   0   0   0   0   0   0   0   0   0   0   0   0   0   0]\n",
      "[  6 286   4   0   0   0   0   0   0   0   0   0   0   0   0   0   0   0]\n",
      "[  0   1 165   0   0   0   0   0   0   0   0   0   0   0   0   0   0   0]\n",
      "[  3   0   0 730   5   1   0   0   0   0   0   0   0   0   0   0   0   0]\n",
      "[  0   0   0   3 685   9   0   0   0   0   0   0   0   0   0   0   0   0]\n",
      "[  0   1   0   0   6 251   0   0   0   0   0   0   0   0   0   0   0   0]\n",
      "[  0   0   0   0   0   0 588   0   0   1   0   0   0   0   0   0   0   0]\n",
      "[  0   0   0   0   0   0   1 312   4   0   1   0   0   0   0   0   0   0]\n",
      "[  0   0   0   0   0   0   0   2 174   0   0   1   0   0   0   0   0   0]\n",
      "[  0   0   0   1   0   0   3   0   0 709   2   0   0   0   0   0   0   0]\n",
      "[  0   0   0   0   0   0   0   0   0   2 650   2   0   0   0   0   0   0]\n",
      "[  0   0   0   0   0   2   0   0   0   0   7 243   0   0   0   0   0   0]\n",
      "[  0   0   0   0   0   0   0   0   0   0   0   0 553   0   0   1   0   0]\n",
      "[  0   0   0   0   0   0   0   0   0   0   0   0   4 315   7   0   2   0]\n",
      "[  0   0   0   0   0   0   0   0   0   0   0   0   0   3 179   0   0   0]\n",
      "[  0   0   0   0   0   0   0   0   0   0   0   0   2   0   0 721   1   0]\n",
      "[  0   0   0   0   0   0   0   0   0   0   0   0   0   0   0   0 619   4]\n",
      "[  0   0   0   0   0   0   0   0   0   0   0   0   0   0   0   0   1 252]\n",
      "-------------------------------------------------------------------------\n",
      "Validation F1 score : 0.9854724792584051\n",
      "*************************************************************************\n",
      "\n"
     ]
    },
    {
     "name": "stderr",
     "output_type": "stream",
     "text": [
      "100%|█████████▉| 1011/1012 [08:02<00:00,  2.23it/s] "
     ]
    },
    {
     "name": "stdout",
     "output_type": "stream",
     "text": [
      "Loss : 1.429685697725168\n"
     ]
    },
    {
     "name": "stderr",
     "output_type": "stream",
     "text": [
      "100%|██████████| 1012/1012 [08:30<00:00,  8.76s/it]"
     ]
    },
    {
     "name": "stdout",
     "output_type": "stream",
     "text": [
      "< VALIDATION >\n",
      "Total Accuracy\n",
      "98.66666666666667 %\n",
      "-------------------------------------------------------------------------\n",
      "Class Accuracy\n",
      "Mask   : 99.9507874015748 %\n",
      "Gender : 99.79084645669292 %\n",
      "Age    : 98.91732283464567 %\n",
      "-------------------------------------------------------------------------\n",
      "Confusion Matrix\n",
      "[573   0   0   1   0   0   1   0   0   0   0   0   0   0   0   0   0   0]\n",
      "[  5 288   3   0   0   0   0   0   0   0   0   0   0   0   0   0   0   0]\n",
      "[  0   2 164   0   0   0   0   0   0   0   0   0   0   0   0   0   0   0]\n",
      "[  3   0   0 733   2   1   0   0   0   0   0   0   0   0   0   0   0   0]\n",
      "[  0   0   0   0 681  16   0   0   0   0   0   0   0   0   0   0   0   0]\n",
      "[  0   1   0   0   8 249   0   0   0   0   0   0   0   0   0   0   0   0]\n",
      "[  0   0   0   0   0   0 588   0   0   1   0   0   0   0   0   0   0   0]\n",
      "[  0   0   0   0   0   0   1 311   5   0   1   0   0   0   0   0   0   0]\n",
      "[  0   0   0   0   0   0   0   2 175   0   0   0   0   0   0   0   0   0]\n",
      "[  0   0   0   1   0   0   4   0   0 709   1   0   0   0   0   0   0   0]\n",
      "[  0   0   0   0   0   0   0   0   0  10 639   5   0   0   0   0   0   0]\n",
      "[  0   0   0   0   0   2   0   0   0   0   9 241   0   0   0   0   0   0]\n",
      "[  0   0   0   0   0   0   0   0   0   0   0   0 553   0   0   1   0   0]\n",
      "[  0   0   0   0   0   0   0   0   0   0   0   0   2 319   5   0   2   0]\n",
      "[  0   0   0   0   0   0   0   0   0   0   0   0   0   2 180   0   0   0]\n",
      "[  0   0   0   0   0   0   0   0   0   0   0   0   2   0   0 721   1   0]\n",
      "[  0   0   0   0   0   0   0   0   0   0   0   0   0   1   0   0 617   5]\n",
      "[  0   0   0   0   0   0   0   0   0   0   0   0   0   0   0   0   2 251]\n",
      "-------------------------------------------------------------------------\n",
      "Validation F1 score : 0.983839568818992\n",
      "*************************************************************************\n",
      "\n"
     ]
    },
    {
     "name": "stderr",
     "output_type": "stream",
     "text": [
      "1013it [08:30,  1.98it/s]                          "
     ]
    },
    {
     "name": "stdout",
     "output_type": "stream",
     "text": [
      "Adjusting learning rate of group 0 to 1.8499e-05.\n",
      "Epoch : 15\n"
     ]
    },
    {
     "name": "stderr",
     "output_type": "stream",
     "text": [
      "\n",
      " 50%|█████     | 506/1012 [03:47<03:46,  2.24it/s]"
     ]
    },
    {
     "name": "stdout",
     "output_type": "stream",
     "text": [
      "Loss : 1.4291279005581106\n"
     ]
    },
    {
     "name": "stderr",
     "output_type": "stream",
     "text": [
      " 50%|█████     | 507/1012 [04:16<1:14:08,  8.81s/it]"
     ]
    },
    {
     "name": "stdout",
     "output_type": "stream",
     "text": [
      "< VALIDATION >\n",
      "Total Accuracy\n",
      "98.71604938271605 %\n",
      "-------------------------------------------------------------------------\n",
      "Class Accuracy\n",
      "Mask   : 99.9384842519685 %\n",
      "Gender : 99.75393700787401 %\n",
      "Age    : 99.01574803149606 %\n",
      "-------------------------------------------------------------------------\n",
      "Confusion Matrix\n",
      "[573   0   0   2   0   0   0   0   0   0   0   0   0   0   0   0   0   0]\n",
      "[  4 288   3   0   1   0   0   0   0   0   0   0   0   0   0   0   0   0]\n",
      "[  0   1 165   0   0   0   0   0   0   0   0   0   0   0   0   0   0   0]\n",
      "[  3   0   0 732   3   1   0   0   0   0   0   0   0   0   0   0   0   0]\n",
      "[  0   0   0   1 680  16   0   0   0   0   0   0   0   0   0   0   0   0]\n",
      "[  0   0   0   0   9 249   0   0   0   0   0   0   0   0   0   0   0   0]\n",
      "[  0   0   0   0   0   0 586   1   1   1   0   0   0   0   0   0   0   0]\n",
      "[  0   0   0   0   0   0   1 314   1   0   2   0   0   0   0   0   0   0]\n",
      "[  0   0   0   0   0   0   0   3 173   0   0   1   0   0   0   0   0   0]\n",
      "[  0   0   0   1   0   0   4   0   0 709   1   0   0   0   0   0   0   0]\n",
      "[  0   0   0   0   1   0   1   0   0   6 642   4   0   0   0   0   0   0]\n",
      "[  0   0   0   0   0   3   0   0   0   0   6 243   0   0   0   0   0   0]\n",
      "[  0   0   0   0   0   0   0   0   0   0   0   0 553   0   0   1   0   0]\n",
      "[  0   0   0   0   0   0   0   0   0   0   0   0   2 319   5   0   2   0]\n",
      "[  0   0   0   0   0   0   0   0   0   0   0   0   0   3 179   0   0   0]\n",
      "[  0   0   0   0   0   0   0   0   0   0   0   0   2   0   0 721   1   0]\n",
      "[  0   0   0   0   0   0   0   0   0   0   0   0   0   0   0   1 618   4]\n",
      "[  0   0   0   0   0   0   0   0   0   0   0   0   0   0   0   0   1 252]\n",
      "-------------------------------------------------------------------------\n",
      "Validation F1 score : 0.9846847909269548\n",
      "*************************************************************************\n",
      "\n"
     ]
    },
    {
     "name": "stderr",
     "output_type": "stream",
     "text": [
      "100%|█████████▉| 1011/1012 [08:02<00:00,  2.24it/s] "
     ]
    },
    {
     "name": "stdout",
     "output_type": "stream",
     "text": [
      "Loss : 1.4290161298904493\n",
      "< VALIDATION >\n",
      "Total Accuracy\n",
      "99.01234567901234 %\n",
      "-------------------------------------------------------------------------\n",
      "Class Accuracy\n",
      "Mask   : 99.9507874015748 %\n",
      "Gender : 99.76624015748031 %\n",
      "Age    : 99.29872047244095 %\n",
      "-------------------------------------------------------------------------\n",
      "Confusion Matrix\n",
      "[574   0   0   1   0   0   0   0   0   0   0   0   0   0   0   0   0   0]\n",
      "[  4 289   3   0   0   0   0   0   0   0   0   0   0   0   0   0   0   0]\n",
      "[  0   1 165   0   0   0   0   0   0   0   0   0   0   0   0   0   0   0]\n",
      "[  6   0   0 729   4   0   0   0   0   0   0   0   0   0   0   0   0   0]\n",
      "[  0   0   0   0 684  11   0   0   0   0   2   0   0   0   0   0   0   0]\n",
      "[  0   0   0   0   6 252   0   0   0   0   0   0   0   0   0   0   0   0]\n",
      "[  0   0   0   0   0   0 587   1   0   1   0   0   0   0   0   0   0   0]\n",
      "[  0   0   0   0   0   0   1 313   2   0   2   0   0   0   0   0   0   0]\n",
      "[  0   0   0   0   0   0   0   3 174   0   0   0   0   0   0   0   0   0]\n",
      "[  0   0   0   1   0   0   3   0   0 709   1   0   0   0   0   1   0   0]\n",
      "[  0   0   0   0   0   0   0   0   0   1 649   4   0   0   0   0   0   0]\n",
      "[  0   0   0   0   0   0   0   0   0   0   4 248   0   0   0   0   0   0]\n",
      "[  0   0   0   0   0   0   0   0   0   0   0   0 553   0   0   1   0   0]\n",
      "[  0   0   0   0   0   0   0   0   0   0   0   0   2 320   4   0   2   0]\n",
      "[  0   0   0   0   0   0   0   0   0   0   0   0   0   1 181   0   0   0]\n",
      "[  0   0   0   0   0   0   0   0   0   0   0   0   3   0   0 720   1   0]\n",
      "[  0   0   0   0   0   0   0   0   0   0   0   0   0   0   0   0 622   1]\n",
      "[  0   0   0   0   0   0   0   0   0   0   0   0   0   0   0   0   2 251]\n",
      "-------------------------------------------------------------------------\n",
      "Validation F1 score : 0.9885666775600339\n"
     ]
    },
    {
     "name": "stderr",
     "output_type": "stream",
     "text": [
      "100%|██████████| 1012/1012 [08:30<00:00,  8.73s/it]"
     ]
    },
    {
     "name": "stdout",
     "output_type": "stream",
     "text": [
      "model saved!\n",
      "*************************************************************************\n",
      "\n"
     ]
    },
    {
     "name": "stderr",
     "output_type": "stream",
     "text": [
      "1013it [08:30,  1.98it/s]                          "
     ]
    },
    {
     "name": "stdout",
     "output_type": "stream",
     "text": [
      "Adjusting learning rate of group 0 to 1.5724e-05.\n",
      "Finish\n"
     ]
    },
    {
     "name": "stderr",
     "output_type": "stream",
     "text": [
      "\n"
     ]
    }
   ],
   "source": [
    "NUM_EPOCHS = 15\n",
    "\n",
    "for epoch in range(NUM_EPOCHS):\n",
    "    print(\"Epoch :\", epoch + 1)\n",
    "    train_running_loss = 0.0\n",
    "    train_running_correct = 0\n",
    "    counter = 0\n",
    "    total = 0\n",
    "    total_it = int(len(train_dataset)/train_loader.batch_size)\n",
    "    prog_bar = tqdm(enumerate(train_loader), total=total_it)\n",
    "    for i, (inputs, (m, g, a)) in prog_bar:\n",
    "        counter += 1\n",
    "        optimizer.zero_grad()\n",
    "        inputs = inputs.to(device)\n",
    "        m_pred, g_pred, a_pred = model(inputs)\n",
    "        \n",
    "        \n",
    "        m = m.to(device)\n",
    "        g = g.to(device)\n",
    "        a = a.to(device)\n",
    "        total += m.size(0)\n",
    "        \n",
    "        \n",
    "#         print(g.shape)\n",
    "#         print(g_pred.shape)\n",
    "        \n",
    "#         print(a.shape)\n",
    "#         print(a_pred.shape)\n",
    "        \n",
    "#         print(m.shape)\n",
    "#         print(m_pred.shape)\n",
    "        \n",
    "        m_loss = criterion(m_pred, m)\n",
    "        g_loss = gender_criterion(g_pred, g)\n",
    "        a_loss = age_criterion(a_pred, a) # data imbalance\n",
    "        \n",
    "        \n",
    "        loss = (g_loss+a_loss+m_loss)\n",
    "        loss.backward()\n",
    "        optimizer.step()\n",
    "        \n",
    "#         m_argmax = torch.argmax(m_pred)\n",
    "        \n",
    "#         _, preds = torch.max(outputs.data, 1)\n",
    "#         train_running_correct += (preds == labels).sum().item()\n",
    "        \n",
    "        train_running_loss += loss.item()\n",
    "        \n",
    "        if i == total_it//2 or i == total_it-1:\n",
    "            train_loss = train_running_loss / counter\n",
    "#             train_accuracy = 100. * train_running_correct / total\n",
    "\n",
    "            print(\"Loss :\", train_loss)\n",
    "#             print(\"Accuracy :\", train_accuracy)\n",
    "            \n",
    "            check(val_loader, len(val_dataset), model, device)\n",
    "    scheduler.step()\n",
    "    train_running_loss = 0.0\n",
    "    train_running_correct = 0\n",
    "print(\"Finish\")"
   ]
  },
  {
   "cell_type": "markdown",
   "id": "continued-feelings",
   "metadata": {},
   "source": [
    "## Testing"
   ]
  },
  {
   "cell_type": "code",
   "execution_count": 140,
   "id": "8ecf6622-e3d7-401a-84d8-82ba94f6e654",
   "metadata": {},
   "outputs": [
    {
     "data": {
      "text/plain": [
       "<All keys matched successfully>"
      ]
     },
     "execution_count": 140,
     "metadata": {},
     "output_type": "execute_result"
    }
   ],
   "source": [
    "# model.load_state_dict(torch.load('/opt/ml/weights/3way/Aug_{}.pt'.format(model.best_f1)))\n",
    "model.load_state_dict(torch.load('/opt/ml/weights/3way/Aug_0.9841404744270768.pt'.format(model.best_f1)))"
   ]
  },
  {
   "cell_type": "code",
   "execution_count": 142,
   "id": "coral-shade",
   "metadata": {},
   "outputs": [
    {
     "name": "stderr",
     "output_type": "stream",
     "text": [
      "197it [00:38,  5.18it/s]                         "
     ]
    },
    {
     "name": "stdout",
     "output_type": "stream",
     "text": [
      "test inference is done!\n"
     ]
    },
    {
     "name": "stderr",
     "output_type": "stream",
     "text": [
      "\n"
     ]
    }
   ],
   "source": [
    "# meta 데이터와 이미지 경로를 불러옵니다.\n",
    "submission = pd.read_csv(os.path.join(test_dir, 'info.csv'))\n",
    "image_dir = os.path.join(test_dir, 'images')\n",
    "\n",
    "# Test Dataset 클래스 객체를 생성하고 DataLoader를 만듭니다.\n",
    "image_paths = [os.path.join(image_dir, img_id) for img_id in submission.ImageID]\n",
    "dataset = TestDataset(image_paths, tfms_test)\n",
    "\n",
    "loader = DataLoader(\n",
    "    dataset,\n",
    "    shuffle=False,\n",
    "    batch_size=64,\n",
    "    num_workers=4\n",
    ")\n",
    "\n",
    "# 모델을 정의합니다. (학습한 모델이 있다면 torch.load로 모델을 불러주세요!)\n",
    "# device = torch.device('cuda')\n",
    "\n",
    "model.eval()\n",
    "device = torch.device(\"cuda:0\")\n",
    "# 모델이 테스트 데이터셋을 예측하고 결과를 저장합니다.\n",
    "all_predictions = []\n",
    "\n",
    "prog_bar = tqdm(enumerate(loader), total=int(len(dataset)/loader.batch_size))\n",
    "for i, images in prog_bar:\n",
    "    with torch.no_grad():\n",
    "        images = images.to(device)\n",
    "        m_pred, g_pred, a_pred = model(images)\n",
    "#         print(images.shape)\n",
    "#         print(m_pred.shape)\n",
    "        m_argmax = m_pred.detach().cpu().numpy().argmax(1)\n",
    "        g_argmax = g_pred.detach().cpu().numpy().argmax(1)\n",
    "        a_argmax = a_pred.detach().cpu().numpy().argmax(1)\n",
    "        \n",
    "        for mask, gender, age in zip(m_argmax, g_argmax, a_argmax):\n",
    "            predicted = labels_to_class[(mask.item(), gender.item(), age.item())]\n",
    "            all_predictions.append(predicted)\n",
    "submission['ans'] = all_predictions\n",
    "\n",
    "# 제출할 파일을 저장합니다.\n",
    "submission.to_csv(os.path.join(test_dir, 'submission.csv'), index=False)\n",
    "print('test inference is done!')"
   ]
  },
  {
   "cell_type": "code",
   "execution_count": 141,
   "id": "01883cc5-1adf-4c19-ba4b-e53ce43575ea",
   "metadata": {},
   "outputs": [
    {
     "name": "stdout",
     "output_type": "stream",
     "text": [
      "Incorrect : 100.0 %\n",
      "Male : 85.72336435317993 %\n",
      "60 ~ : 99.93423819541931 %\n"
     ]
    },
    {
     "data": {
      "image/png": "[encoded data removed]",
      "text/plain": [
       "<Figure size 432x288 with 1 Axes>"
      ]
     },
     "metadata": {
      "needs_background": "light"
     },
     "output_type": "display_data"
    }
   ],
   "source": [
    "idx = 1020\n",
    "image = cv2.imread(image_paths[idx])\n",
    "image = cv2.cvtColor(image, cv2.COLOR_BGR2RGB)\n",
    "plt.imshow(image)\n",
    "\n",
    "image = tfms_test(image=image)['image'].to(device)\n",
    "image = image.unsqueeze(0)\n",
    "m_pred, g_pred, a_pred = model(image)\n",
    "\n",
    "m_argmax = m_pred.detach().cpu().numpy().argmax(1)\n",
    "g_argmax = g_pred.detach().cpu().numpy().argmax(1)\n",
    "a_argmax = a_pred.detach().cpu().numpy().argmax(1)\n",
    "\n",
    "#\n",
    "masklabel = {0: \"Mask\", 1: \"Incorrect\", 2: \"Normal\"}\n",
    "genderlabel = {0: \"Male\", 1: \"Female\"}\n",
    "agelabel = {0: \"~ 30\", 1: \"30 ~ 60\", 2: \"60 ~\"}\n",
    "#\n",
    "print(masklabel[m_argmax[0]]+ \" :\", (m_pred[0][m_argmax].item())*100, '%')\n",
    "print(genderlabel[g_argmax[0]]+ \" :\", (g_pred[0][g_argmax].item())*100, '%')\n",
    "print(agelabel[a_argmax[0]]+ \" :\", (a_pred[0][a_argmax].item())*100, '%')\n"
   ]
  },
  {
   "cell_type": "code",
   "execution_count": null,
   "id": "2614e887-7750-4c03-80a5-7a0a5b3fab38",
   "metadata": {},
   "outputs": [],
   "source": []
  }
 ],
 "metadata": {
  "kernelspec": {
   "display_name": "Python 3 (ipykernel)",
   "language": "python",
   "name": "python3"
  },
  "language_info": {
   "codemirror_mode": {
    "name": "ipython",
    "version": 3
   },
   "file_extension": ".py",
   "mimetype": "text/x-python",
   "name": "python",
   "nbconvert_exporter": "python",
   "pygments_lexer": "ipython3",
   "version": "3.8.5"
  }
 },
 "nbformat": 4,
 "nbformat_minor": 5
}
