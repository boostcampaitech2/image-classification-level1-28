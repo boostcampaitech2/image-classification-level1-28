{
 "cells": [
  {
   "cell_type": "code",
   "execution_count": 1,
   "id": "cubic-scoop",
   "metadata": {},
   "outputs": [
    {
     "name": "stderr",
     "output_type": "stream",
     "text": [
      "\u001b[34m\u001b[1mwandb\u001b[0m: Currently logged in as: \u001b[33myoukind\u001b[0m (use `wandb login --relogin` to force relogin)\n",
      "\n",
      "CondaEnvException: Unable to determine environment\n",
      "\n",
      "Please re-run this command with one of the following options:\n",
      "\n",
      "* Provide an environment name via --name or -n\n",
      "* Re-run this command inside an activated conda environment.\n",
      "\n"
     ]
    },
    {
     "data": {
      "text/html": [
       "\n",
       "                Tracking run with wandb version 0.12.0<br/>\n",
       "                Syncing run <strong style=\"color:#cdcd00\">lemon-field-3</strong> to <a href=\"https://wandb.ai\" target=\"_blank\">Weights & Biases</a> <a href=\"https://docs.wandb.com/integrations/jupyter.html\" target=\"_blank\">(Documentation)</a>.<br/>\n",
       "                Project page: <a href=\"https://wandb.ai/youkind/MaskClassification\" target=\"_blank\">https://wandb.ai/youkind/MaskClassification</a><br/>\n",
       "                Run page: <a href=\"https://wandb.ai/youkind/MaskClassification/runs/2biswf21\" target=\"_blank\">https://wandb.ai/youkind/MaskClassification/runs/2biswf21</a><br/>\n",
       "                Run data is saved locally in <code>/opt/ml/git/JH/wandb/run-20210825_044233-2biswf21</code><br/><br/>\n",
       "            "
      ],
      "text/plain": [
       "<IPython.core.display.HTML object>"
      ]
     },
     "metadata": {},
     "output_type": "display_data"
    },
    {
     "data": {
      "text/html": [
       "<h1>Run(2biswf21)</h1><iframe src=\"https://wandb.ai/youkind/MaskClassification/runs/2biswf21\" style=\"border:none;width:100%;height:400px\"></iframe>"
      ],
      "text/plain": [
       "<wandb.sdk.wandb_run.Run at 0x7f75e78edb50>"
      ]
     },
     "execution_count": 1,
     "metadata": {},
     "output_type": "execute_result"
    }
   ],
   "source": [
    "import os\n",
    "import pandas as pd\n",
    "import numpy as np\n",
    "from PIL import Image\n",
    "import matplotlib.pyplot as plt\n",
    "import albumentations as A\n",
    "import albumentations.pytorch\n",
    "import cv2\n",
    "\n",
    "import torch\n",
    "import torch.nn as nn\n",
    "import torch.nn.functional as F\n",
    "from torch.utils.data import Dataset, DataLoader\n",
    "\n",
    "from torchvision import transforms\n",
    "from torchvision.transforms import Resize, ToTensor, Normalize\n",
    "from tqdm import tqdm\n",
    "\n",
    "import wandb\n",
    "\n",
    "config={\n",
    "    \"lr\": 1.8e-4,\n",
    "    \"dropout\": 0.5,\n",
    "    \"architecture\": \"Efficientb6 + 3way\",\n",
    "    \"dataset\": \"mask + age\",\n",
    "    \"augmentation\" : \"On Runtime\",\n",
    "    \"age_weightedloss\" : [1.0, 1.0, 1.0],\n",
    "    \"gender_weightedloss\" : [1.4, 1.0],\n",
    "    \"gamma\" : 0.85,\n",
    "    \"batch_size\" : 32\n",
    "}\n",
    "\n",
    "wandb.init(project=\"MaskClassification\", config=config)\n",
    "\n"
   ]
  },
  {
   "cell_type": "code",
   "execution_count": 2,
   "id": "eb8f33ff-a325-4a5e-95f9-27f0a0cb131c",
   "metadata": {},
   "outputs": [
    {
     "name": "stdout",
     "output_type": "stream",
     "text": [
      "CUDA GPU available : True\n",
      "1 GPU(s) is(are) allocated\n"
     ]
    }
   ],
   "source": [
    "print('CUDA GPU available : {}'.format(torch.cuda.is_available()))\n",
    "try:\n",
    "    print('{} GPU(s) is(are) allocated'.format(torch.cuda.device_count()))\n",
    "except:\n",
    "    print('GPUs are not allocated. Current runtime is on CPU.')\n",
    "device = torch.device(\"cuda\")\n",
    "CUDA_LAUNCH_BLOCKING=1"
   ]
  },
  {
   "cell_type": "code",
   "execution_count": 3,
   "id": "built-elevation",
   "metadata": {},
   "outputs": [],
   "source": [
    "# 테스트 데이터셋 폴더 경로를 지정해주세요.\n",
    "test_dir = '/opt/ml/input/data/eval'\n",
    "train_dir = '/opt/ml/input/data/train'\n",
    "\n",
    "labels_to_class = {}\n",
    "it = [(m, g, a) for m in [0,1,2] for g in [0, 1] for a in [0, 1, 2]]\n",
    "for i, (m, g, a) in enumerate(it):\n",
    "    labels_to_class[(m, g, a)] = i"
   ]
  },
  {
   "cell_type": "markdown",
   "id": "domestic-channels",
   "metadata": {},
   "source": [
    "## Dataset"
   ]
  },
  {
   "cell_type": "code",
   "execution_count": 4,
   "id": "extensive-north",
   "metadata": {},
   "outputs": [],
   "source": [
    "class TrainDataset(Dataset):\n",
    "    def __init__(self, train_dir, is_Train=True, transform=None):\n",
    "        super().__init__()\n",
    "        \n",
    "        csv_path = os.path.join(train_dir, 'train.csv')\n",
    "        csv = pd.read_csv(csv_path)\n",
    "        self.image_dir = os.path.join(train_dir, 'images')\n",
    "        self.transform = transform\n",
    "        self.image_path = []\n",
    "        path = csv['path']\n",
    "        \n",
    "        for p in path:\n",
    "            images = [os.path.join(*[self.image_dir, p, image]) for image in os.listdir(os.path.join(self.image_dir, p)) if not image[:1] == '.']\n",
    "            for image in images:\n",
    "                self.image_path.append(image)\n",
    "\n",
    "    def __len__(self):\n",
    "        return len(self.image_path)\n",
    "\n",
    "    def __getitem__(self, idx):\n",
    "        image_name = self.image_path[idx]\n",
    "        image = cv2.imread(image_name)\n",
    "        image = cv2.cvtColor(image, cv2.COLOR_BGR2RGB)\n",
    "        \n",
    "        features = image_name.split('/')[-2:]\n",
    "        \n",
    "        masktoint = {'m' : 0, 'i' : 1, 'n' : 2}\n",
    "        gendertoint = {'male' : 0, 'female' : 1}\n",
    "        \n",
    "        mask = masktoint[features[1][0]]\n",
    "        age = int(features[0].split('_')[-1])\n",
    "        gender = gendertoint[features[0].split('_')[1]]\n",
    "        \n",
    "        if age >= 60: # 원래 60\n",
    "            age = 2\n",
    "        elif age >= 30: # 원래 30\n",
    "            age = 1\n",
    "        else:\n",
    "            age = 0        \n",
    "        \n",
    "        if self.transform:\n",
    "            image = self.transform(image=image)['image']\n",
    "        \n",
    "        return image, (mask, gender, age)\n",
    "\n",
    "class TestDataset(Dataset):\n",
    "    def __init__(self, img_paths, transform):\n",
    "        self.img_paths = img_paths\n",
    "        self.transform = transform\n",
    "\n",
    "    def __getitem__(self, index):\n",
    "        image = cv2.imread(self.img_paths[index])\n",
    "        image = cv2.cvtColor(image, cv2.COLOR_BGR2RGB)\n",
    "        if self.transform:\n",
    "            image = self.transform(image=image)['image']\n",
    "        return image\n",
    "\n",
    "    def __len__(self):\n",
    "        return len(self.img_paths)"
   ]
  },
  {
   "cell_type": "code",
   "execution_count": 5,
   "id": "596e6a97-3fe9-458a-9455-ace9d7a99877",
   "metadata": {},
   "outputs": [],
   "source": [
    "from torch.utils.data.dataset import random_split\n",
    "tfms = A.Compose([\n",
    "        A.augmentations.crops.transforms.CenterCrop(400, 300, p=1.0),\n",
    "        A.augmentations.geometric.resize.Resize(224, 224, interpolation=1, p=1),\n",
    "        A.HorizontalFlip(p=0.5),\n",
    "        A.ShiftScaleRotate(shift_limit=0.05, scale_limit=0.05, rotate_limit=10, p=0.6),\n",
    "        A.RandomBrightnessContrast(brightness_limit=0.1, p=0.6),\n",
    "        A.GaussNoise(p=0.5),\n",
    "        A.transforms.Normalize(mean=(0.485, 0.456, 0.406), std=(0.229, 0.224, 0.225), max_pixel_value=255.0, p=1.0),\n",
    "        A.pytorch.transforms.ToTensorV2(),\n",
    "    ])\n",
    "tfms_test = A.Compose([\n",
    "        A.augmentations.crops.transforms.CenterCrop(400, 360, p=1.0),\n",
    "        A.augmentations.geometric.resize.Resize(224, 224, interpolation=1, p=1),\n",
    "        A.transforms.Normalize(mean=(0.485, 0.456, 0.406), std=(0.229, 0.224, 0.225), max_pixel_value=255.0, p=1.0),\n",
    "        A.pytorch.transforms.ToTensorV2(),\n",
    "    ])\n",
    "dataset = TrainDataset(train_dir, transform=tfms)\n",
    "train_dataset, val_dataset = random_split(dataset, [int(len(dataset)*0.8),int(len(dataset)*0.2)])\n",
    "# print(len(dataset))\n",
    "# plt.imshow(np.array(train_dataset[312][0]['image'].permute(1,2,0)))\n",
    "train_loader = DataLoader(train_dataset, batch_size=config['batch_size'], shuffle=True, num_workers=4, drop_last=False)\n",
    "val_loader   = DataLoader(dataset=val_dataset, num_workers=4, batch_size=config['batch_size'])"
   ]
  },
  {
   "cell_type": "code",
   "execution_count": 6,
   "id": "6aeacde3-f357-4129-a73a-2000a48d315f",
   "metadata": {},
   "outputs": [],
   "source": [
    "# plt.imshow(np.array(train_dataset[312][0]['image'].permute(1,2,0)))"
   ]
  },
  {
   "cell_type": "markdown",
   "id": "21006028-25ad-4414-8bae-730a3bcc33e2",
   "metadata": {
    "tags": []
   },
   "source": [
    "## Model"
   ]
  },
  {
   "cell_type": "code",
   "execution_count": 7,
   "id": "a3174fa2-72d4-475b-bffd-ad23c4669521",
   "metadata": {},
   "outputs": [
    {
     "name": "stdout",
     "output_type": "stream",
     "text": [
      "Loaded pretrained weights for efficientnet-b6\n"
     ]
    }
   ],
   "source": [
    "from efficientnet_pytorch import EfficientNet\n",
    "\n",
    "class Way3(nn.Module):\n",
    "    def __init__(self):\n",
    "        super().__init__()\n",
    "        self.convnet = EfficientNet.from_pretrained('efficientnet-b6', num_classes=1024).to(device)\n",
    "        self.mask = nn.Sequential(\n",
    "            nn.LeakyReLU(),\n",
    "            nn.Dropout(p=config['dropout'], inplace=False),\n",
    "            nn.Linear(1024, 128),\n",
    "            nn.LeakyReLU(),\n",
    "            nn.Dropout(p=config['dropout'], inplace=False),\n",
    "            nn.Linear(128, 3),\n",
    "            nn.Softmax(dim=1)\n",
    "        )\n",
    "        self.gender = nn.Sequential(\n",
    "            nn.LeakyReLU(),\n",
    "            nn.Dropout(p=config['dropout'], inplace=False),\n",
    "            nn.Linear(1024, 128),\n",
    "            nn.LeakyReLU(),\n",
    "            nn.Dropout(p=config['dropout'], inplace=False),\n",
    "            nn.Linear(128, 2),\n",
    "            nn.Softmax(dim=1)\n",
    "        )\n",
    "        self.age = nn.Sequential(\n",
    "            nn.LeakyReLU(),\n",
    "            nn.Dropout(p=config['dropout'], inplace=False),\n",
    "            nn.Linear(1024, 128),\n",
    "            nn.LeakyReLU(),\n",
    "            nn.Dropout(p=config['dropout'], inplace=False),\n",
    "            nn.Linear(128, 3),\n",
    "            nn.Softmax(dim=1)\n",
    "        )\n",
    "        self.best_f1 = 0\n",
    "        \n",
    "    def forward(self, x):\n",
    "        features = self.convnet(x)\n",
    "        mask = self.mask(features)\n",
    "        gender = self.gender(features)\n",
    "        age = self.age(features)\n",
    "        \n",
    "        return mask, gender, age\n",
    "    \n",
    "model = Way3().to(device)"
   ]
  },
  {
   "cell_type": "code",
   "execution_count": 8,
   "id": "f4b1aa9f-2fa1-417f-9e3e-7f160fef7d4c",
   "metadata": {},
   "outputs": [
    {
     "name": "stdout",
     "output_type": "stream",
     "text": [
      "Adjusting learning rate of group 0 to 1.8000e-04.\n"
     ]
    }
   ],
   "source": [
    "import torch.optim as optim\n",
    "\n",
    "w_gender = torch.tensor(config['gender_weightedloss']).to(device)\n",
    "w_age = torch.tensor(config['age_weightedloss']).to(device)\n",
    "\n",
    "criterion = nn.CrossEntropyLoss()\n",
    "gender_criterion = nn.CrossEntropyLoss(w_gender)\n",
    "age_criterion = nn.CrossEntropyLoss(weight=w_age)\n",
    "# b_criterion = nn.BCEWithLogitsLoss()\n",
    "# criterion = FocalLoss()\n",
    "optimizer = optim.AdamW(model.parameters(), lr=config['lr'])\n",
    "scheduler = optim.lr_scheduler.StepLR(optimizer, step_size=1, gamma=config['gamma'], verbose=True)"
   ]
  },
  {
   "cell_type": "code",
   "execution_count": 9,
   "id": "84d269a9-9771-4364-a927-b06cf5ac86e6",
   "metadata": {},
   "outputs": [],
   "source": [
    "from sklearn.metrics import accuracy_score\n",
    "from sklearn.metrics import confusion_matrix\n",
    "\n",
    "def check(loader, length, model, device):\n",
    "    model.eval()\n",
    "    val_loss = 0.0\n",
    "    counter = 0\n",
    "    y_true = []\n",
    "    y_predicted = []\n",
    "\n",
    "    m_acc = []\n",
    "    g_acc = []\n",
    "    a_acc = []\n",
    "    with torch.no_grad():\n",
    "        for (inputs, (m, g, a)) in val_loader:\n",
    "            counter += 1\n",
    "            \n",
    "            for mask, gender, age in zip(m, g, a):\n",
    "                answer = labels_to_class[(mask.item(), gender.item(), age.item())]\n",
    "                y_true.append(answer)\n",
    "            \n",
    "            inputs = inputs.to(device=device)\n",
    "            m = m.to(device)\n",
    "            g = g.to(device)\n",
    "            a = a.to(device)\n",
    "\n",
    "            m_pred, g_pred, a_pred = model(inputs)\n",
    "    \n",
    "            m_loss = criterion(m_pred, m)\n",
    "            g_loss = gender_criterion(g_pred, g)\n",
    "            a_loss = age_criterion(a_pred, a) # data imbalance\n",
    "            \n",
    "            loss = (g_loss+a_loss+m_loss)\n",
    "            \n",
    "            val_loss += loss.item()\n",
    "            \n",
    "            m_argmax = m_pred.detach().cpu().numpy().argmax(1)\n",
    "            g_argmax = g_pred.detach().cpu().numpy().argmax(1)\n",
    "            a_argmax = a_pred.detach().cpu().numpy().argmax(1)\n",
    "\n",
    "            m_acc.append(accuracy_score(m_argmax, m.detach().cpu().numpy()))\n",
    "            g_acc.append(accuracy_score(g_argmax, g.detach().cpu().numpy()))\n",
    "            a_acc.append(accuracy_score(a_argmax, a.detach().cpu().numpy()))\n",
    "\n",
    "            for mask, gender, age in zip(m_argmax, g_argmax, a_argmax):\n",
    "                predicted = labels_to_class[(mask.item(), gender.item(), age.item())]\n",
    "                y_predicted.append(predicted)\n",
    "    \n",
    "    \n",
    "    cm = confusion_matrix(y_true, y_predicted)\n",
    "    F1 = []\n",
    "    for c in range(18):\n",
    "        precision = cm[c][c] / np.sum(cm, axis=0)[c]\n",
    "        recall = cm[c][c] / np.sum(cm, axis=1)[c]\n",
    "        F1.append(2 * precision * recall / (precision + recall))\n",
    "    macro_F1 = np.mean(F1)\n",
    "\n",
    "    s = 0\n",
    "    for c in range(18):\n",
    "        s += cm[c][c]\n",
    "        \n",
    "    print(\"< VALIDATION >\")\n",
    "    print(\"*\"*73)\n",
    "    print(\"Validation Loss :\", val_loss/counter)\n",
    "    print(\"-\"*73)\n",
    "    print(\"Total Accuracy\")\n",
    "    print(s / length * 100, \"%\")\n",
    "    print(\"-\"*73)\n",
    "    print(\"Class Accuracy\")\n",
    "    print(\"Mask   :\", np.mean(m_acc)*100, \"%\")\n",
    "    print(\"Gender :\", np.mean(g_acc)*100, \"%\")\n",
    "    print(\"Age    :\", np.mean(a_acc)*100, \"%\")\n",
    "    print(\"-\"*73)\n",
    "    print(\"Confusion Matrix\")\n",
    "    for row in cm:\n",
    "        print(row)\n",
    "    print(\"-\"*73)\n",
    "    print(\"Validation F1 score :\" , macro_F1)\n",
    "    if model.best_f1 < macro_F1:\n",
    "        model.best_f1 = macro_F1\n",
    "        torch.save(model.state_dict(), '/opt/ml/weights/3way_age/Aug_{}.pt'.format(model.best_f1))\n",
    "        print(\"model saved!\")\n",
    "    print(\"*\"*73)\n",
    "    print()\n",
    "    wandb.log({\n",
    "        \"Validation Loss\" : val_loss/counter, \n",
    "        \"Validation Total Accuracy\" : s / length *100, \n",
    "        \"Validation F1\" : macro_F1,\n",
    "        \"Mask Accuracy\" : np.mean(m_acc)*100,\n",
    "        \"Gender Accuracy\" : np.mean(g_acc)*100,\n",
    "        \"Age Accuracy\" : np.mean(a_acc)*100,\n",
    "    })\n",
    "        \n",
    "    model.train()"
   ]
  },
  {
   "cell_type": "code",
   "execution_count": 10,
   "id": "6c9ce6db-56eb-4d50-8793-5caa75b7bec6",
   "metadata": {},
   "outputs": [
    {
     "name": "stdout",
     "output_type": "stream",
     "text": [
      "Epoch : 1\n"
     ]
    },
    {
     "name": "stderr",
     "output_type": "stream",
     "text": [
      " 50%|█████     | 686/1372 [05:09<05:07,  2.23it/s]"
     ]
    },
    {
     "name": "stdout",
     "output_type": "stream",
     "text": [
      "Loss : 1.7252948603428782\n",
      "< VALIDATION >\n",
      "*************************************************************************\n",
      "Validation Loss : 1.531939564749252\n",
      "-------------------------------------------------------------------------\n",
      "Total Accuracy\n",
      "88.42440801457195 %\n",
      "-------------------------------------------------------------------------\n",
      "Class Accuracy\n",
      "Mask   : 99.42768895348837 %\n",
      "Gender : 97.89244186046511 %\n",
      "Age    : 90.73401162790698 %\n",
      "-------------------------------------------------------------------------\n",
      "Confusion Matrix\n",
      "[577   4   0   3   1   0   2   0   0   0   0   0   0   0   0   0   0   0]\n",
      "[ 55 357   6   1  21   0   0   0   0   0   0   0   0   0   0   0   0   0]\n",
      "[  9 114 398   0   0   0   0   0   0   0   0   0   0   0   0   0   0   0]\n",
      "[ 17   0   0 676   6   0   0   0   0   0   0   0   0   0   0   0   0   0]\n",
      "[  5   5   0  66 718  23   0   0   0   0   1   0   0   0   0   0   0   0]\n",
      "[  0   0   2   1  73 603   0   0   0   0   1   2   0   0   0   0   0   0]\n",
      "[  5   0   0   0   0   0 504   3   0   4   0   0   0   0   0   0   0   0]\n",
      "[  1   8   0   0   1   0  65 304  14   1   2   0   0   0   0   0   0   0]\n",
      "[  0   0   2   0   0   0  10 120 323   0   0   0   0   0   2   0   0   0]\n",
      "[  0   0   0  12   0   0  23   0   0 653   4   0   0   0   0   1   0   0]\n",
      "[  0   0   0   0   8   0  15  67   0  43 579  78   0   0   0   0   0   0]\n",
      "[  0   0   0   0   0  12   0   4   9   0  20 606   0   0   0   0   0   0]\n",
      "[  0   0   0   0   0   0   3   0   0   0   0   0 522   8   0   4   3   0]\n",
      "[  0   0   0   0   0   0   0   0   0   0   0   0  23 374  29   0  11   0]\n",
      "[  0   0   0   0   0   0   0   0   0   0   0   0   0  67 458   0   0   0]\n",
      "[  0   0   0   2   0   0   0   0   0   0   0   0  14   1   0 712  29   0]\n",
      "[  0   0   0   0   0   0   0   0   0   0   0   0   2  11   1  15 709  69]\n",
      "[  0   0   0   0   0   0   0   0   0   0   0   0   0   0   4   0  23 636]\n",
      "-------------------------------------------------------------------------\n",
      "Validation F1 score : 0.8756507587238903\n"
     ]
    },
    {
     "name": "stderr",
     "output_type": "stream",
     "text": [
      " 50%|█████     | 687/1372 [05:47<2:13:02, 11.65s/it]"
     ]
    },
    {
     "name": "stdout",
     "output_type": "stream",
     "text": [
      "model saved!\n",
      "*************************************************************************\n",
      "\n"
     ]
    },
    {
     "name": "stderr",
     "output_type": "stream",
     "text": [
      "100%|█████████▉| 1371/1372 [10:54<00:00,  2.23it/s] "
     ]
    },
    {
     "name": "stdout",
     "output_type": "stream",
     "text": [
      "Loss : 1.635667941399983\n",
      "< VALIDATION >\n",
      "*************************************************************************\n",
      "Validation Loss : 1.496394042358842\n",
      "-------------------------------------------------------------------------\n",
      "Total Accuracy\n",
      "91.77595628415301 %\n",
      "-------------------------------------------------------------------------\n",
      "Class Accuracy\n",
      "Mask   : 99.609375 %\n",
      "Gender : 98.17405523255815 %\n",
      "Age    : 93.77725290697676 %\n",
      "-------------------------------------------------------------------------\n",
      "Confusion Matrix\n",
      "[571   6   0   0   2   0   8   0   0   0   0   0   0   0   0   0   0   0]\n",
      "[ 26 333  74   0   5   0   0   2   0   0   0   0   0   0   0   0   0   0]\n",
      "[  3   8 505   0   0   0   0   0   5   0   0   0   0   0   0   0   0   0]\n",
      "[ 22   2   0 604  68   0   0   0   0   3   0   0   0   0   0   0   0   0]\n",
      "[  3  21   0   3 772  17   0   0   0   0   2   0   0   0   0   0   0   0]\n",
      "[  0   0   6   0  33 633   0   0   0   0   0  10   0   0   0   0   0   0]\n",
      "[  0   0   0   0   0   0 510   3   0   3   0   0   0   0   0   0   0   0]\n",
      "[  0   1   1   0   0   0  36 299  56   0   2   1   0   0   0   0   0   0]\n",
      "[  0   0   0   0   0   0   2   6 449   0   0   0   0   0   0   0   0   0]\n",
      "[  0   0   0   0   0   0  31   1   0 655   6   0   0   0   0   0   0   0]\n",
      "[  0   0   0   0  10   0   8  15   2  21 714  19   0   0   0   0   1   0]\n",
      "[  0   0   0   0   0   0   0   0   3   0  31 617   0   0   0   0   0   0]\n",
      "[  0   0   0   0   0   0   0   0   0   0   0   0 534   0   0   6   0   0]\n",
      "[  0   0   0   0   0   0   0   0   0   0   0   0  51 295  88   0   3   0]\n",
      "[  0   0   0   0   0   0   0   0   0   0   0   0   1  10 514   0   0   0]\n",
      "[  0   0   0   0   0   0   0   0   0   0   0   0  12   0   0 737   9   0]\n",
      "[  0   0   0   0   0   0   0   0   0   0   0   0   2  15   2  23 749  16]\n",
      "[  0   0   0   0   0   0   0   0   0   0   0   0   0   2  32   0  43 586]\n",
      "-------------------------------------------------------------------------\n",
      "Validation F1 score : 0.9097615441397975\n"
     ]
    },
    {
     "name": "stderr",
     "output_type": "stream",
     "text": [
      "100%|██████████| 1372/1372 [11:32<00:00, 11.61s/it]"
     ]
    },
    {
     "name": "stdout",
     "output_type": "stream",
     "text": [
      "model saved!\n",
      "*************************************************************************\n",
      "\n"
     ]
    },
    {
     "name": "stderr",
     "output_type": "stream",
     "text": [
      "1373it [11:32,  1.98it/s]                          "
     ]
    },
    {
     "name": "stdout",
     "output_type": "stream",
     "text": [
      "Adjusting learning rate of group 0 to 1.5300e-04.\n",
      "Epoch : 2\n"
     ]
    },
    {
     "name": "stderr",
     "output_type": "stream",
     "text": [
      "\n",
      " 50%|█████     | 686/1372 [05:09<05:08,  2.23it/s]"
     ]
    },
    {
     "name": "stdout",
     "output_type": "stream",
     "text": [
      "Loss : 1.5077666799053875\n",
      "< VALIDATION >\n",
      "*************************************************************************\n",
      "Validation Loss : 1.4786468553681706\n",
      "-------------------------------------------------------------------------\n",
      "Total Accuracy\n",
      "93.75227686703097 %\n",
      "-------------------------------------------------------------------------\n",
      "Class Accuracy\n",
      "Mask   : 99.76380813953489 %\n",
      "Gender : 99.09156976744185 %\n",
      "Age    : 94.7765261627907 %\n",
      "-------------------------------------------------------------------------\n",
      "Confusion Matrix\n",
      "[579   3   0   2   0   0   2   0   0   0   0   0   1   0   0   0   0   0]\n",
      "[ 88 328  21   0   1   0   0   2   0   0   0   0   0   0   0   0   0   0]\n",
      "[  5  13 495   0   0   5   0   0   0   0   0   0   0   0   3   0   0   0]\n",
      "[  9   0   0 683   6   0   0   0   0   1   0   0   0   0   0   0   0   0]\n",
      "[  3   9   0  37 737  31   0   0   0   0   1   0   0   0   0   0   0   0]\n",
      "[  0   0   0   0   7 670   0   0   0   0   0   5   0   0   0   0   0   0]\n",
      "[  0   0   0   0   0   0 510   3   0   3   0   0   0   0   0   0   0   0]\n",
      "[  0   3   0   0   1   0  49 317  24   0   2   0   0   0   0   0   0   0]\n",
      "[  0   0   0   0   0   0   1   1 455   0   0   0   0   0   0   0   0   0]\n",
      "[  0   0   0   0   0   0  19   0   0 669   4   1   0   0   0   0   0   0]\n",
      "[  0   0   0   0   4   0   6   6   0  36 665  72   0   0   0   0   1   0]\n",
      "[  0   0   0   0   0   0   0   1   6   0   1 643   0   0   0   0   0   0]\n",
      "[  0   0   0   0   0   0   0   0   0   0   0   0 538   0   0   2   0   0]\n",
      "[  0   0   0   0   0   0   0   0   0   0   0   0  61 356  18   2   0   0]\n",
      "[  0   0   0   0   0   0   0   0   0   0   0   0   3   7 515   0   0   0]\n",
      "[  0   0   0   0   0   0   0   0   0   0   0   0   8   0   0 745   5   0]\n",
      "[  0   0   0   0   0   0   0   0   0   0   0   0   2  11   0  35 744  15]\n",
      "[  0   0   0   0   0   0   0   0   0   0   0   2   0   0   2   1  13 645]\n",
      "-------------------------------------------------------------------------\n",
      "Validation F1 score : 0.9325058938772419\n"
     ]
    },
    {
     "name": "stderr",
     "output_type": "stream",
     "text": [
      " 50%|█████     | 687/1372 [05:47<2:13:51, 11.72s/it]"
     ]
    },
    {
     "name": "stdout",
     "output_type": "stream",
     "text": [
      "model saved!\n",
      "*************************************************************************\n",
      "\n"
     ]
    },
    {
     "name": "stderr",
     "output_type": "stream",
     "text": [
      "100%|█████████▉| 1371/1372 [10:55<00:00,  2.23it/s] "
     ]
    },
    {
     "name": "stdout",
     "output_type": "stream",
     "text": [
      "Loss : 1.4976216162780283\n",
      "< VALIDATION >\n",
      "*************************************************************************\n",
      "Validation Loss : 1.461128329468328\n",
      "-------------------------------------------------------------------------\n",
      "Total Accuracy\n",
      "95.41894353369763 %\n",
      "-------------------------------------------------------------------------\n",
      "Class Accuracy\n",
      "Mask   : 99.71838662790698 %\n",
      "Gender : 99.43677325581395 %\n",
      "Age    : 96.22093023255815 %\n",
      "-------------------------------------------------------------------------\n",
      "Confusion Matrix\n",
      "[577   6   0   2   1   0   0   0   0   0   0   0   1   0   0   0   0   0]\n",
      "[ 38 374  24   0   3   0   0   1   0   0   0   0   0   0   0   0   0   0]\n",
      "[  0   7 513   0   0   0   0   0   0   0   0   0   0   0   1   0   0   0]\n",
      "[  9   0   0 683   6   0   0   0   0   1   0   0   0   0   0   0   0   0]\n",
      "[  0   1   0  44 754  18   0   0   0   0   1   0   0   0   0   0   0   0]\n",
      "[  0   0   0   0  19 663   0   0   0   0   0   0   0   0   0   0   0   0]\n",
      "[  1   0   0   0   0   0 501   4   0   8   0   0   2   0   0   0   0   0]\n",
      "[  1   3   0   0   0   0  27 333  28   0   4   0   0   0   0   0   0   0]\n",
      "[  0   0   0   0   0   0   0   4 453   0   0   0   0   0   0   0   0   0]\n",
      "[  0   0   0   2   0   0   1   0   0 676   7   0   0   0   0   7   0   0]\n",
      "[  0   0   0   0   4   0   0   3   0  17 739  21   0   0   0   0   6   0]\n",
      "[  0   0   0   0   0   0   0   0   2   0  11 638   0   0   0   0   0   0]\n",
      "[  0   0   0   0   0   0   0   0   0   0   0   0 521  14   1   3   1   0]\n",
      "[  0   0   0   0   0   0   0   0   0   0   0   0  14 398  21   0   4   0]\n",
      "[  0   0   0   0   0   0   0   0   0   0   0   0   0   0 525   0   0   0]\n",
      "[  0   0   0   0   0   0   0   0   0   0   0   0   6   1   0 717  34   0]\n",
      "[  0   0   0   0   0   0   0   0   0   0   0   0   1   7   1  16 755  27]\n",
      "[  0   0   0   0   0   0   0   0   0   0   0   0   0   0   4   0   2 657]\n",
      "-------------------------------------------------------------------------\n",
      "Validation F1 score : 0.952136488162448\n"
     ]
    },
    {
     "name": "stderr",
     "output_type": "stream",
     "text": [
      "100%|██████████| 1372/1372 [11:33<00:00, 11.49s/it]"
     ]
    },
    {
     "name": "stdout",
     "output_type": "stream",
     "text": [
      "model saved!\n",
      "*************************************************************************\n",
      "\n"
     ]
    },
    {
     "name": "stderr",
     "output_type": "stream",
     "text": [
      "1373it [11:33,  1.98it/s]                          "
     ]
    },
    {
     "name": "stdout",
     "output_type": "stream",
     "text": [
      "Adjusting learning rate of group 0 to 1.3005e-04.\n",
      "Epoch : 3\n"
     ]
    },
    {
     "name": "stderr",
     "output_type": "stream",
     "text": [
      "\n",
      " 50%|█████     | 686/1372 [05:09<05:07,  2.23it/s]"
     ]
    },
    {
     "name": "stdout",
     "output_type": "stream",
     "text": [
      "Loss : 1.4718007902564614\n",
      "< VALIDATION >\n",
      "*************************************************************************\n",
      "Validation Loss : 1.4522448532110037\n",
      "-------------------------------------------------------------------------\n",
      "Total Accuracy\n",
      "96.40255009107467 %\n",
      "-------------------------------------------------------------------------\n",
      "Class Accuracy\n",
      "Mask   : 99.88190406976744 %\n",
      "Gender : 99.53670058139535 %\n",
      "Age    : 96.95675872093024 %\n",
      "-------------------------------------------------------------------------\n",
      "Confusion Matrix\n",
      "[574   5   0   5   1   0   2   0   0   0   0   0   0   0   0   0   0   0]\n",
      "[ 18 389  30   0   2   0   0   1   0   0   0   0   0   0   0   0   0   0]\n",
      "[  0   1 520   0   0   0   0   0   0   0   0   0   0   0   0   0   0   0]\n",
      "[  6   0   0 650  41   1   0   0   0   1   0   0   0   0   0   0   0   0]\n",
      "[  0   1   0   1 795  20   0   0   0   0   1   0   0   0   0   0   0   0]\n",
      "[  0   0   0   0   0 681   0   0   0   0   0   0   0   0   0   0   0   1]\n",
      "[  0   0   0   0   0   0 508   1   0   5   2   0   0   0   0   0   0   0]\n",
      "[  0   2   0   0   0   0  18 344  27   0   5   0   0   0   0   0   0   0]\n",
      "[  0   0   0   0   0   0   0   1 456   0   0   0   0   0   0   0   0   0]\n",
      "[  0   0   0   2   0   0   3   0   0 645  43   0   0   0   0   0   0   0]\n",
      "[  0   0   0   0   3   0   0   1   0   1 768  17   0   0   0   0   0   0]\n",
      "[  0   0   0   0   0   0   0   0   6   0   5 640   0   0   0   0   0   0]\n",
      "[  0   0   0   0   0   0   0   0   0   0   0   0 533   0   0   6   1   0]\n",
      "[  0   0   0   0   0   0   0   0   0   0   0   0  15 374  46   0   2   0]\n",
      "[  0   0   0   0   0   0   0   0   0   0   0   0   0   1 524   0   0   0]\n",
      "[  0   0   0   0   0   0   0   0   0   0   0   0   4   0   0 742  12   0]\n",
      "[  0   0   0   0   0   0   0   0   0   0   0   0   0   1   0  10 779  17]\n",
      "[  0   0   0   0   0   0   0   0   0   0   0   0   0   0   0   0   0 663]\n",
      "-------------------------------------------------------------------------\n",
      "Validation F1 score : 0.961593185140395\n"
     ]
    },
    {
     "name": "stderr",
     "output_type": "stream",
     "text": [
      " 50%|█████     | 687/1372 [05:47<2:14:42, 11.80s/it]"
     ]
    },
    {
     "name": "stdout",
     "output_type": "stream",
     "text": [
      "model saved!\n",
      "*************************************************************************\n",
      "\n"
     ]
    },
    {
     "name": "stderr",
     "output_type": "stream",
     "text": [
      "100%|█████████▉| 1371/1372 [10:55<00:00,  2.24it/s] "
     ]
    },
    {
     "name": "stdout",
     "output_type": "stream",
     "text": [
      "Loss : 1.4701544142846812\n"
     ]
    },
    {
     "name": "stderr",
     "output_type": "stream",
     "text": [
      "100%|██████████| 1372/1372 [11:33<00:00, 11.62s/it]"
     ]
    },
    {
     "name": "stdout",
     "output_type": "stream",
     "text": [
      "< VALIDATION >\n",
      "*************************************************************************\n",
      "Validation Loss : 1.467521645648535\n",
      "-------------------------------------------------------------------------\n",
      "Total Accuracy\n",
      "94.9544626593807 %\n",
      "-------------------------------------------------------------------------\n",
      "Class Accuracy\n",
      "Mask   : 99.70930232558139 %\n",
      "Gender : 99.51853197674419 %\n",
      "Age    : 95.62136627906976 %\n",
      "-------------------------------------------------------------------------\n",
      "Confusion Matrix\n",
      "[571   4   0   9   1   0   2   0   0   0   0   0   0   0   0   0   0   0]\n",
      "[ 21 398  16   3   0   0   0   2   0   0   0   0   0   0   0   0   0   0]\n",
      "[  0   3 518   0   0   0   0   0   0   0   0   0   0   0   0   0   0   0]\n",
      "[  6   0   0 678  15   0   0   0   0   0   0   0   0   0   0   0   0   0]\n",
      "[  0   2   0  53 733  29   0   0   0   0   1   0   0   0   0   0   0   0]\n",
      "[  0   0   0   0   3 678   0   0   0   0   0   1   0   0   0   0   0   0]\n",
      "[  4   0   0   0   0   0 496   6   0   9   0   0   1   0   0   0   0   0]\n",
      "[  0   4   1   1   1   0   9 362  17   0   1   0   0   0   0   0   0   0]\n",
      "[  0   0   0   0   0   0   0   6 451   0   0   0   0   0   0   0   0   0]\n",
      "[  0   0   0   4   0   0   1   0   0 660  28   0   0   0   0   0   0   0]\n",
      "[  0   0   0   0   2   0   0   0   0   4 740  44   0   0   0   0   0   0]\n",
      "[  0   0   0   0   0   7   0   0   0   0   0 644   0   0   0   0   0   0]\n",
      "[  0   0   0   0   0   0   0   0   0   0   0   0 505  25   1   5   4   0]\n",
      "[  0   0   0   0   0   0   0   0   0   0   0   0   7 410  14   0   6   0]\n",
      "[  0   0   0   0   0   0   0   0   0   0   0   0   0   5 520   0   0   0]\n",
      "[  0   0   0   0   0   0   0   0   0   0   0   0   3   1   0 610 144   0]\n",
      "[  0   0   0   0   0   0   0   0   0   0   0   0   0   0   0   1 800   6]\n",
      "[  0   0   0   0   0   1   0   0   0   0   0   0   0   0   0   0  10 652]\n",
      "-------------------------------------------------------------------------\n",
      "Validation F1 score : 0.9513663097135419\n",
      "*************************************************************************\n",
      "\n"
     ]
    },
    {
     "name": "stderr",
     "output_type": "stream",
     "text": [
      "1373it [11:33,  1.98it/s]                          "
     ]
    },
    {
     "name": "stdout",
     "output_type": "stream",
     "text": [
      "Adjusting learning rate of group 0 to 1.1054e-04.\n",
      "Epoch : 4\n"
     ]
    },
    {
     "name": "stderr",
     "output_type": "stream",
     "text": [
      "\n",
      " 11%|█         | 145/1372 [01:06<09:18,  2.20it/s]\n"
     ]
    },
    {
     "ename": "KeyboardInterrupt",
     "evalue": "",
     "output_type": "error",
     "traceback": [
      "\u001b[0;31m---------------------------------------------------------------------------\u001b[0m",
      "\u001b[0;31mKeyboardInterrupt\u001b[0m                         Traceback (most recent call last)",
      "\u001b[0;32m<ipython-input-10-36ccb3f43f37>\u001b[0m in \u001b[0;36m<module>\u001b[0;34m\u001b[0m\n\u001b[1;32m     27\u001b[0m \u001b[0;34m\u001b[0m\u001b[0m\n\u001b[1;32m     28\u001b[0m         \u001b[0mloss\u001b[0m \u001b[0;34m=\u001b[0m \u001b[0;34m(\u001b[0m\u001b[0mg_loss\u001b[0m\u001b[0;34m+\u001b[0m\u001b[0ma_loss\u001b[0m\u001b[0;34m+\u001b[0m\u001b[0mm_loss\u001b[0m\u001b[0;34m)\u001b[0m\u001b[0;34m\u001b[0m\u001b[0;34m\u001b[0m\u001b[0m\n\u001b[0;32m---> 29\u001b[0;31m         \u001b[0mloss\u001b[0m\u001b[0;34m.\u001b[0m\u001b[0mbackward\u001b[0m\u001b[0;34m(\u001b[0m\u001b[0;34m)\u001b[0m\u001b[0;34m\u001b[0m\u001b[0;34m\u001b[0m\u001b[0m\n\u001b[0m\u001b[1;32m     30\u001b[0m         \u001b[0moptimizer\u001b[0m\u001b[0;34m.\u001b[0m\u001b[0mstep\u001b[0m\u001b[0;34m(\u001b[0m\u001b[0;34m)\u001b[0m\u001b[0;34m\u001b[0m\u001b[0;34m\u001b[0m\u001b[0m\n\u001b[1;32m     31\u001b[0m \u001b[0;34m\u001b[0m\u001b[0m\n",
      "\u001b[0;32m/opt/conda/lib/python3.8/site-packages/torch/tensor.py\u001b[0m in \u001b[0;36mbackward\u001b[0;34m(self, gradient, retain_graph, create_graph)\u001b[0m\n\u001b[1;32m    219\u001b[0m                 \u001b[0mretain_graph\u001b[0m\u001b[0;34m=\u001b[0m\u001b[0mretain_graph\u001b[0m\u001b[0;34m,\u001b[0m\u001b[0;34m\u001b[0m\u001b[0;34m\u001b[0m\u001b[0m\n\u001b[1;32m    220\u001b[0m                 create_graph=create_graph)\n\u001b[0;32m--> 221\u001b[0;31m         \u001b[0mtorch\u001b[0m\u001b[0;34m.\u001b[0m\u001b[0mautograd\u001b[0m\u001b[0;34m.\u001b[0m\u001b[0mbackward\u001b[0m\u001b[0;34m(\u001b[0m\u001b[0mself\u001b[0m\u001b[0;34m,\u001b[0m \u001b[0mgradient\u001b[0m\u001b[0;34m,\u001b[0m \u001b[0mretain_graph\u001b[0m\u001b[0;34m,\u001b[0m \u001b[0mcreate_graph\u001b[0m\u001b[0;34m)\u001b[0m\u001b[0;34m\u001b[0m\u001b[0;34m\u001b[0m\u001b[0m\n\u001b[0m\u001b[1;32m    222\u001b[0m \u001b[0;34m\u001b[0m\u001b[0m\n\u001b[1;32m    223\u001b[0m     \u001b[0;32mdef\u001b[0m \u001b[0mregister_hook\u001b[0m\u001b[0;34m(\u001b[0m\u001b[0mself\u001b[0m\u001b[0;34m,\u001b[0m \u001b[0mhook\u001b[0m\u001b[0;34m)\u001b[0m\u001b[0;34m:\u001b[0m\u001b[0;34m\u001b[0m\u001b[0;34m\u001b[0m\u001b[0m\n",
      "\u001b[0;32m/opt/conda/lib/python3.8/site-packages/torch/autograd/__init__.py\u001b[0m in \u001b[0;36mbackward\u001b[0;34m(tensors, grad_tensors, retain_graph, create_graph, grad_variables)\u001b[0m\n\u001b[1;32m    128\u001b[0m         \u001b[0mretain_graph\u001b[0m \u001b[0;34m=\u001b[0m \u001b[0mcreate_graph\u001b[0m\u001b[0;34m\u001b[0m\u001b[0;34m\u001b[0m\u001b[0m\n\u001b[1;32m    129\u001b[0m \u001b[0;34m\u001b[0m\u001b[0m\n\u001b[0;32m--> 130\u001b[0;31m     Variable._execution_engine.run_backward(\n\u001b[0m\u001b[1;32m    131\u001b[0m         \u001b[0mtensors\u001b[0m\u001b[0;34m,\u001b[0m \u001b[0mgrad_tensors_\u001b[0m\u001b[0;34m,\u001b[0m \u001b[0mretain_graph\u001b[0m\u001b[0;34m,\u001b[0m \u001b[0mcreate_graph\u001b[0m\u001b[0;34m,\u001b[0m\u001b[0;34m\u001b[0m\u001b[0;34m\u001b[0m\u001b[0m\n\u001b[1;32m    132\u001b[0m         allow_unreachable=True)  # allow_unreachable flag\n",
      "\u001b[0;31mKeyboardInterrupt\u001b[0m: "
     ]
    }
   ],
   "source": [
    "NUM_EPOCHS = 15\n",
    "\n",
    "for epoch in range(NUM_EPOCHS):\n",
    "    print(\"Epoch :\", epoch + 1)\n",
    "    train_running_loss = 0.0\n",
    "    train_running_correct = 0\n",
    "    counter = 0\n",
    "    total = 0\n",
    "    total_it = int(len(train_dataset)/train_loader.batch_size)\n",
    "    prog_bar = tqdm(enumerate(train_loader), total=total_it)\n",
    "    for i, (inputs, (m, g, a)) in prog_bar:\n",
    "        counter += 1\n",
    "        optimizer.zero_grad()\n",
    "        inputs = inputs.to(device)\n",
    "        m_pred, g_pred, a_pred = model(inputs)\n",
    "        \n",
    "        \n",
    "        m = m.to(device)\n",
    "        g = g.to(device)\n",
    "        a = a.to(device)\n",
    "        total += m.size(0)\n",
    "        \n",
    "        m_loss = criterion(m_pred, m)\n",
    "        g_loss = gender_criterion(g_pred, g)\n",
    "        a_loss = age_criterion(a_pred, a) # data imbalance\n",
    "        \n",
    "        \n",
    "        loss = (g_loss+a_loss+m_loss)\n",
    "        loss.backward()\n",
    "        optimizer.step()\n",
    "        \n",
    "        \n",
    "        train_running_loss += loss.item()\n",
    "        \n",
    "        if i == total_it//2 or i == total_it-1:\n",
    "            train_loss = train_running_loss / counter\n",
    "#             train_accuracy = 100. * train_running_correct / total\n",
    "\n",
    "            print(\"Loss :\", train_loss)\n",
    "            wandb.log({\"Train Loss\" : train_loss})\n",
    "#             print(\"Accuracy :\", train_accuracy)\n",
    "            \n",
    "            check(val_loader, len(val_dataset), model, device)\n",
    "    scheduler.step()\n",
    "    train_running_loss = 0.0\n",
    "    train_running_correct = 0\n",
    "print(\"Finish\")"
   ]
  },
  {
   "cell_type": "markdown",
   "id": "continued-feelings",
   "metadata": {},
   "source": [
    "## Testing"
   ]
  },
  {
   "cell_type": "code",
   "execution_count": 11,
   "id": "8ecf6622-e3d7-401a-84d8-82ba94f6e654",
   "metadata": {},
   "outputs": [
    {
     "data": {
      "text/plain": [
       "<All keys matched successfully>"
      ]
     },
     "execution_count": 11,
     "metadata": {},
     "output_type": "execute_result"
    }
   ],
   "source": [
    "model.load_state_dict(torch.load('/opt/ml/weights/3way_age/Aug_{}.pt'.format(model.best_f1)))\n",
    "# model.load_state_dict(torch.load('/opt/ml/weights/3way/Aug_0.9841404744270768.pt'.format(model.best_f1)))"
   ]
  },
  {
   "cell_type": "code",
   "execution_count": null,
   "id": "coral-shade",
   "metadata": {},
   "outputs": [],
   "source": [
    "# meta 데이터와 이미지 경로를 불러옵니다.\n",
    "submission = pd.read_csv(os.path.join(test_dir, 'info.csv'))\n",
    "image_dir = os.path.join(test_dir, 'images')\n",
    "\n",
    "# Test Dataset 클래스 객체를 생성하고 DataLoader를 만듭니다.\n",
    "image_paths = [os.path.join(image_dir, img_id) for img_id in submission.ImageID]\n",
    "dataset = TestDataset(image_paths, tfms_test)\n",
    "\n",
    "loader = DataLoader(\n",
    "    dataset,\n",
    "    shuffle=False,\n",
    "    batch_size=64,\n",
    "    num_workers=4\n",
    ")\n",
    "\n",
    "# 모델을 정의합니다. (학습한 모델이 있다면 torch.load로 모델을 불러주세요!)\n",
    "# device = torch.device('cuda')\n",
    "\n",
    "model.eval()\n",
    "device = torch.device(\"cuda:0\")\n",
    "# 모델이 테스트 데이터셋을 예측하고 결과를 저장합니다.\n",
    "all_predictions = []\n",
    "\n",
    "prog_bar = tqdm(enumerate(loader), total=int(len(dataset)/loader.batch_size))\n",
    "for i, images in prog_bar:\n",
    "    with torch.no_grad():\n",
    "        images = images.to(device)\n",
    "        m_pred, g_pred, a_pred = model(images)\n",
    "#         print(images.shape)\n",
    "#         print(m_pred.shape)\n",
    "        m_argmax = m_pred.detach().cpu().numpy().argmax(1)\n",
    "        g_argmax = g_pred.detach().cpu().numpy().argmax(1)\n",
    "        a_argmax = a_pred.detach().cpu().numpy().argmax(1)\n",
    "        \n",
    "        for mask, gender, age in zip(m_argmax, g_argmax, a_argmax):\n",
    "            predicted = labels_to_class[(mask.item(), gender.item(), age.item())]\n",
    "            all_predictions.append(predicted)\n",
    "submission['ans'] = all_predictions\n",
    "\n",
    "# 제출할 파일을 저장합니다.\n",
    "submission.to_csv(os.path.join(test_dir, 'submission.csv'), index=False)\n",
    "print('test inference is done!')"
   ]
  },
  {
   "cell_type": "code",
   "execution_count": 20,
   "id": "01883cc5-1adf-4c19-ba4b-e53ce43575ea",
   "metadata": {},
   "outputs": [
    {
     "name": "stdout",
     "output_type": "stream",
     "text": [
      "Normal : 50.10339021682739 %\n",
      "Female : 93.00719499588013 %\n",
      "30 ~ 60 : 48.86142015457153 %\n"
     ]
    },
    {
     "data": {
      "image/png": "[encoded data removed]",
      "text/plain": [
       "<Figure size 432x288 with 1 Axes>"
      ]
     },
     "metadata": {
      "needs_background": "light"
     },
     "output_type": "display_data"
    }
   ],
   "source": [
    "idx = 2\n",
    "# meta 데이터와 이미지 경로를 불러옵니다.\n",
    "submission = pd.read_csv(os.path.join(test_dir, 'info.csv'))\n",
    "image_dir = os.path.join(test_dir, 'images')\n",
    "image_paths = [os.path.join(image_dir, img_id) for img_id in submission.ImageID]\n",
    "# Test Dataset 클래스 객체를 생성하고 DataLoader를 만듭니다.\n",
    "image = cv2.imread(image_paths[idx])\n",
    "image = cv2.cvtColor(image, cv2.COLOR_BGR2RGB)\n",
    "plt.imshow(image)\n",
    "\n",
    "image = tfms_test(image=image)['image'].to(device)\n",
    "image = image.unsqueeze(0)\n",
    "m_pred, g_pred, a_pred = model(image)\n",
    "\n",
    "m_argmax = m_pred.detach().cpu().numpy().argmax(1)\n",
    "g_argmax = g_pred.detach().cpu().numpy().argmax(1)\n",
    "a_argmax = a_pred.detach().cpu().numpy().argmax(1)\n",
    "\n",
    "#\n",
    "masklabel = {0: \"Mask\", 1: \"Incorrect\", 2: \"Normal\"}\n",
    "genderlabel = {0: \"Male\", 1: \"Female\"}\n",
    "agelabel = {0: \"~ 30\", 1: \"30 ~ 60\", 2: \"60 ~\"}\n",
    "#\n",
    "print(masklabel[m_argmax[0]]+ \" :\", (m_pred[0][m_argmax].item())*100, '%')\n",
    "print(genderlabel[g_argmax[0]]+ \" :\", (g_pred[0][g_argmax].item())*100, '%')\n",
    "print(agelabel[a_argmax[0]]+ \" :\", (a_pred[0][a_argmax].item())*100, '%')\n"
   ]
  },
  {
   "cell_type": "code",
   "execution_count": null,
   "id": "2614e887-7750-4c03-80a5-7a0a5b3fab38",
   "metadata": {},
   "outputs": [],
   "source": []
  }
 ],
 "metadata": {
  "kernelspec": {
   "display_name": "Python 3 (ipykernel)",
   "language": "python",
   "name": "python3"
  },
  "language_info": {
   "codemirror_mode": {
    "name": "ipython",
    "version": 3
   },
   "file_extension": ".py",
   "mimetype": "text/x-python",
   "name": "python",
   "nbconvert_exporter": "python",
   "pygments_lexer": "ipython3",
   "version": "3.8.5"
  }
 },
 "nbformat": 4,
 "nbformat_minor": 5
}
