{
 "cells": [
  {
   "cell_type": "code",
   "execution_count": 46,
   "id": "cubic-scoop",
   "metadata": {},
   "outputs": [
    {
     "data": {
      "text/html": [
       "Finishing last run (ID:3ew3p6rz) before initializing another..."
      ],
      "text/plain": [
       "<IPython.core.display.HTML object>"
      ]
     },
     "metadata": {},
     "output_type": "display_data"
    },
    {
     "data": {
      "text/html": [
       "<br/>Waiting for W&B process to finish, PID 4838<br/>Program ended successfully."
      ],
      "text/plain": [
       "<IPython.core.display.HTML object>"
      ]
     },
     "metadata": {},
     "output_type": "display_data"
    },
    {
     "data": {
      "application/vnd.jupyter.widget-view+json": {
       "model_id": "",
       "version_major": 2,
       "version_minor": 0
      },
      "text/plain": [
       "VBox(children=(Label(value=' 0.00MB of 0.00MB uploaded (0.00MB deduped)\\r'), FloatProgress(value=1.0, max=1.0)…"
      ]
     },
     "metadata": {},
     "output_type": "display_data"
    },
    {
     "data": {
      "text/html": [
       "Find user logs for this run at: <code>/opt/ml/git/JH/wandb/run-20210826_062836-3ew3p6rz/logs/debug.log</code>"
      ],
      "text/plain": [
       "<IPython.core.display.HTML object>"
      ]
     },
     "metadata": {},
     "output_type": "display_data"
    },
    {
     "data": {
      "text/html": [
       "Find internal logs for this run at: <code>/opt/ml/git/JH/wandb/run-20210826_062836-3ew3p6rz/logs/debug-internal.log</code>"
      ],
      "text/plain": [
       "<IPython.core.display.HTML object>"
      ]
     },
     "metadata": {},
     "output_type": "display_data"
    },
    {
     "data": {
      "text/html": [
       "<h3>Run summary:</h3><br/><style>\n",
       "    table.wandb td:nth-child(1) { padding: 0 10px; text-align: right }\n",
       "    </style><table class=\"wandb\">\n",
       "<tr><td>Train Loss</td><td>0.02939</td></tr><tr><td>_runtime</td><td>8626</td></tr><tr><td>_timestamp</td><td>1629967942</td></tr><tr><td>_step</td><td>41</td></tr><tr><td>Validation Loss</td><td>0.07363</td></tr><tr><td>Validation Total Accuracy</td><td>98.18519</td></tr><tr><td>Validation F1</td><td>0.97863</td></tr></table>"
      ],
      "text/plain": [
       "<IPython.core.display.HTML object>"
      ]
     },
     "metadata": {},
     "output_type": "display_data"
    },
    {
     "data": {
      "text/html": [
       "<h3>Run history:</h3><br/><style>\n",
       "    table.wandb td:nth-child(1) { padding: 0 10px; text-align: right }\n",
       "    </style><table class=\"wandb\">\n",
       "<tr><td>Train Loss</td><td>█▇▆▅▅▅▄▄▄▄▄▄▄▄▄▄▄▄▄▄▁▁</td></tr><tr><td>_runtime</td><td>▁▁▁▁▂▂▂▂▂▂▂▂▃▃▃▃▃▃▃▃▄▄▄▄▄▄▄▅▅▅▅▅▅▅▅▆▆▆▆█</td></tr><tr><td>_timestamp</td><td>▁▁▁▁▂▂▂▂▂▂▂▂▃▃▃▃▃▃▃▃▄▄▄▄▄▄▄▅▅▅▅▅▅▅▅▆▆▆▆█</td></tr><tr><td>_step</td><td>▁▁▁▂▂▂▂▂▂▃▃▃▃▃▃▄▄▄▄▄▅▅▅▅▅▅▆▆▆▆▆▆▇▇▇▇▇▇██</td></tr><tr><td>Validation Loss</td><td>█▇▇▇▆▅▅▅▅▄▃▂▂▂▂▂▁▁▁▁</td></tr><tr><td>Validation Total Accuracy</td><td>▁▂▄▄▅▅▅▆▆▆▇▇▇▇▇▇████</td></tr><tr><td>Validation F1</td><td>▁▂▃▄▅▅▅▆▆▇▇▇▇▇▇▇████</td></tr></table><br/>"
      ],
      "text/plain": [
       "<IPython.core.display.HTML object>"
      ]
     },
     "metadata": {},
     "output_type": "display_data"
    },
    {
     "data": {
      "text/html": [
       "Synced 5 W&B file(s), 0 media file(s), 0 artifact file(s) and 0 other file(s)"
      ],
      "text/plain": [
       "<IPython.core.display.HTML object>"
      ]
     },
     "metadata": {},
     "output_type": "display_data"
    },
    {
     "data": {
      "text/html": [
       "\n",
       "                    <br/>Synced <strong style=\"color:#cdcd00\">efficientnet-b7_mask_cutmix_weighted_50_0.0003_0.9</strong>: <a href=\"https://wandb.ai/youkind/MaskClassification/runs/3ew3p6rz\" target=\"_blank\">https://wandb.ai/youkind/MaskClassification/runs/3ew3p6rz</a><br/>\n",
       "                "
      ],
      "text/plain": [
       "<IPython.core.display.HTML object>"
      ]
     },
     "metadata": {},
     "output_type": "display_data"
    },
    {
     "data": {
      "text/html": [
       "...Successfully finished last run (ID:3ew3p6rz). Initializing new run:<br/><br/>"
      ],
      "text/plain": [
       "<IPython.core.display.HTML object>"
      ]
     },
     "metadata": {},
     "output_type": "display_data"
    },
    {
     "name": "stderr",
     "output_type": "stream",
     "text": [
      "\n",
      "CondaEnvException: Unable to determine environment\n",
      "\n",
      "Please re-run this command with one of the following options:\n",
      "\n",
      "* Provide an environment name via --name or -n\n",
      "* Re-run this command inside an activated conda environment.\n",
      "\n"
     ]
    },
    {
     "data": {
      "text/html": [
       "\n",
       "                Tracking run with wandb version 0.12.0<br/>\n",
       "                Syncing run <strong style=\"color:#cdcd00\">efficientnet-b4_vanilla_cutmix_weighted_50_0.0001_0.99</strong> to <a href=\"https://wandb.ai\" target=\"_blank\">Weights & Biases</a> <a href=\"https://docs.wandb.com/integrations/jupyter.html\" target=\"_blank\">(Documentation)</a>.<br/>\n",
       "                Project page: <a href=\"https://wandb.ai/youkind/MaskClassification\" target=\"_blank\">https://wandb.ai/youkind/MaskClassification</a><br/>\n",
       "                Run page: <a href=\"https://wandb.ai/youkind/MaskClassification/runs/b3ee5c50\" target=\"_blank\">https://wandb.ai/youkind/MaskClassification/runs/b3ee5c50</a><br/>\n",
       "                Run data is saved locally in <code>/opt/ml/git/JH/wandb/run-20210826_093033-b3ee5c50</code><br/><br/>\n",
       "            "
      ],
      "text/plain": [
       "<IPython.core.display.HTML object>"
      ]
     },
     "metadata": {},
     "output_type": "display_data"
    },
    {
     "data": {
      "text/html": [
       "<h1>Run(b3ee5c50)</h1><iframe src=\"https://wandb.ai/youkind/MaskClassification/runs/b3ee5c50\" style=\"border:none;width:100%;height:400px\"></iframe>"
      ],
      "text/plain": [
       "<wandb.sdk.wandb_run.Run at 0x7f31f42820d0>"
      ]
     },
     "execution_count": 46,
     "metadata": {},
     "output_type": "execute_result"
    }
   ],
   "source": [
    "import os\n",
    "import pandas as pd\n",
    "import numpy as np\n",
    "from PIL import Image\n",
    "import matplotlib.pyplot as plt\n",
    "import albumentations as A\n",
    "import albumentations.pytorch\n",
    "import cv2\n",
    "import timm\n",
    "import torch\n",
    "import torch.nn as nn\n",
    "import torch.nn.functional as F\n",
    "from torch.utils.data import Dataset, DataLoader\n",
    "from cutmix.cutmix import CutMix\n",
    "# from cutmix.utils import CutMixCrossEntropyLoss\n",
    "from torchvision import transforms\n",
    "from torchvision.transforms import Resize, ToTensor, Normalize\n",
    "from tqdm import tqdm\n",
    "\n",
    "import wandb\n",
    "\n",
    "config={\n",
    "    \"lr\": 1e-4,\n",
    "    \"architecture\": \"efficientnet-b4\",\n",
    "    \"dataset\": \"vanilla\",\n",
    "    \"augmentation\" : \"cutmix\",\n",
    "    \"loss\" : \"weighted\",\n",
    "    \"gamma\" : 0.99,\n",
    "    \"batch_size\" : 50,\n",
    "    \"epochs\" : 10,\n",
    "}\n",
    "config['model'] = '_'.join([config['architecture'], config['dataset'], config['augmentation'], config['loss'], str(config['batch_size']), str(config['lr']), str(config['gamma'])])\n",
    "wandb.init(project=\"MaskClassification\", name=config['model'], config=config)\n",
    "\n"
   ]
  },
  {
   "cell_type": "code",
   "execution_count": 47,
   "id": "eb8f33ff-a325-4a5e-95f9-27f0a0cb131c",
   "metadata": {},
   "outputs": [
    {
     "name": "stdout",
     "output_type": "stream",
     "text": [
      "CUDA GPU available : True\n",
      "1 GPU(s) is(are) allocated\n"
     ]
    }
   ],
   "source": [
    "print('CUDA GPU available : {}'.format(torch.cuda.is_available()))\n",
    "try:\n",
    "    print('{} GPU(s) is(are) allocated'.format(torch.cuda.device_count()))\n",
    "except:\n",
    "    print('GPUs are not allocated. Current runtime is on CPU.')\n",
    "device = torch.device(\"cuda\")\n",
    "CUDA_LAUNCH_BLOCKING=1"
   ]
  },
  {
   "cell_type": "code",
   "execution_count": 48,
   "id": "built-elevation",
   "metadata": {},
   "outputs": [],
   "source": [
    "# 테스트 데이터셋 폴더 경로를 지정해주세요.\n",
    "test_dir = '/opt/ml/input/data/eval'\n",
    "train_dir = '/opt/ml/input/data/train'\n",
    "\n",
    "labels_to_class = {}\n",
    "it = [(m, g, a) for m in [0,1,2] for g in [0, 1] for a in [0, 1, 2]]\n",
    "for i, (m, g, a) in enumerate(it):\n",
    "    labels_to_class[(m, g, a)] = i"
   ]
  },
  {
   "cell_type": "markdown",
   "id": "domestic-channels",
   "metadata": {},
   "source": [
    "## Dataset"
   ]
  },
  {
   "cell_type": "code",
   "execution_count": 49,
   "id": "extensive-north",
   "metadata": {},
   "outputs": [],
   "source": [
    "class TrainDataset(Dataset):\n",
    "    def __init__(self, train_dir, is_Train=True, transform=None):\n",
    "        super().__init__()\n",
    "        \n",
    "        csv_path = os.path.join(train_dir, 'train.csv')\n",
    "        csv = pd.read_csv(csv_path)\n",
    "        self.image_dir = os.path.join(train_dir, 'images')\n",
    "        self.transform = transform\n",
    "        self.image_path = []\n",
    "        path = csv['path']\n",
    "        \n",
    "        for p in path:\n",
    "            images = [os.path.join(*[self.image_dir, p, image]) for image in os.listdir(os.path.join(self.image_dir, p)) if not image[:1] == '.']\n",
    "            for image in images:\n",
    "                self.image_path.append(image)\n",
    "                \n",
    "        self.comb_dic = {}\n",
    "        comb = [(m, g, a) for m in ['m', 'i', 'n'] for g in ['male', 'female'] for a in [0, 1, 2]]\n",
    "        for i, (m, g, a) in enumerate(comb):\n",
    "            self.comb_dic[(m, g, a)] = i\n",
    "            \n",
    "    def __len__(self):\n",
    "        return len(self.image_path)\n",
    "\n",
    "    def __getitem__(self, idx):\n",
    "        image_name = self.image_path[idx]\n",
    "        image = cv2.imread(image_name)\n",
    "        image = cv2.cvtColor(image, cv2.COLOR_BGR2RGB)\n",
    "        \n",
    "        features = image_name.split('/')[-2:]\n",
    "        \n",
    "        mask = features[1][0]\n",
    "        age = int(features[0].split('_')[-1])\n",
    "        gender = features[0].split('_')[1]\n",
    "        \n",
    "        if age >= 58: # 원래 60\n",
    "            age = 2\n",
    "        elif age >= 30: # 원래 30\n",
    "            age = 1\n",
    "        else:\n",
    "            age = 0        \n",
    "        \n",
    "        target = self.comb_dic[(mask, gender, age)]\n",
    "        \n",
    "        if self.transform:\n",
    "            image = self.transform(image=image)['image']\n",
    "        \n",
    "        return image, target\n",
    "\n",
    "class TestDataset(Dataset):\n",
    "    def __init__(self, img_paths, transform):\n",
    "        self.img_paths = img_paths\n",
    "        self.transform = transform\n",
    "\n",
    "    def __getitem__(self, index):\n",
    "        image = cv2.imread(self.img_paths[index])\n",
    "        image = cv2.cvtColor(image, cv2.COLOR_BGR2RGB)\n",
    "        if self.transform:\n",
    "            image = self.transform(image=image)['image']\n",
    "        return image\n",
    "\n",
    "    def __len__(self):\n",
    "        return len(self.img_paths)"
   ]
  },
  {
   "cell_type": "code",
   "execution_count": 51,
   "id": "596e6a97-3fe9-458a-9455-ace9d7a99877",
   "metadata": {},
   "outputs": [],
   "source": [
    "from torch.utils.data.sampler import SubsetRandomSampler\n",
    "from copy import copy\n",
    "# from torch.utils.data.dataset import random_split\n",
    "\n",
    "tfms = A.Compose([\n",
    "        A.augmentations.crops.transforms.CenterCrop(400, 360, p=1.0),\n",
    "        A.augmentations.geometric.resize.Resize(224, 224, interpolation=1, p=1),\n",
    "        A.HorizontalFlip(p=0.5),\n",
    "        A.ShiftScaleRotate(shift_limit=0.05, scale_limit=0.05, rotate_limit=10, p=0.6),\n",
    "        A.RandomBrightnessContrast(brightness_limit=0.1, p=0.6),\n",
    "        A.GaussNoise(p=0.5),\n",
    "        A.transforms.Normalize(mean=(0.548, 0.504, 0.479), std=(0.237, 0.247, 0.246), max_pixel_value=255.0, p=1.0),\n",
    "        A.pytorch.transforms.ToTensorV2(),\n",
    "    ])\n",
    "tfms_test = A.Compose([\n",
    "        A.augmentations.crops.transforms.CenterCrop(400, 360, p=1.0),\n",
    "        A.augmentations.geometric.resize.Resize(224, 224, interpolation=1, p=1),\n",
    "        A.transforms.Normalize(mean=(0.548, 0.504, 0.479), std=(0.237, 0.247, 0.246), max_pixel_value=255.0, p=1.0),\n",
    "        A.pytorch.transforms.ToTensorV2(),\n",
    "    ])\n",
    "val_idx = []\n",
    "person_idx = list(range(2700))\n",
    "\n",
    "np.random.seed(211)\n",
    "np.random.shuffle(person_idx)\n",
    "\n",
    "n_val_person = int(2700 * 0.2)\n",
    "val_person_idx = person_idx[:n_val_person]\n",
    "train_indices = []\n",
    "val_indices = []\n",
    "for i in range(2700*7):\n",
    "    if i // 15 not in val_person_idx:\n",
    "        train_indices.append(i)\n",
    "    else:\n",
    "        val_indices.append(i)\n",
    "\n",
    "# print(train_indices)\n",
    "# print(val_indices)\n",
    "# train_sampler = SubsetRandomSampler(train_indices)\n",
    "# valid_sampler = SubsetRandomSampler(val_indices)\n",
    "np.random.shuffle(train_indices)\n",
    "np.random.shuffle(val_indices)\n",
    "\n",
    "dataset = TrainDataset(train_dir, transform=tfms)\n",
    "val_dataset = copy(dataset)\n",
    "train_dataset = CutMix(dataset, num_class=18, beta=1.0, prob=0.5, num_mix=2)\n",
    "# print(len(dataset))\n",
    "# plt.imshow(np.array(train_dataset[312][0]['image'].permute(1,2,0)))\n",
    "\n",
    "train_loader = DataLoader(train_dataset, batch_size=config['batch_size'], num_workers=4, pin_memory=True, sampler=train_indices)\n",
    "val_loader = DataLoader(val_dataset, num_workers=4, batch_size=config['batch_size'], pin_memory=True, sampler=val_indices)"
   ]
  },
  {
   "cell_type": "code",
   "execution_count": 52,
   "id": "6aeacde3-f357-4129-a73a-2000a48d315f",
   "metadata": {},
   "outputs": [],
   "source": [
    "# plt.imshow(np.array(train_dataset[312][0]['image'].permute(1,2,0)))\n",
    "# dataset[0]"
   ]
  },
  {
   "cell_type": "markdown",
   "id": "21006028-25ad-4414-8bae-730a3bcc33e2",
   "metadata": {
    "tags": []
   },
   "source": [
    "## Model"
   ]
  },
  {
   "cell_type": "code",
   "execution_count": 53,
   "id": "a3174fa2-72d4-475b-bffd-ad23c4669521",
   "metadata": {},
   "outputs": [
    {
     "name": "stdout",
     "output_type": "stream",
     "text": [
      "Loaded pretrained weights for efficientnet-b4\n"
     ]
    }
   ],
   "source": [
    "from efficientnet_pytorch import EfficientNet\n",
    "class Net(nn.Module):\n",
    "    def __init__(self):\n",
    "        super(Net, self).__init__()\n",
    "        self.backbone = EfficientNet.from_pretrained(config['architecture'], num_classes=18)\n",
    "        self.best_f1 = 0\n",
    "        self.best_valid = 999999999\n",
    "    def forward(self, x):\n",
    "        return self.backbone(x)\n",
    "        \n",
    "model = Net().to(device)"
   ]
  },
  {
   "cell_type": "code",
   "execution_count": 54,
   "id": "f4b1aa9f-2fa1-417f-9e3e-7f160fef7d4c",
   "metadata": {},
   "outputs": [
    {
     "name": "stdout",
     "output_type": "stream",
     "text": [
      "tensor([0.0904, 0.1211, 0.5981, 0.0678, 0.0608, 0.4554, 0.4472, 0.7905, 1.3867,\n",
      "        0.3419, 0.3710, 0.9658, 0.4472, 0.7905, 1.3867, 0.3419, 0.3710, 0.9658],\n",
      "       device='cuda:0')\n",
      "Adjusting learning rate of group 0 to 1.0000e-04.\n"
     ]
    }
   ],
   "source": [
    "import torch.optim as optim \n",
    "\n",
    "class_distribution = torch.tensor([2745, 2050, 415, 3660, 4085, 545, \n",
    "                      555, 314, 179, 726, 669, 257, \n",
    "                      555, 314, 179, 726, 669, 257])\n",
    "normedWeights = [1 - (x / sum(class_distribution)) for x in class_distribution]\n",
    "loss_distribution = class_distribution / class_distribution.sum()\n",
    "# print(class_distribution)\n",
    "loss_distribution = 1.0 / loss_distribution\n",
    "loss_distribution = (loss_distribution / loss_distribution.sum()*10).to(device)\n",
    "print(loss_distribution)\n",
    "\n",
    "class CutMixCrossEntropyLoss(nn.Module):\n",
    "    def __init__(self, weight):\n",
    "        super().__init__()\n",
    "        self.weight = weight\n",
    "\n",
    "    def forward(self, inputs, targets):\n",
    "        if len(targets.size()) == 1:\n",
    "            targets = torch.nn.functional.one_hot(targets, num_classes=input.size(-1))\n",
    "            targets = targets.float().cuda()\n",
    "        logsoftmax = torch.nn.LogSoftmax(dim=1)\n",
    "\n",
    "        return torch.mean(torch.sum(-targets * logsoftmax(inputs) * self.weight, dim=1))\n",
    "\n",
    "# origin_criterion = CutMixCrossEntropyLoss(True)\n",
    "val_criterion = nn.CrossEntropyLoss(weight=loss_distribution)\n",
    "cutmix_criterion = CutMixCrossEntropyLoss(weight=loss_distribution)\n",
    "\n",
    "optimizer = optim.Adam(model.parameters(), lr=config['lr'])\n",
    "scheduler = optim.lr_scheduler.StepLR(optimizer, step_size=1, gamma=config['gamma'], verbose=True)"
   ]
  },
  {
   "cell_type": "code",
   "execution_count": 55,
   "id": "84d269a9-9771-4364-a927-b06cf5ac86e6",
   "metadata": {},
   "outputs": [],
   "source": [
    "from sklearn.metrics import accuracy_score\n",
    "from sklearn.metrics import confusion_matrix\n",
    "\n",
    "def check():\n",
    "    model.eval()\n",
    "    val_loss = 0.0\n",
    "    counter = 0\n",
    "    y_true = []\n",
    "    y_predicted = []\n",
    "    \n",
    "    with torch.no_grad():\n",
    "        prog_bar = tqdm(enumerate(val_loader), total=int(len(val_indices)/val_loader.batch_size))\n",
    "        for i, (x, y) in prog_bar:\n",
    "            counter += 1\n",
    "            y_true += y.tolist()\n",
    "            \n",
    "            x = x.to(device=device)\n",
    "            y = y.to(device=device)\n",
    "    \n",
    "            scores = model(x)\n",
    "            _, predictions = scores.max(1)\n",
    "            y_predicted += predictions.tolist()\n",
    "            \n",
    "            \n",
    "            loss = val_criterion(scores, y)\n",
    "            \n",
    "            val_loss += loss.item()\n",
    "#     print(y_true, y_predicted)\n",
    "    cm = confusion_matrix(y_true, y_predicted)\n",
    "    F1 = []\n",
    "    for c in range(18):\n",
    "        precision = cm[c][c] / np.sum(cm, axis=0)[c]\n",
    "        recall = cm[c][c] / np.sum(cm, axis=1)[c]\n",
    "        F1.append(2 * precision * recall / (precision + recall))\n",
    "    macro_F1 = np.mean(F1)\n",
    "    \n",
    "    print(\"< VALIDATION >\")\n",
    "    print(\"*\"*73)\n",
    "    print(\"Validation Loss :\", val_loss/counter)\n",
    "    print(\"-\"*73)\n",
    "    print(\"Total Accuracy\")\n",
    "    print(accuracy_score(y_true, y_predicted) * 100, \"%\")\n",
    "    print(\"-\"*73)\n",
    "    print(\"Confusion Matrix\")\n",
    "    for row in cm:\n",
    "        for c in row:\n",
    "            print(str(c).ljust(4), end='')\n",
    "        print()\n",
    "    print(\"-\"*73)\n",
    "    print(\"Validation F1 score :\" , macro_F1)\n",
    "    for c, f in enumerate(F1):\n",
    "        print(\"Class\", c, \":\", f)\n",
    "        \n",
    "    if model.best_f1 < macro_F1:\n",
    "        model.best_f1 = macro_F1\n",
    "#     if model.best_valid > val_loss/counter:\n",
    "#         model.best_valid = val_loss/counter\n",
    "        torch.save(model.state_dict(), '/opt/ml/weights/{}/{:.4f}.pt'.format(config['model'], model.best_f1))\n",
    "    print(\"model saved!\")\n",
    "    print(\"*\"*73)\n",
    "    print()\n",
    "    wandb.log({\n",
    "        \"Validation Loss\" : val_loss/counter, \n",
    "        \"Validation Total Accuracy\" :accuracy_score(y_true, y_predicted) * 100, \n",
    "        \"Validation F1\" : macro_F1,\n",
    "    })\n",
    "        \n",
    "    model.train()"
   ]
  },
  {
   "cell_type": "code",
   "execution_count": 56,
   "id": "9c14aa58-ddfa-4ca7-a5d9-3311991b781a",
   "metadata": {},
   "outputs": [
    {
     "name": "stdout",
     "output_type": "stream",
     "text": [
      "Epoch : 1\n"
     ]
    },
    {
     "name": "stderr",
     "output_type": "stream",
     "text": [
      " 50%|████▉     | 150/301 [00:52<00:52,  2.89it/s]"
     ]
    },
    {
     "name": "stdout",
     "output_type": "stream",
     "text": [
      "Train Loss : 0.620616032390405\n"
     ]
    },
    {
     "name": "stderr",
     "output_type": "stream",
     "text": [
      "\n",
      "  0%|          | 0/76 [00:00<?, ?it/s]\u001b[A\n",
      "  1%|▏         | 1/76 [00:00<00:46,  1.60it/s]\u001b[A\n",
      "  4%|▍         | 3/76 [00:00<00:33,  2.17it/s]\u001b[A\n",
      "  7%|▋         | 5/76 [00:01<00:25,  2.78it/s]\u001b[A\n",
      "  9%|▉         | 7/76 [00:01<00:19,  3.63it/s]\u001b[A\n",
      " 12%|█▏        | 9/76 [00:01<00:15,  4.35it/s]\u001b[A\n",
      " 14%|█▍        | 11/76 [00:01<00:12,  5.32it/s]\u001b[A\n",
      " 17%|█▋        | 13/76 [00:01<00:11,  5.69it/s]\u001b[A\n",
      " 20%|█▉        | 15/76 [00:02<00:08,  6.81it/s]\u001b[A\n",
      " 22%|██▏       | 17/76 [00:02<00:08,  6.77it/s]\u001b[A\n",
      " 25%|██▌       | 19/76 [00:02<00:07,  7.84it/s]\u001b[A\n",
      " 28%|██▊       | 21/76 [00:02<00:07,  7.56it/s]\u001b[A\n",
      " 30%|███       | 23/76 [00:02<00:06,  8.54it/s]\u001b[A\n",
      " 33%|███▎      | 25/76 [00:03<00:06,  8.48it/s]\u001b[A\n",
      " 36%|███▌      | 27/76 [00:03<00:05,  9.29it/s]\u001b[A\n",
      " 38%|███▊      | 29/76 [00:03<00:05,  8.50it/s]\u001b[A\n",
      " 41%|████      | 31/76 [00:03<00:04,  9.37it/s]\u001b[A\n",
      " 43%|████▎     | 33/76 [00:04<00:05,  8.43it/s]\u001b[A\n",
      " 46%|████▌     | 35/76 [00:04<00:04,  9.36it/s]\u001b[A\n",
      " 49%|████▊     | 37/76 [00:04<00:04,  8.67it/s]\u001b[A\n",
      " 51%|█████▏    | 39/76 [00:04<00:03,  9.41it/s]\u001b[A\n",
      " 54%|█████▍    | 41/76 [00:04<00:03,  8.97it/s]\u001b[A\n",
      " 57%|█████▋    | 43/76 [00:05<00:03,  9.81it/s]\u001b[A\n",
      " 59%|█████▉    | 45/76 [00:05<00:03,  9.11it/s]\u001b[A\n",
      " 62%|██████▏   | 47/76 [00:05<00:03,  9.08it/s]\u001b[A\n",
      " 64%|██████▍   | 49/76 [00:05<00:03,  8.91it/s]\u001b[A\n",
      " 67%|██████▋   | 51/76 [00:06<00:02,  8.93it/s]\u001b[A\n",
      " 70%|██████▉   | 53/76 [00:06<00:02,  8.78it/s]\u001b[A\n",
      " 72%|███████▏  | 55/76 [00:06<00:02,  9.03it/s]\u001b[A\n",
      " 75%|███████▌  | 57/76 [00:06<00:02,  8.33it/s]\u001b[A\n",
      " 78%|███████▊  | 59/76 [00:06<00:01,  9.26it/s]\u001b[A\n",
      " 80%|████████  | 61/76 [00:07<00:01,  8.74it/s]\u001b[A\n",
      " 83%|████████▎ | 63/76 [00:07<00:01,  9.63it/s]\u001b[A\n",
      " 86%|████████▌ | 65/76 [00:07<00:01,  8.36it/s]\u001b[A\n",
      " 88%|████████▊ | 67/76 [00:07<00:00,  9.28it/s]\u001b[A\n",
      " 91%|█████████ | 69/76 [00:08<00:00,  8.40it/s]\u001b[A\n",
      " 93%|█████████▎| 71/76 [00:08<00:00,  9.31it/s]\u001b[A\n",
      " 96%|█████████▌| 73/76 [00:08<00:00,  9.16it/s]\u001b[A\n",
      " 99%|█████████▊| 75/76 [00:08<00:00,  9.97it/s]\u001b[A\n",
      "77it [00:08,  8.66it/s]                        \u001b[A\n"
     ]
    },
    {
     "name": "stdout",
     "output_type": "stream",
     "text": [
      "< VALIDATION >\n",
      "*************************************************************************\n",
      "Validation Loss : 1.0682040189767812\n",
      "-------------------------------------------------------------------------\n",
      "Total Accuracy\n",
      "62.34375 %\n",
      "-------------------------------------------------------------------------\n",
      "Confusion Matrix\n",
      "560 1   0   7   0   0   10  0   0   0   0   0   0   0   0   0   0   0   \n",
      "59  38  188 1   1   22  10  4   1   0   1   0   0   0   0   0   0   0   \n",
      "6   9   168 0   0   7   0   1   3   0   0   0   0   0   0   0   0   0   \n",
      "75  0   0   615 0   4   1   0   0   55  0   0   1   0   0   6   0   0   \n",
      "69  10  9   78  13  434 5   1   0   4   3   0   0   0   0   0   0   0   \n",
      "3   0   0   4   1   257 0   0   0   0   0   3   0   0   0   0   0   0   \n",
      "0   0   0   0   0   0   110 0   0   2   0   0   0   0   0   0   0   0   \n",
      "1   0   6   0   0   1   11  33  9   0   7   1   0   0   1   0   0   0   \n",
      "0   0   2   0   0   1   1   14  19  0   2   0   0   0   0   0   0   0   \n",
      "0   0   0   2   0   0   4   0   0   142 0   0   0   0   0   1   0   0   \n",
      "1   1   0   0   0   17  6   1   0   23  36  28  1   1   0   0   7   2   \n",
      "0   0   0   0   0   5   0   0   0   3   7   33  0   0   0   0   2   2   \n",
      "0   0   0   0   0   0   0   0   0   0   0   0   110 2   0   3   1   0   \n",
      "0   0   0   0   0   0   0   0   0   0   0   0   7   42  7   0   0   13  \n",
      "0   0   0   0   0   0   0   0   0   0   0   0   0   17  18  0   0   3   \n",
      "0   0   0   0   0   0   0   0   0   0   0   0   2   0   0   143 1   1   \n",
      "0   0   0   0   0   0   0   0   0   0   0   0   3   1   0   15  5   100 \n",
      "0   0   0   0   0   0   0   0   0   0   0   0   0   0   0   0   0   52  \n",
      "-------------------------------------------------------------------------\n",
      "Validation F1 score : 0.564464986766934\n",
      "Class 0 : 0.8284023668639052\n",
      "Class 1 : 0.19791666666666666\n",
      "Class 2 : 0.5925925925925926\n",
      "Class 3 : 0.8401639344262296\n",
      "Class 4 : 0.0405616224648986\n",
      "Class 5 : 0.5059055118110236\n",
      "Class 6 : 0.8148148148148149\n",
      "Class 7 : 0.532258064516129\n",
      "Class 8 : 0.5352112676056338\n",
      "Class 9 : 0.7513227513227513\n",
      "Class 10 : 0.4\n",
      "Class 11 : 0.5641025641025641\n",
      "Class 12 : 0.9166666666666667\n",
      "Class 13 : 0.6363636363636365\n",
      "Class 14 : 0.5625\n",
      "Class 15 : 0.9079365079365078\n",
      "Class 16 : 0.07142857142857142\n",
      "Class 17 : 0.4622222222222222\n"
     ]
    },
    {
     "name": "stderr",
     "output_type": "stream",
     "text": [
      " 50%|█████     | 151/301 [01:02<07:52,  3.15s/it]"
     ]
    },
    {
     "name": "stdout",
     "output_type": "stream",
     "text": [
      "model saved!\n",
      "*************************************************************************\n",
      "\n"
     ]
    },
    {
     "name": "stderr",
     "output_type": "stream",
     "text": [
      "100%|█████████▉| 300/301 [01:53<00:00,  2.89it/s]"
     ]
    },
    {
     "name": "stdout",
     "output_type": "stream",
     "text": [
      "Train Loss : 0.5266420289725561\n"
     ]
    },
    {
     "name": "stderr",
     "output_type": "stream",
     "text": [
      "\n",
      "  0%|          | 0/76 [00:00<?, ?it/s]\u001b[A\n",
      "  1%|▏         | 1/76 [00:00<00:43,  1.71it/s]\u001b[A\n",
      "  4%|▍         | 3/76 [00:00<00:31,  2.30it/s]\u001b[A\n",
      "  7%|▋         | 5/76 [00:01<00:24,  2.89it/s]\u001b[A\n",
      "  9%|▉         | 7/76 [00:01<00:18,  3.76it/s]\u001b[A\n",
      " 12%|█▏        | 9/76 [00:01<00:15,  4.38it/s]\u001b[A\n",
      " 14%|█▍        | 11/76 [00:01<00:11,  5.45it/s]\u001b[A\n",
      " 17%|█▋        | 13/76 [00:01<00:11,  5.72it/s]\u001b[A\n",
      " 20%|█▉        | 15/76 [00:02<00:08,  6.83it/s]\u001b[A\n",
      " 22%|██▏       | 17/76 [00:02<00:08,  7.10it/s]\u001b[A\n",
      " 25%|██▌       | 19/76 [00:02<00:06,  8.18it/s]\u001b[A\n",
      " 28%|██▊       | 21/76 [00:02<00:07,  7.60it/s]\u001b[A\n",
      " 30%|███       | 23/76 [00:02<00:06,  8.61it/s]\u001b[A\n",
      " 33%|███▎      | 25/76 [00:03<00:06,  8.44it/s]\u001b[A\n",
      " 36%|███▌      | 27/76 [00:03<00:05,  9.36it/s]\u001b[A\n",
      " 38%|███▊      | 29/76 [00:03<00:05,  9.05it/s]\u001b[A\n",
      " 41%|████      | 31/76 [00:03<00:04,  9.88it/s]\u001b[A\n",
      " 43%|████▎     | 33/76 [00:04<00:05,  8.22it/s]\u001b[A\n",
      " 46%|████▌     | 35/76 [00:04<00:04,  9.12it/s]\u001b[A\n",
      " 49%|████▊     | 37/76 [00:04<00:04,  8.44it/s]\u001b[A\n",
      " 51%|█████▏    | 39/76 [00:04<00:03,  9.37it/s]\u001b[A\n",
      " 54%|█████▍    | 41/76 [00:04<00:03,  9.14it/s]\u001b[A\n",
      " 57%|█████▋    | 43/76 [00:05<00:03,  9.91it/s]\u001b[A\n",
      " 59%|█████▉    | 45/76 [00:05<00:03,  8.99it/s]\u001b[A\n",
      " 62%|██████▏   | 47/76 [00:05<00:02,  9.83it/s]\u001b[A\n",
      " 64%|██████▍   | 49/76 [00:05<00:03,  8.45it/s]\u001b[A\n",
      " 67%|██████▋   | 51/76 [00:06<00:02,  9.25it/s]\u001b[A\n",
      " 70%|██████▉   | 53/76 [00:06<00:02,  8.08it/s]\u001b[A\n",
      " 72%|███████▏  | 55/76 [00:06<00:02,  9.01it/s]\u001b[A\n",
      " 75%|███████▌  | 57/76 [00:06<00:02,  8.79it/s]\u001b[A\n",
      " 78%|███████▊  | 59/76 [00:06<00:01,  9.66it/s]\u001b[A\n",
      " 80%|████████  | 61/76 [00:07<00:01,  8.90it/s]\u001b[A\n",
      " 83%|████████▎ | 63/76 [00:07<00:01,  9.73it/s]\u001b[A\n",
      " 86%|████████▌ | 65/76 [00:07<00:01,  8.97it/s]\u001b[A\n",
      " 88%|████████▊ | 67/76 [00:07<00:00,  9.82it/s]\u001b[A\n",
      " 91%|█████████ | 69/76 [00:08<00:00,  9.21it/s]\u001b[A\n",
      " 93%|█████████▎| 71/76 [00:08<00:00, 10.01it/s]\u001b[A\n",
      " 96%|█████████▌| 73/76 [00:08<00:00,  9.44it/s]\u001b[A\n",
      " 99%|█████████▊| 75/76 [00:08<00:00, 10.17it/s]\u001b[A\n",
      "77it [00:08,  8.77it/s]                        \u001b[A\n"
     ]
    },
    {
     "name": "stdout",
     "output_type": "stream",
     "text": [
      "< VALIDATION >\n",
      "*************************************************************************\n",
      "Validation Loss : 0.7226851381264724\n",
      "-------------------------------------------------------------------------\n",
      "Total Accuracy\n",
      "70.02604166666667 %\n",
      "-------------------------------------------------------------------------\n",
      "Confusion Matrix\n",
      "555 2   0   11  1   1   8   0   0   0   0   0   0   0   0   0   0   0   \n",
      "28  22  244 1   13  12  1   3   1   0   0   0   0   0   0   0   0   0   \n",
      "3   1   182 0   0   5   0   0   3   0   0   0   0   0   0   0   0   0   \n",
      "15  0   3   704 11  2   0   0   0   21  0   0   0   0   0   1   0   0   \n",
      "6   4   9   83  113 399 0   0   0   1   5   6   0   0   0   0   0   0   \n",
      "0   0   0   0   8   255 0   0   0   0   0   4   0   0   0   0   0   1   \n",
      "0   0   0   0   0   0   104 6   0   2   0   0   0   0   0   0   0   0   \n",
      "0   0   2   0   0   0   1   36  28  1   2   0   0   0   0   0   0   0   \n",
      "0   0   0   0   0   0   0   8   30  0   1   0   0   0   0   0   0   0   \n",
      "0   0   0   1   0   0   0   1   0   146 1   0   0   0   0   0   0   0   \n",
      "0   0   0   0   0   2   1   5   0   13  69  34  0   0   0   0   0   0   \n",
      "0   0   0   0   0   1   0   0   0   0   14  36  0   0   0   0   0   1   \n",
      "0   0   0   0   0   0   0   0   0   0   0   0   115 0   0   1   0   0   \n",
      "0   0   0   0   0   0   0   0   0   0   0   0   6   32  25  0   5   1   \n",
      "0   0   0   0   0   0   0   0   0   0   0   0   0   7   29  0   2   0   \n",
      "0   0   0   0   0   0   0   0   0   0   0   0   3   0   0   144 0   0   \n",
      "0   0   0   0   0   0   0   0   0   0   0   0   4   0   0   13  82  25  \n",
      "0   0   0   0   0   0   0   0   0   0   0   0   0   0   0   0   17  35  \n",
      "-------------------------------------------------------------------------\n",
      "Validation F1 score : 0.6627862043052031\n",
      "Class 0 : 0.9367088607594937\n",
      "Class 1 : 0.12429378531073446\n",
      "Class 2 : 0.5741324921135647\n",
      "Class 3 : 0.9043031470777135\n",
      "Class 4 : 0.2927461139896373\n",
      "Class 5 : 0.5396825396825397\n",
      "Class 6 : 0.9162995594713658\n",
      "Class 7 : 0.5581395348837208\n",
      "Class 8 : 0.5940594059405941\n",
      "Class 9 : 0.8768768768768769\n",
      "Class 10 : 0.6388888888888888\n",
      "Class 11 : 0.5454545454545455\n",
      "Class 12 : 0.9426229508196722\n",
      "Class 13 : 0.5925925925925926\n",
      "Class 14 : 0.6304347826086957\n",
      "Class 15 : 0.9411764705882353\n",
      "Class 16 : 0.7130434782608696\n",
      "Class 17 : 0.6086956521739131\n"
     ]
    },
    {
     "name": "stderr",
     "output_type": "stream",
     "text": [
      "100%|██████████| 301/301 [02:03<00:00,  3.11s/it]"
     ]
    },
    {
     "name": "stdout",
     "output_type": "stream",
     "text": [
      "model saved!\n",
      "*************************************************************************\n",
      "\n"
     ]
    },
    {
     "name": "stderr",
     "output_type": "stream",
     "text": [
      "302it [02:03,  2.44it/s]                         "
     ]
    },
    {
     "name": "stdout",
     "output_type": "stream",
     "text": [
      "Adjusting learning rate of group 0 to 9.9000e-05.\n",
      "Epoch : 2\n"
     ]
    },
    {
     "name": "stderr",
     "output_type": "stream",
     "text": [
      "\n",
      " 50%|████▉     | 150/301 [00:52<00:54,  2.77it/s]"
     ]
    },
    {
     "name": "stdout",
     "output_type": "stream",
     "text": [
      "Train Loss : 0.3820164776006282\n"
     ]
    },
    {
     "name": "stderr",
     "output_type": "stream",
     "text": [
      "\n",
      "  0%|          | 0/76 [00:00<?, ?it/s]\u001b[A\n",
      "  1%|▏         | 1/76 [00:00<00:47,  1.59it/s]\u001b[A\n",
      "  4%|▍         | 3/76 [00:00<00:33,  2.16it/s]\u001b[A\n",
      "  7%|▋         | 5/76 [00:01<00:25,  2.75it/s]\u001b[A\n",
      "  9%|▉         | 7/76 [00:01<00:19,  3.59it/s]\u001b[A\n",
      " 12%|█▏        | 9/76 [00:01<00:15,  4.32it/s]\u001b[A\n",
      " 14%|█▍        | 11/76 [00:01<00:12,  5.38it/s]\u001b[A\n",
      " 17%|█▋        | 13/76 [00:01<00:10,  5.87it/s]\u001b[A\n",
      " 20%|█▉        | 15/76 [00:02<00:08,  6.95it/s]\u001b[A\n",
      " 22%|██▏       | 17/76 [00:02<00:07,  7.38it/s]\u001b[A\n",
      " 24%|██▎       | 18/76 [00:02<00:07,  8.00it/s]\u001b[A\n",
      " 26%|██▋       | 20/76 [00:02<00:06,  8.96it/s]\u001b[A\n",
      " 29%|██▉       | 22/76 [00:02<00:06,  8.46it/s]\u001b[A\n",
      " 32%|███▏      | 24/76 [00:02<00:05,  9.38it/s]\u001b[A\n",
      " 34%|███▍      | 26/76 [00:03<00:05,  8.95it/s]\u001b[A\n",
      " 37%|███▋      | 28/76 [00:03<00:04,  9.80it/s]\u001b[A\n",
      " 39%|███▉      | 30/76 [00:03<00:05,  8.34it/s]\u001b[A\n",
      " 42%|████▏     | 32/76 [00:03<00:04,  9.28it/s]\u001b[A\n",
      " 45%|████▍     | 34/76 [00:04<00:04,  8.78it/s]\u001b[A\n",
      " 47%|████▋     | 36/76 [00:04<00:04,  9.63it/s]\u001b[A\n",
      " 50%|█████     | 38/76 [00:04<00:04,  8.64it/s]\u001b[A\n",
      " 53%|█████▎    | 40/76 [00:04<00:03,  9.54it/s]\u001b[A\n",
      " 55%|█████▌    | 42/76 [00:05<00:03,  8.61it/s]\u001b[A\n",
      " 58%|█████▊    | 44/76 [00:05<00:03,  9.27it/s]\u001b[A\n",
      " 61%|██████    | 46/76 [00:05<00:03,  8.83it/s]\u001b[A\n",
      " 62%|██████▏   | 47/76 [00:05<00:03,  8.51it/s]\u001b[A\n",
      " 64%|██████▍   | 49/76 [00:05<00:02,  9.40it/s]\u001b[A\n",
      " 66%|██████▌   | 50/76 [00:05<00:03,  7.34it/s]\u001b[A\n",
      " 68%|██████▊   | 52/76 [00:06<00:02,  8.34it/s]\u001b[A\n",
      " 71%|███████   | 54/76 [00:06<00:02,  8.59it/s]\u001b[A\n",
      " 72%|███████▏  | 55/76 [00:06<00:02,  7.48it/s]\u001b[A\n",
      " 75%|███████▌  | 57/76 [00:06<00:02,  8.48it/s]\u001b[A\n",
      " 78%|███████▊  | 59/76 [00:06<00:02,  8.39it/s]\u001b[A\n",
      " 80%|████████  | 61/76 [00:07<00:01,  9.30it/s]\u001b[A\n",
      " 83%|████████▎ | 63/76 [00:07<00:01,  8.46it/s]\u001b[A\n",
      " 86%|████████▌ | 65/76 [00:07<00:01,  9.28it/s]\u001b[A\n",
      " 88%|████████▊ | 67/76 [00:07<00:01,  8.98it/s]\u001b[A\n",
      " 91%|█████████ | 69/76 [00:07<00:00,  9.73it/s]\u001b[A\n",
      " 93%|█████████▎| 71/76 [00:08<00:00,  8.73it/s]\u001b[A\n",
      " 96%|█████████▌| 73/76 [00:08<00:00,  9.62it/s]\u001b[A\n",
      " 99%|█████████▊| 75/76 [00:08<00:00,  9.01it/s]\u001b[A\n",
      "77it [00:08,  8.74it/s]                        \u001b[A\n"
     ]
    },
    {
     "name": "stdout",
     "output_type": "stream",
     "text": [
      "< VALIDATION >\n",
      "*************************************************************************\n",
      "Validation Loss : 0.6174918405421368\n",
      "-------------------------------------------------------------------------\n",
      "Total Accuracy\n",
      "75.703125 %\n",
      "-------------------------------------------------------------------------\n",
      "Confusion Matrix\n",
      "543 14  0   7   1   3   10  0   0   0   0   0   0   0   0   0   0   0   \n",
      "9   213 87  0   7   4   0   3   2   0   0   0   0   0   0   0   0   0   \n",
      "0   39  148 0   0   2   0   1   4   0   0   0   0   0   0   0   0   0   \n",
      "13  0   0   719 6   2   1   0   0   14  0   0   0   0   0   2   0   0   \n",
      "1   12  1   71  174 360 1   0   0   0   4   2   0   0   0   0   0   0   \n",
      "0   2   0   0   10  254 0   0   0   0   1   1   0   0   0   0   0   0   \n",
      "0   0   0   0   0   0   108 3   0   1   0   0   0   0   0   0   0   0   \n",
      "0   0   1   0   0   0   5   47  15  0   2   0   0   0   0   0   0   0   \n",
      "0   0   0   0   0   0   0   8   30  0   1   0   0   0   0   0   0   0   \n",
      "0   0   0   1   0   0   1   1   0   141 3   0   0   0   0   2   0   0   \n",
      "0   0   0   0   0   1   1   5   0   7   77  33  0   0   0   0   0   0   \n",
      "0   0   0   0   0   3   0   0   0   0   12  36  0   0   0   0   0   1   \n",
      "0   0   0   0   0   0   0   0   0   0   0   0   108 7   0   1   0   0   \n",
      "0   0   0   0   0   0   0   0   0   0   0   0   1   57  10  0   1   0   \n",
      "0   0   0   0   0   0   0   0   0   0   0   0   0   16  22  0   0   0   \n",
      "0   0   0   0   0   0   0   0   0   0   0   0   8   1   0   136 2   0   \n",
      "0   0   0   0   0   0   0   0   0   0   0   0   3   6   0   9   50  56  \n",
      "0   0   0   0   0   0   0   0   0   0   0   0   0   2   0   0   6   44  \n",
      "-------------------------------------------------------------------------\n",
      "Validation F1 score : 0.7211107321310323\n",
      "Class 0 : 0.9493006993006993\n",
      "Class 1 : 0.7041322314049586\n",
      "Class 2 : 0.6867749419953596\n",
      "Class 3 : 0.92475884244373\n",
      "Class 4 : 0.4223300970873786\n",
      "Class 5 : 0.5663322185061316\n",
      "Class 6 : 0.9037656903765692\n",
      "Class 7 : 0.681159420289855\n",
      "Class 8 : 0.6666666666666667\n",
      "Class 9 : 0.9038461538461537\n",
      "Class 10 : 0.6874999999999999\n",
      "Class 11 : 0.5806451612903226\n",
      "Class 12 : 0.9152542372881356\n",
      "Class 13 : 0.7215189873417721\n",
      "Class 14 : 0.6285714285714286\n",
      "Class 15 : 0.9158249158249158\n",
      "Class 16 : 0.5464480874316939\n",
      "Class 17 : 0.5751633986928104\n"
     ]
    },
    {
     "name": "stderr",
     "output_type": "stream",
     "text": [
      " 50%|█████     | 151/301 [01:02<07:52,  3.15s/it]"
     ]
    },
    {
     "name": "stdout",
     "output_type": "stream",
     "text": [
      "model saved!\n",
      "*************************************************************************\n",
      "\n"
     ]
    },
    {
     "name": "stderr",
     "output_type": "stream",
     "text": [
      "100%|█████████▉| 300/301 [01:54<00:00,  2.91it/s]"
     ]
    },
    {
     "name": "stdout",
     "output_type": "stream",
     "text": [
      "Train Loss : 0.37306443643926385\n"
     ]
    },
    {
     "name": "stderr",
     "output_type": "stream",
     "text": [
      "\n",
      "  0%|          | 0/76 [00:00<?, ?it/s]\u001b[A\n",
      "  1%|▏         | 1/76 [00:00<00:40,  1.83it/s]\u001b[A\n",
      "  4%|▍         | 3/76 [00:00<00:29,  2.46it/s]\u001b[A\n",
      "  7%|▋         | 5/76 [00:00<00:23,  3.07it/s]\u001b[A\n",
      "  9%|▉         | 7/76 [00:01<00:17,  3.96it/s]\u001b[A\n",
      " 12%|█▏        | 9/76 [00:01<00:13,  4.79it/s]\u001b[A\n",
      " 13%|█▎        | 10/76 [00:01<00:11,  5.67it/s]\u001b[A\n",
      " 16%|█▌        | 12/76 [00:01<00:09,  6.79it/s]\u001b[A\n",
      " 17%|█▋        | 13/76 [00:01<00:10,  6.28it/s]\u001b[A\n",
      " 20%|█▉        | 15/76 [00:01<00:08,  7.38it/s]\u001b[A\n",
      " 22%|██▏       | 17/76 [00:02<00:08,  7.12it/s]\u001b[A\n",
      " 25%|██▌       | 19/76 [00:02<00:06,  8.19it/s]\u001b[A\n",
      " 28%|██▊       | 21/76 [00:02<00:06,  8.03it/s]\u001b[A\n",
      " 30%|███       | 23/76 [00:02<00:05,  9.00it/s]\u001b[A\n",
      " 33%|███▎      | 25/76 [00:03<00:05,  8.68it/s]\u001b[A\n",
      " 36%|███▌      | 27/76 [00:03<00:05,  9.56it/s]\u001b[A\n",
      " 38%|███▊      | 29/76 [00:03<00:05,  8.70it/s]\u001b[A\n",
      " 39%|███▉      | 30/76 [00:03<00:05,  9.05it/s]\u001b[A\n",
      " 42%|████▏     | 32/76 [00:03<00:04,  9.89it/s]\u001b[A\n",
      " 45%|████▍     | 34/76 [00:04<00:04,  9.41it/s]\u001b[A\n",
      " 47%|████▋     | 36/76 [00:04<00:03, 10.16it/s]\u001b[A\n",
      " 50%|█████     | 38/76 [00:04<00:04,  9.10it/s]\u001b[A\n",
      " 53%|█████▎    | 40/76 [00:04<00:03,  9.93it/s]\u001b[A\n",
      " 55%|█████▌    | 42/76 [00:04<00:03,  8.73it/s]\u001b[A\n",
      " 58%|█████▊    | 44/76 [00:05<00:03,  9.59it/s]\u001b[A\n",
      " 61%|██████    | 46/76 [00:05<00:03,  9.18it/s]\u001b[A\n",
      " 62%|██████▏   | 47/76 [00:05<00:03,  8.16it/s]\u001b[A\n",
      " 64%|██████▍   | 49/76 [00:05<00:03,  8.69it/s]\u001b[A\n",
      " 67%|██████▋   | 51/76 [00:05<00:03,  8.14it/s]\u001b[A\n",
      " 70%|██████▉   | 53/76 [00:06<00:02,  9.08it/s]\u001b[A\n",
      " 72%|███████▏  | 55/76 [00:06<00:02,  8.33it/s]\u001b[A\n",
      " 75%|███████▌  | 57/76 [00:06<00:02,  9.24it/s]\u001b[A\n",
      " 78%|███████▊  | 59/76 [00:06<00:02,  8.47it/s]\u001b[A\n",
      " 80%|████████  | 61/76 [00:07<00:01,  9.36it/s]\u001b[A\n",
      " 83%|████████▎ | 63/76 [00:07<00:01,  8.79it/s]\u001b[A\n",
      " 86%|████████▌ | 65/76 [00:07<00:01,  9.64it/s]\u001b[A\n",
      " 88%|████████▊ | 67/76 [00:07<00:01,  8.35it/s]\u001b[A\n",
      " 91%|█████████ | 69/76 [00:07<00:00,  9.19it/s]\u001b[A\n",
      " 93%|█████████▎| 71/76 [00:08<00:00,  8.90it/s]\u001b[A\n",
      " 96%|█████████▌| 73/76 [00:08<00:00,  9.74it/s]\u001b[A\n",
      " 99%|█████████▊| 75/76 [00:08<00:00,  8.56it/s]\u001b[A\n",
      "77it [00:08,  8.74it/s]                        \u001b[A\n",
      "100%|██████████| 301/301 [02:03<00:00,  3.06s/it]"
     ]
    },
    {
     "name": "stdout",
     "output_type": "stream",
     "text": [
      "< VALIDATION >\n",
      "*************************************************************************\n",
      "Validation Loss : 0.5797939939158303\n",
      "-------------------------------------------------------------------------\n",
      "Total Accuracy\n",
      "76.92708333333333 %\n",
      "-------------------------------------------------------------------------\n",
      "Confusion Matrix\n",
      "555 8   0   8   1   0   6   0   0   0   0   0   0   0   0   0   0   0   \n",
      "11  135 157 0   14  7   0   1   0   0   0   0   0   0   0   0   0   0   \n",
      "0   23  167 0   0   2   0   0   2   0   0   0   0   0   0   0   0   0   \n",
      "11  0   0   714 17  1   0   0   0   14  0   0   0   0   0   0   0   0   \n",
      "2   5   0   60  262 291 0   0   0   0   6   0   0   0   0   0   0   0   \n",
      "0   0   0   0   12  255 0   0   0   0   0   1   0   0   0   0   0   0   \n",
      "0   0   0   0   0   0   101 9   0   1   1   0   0   0   0   0   0   0   \n",
      "0   0   1   0   0   0   1   37  26  0   5   0   0   0   0   0   0   0   \n",
      "0   0   0   0   0   0   0   9   29  0   1   0   0   0   0   0   0   0   \n",
      "0   0   0   1   0   0   2   1   0   143 2   0   0   0   0   0   0   0   \n",
      "0   0   0   0   0   1   1   1   0   11  95  15  0   0   0   0   0   0   \n",
      "0   0   1   0   0   1   0   0   0   0   23  27  0   0   0   0   0   0   \n",
      "0   0   0   0   0   0   0   0   0   0   0   0   115 0   0   1   0   0   \n",
      "0   0   0   0   0   0   0   0   0   0   0   0   4   37  27  0   1   0   \n",
      "0   0   0   0   0   0   0   0   0   0   0   0   0   7   30  0   0   1   \n",
      "0   0   0   0   0   0   0   0   0   0   0   0   4   0   0   143 0   0   \n",
      "0   0   0   0   0   0   0   0   0   0   0   0   3   3   0   10  74  34  \n",
      "0   0   0   0   0   0   0   0   0   0   0   0   0   0   0   0   17  35  \n",
      "-------------------------------------------------------------------------\n",
      "Validation F1 score : 0.7209575624258973\n",
      "Class 0 : 0.9593777009507346\n",
      "Class 1 : 0.5443548387096775\n",
      "Class 2 : 0.6423076923076924\n",
      "Class 3 : 0.9272727272727274\n",
      "Class 4 : 0.5622317596566524\n",
      "Class 5 : 0.6174334140435835\n",
      "Class 6 : 0.905829596412556\n",
      "Class 7 : 0.5781249999999999\n",
      "Class 8 : 0.6041666666666666\n",
      "Class 9 : 0.8993710691823898\n",
      "Class 10 : 0.7392996108949416\n",
      "Class 11 : 0.5684210526315789\n",
      "Class 12 : 0.9504132231404958\n",
      "Class 13 : 0.6379310344827587\n",
      "Class 14 : 0.631578947368421\n",
      "Class 15 : 0.9501661129568106\n",
      "Class 16 : 0.6851851851851853\n",
      "Class 17 : 0.5737704918032787\n",
      "model saved!\n",
      "*************************************************************************\n",
      "\n"
     ]
    },
    {
     "name": "stderr",
     "output_type": "stream",
     "text": [
      "302it [02:03,  2.44it/s]                         "
     ]
    },
    {
     "name": "stdout",
     "output_type": "stream",
     "text": [
      "Adjusting learning rate of group 0 to 9.8010e-05.\n",
      "Epoch : 3\n"
     ]
    },
    {
     "name": "stderr",
     "output_type": "stream",
     "text": [
      "\n",
      " 50%|████▉     | 150/301 [00:52<00:52,  2.89it/s]"
     ]
    },
    {
     "name": "stdout",
     "output_type": "stream",
     "text": [
      "Train Loss : 0.34310779725478974\n"
     ]
    },
    {
     "name": "stderr",
     "output_type": "stream",
     "text": [
      "\n",
      "  0%|          | 0/76 [00:00<?, ?it/s]\u001b[A\n",
      "  1%|▏         | 1/76 [00:00<00:46,  1.62it/s]\u001b[A\n",
      "  4%|▍         | 3/76 [00:00<00:33,  2.20it/s]\u001b[A\n",
      "  7%|▋         | 5/76 [00:01<00:25,  2.78it/s]\u001b[A\n",
      "  9%|▉         | 7/76 [00:01<00:19,  3.63it/s]\u001b[A\n",
      " 12%|█▏        | 9/76 [00:01<00:15,  4.36it/s]\u001b[A\n",
      " 14%|█▍        | 11/76 [00:01<00:12,  5.42it/s]\u001b[A\n",
      " 17%|█▋        | 13/76 [00:01<00:11,  5.60it/s]\u001b[A\n",
      " 20%|█▉        | 15/76 [00:02<00:09,  6.70it/s]\u001b[A\n",
      " 22%|██▏       | 17/76 [00:02<00:08,  6.98it/s]\u001b[A\n",
      " 25%|██▌       | 19/76 [00:02<00:07,  8.04it/s]\u001b[A\n",
      " 28%|██▊       | 21/76 [00:02<00:07,  7.67it/s]\u001b[A\n",
      " 30%|███       | 23/76 [00:02<00:06,  8.66it/s]\u001b[A\n",
      " 33%|███▎      | 25/76 [00:03<00:05,  8.52it/s]\u001b[A\n",
      " 36%|███▌      | 27/76 [00:03<00:05,  9.31it/s]\u001b[A\n",
      " 38%|███▊      | 29/76 [00:03<00:05,  8.57it/s]\u001b[A\n",
      " 41%|████      | 31/76 [00:03<00:04,  9.45it/s]\u001b[A\n",
      " 43%|████▎     | 33/76 [00:04<00:05,  8.10it/s]\u001b[A\n",
      " 46%|████▌     | 35/76 [00:04<00:04,  9.02it/s]\u001b[A\n",
      " 49%|████▊     | 37/76 [00:04<00:04,  8.74it/s]\u001b[A\n",
      " 51%|█████▏    | 39/76 [00:04<00:03,  9.59it/s]\u001b[A\n",
      " 54%|█████▍    | 41/76 [00:04<00:03,  9.17it/s]\u001b[A\n",
      " 57%|█████▋    | 43/76 [00:05<00:03,  9.92it/s]\u001b[A\n",
      " 59%|█████▉    | 45/76 [00:05<00:03,  9.21it/s]\u001b[A\n",
      " 62%|██████▏   | 47/76 [00:05<00:02,  9.99it/s]\u001b[A\n",
      " 64%|██████▍   | 49/76 [00:05<00:03,  9.00it/s]\u001b[A\n",
      " 66%|██████▌   | 50/76 [00:05<00:02,  8.86it/s]\u001b[A\n",
      " 68%|██████▊   | 52/76 [00:06<00:02,  9.70it/s]\u001b[A\n",
      " 71%|███████   | 54/76 [00:06<00:02,  9.00it/s]\u001b[A\n",
      " 74%|███████▎  | 56/76 [00:06<00:02,  9.80it/s]\u001b[A\n",
      " 76%|███████▋  | 58/76 [00:06<00:01,  9.05it/s]\u001b[A\n",
      " 79%|███████▉  | 60/76 [00:06<00:01,  9.86it/s]\u001b[A\n",
      " 82%|████████▏ | 62/76 [00:07<00:01,  8.49it/s]\u001b[A\n",
      " 84%|████████▍ | 64/76 [00:07<00:01,  9.37it/s]\u001b[A\n",
      " 87%|████████▋ | 66/76 [00:07<00:01,  8.67it/s]\u001b[A\n",
      " 89%|████████▉ | 68/76 [00:07<00:00,  9.54it/s]\u001b[A\n",
      " 92%|█████████▏| 70/76 [00:08<00:00,  8.83it/s]\u001b[A\n",
      " 93%|█████████▎| 71/76 [00:08<00:00,  8.09it/s]\u001b[A\n",
      " 96%|█████████▌| 73/76 [00:08<00:00,  8.58it/s]\u001b[A\n",
      " 99%|█████████▊| 75/76 [00:08<00:00,  8.92it/s]\u001b[A\n",
      "77it [00:08,  8.67it/s]                        \u001b[A\n"
     ]
    },
    {
     "name": "stdout",
     "output_type": "stream",
     "text": [
      "< VALIDATION >\n",
      "*************************************************************************\n",
      "Validation Loss : 0.5883216737926781\n",
      "-------------------------------------------------------------------------\n",
      "Total Accuracy\n",
      "81.640625 %\n",
      "-------------------------------------------------------------------------\n",
      "Confusion Matrix\n",
      "542 18  0   5   5   1   7   0   0   0   0   0   0   0   0   0   0   0   \n",
      "8   247 53  1   13  3   0   0   0   0   0   0   0   0   0   0   0   0   \n",
      "0   62  131 0   0   1   0   0   0   0   0   0   0   0   0   0   0   0   \n",
      "7   0   0   728 12  0   0   0   0   10  0   0   0   0   0   0   0   0   \n",
      "2   9   0   67  353 192 0   0   0   0   2   1   0   0   0   0   0   0   \n",
      "0   0   0   0   35  233 0   0   0   0   0   0   0   0   0   0   0   0   \n",
      "0   0   0   0   0   0   105 6   0   1   0   0   0   0   0   0   0   0   \n",
      "0   1   0   0   0   0   2   54  9   0   4   0   0   0   0   0   0   0   \n",
      "0   0   0   0   0   0   0   16  22  0   1   0   0   0   0   0   0   0   \n",
      "0   0   0   1   0   0   1   0   0   146 1   0   0   0   0   0   0   0   \n",
      "0   0   0   1   0   0   1   0   0   9   100 13  0   0   0   0   0   0   \n",
      "0   0   0   0   1   0   0   1   0   0   20  30  0   0   0   0   0   0   \n",
      "0   0   0   0   0   0   0   0   0   0   0   0   106 9   0   1   0   0   \n",
      "0   0   0   0   0   0   0   0   0   0   0   0   1   62  4   0   1   1   \n",
      "0   0   0   0   0   0   0   0   0   0   0   0   0   20  18  0   0   0   \n",
      "0   0   0   0   0   0   0   0   0   0   0   0   1   1   0   143 2   0   \n",
      "0   0   0   0   0   0   0   0   0   0   0   0   1   3   0   10  80  30  \n",
      "0   0   0   0   0   0   0   0   0   0   0   0   0   1   0   0   16  35  \n",
      "-------------------------------------------------------------------------\n",
      "Validation F1 score : 0.7696583350595285\n",
      "Class 0 : 0.9533861037818823\n",
      "Class 1 : 0.7462235649546827\n",
      "Class 2 : 0.6931216931216931\n",
      "Class 3 : 0.9333333333333333\n",
      "Class 4 : 0.6755980861244019\n",
      "Class 5 : 0.667621776504298\n",
      "Class 6 : 0.9210526315789473\n",
      "Class 7 : 0.7346938775510204\n",
      "Class 8 : 0.6285714285714286\n",
      "Class 9 : 0.926984126984127\n",
      "Class 10 : 0.7936507936507936\n",
      "Class 11 : 0.6249999999999999\n",
      "Class 12 : 0.9422222222222223\n",
      "Class 13 : 0.7515151515151515\n",
      "Class 14 : 0.6\n",
      "Class 15 : 0.9501661129568106\n",
      "Class 16 : 0.7174887892376681\n",
      "Class 17 : 0.5932203389830509\n"
     ]
    },
    {
     "name": "stderr",
     "output_type": "stream",
     "text": [
      " 50%|█████     | 151/301 [01:02<07:53,  3.15s/it]"
     ]
    },
    {
     "name": "stdout",
     "output_type": "stream",
     "text": [
      "model saved!\n",
      "*************************************************************************\n",
      "\n"
     ]
    },
    {
     "name": "stderr",
     "output_type": "stream",
     "text": [
      "100%|█████████▉| 300/301 [01:54<00:00,  2.90it/s]"
     ]
    },
    {
     "name": "stdout",
     "output_type": "stream",
     "text": [
      "Train Loss : 0.337917893481413\n"
     ]
    },
    {
     "name": "stderr",
     "output_type": "stream",
     "text": [
      "\n",
      "  0%|          | 0/76 [00:00<?, ?it/s]\u001b[A\n",
      "  1%|▏         | 1/76 [00:00<00:45,  1.63it/s]\u001b[A\n",
      "  4%|▍         | 3/76 [00:00<00:33,  2.21it/s]\u001b[A\n",
      "  7%|▋         | 5/76 [00:01<00:25,  2.77it/s]\u001b[A\n",
      "  9%|▉         | 7/76 [00:01<00:19,  3.61it/s]\u001b[A\n",
      " 12%|█▏        | 9/76 [00:01<00:16,  4.17it/s]\u001b[A\n",
      " 14%|█▍        | 11/76 [00:01<00:12,  5.22it/s]\u001b[A\n",
      " 17%|█▋        | 13/76 [00:01<00:11,  5.58it/s]\u001b[A\n",
      " 20%|█▉        | 15/76 [00:02<00:09,  6.69it/s]\u001b[A\n",
      " 22%|██▏       | 17/76 [00:02<00:08,  7.04it/s]\u001b[A\n",
      " 25%|██▌       | 19/76 [00:02<00:07,  8.10it/s]\u001b[A\n",
      " 28%|██▊       | 21/76 [00:02<00:07,  7.74it/s]\u001b[A\n",
      " 30%|███       | 23/76 [00:03<00:06,  8.73it/s]\u001b[A\n",
      " 33%|███▎      | 25/76 [00:03<00:06,  8.50it/s]\u001b[A\n",
      " 36%|███▌      | 27/76 [00:03<00:05,  9.35it/s]\u001b[A\n",
      " 38%|███▊      | 29/76 [00:03<00:06,  7.80it/s]\u001b[A\n",
      " 41%|████      | 31/76 [00:03<00:05,  8.80it/s]\u001b[A\n",
      " 43%|████▎     | 33/76 [00:04<00:05,  8.06it/s]\u001b[A\n",
      " 46%|████▌     | 35/76 [00:04<00:04,  9.03it/s]\u001b[A\n",
      " 49%|████▊     | 37/76 [00:04<00:04,  8.53it/s]\u001b[A\n",
      " 51%|█████▏    | 39/76 [00:04<00:03,  9.44it/s]\u001b[A\n",
      " 54%|█████▍    | 41/76 [00:05<00:04,  8.29it/s]\u001b[A\n",
      " 57%|█████▋    | 43/76 [00:05<00:03,  9.22it/s]\u001b[A\n",
      " 59%|█████▉    | 45/76 [00:05<00:03,  8.35it/s]\u001b[A\n",
      " 62%|██████▏   | 47/76 [00:05<00:03,  9.29it/s]\u001b[A\n",
      " 64%|██████▍   | 49/76 [00:06<00:03,  8.67it/s]\u001b[A\n",
      " 67%|██████▋   | 51/76 [00:06<00:02,  9.53it/s]\u001b[A\n",
      " 70%|██████▉   | 53/76 [00:06<00:02,  8.94it/s]\u001b[A\n",
      " 72%|███████▏  | 55/76 [00:06<00:02,  9.77it/s]\u001b[A\n",
      " 75%|███████▌  | 57/76 [00:06<00:02,  8.49it/s]\u001b[A\n",
      " 78%|███████▊  | 59/76 [00:07<00:01,  9.39it/s]\u001b[A\n",
      " 80%|████████  | 61/76 [00:07<00:01,  8.45it/s]\u001b[A\n",
      " 83%|████████▎ | 63/76 [00:07<00:01,  9.36it/s]\u001b[A\n",
      " 86%|████████▌ | 65/76 [00:07<00:01,  8.93it/s]\u001b[A\n",
      " 88%|████████▊ | 67/76 [00:07<00:00,  9.70it/s]\u001b[A\n",
      " 91%|█████████ | 69/76 [00:08<00:00,  8.94it/s]\u001b[A\n",
      " 93%|█████████▎| 71/76 [00:08<00:00,  9.76it/s]\u001b[A\n",
      " 96%|█████████▌| 73/76 [00:08<00:00,  8.43it/s]\u001b[A\n",
      " 99%|█████████▊| 75/76 [00:08<00:00,  9.34it/s]\u001b[A\n",
      "77it [00:09,  8.52it/s]                        \u001b[A\n",
      "100%|██████████| 301/301 [02:03<00:00,  3.13s/it]"
     ]
    },
    {
     "name": "stdout",
     "output_type": "stream",
     "text": [
      "< VALIDATION >\n",
      "*************************************************************************\n",
      "Validation Loss : 0.5201274083032237\n",
      "-------------------------------------------------------------------------\n",
      "Total Accuracy\n",
      "78.64583333333334 %\n",
      "-------------------------------------------------------------------------\n",
      "Confusion Matrix\n",
      "555 12  0   7   2   1   1   0   0   0   0   0   0   0   0   0   0   0   \n",
      "6   127 182 0   6   4   0   0   0   0   0   0   0   0   0   0   0   0   \n",
      "0   9   184 0   0   1   0   0   0   0   0   0   0   0   0   0   0   0   \n",
      "9   1   0   717 13  1   0   0   0   15  0   0   0   0   0   1   0   0   \n",
      "1   7   3   53  296 264 0   0   0   0   2   0   0   0   0   0   0   0   \n",
      "0   0   0   0   18  249 0   0   0   0   0   1   0   0   0   0   0   0   \n",
      "0   0   0   0   0   0   103 6   0   2   1   0   0   0   0   0   0   0   \n",
      "0   1   1   0   0   0   1   35  30  0   2   0   0   0   0   0   0   0   \n",
      "0   0   0   0   0   0   0   6   32  0   1   0   0   0   0   0   0   0   \n",
      "0   0   0   1   0   0   2   0   0   145 1   0   0   0   0   0   0   0   \n",
      "0   0   0   0   0   1   1   2   0   10  90  20  0   0   0   0   0   0   \n",
      "0   0   0   0   0   2   0   0   0   0   17  33  0   0   0   0   0   0   \n",
      "0   0   0   0   0   0   0   0   0   0   0   0   111 4   0   1   0   0   \n",
      "0   0   0   0   0   0   0   0   0   0   0   0   2   40  26  0   0   1   \n",
      "0   0   0   0   0   0   0   0   0   0   0   0   0   7   30  0   0   1   \n",
      "0   0   0   0   0   0   0   0   0   0   0   0   2   0   0   143 2   0   \n",
      "0   0   0   0   0   0   0   0   0   0   0   0   1   1   0   7   95  20  \n",
      "0   0   0   0   0   0   0   0   0   0   0   0   0   0   0   0   17  35  \n",
      "-------------------------------------------------------------------------\n",
      "Validation F1 score : 0.7455193260661025\n",
      "Class 0 : 0.9660574412532635\n",
      "Class 1 : 0.5269709543568465\n",
      "Class 2 : 0.6524822695035462\n",
      "Class 3 : 0.9342019543973941\n",
      "Class 4 : 0.6160249739854319\n",
      "Class 5 : 0.629582806573957\n",
      "Class 6 : 0.9363636363636363\n",
      "Class 7 : 0.588235294117647\n",
      "Class 8 : 0.6336633663366337\n",
      "Class 9 : 0.9034267912772586\n",
      "Class 10 : 0.7563025210084033\n",
      "Class 11 : 0.6226415094339622\n",
      "Class 12 : 0.9568965517241379\n",
      "Class 13 : 0.6611570247933884\n",
      "Class 14 : 0.6382978723404255\n",
      "Class 15 : 0.9565217391304347\n",
      "Class 16 : 0.7983193277310924\n",
      "Class 17 : 0.6422018348623854\n",
      "model saved!\n",
      "*************************************************************************\n",
      "\n"
     ]
    },
    {
     "name": "stderr",
     "output_type": "stream",
     "text": [
      "302it [02:04,  2.44it/s]                         "
     ]
    },
    {
     "name": "stdout",
     "output_type": "stream",
     "text": [
      "Adjusting learning rate of group 0 to 9.7030e-05.\n",
      "Epoch : 4\n"
     ]
    },
    {
     "name": "stderr",
     "output_type": "stream",
     "text": [
      "\n",
      " 50%|████▉     | 150/301 [00:53<00:52,  2.87it/s]"
     ]
    },
    {
     "name": "stdout",
     "output_type": "stream",
     "text": [
      "Train Loss : 0.31082039262285294\n"
     ]
    },
    {
     "name": "stderr",
     "output_type": "stream",
     "text": [
      "\n",
      "  0%|          | 0/76 [00:00<?, ?it/s]\u001b[A\n",
      "  1%|▏         | 1/76 [00:00<00:45,  1.64it/s]\u001b[A\n",
      "  4%|▍         | 3/76 [00:00<00:32,  2.21it/s]\u001b[A\n",
      "  7%|▋         | 5/76 [00:01<00:24,  2.85it/s]\u001b[A\n",
      "  9%|▉         | 7/76 [00:01<00:18,  3.71it/s]\u001b[A\n",
      " 12%|█▏        | 9/76 [00:01<00:15,  4.45it/s]\u001b[A\n",
      " 14%|█▍        | 11/76 [00:01<00:11,  5.51it/s]\u001b[A\n",
      " 17%|█▋        | 13/76 [00:01<00:11,  5.57it/s]\u001b[A\n",
      " 20%|█▉        | 15/76 [00:02<00:09,  6.67it/s]\u001b[A\n",
      " 22%|██▏       | 17/76 [00:02<00:09,  6.38it/s]\u001b[A\n",
      " 25%|██▌       | 19/76 [00:02<00:07,  7.47it/s]\u001b[A\n",
      " 28%|██▊       | 21/76 [00:02<00:07,  7.22it/s]\u001b[A\n",
      " 30%|███       | 23/76 [00:03<00:06,  8.26it/s]\u001b[A\n",
      " 33%|███▎      | 25/76 [00:03<00:06,  8.16it/s]\u001b[A\n",
      " 36%|███▌      | 27/76 [00:03<00:05,  9.06it/s]\u001b[A\n",
      " 38%|███▊      | 29/76 [00:03<00:05,  8.64it/s]\u001b[A\n",
      " 41%|████      | 31/76 [00:03<00:04,  9.50it/s]\u001b[A\n",
      " 43%|████▎     | 33/76 [00:04<00:05,  8.35it/s]\u001b[A\n",
      " 46%|████▌     | 35/76 [00:04<00:04,  9.27it/s]\u001b[A\n",
      " 49%|████▊     | 37/76 [00:04<00:04,  8.16it/s]\u001b[A\n",
      " 51%|█████▏    | 39/76 [00:04<00:04,  9.07it/s]\u001b[A\n",
      " 54%|█████▍    | 41/76 [00:05<00:03,  9.32it/s]\u001b[A\n",
      " 57%|█████▋    | 43/76 [00:05<00:03, 10.07it/s]\u001b[A\n",
      " 59%|█████▉    | 45/76 [00:05<00:03,  8.84it/s]\u001b[A\n",
      " 62%|██████▏   | 47/76 [00:05<00:03,  9.63it/s]\u001b[A\n",
      " 64%|██████▍   | 49/76 [00:05<00:03,  8.74it/s]\u001b[A\n",
      " 67%|██████▋   | 51/76 [00:06<00:02,  9.60it/s]\u001b[A\n",
      " 70%|██████▉   | 53/76 [00:06<00:02,  8.96it/s]\u001b[A\n",
      " 72%|███████▏  | 55/76 [00:06<00:02,  9.78it/s]\u001b[A\n",
      " 75%|███████▌  | 57/76 [00:06<00:02,  8.68it/s]\u001b[A\n",
      " 78%|███████▊  | 59/76 [00:06<00:01,  9.54it/s]\u001b[A\n",
      " 80%|████████  | 61/76 [00:07<00:01,  8.77it/s]\u001b[A\n",
      " 83%|████████▎ | 63/76 [00:07<00:01,  9.60it/s]\u001b[A\n",
      " 86%|████████▌ | 65/76 [00:07<00:01,  8.58it/s]\u001b[A\n",
      " 88%|████████▊ | 67/76 [00:07<00:00,  9.44it/s]\u001b[A\n",
      " 91%|█████████ | 69/76 [00:08<00:00,  9.05it/s]\u001b[A\n",
      " 93%|█████████▎| 71/76 [00:08<00:00,  9.85it/s]\u001b[A\n",
      " 96%|█████████▌| 73/76 [00:08<00:00,  9.61it/s]\u001b[A\n",
      " 99%|█████████▊| 75/76 [00:08<00:00, 10.30it/s]\u001b[A\n",
      "77it [00:08,  8.72it/s]                        \u001b[A\n"
     ]
    },
    {
     "name": "stdout",
     "output_type": "stream",
     "text": [
      "< VALIDATION >\n",
      "*************************************************************************\n",
      "Validation Loss : 0.5984934452292207\n",
      "-------------------------------------------------------------------------\n",
      "Total Accuracy\n",
      "82.31770833333333 %\n",
      "-------------------------------------------------------------------------\n",
      "Confusion Matrix\n",
      "550 19  0   5   1   0   3   0   0   0   0   0   0   0   0   0   0   0   \n",
      "7   262 47  0   5   3   0   1   0   0   0   0   0   0   0   0   0   0   \n",
      "0   61  132 0   0   1   0   0   0   0   0   0   0   0   0   0   0   0   \n",
      "8   1   0   716 16  0   0   0   0   15  0   0   0   0   0   1   0   0   \n",
      "0   13  1   56  358 195 0   0   0   0   2   0   0   1   0   0   0   0   \n",
      "0   0   0   0   37  231 0   0   0   0   0   0   0   0   0   0   0   0   \n",
      "0   0   0   0   0   0   108 3   0   1   0   0   0   0   0   0   0   0   \n",
      "0   1   0   0   0   0   2   58  5   0   4   0   0   0   0   0   0   0   \n",
      "0   0   0   0   0   0   0   16  23  0   0   0   0   0   0   0   0   0   \n",
      "0   0   0   0   0   0   2   0   0   141 6   0   0   0   0   0   0   0   \n",
      "0   0   0   0   0   1   1   0   0   7   105 10  0   0   0   0   0   0   \n",
      "0   0   0   0   0   1   0   0   0   0   22  29  0   0   0   0   0   0   \n",
      "0   0   0   0   0   0   0   0   0   0   0   0   95  20  0   1   0   0   \n",
      "0   0   0   0   0   0   0   0   0   0   0   0   1   60  7   0   1   0   \n",
      "0   0   0   0   0   0   0   0   0   0   0   0   0   16  22  0   0   0   \n",
      "0   0   0   0   0   0   0   0   0   0   0   0   1   1   0   142 3   0   \n",
      "0   0   0   0   0   0   0   0   0   0   0   0   1   2   0   8   90  23  \n",
      "0   0   0   0   0   0   0   0   0   0   0   0   0   1   0   0   12  39  \n",
      "-------------------------------------------------------------------------\n",
      "Validation F1 score : 0.7854555429036543\n",
      "Class 0 : 0.9623797025371829\n",
      "Class 1 : 0.7683284457478006\n",
      "Class 2 : 0.7058823529411765\n",
      "Class 3 : 0.9335071707953064\n",
      "Class 4 : 0.6864813039309683\n",
      "Class 5 : 0.66\n",
      "Class 6 : 0.9473684210526316\n",
      "Class 7 : 0.7837837837837838\n",
      "Class 8 : 0.6865671641791046\n",
      "Class 9 : 0.9009584664536741\n",
      "Class 10 : 0.7984790874524714\n",
      "Class 11 : 0.6373626373626373\n",
      "Class 12 : 0.8878504672897196\n",
      "Class 13 : 0.7058823529411764\n",
      "Class 14 : 0.6567164179104478\n",
      "Class 15 : 0.9498327759197324\n",
      "Class 16 : 0.782608695652174\n",
      "Class 17 : 0.6842105263157896\n"
     ]
    },
    {
     "name": "stderr",
     "output_type": "stream",
     "text": [
      " 50%|█████     | 151/301 [01:02<07:51,  3.14s/it]"
     ]
    },
    {
     "name": "stdout",
     "output_type": "stream",
     "text": [
      "model saved!\n",
      "*************************************************************************\n",
      "\n"
     ]
    },
    {
     "name": "stderr",
     "output_type": "stream",
     "text": [
      "100%|█████████▉| 300/301 [01:54<00:00,  2.91it/s]"
     ]
    },
    {
     "name": "stdout",
     "output_type": "stream",
     "text": [
      "Train Loss : 0.3083821396990076\n"
     ]
    },
    {
     "name": "stderr",
     "output_type": "stream",
     "text": [
      "\n",
      "  0%|          | 0/76 [00:00<?, ?it/s]\u001b[A\n",
      "  1%|▏         | 1/76 [00:00<00:46,  1.60it/s]\u001b[A\n",
      "  4%|▍         | 3/76 [00:00<00:33,  2.17it/s]\u001b[A\n",
      "  7%|▋         | 5/76 [00:01<00:25,  2.76it/s]\u001b[A\n",
      "  9%|▉         | 7/76 [00:01<00:19,  3.60it/s]\u001b[A\n",
      " 12%|█▏        | 9/76 [00:01<00:16,  4.08it/s]\u001b[A\n",
      " 14%|█▍        | 11/76 [00:01<00:12,  5.12it/s]\u001b[A\n",
      " 17%|█▋        | 13/76 [00:02<00:11,  5.54it/s]\u001b[A\n",
      " 20%|█▉        | 15/76 [00:02<00:09,  6.64it/s]\u001b[A\n",
      " 22%|██▏       | 17/76 [00:02<00:08,  7.07it/s]\u001b[A\n",
      " 25%|██▌       | 19/76 [00:02<00:07,  8.13it/s]\u001b[A\n",
      " 28%|██▊       | 21/76 [00:02<00:06,  8.07it/s]\u001b[A\n",
      " 30%|███       | 23/76 [00:02<00:05,  9.02it/s]\u001b[A\n",
      " 33%|███▎      | 25/76 [00:03<00:05,  8.82it/s]\u001b[A\n",
      " 36%|███▌      | 27/76 [00:03<00:05,  8.60it/s]\u001b[A\n",
      " 38%|███▊      | 29/76 [00:03<00:05,  9.10it/s]\u001b[A\n",
      " 41%|████      | 31/76 [00:03<00:05,  8.86it/s]\u001b[A\n",
      " 43%|████▎     | 33/76 [00:04<00:04,  9.52it/s]\u001b[A\n",
      " 46%|████▌     | 35/76 [00:04<00:04,  8.56it/s]\u001b[A\n",
      " 49%|████▊     | 37/76 [00:04<00:04,  9.39it/s]\u001b[A\n",
      " 51%|█████▏    | 39/76 [00:04<00:04,  8.79it/s]\u001b[A\n",
      " 54%|█████▍    | 41/76 [00:04<00:03,  9.61it/s]\u001b[A\n",
      " 57%|█████▋    | 43/76 [00:05<00:03,  8.56it/s]\u001b[A\n",
      " 59%|█████▉    | 45/76 [00:05<00:03,  9.44it/s]\u001b[A\n",
      " 62%|██████▏   | 47/76 [00:05<00:03,  8.37it/s]\u001b[A\n",
      " 64%|██████▍   | 49/76 [00:05<00:02,  9.26it/s]\u001b[A\n",
      " 67%|██████▋   | 51/76 [00:06<00:02,  8.39it/s]\u001b[A\n",
      " 70%|██████▉   | 53/76 [00:06<00:02,  9.28it/s]\u001b[A\n",
      " 72%|███████▏  | 55/76 [00:06<00:02,  8.67it/s]\u001b[A\n",
      " 75%|███████▌  | 57/76 [00:06<00:02,  9.49it/s]\u001b[A\n",
      " 78%|███████▊  | 59/76 [00:07<00:01,  8.67it/s]\u001b[A\n",
      " 80%|████████  | 61/76 [00:07<00:01,  9.52it/s]\u001b[A\n",
      " 83%|████████▎ | 63/76 [00:07<00:01,  8.45it/s]\u001b[A\n",
      " 86%|████████▌ | 65/76 [00:07<00:01,  9.36it/s]\u001b[A\n",
      " 88%|████████▊ | 67/76 [00:07<00:01,  8.31it/s]\u001b[A\n",
      " 91%|█████████ | 69/76 [00:08<00:00,  9.23it/s]\u001b[A\n",
      " 93%|█████████▎| 71/76 [00:08<00:00,  8.58it/s]\u001b[A\n",
      " 96%|█████████▌| 73/76 [00:08<00:00,  9.45it/s]\u001b[A\n",
      " 99%|█████████▊| 75/76 [00:08<00:00,  8.65it/s]\u001b[A\n",
      "77it [00:09,  8.53it/s]                        \u001b[A\n",
      "100%|██████████| 301/301 [02:04<00:00,  3.13s/it]"
     ]
    },
    {
     "name": "stdout",
     "output_type": "stream",
     "text": [
      "< VALIDATION >\n",
      "*************************************************************************\n",
      "Validation Loss : 0.5479331397778028\n",
      "-------------------------------------------------------------------------\n",
      "Total Accuracy\n",
      "80.83333333333333 %\n",
      "-------------------------------------------------------------------------\n",
      "Confusion Matrix\n",
      "553 14  0   5   3   0   3   0   0   0   0   0   0   0   0   0   0   0   \n",
      "6   185 127 0   6   1   0   0   0   0   0   0   0   0   0   0   0   0   \n",
      "0   27  167 0   0   0   0   0   0   0   0   0   0   0   0   0   0   0   \n",
      "10  0   1   707 23  0   0   0   0   12  0   0   0   0   0   4   0   0   \n",
      "2   10  6   48  376 182 0   0   0   0   1   0   0   0   0   0   1   0   \n",
      "0   0   0   0   41  227 0   0   0   0   0   0   0   0   0   0   0   0   \n",
      "0   0   0   0   0   0   109 2   0   1   0   0   0   0   0   0   0   0   \n",
      "0   0   1   0   0   0   1   36  28  0   4   0   0   0   0   0   0   0   \n",
      "0   0   0   0   0   0   0   6   32  0   1   0   0   0   0   0   0   0   \n",
      "0   0   0   1   0   0   2   0   0   140 4   0   0   0   0   2   0   0   \n",
      "0   0   0   0   0   1   1   1   0   9   80  32  0   0   0   0   0   0   \n",
      "0   0   0   0   1   0   0   0   0   0   10  41  0   0   0   0   0   0   \n",
      "0   0   0   0   0   0   0   0   0   0   0   0   111 4   0   1   0   0   \n",
      "0   0   0   0   0   0   0   0   0   0   0   0   2   40  26  0   1   0   \n",
      "0   0   0   0   0   0   0   0   0   0   0   0   0   8   30  0   0   0   \n",
      "0   0   0   0   0   0   0   0   0   0   0   0   3   0   0   143 1   0   \n",
      "0   0   0   0   0   0   0   0   0   0   0   0   1   4   0   9   94  16  \n",
      "0   0   0   0   0   0   0   0   0   0   0   0   0   0   0   0   19  33  \n",
      "-------------------------------------------------------------------------\n",
      "Validation F1 score : 0.7609072042336007\n",
      "Class 0 : 0.9625761531766753\n",
      "Class 1 : 0.6595365418894831\n",
      "Class 2 : 0.6733870967741936\n",
      "Class 3 : 0.9314888010540185\n",
      "Class 4 : 0.6988847583643123\n",
      "Class 5 : 0.6686303387334315\n",
      "Class 6 : 0.9561403508771931\n",
      "Class 7 : 0.6260869565217391\n",
      "Class 8 : 0.6464646464646464\n",
      "Class 9 : 0.9003215434083602\n",
      "Class 10 : 0.7142857142857142\n",
      "Class 11 : 0.6560000000000001\n",
      "Class 12 : 0.9527896995708154\n",
      "Class 13 : 0.64\n",
      "Class 14 : 0.6382978723404255\n",
      "Class 15 : 0.934640522875817\n",
      "Class 16 : 0.7833333333333333\n",
      "Class 17 : 0.6534653465346534\n",
      "model saved!\n",
      "*************************************************************************\n",
      "\n"
     ]
    },
    {
     "name": "stderr",
     "output_type": "stream",
     "text": [
      "302it [02:04,  2.43it/s]                         "
     ]
    },
    {
     "name": "stdout",
     "output_type": "stream",
     "text": [
      "Adjusting learning rate of group 0 to 9.6060e-05.\n",
      "Epoch : 5\n"
     ]
    },
    {
     "name": "stderr",
     "output_type": "stream",
     "text": [
      "\n",
      " 50%|████▉     | 150/301 [00:52<00:52,  2.90it/s]"
     ]
    },
    {
     "name": "stdout",
     "output_type": "stream",
     "text": [
      "Train Loss : 0.29000783904104044\n"
     ]
    },
    {
     "name": "stderr",
     "output_type": "stream",
     "text": [
      "\n",
      "  0%|          | 0/76 [00:00<?, ?it/s]\u001b[A\n",
      "  1%|▏         | 1/76 [00:00<00:44,  1.68it/s]\u001b[A\n",
      "  4%|▍         | 3/76 [00:00<00:32,  2.27it/s]\u001b[A\n",
      "  7%|▋         | 5/76 [00:01<00:24,  2.89it/s]\u001b[A\n",
      "  9%|▉         | 7/76 [00:01<00:18,  3.75it/s]\u001b[A\n",
      " 12%|█▏        | 9/76 [00:01<00:15,  4.35it/s]\u001b[A\n",
      " 14%|█▍        | 11/76 [00:01<00:12,  5.39it/s]\u001b[A\n",
      " 17%|█▋        | 13/76 [00:01<00:11,  5.70it/s]\u001b[A\n",
      " 20%|█▉        | 15/76 [00:02<00:08,  6.81it/s]\u001b[A\n",
      " 22%|██▏       | 17/76 [00:02<00:08,  6.93it/s]\u001b[A\n",
      " 25%|██▌       | 19/76 [00:02<00:07,  7.83it/s]\u001b[A\n",
      " 28%|██▊       | 21/76 [00:02<00:06,  7.98it/s]\u001b[A\n",
      " 29%|██▉       | 22/76 [00:02<00:07,  7.68it/s]\u001b[A\n",
      " 32%|███▏      | 24/76 [00:03<00:06,  8.66it/s]\u001b[A\n",
      " 33%|███▎      | 25/76 [00:03<00:06,  8.23it/s]\u001b[A\n",
      " 34%|███▍      | 26/76 [00:03<00:06,  8.03it/s]\u001b[A\n",
      " 37%|███▋      | 28/76 [00:03<00:05,  8.99it/s]\u001b[A\n",
      " 38%|███▊      | 29/76 [00:03<00:05,  9.12it/s]\u001b[A\n",
      " 39%|███▉      | 30/76 [00:03<00:06,  7.44it/s]\u001b[A\n",
      " 42%|████▏     | 32/76 [00:03<00:05,  8.47it/s]\u001b[A\n",
      " 43%|████▎     | 33/76 [00:04<00:05,  8.06it/s]\u001b[A\n",
      " 45%|████▍     | 34/76 [00:04<00:05,  7.86it/s]\u001b[A\n",
      " 47%|████▋     | 36/76 [00:04<00:04,  8.84it/s]\u001b[A\n",
      " 49%|████▊     | 37/76 [00:04<00:04,  9.05it/s]\u001b[A\n",
      " 50%|█████     | 38/76 [00:04<00:04,  7.68it/s]\u001b[A\n",
      " 53%|█████▎    | 40/76 [00:04<00:04,  8.66it/s]\u001b[A\n",
      " 55%|█████▌    | 42/76 [00:05<00:03,  8.59it/s]\u001b[A\n",
      " 58%|█████▊    | 44/76 [00:05<00:03,  9.48it/s]\u001b[A\n",
      " 61%|██████    | 46/76 [00:05<00:03,  8.86it/s]\u001b[A\n",
      " 63%|██████▎   | 48/76 [00:05<00:02,  9.64it/s]\u001b[A\n",
      " 66%|██████▌   | 50/76 [00:05<00:03,  8.18it/s]\u001b[A\n",
      " 68%|██████▊   | 52/76 [00:06<00:02,  9.12it/s]\u001b[A\n",
      " 71%|███████   | 54/76 [00:06<00:02,  8.61it/s]\u001b[A\n",
      " 74%|███████▎  | 56/76 [00:06<00:02,  9.48it/s]\u001b[A\n",
      " 76%|███████▋  | 58/76 [00:06<00:02,  8.94it/s]\u001b[A\n",
      " 79%|███████▉  | 60/76 [00:06<00:01,  9.77it/s]\u001b[A\n",
      " 82%|████████▏ | 62/76 [00:07<00:01,  8.07it/s]\u001b[A\n",
      " 84%|████████▍ | 64/76 [00:07<00:01,  9.02it/s]\u001b[A\n",
      " 87%|████████▋ | 66/76 [00:07<00:01,  8.48it/s]\u001b[A\n",
      " 89%|████████▉ | 68/76 [00:07<00:00,  9.36it/s]\u001b[A\n",
      " 92%|█████████▏| 70/76 [00:08<00:00,  8.70it/s]\u001b[A\n",
      " 95%|█████████▍| 72/76 [00:08<00:00,  9.56it/s]\u001b[A\n",
      " 97%|█████████▋| 74/76 [00:08<00:00,  8.59it/s]\u001b[A\n",
      "77it [00:08,  8.59it/s]                        \u001b[A\n",
      " 50%|█████     | 151/301 [01:02<07:46,  3.11s/it]"
     ]
    },
    {
     "name": "stdout",
     "output_type": "stream",
     "text": [
      "< VALIDATION >\n",
      "*************************************************************************\n",
      "Validation Loss : 0.6555794425211944\n",
      "-------------------------------------------------------------------------\n",
      "Total Accuracy\n",
      "82.734375 %\n",
      "-------------------------------------------------------------------------\n",
      "Confusion Matrix\n",
      "533 22  0   11  1   0   11  0   0   0   0   0   0   0   0   0   0   0   \n",
      "6   261 44  0   8   2   2   2   0   0   0   0   0   0   0   0   0   0   \n",
      "0   56  132 0   0   2   0   0   4   0   0   0   0   0   0   0   0   0   \n",
      "3   0   0   728 15  0   0   0   0   10  1   0   0   0   0   0   0   0   \n",
      "1   6   0   59  395 164 0   0   0   0   1   0   0   0   0   0   0   0   \n",
      "0   0   0   0   53  213 0   0   0   0   0   2   0   0   0   0   0   0   \n",
      "0   0   0   0   0   0   108 2   0   1   1   0   0   0   0   0   0   0   \n",
      "0   1   0   0   0   0   1   57  4   0   7   0   0   0   0   0   0   0   \n",
      "0   0   0   0   0   0   0   20  19  0   0   0   0   0   0   0   0   0   \n",
      "0   0   0   1   0   0   0   0   0   142 6   0   0   0   0   0   0   0   \n",
      "0   0   0   0   1   0   1   0   0   8   104 10  0   0   0   0   0   0   \n",
      "0   0   0   0   1   0   0   0   0   0   18  33  0   0   0   0   0   0   \n",
      "0   0   0   0   0   0   0   0   0   0   0   0   100 13  0   2   1   0   \n",
      "0   0   0   0   0   0   0   0   0   0   0   0   1   60  6   0   2   0   \n",
      "0   0   0   0   0   0   0   0   0   0   0   0   0   17  21  0   0   0   \n",
      "0   0   0   0   0   0   0   0   0   0   0   0   0   1   0   144 2   0   \n",
      "0   0   0   0   0   0   0   0   0   0   0   0   0   1   0   7   94  22  \n",
      "0   0   0   0   0   0   0   0   0   0   0   0   0   0   0   0   19  33  \n",
      "-------------------------------------------------------------------------\n",
      "Validation F1 score : 0.7811025987832193\n",
      "Class 0 : 0.9509366636931312\n",
      "Class 1 : 0.7779433681073026\n",
      "Class 2 : 0.7135135135135134\n",
      "Class 3 : 0.9357326478149101\n",
      "Class 4 : 0.7181818181818183\n",
      "Class 5 : 0.6563944530046225\n",
      "Class 6 : 0.9191489361702128\n",
      "Class 7 : 0.7549668874172185\n",
      "Class 8 : 0.5757575757575758\n",
      "Class 9 : 0.9161290322580646\n",
      "Class 10 : 0.7938931297709925\n",
      "Class 11 : 0.6804123711340205\n",
      "Class 12 : 0.9216589861751152\n",
      "Class 13 : 0.7453416149068323\n",
      "Class 14 : 0.6461538461538462\n",
      "Class 15 : 0.96\n",
      "Class 16 : 0.7768595041322315\n",
      "Class 17 : 0.616822429906542\n",
      "model saved!\n",
      "*************************************************************************\n",
      "\n"
     ]
    },
    {
     "name": "stderr",
     "output_type": "stream",
     "text": [
      "100%|█████████▉| 300/301 [01:54<00:00,  2.89it/s]"
     ]
    },
    {
     "name": "stdout",
     "output_type": "stream",
     "text": [
      "Train Loss : 0.29041452884080005\n"
     ]
    },
    {
     "name": "stderr",
     "output_type": "stream",
     "text": [
      "\n",
      "  0%|          | 0/76 [00:00<?, ?it/s]\u001b[A\n",
      "  1%|▏         | 1/76 [00:00<00:44,  1.70it/s]\u001b[A\n",
      "  4%|▍         | 3/76 [00:00<00:31,  2.29it/s]\u001b[A\n",
      "  7%|▋         | 5/76 [00:01<00:25,  2.81it/s]\u001b[A\n",
      "  9%|▉         | 7/76 [00:01<00:18,  3.66it/s]\u001b[A\n",
      " 12%|█▏        | 9/76 [00:01<00:16,  4.16it/s]\u001b[A\n",
      " 14%|█▍        | 11/76 [00:01<00:12,  5.18it/s]\u001b[A\n",
      " 17%|█▋        | 13/76 [00:02<00:11,  5.66it/s]\u001b[A\n",
      " 20%|█▉        | 15/76 [00:02<00:09,  6.75it/s]\u001b[A\n",
      " 22%|██▏       | 17/76 [00:02<00:08,  6.74it/s]\u001b[A\n",
      " 25%|██▌       | 19/76 [00:02<00:07,  7.81it/s]\u001b[A\n",
      " 28%|██▊       | 21/76 [00:02<00:07,  7.72it/s]\u001b[A\n",
      " 30%|███       | 23/76 [00:03<00:06,  8.73it/s]\u001b[A\n",
      " 33%|███▎      | 25/76 [00:03<00:05,  8.93it/s]\u001b[A\n",
      " 36%|███▌      | 27/76 [00:03<00:05,  9.71it/s]\u001b[A\n",
      " 38%|███▊      | 29/76 [00:03<00:05,  8.86it/s]\u001b[A\n",
      " 41%|████      | 31/76 [00:03<00:04,  9.73it/s]\u001b[A\n",
      " 43%|████▎     | 33/76 [00:04<00:05,  8.54it/s]\u001b[A\n",
      " 46%|████▌     | 35/76 [00:04<00:04,  9.42it/s]\u001b[A\n",
      " 49%|████▊     | 37/76 [00:04<00:04,  8.78it/s]\u001b[A\n",
      " 51%|█████▏    | 39/76 [00:04<00:03,  9.65it/s]\u001b[A\n",
      " 54%|█████▍    | 41/76 [00:05<00:03,  8.83it/s]\u001b[A\n",
      " 57%|█████▋    | 43/76 [00:05<00:03,  9.70it/s]\u001b[A\n",
      " 59%|█████▉    | 45/76 [00:05<00:03,  9.00it/s]\u001b[A\n",
      " 62%|██████▏   | 47/76 [00:05<00:02,  9.84it/s]\u001b[A\n",
      " 64%|██████▍   | 49/76 [00:05<00:03,  8.74it/s]\u001b[A\n",
      " 67%|██████▋   | 51/76 [00:06<00:02,  9.62it/s]\u001b[A\n",
      " 70%|██████▉   | 53/76 [00:06<00:02,  9.09it/s]\u001b[A\n",
      " 72%|███████▏  | 55/76 [00:06<00:02,  9.90it/s]\u001b[A\n",
      " 75%|███████▌  | 57/76 [00:06<00:02,  8.63it/s]\u001b[A\n",
      " 78%|███████▊  | 59/76 [00:06<00:01,  9.52it/s]\u001b[A\n",
      " 80%|████████  | 61/76 [00:07<00:01,  8.62it/s]\u001b[A\n",
      " 83%|████████▎ | 63/76 [00:07<00:01,  9.50it/s]\u001b[A\n",
      " 86%|████████▌ | 65/76 [00:07<00:01,  8.30it/s]\u001b[A\n",
      " 88%|████████▊ | 67/76 [00:07<00:00,  9.24it/s]\u001b[A\n",
      " 91%|█████████ | 69/76 [00:08<00:00,  8.40it/s]\u001b[A\n",
      " 93%|█████████▎| 71/76 [00:08<00:00,  9.32it/s]\u001b[A\n",
      " 96%|█████████▌| 73/76 [00:08<00:00,  8.12it/s]\u001b[A\n",
      " 99%|█████████▊| 75/76 [00:08<00:00,  9.07it/s]\u001b[A\n",
      "77it [00:08,  8.56it/s]                        \u001b[A\n",
      "100%|██████████| 301/301 [02:03<00:00,  3.11s/it]"
     ]
    },
    {
     "name": "stdout",
     "output_type": "stream",
     "text": [
      "< VALIDATION >\n",
      "*************************************************************************\n",
      "Validation Loss : 0.5492592722951591\n",
      "-------------------------------------------------------------------------\n",
      "Total Accuracy\n",
      "81.953125 %\n",
      "-------------------------------------------------------------------------\n",
      "Confusion Matrix\n",
      "549 19  0   9   0   0   1   0   0   0   0   0   0   0   0   0   0   0   \n",
      "6   218 89  0   10  2   0   0   0   0   0   0   0   0   0   0   0   0   \n",
      "0   34  160 0   0   0   0   0   0   0   0   0   0   0   0   0   0   0   \n",
      "4   0   0   728 15  0   0   0   0   9   0   0   0   0   0   1   0   0   \n",
      "0   3   1   50  356 215 0   0   0   0   1   0   0   0   0   0   0   0   \n",
      "0   0   0   0   19  248 0   0   0   0   0   1   0   0   0   0   0   0   \n",
      "0   0   0   0   0   0   105 3   0   3   1   0   0   0   0   0   0   0   \n",
      "0   0   1   0   0   0   1   40  20  0   6   2   0   0   0   0   0   0   \n",
      "0   0   0   0   0   0   0   7   31  0   1   0   0   0   0   0   0   0   \n",
      "0   0   0   1   0   0   0   0   0   148 0   0   0   0   0   0   0   0   \n",
      "0   0   0   0   0   1   1   0   0   9   65  48  0   0   0   0   0   0   \n",
      "0   0   0   0   1   0   0   0   0   0   8   43  0   0   0   0   0   0   \n",
      "0   0   0   0   0   0   0   0   0   0   0   0   114 1   0   1   0   0   \n",
      "0   0   0   0   0   0   0   0   0   0   0   0   3   46  18  0   2   0   \n",
      "0   0   0   0   0   0   0   0   0   0   0   0   0   10  28  0   0   0   \n",
      "0   0   0   0   0   0   0   0   0   0   0   0   1   0   0   145 1   0   \n",
      "0   0   0   0   0   0   0   0   0   0   0   0   1   1   0   10  89  23  \n",
      "0   0   0   0   0   0   0   0   0   0   0   0   0   0   0   0   18  34  \n",
      "-------------------------------------------------------------------------\n",
      "Validation F1 score : 0.771383698523943\n",
      "Class 0 : 0.9656992084432718\n",
      "Class 1 : 0.7278797996661102\n",
      "Class 2 : 0.7191011235955056\n",
      "Class 3 : 0.9423948220064725\n",
      "Class 4 : 0.6932814021421617\n",
      "Class 5 : 0.6757493188010898\n",
      "Class 6 : 0.9545454545454546\n",
      "Class 7 : 0.6666666666666666\n",
      "Class 8 : 0.6888888888888889\n",
      "Class 9 : 0.9308176100628932\n",
      "Class 10 : 0.6310679611650486\n",
      "Class 11 : 0.589041095890411\n",
      "Class 12 : 0.9702127659574468\n",
      "Class 13 : 0.7244094488188977\n",
      "Class 14 : 0.6666666666666666\n",
      "Class 15 : 0.9539473684210527\n",
      "Class 16 : 0.7606837606837606\n",
      "Class 17 : 0.6238532110091742\n",
      "model saved!\n",
      "*************************************************************************\n",
      "\n"
     ]
    },
    {
     "name": "stderr",
     "output_type": "stream",
     "text": [
      "302it [02:04,  2.43it/s]                         "
     ]
    },
    {
     "name": "stdout",
     "output_type": "stream",
     "text": [
      "Adjusting learning rate of group 0 to 9.5099e-05.\n",
      "Epoch : 6\n"
     ]
    },
    {
     "name": "stderr",
     "output_type": "stream",
     "text": [
      "\n",
      " 50%|████▉     | 150/301 [00:52<00:52,  2.90it/s]"
     ]
    },
    {
     "name": "stdout",
     "output_type": "stream",
     "text": [
      "Train Loss : 0.2733385987234431\n"
     ]
    },
    {
     "name": "stderr",
     "output_type": "stream",
     "text": [
      "\n",
      "  0%|          | 0/76 [00:00<?, ?it/s]\u001b[A\n",
      "  1%|▏         | 1/76 [00:00<00:46,  1.62it/s]\u001b[A\n",
      "  4%|▍         | 3/76 [00:00<00:33,  2.19it/s]\u001b[A\n",
      "  7%|▋         | 5/76 [00:01<00:25,  2.81it/s]\u001b[A\n",
      "  9%|▉         | 7/76 [00:01<00:18,  3.66it/s]\u001b[A\n",
      " 12%|█▏        | 9/76 [00:01<00:15,  4.20it/s]\u001b[A\n",
      " 14%|█▍        | 11/76 [00:01<00:12,  5.24it/s]\u001b[A\n",
      " 17%|█▋        | 13/76 [00:01<00:10,  5.76it/s]\u001b[A\n",
      " 20%|█▉        | 15/76 [00:02<00:08,  6.86it/s]\u001b[A\n",
      " 22%|██▏       | 17/76 [00:02<00:08,  6.96it/s]\u001b[A\n",
      " 25%|██▌       | 19/76 [00:02<00:07,  7.99it/s]\u001b[A\n",
      " 28%|██▊       | 21/76 [00:02<00:07,  7.66it/s]\u001b[A\n",
      " 30%|███       | 23/76 [00:02<00:06,  8.66it/s]\u001b[A\n",
      " 33%|███▎      | 25/76 [00:03<00:06,  8.28it/s]\u001b[A\n",
      " 36%|███▌      | 27/76 [00:03<00:05,  9.23it/s]\u001b[A\n",
      " 38%|███▊      | 29/76 [00:03<00:05,  8.12it/s]\u001b[A\n",
      " 41%|████      | 31/76 [00:03<00:04,  9.08it/s]\u001b[A\n",
      " 43%|████▎     | 33/76 [00:04<00:05,  8.15it/s]\u001b[A\n",
      " 46%|████▌     | 35/76 [00:04<00:04,  9.11it/s]\u001b[A\n",
      " 49%|████▊     | 37/76 [00:04<00:04,  8.36it/s]\u001b[A\n",
      " 51%|█████▏    | 39/76 [00:04<00:03,  9.30it/s]\u001b[A\n",
      " 54%|█████▍    | 41/76 [00:05<00:03,  9.04it/s]\u001b[A\n",
      " 57%|█████▋    | 43/76 [00:05<00:03,  9.85it/s]\u001b[A\n",
      " 59%|█████▉    | 45/76 [00:05<00:03,  8.93it/s]\u001b[A\n",
      " 62%|██████▏   | 47/76 [00:05<00:03,  9.59it/s]\u001b[A\n",
      " 64%|██████▍   | 49/76 [00:05<00:02,  9.30it/s]\u001b[A\n",
      " 66%|██████▌   | 50/76 [00:06<00:03,  8.11it/s]\u001b[A\n",
      " 68%|██████▊   | 52/76 [00:06<00:02,  9.07it/s]\u001b[A\n",
      " 71%|███████   | 54/76 [00:06<00:02,  7.91it/s]\u001b[A\n",
      " 74%|███████▎  | 56/76 [00:06<00:02,  8.89it/s]\u001b[A\n",
      " 76%|███████▋  | 58/76 [00:06<00:02,  8.30it/s]\u001b[A\n",
      " 79%|███████▉  | 60/76 [00:07<00:01,  9.23it/s]\u001b[A\n",
      " 82%|████████▏ | 62/76 [00:07<00:01,  8.41it/s]\u001b[A\n",
      " 84%|████████▍ | 64/76 [00:07<00:01,  9.26it/s]\u001b[A\n",
      " 87%|████████▋ | 66/76 [00:07<00:01,  8.44it/s]\u001b[A\n",
      " 89%|████████▉ | 68/76 [00:07<00:00,  9.37it/s]\u001b[A\n",
      " 92%|█████████▏| 70/76 [00:08<00:00,  8.57it/s]\u001b[A\n",
      " 93%|█████████▎| 71/76 [00:08<00:00,  6.58it/s]\u001b[A\n",
      " 96%|█████████▌| 73/76 [00:08<00:00,  7.68it/s]\u001b[A\n",
      " 99%|█████████▊| 75/76 [00:09<00:00,  5.95it/s]\u001b[A\n",
      "77it [00:09,  8.19it/s]                        \u001b[A\n"
     ]
    },
    {
     "name": "stdout",
     "output_type": "stream",
     "text": [
      "< VALIDATION >\n",
      "*************************************************************************\n",
      "Validation Loss : 0.642913068463276\n",
      "-------------------------------------------------------------------------\n",
      "Total Accuracy\n",
      "84.71354166666667 %\n",
      "-------------------------------------------------------------------------\n",
      "Confusion Matrix\n",
      "552 15  0   8   1   0   1   0   0   0   0   0   1   0   0   0   0   0   \n",
      "7   274 33  0   11  0   0   0   0   0   0   0   0   0   0   0   0   0   \n",
      "0   63  131 0   0   0   0   0   0   0   0   0   0   0   0   0   0   0   \n",
      "7   1   0   725 15  0   0   0   0   9   0   0   0   0   0   0   0   0   \n",
      "2   9   1   48  469 95  0   0   0   0   2   0   0   0   0   0   0   0   \n",
      "0   0   0   0   78  190 0   0   0   0   0   0   0   0   0   0   0   0   \n",
      "0   0   0   0   0   0   109 2   0   1   0   0   0   0   0   0   0   0   \n",
      "0   1   0   0   0   0   2   56  5   0   6   0   0   0   0   0   0   0   \n",
      "0   0   0   0   0   0   0   12  26  0   1   0   0   0   0   0   0   0   \n",
      "0   0   0   0   0   0   2   0   0   143 4   0   0   0   0   0   0   0   \n",
      "0   0   0   0   1   0   1   0   0   10  98  14  0   0   0   0   0   0   \n",
      "0   0   0   0   1   2   0   0   0   0   18  31  0   0   0   0   0   0   \n",
      "0   0   0   0   0   0   0   0   0   0   0   0   111 4   0   1   0   0   \n",
      "0   0   0   0   0   0   0   0   0   0   0   0   3   62  2   0   2   0   \n",
      "0   0   0   0   0   0   0   0   0   0   0   0   0   21  17  0   0   0   \n",
      "0   0   0   0   0   0   0   0   0   0   0   0   5   0   0   138 4   0   \n",
      "0   0   0   0   0   0   0   0   0   0   0   0   1   1   0   8   80  34  \n",
      "0   0   0   0   0   0   0   0   0   0   0   0   0   0   0   0   11  41  \n",
      "-------------------------------------------------------------------------\n",
      "Validation F1 score : 0.7979273199322318\n",
      "Class 0 : 0.9633507853403142\n",
      "Class 1 : 0.7965116279069766\n",
      "Class 2 : 0.7298050139275766\n",
      "Class 3 : 0.942782834850455\n",
      "Class 4 : 0.7803660565723795\n",
      "Class 5 : 0.6846846846846847\n",
      "Class 6 : 0.960352422907489\n",
      "Class 7 : 0.8000000000000002\n",
      "Class 8 : 0.7428571428571428\n",
      "Class 9 : 0.9166666666666666\n",
      "Class 10 : 0.7747035573122529\n",
      "Class 11 : 0.6391752577319588\n",
      "Class 12 : 0.9367088607594937\n",
      "Class 13 : 0.7898089171974523\n",
      "Class 14 : 0.5964912280701755\n",
      "Class 15 : 0.9387755102040817\n",
      "Class 16 : 0.7239819004524886\n",
      "Class 17 : 0.6456692913385826\n"
     ]
    },
    {
     "name": "stderr",
     "output_type": "stream",
     "text": [
      " 50%|█████     | 151/301 [01:02<08:14,  3.30s/it]"
     ]
    },
    {
     "name": "stdout",
     "output_type": "stream",
     "text": [
      "model saved!\n",
      "*************************************************************************\n",
      "\n"
     ]
    },
    {
     "name": "stderr",
     "output_type": "stream",
     "text": [
      "100%|█████████▉| 300/301 [01:54<00:00,  2.91it/s]"
     ]
    },
    {
     "name": "stdout",
     "output_type": "stream",
     "text": [
      "Train Loss : 0.2715008873678125\n"
     ]
    },
    {
     "name": "stderr",
     "output_type": "stream",
     "text": [
      "\n",
      "  0%|          | 0/76 [00:00<?, ?it/s]\u001b[A\n",
      "  1%|▏         | 1/76 [00:00<00:43,  1.72it/s]\u001b[A\n",
      "  4%|▍         | 3/76 [00:00<00:31,  2.31it/s]\u001b[A\n",
      "  7%|▋         | 5/76 [00:01<00:24,  2.92it/s]\u001b[A\n",
      "  9%|▉         | 7/76 [00:01<00:18,  3.78it/s]\u001b[A\n",
      " 12%|█▏        | 9/76 [00:01<00:15,  4.31it/s]\u001b[A\n",
      " 14%|█▍        | 11/76 [00:01<00:12,  5.36it/s]\u001b[A\n",
      " 17%|█▋        | 13/76 [00:01<00:10,  5.76it/s]\u001b[A\n",
      " 20%|█▉        | 15/76 [00:02<00:08,  6.86it/s]\u001b[A\n",
      " 22%|██▏       | 17/76 [00:02<00:08,  6.96it/s]\u001b[A\n",
      " 25%|██▌       | 19/76 [00:02<00:07,  8.01it/s]\u001b[A\n",
      " 28%|██▊       | 21/76 [00:02<00:07,  7.47it/s]\u001b[A\n",
      " 30%|███       | 23/76 [00:03<00:06,  8.50it/s]\u001b[A\n",
      " 33%|███▎      | 25/76 [00:03<00:06,  8.02it/s]\u001b[A\n",
      " 36%|███▌      | 27/76 [00:03<00:05,  8.88it/s]\u001b[A\n",
      " 38%|███▊      | 29/76 [00:03<00:05,  8.30it/s]\u001b[A\n",
      " 41%|████      | 31/76 [00:03<00:04,  9.23it/s]\u001b[A\n",
      " 43%|████▎     | 33/76 [00:04<00:04,  8.74it/s]\u001b[A\n",
      " 46%|████▌     | 35/76 [00:04<00:04,  9.58it/s]\u001b[A\n",
      " 49%|████▊     | 37/76 [00:04<00:04,  8.98it/s]\u001b[A\n",
      " 51%|█████▏    | 39/76 [00:04<00:03,  9.82it/s]\u001b[A\n",
      " 54%|█████▍    | 41/76 [00:05<00:04,  8.71it/s]\u001b[A\n",
      " 57%|█████▋    | 43/76 [00:05<00:03,  9.58it/s]\u001b[A\n",
      " 59%|█████▉    | 45/76 [00:05<00:03,  8.78it/s]\u001b[A\n",
      " 62%|██████▏   | 47/76 [00:05<00:03,  9.65it/s]\u001b[A\n",
      " 64%|██████▍   | 49/76 [00:05<00:02,  9.10it/s]\u001b[A\n",
      " 67%|██████▋   | 51/76 [00:06<00:02,  9.59it/s]\u001b[A\n",
      " 70%|██████▉   | 53/76 [00:06<00:02,  8.71it/s]\u001b[A\n",
      " 72%|███████▏  | 55/76 [00:06<00:02,  9.34it/s]\u001b[A\n",
      " 75%|███████▌  | 57/76 [00:06<00:02,  9.09it/s]\u001b[A\n",
      " 78%|███████▊  | 59/76 [00:06<00:01,  9.01it/s]\u001b[A\n",
      " 80%|████████  | 61/76 [00:07<00:01,  9.26it/s]\u001b[A\n",
      " 83%|████████▎ | 63/76 [00:07<00:01,  9.35it/s]\u001b[A\n",
      " 86%|████████▌ | 65/76 [00:07<00:01,  9.01it/s]\u001b[A\n",
      " 88%|████████▊ | 67/76 [00:07<00:00,  9.36it/s]\u001b[A\n",
      " 91%|█████████ | 69/76 [00:08<00:00,  9.29it/s]\u001b[A\n",
      " 93%|█████████▎| 71/76 [00:08<00:00,  9.20it/s]\u001b[A\n",
      " 96%|█████████▌| 73/76 [00:08<00:00,  9.11it/s]\u001b[A\n",
      " 99%|█████████▊| 75/76 [00:08<00:00,  9.13it/s]\u001b[A\n",
      "77it [00:08,  8.65it/s]                        \u001b[A\n",
      "100%|██████████| 301/301 [02:04<00:00,  3.09s/it]"
     ]
    },
    {
     "name": "stdout",
     "output_type": "stream",
     "text": [
      "< VALIDATION >\n",
      "*************************************************************************\n",
      "Validation Loss : 0.5632023619753974\n",
      "-------------------------------------------------------------------------\n",
      "Total Accuracy\n",
      "83.46354166666666 %\n",
      "-------------------------------------------------------------------------\n",
      "Confusion Matrix\n",
      "555 12  2   7   2   0   0   0   0   0   0   0   0   0   0   0   0   0   \n",
      "6   171 134 0   13  1   0   0   0   0   0   0   0   0   0   0   0   0   \n",
      "0   18  176 0   0   0   0   0   0   0   0   0   0   0   0   0   0   0   \n",
      "2   0   0   725 19  0   0   0   0   10  0   0   0   0   0   1   0   0   \n",
      "0   2   6   50  456 111 0   0   0   0   1   0   0   0   0   0   0   0   \n",
      "0   0   4   0   69  193 0   0   0   0   0   1   0   0   0   0   0   1   \n",
      "0   0   0   0   0   0   105 6   0   1   0   0   0   0   0   0   0   0   \n",
      "0   0   1   0   0   0   1   51  11  0   6   0   0   0   0   0   0   0   \n",
      "0   0   0   0   0   0   0   9   29  0   1   0   0   0   0   0   0   0   \n",
      "0   0   0   1   0   0   0   0   0   145 3   0   0   0   0   0   0   0   \n",
      "0   0   0   1   0   0   1   0   0   6   101 15  0   0   0   0   0   0   \n",
      "0   0   0   0   1   0   0   0   0   0   19  32  0   0   0   0   0   0   \n",
      "0   0   0   0   0   0   0   0   0   0   0   0   114 1   0   1   0   0   \n",
      "0   0   0   0   0   0   0   0   0   0   0   0   6   47  15  0   1   0   \n",
      "0   0   0   0   0   0   0   0   0   0   0   0   0   12  26  0   0   0   \n",
      "0   0   0   0   0   0   0   0   0   0   0   0   0   0   0   146 1   0   \n",
      "0   0   0   0   0   0   0   0   0   0   0   0   1   1   0   11  100 11  \n",
      "0   0   0   0   0   0   0   0   0   0   0   0   0   0   0   0   19  33  \n",
      "-------------------------------------------------------------------------\n",
      "Validation F1 score : 0.7937226029026455\n",
      "Class 0 : 0.9728308501314635\n",
      "Class 1 : 0.6477272727272728\n",
      "Class 2 : 0.6808510638297872\n",
      "Class 3 : 0.9409474367293964\n",
      "Class 4 : 0.7689713322091063\n",
      "Class 5 : 0.6736474694589878\n",
      "Class 6 : 0.958904109589041\n",
      "Class 7 : 0.75\n",
      "Class 8 : 0.7341772151898733\n",
      "Class 9 : 0.932475884244373\n",
      "Class 10 : 0.792156862745098\n",
      "Class 11 : 0.64\n",
      "Class 12 : 0.9620253164556961\n",
      "Class 13 : 0.7230769230769231\n",
      "Class 14 : 0.6582278481012659\n",
      "Class 15 : 0.954248366013072\n",
      "Class 16 : 0.8163265306122448\n",
      "Class 17 : 0.6804123711340205\n",
      "model saved!\n",
      "*************************************************************************\n",
      "\n"
     ]
    },
    {
     "name": "stderr",
     "output_type": "stream",
     "text": [
      "302it [02:04,  2.43it/s]                         "
     ]
    },
    {
     "name": "stdout",
     "output_type": "stream",
     "text": [
      "Adjusting learning rate of group 0 to 9.4148e-05.\n",
      "Epoch : 7\n"
     ]
    },
    {
     "name": "stderr",
     "output_type": "stream",
     "text": [
      "\n",
      " 50%|████▉     | 150/301 [00:52<00:52,  2.88it/s]"
     ]
    },
    {
     "name": "stdout",
     "output_type": "stream",
     "text": [
      "Train Loss : 0.26065900941558234\n"
     ]
    },
    {
     "name": "stderr",
     "output_type": "stream",
     "text": [
      "\n",
      "  0%|          | 0/76 [00:00<?, ?it/s]\u001b[A\n",
      "  1%|▏         | 1/76 [00:00<00:45,  1.65it/s]\u001b[A\n",
      "  4%|▍         | 3/76 [00:00<00:32,  2.22it/s]\u001b[A\n",
      "  7%|▋         | 5/76 [00:01<00:25,  2.82it/s]\u001b[A\n",
      "  9%|▉         | 7/76 [00:01<00:18,  3.67it/s]\u001b[A\n",
      " 12%|█▏        | 9/76 [00:01<00:15,  4.42it/s]\u001b[A\n",
      " 14%|█▍        | 11/76 [00:01<00:11,  5.48it/s]\u001b[A\n",
      " 17%|█▋        | 13/76 [00:01<00:10,  5.90it/s]\u001b[A\n",
      " 20%|█▉        | 15/76 [00:02<00:08,  7.02it/s]\u001b[A\n",
      " 22%|██▏       | 17/76 [00:02<00:07,  7.39it/s]\u001b[A\n",
      " 25%|██▌       | 19/76 [00:02<00:06,  8.42it/s]\u001b[A\n",
      " 28%|██▊       | 21/76 [00:02<00:06,  8.16it/s]\u001b[A\n",
      " 30%|███       | 23/76 [00:02<00:05,  9.12it/s]\u001b[A\n",
      " 33%|███▎      | 25/76 [00:03<00:05,  8.70it/s]\u001b[A\n",
      " 36%|███▌      | 27/76 [00:03<00:05,  9.58it/s]\u001b[A\n",
      " 38%|███▊      | 29/76 [00:03<00:05,  9.28it/s]\u001b[A\n",
      " 39%|███▉      | 30/76 [00:03<00:05,  8.53it/s]\u001b[A\n",
      " 42%|████▏     | 32/76 [00:03<00:04,  9.43it/s]\u001b[A\n",
      " 45%|████▍     | 34/76 [00:04<00:05,  8.40it/s]\u001b[A\n",
      " 47%|████▋     | 36/76 [00:04<00:04,  9.33it/s]\u001b[A\n",
      " 50%|█████     | 38/76 [00:04<00:04,  8.34it/s]\u001b[A\n",
      " 53%|█████▎    | 40/76 [00:04<00:03,  9.21it/s]\u001b[A\n",
      " 55%|█████▌    | 42/76 [00:05<00:04,  8.23it/s]\u001b[A\n",
      " 58%|█████▊    | 44/76 [00:05<00:03,  9.17it/s]\u001b[A\n",
      " 61%|██████    | 46/76 [00:05<00:03,  8.68it/s]\u001b[A\n",
      " 63%|██████▎   | 48/76 [00:05<00:02,  9.55it/s]\u001b[A\n",
      " 66%|██████▌   | 50/76 [00:05<00:03,  8.47it/s]\u001b[A\n",
      " 68%|██████▊   | 52/76 [00:06<00:02,  9.37it/s]\u001b[A\n",
      " 71%|███████   | 54/76 [00:06<00:02,  8.77it/s]\u001b[A\n",
      " 74%|███████▎  | 56/76 [00:06<00:02,  9.65it/s]\u001b[A\n",
      " 76%|███████▋  | 58/76 [00:06<00:02,  8.71it/s]\u001b[A\n",
      " 79%|███████▉  | 60/76 [00:06<00:01,  9.58it/s]\u001b[A\n",
      " 82%|████████▏ | 62/76 [00:07<00:01,  8.14it/s]\u001b[A\n",
      " 84%|████████▍ | 64/76 [00:07<00:01,  9.10it/s]\u001b[A\n",
      " 87%|████████▋ | 66/76 [00:07<00:01,  8.90it/s]\u001b[A\n",
      " 89%|████████▉ | 68/76 [00:07<00:00,  9.74it/s]\u001b[A\n",
      " 92%|█████████▏| 70/76 [00:08<00:00,  8.84it/s]\u001b[A\n",
      " 95%|█████████▍| 72/76 [00:08<00:00,  9.56it/s]\u001b[A\n",
      " 97%|█████████▋| 74/76 [00:08<00:00,  9.40it/s]\u001b[A\n",
      "77it [00:08,  8.79it/s]                        \u001b[A\n"
     ]
    },
    {
     "name": "stdout",
     "output_type": "stream",
     "text": [
      "< VALIDATION >\n",
      "*************************************************************************\n",
      "Validation Loss : 0.666746361689134\n",
      "-------------------------------------------------------------------------\n",
      "Total Accuracy\n",
      "85.859375 %\n",
      "-------------------------------------------------------------------------\n",
      "Confusion Matrix\n",
      "550 17  0   7   3   0   1   0   0   0   0   0   0   0   0   0   0   0   \n",
      "6   278 32  0   7   2   0   0   0   0   0   0   0   0   0   0   0   0   \n",
      "0   69  125 0   0   0   0   0   0   0   0   0   0   0   0   0   0   0   \n",
      "1   0   0   729 15  0   0   0   0   12  0   0   0   0   0   0   0   0   \n",
      "1   2   0   47  482 93  0   0   0   0   0   0   0   0   0   0   1   0   \n",
      "0   0   0   0   70  198 0   0   0   0   0   0   0   0   0   0   0   0   \n",
      "0   0   0   0   0   0   108 2   0   1   1   0   0   0   0   0   0   0   \n",
      "0   1   0   0   0   0   2   59  6   0   2   0   0   0   0   0   0   0   \n",
      "0   0   0   0   0   0   0   18  21  0   0   0   0   0   0   0   0   0   \n",
      "0   0   0   1   0   0   1   1   0   141 5   0   0   0   0   0   0   0   \n",
      "0   0   0   1   0   0   1   1   1   3   105 12  0   0   0   0   0   0   \n",
      "0   0   0   0   1   0   0   0   0   0   19  32  0   0   0   0   0   0   \n",
      "0   0   0   0   0   0   0   0   0   0   0   0   112 3   0   1   0   0   \n",
      "0   0   0   0   0   0   0   0   0   0   0   0   1   53  13  0   2   0   \n",
      "0   0   0   0   0   0   0   0   0   0   0   0   0   9   29  0   0   0   \n",
      "0   0   0   0   0   0   0   0   0   0   0   0   1   1   0   142 3   0   \n",
      "0   0   0   0   0   0   0   0   0   0   0   0   1   1   0   6   92  24  \n",
      "0   0   0   0   0   0   0   0   0   0   0   0   0   0   0   0   11  41  \n",
      "-------------------------------------------------------------------------\n",
      "Validation F1 score : 0.8131718756127568\n",
      "Class 0 : 0.9683098591549296\n",
      "Class 1 : 0.8034682080924855\n",
      "Class 2 : 0.7122507122507125\n",
      "Class 3 : 0.9455252918287939\n",
      "Class 4 : 0.8006644518272426\n",
      "Class 5 : 0.7058823529411764\n",
      "Class 6 : 0.96\n",
      "Class 7 : 0.7814569536423841\n",
      "Class 8 : 0.6268656716417911\n",
      "Class 9 : 0.9215686274509803\n",
      "Class 10 : 0.8203125000000001\n",
      "Class 11 : 0.6666666666666667\n",
      "Class 12 : 0.9696969696969697\n",
      "Class 13 : 0.7794117647058824\n",
      "Class 14 : 0.725\n",
      "Class 15 : 0.9594594594594594\n",
      "Class 16 : 0.7896995708154506\n",
      "Class 17 : 0.7008547008547009\n"
     ]
    },
    {
     "name": "stderr",
     "output_type": "stream",
     "text": [
      " 50%|█████     | 151/301 [01:02<07:49,  3.13s/it]"
     ]
    },
    {
     "name": "stdout",
     "output_type": "stream",
     "text": [
      "model saved!\n",
      "*************************************************************************\n",
      "\n"
     ]
    },
    {
     "name": "stderr",
     "output_type": "stream",
     "text": [
      "100%|█████████▉| 300/301 [01:53<00:00,  2.90it/s]"
     ]
    },
    {
     "name": "stdout",
     "output_type": "stream",
     "text": [
      "Train Loss : 0.26149860316534773\n"
     ]
    },
    {
     "name": "stderr",
     "output_type": "stream",
     "text": [
      "\n",
      "  0%|          | 0/76 [00:00<?, ?it/s]\u001b[A\n",
      "  1%|▏         | 1/76 [00:00<00:45,  1.66it/s]\u001b[A\n",
      "  4%|▍         | 3/76 [00:00<00:32,  2.24it/s]\u001b[A\n",
      "  7%|▋         | 5/76 [00:01<00:25,  2.79it/s]\u001b[A\n",
      "  9%|▉         | 7/76 [00:01<00:18,  3.64it/s]\u001b[A\n",
      " 12%|█▏        | 9/76 [00:01<00:15,  4.27it/s]\u001b[A\n",
      " 14%|█▍        | 11/76 [00:01<00:12,  5.32it/s]\u001b[A\n",
      " 17%|█▋        | 13/76 [00:01<00:10,  5.93it/s]\u001b[A\n",
      " 20%|█▉        | 15/76 [00:02<00:08,  7.01it/s]\u001b[A\n",
      " 22%|██▏       | 17/76 [00:02<00:08,  7.18it/s]\u001b[A\n",
      " 25%|██▌       | 19/76 [00:02<00:06,  8.24it/s]\u001b[A\n",
      " 28%|██▊       | 21/76 [00:02<00:07,  7.53it/s]\u001b[A\n",
      " 30%|███       | 23/76 [00:02<00:06,  8.56it/s]\u001b[A\n",
      " 33%|███▎      | 25/76 [00:03<00:06,  8.08it/s]\u001b[A\n",
      " 36%|███▌      | 27/76 [00:03<00:05,  9.00it/s]\u001b[A\n",
      " 38%|███▊      | 29/76 [00:03<00:05,  8.60it/s]\u001b[A\n",
      " 41%|████      | 31/76 [00:03<00:04,  9.48it/s]\u001b[A\n",
      " 43%|████▎     | 33/76 [00:04<00:05,  7.95it/s]\u001b[A\n",
      " 46%|████▌     | 35/76 [00:04<00:04,  8.90it/s]\u001b[A\n",
      " 49%|████▊     | 37/76 [00:04<00:04,  8.96it/s]\u001b[A\n",
      " 51%|█████▏    | 39/76 [00:04<00:03,  9.78it/s]\u001b[A\n",
      " 54%|█████▍    | 41/76 [00:05<00:03,  8.85it/s]\u001b[A\n",
      " 57%|█████▋    | 43/76 [00:05<00:03,  9.68it/s]\u001b[A\n",
      " 59%|█████▉    | 45/76 [00:05<00:03,  9.14it/s]\u001b[A\n",
      " 62%|██████▏   | 47/76 [00:05<00:02,  9.94it/s]\u001b[A\n",
      " 64%|██████▍   | 49/76 [00:05<00:02,  9.54it/s]\u001b[A\n",
      " 67%|██████▋   | 51/76 [00:05<00:02, 10.28it/s]\u001b[A\n",
      " 70%|██████▉   | 53/76 [00:06<00:02,  8.90it/s]\u001b[A\n",
      " 72%|███████▏  | 55/76 [00:06<00:02,  9.74it/s]\u001b[A\n",
      " 75%|███████▌  | 57/76 [00:06<00:02,  8.56it/s]\u001b[A\n",
      " 78%|███████▊  | 59/76 [00:06<00:01,  9.47it/s]\u001b[A\n",
      " 80%|████████  | 61/76 [00:07<00:01,  8.24it/s]\u001b[A\n",
      " 83%|████████▎ | 63/76 [00:07<00:01,  9.18it/s]\u001b[A\n",
      " 86%|████████▌ | 65/76 [00:07<00:01,  8.44it/s]\u001b[A\n",
      " 88%|████████▊ | 67/76 [00:07<00:00,  9.37it/s]\u001b[A\n",
      " 91%|█████████ | 69/76 [00:08<00:00,  7.93it/s]\u001b[A\n",
      " 93%|█████████▎| 71/76 [00:08<00:00,  8.92it/s]\u001b[A\n",
      " 96%|█████████▌| 73/76 [00:08<00:00,  7.61it/s]\u001b[A\n",
      " 99%|█████████▊| 75/76 [00:08<00:00,  8.62it/s]\u001b[A\n",
      "77it [00:09,  8.52it/s]                        \u001b[A\n",
      "100%|██████████| 301/301 [02:03<00:00,  3.13s/it]"
     ]
    },
    {
     "name": "stdout",
     "output_type": "stream",
     "text": [
      "< VALIDATION >\n",
      "*************************************************************************\n",
      "Validation Loss : 0.6267080469564958\n",
      "-------------------------------------------------------------------------\n",
      "Total Accuracy\n",
      "83.17708333333333 %\n",
      "-------------------------------------------------------------------------\n",
      "Confusion Matrix\n",
      "556 12  1   5   4   0   0   0   0   0   0   0   0   0   0   0   0   0   \n",
      "7   152 152 0   12  2   0   0   0   0   0   0   0   0   0   0   0   0   \n",
      "0   16  178 0   0   0   0   0   0   0   0   0   0   0   0   0   0   0   \n",
      "3   1   0   717 27  0   0   0   0   8   0   0   0   0   0   1   0   0   \n",
      "0   0   6   23  443 153 0   0   0   0   0   0   0   0   0   0   1   0   \n",
      "0   0   1   0   46  221 0   0   0   0   0   0   0   0   0   0   0   0   \n",
      "0   0   0   0   0   0   110 1   0   1   0   0   0   0   0   0   0   0   \n",
      "0   0   1   0   0   0   1   51  13  0   4   0   0   0   0   0   0   0   \n",
      "0   0   0   0   0   0   0   7   31  0   1   0   0   0   0   0   0   0   \n",
      "0   0   0   0   0   0   0   0   0   144 5   0   0   0   0   0   0   0   \n",
      "0   0   0   0   1   0   1   0   0   7   101 14  0   0   0   0   0   0   \n",
      "0   0   0   0   1   0   0   0   0   0   16  35  0   0   0   0   0   0   \n",
      "0   0   0   0   0   0   0   0   0   0   0   0   111 4   0   1   0   0   \n",
      "0   0   0   0   0   0   0   0   0   0   0   0   2   36  28  0   3   0   \n",
      "0   0   0   0   0   0   0   0   0   0   0   0   0   5   33  0   0   0   \n",
      "0   0   0   0   0   0   0   0   0   0   0   0   1   0   0   142 4   0   \n",
      "0   0   0   0   0   0   0   0   0   0   0   0   1   0   1   4   98  20  \n",
      "0   0   0   0   0   0   0   0   0   0   0   0   0   0   0   0   17  35  \n",
      "-------------------------------------------------------------------------\n",
      "Validation F1 score : 0.7921314789616763\n",
      "Class 0 : 0.972027972027972\n",
      "Class 1 : 0.6007905138339921\n",
      "Class 2 : 0.6679174484052532\n",
      "Class 3 : 0.9547270306258322\n",
      "Class 4 : 0.7637931034482759\n",
      "Class 5 : 0.686335403726708\n",
      "Class 6 : 0.9821428571428571\n",
      "Class 7 : 0.7906976744186046\n",
      "Class 8 : 0.746987951807229\n",
      "Class 9 : 0.9320388349514563\n",
      "Class 10 : 0.8047808764940239\n",
      "Class 11 : 0.6930693069306932\n",
      "Class 12 : 0.961038961038961\n",
      "Class 13 : 0.6315789473684211\n",
      "Class 14 : 0.66\n",
      "Class 15 : 0.9627118644067796\n",
      "Class 16 : 0.7935222672064778\n",
      "Class 17 : 0.6542056074766355\n",
      "model saved!\n",
      "*************************************************************************\n",
      "\n"
     ]
    },
    {
     "name": "stderr",
     "output_type": "stream",
     "text": [
      "302it [02:04,  2.44it/s]                         "
     ]
    },
    {
     "name": "stdout",
     "output_type": "stream",
     "text": [
      "Adjusting learning rate of group 0 to 9.3207e-05.\n",
      "Epoch : 8\n"
     ]
    },
    {
     "name": "stderr",
     "output_type": "stream",
     "text": [
      "\n",
      " 50%|████▉     | 150/301 [00:52<00:52,  2.89it/s]"
     ]
    },
    {
     "name": "stdout",
     "output_type": "stream",
     "text": [
      "Train Loss : 0.24629061644440456\n"
     ]
    },
    {
     "name": "stderr",
     "output_type": "stream",
     "text": [
      "\n",
      "  0%|          | 0/76 [00:00<?, ?it/s]\u001b[A\n",
      "  1%|▏         | 1/76 [00:00<00:48,  1.55it/s]\u001b[A\n",
      "  4%|▍         | 3/76 [00:00<00:34,  2.10it/s]\u001b[A\n",
      "  7%|▋         | 5/76 [00:01<00:26,  2.70it/s]\u001b[A\n",
      "  9%|▉         | 7/76 [00:01<00:19,  3.54it/s]\u001b[A\n",
      " 12%|█▏        | 9/76 [00:01<00:16,  4.17it/s]\u001b[A\n",
      " 14%|█▍        | 11/76 [00:01<00:12,  5.21it/s]\u001b[A\n",
      " 17%|█▋        | 13/76 [00:01<00:11,  5.58it/s]\u001b[A\n",
      " 20%|█▉        | 15/76 [00:02<00:09,  6.69it/s]\u001b[A\n",
      " 22%|██▏       | 17/76 [00:02<00:08,  6.92it/s]\u001b[A\n",
      " 25%|██▌       | 19/76 [00:02<00:07,  7.98it/s]\u001b[A\n",
      " 28%|██▊       | 21/76 [00:02<00:07,  7.42it/s]\u001b[A\n",
      " 30%|███       | 23/76 [00:03<00:06,  8.46it/s]\u001b[A\n",
      " 33%|███▎      | 25/76 [00:03<00:06,  8.15it/s]\u001b[A\n",
      " 36%|███▌      | 27/76 [00:03<00:05,  9.10it/s]\u001b[A\n",
      " 38%|███▊      | 29/76 [00:03<00:05,  8.48it/s]\u001b[A\n",
      " 41%|████      | 31/76 [00:03<00:04,  9.38it/s]\u001b[A\n",
      " 43%|████▎     | 33/76 [00:04<00:04,  8.90it/s]\u001b[A\n",
      " 46%|████▌     | 35/76 [00:04<00:04,  9.76it/s]\u001b[A\n",
      " 49%|████▊     | 37/76 [00:04<00:04,  8.57it/s]\u001b[A\n",
      " 51%|█████▏    | 39/76 [00:04<00:03,  9.44it/s]\u001b[A\n",
      " 54%|█████▍    | 41/76 [00:05<00:04,  8.73it/s]\u001b[A\n",
      " 57%|█████▋    | 43/76 [00:05<00:03,  9.61it/s]\u001b[A\n",
      " 59%|█████▉    | 45/76 [00:05<00:03,  9.19it/s]\u001b[A\n",
      " 62%|██████▏   | 47/76 [00:05<00:02,  9.88it/s]\u001b[A\n",
      " 64%|██████▍   | 49/76 [00:05<00:02,  9.60it/s]\u001b[A\n",
      " 67%|██████▋   | 51/76 [00:05<00:02, 10.19it/s]\u001b[A\n",
      " 70%|██████▉   | 53/76 [00:06<00:02,  9.32it/s]\u001b[A\n",
      " 72%|███████▏  | 55/76 [00:06<00:02,  9.80it/s]\u001b[A\n",
      " 75%|███████▌  | 57/76 [00:06<00:01,  9.72it/s]\u001b[A\n",
      " 78%|███████▊  | 59/76 [00:06<00:01, 10.26it/s]\u001b[A\n",
      " 80%|████████  | 61/76 [00:07<00:01,  9.05it/s]\u001b[A\n",
      " 83%|████████▎ | 63/76 [00:07<00:01,  9.78it/s]\u001b[A\n",
      " 86%|████████▌ | 65/76 [00:07<00:01,  8.89it/s]\u001b[A\n",
      " 88%|████████▊ | 67/76 [00:07<00:00,  9.68it/s]\u001b[A\n",
      " 91%|█████████ | 69/76 [00:07<00:00,  9.44it/s]\u001b[A\n",
      " 93%|█████████▎| 71/76 [00:08<00:00,  9.65it/s]\u001b[A\n",
      " 96%|█████████▌| 73/76 [00:08<00:00,  8.96it/s]\u001b[A\n",
      " 99%|█████████▊| 75/76 [00:08<00:00,  9.74it/s]\u001b[A\n",
      "77it [00:08,  8.82it/s]                        \u001b[A\n"
     ]
    },
    {
     "name": "stdout",
     "output_type": "stream",
     "text": [
      "< VALIDATION >\n",
      "*************************************************************************\n",
      "Validation Loss : 0.6465880560216966\n",
      "-------------------------------------------------------------------------\n",
      "Total Accuracy\n",
      "86.58854166666666 %\n",
      "-------------------------------------------------------------------------\n",
      "Confusion Matrix\n",
      "543 25  0   6   4   0   0   0   0   0   0   0   0   0   0   0   0   0   \n",
      "5   288 21  0   10  1   0   0   0   0   0   0   0   0   0   0   0   0   \n",
      "0   68  126 0   0   0   0   0   0   0   0   0   0   0   0   0   0   0   \n",
      "1   2   0   731 14  0   0   0   0   9   0   0   0   0   0   0   0   0   \n",
      "1   3   1   47  479 94  0   0   0   0   1   0   0   0   0   0   0   0   \n",
      "0   0   0   0   60  208 0   0   0   0   0   0   0   0   0   0   0   0   \n",
      "0   0   0   0   0   0   108 3   0   1   0   0   0   0   0   0   0   0   \n",
      "0   1   0   0   0   0   1   58  7   0   3   0   0   0   0   0   0   0   \n",
      "0   0   0   0   0   0   0   13  26  0   0   0   0   0   0   0   0   0   \n",
      "0   0   0   1   0   0   0   2   0   144 2   0   0   0   0   0   0   0   \n",
      "0   0   0   0   1   0   1   0   0   9   96  17  0   0   0   0   0   0   \n",
      "0   0   0   0   1   0   0   0   0   0   13  38  0   0   0   0   0   0   \n",
      "0   0   0   0   0   0   0   0   0   0   0   0   112 3   0   1   0   0   \n",
      "0   0   0   0   0   0   0   0   0   0   0   0   2   60  5   0   1   1   \n",
      "0   0   0   0   0   0   0   0   0   0   0   0   0   13  25  0   0   0   \n",
      "0   0   0   0   0   0   0   0   0   0   0   0   0   0   0   144 3   0   \n",
      "0   0   0   0   0   0   0   0   0   0   0   0   0   1   0   6   102 15  \n",
      "0   0   0   0   0   0   0   0   0   0   0   0   0   0   0   0   15  37  \n",
      "-------------------------------------------------------------------------\n",
      "Validation F1 score : 0.8304633006119841\n",
      "Class 0 : 0.9627659574468086\n",
      "Class 1 : 0.8089887640449438\n",
      "Class 2 : 0.736842105263158\n",
      "Class 3 : 0.9481193255512322\n",
      "Class 4 : 0.8016736401673641\n",
      "Class 5 : 0.7285464098073555\n",
      "Class 6 : 0.972972972972973\n",
      "Class 7 : 0.7945205479452055\n",
      "Class 8 : 0.7222222222222221\n",
      "Class 9 : 0.923076923076923\n",
      "Class 10 : 0.803347280334728\n",
      "Class 11 : 0.7102803738317757\n",
      "Class 12 : 0.9739130434782608\n",
      "Class 13 : 0.821917808219178\n",
      "Class 14 : 0.7352941176470588\n",
      "Class 15 : 0.9664429530201342\n",
      "Class 16 : 0.8326530612244898\n",
      "Class 17 : 0.7047619047619047\n"
     ]
    },
    {
     "name": "stderr",
     "output_type": "stream",
     "text": [
      " 50%|█████     | 151/301 [01:02<07:48,  3.12s/it]"
     ]
    },
    {
     "name": "stdout",
     "output_type": "stream",
     "text": [
      "model saved!\n",
      "*************************************************************************\n",
      "\n"
     ]
    },
    {
     "name": "stderr",
     "output_type": "stream",
     "text": [
      "100%|█████████▉| 300/301 [01:54<00:00,  2.91it/s]"
     ]
    },
    {
     "name": "stdout",
     "output_type": "stream",
     "text": [
      "Train Loss : 0.24730566101909873\n"
     ]
    },
    {
     "name": "stderr",
     "output_type": "stream",
     "text": [
      "\n",
      "  0%|          | 0/76 [00:00<?, ?it/s]\u001b[A\n",
      "  1%|▏         | 1/76 [00:00<00:41,  1.79it/s]\u001b[A\n",
      "  4%|▍         | 3/76 [00:00<00:30,  2.40it/s]\u001b[A\n",
      "  7%|▋         | 5/76 [00:01<00:23,  3.00it/s]\u001b[A\n",
      "  9%|▉         | 7/76 [00:01<00:17,  3.88it/s]\u001b[A\n",
      " 12%|█▏        | 9/76 [00:01<00:14,  4.49it/s]\u001b[A\n",
      " 14%|█▍        | 11/76 [00:01<00:11,  5.56it/s]\u001b[A\n",
      " 17%|█▋        | 13/76 [00:01<00:10,  6.25it/s]\u001b[A\n",
      " 20%|█▉        | 15/76 [00:02<00:08,  7.32it/s]\u001b[A\n",
      " 22%|██▏       | 17/76 [00:02<00:08,  6.78it/s]\u001b[A\n",
      " 25%|██▌       | 19/76 [00:02<00:07,  7.86it/s]\u001b[A\n",
      " 28%|██▊       | 21/76 [00:02<00:06,  8.03it/s]\u001b[A\n",
      " 30%|███       | 23/76 [00:02<00:05,  8.98it/s]\u001b[A\n",
      " 33%|███▎      | 25/76 [00:03<00:05,  8.50it/s]\u001b[A\n",
      " 36%|███▌      | 27/76 [00:03<00:05,  9.40it/s]\u001b[A\n",
      " 38%|███▊      | 29/76 [00:03<00:05,  8.85it/s]\u001b[A\n",
      " 39%|███▉      | 30/76 [00:03<00:05,  8.73it/s]\u001b[A\n",
      " 42%|████▏     | 32/76 [00:03<00:04,  9.59it/s]\u001b[A\n",
      " 45%|████▍     | 34/76 [00:04<00:05,  8.12it/s]\u001b[A\n",
      " 47%|████▋     | 36/76 [00:04<00:04,  9.01it/s]\u001b[A\n",
      " 49%|████▊     | 37/76 [00:04<00:04,  9.04it/s]\u001b[A\n",
      " 50%|█████     | 38/76 [00:04<00:04,  8.93it/s]\u001b[A\n",
      " 53%|█████▎    | 40/76 [00:04<00:03,  9.77it/s]\u001b[A\n",
      " 55%|█████▌    | 42/76 [00:05<00:03,  9.05it/s]\u001b[A\n",
      " 58%|█████▊    | 44/76 [00:05<00:03,  9.85it/s]\u001b[A\n",
      " 61%|██████    | 46/76 [00:05<00:03,  8.57it/s]\u001b[A\n",
      " 63%|██████▎   | 48/76 [00:05<00:02,  9.45it/s]\u001b[A\n",
      " 66%|██████▌   | 50/76 [00:05<00:02,  9.00it/s]\u001b[A\n",
      " 68%|██████▊   | 52/76 [00:06<00:02,  9.82it/s]\u001b[A\n",
      " 71%|███████   | 54/76 [00:06<00:02,  8.37it/s]\u001b[A\n",
      " 74%|███████▎  | 56/76 [00:06<00:02,  9.23it/s]\u001b[A\n",
      " 76%|███████▋  | 58/76 [00:06<00:02,  8.46it/s]\u001b[A\n",
      " 79%|███████▉  | 60/76 [00:06<00:01,  9.36it/s]\u001b[A\n",
      " 82%|████████▏ | 62/76 [00:07<00:01,  8.43it/s]\u001b[A\n",
      " 84%|████████▍ | 64/76 [00:07<00:01,  9.35it/s]\u001b[A\n",
      " 87%|████████▋ | 66/76 [00:07<00:01,  8.03it/s]\u001b[A\n",
      " 89%|████████▉ | 68/76 [00:07<00:00,  8.99it/s]\u001b[A\n",
      " 92%|█████████▏| 70/76 [00:08<00:00,  8.19it/s]\u001b[A\n",
      " 95%|█████████▍| 72/76 [00:08<00:00,  9.16it/s]\u001b[A\n",
      " 97%|█████████▋| 74/76 [00:08<00:00,  8.35it/s]\u001b[A\n",
      "77it [00:08,  8.62it/s]                        \u001b[A\n",
      "100%|██████████| 301/301 [02:03<00:00,  3.11s/it]"
     ]
    },
    {
     "name": "stdout",
     "output_type": "stream",
     "text": [
      "< VALIDATION >\n",
      "*************************************************************************\n",
      "Validation Loss : 0.5636819800386181\n",
      "-------------------------------------------------------------------------\n",
      "Total Accuracy\n",
      "85.10416666666667 %\n",
      "-------------------------------------------------------------------------\n",
      "Confusion Matrix\n",
      "546 18  1   6   7   0   0   0   0   0   0   0   0   0   0   0   0   0   \n",
      "6   187 118 0   14  0   0   0   0   0   0   0   0   0   0   0   0   0   \n",
      "0   21  173 0   0   0   0   0   0   0   0   0   0   0   0   0   0   0   \n",
      "0   0   0   727 23  0   0   0   0   7   0   0   0   0   0   0   0   0   \n",
      "0   0   3   33  499 90  0   0   0   0   1   0   0   0   0   0   0   0   \n",
      "0   0   0   0   67  200 0   0   0   0   0   0   0   0   0   0   0   1   \n",
      "0   0   0   0   0   0   102 5   0   1   4   0   0   0   0   0   0   0   \n",
      "0   0   1   0   0   0   1   46  18  0   4   0   0   0   0   0   0   0   \n",
      "0   0   0   0   0   0   0   7   32  0   0   0   0   0   0   0   0   0   \n",
      "0   0   0   1   0   0   0   0   0   141 7   0   0   0   0   0   0   0   \n",
      "0   0   0   0   1   0   0   0   0   3   104 16  0   0   0   0   0   0   \n",
      "0   0   0   0   1   0   0   0   0   0   14  37  0   0   0   0   0   0   \n",
      "0   0   0   0   0   0   0   0   0   0   0   0   112 3   0   1   0   0   \n",
      "0   0   0   0   0   0   0   0   0   0   0   0   2   47  17  0   3   0   \n",
      "0   0   0   0   0   0   0   0   0   0   0   0   0   10  28  0   0   0   \n",
      "0   0   0   0   0   0   0   0   0   0   0   0   0   0   0   144 3   0   \n",
      "0   0   0   0   0   0   0   0   0   0   0   0   0   0   0   6   105 13  \n",
      "0   0   0   0   0   0   0   0   0   0   0   0   0   0   0   0   14  38  \n",
      "-------------------------------------------------------------------------\n",
      "Validation F1 score : 0.81004008974498\n",
      "Class 0 : 0.9663716814159292\n",
      "Class 1 : 0.6787658802177858\n",
      "Class 2 : 0.7061224489795918\n",
      "Class 3 : 0.9540682414698163\n",
      "Class 4 : 0.8061389337641356\n",
      "Class 5 : 0.7168458781362007\n",
      "Class 6 : 0.9488372093023257\n",
      "Class 7 : 0.71875\n",
      "Class 8 : 0.7191011235955057\n",
      "Class 9 : 0.9368770764119602\n",
      "Class 10 : 0.8062015503875968\n",
      "Class 11 : 0.7047619047619047\n",
      "Class 12 : 0.9739130434782608\n",
      "Class 13 : 0.7286821705426356\n",
      "Class 14 : 0.6746987951807228\n",
      "Class 15 : 0.9664429530201342\n",
      "Class 16 : 0.8433734939759037\n",
      "Class 17 : 0.7307692307692306\n",
      "model saved!\n",
      "*************************************************************************\n",
      "\n"
     ]
    },
    {
     "name": "stderr",
     "output_type": "stream",
     "text": [
      "302it [02:03,  2.44it/s]                         "
     ]
    },
    {
     "name": "stdout",
     "output_type": "stream",
     "text": [
      "Adjusting learning rate of group 0 to 9.2274e-05.\n",
      "Epoch : 9\n"
     ]
    },
    {
     "name": "stderr",
     "output_type": "stream",
     "text": [
      "\n",
      " 50%|████▉     | 150/301 [00:52<00:52,  2.89it/s]"
     ]
    },
    {
     "name": "stdout",
     "output_type": "stream",
     "text": [
      "Train Loss : 0.2398831264072696\n"
     ]
    },
    {
     "name": "stderr",
     "output_type": "stream",
     "text": [
      "\n",
      "  0%|          | 0/76 [00:00<?, ?it/s]\u001b[A\n",
      "  1%|▏         | 1/76 [00:00<00:45,  1.65it/s]\u001b[A\n",
      "  4%|▍         | 3/76 [00:00<00:32,  2.24it/s]\u001b[A\n",
      "  7%|▋         | 5/76 [00:01<00:25,  2.83it/s]\u001b[A\n",
      "  9%|▉         | 7/76 [00:01<00:18,  3.69it/s]\u001b[A\n",
      " 12%|█▏        | 9/76 [00:01<00:14,  4.48it/s]\u001b[A\n",
      " 14%|█▍        | 11/76 [00:01<00:11,  5.56it/s]\u001b[A\n",
      " 17%|█▋        | 13/76 [00:01<00:10,  6.00it/s]\u001b[A\n",
      " 20%|█▉        | 15/76 [00:02<00:08,  6.98it/s]\u001b[A\n",
      " 22%|██▏       | 17/76 [00:02<00:08,  7.24it/s]\u001b[A\n",
      " 25%|██▌       | 19/76 [00:02<00:07,  8.11it/s]\u001b[A\n",
      " 28%|██▊       | 21/76 [00:02<00:06,  8.26it/s]\u001b[A\n",
      " 29%|██▉       | 22/76 [00:02<00:07,  7.59it/s]\u001b[A\n",
      " 32%|███▏      | 24/76 [00:03<00:06,  8.53it/s]\u001b[A\n",
      " 34%|███▍      | 26/76 [00:03<00:05,  8.35it/s]\u001b[A\n",
      " 37%|███▋      | 28/76 [00:03<00:05,  9.28it/s]\u001b[A\n",
      " 39%|███▉      | 30/76 [00:03<00:05,  8.90it/s]\u001b[A\n",
      " 42%|████▏     | 32/76 [00:03<00:04,  9.76it/s]\u001b[A\n",
      " 45%|████▍     | 34/76 [00:04<00:04,  8.96it/s]\u001b[A\n",
      " 47%|████▋     | 36/76 [00:04<00:04,  9.78it/s]\u001b[A\n",
      " 50%|█████     | 38/76 [00:04<00:04,  9.41it/s]\u001b[A\n",
      " 53%|█████▎    | 40/76 [00:04<00:03, 10.19it/s]\u001b[A\n",
      " 55%|█████▌    | 42/76 [00:04<00:03,  9.09it/s]\u001b[A\n",
      " 58%|█████▊    | 44/76 [00:05<00:03,  9.88it/s]\u001b[A\n",
      " 61%|██████    | 46/76 [00:05<00:03,  8.54it/s]\u001b[A\n",
      " 63%|██████▎   | 48/76 [00:05<00:02,  9.44it/s]\u001b[A\n",
      " 66%|██████▌   | 50/76 [00:05<00:02,  9.06it/s]\u001b[A\n",
      " 68%|██████▊   | 52/76 [00:05<00:02,  9.86it/s]\u001b[A\n",
      " 71%|███████   | 54/76 [00:06<00:02,  8.52it/s]\u001b[A\n",
      " 74%|███████▎  | 56/76 [00:06<00:02,  9.43it/s]\u001b[A\n",
      " 76%|███████▋  | 58/76 [00:06<00:02,  8.33it/s]\u001b[A\n",
      " 79%|███████▉  | 60/76 [00:06<00:01,  9.28it/s]\u001b[A\n",
      " 82%|████████▏ | 62/76 [00:07<00:01,  9.04it/s]\u001b[A\n",
      " 84%|████████▍ | 64/76 [00:07<00:01,  9.85it/s]\u001b[A\n",
      " 87%|████████▋ | 66/76 [00:07<00:01,  8.39it/s]\u001b[A\n",
      " 89%|████████▉ | 68/76 [00:07<00:00,  9.32it/s]\u001b[A\n",
      " 92%|█████████▏| 70/76 [00:08<00:00,  8.46it/s]\u001b[A\n",
      " 95%|█████████▍| 72/76 [00:08<00:00,  9.35it/s]\u001b[A\n",
      " 97%|█████████▋| 74/76 [00:08<00:00,  8.81it/s]\u001b[A\n",
      "77it [00:08,  8.79it/s]                        \u001b[A\n"
     ]
    },
    {
     "name": "stdout",
     "output_type": "stream",
     "text": [
      "< VALIDATION >\n",
      "*************************************************************************\n",
      "Validation Loss : 0.6007106264496779\n",
      "-------------------------------------------------------------------------\n",
      "Total Accuracy\n",
      "87.29166666666667 %\n",
      "-------------------------------------------------------------------------\n",
      "Confusion Matrix\n",
      "552 15  0   6   3   0   2   0   0   0   0   0   0   0   0   0   0   0   \n",
      "5   277 34  0   6   3   0   0   0   0   0   0   0   0   0   0   0   0   \n",
      "0   57  137 0   0   0   0   0   0   0   0   0   0   0   0   0   0   0   \n",
      "2   0   0   730 15  0   0   0   0   10  0   0   0   0   0   0   0   0   \n",
      "1   6   1   43  472 102 0   0   0   0   0   0   0   0   0   0   1   0   \n",
      "0   0   0   0   41  227 0   0   0   0   0   0   0   0   0   0   0   0   \n",
      "0   0   0   0   0   0   108 3   0   1   0   0   0   0   0   0   0   0   \n",
      "0   1   0   0   0   0   1   56  9   0   3   0   0   0   0   0   0   0   \n",
      "0   0   0   0   0   0   0   9   30  0   0   0   0   0   0   0   0   0   \n",
      "0   0   0   1   0   0   0   0   0   145 3   0   0   0   0   0   0   0   \n",
      "0   0   0   0   1   0   1   0   0   5   104 13  0   0   0   0   0   0   \n",
      "0   0   0   0   1   0   0   0   0   0   11  40  0   0   0   0   0   0   \n",
      "0   0   0   0   0   0   0   0   0   0   0   0   110 5   0   1   0   0   \n",
      "0   0   0   0   0   0   0   0   0   0   0   0   1   64  3   0   1   0   \n",
      "0   0   0   0   0   0   0   0   0   0   0   0   0   16  22  0   0   0   \n",
      "0   0   0   0   0   0   0   0   0   0   0   0   2   0   0   142 3   0   \n",
      "0   0   0   0   0   0   0   0   0   0   0   0   1   1   0   4   93  25  \n",
      "0   0   0   0   0   0   0   0   0   0   0   0   0   0   0   0   9   43  \n",
      "-------------------------------------------------------------------------\n",
      "Validation F1 score : 0.839400200958519\n",
      "Class 0 : 0.9701230228471002\n",
      "Class 1 : 0.8135095447870777\n",
      "Class 2 : 0.7486338797814207\n",
      "Class 3 : 0.9499024072869225\n",
      "Class 4 : 0.8103004291845494\n",
      "Class 5 : 0.7566666666666666\n",
      "Class 6 : 0.9642857142857143\n",
      "Class 7 : 0.8115942028985507\n",
      "Class 8 : 0.7692307692307693\n",
      "Class 9 : 0.935483870967742\n",
      "Class 10 : 0.8489795918367348\n",
      "Class 11 : 0.7619047619047619\n",
      "Class 12 : 0.9565217391304347\n",
      "Class 13 : 0.8258064516129032\n",
      "Class 14 : 0.6984126984126985\n",
      "Class 15 : 0.9659863945578231\n",
      "Class 16 : 0.8051948051948051\n",
      "Class 17 : 0.7166666666666666\n"
     ]
    },
    {
     "name": "stderr",
     "output_type": "stream",
     "text": [
      " 50%|█████     | 151/301 [01:02<07:48,  3.12s/it]"
     ]
    },
    {
     "name": "stdout",
     "output_type": "stream",
     "text": [
      "model saved!\n",
      "*************************************************************************\n",
      "\n"
     ]
    },
    {
     "name": "stderr",
     "output_type": "stream",
     "text": [
      "100%|█████████▉| 300/301 [01:54<00:00,  2.91it/s]"
     ]
    },
    {
     "name": "stdout",
     "output_type": "stream",
     "text": [
      "Train Loss : 0.24017981061111654\n"
     ]
    },
    {
     "name": "stderr",
     "output_type": "stream",
     "text": [
      "\n",
      "  0%|          | 0/76 [00:00<?, ?it/s]\u001b[A\n",
      "  1%|▏         | 1/76 [00:00<00:44,  1.68it/s]\u001b[A\n",
      "  4%|▍         | 3/76 [00:00<00:32,  2.26it/s]\u001b[A\n",
      "  7%|▋         | 5/76 [00:00<00:24,  2.95it/s]\u001b[A\n",
      "  9%|▉         | 7/76 [00:01<00:18,  3.83it/s]\u001b[A\n",
      " 12%|█▏        | 9/76 [00:01<00:14,  4.49it/s]\u001b[A\n",
      " 14%|█▍        | 11/76 [00:01<00:11,  5.55it/s]\u001b[A\n",
      " 17%|█▋        | 13/76 [00:01<00:10,  6.09it/s]\u001b[A\n",
      " 18%|█▊        | 14/76 [00:01<00:09,  6.68it/s]\u001b[A\n",
      " 21%|██        | 16/76 [00:02<00:07,  7.75it/s]\u001b[A\n",
      " 22%|██▏       | 17/76 [00:02<00:07,  7.77it/s]\u001b[A\n",
      " 24%|██▎       | 18/76 [00:02<00:07,  8.23it/s]\u001b[A\n",
      " 26%|██▋       | 20/76 [00:02<00:06,  9.19it/s]\u001b[A\n",
      " 29%|██▉       | 22/76 [00:02<00:05,  9.13it/s]\u001b[A\n",
      " 32%|███▏      | 24/76 [00:02<00:05,  9.78it/s]\u001b[A\n",
      " 34%|███▍      | 26/76 [00:03<00:05,  8.69it/s]\u001b[A\n",
      " 37%|███▋      | 28/76 [00:03<00:05,  9.56it/s]\u001b[A\n",
      " 39%|███▉      | 30/76 [00:03<00:05,  8.54it/s]\u001b[A\n",
      " 42%|████▏     | 32/76 [00:03<00:04,  9.41it/s]\u001b[A\n",
      " 45%|████▍     | 34/76 [00:04<00:04,  9.02it/s]\u001b[A\n",
      " 47%|████▋     | 36/76 [00:04<00:04,  9.85it/s]\u001b[A\n",
      " 50%|█████     | 38/76 [00:04<00:04,  9.45it/s]\u001b[A\n",
      " 53%|█████▎    | 40/76 [00:04<00:03,  9.99it/s]\u001b[A\n",
      " 55%|█████▌    | 42/76 [00:04<00:03,  9.52it/s]\u001b[A\n",
      " 57%|█████▋    | 43/76 [00:04<00:04,  7.94it/s]\u001b[A\n",
      " 59%|█████▉    | 45/76 [00:05<00:03,  8.93it/s]\u001b[A\n",
      " 62%|██████▏   | 47/76 [00:05<00:03,  7.97it/s]\u001b[A\n",
      " 64%|██████▍   | 49/76 [00:05<00:03,  8.95it/s]\u001b[A\n",
      " 67%|██████▋   | 51/76 [00:05<00:02,  8.36it/s]\u001b[A\n",
      " 70%|██████▉   | 53/76 [00:06<00:02,  9.30it/s]\u001b[A\n",
      " 72%|███████▏  | 55/76 [00:06<00:02,  8.55it/s]\u001b[A\n",
      " 75%|███████▌  | 57/76 [00:06<00:02,  9.44it/s]\u001b[A\n",
      " 78%|███████▊  | 59/76 [00:06<00:02,  8.10it/s]\u001b[A\n",
      " 80%|████████  | 61/76 [00:06<00:01,  9.05it/s]\u001b[A\n",
      " 83%|████████▎ | 63/76 [00:07<00:01,  8.98it/s]\u001b[A\n",
      " 86%|████████▌ | 65/76 [00:07<00:01,  9.80it/s]\u001b[A\n",
      " 88%|████████▊ | 67/76 [00:07<00:00,  9.45it/s]\u001b[A\n",
      " 91%|█████████ | 69/76 [00:07<00:00, 10.16it/s]\u001b[A\n",
      " 93%|█████████▎| 71/76 [00:08<00:00,  9.26it/s]\u001b[A\n",
      " 96%|█████████▌| 73/76 [00:08<00:00, 10.06it/s]\u001b[A\n",
      " 99%|█████████▊| 75/76 [00:08<00:00,  9.02it/s]\u001b[A\n",
      "77it [00:08,  8.90it/s]                        \u001b[A\n"
     ]
    },
    {
     "name": "stdout",
     "output_type": "stream",
     "text": [
      "< VALIDATION >\n",
      "*************************************************************************\n",
      "Validation Loss : 0.4896393668922511\n",
      "-------------------------------------------------------------------------\n",
      "Total Accuracy\n",
      "87.5 %\n",
      "-------------------------------------------------------------------------\n",
      "Confusion Matrix\n",
      "560 11  0   6   1   0   0   0   0   0   0   0   0   0   0   0   0   0   \n",
      "5   236 75  0   8   1   0   0   0   0   0   0   0   0   0   0   0   0   \n",
      "0   36  158 0   0   0   0   0   0   0   0   0   0   0   0   0   0   0   \n",
      "3   0   0   730 19  0   0   0   0   5   0   0   0   0   0   0   0   0   \n",
      "1   3   4   34  511 72  0   0   0   0   1   0   0   0   0   0   0   0   \n",
      "0   0   1   0   58  209 0   0   0   0   0   0   0   0   0   0   0   0   \n",
      "0   0   0   0   0   0   111 0   0   1   0   0   0   0   0   0   0   0   \n",
      "0   1   0   0   0   0   2   49  15  0   3   0   0   0   0   0   0   0   \n",
      "0   0   0   0   0   0   0   5   34  0   0   0   0   0   0   0   0   0   \n",
      "0   0   0   1   0   0   1   0   0   145 2   0   0   0   0   0   0   0   \n",
      "0   0   0   0   2   0   1   0   0   7   99  15  0   0   0   0   0   0   \n",
      "0   0   0   0   1   0   0   0   0   0   8   43  0   0   0   0   0   0   \n",
      "0   0   0   0   0   0   0   0   0   0   0   0   113 2   0   1   0   0   \n",
      "0   0   0   0   0   0   0   0   0   0   0   0   2   51  15  0   1   0   \n",
      "0   0   0   0   0   0   0   0   0   0   0   0   0   8   30  0   0   0   \n",
      "0   0   0   0   0   0   0   0   0   0   0   0   4   0   0   141 2   0   \n",
      "0   0   0   0   0   0   0   0   0   0   0   0   1   1   1   6   97  18  \n",
      "0   0   0   0   0   0   0   0   0   0   0   0   0   0   0   0   9   43  \n",
      "-------------------------------------------------------------------------\n",
      "Validation F1 score : 0.8406304031699108\n",
      "Class 0 : 0.976460331299041\n",
      "Class 1 : 0.7712418300653596\n",
      "Class 2 : 0.7314814814814814\n",
      "Class 3 : 0.9554973821989529\n",
      "Class 4 : 0.8336052202283849\n",
      "Class 5 : 0.7599999999999999\n",
      "Class 6 : 0.9779735682819383\n",
      "Class 7 : 0.7903225806451613\n",
      "Class 8 : 0.7727272727272728\n",
      "Class 9 : 0.9446254071661238\n",
      "Class 10 : 0.8354430379746836\n",
      "Class 11 : 0.7818181818181817\n",
      "Class 12 : 0.9576271186440678\n",
      "Class 13 : 0.7786259541984734\n",
      "Class 14 : 0.7142857142857143\n",
      "Class 15 : 0.9559322033898305\n",
      "Class 16 : 0.8326180257510729\n",
      "Class 17 : 0.7610619469026548\n"
     ]
    },
    {
     "name": "stderr",
     "output_type": "stream",
     "text": [
      "302it [02:03,  2.20s/it]                         "
     ]
    },
    {
     "name": "stdout",
     "output_type": "stream",
     "text": [
      "model saved!\n",
      "*************************************************************************\n",
      "\n"
     ]
    },
    {
     "name": "stderr",
     "output_type": "stream",
     "text": [
      "302it [02:03,  2.44it/s]"
     ]
    },
    {
     "name": "stdout",
     "output_type": "stream",
     "text": [
      "Adjusting learning rate of group 0 to 9.1352e-05.\n",
      "Epoch : 10\n"
     ]
    },
    {
     "name": "stderr",
     "output_type": "stream",
     "text": [
      "\n",
      " 50%|████▉     | 150/301 [00:52<00:53,  2.85it/s]"
     ]
    },
    {
     "name": "stdout",
     "output_type": "stream",
     "text": [
      "Train Loss : 0.23095237952194467\n"
     ]
    },
    {
     "name": "stderr",
     "output_type": "stream",
     "text": [
      "\n",
      "  0%|          | 0/76 [00:00<?, ?it/s]\u001b[A\n",
      "  1%|▏         | 1/76 [00:00<00:41,  1.80it/s]\u001b[A\n",
      "  4%|▍         | 3/76 [00:00<00:30,  2.42it/s]\u001b[A\n",
      "  7%|▋         | 5/76 [00:01<00:23,  2.96it/s]\u001b[A\n",
      "  9%|▉         | 7/76 [00:01<00:17,  3.84it/s]\u001b[A\n",
      " 12%|█▏        | 9/76 [00:01<00:14,  4.57it/s]\u001b[A\n",
      " 14%|█▍        | 11/76 [00:01<00:11,  5.65it/s]\u001b[A\n",
      " 17%|█▋        | 13/76 [00:01<00:10,  6.16it/s]\u001b[A\n",
      " 20%|█▉        | 15/76 [00:02<00:08,  7.28it/s]\u001b[A\n",
      " 22%|██▏       | 17/76 [00:02<00:08,  7.00it/s]\u001b[A\n",
      " 25%|██▌       | 19/76 [00:02<00:07,  8.05it/s]\u001b[A\n",
      " 28%|██▊       | 21/76 [00:02<00:07,  7.67it/s]\u001b[A\n",
      " 30%|███       | 23/76 [00:02<00:06,  8.67it/s]\u001b[A\n",
      " 33%|███▎      | 25/76 [00:03<00:05,  8.64it/s]\u001b[A\n",
      " 36%|███▌      | 27/76 [00:03<00:05,  9.52it/s]\u001b[A\n",
      " 38%|███▊      | 29/76 [00:03<00:05,  8.21it/s]\u001b[A\n",
      " 41%|████      | 31/76 [00:03<00:05,  9.00it/s]\u001b[A\n",
      " 43%|████▎     | 33/76 [00:04<00:05,  8.39it/s]\u001b[A\n",
      " 46%|████▌     | 35/76 [00:04<00:04,  9.27it/s]\u001b[A\n",
      " 49%|████▊     | 37/76 [00:04<00:04,  8.77it/s]\u001b[A\n",
      " 51%|█████▏    | 39/76 [00:04<00:03,  9.60it/s]\u001b[A\n",
      " 54%|█████▍    | 41/76 [00:04<00:03,  9.06it/s]\u001b[A\n",
      " 57%|█████▋    | 43/76 [00:05<00:03,  9.87it/s]\u001b[A\n",
      " 59%|█████▉    | 45/76 [00:05<00:03,  9.05it/s]\u001b[A\n",
      " 62%|██████▏   | 47/76 [00:05<00:02,  9.87it/s]\u001b[A\n",
      " 64%|██████▍   | 49/76 [00:05<00:03,  8.69it/s]\u001b[A\n",
      " 67%|██████▋   | 51/76 [00:05<00:02,  9.55it/s]\u001b[A\n",
      " 70%|██████▉   | 53/76 [00:06<00:02,  8.85it/s]\u001b[A\n",
      " 71%|███████   | 54/76 [00:06<00:02,  9.06it/s]\u001b[A\n",
      " 74%|███████▎  | 56/76 [00:06<00:02,  9.86it/s]\u001b[A\n",
      " 76%|███████▋  | 58/76 [00:06<00:02,  8.80it/s]\u001b[A\n",
      " 79%|███████▉  | 60/76 [00:06<00:01,  9.65it/s]\u001b[A\n",
      " 82%|████████▏ | 62/76 [00:07<00:01,  9.03it/s]\u001b[A\n",
      " 84%|████████▍ | 64/76 [00:07<00:01,  9.85it/s]\u001b[A\n",
      " 87%|████████▋ | 66/76 [00:07<00:01,  9.31it/s]\u001b[A\n",
      " 89%|████████▉ | 68/76 [00:07<00:00, 10.10it/s]\u001b[A\n",
      " 92%|█████████▏| 70/76 [00:08<00:00,  8.87it/s]\u001b[A\n",
      " 95%|█████████▍| 72/76 [00:08<00:00,  9.72it/s]\u001b[A\n",
      " 97%|█████████▋| 74/76 [00:08<00:00,  9.16it/s]\u001b[A\n",
      "77it [00:08,  8.78it/s]                        \u001b[A\n"
     ]
    },
    {
     "name": "stdout",
     "output_type": "stream",
     "text": [
      "< VALIDATION >\n",
      "*************************************************************************\n",
      "Validation Loss : 0.5457015702283228\n",
      "-------------------------------------------------------------------------\n",
      "Total Accuracy\n",
      "87.63020833333334 %\n",
      "-------------------------------------------------------------------------\n",
      "Confusion Matrix\n",
      "546 20  0   6   6   0   0   0   0   0   0   0   0   0   0   0   0   0   \n",
      "5   262 47  0   9   2   0   0   0   0   0   0   0   0   0   0   0   0   \n",
      "0   43  151 0   0   0   0   0   0   0   0   0   0   0   0   0   0   0   \n",
      "2   1   0   724 24  0   0   0   0   6   0   0   0   0   0   0   0   0   \n",
      "0   1   0   28  506 89  0   0   0   0   2   0   0   0   0   0   0   0   \n",
      "0   0   0   0   51  217 0   0   0   0   0   0   0   0   0   0   0   0   \n",
      "0   0   0   0   0   0   109 2   0   1   0   0   0   0   0   0   0   0   \n",
      "0   1   0   0   0   0   1   54  11  0   3   0   0   0   0   0   0   0   \n",
      "0   0   0   0   0   0   0   5   34  0   0   0   0   0   0   0   0   0   \n",
      "0   0   0   0   0   0   0   1   0   146 2   0   0   0   0   0   0   0   \n",
      "0   0   0   0   2   0   1   0   0   5   107 9   0   0   0   0   0   0   \n",
      "0   0   0   0   1   0   0   0   0   0   12  39  0   0   0   0   0   0   \n",
      "0   0   0   0   0   0   0   0   0   0   0   0   96  19  0   1   0   0   \n",
      "0   0   0   0   0   0   0   0   0   0   0   0   1   63  3   0   1   1   \n",
      "0   0   0   0   0   0   0   0   0   0   0   0   0   12  26  0   0   0   \n",
      "0   0   0   0   0   0   0   0   0   0   0   0   1   1   0   142 3   0   \n",
      "0   0   0   0   0   0   0   0   0   0   0   0   0   4   0   4   106 10  \n",
      "0   0   0   0   0   0   0   0   0   0   0   0   0   0   0   0   15  37  \n",
      "-------------------------------------------------------------------------\n",
      "Validation F1 score : 0.8470487629453808\n",
      "Class 0 : 0.9655172413793105\n",
      "Class 1 : 0.8024502297090351\n",
      "Class 2 : 0.7704081632653063\n",
      "Class 3 : 0.9557755775577558\n",
      "Class 4 : 0.8261224489795918\n",
      "Class 5 : 0.7534722222222222\n",
      "Class 6 : 0.9775784753363228\n",
      "Class 7 : 0.8181818181818182\n",
      "Class 8 : 0.8095238095238095\n",
      "Class 9 : 0.9511400651465798\n",
      "Class 10 : 0.856\n",
      "Class 11 : 0.78\n",
      "Class 12 : 0.897196261682243\n",
      "Class 13 : 0.75\n",
      "Class 14 : 0.7761194029850746\n",
      "Class 15 : 0.9659863945578231\n",
      "Class 16 : 0.8514056224899599\n",
      "Class 17 : 0.74\n"
     ]
    },
    {
     "name": "stderr",
     "output_type": "stream",
     "text": [
      " 50%|█████     | 151/301 [01:02<07:49,  3.13s/it]"
     ]
    },
    {
     "name": "stdout",
     "output_type": "stream",
     "text": [
      "model saved!\n",
      "*************************************************************************\n",
      "\n"
     ]
    },
    {
     "name": "stderr",
     "output_type": "stream",
     "text": [
      "100%|█████████▉| 300/301 [01:53<00:00,  2.91it/s]"
     ]
    },
    {
     "name": "stdout",
     "output_type": "stream",
     "text": [
      "Train Loss : 0.2322760698852745\n"
     ]
    },
    {
     "name": "stderr",
     "output_type": "stream",
     "text": [
      "\n",
      "  0%|          | 0/76 [00:00<?, ?it/s]\u001b[A\n",
      "  1%|▏         | 1/76 [00:00<00:44,  1.67it/s]\u001b[A\n",
      "  4%|▍         | 3/76 [00:00<00:32,  2.25it/s]\u001b[A\n",
      "  7%|▋         | 5/76 [00:00<00:24,  2.91it/s]\u001b[A\n",
      "  9%|▉         | 7/76 [00:01<00:18,  3.77it/s]\u001b[A\n",
      " 12%|█▏        | 9/76 [00:01<00:15,  4.35it/s]\u001b[A\n",
      " 14%|█▍        | 11/76 [00:01<00:12,  5.40it/s]\u001b[A\n",
      " 17%|█▋        | 13/76 [00:01<00:10,  5.91it/s]\u001b[A\n",
      " 20%|█▉        | 15/76 [00:02<00:08,  7.02it/s]\u001b[A\n",
      " 22%|██▏       | 17/76 [00:02<00:08,  7.30it/s]\u001b[A\n",
      " 25%|██▌       | 19/76 [00:02<00:06,  8.35it/s]\u001b[A\n",
      " 28%|██▊       | 21/76 [00:02<00:07,  7.61it/s]\u001b[A\n",
      " 30%|███       | 23/76 [00:02<00:06,  8.62it/s]\u001b[A\n",
      " 33%|███▎      | 25/76 [00:03<00:06,  7.96it/s]\u001b[A\n",
      " 36%|███▌      | 27/76 [00:03<00:05,  8.92it/s]\u001b[A\n",
      " 38%|███▊      | 29/76 [00:03<00:06,  7.82it/s]\u001b[A\n",
      " 41%|████      | 31/76 [00:03<00:05,  8.79it/s]\u001b[A\n",
      " 43%|████▎     | 33/76 [00:04<00:05,  8.06it/s]\u001b[A\n",
      " 46%|████▌     | 35/76 [00:04<00:04,  9.02it/s]\u001b[A\n",
      " 49%|████▊     | 37/76 [00:04<00:04,  8.78it/s]\u001b[A\n",
      " 51%|█████▏    | 39/76 [00:04<00:03,  9.66it/s]\u001b[A\n",
      " 54%|█████▍    | 41/76 [00:05<00:04,  8.70it/s]\u001b[A\n",
      " 57%|█████▋    | 43/76 [00:05<00:03,  9.58it/s]\u001b[A\n",
      " 59%|█████▉    | 45/76 [00:05<00:03,  8.63it/s]\u001b[A\n",
      " 62%|██████▏   | 47/76 [00:05<00:03,  9.51it/s]\u001b[A\n",
      " 64%|██████▍   | 49/76 [00:05<00:03,  8.50it/s]\u001b[A\n",
      " 67%|██████▋   | 51/76 [00:06<00:02,  9.42it/s]\u001b[A\n",
      " 70%|██████▉   | 53/76 [00:06<00:02,  8.15it/s]\u001b[A\n",
      " 72%|███████▏  | 55/76 [00:06<00:02,  9.11it/s]\u001b[A\n",
      " 75%|███████▌  | 57/76 [00:06<00:02,  7.79it/s]\u001b[A\n",
      " 78%|███████▊  | 59/76 [00:07<00:01,  8.79it/s]\u001b[A\n",
      " 80%|████████  | 61/76 [00:07<00:01,  8.77it/s]\u001b[A\n",
      " 83%|████████▎ | 63/76 [00:07<00:01,  9.63it/s]\u001b[A\n",
      " 86%|████████▌ | 65/76 [00:07<00:01,  8.98it/s]\u001b[A\n",
      " 88%|████████▊ | 67/76 [00:07<00:00,  9.79it/s]\u001b[A\n",
      " 91%|█████████ | 69/76 [00:08<00:00,  9.33it/s]\u001b[A\n",
      " 93%|█████████▎| 71/76 [00:08<00:00, 10.11it/s]\u001b[A\n",
      " 96%|█████████▌| 73/76 [00:08<00:00,  8.93it/s]\u001b[A\n",
      " 99%|█████████▊| 75/76 [00:08<00:00,  9.76it/s]\u001b[A\n",
      "77it [00:08,  8.62it/s]                        \u001b[A\n"
     ]
    },
    {
     "name": "stdout",
     "output_type": "stream",
     "text": [
      "< VALIDATION >\n",
      "*************************************************************************\n",
      "Validation Loss : 0.46624107852384644\n",
      "-------------------------------------------------------------------------\n",
      "Total Accuracy\n",
      "88.30729166666667 %\n",
      "-------------------------------------------------------------------------\n",
      "Confusion Matrix\n",
      "560 11  0   5   2   0   0   0   0   0   0   0   0   0   0   0   0   0   \n",
      "5   277 32  0   9   2   0   0   0   0   0   0   0   0   0   0   0   0   \n",
      "0   43  151 0   0   0   0   0   0   0   0   0   0   0   0   0   0   0   \n",
      "1   0   0   726 21  0   0   0   0   9   0   0   0   0   0   0   0   0   \n",
      "0   1   1   33  475 113 0   0   0   0   2   1   0   0   0   0   0   0   \n",
      "0   0   0   0   36  231 0   0   0   0   0   1   0   0   0   0   0   0   \n",
      "0   0   0   0   0   0   111 0   0   1   0   0   0   0   0   0   0   0   \n",
      "0   1   0   0   0   0   2   56  9   0   2   0   0   0   0   0   0   0   \n",
      "0   0   0   0   0   0   0   7   32  0   0   0   0   0   0   0   0   0   \n",
      "0   0   0   1   0   0   0   0   0   143 5   0   0   0   0   0   0   0   \n",
      "0   0   0   0   1   0   1   0   0   5   104 13  0   0   0   0   0   0   \n",
      "0   0   0   0   1   0   0   0   0   0   10  41  0   0   0   0   0   0   \n",
      "0   0   0   0   0   0   0   0   0   0   0   0   115 0   0   1   0   0   \n",
      "0   0   0   0   0   0   0   0   0   0   0   0   3   56  8   0   2   0   \n",
      "0   0   0   0   0   0   0   0   0   0   0   0   0   8   30  0   0   0   \n",
      "0   0   0   0   0   0   0   0   0   0   0   0   0   0   0   145 2   0   \n",
      "0   0   0   0   0   0   0   0   0   0   0   0   0   0   0   5   96  23  \n",
      "0   0   0   0   0   0   0   0   0   0   0   0   0   0   0   0   10  42  \n",
      "-------------------------------------------------------------------------\n",
      "Validation F1 score : 0.8567277198582124\n",
      "Class 0 : 0.979020979020979\n",
      "Class 1 : 0.8419452887537994\n",
      "Class 2 : 0.798941798941799\n",
      "Class 3 : 0.9540078843626807\n",
      "Class 4 : 0.8112724167378309\n",
      "Class 5 : 0.752442996742671\n",
      "Class 6 : 0.9823008849557523\n",
      "Class 7 : 0.8421052631578948\n",
      "Class 8 : 0.8\n",
      "Class 9 : 0.9315960912052117\n",
      "Class 10 : 0.8421052631578948\n",
      "Class 11 : 0.7592592592592592\n",
      "Class 12 : 0.982905982905983\n",
      "Class 13 : 0.8421052631578948\n",
      "Class 14 : 0.7894736842105263\n",
      "Class 15 : 0.9731543624161074\n",
      "Class 16 : 0.8205128205128205\n",
      "Class 17 : 0.717948717948718\n"
     ]
    },
    {
     "name": "stderr",
     "output_type": "stream",
     "text": [
      "302it [02:03,  2.27s/it]                         "
     ]
    },
    {
     "name": "stdout",
     "output_type": "stream",
     "text": [
      "model saved!\n",
      "*************************************************************************\n",
      "\n"
     ]
    },
    {
     "name": "stderr",
     "output_type": "stream",
     "text": [
      "302it [02:03,  2.44it/s]"
     ]
    },
    {
     "name": "stdout",
     "output_type": "stream",
     "text": [
      "Adjusting learning rate of group 0 to 9.0438e-05.\n",
      "Finish\n"
     ]
    },
    {
     "name": "stderr",
     "output_type": "stream",
     "text": [
      "\n"
     ]
    }
   ],
   "source": [
    "\n",
    "folder = '/opt/ml/weights/{}'.format(config['model'])\n",
    "if not os.path.exists(folder):\n",
    "    os.mkdir(folder)\n",
    "\n",
    "for epoch in range(config['epochs']):\n",
    "    print(\"Epoch :\", epoch + 1)\n",
    "    train_running_loss = 0.0\n",
    "    train_running_correct = 0\n",
    "    counter = 0\n",
    "    total = 0\n",
    "    total_it = int(len(train_indices)/train_loader.batch_size)\n",
    "    prog_bar = tqdm(enumerate(train_loader), total=total_it)\n",
    "    for i, (inputs, labels) in prog_bar:\n",
    "        \n",
    "        counter += 1\n",
    "        optimizer.zero_grad()\n",
    "        inputs = inputs.to(device)\n",
    "        labels = labels.to(device)\n",
    "        total += labels.size(0)\n",
    "    \n",
    "        outputs = model(inputs)\n",
    "        loss = cutmix_criterion(outputs, labels)\n",
    "        loss.backward()\n",
    "        optimizer.step()\n",
    "        \n",
    "        _, preds = torch.max(outputs.data, 1)\n",
    "#         train_running_correct += (preds == labels).sum().item()\n",
    "        \n",
    "        train_running_loss += loss.item()\n",
    "        \n",
    "        if i == total_it//2 or i == total_it-1:\n",
    "            train_loss = train_running_loss / counter\n",
    "#             train_accuracy = 100. * train_running_correct / total\n",
    "            \n",
    "            print(\"Train Loss :\", train_loss)\n",
    "#             print(\"Train Accuracy :\", train_accuracy)\n",
    "            wandb.log({\"Train Loss\" : train_loss})\n",
    "            check()\n",
    "    scheduler.step()\n",
    "    train_running_loss = 0.0\n",
    "    train_running_correct = 0\n",
    "print(\"Finish\")"
   ]
  },
  {
   "cell_type": "code",
   "execution_count": 57,
   "id": "9059fed9-8869-4979-afb4-e42d1069a457",
   "metadata": {},
   "outputs": [
    {
     "data": {
      "text/plain": [
       "(<All keys matched successfully>, 0.8567277198582124)"
      ]
     },
     "execution_count": 57,
     "metadata": {},
     "output_type": "execute_result"
    }
   ],
   "source": [
    "model.load_state_dict(torch.load('/opt/ml/weights/{}/{:.4f}.pt'.format(config['model'], model.best_f1))), model.best_f1\n",
    "# model.load_state_dict(torch.load('/opt/ml/weights/{}/0.9786.pt'.format(config['model'])))"
   ]
  },
  {
   "cell_type": "code",
   "execution_count": 58,
   "id": "15ca13ba-c6ec-4003-91a8-1d039d5f4184",
   "metadata": {},
   "outputs": [
    {
     "name": "stderr",
     "output_type": "stream",
     "text": [
      " 50%|█████     | 190/378 [01:06<01:04,  2.90it/s]"
     ]
    },
    {
     "name": "stdout",
     "output_type": "stream",
     "text": [
      "Train Loss : 0.07610372412283488\n"
     ]
    },
    {
     "name": "stderr",
     "output_type": "stream",
     "text": [
      "100%|██████████| 378/378 [02:11<00:00,  2.88it/s]"
     ]
    },
    {
     "name": "stdout",
     "output_type": "stream",
     "text": [
      "Train Loss : 0.09755361080169678\n"
     ]
    },
    {
     "name": "stderr",
     "output_type": "stream",
     "text": [
      "\n",
      " 50%|█████     | 190/378 [01:06<01:04,  2.89it/s]"
     ]
    },
    {
     "name": "stdout",
     "output_type": "stream",
     "text": [
      "Train Loss : 0.01965825763777241\n"
     ]
    },
    {
     "name": "stderr",
     "output_type": "stream",
     "text": [
      "100%|██████████| 378/378 [02:11<00:00,  2.88it/s]"
     ]
    },
    {
     "name": "stdout",
     "output_type": "stream",
     "text": [
      "Train Loss : 0.032710347829883066\n"
     ]
    },
    {
     "name": "stderr",
     "output_type": "stream",
     "text": [
      "\n",
      " 50%|█████     | 190/378 [01:06<01:04,  2.89it/s]"
     ]
    },
    {
     "name": "stdout",
     "output_type": "stream",
     "text": [
      "Train Loss : 0.009629146470195757\n"
     ]
    },
    {
     "name": "stderr",
     "output_type": "stream",
     "text": [
      "100%|██████████| 378/378 [02:11<00:00,  2.88it/s]"
     ]
    },
    {
     "name": "stdout",
     "output_type": "stream",
     "text": [
      "Train Loss : 0.016017476584785684\n",
      "Finish\n"
     ]
    },
    {
     "name": "stderr",
     "output_type": "stream",
     "text": [
      "\n"
     ]
    }
   ],
   "source": [
    "optimizer = optim.Adam(model.parameters(), lr=1e-4)\n",
    "\n",
    "all_dataset = TrainDataset(train_dir, transform=tfms)\n",
    "all_loader = DataLoader(all_dataset, batch_size=config['batch_size'], num_workers=4, pin_memory=True, shuffle=True)\n",
    "for epoch in range(3):\n",
    "    total_it = int(len(all_dataset)/all_loader.batch_size)\n",
    "    prog_bar = tqdm(enumerate(all_loader), total=total_it)\n",
    "    counter = 0\n",
    "    for i, (inputs, labels) in prog_bar:\n",
    "        \n",
    "        counter += 1\n",
    "        optimizer.zero_grad()\n",
    "        inputs = inputs.to(device)\n",
    "        labels = labels.to(device)\n",
    "        total += labels.size(0)\n",
    "    \n",
    "        outputs = model(inputs)\n",
    "        loss = val_criterion(outputs, labels)\n",
    "        loss.backward()\n",
    "        optimizer.step()\n",
    "        \n",
    "        _, preds = torch.max(outputs.data, 1)\n",
    "#         train_running_correct += (preds == labels).sum().item()\n",
    "        \n",
    "        train_running_loss += loss.item()\n",
    "        \n",
    "        if i == total_it//2 or i == total_it-1:\n",
    "            train_loss = train_running_loss / counter\n",
    "#             train_accuracy = 100. * train_running_correct / total\n",
    "            \n",
    "            print(\"Train Loss :\", train_loss)\n",
    "#             print(\"Train Accuracy :\", train_accuracy)\n",
    "#             wandb.log({\"Train Loss\" : train_loss})\n",
    "    train_running_loss = 0.0\n",
    "    train_running_correct = 0\n",
    "print(\"Finish\")"
   ]
  },
  {
   "cell_type": "markdown",
   "id": "continued-feelings",
   "metadata": {},
   "source": [
    "## Testing"
   ]
  },
  {
   "cell_type": "code",
   "execution_count": 59,
   "id": "coral-shade",
   "metadata": {},
   "outputs": [
    {
     "name": "stderr",
     "output_type": "stream",
     "text": [
      "197it [00:22,  8.93it/s]                         "
     ]
    },
    {
     "name": "stdout",
     "output_type": "stream",
     "text": [
      "test inference is done!\n"
     ]
    },
    {
     "name": "stderr",
     "output_type": "stream",
     "text": [
      "\n"
     ]
    }
   ],
   "source": [
    "# meta 데이터와 이미지 경로를 불러옵니다.\n",
    "submission = pd.read_csv(os.path.join(test_dir, 'info.csv'))\n",
    "image_dir = os.path.join(test_dir, 'images')\n",
    "\n",
    "# Test Dataset 클래스 객체를 생성하고 DataLoader를 만듭니다.\n",
    "image_paths = [os.path.join(image_dir, img_id) for img_id in submission.ImageID]\n",
    "dataset = TestDataset(image_paths, tfms_test)\n",
    "\n",
    "loader = DataLoader(\n",
    "    dataset,\n",
    "    shuffle=False,\n",
    "    batch_size=64,\n",
    "    num_workers=4\n",
    ")\n",
    "\n",
    "# 모델을 정의합니다. (학습한 모델이 있다면 torch.load로 모델을 불러주세요!)\n",
    "# device = torch.device('cuda')\n",
    "\n",
    "model.eval()\n",
    "device = torch.device(\"cuda:0\")\n",
    "# 모델이 테스트 데이터셋을 예측하고 결과를 저장합니다.\n",
    "all_predictions = []\n",
    "\n",
    "prog_bar = tqdm(enumerate(loader), total=int(len(dataset)/loader.batch_size))\n",
    "for i, images in prog_bar:\n",
    "    with torch.no_grad():\n",
    "        images = images.to(device)\n",
    "        pred = model(images)\n",
    "        pred = pred.argmax(dim=-1)\n",
    "        all_predictions.extend(pred.cpu().numpy())\n",
    "submission['ans'] = all_predictions\n",
    "\n",
    "# 제출할 파일을 저장합니다.\n",
    "submission.to_csv(os.path.join(test_dir, 'submission.csv'), index=False)\n",
    "print('test inference is done!')"
   ]
  },
  {
   "cell_type": "code",
   "execution_count": 63,
   "id": "01883cc5-1adf-4c19-ba4b-e53ce43575ea",
   "metadata": {},
   "outputs": [
    {
     "name": "stdout",
     "output_type": "stream",
     "text": [
      "tensor([[-2.5212, -1.3871,  0.3667, -0.8608,  4.9428,  7.4670, -1.8957, -1.8051,\n",
      "         -2.0116, -1.0986, -1.7978, -1.5596, -1.4055, -1.4194, -1.1936, -1.2841,\n",
      "         -1.1890, -1.1684]], device='cuda:0', grad_fn=<AddmmBackward>)\n",
      "Mask\n",
      "Female\n",
      "60 ~\n"
     ]
    },
    {
     "data": {
      "image/png": "[encoded data removed]",
      "text/plain": [
       "<Figure size 432x288 with 1 Axes>"
      ]
     },
     "metadata": {
      "needs_background": "light"
     },
     "output_type": "display_data"
    }
   ],
   "source": [
    "\n",
    "# meta 데이터와 이미지 경로를 불러옵니다.\n",
    "submission = pd.read_csv(os.path.join(test_dir, 'info.csv'))\n",
    "image_dir = os.path.join(test_dir, 'images')\n",
    "\n",
    "# Test Dataset 클래스 객체를 생성하고 DataLoader를 만듭니다.\n",
    "image_paths = [os.path.join(image_dir, img_id) for img_id in submission.ImageID]\n",
    "\n",
    "idx = 50\n",
    "image = cv2.imread(image_paths[idx])\n",
    "image = cv2.cvtColor(image, cv2.COLOR_BGR2RGB)\n",
    "plt.imshow(image)\n",
    "\n",
    "image = tfms_test(image=image)['image'].to(device)\n",
    "image = image.unsqueeze(0)\n",
    "pred = model(image)\n",
    "print(pred)\n",
    "label = np.argmax(pred.detach().cpu().numpy())\n",
    "#\n",
    "masklabel = {0: \"Mask\", 1: \"Incorrect\", 2: \"Normal\"}\n",
    "genderlabel = {0: \"Male\", 1: \"Female\"}\n",
    "agelabel = {0: \"~ 30\", 1: \"30 ~ 60\", 2: \"60 ~\"}\n",
    "\n",
    "feature_to_label = {}\n",
    "features = [(m, g, a) for m in ['Mask', 'Incorrect', 'Normal'] for g in ['Male', 'Female'] for a in [\"~ 30\", \"30 ~ 60\", \"60 ~\"]]\n",
    "for i, (m, g, a) in enumerate(features):\n",
    "    feature_to_label[(m, g, a)] = i\n",
    "#\n",
    "label_to_feature = { feature_to_label[k]:k for k in feature_to_label}\n",
    "m, g, a = label_to_feature[label]\n",
    "print(m)\n",
    "print(g)\n",
    "print(a)\n"
   ]
  },
  {
   "cell_type": "code",
   "execution_count": null,
   "id": "2614e887-7750-4c03-80a5-7a0a5b3fab38",
   "metadata": {},
   "outputs": [],
   "source": []
  },
  {
   "cell_type": "code",
   "execution_count": null,
   "id": "9b4efa0d-f6c8-4bf6-9a0c-8006261bb4f5",
   "metadata": {},
   "outputs": [],
   "source": []
  }
 ],
 "metadata": {
  "kernelspec": {
   "display_name": "Python 3 (ipykernel)",
   "language": "python",
   "name": "python3"
  },
  "language_info": {
   "codemirror_mode": {
    "name": "ipython",
    "version": 3
   },
   "file_extension": ".py",
   "mimetype": "text/x-python",
   "name": "python",
   "nbconvert_exporter": "python",
   "pygments_lexer": "ipython3",
   "version": "3.8.5"
  }
 },
 "nbformat": 4,
 "nbformat_minor": 5
}
