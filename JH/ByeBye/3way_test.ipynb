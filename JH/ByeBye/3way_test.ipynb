{
 "cells": [
  {
   "cell_type": "code",
   "execution_count": 5,
   "id": "35ca8228-346e-44b7-a91e-6ac8e6fa7da0",
   "metadata": {},
   "outputs": [],
   "source": [
    "import os\n",
    "import pandas as pd\n",
    "import numpy as np\n",
    "from PIL import Image\n",
    "import matplotlib.pyplot as plt\n",
    "import albumentations as A\n",
    "import albumentations.pytorch\n",
    "import cv2\n",
    "\n",
    "import torch\n",
    "import torch.nn as nn\n",
    "import torch.nn.functional as F\n",
    "from torch.utils.data import Dataset, DataLoader\n",
    "\n",
    "from torchvision import transforms\n",
    "from torchvision.transforms import Resize, ToTensor, Normalize\n",
    "from tqdm import tqdm\n",
    "\n",
    "import wandb\n",
    "\n",
    "config={\n",
    "    \"lr\": 1.8e-4,\n",
    "    \"dropout\": 0.5,\n",
    "    \"architecture\": \"Efficientb4 + 3way\",\n",
    "    \"dataset\": \"vanilla + mask\",\n",
    "    \"augmentation\" : \"None\",\n",
    "    \"age_weightedloss\" : [1.0, 1.2, 3.0],\n",
    "    \"gender_weightedloss\" : [1.4, 1.0],\n",
    "    \"gamma\" : 0.85,\n",
    "    \"batch_size\" : 64,\n",
    "    \"epochs\" : 15\n",
    "}\n",
    "\n",
    "# wandb.init(project=\"MaskClassification\", config=config)\n",
    "\n"
   ]
  },
  {
   "cell_type": "code",
   "execution_count": 6,
   "id": "eb8f33ff-a325-4a5e-95f9-27f0a0cb131c",
   "metadata": {},
   "outputs": [
    {
     "name": "stdout",
     "output_type": "stream",
     "text": [
      "CUDA GPU available : True\n",
      "1 GPU(s) is(are) allocated\n"
     ]
    }
   ],
   "source": [
    "print('CUDA GPU available : {}'.format(torch.cuda.is_available()))\n",
    "try:\n",
    "    print('{} GPU(s) is(are) allocated'.format(torch.cuda.device_count()))\n",
    "except:\n",
    "    print('GPUs are not allocated. Current runtime is on CPU.')\n",
    "device = torch.device(\"cuda\")\n",
    "CUDA_LAUNCH_BLOCKING=1"
   ]
  },
  {
   "cell_type": "code",
   "execution_count": 7,
   "id": "built-elevation",
   "metadata": {},
   "outputs": [],
   "source": [
    "# 테스트 데이터셋 폴더 경로를 지정해주세요.\n",
    "test_dir = '/opt/ml/input/data/eval'\n",
    "train_dir = '/opt/ml/input/data/train'\n",
    "\n",
    "labels_to_class = {}\n",
    "it = [(m, g, a) for m in [0,1,2] for g in [0, 1] for a in [0, 1, 2]]\n",
    "for i, (m, g, a) in enumerate(it):\n",
    "    labels_to_class[(m, g, a)] = i"
   ]
  },
  {
   "cell_type": "markdown",
   "id": "domestic-channels",
   "metadata": {},
   "source": [
    "## Dataset"
   ]
  },
  {
   "cell_type": "code",
   "execution_count": 8,
   "id": "extensive-north",
   "metadata": {},
   "outputs": [],
   "source": [
    "class TrainDataset(Dataset):\n",
    "    def __init__(self, train_dir, is_Train=True, transform=None):\n",
    "        super().__init__()\n",
    "        \n",
    "        csv_path = os.path.join(train_dir, 'train.csv')\n",
    "        csv = pd.read_csv(csv_path)\n",
    "        self.image_dir = os.path.join(train_dir, 'images')\n",
    "        self.transform = transform\n",
    "        self.image_path = []\n",
    "        path = csv['path']\n",
    "        \n",
    "        for p in path:\n",
    "            images = [os.path.join(*[self.image_dir, p, image]) for image in os.listdir(os.path.join(self.image_dir, p)) if not image[:1] == '.']\n",
    "            for image in images:\n",
    "                self.image_path.append(image)\n",
    "\n",
    "    def __len__(self):\n",
    "        return len(self.image_path)\n",
    "\n",
    "    def __getitem__(self, idx):\n",
    "        image_name = self.image_path[idx]\n",
    "        image = Image.open(image_name)\n",
    "        \n",
    "        features = image_name.split('/')[-2:]\n",
    "        \n",
    "        masktoint = {'m' : 0, 'i' : 1, 'n' : 2}\n",
    "        gendertoint = {'male' : 0, 'female' : 1}\n",
    "        \n",
    "        mask = masktoint[features[1][0]]\n",
    "        age = int(features[0].split('_')[-1])\n",
    "        gender = gendertoint[features[0].split('_')[1]]\n",
    "        \n",
    "        if age >= 58: # 원래 60\n",
    "            age = 2\n",
    "        elif age >= 30: # 원래 30\n",
    "            age = 1\n",
    "        else:\n",
    "            age = 0        \n",
    "        \n",
    "        if self.transform:\n",
    "            image = self.transform(image)\n",
    "        \n",
    "        return image, (mask, gender, age)\n",
    "\n",
    "class TestDataset(Dataset):\n",
    "    def __init__(self, img_paths, transform):\n",
    "        self.img_paths = img_paths\n",
    "        self.transform = transform\n",
    "\n",
    "    def __getitem__(self, index):\n",
    "        image = Image.open(self.img_paths[index])\n",
    "\n",
    "        if self.transform:\n",
    "            image = self.transform(image)\n",
    "        return image\n",
    "\n",
    "    def __len__(self):\n",
    "        return len(self.img_paths)"
   ]
  },
  {
   "cell_type": "code",
   "execution_count": 9,
   "id": "596e6a97-3fe9-458a-9455-ace9d7a99877",
   "metadata": {},
   "outputs": [],
   "source": [
    "from torch.utils.data.dataset import random_split\n",
    "tfms = transforms.Compose([\n",
    "#     transforms.RandomRotation(10),\n",
    "    transforms.CenterCrop((400, 360)),\n",
    "    transforms.Resize((224, 224)), \n",
    "    transforms.ToTensor(),\n",
    "    transforms.Normalize((0.5, 0.5, 0.5), (0.25, 0.25, 0.25)),\n",
    "])\n",
    "\n",
    "dataset = TrainDataset(train_dir, transform=tfms)\n",
    "train_dataset, val_dataset = random_split(dataset, [int(len(dataset)*0.8),int(len(dataset)*0.2)])\n",
    "# print(len(dataset))\n",
    "# plt.imshow(np.array(train[1][0].permute(1,2,0)))\n",
    "train_loader = DataLoader(train_dataset, batch_size=config['batch_size'], shuffle=True, num_workers=4, drop_last=False)\n",
    "val_loader   = DataLoader(dataset=val_dataset, num_workers=4, batch_size=config['batch_size'])"
   ]
  },
  {
   "cell_type": "markdown",
   "id": "21006028-25ad-4414-8bae-730a3bcc33e2",
   "metadata": {
    "tags": []
   },
   "source": [
    "## Model"
   ]
  },
  {
   "cell_type": "code",
   "execution_count": 10,
   "id": "a3174fa2-72d4-475b-bffd-ad23c4669521",
   "metadata": {},
   "outputs": [
    {
     "name": "stdout",
     "output_type": "stream",
     "text": [
      "Loaded pretrained weights for efficientnet-b4\n"
     ]
    }
   ],
   "source": [
    "from efficientnet_pytorch import EfficientNet\n",
    "\n",
    "class Way3(nn.Module):\n",
    "    def __init__(self):\n",
    "        super().__init__()\n",
    "        self.convnet = EfficientNet.from_pretrained('efficientnet-b4', num_classes=512).to(device)\n",
    "        self.mask = nn.Sequential(\n",
    "            nn.LeakyReLU(),\n",
    "            nn.Dropout(p=config['dropout'], inplace=False),\n",
    "            nn.Linear(512, 128),\n",
    "            nn.LeakyReLU(),\n",
    "            nn.Dropout(p=config['dropout'], inplace=False),\n",
    "            nn.Linear(128, 3),\n",
    "            nn.Softmax(dim=1)\n",
    "        )\n",
    "        self.gender = nn.Sequential(\n",
    "            nn.LeakyReLU(),\n",
    "            nn.Dropout(p=config['dropout'], inplace=False),\n",
    "            nn.Linear(512, 128),\n",
    "            nn.LeakyReLU(),\n",
    "            nn.Dropout(p=config['dropout'], inplace=False),\n",
    "            nn.Linear(128, 2),\n",
    "            nn.Softmax(dim=1)\n",
    "        )\n",
    "        self.age = nn.Sequential(\n",
    "            nn.LeakyReLU(),\n",
    "            nn.Dropout(p=config['dropout'], inplace=False),\n",
    "            nn.Linear(512, 128),\n",
    "            nn.LeakyReLU(),\n",
    "            nn.Dropout(p=config['dropout'], inplace=False),\n",
    "            nn.Linear(128, 3),\n",
    "            nn.Softmax(dim=1)\n",
    "        )\n",
    "        self.best_f1 = 0\n",
    "        \n",
    "    def forward(self, x):\n",
    "        features = self.convnet(x)\n",
    "        mask = self.mask(features)\n",
    "        gender = self.gender(features)\n",
    "        age = self.age(features)\n",
    "        \n",
    "        return mask, gender, age\n",
    "    \n",
    "model = Way3().to(device)"
   ]
  },
  {
   "cell_type": "code",
   "execution_count": 7,
   "id": "f4b1aa9f-2fa1-417f-9e3e-7f160fef7d4c",
   "metadata": {},
   "outputs": [
    {
     "name": "stdout",
     "output_type": "stream",
     "text": [
      "Adjusting learning rate of group 0 to 2.0000e-04.\n"
     ]
    }
   ],
   "source": [
    "import torch.optim as optim \n",
    "\n",
    "gender_weight = torch.tensor(config[\"gender_weightedloss\"])\n",
    "age_weight = torch.tensor(config[\"age_weightedloss\"])\n",
    "                             \n",
    "criterion = nn.CrossEntropyLoss()\n",
    "gender_criterion = nn.CrossEntropyLoss(weight=gender_weight).to(device)\n",
    "age_criterion = nn.CrossEntropyLoss(weight=age_weight).to(device)\n",
    "# b_criterion = nn.BCEWithLogitsLoss()\n",
    "# criterion = FocalLoss()\n",
    "optimizer = optim.Adam(model.parameters(), lr=config['lr'])\n",
    "scheduler = optim.lr_scheduler.StepLR(optimizer, step_size=1, gamma=config['gamma'], verbose=True)"
   ]
  },
  {
   "cell_type": "code",
   "execution_count": 8,
   "id": "84d269a9-9771-4364-a927-b06cf5ac86e6",
   "metadata": {},
   "outputs": [],
   "source": [
    "from sklearn.metrics import accuracy_score\n",
    "from sklearn.metrics import confusion_matrix\n",
    "\n",
    "def check(loader, length, model, device):\n",
    "    model.eval()\n",
    "    val_loss = 0.0\n",
    "    counter = 0\n",
    "    y_true = []\n",
    "    y_predicted = []\n",
    "[0.5 0.3 0.2] [0]\n",
    "    m_acc = []\n",
    "    g_acc = []\n",
    "    a_acc = []\n",
    "    with torch.no_grad():\n",
    "        for (inputs, (m, g, a)) in val_loader:\n",
    "            counter += 1\n",
    "            \n",
    "            for mask, gender, age in zip(m, g, a):\n",
    "                answer = labels_to_class[(mask.item(), gender.item(), age.item())]\n",
    "                y_true.append(answer)\n",
    "            \n",
    "            inputs = inputs.to(device=device)\n",
    "            m = m.to(device)\n",
    "            g = g.to(device)\n",
    "            a = a.to(device)\n",
    "\n",
    "            m_pred, g_pred, a_pred = model(inputs)\n",
    "    \n",
    "            m_loss = criterion(m_pred, m)\n",
    "            g_loss = gender_criterion(g_pred, g)\n",
    "            a_loss = age_criterion(a_pred, a) # data imbalance\n",
    "            \n",
    "            loss = (g_loss+a_loss+m_loss)\n",
    "            \n",
    "            val_loss += loss.item()\n",
    "            \n",
    "            m_argmax = m_pred.detach().cpu().numpy().argmax(1)\n",
    "            g_argmax = g_pred.detach().cpu().numpy().argmax(1)\n",
    "            a_argmax = a_pred.detach().cpu().numpy().argmax(1)\n",
    "\n",
    "            m_acc.append(accuracy_score(m_argmax, m.detach().cpu().numpy()))\n",
    "            g_acc.append(accuracy_score(g_argmax, g.detach().cpu().numpy()))\n",
    "            a_acc.append(accuracy_score(a_argmax, a.detach().cpu().numpy()))\n",
    "\n",
    "            for mask, gender, age in zip(m_argmax, g_argmax, a_argmax):\n",
    "                predicted = labels_to_class[(mask.item(), gender.item(), age.item())]\n",
    "                y_predicted.append(predicted)\n",
    "    \n",
    "    \n",
    "    cm = confusion_matrix(y_true, y_predicted)\n",
    "    F1 = []\n",
    "    for c in range(18):\n",
    "        precision = cm[c][c] / np.sum(cm, axis=0)[c]\n",
    "        recall = cm[c][c] / np.sum(cm, axis=1)[c]\n",
    "        F1.append(2 * precision * recall / (precision + recall))\n",
    "    macro_F1 = np.mean(F1)\n",
    "\n",
    "    s = 0\n",
    "    for c in range(18):\n",
    "        s += cm[c][c]\n",
    "        \n",
    "    print(\"< VALIDATION >\")\n",
    "    print(\"*\"*73)\n",
    "    print(\"Validation Loss :\", val_loss/counter)\n",
    "    print(\"-\"*73)\n",
    "    print(\"Total Accuracy\")\n",
    "    print(s / length * 100, \"%\")\n",
    "    print(\"-\"*73)\n",
    "    print(\"Class Accuracy\")\n",
    "    print(\"Mask   :\", np.mean(m_acc)*100, \"%\")\n",
    "    print(\"Gender :\", np.mean(g_acc)*100, \"%\")\n",
    "    print(\"Age    :\", np.mean(a_acc)*100, \"%\")\n",
    "    print(\"-\"*73)\n",
    "    print(\"Confusion Matrix\")\n",
    "    for row in cm:\n",
    "        print(row)\n",
    "    print(\"-\"*73)\n",
    "    print(\"Validation F1 score :\" , macro_F1)\n",
    "    if model.best_f1 < macro_F1:\n",
    "        model.best_f1 = macro_F1\n",
    "        torch.save(model.state_dict(), '/opt/ml/weights/3way_age/Aug_{}.pt'.format(model.best_f1))\n",
    "        print(\"model saved!\")\n",
    "    print(\"*\"*73)\n",
    "    print()\n",
    "    wandb.log({\n",
    "        \"Validation Loss\" : val_loss/counter, \n",
    "        \"Validation Total Accuracy\" : s / length *100, \n",
    "        \"Validation F1\" : macro_F1,\n",
    "        \"Mask Accuracy\" : np.mean(m_acc)*100,\n",
    "        \"Gender Accuracy\" : np.mean(g_acc)*100,\n",
    "        \"Age Accuracy\" : np.mean(a_acc)*100,\n",
    "    })\n",
    "        \n",
    "    model.train()"
   ]
  },
  {
   "cell_type": "code",
   "execution_count": 9,
   "id": "6c9ce6db-56eb-4d50-8793-5caa75b7bec6",
   "metadata": {},
   "outputs": [
    {
     "name": "stdout",
     "output_type": "stream",
     "text": [
      "Epoch : 1\n"
     ]
    },
    {
     "name": "stderr",
     "output_type": "stream",
     "text": [
      " 50%|█████     | 253/506 [01:53<01:51,  2.27it/s]"
     ]
    },
    {
     "name": "stdout",
     "output_type": "stream",
     "text": [
      "Loss : 1.8989402055740356\n"
     ]
    },
    {
     "name": "stderr",
     "output_type": "stream",
     "text": [
      " 50%|█████     | 254/506 [02:08<20:59,  5.00s/it]"
     ]
    },
    {
     "name": "stdout",
     "output_type": "stream",
     "text": [
      "< VALIDATION >\n",
      "Total Accuracy\n",
      "85.1604938271605 %\n",
      "-------------------------------------------------------------------------\n",
      "Class Accuracy\n",
      "Mask   : 99.34793307086615 %\n",
      "Gender : 98.70816929133859 %\n",
      "Age    : 86.80008748906387 %\n",
      "-------------------------------------------------------------------------\n",
      "Confusion Matrix\n",
      "[524  26   0  15   5   0   1   0   0   0   0   0   0   0   0   0   0   0]\n",
      "[ 10 269  32   0   4   0   0   0   0   0   0   0   0   0   0   0   0   0]\n",
      "[  0  48 113   0   0   0   0   0   1   0   0   0   0   0   0   0   0   0]\n",
      "[  3   1   0 658  72   0   0   0   0   3   0   0   0   0   0   0   0   0]\n",
      "[  0   1   0   5 571  46   0   0   0   0   0   0   0   0   0   0   0   0]\n",
      "[  0   0   0   0  77 186   0   0   0   0   0   0   0   0   0   0   0   0]\n",
      "[  8   0   0   0   0   0 548  10   0   3   5   0   0   0   0   0   0   0]\n",
      "[  0   6   0   0   0   0  14 193  72   0  14   1   0   0   0   0   0   0]\n",
      "[  0   0   0   0   0   0   0  42 153   0   2   2   0   0   0   0   0   0]\n",
      "[  0   0   0   4   0   0   5   1   0 675  35   0   0   0   0   0   0   0]\n",
      "[  0   0   0   0  10   1   0   0   0   8 604  59   0   0   0   0   0   0]\n",
      "[  0   0   0   0   2   7   0   1   1   0  70 178   0   0   0   0   0   2]\n",
      "[  0   0   0   0   0   0   0   0   0   0   0   0 513   2   0  11   0   0]\n",
      "[  0   0   0   0   0   0   0   0   0   0   0   0  34 168 108   4  17   0]\n",
      "[  0   0   0   0   0   0   0   0   8   0   0   0   1  25 137   0   0   0]\n",
      "[  0   0   0   0   0   0   0   0   0   0   0   0   6   1   0 711   7   0]\n",
      "[  0   0   0   0   0   0   0   0   0   0   0   0   1   0   0  61 624  14]\n",
      "[  0   0   0   0   0   0   0   0   0   0   0   0   0   0   1   0 166  73]\n",
      "-------------------------------------------------------------------------\n",
      "Validation F1 score : 0.7963475412624029\n",
      "model saved!\n",
      "*************************************************************************\n",
      "\n"
     ]
    },
    {
     "name": "stderr",
     "output_type": "stream",
     "text": [
      "100%|█████████▉| 505/506 [03:59<00:00,  2.27it/s]"
     ]
    },
    {
     "name": "stdout",
     "output_type": "stream",
     "text": [
      "Loss : 1.749837015928487\n"
     ]
    },
    {
     "name": "stderr",
     "output_type": "stream",
     "text": [
      "100%|██████████| 506/506 [04:14<00:00,  4.97s/it]"
     ]
    },
    {
     "name": "stdout",
     "output_type": "stream",
     "text": [
      "< VALIDATION >\n",
      "Total Accuracy\n",
      "87.4074074074074 %\n",
      "-------------------------------------------------------------------------\n",
      "Class Accuracy\n",
      "Mask   : 99.79084645669292 %\n",
      "Gender : 97.50246062992126 %\n",
      "Age    : 89.8649387576553 %\n",
      "-------------------------------------------------------------------------\n",
      "Confusion Matrix\n",
      "[549  15   0   5   0   0   0   1   0   0   0   0   1   0   0   0   0   0]\n",
      "[ 18 236  61   0   0   0   0   0   0   0   0   0   0   0   0   0   0   0]\n",
      "[  0  17 145   0   0   0   0   0   0   0   0   0   0   0   0   0   0   0]\n",
      "[ 14   0   0 711  10   0   0   0   0   2   0   0   0   0   0   0   0   0]\n",
      "[  1  24   0  28 513  56   0   0   0   0   1   0   0   0   0   0   0   0]\n",
      "[  0   1   3   0  50 209   0   0   0   0   0   0   0   0   0   0   0   0]\n",
      "[  2   0   0   0   0   0 567   4   0   1   0   0   0   0   0   0   0   0]\n",
      "[  0   2   0   0   0   0  15 264  19   0   0   0   0   0   0   0   0   0]\n",
      "[  0   0   0   0   0   0   0  68 131   0   0   0   0   0   0   0   0   0]\n",
      "[  0   0   0   3   0   0  35   1   0 678   3   0   0   0   0   0   0   0]\n",
      "[  0   0   0   0   3   0   6  43   0  39 535  56   0   0   0   0   0   0]\n",
      "[  0   0   0   0   0   2   0   2   1   0  43 213   0   0   0   0   0   0]\n",
      "[  0   0   0   0   0   0   0   0   0   0   0   0 523   2   0   1   0   0]\n",
      "[  0   0   0   0   0   0   0   0   0   0   0   0  16 241  68   2   4   0]\n",
      "[  0   0   0   0   0   0   0   0   0   0   0   0   0  25 143   0   0   3]\n",
      "[  0   0   0   0   0   0   0   0   0   0   0   0  36   1   0 686   2   0]\n",
      "[  0   0   0   0   0   0   0   0   0   0   0   0   6  11   0  62 547  74]\n",
      "[  0   0   0   0   0   0   0   0   0   0   0   0   0   2   0   1  48 189]\n",
      "-------------------------------------------------------------------------\n",
      "Validation F1 score : 0.8425295528841111\n",
      "model saved!\n",
      "*************************************************************************\n",
      "\n"
     ]
    },
    {
     "name": "stderr",
     "output_type": "stream",
     "text": [
      "507it [04:15,  1.99it/s]                         "
     ]
    },
    {
     "name": "stdout",
     "output_type": "stream",
     "text": [
      "Adjusting learning rate of group 0 to 1.6000e-04.\n",
      "Epoch : 2\n"
     ]
    },
    {
     "name": "stderr",
     "output_type": "stream",
     "text": [
      "\n",
      " 50%|█████     | 253/506 [01:52<01:52,  2.24it/s]"
     ]
    },
    {
     "name": "stdout",
     "output_type": "stream",
     "text": [
      "Loss : 1.54203914094159\n"
     ]
    },
    {
     "name": "stderr",
     "output_type": "stream",
     "text": [
      " 50%|█████     | 254/506 [02:07<20:50,  4.96s/it]"
     ]
    },
    {
     "name": "stdout",
     "output_type": "stream",
     "text": [
      "< VALIDATION >\n",
      "Total Accuracy\n",
      "90.5925925925926 %\n",
      "-------------------------------------------------------------------------\n",
      "Class Accuracy\n",
      "Mask   : 99.72933070866141 %\n",
      "Gender : 99.37253937007874 %\n",
      "Age    : 91.45751312335958 %\n",
      "-------------------------------------------------------------------------\n",
      "Confusion Matrix\n",
      "[557  10   0   4   0   0   0   0   0   0   0   0   0   0   0   0   0   0]\n",
      "[ 10 262  39   0   0   0   0   4   0   0   0   0   0   0   0   0   0   0]\n",
      "[  0  19 143   0   0   0   0   0   0   0   0   0   0   0   0   0   0   0]\n",
      "[  6   0   0 715  16   0   0   0   0   0   0   0   0   0   0   0   0   0]\n",
      "[  0   1   0   2 572  44   0   0   0   0   4   0   0   0   0   0   0   0]\n",
      "[  0   0   1   0  31 229   0   0   0   0   0   2   0   0   0   0   0   0]\n",
      "[  3   0   0   0   0   0 565   3   0   3   0   0   0   0   0   0   0   0]\n",
      "[  0   2   0   0   0   0  11 207  80   0   0   0   0   0   0   0   0   0]\n",
      "[  0   0   0   0   0   0   0  11 188   0   0   0   0   0   0   0   0   0]\n",
      "[  0   0   0   2   0   0   6   0   0 708   4   0   0   0   0   0   0   0]\n",
      "[  0   0   0   0   4   0   0   7   1  27 586  57   0   0   0   0   0   0]\n",
      "[  0   0   0   0   0   1   0   0   0   0  33 227   0   0   0   0   0   0]\n",
      "[  0   0   0   0   0   0   0   0   0   0   0   0 512   8   1   5   0   0]\n",
      "[  0   0   0   0   0   0   0   0   0   0   0   0   9 186 133   0   3   0]\n",
      "[  0   0   0   0   0   0   0   0   0   0   0   0   0   6 165   0   0   0]\n",
      "[  0   0   0   0   0   0   0   0   0   0   0   0   4   1   0 710  10   0]\n",
      "[  0   0   0   0   0   0   0   0   0   0   0   0   0   7   1  13 598  81]\n",
      "[  0   0   0   0   0   0   0   0   0   0   0   0   0   0   1   0  31 208]\n",
      "-------------------------------------------------------------------------\n",
      "Validation F1 score : 0.8714039388487994\n",
      "model saved!\n",
      "*************************************************************************\n",
      "\n"
     ]
    },
    {
     "name": "stderr",
     "output_type": "stream",
     "text": [
      "100%|█████████▉| 505/506 [03:59<00:00,  2.26it/s]"
     ]
    },
    {
     "name": "stdout",
     "output_type": "stream",
     "text": [
      "Loss : 1.5322466447890513\n"
     ]
    },
    {
     "name": "stderr",
     "output_type": "stream",
     "text": [
      "100%|██████████| 506/506 [04:14<00:00,  4.95s/it]"
     ]
    },
    {
     "name": "stdout",
     "output_type": "stream",
     "text": [
      "< VALIDATION >\n",
      "Total Accuracy\n",
      "92.54320987654322 %\n",
      "-------------------------------------------------------------------------\n",
      "Class Accuracy\n",
      "Mask   : 99.76624015748031 %\n",
      "Gender : 99.59399606299213 %\n",
      "Age    : 93.16491688538933 %\n",
      "-------------------------------------------------------------------------\n",
      "Confusion Matrix\n",
      "[564   1   0   6   0   0   0   0   0   0   0   0   0   0   0   0   0   0]\n",
      "[ 12 296   7   0   0   0   0   0   0   0   0   0   0   0   0   0   0   0]\n",
      "[  0  27 135   0   0   0   0   0   0   0   0   0   0   0   0   0   0   0]\n",
      "[  4   0   0 732   1   0   0   0   0   0   0   0   0   0   0   0   0   0]\n",
      "[  0   0   0  34 574  15   0   0   0   0   0   0   0   0   0   0   0   0]\n",
      "[  0   0   0   0  49 212   0   0   0   0   0   2   0   0   0   0   0   0]\n",
      "[  4   0   0   0   0   0 568   0   0   2   0   0   0   0   0   0   0   0]\n",
      "[  1   2   0   0   0   0  17 254  24   1   1   0   0   0   0   0   0   0]\n",
      "[  0   0   0   0   0   0   0  33 166   0   0   0   0   0   0   0   0   0]\n",
      "[  0   0   0   4   0   0   3   0   0 710   3   0   0   0   0   0   0   0]\n",
      "[  0   0   0   0   2   0   0   1   0  33 598  48   0   0   0   0   0   0]\n",
      "[  0   0   0   0   0   0   0   0   0   0  71 190   0   0   0   0   0   0]\n",
      "[  0   0   0   0   0   0   0   0   0   0   0   0 525   0   0   1   0   0]\n",
      "[  0   0   0   0   0   0   0   0   0   0   0   0  17 269  40   0   5   0]\n",
      "[  0   0   0   0   0   0   0   0   0   0   0   0   0  20 151   0   0   0]\n",
      "[  0   0   0   0   0   0   0   0   0   0   0   0   8   0   0 712   5   0]\n",
      "[  0   0   0   0   0   0   0   0   0   0   0   0   0   0   0  19 663  18]\n",
      "[  0   0   0   0   0   0   0   0   0   0   0   4   0   0   1   0  58 177]\n",
      "-------------------------------------------------------------------------\n",
      "Validation F1 score : 0.9017581473943943\n",
      "model saved!\n",
      "*************************************************************************\n",
      "\n"
     ]
    },
    {
     "name": "stderr",
     "output_type": "stream",
     "text": [
      "507it [04:14,  1.99it/s]                         "
     ]
    },
    {
     "name": "stdout",
     "output_type": "stream",
     "text": [
      "Adjusting learning rate of group 0 to 1.2800e-04.\n",
      "Epoch : 3\n"
     ]
    },
    {
     "name": "stderr",
     "output_type": "stream",
     "text": [
      "\n",
      " 50%|█████     | 253/506 [01:52<01:51,  2.26it/s]"
     ]
    },
    {
     "name": "stdout",
     "output_type": "stream",
     "text": [
      "Loss : 1.48648675032488\n"
     ]
    },
    {
     "name": "stderr",
     "output_type": "stream",
     "text": [
      " 50%|█████     | 254/506 [02:07<20:41,  4.93s/it]"
     ]
    },
    {
     "name": "stdout",
     "output_type": "stream",
     "text": [
      "< VALIDATION >\n",
      "Total Accuracy\n",
      "95.4074074074074 %\n",
      "-------------------------------------------------------------------------\n",
      "Class Accuracy\n",
      "Mask   : 99.8892716535433 %\n",
      "Gender : 99.48326771653542 %\n",
      "Age    : 96.0288167104112 %\n",
      "-------------------------------------------------------------------------\n",
      "Confusion Matrix\n",
      "[564   3   0   3   0   0   1   0   0   0   0   0   0   0   0   0   0   0]\n",
      "[ 10 287  17   0   0   0   0   1   0   0   0   0   0   0   0   0   0   0]\n",
      "[  0   8 154   0   0   0   0   0   0   0   0   0   0   0   0   0   0   0]\n",
      "[  5   0   0 725   6   0   0   0   0   1   0   0   0   0   0   0   0   0]\n",
      "[  0   1   0   8 588  26   0   0   0   0   0   0   0   0   0   0   0   0]\n",
      "[  0   0   0   0  19 243   0   0   0   0   0   1   0   0   0   0   0   0]\n",
      "[  2   0   0   0   0   0 571   0   0   1   0   0   0   0   0   0   0   0]\n",
      "[  0   1   0   0   0   0   9 262  28   0   0   0   0   0   0   0   0   0]\n",
      "[  0   0   0   0   0   0   0  14 185   0   0   0   0   0   0   0   0   0]\n",
      "[  0   0   0   0   0   0   7   0   0 708   5   0   0   0   0   0   0   0]\n",
      "[  0   0   0   0   1   0   1  13   0  13 621  33   0   0   0   0   0   0]\n",
      "[  0   0   0   0   0   1   0   0   1   0  14 245   0   0   0   0   0   0]\n",
      "[  0   0   0   0   0   0   0   0   0   0   0   0 521   1   0   4   0   0]\n",
      "[  0   0   0   0   0   0   0   0   0   0   0   0   9 288  32   0   2   0]\n",
      "[  0   0   0   0   0   0   0   0   0   0   0   0   0   8 163   0   0   0]\n",
      "[  0   0   0   0   0   0   0   0   0   0   0   0   3   0   0 716   6   0]\n",
      "[  0   0   0   0   0   0   0   0   0   0   0   0   0   0   0   7 676  17]\n",
      "[  0   0   0   0   0   0   0   0   0   0   0   0   0   0   1   0  28 211]\n",
      "-------------------------------------------------------------------------\n",
      "Validation F1 score : 0.9396295851981881\n",
      "model saved!\n",
      "*************************************************************************\n",
      "\n"
     ]
    },
    {
     "name": "stderr",
     "output_type": "stream",
     "text": [
      "100%|█████████▉| 505/506 [03:58<00:00,  2.26it/s]"
     ]
    },
    {
     "name": "stdout",
     "output_type": "stream",
     "text": [
      "Loss : 1.4813267911375747\n"
     ]
    },
    {
     "name": "stderr",
     "output_type": "stream",
     "text": [
      "100%|██████████| 506/506 [04:14<00:00,  4.97s/it]"
     ]
    },
    {
     "name": "stdout",
     "output_type": "stream",
     "text": [
      "< VALIDATION >\n",
      "Total Accuracy\n",
      "95.91358024691358 %\n",
      "-------------------------------------------------------------------------\n",
      "Class Accuracy\n",
      "Mask   : 99.81545275590551 %\n",
      "Gender : 99.58169291338582 %\n",
      "Age    : 96.51137357830271 %\n",
      "-------------------------------------------------------------------------\n",
      "Confusion Matrix\n",
      "[567   0   0   3   0   0   1   0   0   0   0   0   0   0   0   0   0   0]\n",
      "[ 10 295   9   0   0   0   0   1   0   0   0   0   0   0   0   0   0   0]\n",
      "[  0   9 153   0   0   0   0   0   0   0   0   0   0   0   0   0   0   0]\n",
      "[  3   0   0 719  14   0   0   0   0   1   0   0   0   0   0   0   0   0]\n",
      "[  0   0   0   1 610  10   0   0   0   0   2   0   0   0   0   0   0   0]\n",
      "[  0   0   1   0  21 237   0   0   0   0   0   4   0   0   0   0   0   0]\n",
      "[  2   0   0   0   0   0 568   3   0   1   0   0   0   0   0   0   0   0]\n",
      "[  0   2   0   0   0   0   8 266  24   0   0   0   0   0   0   0   0   0]\n",
      "[  0   0   0   0   0   0   0   4 195   0   0   0   0   0   0   0   0   0]\n",
      "[  0   0   0   0   0   0   3   0   0 707  10   0   0   0   0   0   0   0]\n",
      "[  0   0   0   0   0   0   0   4   0   2 640  36   0   0   0   0   0   0]\n",
      "[  0   0   0   0   0   2   0   0   3   0  12 244   0   0   0   0   0   0]\n",
      "[  0   0   0   0   0   0   0   0   0   0   0   0 525   0   0   1   0   0]\n",
      "[  0   0   0   0   0   0   0   0   0   0   0   0   9 295  25   0   2   0]\n",
      "[  0   0   0   0   0   0   0   0   0   0   0   0   0   8 163   0   0   0]\n",
      "[  0   0   0   0   0   0   0   0   0   0   0   0   6   0   0 705  14   0]\n",
      "[  0   0   0   0   0   0   0   0   0   0   0   0   0   2   0   4 656  38]\n",
      "[  0   0   0   0   0   0   0   0   0   0   0   0   0   0   5   0  11 224]\n",
      "-------------------------------------------------------------------------\n",
      "Validation F1 score : 0.9469788351570627\n",
      "model saved!\n",
      "*************************************************************************\n",
      "\n"
     ]
    },
    {
     "name": "stderr",
     "output_type": "stream",
     "text": [
      "507it [04:14,  1.99it/s]                         "
     ]
    },
    {
     "name": "stdout",
     "output_type": "stream",
     "text": [
      "Adjusting learning rate of group 0 to 1.0240e-04.\n",
      "Epoch : 4\n"
     ]
    },
    {
     "name": "stderr",
     "output_type": "stream",
     "text": [
      "\n",
      " 50%|█████     | 253/506 [01:52<01:51,  2.26it/s]"
     ]
    },
    {
     "name": "stdout",
     "output_type": "stream",
     "text": [
      "Loss : 1.462945081117585\n"
     ]
    },
    {
     "name": "stderr",
     "output_type": "stream",
     "text": [
      " 50%|█████     | 254/506 [02:07<20:50,  4.96s/it]"
     ]
    },
    {
     "name": "stdout",
     "output_type": "stream",
     "text": [
      "< VALIDATION >\n",
      "Total Accuracy\n",
      "96.8395061728395 %\n",
      "-------------------------------------------------------------------------\n",
      "Class Accuracy\n",
      "Mask   : 99.8892716535433 %\n",
      "Gender : 99.74163385826772 %\n",
      "Age    : 97.17574365704287 %\n",
      "-------------------------------------------------------------------------\n",
      "Confusion Matrix\n",
      "[566   0   0   4   0   0   1   0   0   0   0   0   0   0   0   0   0   0]\n",
      "[ 12 286  15   0   1   0   0   1   0   0   0   0   0   0   0   0   0   0]\n",
      "[  0   6 156   0   0   0   0   0   0   0   0   0   0   0   0   0   0   0]\n",
      "[  3   0   0 730   3   0   0   0   0   1   0   0   0   0   0   0   0   0]\n",
      "[  0   0   0   4 611   8   0   0   0   0   0   0   0   0   0   0   0   0]\n",
      "[  0   0   0   0  23 240   0   0   0   0   0   0   0   0   0   0   0   0]\n",
      "[  2   0   0   0   0   0 568   2   0   2   0   0   0   0   0   0   0   0]\n",
      "[  0   1   0   0   0   0   7 266  25   1   0   0   0   0   0   0   0   0]\n",
      "[  0   0   0   0   0   0   0   4 195   0   0   0   0   0   0   0   0   0]\n",
      "[  0   0   0   0   0   0   1   0   0 710   9   0   0   0   0   0   0   0]\n",
      "[  0   0   0   0   3   0   0   0   1   1 664  13   0   0   0   0   0   0]\n",
      "[  0   0   0   0   0   0   0   0   0   0  13 248   0   0   0   0   0   0]\n",
      "[  0   0   0   0   0   0   0   0   0   0   0   0 525   0   0   1   0   0]\n",
      "[  0   0   0   0   0   0   0   0   0   0   0   0  10 299  18   0   4   0]\n",
      "[  0   0   0   0   0   0   0   0   0   0   0   0   0   7 164   0   0   0]\n",
      "[  0   0   0   0   0   0   0   0   0   0   0   0   2   0   0 715   8   0]\n",
      "[  0   0   0   0   0   0   0   0   0   0   0   0   0   0   0   4 687   9]\n",
      "[  0   0   0   0   0   0   0   0   0   0   0   0   0   0   1   0  25 214]\n",
      "-------------------------------------------------------------------------\n",
      "Validation F1 score : 0.9578387327722854\n",
      "model saved!\n",
      "*************************************************************************\n",
      "\n"
     ]
    },
    {
     "name": "stderr",
     "output_type": "stream",
     "text": [
      "100%|█████████▉| 505/506 [03:58<00:00,  2.27it/s]"
     ]
    },
    {
     "name": "stdout",
     "output_type": "stream",
     "text": [
      "Loss : 1.4584506818428342\n"
     ]
    },
    {
     "name": "stderr",
     "output_type": "stream",
     "text": [
      "100%|██████████| 506/506 [04:14<00:00,  4.87s/it]"
     ]
    },
    {
     "name": "stdout",
     "output_type": "stream",
     "text": [
      "< VALIDATION >\n",
      "Total Accuracy\n",
      "96.92592592592592 %\n",
      "-------------------------------------------------------------------------\n",
      "Class Accuracy\n",
      "Mask   : 99.8892716535433 %\n",
      "Gender : 99.66781496062993 %\n",
      "Age    : 97.35755686789152 %\n",
      "-------------------------------------------------------------------------\n",
      "Confusion Matrix\n",
      "[566   2   0   3   0   0   0   0   0   0   0   0   0   0   0   0   0   0]\n",
      "[ 12 297   4   0   1   0   0   1   0   0   0   0   0   0   0   0   0   0]\n",
      "[  0  18 144   0   0   0   0   0   0   0   0   0   0   0   0   0   0   0]\n",
      "[  3   0   0 731   1   0   0   0   0   2   0   0   0   0   0   0   0   0]\n",
      "[  0   0   0  16 601   6   0   0   0   0   0   0   0   0   0   0   0   0]\n",
      "[  0   0   0   0  13 249   0   0   0   0   0   1   0   0   0   0   0   0]\n",
      "[  2   0   0   0   0   0 561   5   0   6   0   0   0   0   0   0   0   0]\n",
      "[  0   2   0   0   0   0   6 281  10   1   0   0   0   0   0   0   0   0]\n",
      "[  0   0   0   0   0   0   0  14 185   0   0   0   0   0   0   0   0   0]\n",
      "[  0   0   0   0   0   0   1   0   0 718   1   0   0   0   0   0   0   0]\n",
      "[  0   0   0   0   1   0   0   1   0   2 671   7   0   0   0   0   0   0]\n",
      "[  0   0   0   0   0   0   0   0   0   0  11 250   0   0   0   0   0   0]\n",
      "[  0   0   0   0   0   0   0   0   0   0   0   0 523   2   0   1   0   0]\n",
      "[  0   0   0   0   0   0   0   0   0   0   0   0   8 314   6   0   3   0]\n",
      "[  0   0   0   0   0   0   0   0   0   0   0   0   0  30 141   0   0   0]\n",
      "[  0   0   0   0   0   0   0   0   0   0   0   0   3   0   0 716   6   0]\n",
      "[  0   0   0   0   0   0   0   0   0   0   0   0   0   3   0   0 692   5]\n",
      "[  0   0   0   0   0   0   0   0   0   0   0   0   0   0   1   0  28 211]\n",
      "-------------------------------------------------------------------------\n",
      "Validation F1 score : 0.957491905759407\n",
      "*************************************************************************\n",
      "\n"
     ]
    },
    {
     "name": "stderr",
     "output_type": "stream",
     "text": [
      "507it [04:14,  1.99it/s]                         "
     ]
    },
    {
     "name": "stdout",
     "output_type": "stream",
     "text": [
      "Adjusting learning rate of group 0 to 8.1920e-05.\n",
      "Epoch : 5\n"
     ]
    },
    {
     "name": "stderr",
     "output_type": "stream",
     "text": [
      "\n",
      " 50%|█████     | 253/506 [01:52<01:51,  2.27it/s]"
     ]
    },
    {
     "name": "stdout",
     "output_type": "stream",
     "text": [
      "Loss : 1.4455527353474473\n"
     ]
    },
    {
     "name": "stderr",
     "output_type": "stream",
     "text": [
      " 50%|█████     | 254/506 [02:07<20:38,  4.92s/it]"
     ]
    },
    {
     "name": "stdout",
     "output_type": "stream",
     "text": [
      "< VALIDATION >\n",
      "Total Accuracy\n",
      "97.81481481481481 %\n",
      "-------------------------------------------------------------------------\n",
      "Class Accuracy\n",
      "Mask   : 99.87696850393701 %\n",
      "Gender : 99.76624015748031 %\n",
      "Age    : 98.1599956255468 %\n",
      "-------------------------------------------------------------------------\n",
      "Confusion Matrix\n",
      "[569   0   0   2   0   0   0   0   0   0   0   0   0   0   0   0   0   0]\n",
      "[  8 299   6   0   1   0   0   1   0   0   0   0   0   0   0   0   0   0]\n",
      "[  0   6 156   0   0   0   0   0   0   0   0   0   0   0   0   0   0   0]\n",
      "[  3   0   0 731   1   0   0   0   0   2   0   0   0   0   0   0   0   0]\n",
      "[  0   3   0   3 591  23   0   0   0   0   3   0   0   0   0   0   0   0]\n",
      "[  0   0   1   0   6 255   0   0   0   0   0   1   0   0   0   0   0   0]\n",
      "[  2   0   0   0   0   0 571   0   0   1   0   0   0   0   0   0   0   0]\n",
      "[  0   1   0   0   0   0   8 276  15   0   0   0   0   0   0   0   0   0]\n",
      "[  0   0   0   0   0   0   0   2 197   0   0   0   0   0   0   0   0   0]\n",
      "[  0   0   0   0   0   0   1   0   0 718   1   0   0   0   0   0   0   0]\n",
      "[  0   0   0   0   0   0   0   0   0   1 675   6   0   0   0   0   0   0]\n",
      "[  0   0   0   0   0   0   0   0   0   0   9 252   0   0   0   0   0   0]\n",
      "[  0   0   0   0   0   0   0   0   0   0   0   0 525   0   0   1   0   0]\n",
      "[  0   0   0   0   0   0   0   0   0   0   0   0   8 310  10   0   3   0]\n",
      "[  0   0   0   0   0   0   0   0   0   0   0   0   0   6 165   0   0   0]\n",
      "[  0   0   0   0   0   0   0   0   0   0   0   0   2   0   0 717   6   0]\n",
      "[  0   0   0   0   0   0   0   0   0   0   0   0   0   0   0   0 692   8]\n",
      "[  0   0   0   0   0   0   0   0   0   0   0   0   0   0   1   0  15 224]\n",
      "-------------------------------------------------------------------------\n",
      "Validation F1 score : 0.9710625701408563\n",
      "model saved!\n",
      "*************************************************************************\n",
      "\n"
     ]
    },
    {
     "name": "stderr",
     "output_type": "stream",
     "text": [
      "100%|█████████▉| 505/506 [03:58<00:00,  2.26it/s]"
     ]
    },
    {
     "name": "stdout",
     "output_type": "stream",
     "text": [
      "Loss : 1.4449718377806924\n"
     ]
    },
    {
     "name": "stderr",
     "output_type": "stream",
     "text": [
      "100%|██████████| 506/506 [04:14<00:00,  4.95s/it]"
     ]
    },
    {
     "name": "stdout",
     "output_type": "stream",
     "text": [
      "< VALIDATION >\n",
      "Total Accuracy\n",
      "97.80246913580247 %\n",
      "-------------------------------------------------------------------------\n",
      "Class Accuracy\n",
      "Mask   : 99.9507874015748 %\n",
      "Gender : 99.58169291338582 %\n",
      "Age    : 98.26798993875767 %\n",
      "-------------------------------------------------------------------------\n",
      "Confusion Matrix\n",
      "[569   0   0   2   0   0   0   0   0   0   0   0   0   0   0   0   0   0]\n",
      "[  7 298   8   0   1   0   0   1   0   0   0   0   0   0   0   0   0   0]\n",
      "[  0   3 159   0   0   0   0   0   0   0   0   0   0   0   0   0   0   0]\n",
      "[  3   0   0 732   2   0   0   0   0   0   0   0   0   0   0   0   0   0]\n",
      "[  0   1   0   2 609  11   0   0   0   0   0   0   0   0   0   0   0   0]\n",
      "[  0   0   0   0   6 257   0   0   0   0   0   0   0   0   0   0   0   0]\n",
      "[  2   0   0   0   0   0 571   0   0   1   0   0   0   0   0   0   0   0]\n",
      "[  0   1   0   0   0   0   8 282   9   0   0   0   0   0   0   0   0   0]\n",
      "[  0   0   0   0   0   0   0   6 193   0   0   0   0   0   0   0   0   0]\n",
      "[  0   0   0   0   0   0   5   0   0 715   0   0   0   0   0   0   0   0]\n",
      "[  0   0   0   0   0   0   0   9   0   3 662   8   0   0   0   0   0   0]\n",
      "[  0   0   0   0   0   0   0   0   0   0   6 255   0   0   0   0   0   0]\n",
      "[  0   0   0   0   0   0   0   0   0   0   0   0 524   1   0   1   0   0]\n",
      "[  0   0   0   0   0   0   0   0   0   0   0   0   8 310  10   0   3   0]\n",
      "[  0   0   0   0   0   0   0   0   0   0   0   0   0   6 165   0   0   0]\n",
      "[  0   0   0   0   0   0   0   0   0   0   0   0   3   0   0 716   6   0]\n",
      "[  0   0   0   0   0   0   0   0   0   0   0   0   0   4   0   1 673  22]\n",
      "[  0   0   0   0   0   0   0   0   0   0   0   0   0   0   1   0   7 232]\n",
      "-------------------------------------------------------------------------\n",
      "Validation F1 score : 0.9717895359111535\n",
      "model saved!\n",
      "*************************************************************************\n",
      "\n"
     ]
    },
    {
     "name": "stderr",
     "output_type": "stream",
     "text": [
      "507it [04:14,  1.99it/s]                         "
     ]
    },
    {
     "name": "stdout",
     "output_type": "stream",
     "text": [
      "Adjusting learning rate of group 0 to 6.5536e-05.\n",
      "Epoch : 6\n"
     ]
    },
    {
     "name": "stderr",
     "output_type": "stream",
     "text": [
      "\n",
      " 50%|█████     | 253/506 [01:51<01:51,  2.27it/s]"
     ]
    },
    {
     "name": "stdout",
     "output_type": "stream",
     "text": [
      "Loss : 1.4399211082871504\n"
     ]
    },
    {
     "name": "stderr",
     "output_type": "stream",
     "text": [
      " 50%|█████     | 254/506 [02:07<20:40,  4.92s/it]"
     ]
    },
    {
     "name": "stdout",
     "output_type": "stream",
     "text": [
      "< VALIDATION >\n",
      "Total Accuracy\n",
      "98.12345679012346 %\n",
      "-------------------------------------------------------------------------\n",
      "Class Accuracy\n",
      "Mask   : 99.9015748031496 %\n",
      "Gender : 99.80314960629921 %\n",
      "Age    : 98.41562773403325 %\n",
      "-------------------------------------------------------------------------\n",
      "Confusion Matrix\n",
      "[567   0   0   2   0   0   2   0   0   0   0   0   0   0   0   0   0   0]\n",
      "[  7 300   5   0   0   0   0   3   0   0   0   0   0   0   0   0   0   0]\n",
      "[  0   5 156   0   0   0   0   0   1   0   0   0   0   0   0   0   0   0]\n",
      "[  3   0   0 732   1   0   0   0   0   1   0   0   0   0   0   0   0   0]\n",
      "[  0   0   0   5 614   4   0   0   0   0   0   0   0   0   0   0   0   0]\n",
      "[  0   0   0   0   9 254   0   0   0   0   0   0   0   0   0   0   0   0]\n",
      "[  0   0   0   0   0   0 570   3   0   1   0   0   0   0   0   0   0   0]\n",
      "[  0   1   0   0   0   0   5 287   7   0   0   0   0   0   0   0   0   0]\n",
      "[  0   0   0   0   0   0   0  11 188   0   0   0   0   0   0   0   0   0]\n",
      "[  0   0   0   0   0   0   1   0   0 719   0   0   0   0   0   0   0   0]\n",
      "[  0   0   0   0   0   0   0   0   0   1 680   1   0   0   0   0   0   0]\n",
      "[  0   0   0   0   0   0   0   0   0   0  19 242   0   0   0   0   0   0]\n",
      "[  0   0   0   0   0   0   0   0   0   0   0   0 525   0   0   1   0   0]\n",
      "[  0   0   0   0   0   0   0   0   0   0   0   0   7 312   9   0   3   0]\n",
      "[  0   0   0   0   0   0   0   0   0   0   0   0   0  10 161   0   0   0]\n",
      "[  0   0   0   0   0   0   0   0   0   0   0   0   4   0   0 719   2   0]\n",
      "[  0   0   0   0   0   0   0   0   0   0   0   0   0   0   0   3 693   4]\n",
      "[  0   0   0   0   0   0   0   0   0   0   0   0   0   0   1   0  10 229]\n",
      "-------------------------------------------------------------------------\n",
      "Validation F1 score : 0.974296193651321\n",
      "model saved!\n",
      "*************************************************************************\n",
      "\n"
     ]
    },
    {
     "name": "stderr",
     "output_type": "stream",
     "text": [
      " 63%|██████▎   | 319/506 [02:36<01:31,  2.04it/s]\n"
     ]
    },
    {
     "ename": "KeyboardInterrupt",
     "evalue": "",
     "output_type": "error",
     "traceback": [
      "\u001b[0;31m---------------------------------------------------------------------------\u001b[0m",
      "\u001b[0;31mKeyboardInterrupt\u001b[0m                         Traceback (most recent call last)",
      "\u001b[0;32m<ipython-input-9-250ce7f1a14c>\u001b[0m in \u001b[0;36m<module>\u001b[0;34m\u001b[0m\n\u001b[1;32m     39\u001b[0m         \u001b[0mloss\u001b[0m \u001b[0;34m=\u001b[0m \u001b[0;34m(\u001b[0m\u001b[0mg_loss\u001b[0m\u001b[0;34m+\u001b[0m\u001b[0ma_loss\u001b[0m\u001b[0;34m+\u001b[0m\u001b[0mm_loss\u001b[0m\u001b[0;34m)\u001b[0m\u001b[0;34m\u001b[0m\u001b[0;34m\u001b[0m\u001b[0m\n\u001b[1;32m     40\u001b[0m         \u001b[0mloss\u001b[0m\u001b[0;34m.\u001b[0m\u001b[0mbackward\u001b[0m\u001b[0;34m(\u001b[0m\u001b[0;34m)\u001b[0m\u001b[0;34m\u001b[0m\u001b[0;34m\u001b[0m\u001b[0m\n\u001b[0;32m---> 41\u001b[0;31m         \u001b[0moptimizer\u001b[0m\u001b[0;34m.\u001b[0m\u001b[0mstep\u001b[0m\u001b[0;34m(\u001b[0m\u001b[0;34m)\u001b[0m\u001b[0;34m\u001b[0m\u001b[0;34m\u001b[0m\u001b[0m\n\u001b[0m\u001b[1;32m     42\u001b[0m \u001b[0;34m\u001b[0m\u001b[0m\n\u001b[1;32m     43\u001b[0m \u001b[0;31m#         m_argmax = torch.argmax(m_pred)\u001b[0m\u001b[0;34m\u001b[0m\u001b[0;34m\u001b[0m\u001b[0;34m\u001b[0m\u001b[0m\n",
      "\u001b[0;32m/opt/conda/lib/python3.8/site-packages/torch/optim/lr_scheduler.py\u001b[0m in \u001b[0;36mwrapper\u001b[0;34m(*args, **kwargs)\u001b[0m\n\u001b[1;32m     65\u001b[0m                 \u001b[0minstance\u001b[0m\u001b[0;34m.\u001b[0m\u001b[0m_step_count\u001b[0m \u001b[0;34m+=\u001b[0m \u001b[0;36m1\u001b[0m\u001b[0;34m\u001b[0m\u001b[0;34m\u001b[0m\u001b[0m\n\u001b[1;32m     66\u001b[0m                 \u001b[0mwrapped\u001b[0m \u001b[0;34m=\u001b[0m \u001b[0mfunc\u001b[0m\u001b[0;34m.\u001b[0m\u001b[0m__get__\u001b[0m\u001b[0;34m(\u001b[0m\u001b[0minstance\u001b[0m\u001b[0;34m,\u001b[0m \u001b[0mcls\u001b[0m\u001b[0;34m)\u001b[0m\u001b[0;34m\u001b[0m\u001b[0;34m\u001b[0m\u001b[0m\n\u001b[0;32m---> 67\u001b[0;31m                 \u001b[0;32mreturn\u001b[0m \u001b[0mwrapped\u001b[0m\u001b[0;34m(\u001b[0m\u001b[0;34m*\u001b[0m\u001b[0margs\u001b[0m\u001b[0;34m,\u001b[0m \u001b[0;34m**\u001b[0m\u001b[0mkwargs\u001b[0m\u001b[0;34m)\u001b[0m\u001b[0;34m\u001b[0m\u001b[0;34m\u001b[0m\u001b[0m\n\u001b[0m\u001b[1;32m     68\u001b[0m \u001b[0;34m\u001b[0m\u001b[0m\n\u001b[1;32m     69\u001b[0m             \u001b[0;31m# Note that the returned function here is no longer a bound method,\u001b[0m\u001b[0;34m\u001b[0m\u001b[0;34m\u001b[0m\u001b[0;34m\u001b[0m\u001b[0m\n",
      "\u001b[0;32m/opt/conda/lib/python3.8/site-packages/torch/autograd/grad_mode.py\u001b[0m in \u001b[0;36mdecorate_context\u001b[0;34m(*args, **kwargs)\u001b[0m\n\u001b[1;32m     24\u001b[0m         \u001b[0;32mdef\u001b[0m \u001b[0mdecorate_context\u001b[0m\u001b[0;34m(\u001b[0m\u001b[0;34m*\u001b[0m\u001b[0margs\u001b[0m\u001b[0;34m,\u001b[0m \u001b[0;34m**\u001b[0m\u001b[0mkwargs\u001b[0m\u001b[0;34m)\u001b[0m\u001b[0;34m:\u001b[0m\u001b[0;34m\u001b[0m\u001b[0;34m\u001b[0m\u001b[0m\n\u001b[1;32m     25\u001b[0m             \u001b[0;32mwith\u001b[0m \u001b[0mself\u001b[0m\u001b[0;34m.\u001b[0m\u001b[0m__class__\u001b[0m\u001b[0;34m(\u001b[0m\u001b[0;34m)\u001b[0m\u001b[0;34m:\u001b[0m\u001b[0;34m\u001b[0m\u001b[0;34m\u001b[0m\u001b[0m\n\u001b[0;32m---> 26\u001b[0;31m                 \u001b[0;32mreturn\u001b[0m \u001b[0mfunc\u001b[0m\u001b[0;34m(\u001b[0m\u001b[0;34m*\u001b[0m\u001b[0margs\u001b[0m\u001b[0;34m,\u001b[0m \u001b[0;34m**\u001b[0m\u001b[0mkwargs\u001b[0m\u001b[0;34m)\u001b[0m\u001b[0;34m\u001b[0m\u001b[0;34m\u001b[0m\u001b[0m\n\u001b[0m\u001b[1;32m     27\u001b[0m         \u001b[0;32mreturn\u001b[0m \u001b[0mcast\u001b[0m\u001b[0;34m(\u001b[0m\u001b[0mF\u001b[0m\u001b[0;34m,\u001b[0m \u001b[0mdecorate_context\u001b[0m\u001b[0;34m)\u001b[0m\u001b[0;34m\u001b[0m\u001b[0;34m\u001b[0m\u001b[0m\n\u001b[1;32m     28\u001b[0m \u001b[0;34m\u001b[0m\u001b[0m\n",
      "\u001b[0;32m/opt/conda/lib/python3.8/site-packages/torch/optim/adamw.py\u001b[0m in \u001b[0;36mstep\u001b[0;34m(self, closure)\u001b[0m\n\u001b[1;32m     71\u001b[0m \u001b[0;34m\u001b[0m\u001b[0m\n\u001b[1;32m     72\u001b[0m                 \u001b[0;31m# Perform stepweight decay\u001b[0m\u001b[0;34m\u001b[0m\u001b[0;34m\u001b[0m\u001b[0;34m\u001b[0m\u001b[0m\n\u001b[0;32m---> 73\u001b[0;31m                 \u001b[0mp\u001b[0m\u001b[0;34m.\u001b[0m\u001b[0mmul_\u001b[0m\u001b[0;34m(\u001b[0m\u001b[0;36m1\u001b[0m \u001b[0;34m-\u001b[0m \u001b[0mgroup\u001b[0m\u001b[0;34m[\u001b[0m\u001b[0;34m'lr'\u001b[0m\u001b[0;34m]\u001b[0m \u001b[0;34m*\u001b[0m \u001b[0mgroup\u001b[0m\u001b[0;34m[\u001b[0m\u001b[0;34m'weight_decay'\u001b[0m\u001b[0;34m]\u001b[0m\u001b[0;34m)\u001b[0m\u001b[0;34m\u001b[0m\u001b[0;34m\u001b[0m\u001b[0m\n\u001b[0m\u001b[1;32m     74\u001b[0m \u001b[0;34m\u001b[0m\u001b[0m\n\u001b[1;32m     75\u001b[0m                 \u001b[0;31m# Perform optimization step\u001b[0m\u001b[0;34m\u001b[0m\u001b[0;34m\u001b[0m\u001b[0;34m\u001b[0m\u001b[0m\n",
      "\u001b[0;31mKeyboardInterrupt\u001b[0m: "
     ]
    }
   ],
   "source": [
    "for epoch in range(config['epochs']):\n",
    "    print(\"Epoch :\", epoch + 1)\n",
    "    train_running_loss = 0.0\n",
    "    train_running_correct = 0\n",
    "    counter = 0\n",
    "    total = 0\n",
    "    total_it = int(len(train_dataset)/train_loader.batch_size)\n",
    "    prog_bar = tqdm(enumerate(train_loader), total=total_it)\n",
    "    for i, (inputs, (m, g, a)) in prog_bar:\n",
    "        \n",
    "        counter += 1\n",
    "        optimizer.zero_grad()\n",
    "        inputs = inputs.to(device)\n",
    "        m_pred, g_pred, a_pred = model(inputs)\n",
    "        \n",
    "        \n",
    "        m = m.to(device)\n",
    "        g = g.to(device)\n",
    "        a = a.to(device)\n",
    "        total += m.size(0)\n",
    "        \n",
    "        \n",
    "        m_loss = criterion(m_pred, m)\n",
    "        g_loss = gender_criterion(g_pred, g)\n",
    "        a_loss = age_criterion(a_pred, a) # data imbalance\n",
    "        \n",
    "        \n",
    "        loss = (g_loss+a_loss+m_loss)\n",
    "        loss.backward()\n",
    "        optimizer.step()\n",
    "        \n",
    "        train_running_loss += loss.item()\n",
    "        \n",
    "        if i == total_it//2 or i == total_it-1:\n",
    "            train_loss = train_running_loss / counter\n",
    "\n",
    "            print(\"Loss :\", train_loss)\n",
    "            wandb.log({\"Train Loss\" : train_loss})\n",
    "            \n",
    "            check(val_loader, len(val_dataset), model, device)\n",
    "    scheduler.step()\n",
    "    train_running_loss = 0.0\n",
    "    train_running_correct = 0\n",
    "print(\"Finish\")"
   ]
  },
  {
   "cell_type": "code",
   "execution_count": 17,
   "id": "8ecf6622-e3d7-401a-84d8-82ba94f6e654",
   "metadata": {},
   "outputs": [
    {
     "data": {
      "text/plain": [
       "<All keys matched successfully>"
      ]
     },
     "execution_count": 17,
     "metadata": {},
     "output_type": "execute_result"
    }
   ],
   "source": [
    "# model.load_state_dict(torch.load('/opt/ml/weights/3way_{}.pt'.format(model.best_f1)))\n",
    "model.load_state_dict(torch.load('/opt/ml/weights/3way_test_0.739.pt'))"
   ]
  },
  {
   "cell_type": "markdown",
   "id": "continued-feelings",
   "metadata": {},
   "source": [
    "## Inference"
   ]
  },
  {
   "cell_type": "code",
   "execution_count": 18,
   "id": "coral-shade",
   "metadata": {},
   "outputs": [
    {
     "name": "stderr",
     "output_type": "stream",
     "text": [
      "  5%|▌         | 10/196 [00:01<00:28,  6.57it/s]\n"
     ]
    },
    {
     "ename": "KeyboardInterrupt",
     "evalue": "",
     "output_type": "error",
     "traceback": [
      "\u001b[0;31m---------------------------------------------------------------------------\u001b[0m",
      "\u001b[0;31mKeyboardInterrupt\u001b[0m                         Traceback (most recent call last)",
      "\u001b[0;32m<ipython-input-18-7b03eec9775c>\u001b[0m in \u001b[0;36m<module>\u001b[0;34m\u001b[0m\n\u001b[1;32m     23\u001b[0m \u001b[0;34m\u001b[0m\u001b[0m\n\u001b[1;32m     24\u001b[0m \u001b[0mprog_bar\u001b[0m \u001b[0;34m=\u001b[0m \u001b[0mtqdm\u001b[0m\u001b[0;34m(\u001b[0m\u001b[0menumerate\u001b[0m\u001b[0;34m(\u001b[0m\u001b[0mloader\u001b[0m\u001b[0;34m)\u001b[0m\u001b[0;34m,\u001b[0m \u001b[0mtotal\u001b[0m\u001b[0;34m=\u001b[0m\u001b[0mint\u001b[0m\u001b[0;34m(\u001b[0m\u001b[0mlen\u001b[0m\u001b[0;34m(\u001b[0m\u001b[0mdataset\u001b[0m\u001b[0;34m)\u001b[0m\u001b[0;34m/\u001b[0m\u001b[0mloader\u001b[0m\u001b[0;34m.\u001b[0m\u001b[0mbatch_size\u001b[0m\u001b[0;34m)\u001b[0m\u001b[0;34m)\u001b[0m\u001b[0;34m\u001b[0m\u001b[0;34m\u001b[0m\u001b[0m\n\u001b[0;32m---> 25\u001b[0;31m \u001b[0;32mfor\u001b[0m \u001b[0mi\u001b[0m\u001b[0;34m,\u001b[0m \u001b[0mimages\u001b[0m \u001b[0;32min\u001b[0m \u001b[0mprog_bar\u001b[0m\u001b[0;34m:\u001b[0m\u001b[0;34m\u001b[0m\u001b[0;34m\u001b[0m\u001b[0m\n\u001b[0m\u001b[1;32m     26\u001b[0m     \u001b[0;32mwith\u001b[0m \u001b[0mtorch\u001b[0m\u001b[0;34m.\u001b[0m\u001b[0mno_grad\u001b[0m\u001b[0;34m(\u001b[0m\u001b[0;34m)\u001b[0m\u001b[0;34m:\u001b[0m\u001b[0;34m\u001b[0m\u001b[0;34m\u001b[0m\u001b[0m\n\u001b[1;32m     27\u001b[0m         \u001b[0mimages\u001b[0m \u001b[0;34m=\u001b[0m \u001b[0mimages\u001b[0m\u001b[0;34m.\u001b[0m\u001b[0mto\u001b[0m\u001b[0;34m(\u001b[0m\u001b[0mdevice\u001b[0m\u001b[0;34m)\u001b[0m\u001b[0;34m\u001b[0m\u001b[0;34m\u001b[0m\u001b[0m\n",
      "\u001b[0;32m/opt/conda/lib/python3.8/site-packages/tqdm/std.py\u001b[0m in \u001b[0;36m__iter__\u001b[0;34m(self)\u001b[0m\n\u001b[1;32m   1169\u001b[0m \u001b[0;34m\u001b[0m\u001b[0m\n\u001b[1;32m   1170\u001b[0m         \u001b[0;32mtry\u001b[0m\u001b[0;34m:\u001b[0m\u001b[0;34m\u001b[0m\u001b[0;34m\u001b[0m\u001b[0m\n\u001b[0;32m-> 1171\u001b[0;31m             \u001b[0;32mfor\u001b[0m \u001b[0mobj\u001b[0m \u001b[0;32min\u001b[0m \u001b[0miterable\u001b[0m\u001b[0;34m:\u001b[0m\u001b[0;34m\u001b[0m\u001b[0;34m\u001b[0m\u001b[0m\n\u001b[0m\u001b[1;32m   1172\u001b[0m                 \u001b[0;32myield\u001b[0m \u001b[0mobj\u001b[0m\u001b[0;34m\u001b[0m\u001b[0;34m\u001b[0m\u001b[0m\n\u001b[1;32m   1173\u001b[0m                 \u001b[0;31m# Update and possibly print the progressbar.\u001b[0m\u001b[0;34m\u001b[0m\u001b[0;34m\u001b[0m\u001b[0;34m\u001b[0m\u001b[0m\n",
      "\u001b[0;31mKeyboardInterrupt\u001b[0m: "
     ]
    }
   ],
   "source": [
    "# meta 데이터와 이미지 경로를 불러옵니다.\n",
    "submission = pd.read_csv(os.path.join(test_dir, 'info.csv'))\n",
    "image_dir = os.path.join(test_dir, 'images')\n",
    "\n",
    "# Test Dataset 클래스 객체를 생성하고 DataLoader를 만듭니다.\n",
    "image_paths = [os.path.join(image_dir, img_id) for img_id in submission.ImageID]\n",
    "dataset = TestDataset(image_paths, tfms)\n",
    "\n",
    "loader = DataLoader(\n",
    "    dataset,\n",
    "    shuffle=False,\n",
    "    batch_size=64,\n",
    "    num_workers=4\n",
    ")\n",
    "\n",
    "# 모델을 정의합니다. (학습한 모델이 있다면 torch.load로 모델을 불러주세요!)\n",
    "# device = torch.device('cuda')\n",
    "\n",
    "model.eval()\n",
    "device = torch.device(\"cuda:0\")\n",
    "# 모델이 테스트 데이터셋을 예측하고 결과를 저장합니다.\n",
    "all_predictions = []\n",
    "\n",
    "prog_bar = tqdm(enumerate(loader), total=int(len(dataset)/loader.batch_size))\n",
    "for i, images in prog_bar:\n",
    "    with torch.no_grad():\n",
    "        images = images.to(device)\n",
    "        m_pred, g_pred, a_pred = model(images)\n",
    "#         print(images.shape)\n",
    "#         print(m_pred.shape)\n",
    "        m_argmax = m_pred.detach().cpu().numpy().argmax(1)\n",
    "        g_argmax = g_pred.detach().cpu().numpy().argmax(1)\n",
    "        a_argmax = a_pred.detach().cpu().numpy().argmax(1)\n",
    "        \n",
    "        for mask, gender, age in zip(m_argmax, g_argmax, a_argmax):\n",
    "            predicted = labels_to_class[(mask.item(), gender.item(), age.item())]\n",
    "            all_predictions.append(predicted)\n",
    "submission['ans'] = all_predictions\n",
    "\n",
    "# 제출할 파일을 저장합니다.\n",
    "submission.to_csv(os.path.join(test_dir, 'submission.csv'), index=False)\n",
    "print('test inference is done!')"
   ]
  },
  {
   "cell_type": "code",
   "execution_count": 40,
   "id": "765deb2c-f782-4e5d-ab71-b14a81868cb2",
   "metadata": {},
   "outputs": [
    {
     "name": "stdout",
     "output_type": "stream",
     "text": [
      "Normal : 99.99727010726929 %\n",
      "Female : 97.05613255500793 %\n",
      "30 ~ 60 : 83.34801197052002 %\n"
     ]
    },
    {
     "data": {
      "image/png": "[encoded data removed]",
      "text/plain": [
       "<Figure size 432x288 with 1 Axes>"
      ]
     },
     "metadata": {
      "needs_background": "light"
     },
     "output_type": "display_data"
    }
   ],
   "source": [
    "idx = 1030\n",
    "# meta 데이터와 이미지 경로를 불러옵니다.\n",
    "submission = pd.read_csv(os.path.join(test_dir, 'info.csv'))\n",
    "image_dir = os.path.join(test_dir, 'images')\n",
    "\n",
    "# Test Dataset 클래스 객체를 생성하고 DataLoader를 만듭니다.\n",
    "image_paths = [os.path.join(image_dir, img_id) for img_id in submission.ImageID]\n",
    "\n",
    "\n",
    "image = Image.open(image_paths[idx])\n",
    "plt.imshow(image)\n",
    "image = tfms(image).to(device)\n",
    "image = image.unsqueeze(0)\n",
    "m_pred, g_pred, a_pred = model(image)\n",
    "\n",
    "m_argmax = m_pred.detach().cpu().numpy().argmax(1)\n",
    "g_argmax = g_pred.detach().cpu().numpy().argmax(1)\n",
    "a_argmax = a_pred.detach().cpu().numpy().argmax(1)\n",
    "\n",
    "#\n",
    "masklabel = {0: \"Mask\", 1: \"Incorrect\", 2: \"Normal\"}\n",
    "genderlabel = {0: \"Male\", 1: \"Female\"}\n",
    "agelabel = {0: \"~ 30\", 1: \"30 ~ 60\", 2: \"60 ~\"}\n",
    "#\n",
    "print(masklabel[m_argmax[0]]+ \" :\", (m_pred[0][m_argmax].item())*100, '%')\n",
    "print(genderlabel[g_argmax[0]]+ \" :\", (g_pred[0][g_argmax].item())*100, '%')\n",
    "print(agelabel[a_argmax[0]]+ \" :\", (a_pred[0][a_argmax].item())*100, '%')\n"
   ]
  },
  {
   "cell_type": "code",
   "execution_count": null,
   "id": "869cf558-9fa6-4ac3-a563-fed1ccc0cb96",
   "metadata": {},
   "outputs": [],
   "source": []
  }
 ],
 "metadata": {
  "kernelspec": {
   "display_name": "Python 3 (ipykernel)",
   "language": "python",
   "name": "python3"
  },
  "language_info": {
   "codemirror_mode": {
    "name": "ipython",
    "version": 3
   },
   "file_extension": ".py",
   "mimetype": "text/x-python",
   "name": "python",
   "nbconvert_exporter": "python",
   "pygments_lexer": "ipython3",
   "version": "3.8.5"
  }
 },
 "nbformat": 4,
 "nbformat_minor": 5
}
